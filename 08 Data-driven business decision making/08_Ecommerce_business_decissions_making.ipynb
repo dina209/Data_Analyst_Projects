{
 "cells": [
  {
   "cell_type": "markdown",
   "metadata": {},
   "source": [
    "# Проверка гипотез для увеличения выручки интернет-магазина"
   ]
  },
  {
   "cell_type": "markdown",
   "metadata": {},
   "source": [
    "<b> Описание проекта:</b>\n",
    "\n",
    "В нашем распоряжении список гипотез для увеличения выручки. Hам нужно приоритизировать гипотезы, запустить A/B-тест и проанализировать результаты.\n",
    "\n",
    "У нас есть:\n",
    "\n",
    "файл hypothesis.csv (/datasets/hypothesis.csv) - 9 гипотез по увеличению выручки интернет-магазина с указанными параметрами Reach, Impact, Confidence, Effort.\n",
    "\n",
    "файлы orders.csv и visitors.csv  (/datasets/orders.csv,  /datasets/visitors.csv) с описанием результатов  A/B-теста\n",
    "\n",
    "<b> Цель исследования:</b>\n",
    "\n",
    "Выяснить -какая из гипотез приведет к наибольшему увеличению выручки.\n",
    "\n",
    "\n",
    "Проверим данные на ошибки и оценим их влияние на исследование. Затем, на этапе предобработки поищем возможность исправить самые критичные ошибки данных.\n",
    "\n",
    "<b>Разделим проект на несколько шагов:</b>\n",
    "\n",
    "- Предобработка данных;\n",
    "\n",
    "- Приоритизация гипотез;\n",
    "\n",
    "- Анализ A/B-теста;\n",
    "\n",
    "- Принятие решения по результатам теста."
   ]
  },
  {
   "cell_type": "markdown",
   "metadata": {},
   "source": [
    "## Загрузка данных и подготовка их к анализу"
   ]
  },
  {
   "cell_type": "code",
   "execution_count": 1,
   "metadata": {},
   "outputs": [
    {
     "name": "stderr",
     "output_type": "stream",
     "text": [
      "/tmp/ipykernel_48/3806187664.py:17: FutureWarning: Passing a negative integer is deprecated in version 1.0 and will not be supported in future version. Instead, use None to not limit the column width.\n",
      "  pd.set_option('display.max_colwidth', -1)\n"
     ]
    }
   ],
   "source": [
    "import numpy as np\n",
    "import pandas as pd\n",
    "import seaborn as sns\n",
    "from matplotlib import pyplot as plt\n",
    "from IPython.display import display\n",
    "from pandas.plotting import register_matplotlib_converters\n",
    "register_matplotlib_converters()\n",
    "\n",
    "\n",
    "import scipy.stats as stats\n",
    "import datetime as dt\n",
    "\n",
    "#столбцы и строки полностью, формат округлен\n",
    "pd.set_option('display.max_columns', None)\n",
    "#pd.options.display.float_format = '{:,.2f}'.format\n",
    "#вывод значений без сокращений\n",
    "pd.set_option('display.max_colwidth', -1)"
   ]
  },
  {
   "cell_type": "code",
   "execution_count": 2,
   "metadata": {},
   "outputs": [],
   "source": [
    "hypothesis = pd.read_csv('/datasets/hypothesis.csv')\n",
    "orders = pd.read_csv('/datasets/orders.csv')\n",
    "visitors = pd.read_csv('/datasets/visitors.csv')"
   ]
  },
  {
   "cell_type": "markdown",
   "metadata": {},
   "source": [
    "### Предобработка таблицы hypothesis - гипотезы"
   ]
  },
  {
   "cell_type": "code",
   "execution_count": 3,
   "metadata": {},
   "outputs": [],
   "source": [
    "# напишем функцию для  вывода состава столбцов\n",
    "def data_review(data):\n",
    "    display(data.head())\n",
    "    print('-----------------------------------------------------------')\n",
    "    print(data.info())\n",
    "    print('-----------------------------------------------------------')\n",
    "    print(data.describe())\n",
    "    print('-----------------------------------------------------------')\n",
    "    print(data.isna().sum())\n",
    "    print('-----------------------------------------------------------')\n",
    "    print(data.duplicated().sum())"
   ]
  },
  {
   "cell_type": "code",
   "execution_count": 4,
   "metadata": {},
   "outputs": [
    {
     "data": {
      "text/html": [
       "<div>\n",
       "<style scoped>\n",
       "    .dataframe tbody tr th:only-of-type {\n",
       "        vertical-align: middle;\n",
       "    }\n",
       "\n",
       "    .dataframe tbody tr th {\n",
       "        vertical-align: top;\n",
       "    }\n",
       "\n",
       "    .dataframe thead th {\n",
       "        text-align: right;\n",
       "    }\n",
       "</style>\n",
       "<table border=\"1\" class=\"dataframe\">\n",
       "  <thead>\n",
       "    <tr style=\"text-align: right;\">\n",
       "      <th></th>\n",
       "      <th>Hypothesis</th>\n",
       "      <th>Reach</th>\n",
       "      <th>Impact</th>\n",
       "      <th>Confidence</th>\n",
       "      <th>Efforts</th>\n",
       "    </tr>\n",
       "  </thead>\n",
       "  <tbody>\n",
       "    <tr>\n",
       "      <th>0</th>\n",
       "      <td>Добавить два новых канала привлечения трафика, что позволит привлекать на 30% больше пользователей</td>\n",
       "      <td>3</td>\n",
       "      <td>10</td>\n",
       "      <td>8</td>\n",
       "      <td>6</td>\n",
       "    </tr>\n",
       "    <tr>\n",
       "      <th>1</th>\n",
       "      <td>Запустить собственную службу доставки, что сократит срок доставки заказов</td>\n",
       "      <td>2</td>\n",
       "      <td>5</td>\n",
       "      <td>4</td>\n",
       "      <td>10</td>\n",
       "    </tr>\n",
       "    <tr>\n",
       "      <th>2</th>\n",
       "      <td>Добавить блоки рекомендаций товаров на сайт интернет магазина, чтобы повысить конверсию и средний чек заказа</td>\n",
       "      <td>8</td>\n",
       "      <td>3</td>\n",
       "      <td>7</td>\n",
       "      <td>3</td>\n",
       "    </tr>\n",
       "    <tr>\n",
       "      <th>3</th>\n",
       "      <td>Изменить структура категорий, что увеличит конверсию, т.к. пользователи быстрее найдут нужный товар</td>\n",
       "      <td>8</td>\n",
       "      <td>3</td>\n",
       "      <td>3</td>\n",
       "      <td>8</td>\n",
       "    </tr>\n",
       "    <tr>\n",
       "      <th>4</th>\n",
       "      <td>Изменить цвет фона главной страницы, чтобы увеличить вовлеченность пользователей</td>\n",
       "      <td>3</td>\n",
       "      <td>1</td>\n",
       "      <td>1</td>\n",
       "      <td>1</td>\n",
       "    </tr>\n",
       "  </tbody>\n",
       "</table>\n",
       "</div>"
      ],
      "text/plain": [
       "                                                                                                     Hypothesis  \\\n",
       "0  Добавить два новых канала привлечения трафика, что позволит привлекать на 30% больше пользователей             \n",
       "1  Запустить собственную службу доставки, что сократит срок доставки заказов                                      \n",
       "2  Добавить блоки рекомендаций товаров на сайт интернет магазина, чтобы повысить конверсию и средний чек заказа   \n",
       "3  Изменить структура категорий, что увеличит конверсию, т.к. пользователи быстрее найдут нужный товар            \n",
       "4  Изменить цвет фона главной страницы, чтобы увеличить вовлеченность пользователей                               \n",
       "\n",
       "   Reach  Impact  Confidence  Efforts  \n",
       "0  3      10      8           6        \n",
       "1  2      5       4           10       \n",
       "2  8      3       7           3        \n",
       "3  8      3       3           8        \n",
       "4  3      1       1           1        "
      ]
     },
     "metadata": {},
     "output_type": "display_data"
    },
    {
     "name": "stdout",
     "output_type": "stream",
     "text": [
      "-----------------------------------------------------------\n",
      "<class 'pandas.core.frame.DataFrame'>\n",
      "RangeIndex: 9 entries, 0 to 8\n",
      "Data columns (total 5 columns):\n",
      " #   Column      Non-Null Count  Dtype \n",
      "---  ------      --------------  ----- \n",
      " 0   Hypothesis  9 non-null      object\n",
      " 1   Reach       9 non-null      int64 \n",
      " 2   Impact      9 non-null      int64 \n",
      " 3   Confidence  9 non-null      int64 \n",
      " 4   Efforts     9 non-null      int64 \n",
      "dtypes: int64(4), object(1)\n",
      "memory usage: 488.0+ bytes\n",
      "None\n",
      "-----------------------------------------------------------\n",
      "           Reach     Impact  Confidence    Efforts\n",
      "count  9.000000   9.000000   9.000000    9.000000 \n",
      "mean   4.777778   4.777778   5.555556    4.888889 \n",
      "std    3.153481   3.192874   3.045944    2.803767 \n",
      "min    1.000000   1.000000   1.000000    1.000000 \n",
      "25%    3.000000   3.000000   3.000000    3.000000 \n",
      "50%    3.000000   3.000000   7.000000    5.000000 \n",
      "75%    8.000000   7.000000   8.000000    6.000000 \n",
      "max    10.000000  10.000000  9.000000    10.000000\n",
      "-----------------------------------------------------------\n",
      "Hypothesis    0\n",
      "Reach         0\n",
      "Impact        0\n",
      "Confidence    0\n",
      "Efforts       0\n",
      "dtype: int64\n",
      "-----------------------------------------------------------\n",
      "0\n"
     ]
    }
   ],
   "source": [
    "data_review(hypothesis)\n"
   ]
  },
  {
   "cell_type": "markdown",
   "metadata": {},
   "source": [
    "*С данными все в порядке, типы правильные, дубликатов нет - таблица готова к анализу.*\n"
   ]
  },
  {
   "cell_type": "markdown",
   "metadata": {},
   "source": [
    "### Предобработка таблицы orders - заказы"
   ]
  },
  {
   "cell_type": "code",
   "execution_count": 5,
   "metadata": {},
   "outputs": [
    {
     "data": {
      "text/html": [
       "<div>\n",
       "<style scoped>\n",
       "    .dataframe tbody tr th:only-of-type {\n",
       "        vertical-align: middle;\n",
       "    }\n",
       "\n",
       "    .dataframe tbody tr th {\n",
       "        vertical-align: top;\n",
       "    }\n",
       "\n",
       "    .dataframe thead th {\n",
       "        text-align: right;\n",
       "    }\n",
       "</style>\n",
       "<table border=\"1\" class=\"dataframe\">\n",
       "  <thead>\n",
       "    <tr style=\"text-align: right;\">\n",
       "      <th></th>\n",
       "      <th>transactionId</th>\n",
       "      <th>visitorId</th>\n",
       "      <th>date</th>\n",
       "      <th>revenue</th>\n",
       "      <th>group</th>\n",
       "    </tr>\n",
       "  </thead>\n",
       "  <tbody>\n",
       "    <tr>\n",
       "      <th>0</th>\n",
       "      <td>3667963787</td>\n",
       "      <td>3312258926</td>\n",
       "      <td>2019-08-15</td>\n",
       "      <td>1650</td>\n",
       "      <td>B</td>\n",
       "    </tr>\n",
       "    <tr>\n",
       "      <th>1</th>\n",
       "      <td>2804400009</td>\n",
       "      <td>3642806036</td>\n",
       "      <td>2019-08-15</td>\n",
       "      <td>730</td>\n",
       "      <td>B</td>\n",
       "    </tr>\n",
       "    <tr>\n",
       "      <th>2</th>\n",
       "      <td>2961555356</td>\n",
       "      <td>4069496402</td>\n",
       "      <td>2019-08-15</td>\n",
       "      <td>400</td>\n",
       "      <td>A</td>\n",
       "    </tr>\n",
       "    <tr>\n",
       "      <th>3</th>\n",
       "      <td>3797467345</td>\n",
       "      <td>1196621759</td>\n",
       "      <td>2019-08-15</td>\n",
       "      <td>9759</td>\n",
       "      <td>B</td>\n",
       "    </tr>\n",
       "    <tr>\n",
       "      <th>4</th>\n",
       "      <td>2282983706</td>\n",
       "      <td>2322279887</td>\n",
       "      <td>2019-08-15</td>\n",
       "      <td>2308</td>\n",
       "      <td>B</td>\n",
       "    </tr>\n",
       "  </tbody>\n",
       "</table>\n",
       "</div>"
      ],
      "text/plain": [
       "   transactionId   visitorId        date  revenue group\n",
       "0  3667963787     3312258926  2019-08-15  1650     B   \n",
       "1  2804400009     3642806036  2019-08-15  730      B   \n",
       "2  2961555356     4069496402  2019-08-15  400      A   \n",
       "3  3797467345     1196621759  2019-08-15  9759     B   \n",
       "4  2282983706     2322279887  2019-08-15  2308     B   "
      ]
     },
     "metadata": {},
     "output_type": "display_data"
    },
    {
     "name": "stdout",
     "output_type": "stream",
     "text": [
      "-----------------------------------------------------------\n",
      "<class 'pandas.core.frame.DataFrame'>\n",
      "RangeIndex: 1197 entries, 0 to 1196\n",
      "Data columns (total 5 columns):\n",
      " #   Column         Non-Null Count  Dtype \n",
      "---  ------         --------------  ----- \n",
      " 0   transactionId  1197 non-null   int64 \n",
      " 1   visitorId      1197 non-null   int64 \n",
      " 2   date           1197 non-null   object\n",
      " 3   revenue        1197 non-null   int64 \n",
      " 4   group          1197 non-null   object\n",
      "dtypes: int64(3), object(2)\n",
      "memory usage: 46.9+ KB\n",
      "None\n",
      "-----------------------------------------------------------\n",
      "       transactionId     visitorId       revenue\n",
      "count  1.197000e+03   1.197000e+03  1.197000e+03\n",
      "mean   2.155621e+09   2.165960e+09  8.348006e+03\n",
      "std    1.229085e+09   1.236014e+09  3.919113e+04\n",
      "min    1.062393e+06   5.114589e+06  5.000000e+01\n",
      "25%    1.166776e+09   1.111826e+09  1.220000e+03\n",
      "50%    2.145194e+09   2.217985e+09  2.978000e+03\n",
      "75%    3.237740e+09   3.177606e+09  8.290000e+03\n",
      "max    4.293856e+09   4.283872e+09  1.294500e+06\n",
      "-----------------------------------------------------------\n",
      "transactionId    0\n",
      "visitorId        0\n",
      "date             0\n",
      "revenue          0\n",
      "group            0\n",
      "dtype: int64\n",
      "-----------------------------------------------------------\n",
      "0\n"
     ]
    }
   ],
   "source": [
    "data_review(orders)\n"
   ]
  },
  {
   "cell_type": "code",
   "execution_count": 6,
   "metadata": {},
   "outputs": [],
   "source": [
    "# Tип столбца \"date\" поменяем на datetime\n",
    "\n",
    "orders[\"date\"] = orders[\"date\"].map(lambda x: dt.datetime.strptime(x, '%Y-%m-%d'))\n"
   ]
  },
  {
   "cell_type": "markdown",
   "metadata": {},
   "source": [
    "*С данными все в порядке, типы правильные, дубликатов нет - таблица готова к анализу.\n",
    "Поменяли только тип столбца \"date\" на datetime.*\n"
   ]
  },
  {
   "cell_type": "markdown",
   "metadata": {},
   "source": [
    "### Предобработка таблицы visitors - посетители"
   ]
  },
  {
   "cell_type": "code",
   "execution_count": 7,
   "metadata": {},
   "outputs": [
    {
     "data": {
      "text/html": [
       "<div>\n",
       "<style scoped>\n",
       "    .dataframe tbody tr th:only-of-type {\n",
       "        vertical-align: middle;\n",
       "    }\n",
       "\n",
       "    .dataframe tbody tr th {\n",
       "        vertical-align: top;\n",
       "    }\n",
       "\n",
       "    .dataframe thead th {\n",
       "        text-align: right;\n",
       "    }\n",
       "</style>\n",
       "<table border=\"1\" class=\"dataframe\">\n",
       "  <thead>\n",
       "    <tr style=\"text-align: right;\">\n",
       "      <th></th>\n",
       "      <th>date</th>\n",
       "      <th>group</th>\n",
       "      <th>visitors</th>\n",
       "    </tr>\n",
       "  </thead>\n",
       "  <tbody>\n",
       "    <tr>\n",
       "      <th>0</th>\n",
       "      <td>2019-08-01</td>\n",
       "      <td>A</td>\n",
       "      <td>719</td>\n",
       "    </tr>\n",
       "    <tr>\n",
       "      <th>1</th>\n",
       "      <td>2019-08-02</td>\n",
       "      <td>A</td>\n",
       "      <td>619</td>\n",
       "    </tr>\n",
       "    <tr>\n",
       "      <th>2</th>\n",
       "      <td>2019-08-03</td>\n",
       "      <td>A</td>\n",
       "      <td>507</td>\n",
       "    </tr>\n",
       "    <tr>\n",
       "      <th>3</th>\n",
       "      <td>2019-08-04</td>\n",
       "      <td>A</td>\n",
       "      <td>717</td>\n",
       "    </tr>\n",
       "    <tr>\n",
       "      <th>4</th>\n",
       "      <td>2019-08-05</td>\n",
       "      <td>A</td>\n",
       "      <td>756</td>\n",
       "    </tr>\n",
       "  </tbody>\n",
       "</table>\n",
       "</div>"
      ],
      "text/plain": [
       "         date group  visitors\n",
       "0  2019-08-01  A     719     \n",
       "1  2019-08-02  A     619     \n",
       "2  2019-08-03  A     507     \n",
       "3  2019-08-04  A     717     \n",
       "4  2019-08-05  A     756     "
      ]
     },
     "metadata": {},
     "output_type": "display_data"
    },
    {
     "name": "stdout",
     "output_type": "stream",
     "text": [
      "-----------------------------------------------------------\n",
      "<class 'pandas.core.frame.DataFrame'>\n",
      "RangeIndex: 62 entries, 0 to 61\n",
      "Data columns (total 3 columns):\n",
      " #   Column    Non-Null Count  Dtype \n",
      "---  ------    --------------  ----- \n",
      " 0   date      62 non-null     object\n",
      " 1   group     62 non-null     object\n",
      " 2   visitors  62 non-null     int64 \n",
      "dtypes: int64(1), object(2)\n",
      "memory usage: 1.6+ KB\n",
      "None\n",
      "-----------------------------------------------------------\n",
      "         visitors\n",
      "count  62.000000 \n",
      "mean   607.290323\n",
      "std    114.400560\n",
      "min    361.000000\n",
      "25%    534.000000\n",
      "50%    624.500000\n",
      "75%    710.500000\n",
      "max    770.000000\n",
      "-----------------------------------------------------------\n",
      "date        0\n",
      "group       0\n",
      "visitors    0\n",
      "dtype: int64\n",
      "-----------------------------------------------------------\n",
      "0\n"
     ]
    }
   ],
   "source": [
    "data_review(visitors)\n"
   ]
  },
  {
   "cell_type": "code",
   "execution_count": 8,
   "metadata": {},
   "outputs": [],
   "source": [
    "# Поменяем тип столбца \"visitors\" на datetime\n",
    "visitors['date'] = pd.to_datetime(visitors['date'])\n"
   ]
  },
  {
   "cell_type": "code",
   "execution_count": 9,
   "metadata": {},
   "outputs": [
    {
     "name": "stderr",
     "output_type": "stream",
     "text": [
      "/tmp/ipykernel_48/1137561735.py:1: FutureWarning: Treating datetime data as categorical rather than numeric in `.describe` is deprecated and will be removed in a future version of pandas. Specify `datetime_is_numeric=True` to silence this warning and adopt the future behavior now.\n",
      "  visitors[\"date\"].describe()\n"
     ]
    },
    {
     "data": {
      "text/plain": [
       "count     62                 \n",
       "unique    31                 \n",
       "top       2019-08-27 00:00:00\n",
       "freq      2                  \n",
       "first     2019-08-01 00:00:00\n",
       "last      2019-08-31 00:00:00\n",
       "Name: date, dtype: object"
      ]
     },
     "execution_count": 9,
     "metadata": {},
     "output_type": "execute_result"
    }
   ],
   "source": [
    "visitors[\"date\"].describe()\n"
   ]
  },
  {
   "cell_type": "code",
   "execution_count": 10,
   "metadata": {},
   "outputs": [],
   "source": [
    "# создадим список с датасетами\n",
    "all_data = [hypothesis, orders, visitors]\n",
    "\n",
    "# Приведем названия столбцов к нижнему регистру и заменим пробелы нижним подчеркиванием\n",
    "for data in all_data:\n",
    "    data.columns = [x.lower().replace(' ', '_') for x in data.columns.values]"
   ]
  },
  {
   "cell_type": "code",
   "execution_count": 11,
   "metadata": {},
   "outputs": [],
   "source": [
    "orders = orders.rename(columns={'transactionid': 'transaction_id', 'visitorid': 'visitor_id'}) \n"
   ]
  },
  {
   "cell_type": "code",
   "execution_count": 12,
   "metadata": {
    "scrolled": false
   },
   "outputs": [
    {
     "data": {
      "text/html": [
       "<div>\n",
       "<style scoped>\n",
       "    .dataframe tbody tr th:only-of-type {\n",
       "        vertical-align: middle;\n",
       "    }\n",
       "\n",
       "    .dataframe tbody tr th {\n",
       "        vertical-align: top;\n",
       "    }\n",
       "\n",
       "    .dataframe thead th {\n",
       "        text-align: right;\n",
       "    }\n",
       "</style>\n",
       "<table border=\"1\" class=\"dataframe\">\n",
       "  <thead>\n",
       "    <tr style=\"text-align: right;\">\n",
       "      <th></th>\n",
       "      <th>hypothesis</th>\n",
       "      <th>reach</th>\n",
       "      <th>impact</th>\n",
       "      <th>confidence</th>\n",
       "      <th>efforts</th>\n",
       "    </tr>\n",
       "  </thead>\n",
       "  <tbody>\n",
       "    <tr>\n",
       "      <th>1</th>\n",
       "      <td>Запустить собственную службу доставки, что сократит срок доставки заказов</td>\n",
       "      <td>2</td>\n",
       "      <td>5</td>\n",
       "      <td>4</td>\n",
       "      <td>10</td>\n",
       "    </tr>\n",
       "    <tr>\n",
       "      <th>2</th>\n",
       "      <td>Добавить блоки рекомендаций товаров на сайт интернет магазина, чтобы повысить конверсию и средний чек заказа</td>\n",
       "      <td>8</td>\n",
       "      <td>3</td>\n",
       "      <td>7</td>\n",
       "      <td>3</td>\n",
       "    </tr>\n",
       "    <tr>\n",
       "      <th>8</th>\n",
       "      <td>Запустить акцию, дающую скидку на товар в день рождения</td>\n",
       "      <td>1</td>\n",
       "      <td>9</td>\n",
       "      <td>9</td>\n",
       "      <td>5</td>\n",
       "    </tr>\n",
       "    <tr>\n",
       "      <th>0</th>\n",
       "      <td>Добавить два новых канала привлечения трафика, что позволит привлекать на 30% больше пользователей</td>\n",
       "      <td>3</td>\n",
       "      <td>10</td>\n",
       "      <td>8</td>\n",
       "      <td>6</td>\n",
       "    </tr>\n",
       "    <tr>\n",
       "      <th>4</th>\n",
       "      <td>Изменить цвет фона главной страницы, чтобы увеличить вовлеченность пользователей</td>\n",
       "      <td>3</td>\n",
       "      <td>1</td>\n",
       "      <td>1</td>\n",
       "      <td>1</td>\n",
       "    </tr>\n",
       "  </tbody>\n",
       "</table>\n",
       "</div>"
      ],
      "text/plain": [
       "                                                                                                     hypothesis  \\\n",
       "1  Запустить собственную службу доставки, что сократит срок доставки заказов                                      \n",
       "2  Добавить блоки рекомендаций товаров на сайт интернет магазина, чтобы повысить конверсию и средний чек заказа   \n",
       "8  Запустить акцию, дающую скидку на товар в день рождения                                                        \n",
       "0  Добавить два новых канала привлечения трафика, что позволит привлекать на 30% больше пользователей             \n",
       "4  Изменить цвет фона главной страницы, чтобы увеличить вовлеченность пользователей                               \n",
       "\n",
       "   reach  impact  confidence  efforts  \n",
       "1  2      5       4           10       \n",
       "2  8      3       7           3        \n",
       "8  1      9       9           5        \n",
       "0  3      10      8           6        \n",
       "4  3      1       1           1        "
      ]
     },
     "metadata": {},
     "output_type": "display_data"
    },
    {
     "data": {
      "text/html": [
       "<div>\n",
       "<style scoped>\n",
       "    .dataframe tbody tr th:only-of-type {\n",
       "        vertical-align: middle;\n",
       "    }\n",
       "\n",
       "    .dataframe tbody tr th {\n",
       "        vertical-align: top;\n",
       "    }\n",
       "\n",
       "    .dataframe thead th {\n",
       "        text-align: right;\n",
       "    }\n",
       "</style>\n",
       "<table border=\"1\" class=\"dataframe\">\n",
       "  <thead>\n",
       "    <tr style=\"text-align: right;\">\n",
       "      <th></th>\n",
       "      <th>transaction_id</th>\n",
       "      <th>visitor_id</th>\n",
       "      <th>date</th>\n",
       "      <th>revenue</th>\n",
       "      <th>group</th>\n",
       "    </tr>\n",
       "  </thead>\n",
       "  <tbody>\n",
       "    <tr>\n",
       "      <th>319</th>\n",
       "      <td>2414788465</td>\n",
       "      <td>2247745159</td>\n",
       "      <td>2019-08-19</td>\n",
       "      <td>1435</td>\n",
       "      <td>B</td>\n",
       "    </tr>\n",
       "    <tr>\n",
       "      <th>1188</th>\n",
       "      <td>1692103379</td>\n",
       "      <td>1022829655</td>\n",
       "      <td>2019-08-14</td>\n",
       "      <td>112</td>\n",
       "      <td>A</td>\n",
       "    </tr>\n",
       "    <tr>\n",
       "      <th>1046</th>\n",
       "      <td>3533389249</td>\n",
       "      <td>410113592</td>\n",
       "      <td>2019-08-11</td>\n",
       "      <td>1799</td>\n",
       "      <td>B</td>\n",
       "    </tr>\n",
       "    <tr>\n",
       "      <th>1019</th>\n",
       "      <td>453824282</td>\n",
       "      <td>4256040402</td>\n",
       "      <td>2019-08-31</td>\n",
       "      <td>1850</td>\n",
       "      <td>B</td>\n",
       "    </tr>\n",
       "    <tr>\n",
       "      <th>961</th>\n",
       "      <td>401622769</td>\n",
       "      <td>635956745</td>\n",
       "      <td>2019-08-10</td>\n",
       "      <td>11250</td>\n",
       "      <td>A</td>\n",
       "    </tr>\n",
       "  </tbody>\n",
       "</table>\n",
       "</div>"
      ],
      "text/plain": [
       "      transaction_id  visitor_id       date  revenue group\n",
       "319   2414788465      2247745159 2019-08-19  1435     B   \n",
       "1188  1692103379      1022829655 2019-08-14  112      A   \n",
       "1046  3533389249      410113592  2019-08-11  1799     B   \n",
       "1019  453824282       4256040402 2019-08-31  1850     B   \n",
       "961   401622769       635956745  2019-08-10  11250    A   "
      ]
     },
     "metadata": {},
     "output_type": "display_data"
    },
    {
     "data": {
      "text/html": [
       "<div>\n",
       "<style scoped>\n",
       "    .dataframe tbody tr th:only-of-type {\n",
       "        vertical-align: middle;\n",
       "    }\n",
       "\n",
       "    .dataframe tbody tr th {\n",
       "        vertical-align: top;\n",
       "    }\n",
       "\n",
       "    .dataframe thead th {\n",
       "        text-align: right;\n",
       "    }\n",
       "</style>\n",
       "<table border=\"1\" class=\"dataframe\">\n",
       "  <thead>\n",
       "    <tr style=\"text-align: right;\">\n",
       "      <th></th>\n",
       "      <th>date</th>\n",
       "      <th>group</th>\n",
       "      <th>visitors</th>\n",
       "    </tr>\n",
       "  </thead>\n",
       "  <tbody>\n",
       "    <tr>\n",
       "      <th>29</th>\n",
       "      <td>2019-08-30</td>\n",
       "      <td>A</td>\n",
       "      <td>490</td>\n",
       "    </tr>\n",
       "    <tr>\n",
       "      <th>31</th>\n",
       "      <td>2019-08-01</td>\n",
       "      <td>B</td>\n",
       "      <td>713</td>\n",
       "    </tr>\n",
       "    <tr>\n",
       "      <th>37</th>\n",
       "      <td>2019-08-07</td>\n",
       "      <td>B</td>\n",
       "      <td>709</td>\n",
       "    </tr>\n",
       "    <tr>\n",
       "      <th>1</th>\n",
       "      <td>2019-08-02</td>\n",
       "      <td>A</td>\n",
       "      <td>619</td>\n",
       "    </tr>\n",
       "    <tr>\n",
       "      <th>44</th>\n",
       "      <td>2019-08-14</td>\n",
       "      <td>B</td>\n",
       "      <td>746</td>\n",
       "    </tr>\n",
       "  </tbody>\n",
       "</table>\n",
       "</div>"
      ],
      "text/plain": [
       "         date group  visitors\n",
       "29 2019-08-30  A     490     \n",
       "31 2019-08-01  B     713     \n",
       "37 2019-08-07  B     709     \n",
       "1  2019-08-02  A     619     \n",
       "44 2019-08-14  B     746     "
      ]
     },
     "metadata": {},
     "output_type": "display_data"
    }
   ],
   "source": [
    "# выведем 5 случайных строк\n",
    "display(hypothesis.sample(5))\n",
    "display(orders.sample(5))\n",
    "display(visitors.sample(5))\n"
   ]
  },
  {
   "cell_type": "markdown",
   "metadata": {},
   "source": [
    "Вывод: Hазвания столбцов поменяли и привели их к нижнему регистру. Изменили типы данныx в столбцах, содержащих информацию о дате и времени.*"
   ]
  },
  {
   "cell_type": "markdown",
   "metadata": {},
   "source": [
    "## Приоритизация гипотез"
   ]
  },
  {
   "cell_type": "markdown",
   "metadata": {},
   "source": [
    "Для принятия решения о приоритетной для анализа гипотезе применим фреймворки ICE и RICE. Отсортируем их по убыванию приоритета."
   ]
  },
  {
   "cell_type": "code",
   "execution_count": 13,
   "metadata": {
    "scrolled": true
   },
   "outputs": [
    {
     "data": {
      "text/html": [
       "<div>\n",
       "<style scoped>\n",
       "    .dataframe tbody tr th:only-of-type {\n",
       "        vertical-align: middle;\n",
       "    }\n",
       "\n",
       "    .dataframe tbody tr th {\n",
       "        vertical-align: top;\n",
       "    }\n",
       "\n",
       "    .dataframe thead th {\n",
       "        text-align: right;\n",
       "    }\n",
       "</style>\n",
       "<table border=\"1\" class=\"dataframe\">\n",
       "  <thead>\n",
       "    <tr style=\"text-align: right;\">\n",
       "      <th></th>\n",
       "      <th>hypothesis</th>\n",
       "      <th>ice</th>\n",
       "    </tr>\n",
       "  </thead>\n",
       "  <tbody>\n",
       "    <tr>\n",
       "      <th>8</th>\n",
       "      <td>Запустить акцию, дающую скидку на товар в день рождения</td>\n",
       "      <td>16.200</td>\n",
       "    </tr>\n",
       "    <tr>\n",
       "      <th>0</th>\n",
       "      <td>Добавить два новых канала привлечения трафика, что позволит привлекать на 30% больше пользователей</td>\n",
       "      <td>13.333</td>\n",
       "    </tr>\n",
       "    <tr>\n",
       "      <th>7</th>\n",
       "      <td>Добавить форму подписки на все основные страницы, чтобы собрать базу клиентов для email-рассылок</td>\n",
       "      <td>11.200</td>\n",
       "    </tr>\n",
       "    <tr>\n",
       "      <th>6</th>\n",
       "      <td>Показать на главной странице баннеры с актуальными акциями и распродажами, чтобы увеличить конверсию</td>\n",
       "      <td>8.000</td>\n",
       "    </tr>\n",
       "    <tr>\n",
       "      <th>2</th>\n",
       "      <td>Добавить блоки рекомендаций товаров на сайт интернет магазина, чтобы повысить конверсию и средний чек заказа</td>\n",
       "      <td>7.000</td>\n",
       "    </tr>\n",
       "    <tr>\n",
       "      <th>1</th>\n",
       "      <td>Запустить собственную службу доставки, что сократит срок доставки заказов</td>\n",
       "      <td>2.000</td>\n",
       "    </tr>\n",
       "    <tr>\n",
       "      <th>5</th>\n",
       "      <td>Добавить страницу отзывов клиентов о магазине, что позволит увеличить количество заказов</td>\n",
       "      <td>1.333</td>\n",
       "    </tr>\n",
       "    <tr>\n",
       "      <th>3</th>\n",
       "      <td>Изменить структура категорий, что увеличит конверсию, т.к. пользователи быстрее найдут нужный товар</td>\n",
       "      <td>1.125</td>\n",
       "    </tr>\n",
       "    <tr>\n",
       "      <th>4</th>\n",
       "      <td>Изменить цвет фона главной страницы, чтобы увеличить вовлеченность пользователей</td>\n",
       "      <td>1.000</td>\n",
       "    </tr>\n",
       "  </tbody>\n",
       "</table>\n",
       "</div>"
      ],
      "text/plain": [
       "                                                                                                     hypothesis  \\\n",
       "8  Запустить акцию, дающую скидку на товар в день рождения                                                        \n",
       "0  Добавить два новых канала привлечения трафика, что позволит привлекать на 30% больше пользователей             \n",
       "7  Добавить форму подписки на все основные страницы, чтобы собрать базу клиентов для email-рассылок               \n",
       "6  Показать на главной странице баннеры с актуальными акциями и распродажами, чтобы увеличить конверсию           \n",
       "2  Добавить блоки рекомендаций товаров на сайт интернет магазина, чтобы повысить конверсию и средний чек заказа   \n",
       "1  Запустить собственную службу доставки, что сократит срок доставки заказов                                      \n",
       "5  Добавить страницу отзывов клиентов о магазине, что позволит увеличить количество заказов                       \n",
       "3  Изменить структура категорий, что увеличит конверсию, т.к. пользователи быстрее найдут нужный товар            \n",
       "4  Изменить цвет фона главной страницы, чтобы увеличить вовлеченность пользователей                               \n",
       "\n",
       "      ice  \n",
       "8  16.200  \n",
       "0  13.333  \n",
       "7  11.200  \n",
       "6  8.000   \n",
       "2  7.000   \n",
       "1  2.000   \n",
       "5  1.333   \n",
       "3  1.125   \n",
       "4  1.000   "
      ]
     },
     "metadata": {},
     "output_type": "display_data"
    }
   ],
   "source": [
    "# создаем новый столбец ice и отсортируем по убыванию приоритета\n",
    "hypothesis['ice'] = round((hypothesis['impact'] * hypothesis['confidence'])/hypothesis['efforts'], 3)\n",
    "display(hypothesis[['hypothesis', 'ice']].sort_values(by='ice', ascending=False))\n"
   ]
  },
  {
   "cell_type": "code",
   "execution_count": 14,
   "metadata": {},
   "outputs": [
    {
     "data": {
      "text/html": [
       "<div>\n",
       "<style scoped>\n",
       "    .dataframe tbody tr th:only-of-type {\n",
       "        vertical-align: middle;\n",
       "    }\n",
       "\n",
       "    .dataframe tbody tr th {\n",
       "        vertical-align: top;\n",
       "    }\n",
       "\n",
       "    .dataframe thead th {\n",
       "        text-align: right;\n",
       "    }\n",
       "</style>\n",
       "<table border=\"1\" class=\"dataframe\">\n",
       "  <thead>\n",
       "    <tr style=\"text-align: right;\">\n",
       "      <th></th>\n",
       "      <th>hypothesis</th>\n",
       "      <th>rice</th>\n",
       "    </tr>\n",
       "  </thead>\n",
       "  <tbody>\n",
       "    <tr>\n",
       "      <th>7</th>\n",
       "      <td>Добавить форму подписки на все основные страницы, чтобы собрать базу клиентов для email-рассылок</td>\n",
       "      <td>112.0</td>\n",
       "    </tr>\n",
       "    <tr>\n",
       "      <th>2</th>\n",
       "      <td>Добавить блоки рекомендаций товаров на сайт интернет магазина, чтобы повысить конверсию и средний чек заказа</td>\n",
       "      <td>56.0</td>\n",
       "    </tr>\n",
       "    <tr>\n",
       "      <th>0</th>\n",
       "      <td>Добавить два новых канала привлечения трафика, что позволит привлекать на 30% больше пользователей</td>\n",
       "      <td>40.0</td>\n",
       "    </tr>\n",
       "    <tr>\n",
       "      <th>6</th>\n",
       "      <td>Показать на главной странице баннеры с актуальными акциями и распродажами, чтобы увеличить конверсию</td>\n",
       "      <td>40.0</td>\n",
       "    </tr>\n",
       "    <tr>\n",
       "      <th>8</th>\n",
       "      <td>Запустить акцию, дающую скидку на товар в день рождения</td>\n",
       "      <td>16.2</td>\n",
       "    </tr>\n",
       "    <tr>\n",
       "      <th>3</th>\n",
       "      <td>Изменить структура категорий, что увеличит конверсию, т.к. пользователи быстрее найдут нужный товар</td>\n",
       "      <td>9.0</td>\n",
       "    </tr>\n",
       "    <tr>\n",
       "      <th>1</th>\n",
       "      <td>Запустить собственную службу доставки, что сократит срок доставки заказов</td>\n",
       "      <td>4.0</td>\n",
       "    </tr>\n",
       "    <tr>\n",
       "      <th>5</th>\n",
       "      <td>Добавить страницу отзывов клиентов о магазине, что позволит увеличить количество заказов</td>\n",
       "      <td>4.0</td>\n",
       "    </tr>\n",
       "    <tr>\n",
       "      <th>4</th>\n",
       "      <td>Изменить цвет фона главной страницы, чтобы увеличить вовлеченность пользователей</td>\n",
       "      <td>3.0</td>\n",
       "    </tr>\n",
       "  </tbody>\n",
       "</table>\n",
       "</div>"
      ],
      "text/plain": [
       "                                                                                                     hypothesis  \\\n",
       "7  Добавить форму подписки на все основные страницы, чтобы собрать базу клиентов для email-рассылок               \n",
       "2  Добавить блоки рекомендаций товаров на сайт интернет магазина, чтобы повысить конверсию и средний чек заказа   \n",
       "0  Добавить два новых канала привлечения трафика, что позволит привлекать на 30% больше пользователей             \n",
       "6  Показать на главной странице баннеры с актуальными акциями и распродажами, чтобы увеличить конверсию           \n",
       "8  Запустить акцию, дающую скидку на товар в день рождения                                                        \n",
       "3  Изменить структура категорий, что увеличит конверсию, т.к. пользователи быстрее найдут нужный товар            \n",
       "1  Запустить собственную службу доставки, что сократит срок доставки заказов                                      \n",
       "5  Добавить страницу отзывов клиентов о магазине, что позволит увеличить количество заказов                       \n",
       "4  Изменить цвет фона главной страницы, чтобы увеличить вовлеченность пользователей                               \n",
       "\n",
       "    rice  \n",
       "7  112.0  \n",
       "2  56.0   \n",
       "0  40.0   \n",
       "6  40.0   \n",
       "8  16.2   \n",
       "3  9.0    \n",
       "1  4.0    \n",
       "5  4.0    \n",
       "4  3.0    "
      ]
     },
     "metadata": {},
     "output_type": "display_data"
    }
   ],
   "source": [
    "# создаем новый столбец rice и отсортируем по убыванию приоритета\n",
    "hypothesis['rice'] = round((hypothesis['reach'] * hypothesis['impact'] * hypothesis['confidence'])/hypothesis['efforts'], 3)\n",
    "display(hypothesis[['hypothesis', 'rice']].sort_values(by='rice', ascending=False))"
   ]
  },
  {
   "cell_type": "markdown",
   "metadata": {},
   "source": [
    "*Hаиболее приоритетные гипотезы по ICE:*\n",
    "\n",
    "8-  Запустить акцию, дающую скидку на товар в день рождения\n",
    "\n",
    "0-  Добавить два новых канала привлечения трафика, что позволит привлекать на 30% больше пользователей\n",
    "\n",
    "7-  Добавить форму подписки на все основные страницы, чтобы собрать базу клиентов для email-рассылок"
   ]
  },
  {
   "cell_type": "markdown",
   "metadata": {},
   "source": [
    "*Hаиболее приоритетные гипотезы по RICE:*\n",
    "\n",
    "7- Добавить форму подписки на все основные страницы, чтобы собрать базу клиентов для email-рассылок\n",
    "\n",
    "2-Добавить блоки рекомендаций товаров на сайт интернет магазина, чтобы повысить конверсию и средний чек заказа\n",
    "\n",
    "0- Добавить два новых канала привлечения трафика, что позволит привлекать на 30% больше пользователей\n",
    "\n",
    "Здесь мы можем наглядно yвидеть разницу в результатах таблиц, первая тройка меняется cлeдующим образом: в ICE это гипотезы под номерами 8, 0, 7 , то в RICE - 7(была на 3 меcте), 2(былa на 5), 0(была на 2). Это отличие возникает из-за параметра Reach в RICE. Поэтому предложим для тестирования:\n",
    "\n",
    "\n",
    "7 - Добавить форму подписки на все основные страницы, чтобы собрать базу клиентов для email-рассылок;\n",
    "\n",
    "2 - Добавить блоки рекомендации товаров на сайт интернет магазина;\n",
    "\n",
    "0 - Добавить два новых канала привлечения трафика, что позволит привлекать на 30% больше пользователей.\n",
    "\n"
   ]
  },
  {
   "cell_type": "markdown",
   "metadata": {},
   "source": [
    "## Анализ A/B-теста"
   ]
  },
  {
   "cell_type": "markdown",
   "metadata": {},
   "source": [
    "* Построим график кумулятивной выручки по группам. Сделаем выводы и предположения;\n",
    "* Построим график кумулятивного среднего чека по группам. Сделаем выводы и предположения;\n",
    "* Построим график относительного изменения кумулятивного среднего чека группы B к группе A. Сделаем выводы и предположения;\n",
    "* Построим график кумулятивной конверсии по группам. Сделаем выводы и предположения;\n",
    "* Построим график относительного изменения кумулятивной конверсии группы B к группе A. Сделаем выводы и предположения;\n",
    "* Построим точечный график количества заказов по пользователям. Сделаем выводы и предположения;\n",
    "* Посчитаем 95-й и 99-й перцентили количества заказов на пользователя. Выберем границу для определения аномальных пользователей;\n",
    "* Построим точечный график стоимостей заказов. Сделаем выводы и предположения;\n",
    "* Посчитаем 95-й и 99-й перцентили стоимости заказов. Выберем границу для определения аномальных заказов;\n",
    "* Посчитаем статистическую значимость различий в конверсии между группами по «сырым» данным. Сделаем выводы и предположения;\n",
    "* Посчитаем статистическую значимость различий в среднем чеке заказа между группами по «сырым» данным. Сделаем выводы и предположения;\n",
    "* Посчитаем статистическую значимость различий в конверсии между группами по «очищенным» данным. Сделаем выводы и предположения;\n",
    "* Посчитаем статистическую значимость различий в среднем чеке заказа между группами по «очищенным» данным. Сделаем выводы и предположения;\n",
    "\n",
    "Примем решение по результатам теста и объясним его. Варианты решений теста:\n",
    "\n",
    "1. Остановить тест, зафиксировать победу одной из групп.\n",
    "\n",
    "\n",
    "2. Остановить тест, зафиксировать отсутствие различий между группами.\n",
    "\n",
    "\n",
    "3. Продолжить тест."
   ]
  },
  {
   "cell_type": "markdown",
   "metadata": {},
   "source": [
    "Перед началом работы проверим наличие пользователей, попавших в обе группы:\n"
   ]
  },
  {
   "cell_type": "code",
   "execution_count": 15,
   "metadata": {
    "scrolled": true
   },
   "outputs": [
    {
     "data": {
      "text/plain": [
       "array([4069496402,  963407295,  351125977, 3234906277,  199603092,\n",
       "        237748145, 3803269165, 2038680547, 2378935119, 4256040402,\n",
       "       2712142231,    8300375,  276558944,  457167155, 3062433592,\n",
       "       1738359350, 2458001652, 2716752286, 3891541246, 1648269707,\n",
       "       3656415546, 2686716486, 2954449915, 2927087541, 2579882178,\n",
       "       3957174400, 2780786433, 3984495233,  818047933, 1668030113,\n",
       "       3717692402, 2044997962, 1959144690, 1294878855, 1404934699,\n",
       "       2587333274, 3202540741, 1333886533, 2600415354, 3951559397,\n",
       "        393266494, 3972127743, 4120364173, 4266935830, 1230306981,\n",
       "       1614305549,  477780734, 1602967004, 1801183820, 4186807279,\n",
       "       3766097110, 3941795274,  471551937, 1316129916,  232979603,\n",
       "       2654030115, 3963646447, 2949041841])"
      ]
     },
     "metadata": {},
     "output_type": "display_data"
    },
    {
     "name": "stdout",
     "output_type": "stream",
     "text": [
      "Общее количество пользователей в двух группах 58\n",
      "Общее количество пользователей                1031\n"
     ]
    }
   ],
   "source": [
    "# Проверим пользователей попавших в обе выборки\n",
    "group_A = orders[orders['group'] == 'A']['visitor_id']\n",
    "group_B = orders[orders['group'] == 'B']['visitor_id']\n",
    "users_duplicated = orders.query('visitor_id in @group_A and visitor_id in @group_B')\n",
    "display(users_duplicated['visitor_id'].unique())\n",
    "\n",
    "print('Общее количество пользователей в двух группах',  users_duplicated['visitor_id'].nunique())\n",
    "print('Общее количество пользователей               ',  orders['visitor_id'].nunique())"
   ]
  },
  {
   "cell_type": "markdown",
   "metadata": {},
   "source": [
    "Oколо 5.6 % (58) пользователей от общего числа(1031). Поскольку их присутствие может исказить результаты теста\n",
    "было принято решение удалить этих пользователей."
   ]
  },
  {
   "cell_type": "code",
   "execution_count": 16,
   "metadata": {
    "scrolled": true
   },
   "outputs": [
    {
     "name": "stdout",
     "output_type": "stream",
     "text": [
      "Всего пользователей в тесте осталось: 973\n"
     ]
    }
   ],
   "source": [
    "\n",
    "orders = orders.query('visitor_id not in @users_duplicated[\"visitor_id\"]')\n",
    "print('Всего пользователей в тесте осталось:', orders['visitor_id'].nunique())\n"
   ]
  },
  {
   "cell_type": "markdown",
   "metadata": {},
   "source": [
    "### График  кумулятивной выручки по группам"
   ]
  },
  {
   "cell_type": "code",
   "execution_count": 17,
   "metadata": {},
   "outputs": [
    {
     "data": {
      "text/html": [
       "<div>\n",
       "<style scoped>\n",
       "    .dataframe tbody tr th:only-of-type {\n",
       "        vertical-align: middle;\n",
       "    }\n",
       "\n",
       "    .dataframe tbody tr th {\n",
       "        vertical-align: top;\n",
       "    }\n",
       "\n",
       "    .dataframe thead th {\n",
       "        text-align: right;\n",
       "    }\n",
       "</style>\n",
       "<table border=\"1\" class=\"dataframe\">\n",
       "  <thead>\n",
       "    <tr style=\"text-align: right;\">\n",
       "      <th></th>\n",
       "      <th>transaction_id</th>\n",
       "      <th>visitor_id</th>\n",
       "      <th>date</th>\n",
       "      <th>revenue</th>\n",
       "      <th>group</th>\n",
       "    </tr>\n",
       "  </thead>\n",
       "  <tbody>\n",
       "    <tr>\n",
       "      <th>1191</th>\n",
       "      <td>3592955527</td>\n",
       "      <td>608641596</td>\n",
       "      <td>2019-08-14</td>\n",
       "      <td>16490</td>\n",
       "      <td>B</td>\n",
       "    </tr>\n",
       "    <tr>\n",
       "      <th>213</th>\n",
       "      <td>394880746</td>\n",
       "      <td>3332057097</td>\n",
       "      <td>2019-08-02</td>\n",
       "      <td>2750</td>\n",
       "      <td>B</td>\n",
       "    </tr>\n",
       "    <tr>\n",
       "      <th>378</th>\n",
       "      <td>1964998089</td>\n",
       "      <td>2618159035</td>\n",
       "      <td>2019-08-25</td>\n",
       "      <td>5415</td>\n",
       "      <td>A</td>\n",
       "    </tr>\n",
       "  </tbody>\n",
       "</table>\n",
       "</div>"
      ],
      "text/plain": [
       "      transaction_id  visitor_id       date  revenue group\n",
       "1191  3592955527      608641596  2019-08-14  16490    B   \n",
       "213   394880746       3332057097 2019-08-02  2750     B   \n",
       "378   1964998089      2618159035 2019-08-25  5415     A   "
      ]
     },
     "execution_count": 17,
     "metadata": {},
     "output_type": "execute_result"
    }
   ],
   "source": [
    "orders.sample(3)\n"
   ]
  },
  {
   "cell_type": "code",
   "execution_count": 18,
   "metadata": {},
   "outputs": [
    {
     "data": {
      "text/plain": [
       "group\n",
       "A    92365 \n",
       "B    107340\n",
       "Name: revenue, dtype: int64"
      ]
     },
     "execution_count": 18,
     "metadata": {},
     "output_type": "execute_result"
    }
   ],
   "source": [
    "# Рассчитаем медианную выручку за день в каждой группе\n",
    "\n",
    "orders.groupby(['date','group'])['revenue'].sum().groupby('group').median()\n"
   ]
  },
  {
   "cell_type": "code",
   "execution_count": 19,
   "metadata": {},
   "outputs": [
    {
     "data": {
      "text/html": [
       "<div>\n",
       "<style scoped>\n",
       "    .dataframe tbody tr th:only-of-type {\n",
       "        vertical-align: middle;\n",
       "    }\n",
       "\n",
       "    .dataframe tbody tr th {\n",
       "        vertical-align: top;\n",
       "    }\n",
       "\n",
       "    .dataframe thead th {\n",
       "        text-align: right;\n",
       "    }\n",
       "</style>\n",
       "<table border=\"1\" class=\"dataframe\">\n",
       "  <thead>\n",
       "    <tr style=\"text-align: right;\">\n",
       "      <th></th>\n",
       "      <th>date</th>\n",
       "      <th>group</th>\n",
       "      <th>visitors</th>\n",
       "    </tr>\n",
       "  </thead>\n",
       "  <tbody>\n",
       "    <tr>\n",
       "      <th>20</th>\n",
       "      <td>2019-08-21</td>\n",
       "      <td>A</td>\n",
       "      <td>646</td>\n",
       "    </tr>\n",
       "    <tr>\n",
       "      <th>38</th>\n",
       "      <td>2019-08-08</td>\n",
       "      <td>B</td>\n",
       "      <td>654</td>\n",
       "    </tr>\n",
       "    <tr>\n",
       "      <th>18</th>\n",
       "      <td>2019-08-19</td>\n",
       "      <td>A</td>\n",
       "      <td>502</td>\n",
       "    </tr>\n",
       "  </tbody>\n",
       "</table>\n",
       "</div>"
      ],
      "text/plain": [
       "         date group  visitors\n",
       "20 2019-08-21  A     646     \n",
       "38 2019-08-08  B     654     \n",
       "18 2019-08-19  A     502     "
      ]
     },
     "execution_count": 19,
     "metadata": {},
     "output_type": "execute_result"
    }
   ],
   "source": [
    "visitors.sample(3)\n"
   ]
  },
  {
   "cell_type": "code",
   "execution_count": 20,
   "metadata": {},
   "outputs": [
    {
     "data": {
      "text/html": [
       "<div>\n",
       "<style scoped>\n",
       "    .dataframe tbody tr th:only-of-type {\n",
       "        vertical-align: middle;\n",
       "    }\n",
       "\n",
       "    .dataframe tbody tr th {\n",
       "        vertical-align: top;\n",
       "    }\n",
       "\n",
       "    .dataframe thead th {\n",
       "        text-align: right;\n",
       "    }\n",
       "</style>\n",
       "<table border=\"1\" class=\"dataframe\">\n",
       "  <thead>\n",
       "    <tr style=\"text-align: right;\">\n",
       "      <th></th>\n",
       "      <th>date</th>\n",
       "      <th>group</th>\n",
       "    </tr>\n",
       "  </thead>\n",
       "  <tbody>\n",
       "    <tr>\n",
       "      <th>0</th>\n",
       "      <td>2019-08-01</td>\n",
       "      <td>A</td>\n",
       "    </tr>\n",
       "    <tr>\n",
       "      <th>1</th>\n",
       "      <td>2019-08-01</td>\n",
       "      <td>B</td>\n",
       "    </tr>\n",
       "    <tr>\n",
       "      <th>2</th>\n",
       "      <td>2019-08-02</td>\n",
       "      <td>A</td>\n",
       "    </tr>\n",
       "    <tr>\n",
       "      <th>3</th>\n",
       "      <td>2019-08-02</td>\n",
       "      <td>B</td>\n",
       "    </tr>\n",
       "    <tr>\n",
       "      <th>4</th>\n",
       "      <td>2019-08-03</td>\n",
       "      <td>A</td>\n",
       "    </tr>\n",
       "    <tr>\n",
       "      <th>...</th>\n",
       "      <td>...</td>\n",
       "      <td>...</td>\n",
       "    </tr>\n",
       "    <tr>\n",
       "      <th>57</th>\n",
       "      <td>2019-08-29</td>\n",
       "      <td>B</td>\n",
       "    </tr>\n",
       "    <tr>\n",
       "      <th>58</th>\n",
       "      <td>2019-08-30</td>\n",
       "      <td>A</td>\n",
       "    </tr>\n",
       "    <tr>\n",
       "      <th>59</th>\n",
       "      <td>2019-08-30</td>\n",
       "      <td>B</td>\n",
       "    </tr>\n",
       "    <tr>\n",
       "      <th>60</th>\n",
       "      <td>2019-08-31</td>\n",
       "      <td>A</td>\n",
       "    </tr>\n",
       "    <tr>\n",
       "      <th>61</th>\n",
       "      <td>2019-08-31</td>\n",
       "      <td>B</td>\n",
       "    </tr>\n",
       "  </tbody>\n",
       "</table>\n",
       "<p>62 rows × 2 columns</p>\n",
       "</div>"
      ],
      "text/plain": [
       "         date group\n",
       "0  2019-08-01  A   \n",
       "1  2019-08-01  B   \n",
       "2  2019-08-02  A   \n",
       "3  2019-08-02  B   \n",
       "4  2019-08-03  A   \n",
       "..        ... ..   \n",
       "57 2019-08-29  B   \n",
       "58 2019-08-30  A   \n",
       "59 2019-08-30  B   \n",
       "60 2019-08-31  A   \n",
       "61 2019-08-31  B   \n",
       "\n",
       "[62 rows x 2 columns]"
      ]
     },
     "execution_count": 20,
     "metadata": {},
     "output_type": "execute_result"
    }
   ],
   "source": [
    "# Сравним идентичны ли даты и группы в таблицах заказов и посетителей, что бы в дальнейшем объединить данные\n",
    "\n",
    "orders[['date','group']].drop_duplicates().sort_values(by=['date','group']).reset_index(drop=True)\n",
    "\n"
   ]
  },
  {
   "cell_type": "code",
   "execution_count": 21,
   "metadata": {},
   "outputs": [
    {
     "data": {
      "text/html": [
       "<div>\n",
       "<style scoped>\n",
       "    .dataframe tbody tr th:only-of-type {\n",
       "        vertical-align: middle;\n",
       "    }\n",
       "\n",
       "    .dataframe tbody tr th {\n",
       "        vertical-align: top;\n",
       "    }\n",
       "\n",
       "    .dataframe thead th {\n",
       "        text-align: right;\n",
       "    }\n",
       "</style>\n",
       "<table border=\"1\" class=\"dataframe\">\n",
       "  <thead>\n",
       "    <tr style=\"text-align: right;\">\n",
       "      <th></th>\n",
       "      <th>date</th>\n",
       "      <th>group</th>\n",
       "    </tr>\n",
       "  </thead>\n",
       "  <tbody>\n",
       "    <tr>\n",
       "      <th>0</th>\n",
       "      <td>True</td>\n",
       "      <td>True</td>\n",
       "    </tr>\n",
       "    <tr>\n",
       "      <th>1</th>\n",
       "      <td>True</td>\n",
       "      <td>True</td>\n",
       "    </tr>\n",
       "    <tr>\n",
       "      <th>2</th>\n",
       "      <td>True</td>\n",
       "      <td>True</td>\n",
       "    </tr>\n",
       "    <tr>\n",
       "      <th>3</th>\n",
       "      <td>True</td>\n",
       "      <td>True</td>\n",
       "    </tr>\n",
       "    <tr>\n",
       "      <th>4</th>\n",
       "      <td>True</td>\n",
       "      <td>True</td>\n",
       "    </tr>\n",
       "    <tr>\n",
       "      <th>...</th>\n",
       "      <td>...</td>\n",
       "      <td>...</td>\n",
       "    </tr>\n",
       "    <tr>\n",
       "      <th>57</th>\n",
       "      <td>True</td>\n",
       "      <td>True</td>\n",
       "    </tr>\n",
       "    <tr>\n",
       "      <th>58</th>\n",
       "      <td>True</td>\n",
       "      <td>True</td>\n",
       "    </tr>\n",
       "    <tr>\n",
       "      <th>59</th>\n",
       "      <td>True</td>\n",
       "      <td>True</td>\n",
       "    </tr>\n",
       "    <tr>\n",
       "      <th>60</th>\n",
       "      <td>True</td>\n",
       "      <td>True</td>\n",
       "    </tr>\n",
       "    <tr>\n",
       "      <th>61</th>\n",
       "      <td>True</td>\n",
       "      <td>True</td>\n",
       "    </tr>\n",
       "  </tbody>\n",
       "</table>\n",
       "<p>62 rows × 2 columns</p>\n",
       "</div>"
      ],
      "text/plain": [
       "    date  group\n",
       "0   True  True \n",
       "1   True  True \n",
       "2   True  True \n",
       "3   True  True \n",
       "4   True  True \n",
       "..   ...   ... \n",
       "57  True  True \n",
       "58  True  True \n",
       "59  True  True \n",
       "60  True  True \n",
       "61  True  True \n",
       "\n",
       "[62 rows x 2 columns]"
      ]
     },
     "execution_count": 21,
     "metadata": {},
     "output_type": "execute_result"
    }
   ],
   "source": [
    "similarity = orders[['date','group']].drop_duplicates().sort_values(by=['date','group']).reset_index(drop=True) == \\\n",
    "                        visitors[['date','group']].drop_duplicates().sort_values(by=['date','group']).reset_index(drop=True)\n",
    "similarity"
   ]
  },
  {
   "cell_type": "code",
   "execution_count": 22,
   "metadata": {},
   "outputs": [
    {
     "data": {
      "text/plain": [
       "(62, 62)"
      ]
     },
     "execution_count": 22,
     "metadata": {},
     "output_type": "execute_result"
    }
   ],
   "source": [
    "similarity['date'].sum() , similarity['group'].sum()\n"
   ]
  },
  {
   "cell_type": "markdown",
   "metadata": {},
   "source": [
    "*Все пары дата-группа в таблицах посетители и заказы совпадают, можно объединять*"
   ]
  },
  {
   "cell_type": "markdown",
   "metadata": {},
   "source": [
    "Создадим таблицу cumulativeData куммулятивных данных по обеим таблицам\n",
    "\n"
   ]
  },
  {
   "cell_type": "code",
   "execution_count": 23,
   "metadata": {},
   "outputs": [
    {
     "data": {
      "text/html": [
       "<div>\n",
       "<style scoped>\n",
       "    .dataframe tbody tr th:only-of-type {\n",
       "        vertical-align: middle;\n",
       "    }\n",
       "\n",
       "    .dataframe tbody tr th {\n",
       "        vertical-align: top;\n",
       "    }\n",
       "\n",
       "    .dataframe thead th {\n",
       "        text-align: right;\n",
       "    }\n",
       "</style>\n",
       "<table border=\"1\" class=\"dataframe\">\n",
       "  <thead>\n",
       "    <tr style=\"text-align: right;\">\n",
       "      <th></th>\n",
       "      <th>date</th>\n",
       "      <th>group</th>\n",
       "      <th>orders</th>\n",
       "      <th>buyers</th>\n",
       "      <th>revenue</th>\n",
       "      <th>visitors</th>\n",
       "    </tr>\n",
       "  </thead>\n",
       "  <tbody>\n",
       "    <tr>\n",
       "      <th>0</th>\n",
       "      <td>2019-08-01</td>\n",
       "      <td>A</td>\n",
       "      <td>23</td>\n",
       "      <td>19</td>\n",
       "      <td>142779</td>\n",
       "      <td>719</td>\n",
       "    </tr>\n",
       "    <tr>\n",
       "      <th>1</th>\n",
       "      <td>2019-08-01</td>\n",
       "      <td>B</td>\n",
       "      <td>17</td>\n",
       "      <td>17</td>\n",
       "      <td>59758</td>\n",
       "      <td>713</td>\n",
       "    </tr>\n",
       "    <tr>\n",
       "      <th>2</th>\n",
       "      <td>2019-08-02</td>\n",
       "      <td>A</td>\n",
       "      <td>42</td>\n",
       "      <td>36</td>\n",
       "      <td>234381</td>\n",
       "      <td>1338</td>\n",
       "    </tr>\n",
       "    <tr>\n",
       "      <th>3</th>\n",
       "      <td>2019-08-02</td>\n",
       "      <td>B</td>\n",
       "      <td>40</td>\n",
       "      <td>39</td>\n",
       "      <td>221801</td>\n",
       "      <td>1294</td>\n",
       "    </tr>\n",
       "    <tr>\n",
       "      <th>4</th>\n",
       "      <td>2019-08-03</td>\n",
       "      <td>A</td>\n",
       "      <td>66</td>\n",
       "      <td>60</td>\n",
       "      <td>346854</td>\n",
       "      <td>1845</td>\n",
       "    </tr>\n",
       "  </tbody>\n",
       "</table>\n",
       "</div>"
      ],
      "text/plain": [
       "        date group  orders  buyers  revenue  visitors\n",
       "0 2019-08-01  A     23      19      142779   719     \n",
       "1 2019-08-01  B     17      17      59758    713     \n",
       "2 2019-08-02  A     42      36      234381   1338    \n",
       "3 2019-08-02  B     40      39      221801   1294    \n",
       "4 2019-08-03  A     66      60      346854   1845    "
      ]
     },
     "execution_count": 23,
     "metadata": {},
     "output_type": "execute_result"
    }
   ],
   "source": [
    "datesGroups = orders[['date','group']].drop_duplicates()\n",
    "\n",
    "ordersAggregated = datesGroups.apply(lambda x: orders[np.logical_and(orders['date'] <= x['date'], orders['group'] == x['group'])]. \\\n",
    "                                     agg({'date' : 'max', \n",
    "                                          'group' : 'max', \n",
    "                                          'transaction_id' : pd.Series.nunique, \n",
    "                                          'visitor_id' : pd.Series.nunique, \n",
    "                                          'revenue' : 'sum'}), axis=1).sort_values(by=['date','group'])\n",
    "\n",
    "visitorsAggregated = datesGroups.apply(lambda x: visitors[np.logical_and(visitors['date'] <= x['date'], visitors['group'] == x['group'])]. \\\n",
    "                                       agg({'date' : 'max', \n",
    "                                            'group' : 'max', \n",
    "                                            'visitors' : 'sum'}), axis=1).sort_values(by=['date','group'])\n",
    "\n",
    "cumulativeData = ordersAggregated.merge(visitorsAggregated, left_on=['date', 'group'], right_on=['date', 'group'])\n",
    "cumulativeData.columns = ['date', 'group', 'orders', 'buyers', 'revenue', 'visitors']\n",
    "\n",
    "cumulativeData.head(5)"
   ]
  },
  {
   "cell_type": "code",
   "execution_count": 24,
   "metadata": {},
   "outputs": [
    {
     "data": {
      "image/png": "[encoded data removed]",
      "text/plain": [
       "<Figure size 720x432 with 1 Axes>"
      ]
     },
     "metadata": {
      "needs_background": "light"
     },
     "output_type": "display_data"
    }
   ],
   "source": [
    "# построим графики кумулятивной выручки для обоих групп\n",
    "\n",
    "cumulativeRevenueA = cumulativeData[cumulativeData['group']=='A'][['date','revenue', 'orders']]\n",
    "cumulativeRevenueB = cumulativeData[cumulativeData['group']=='B'][['date','revenue', 'orders']]\n",
    "\n",
    "\n",
    "plt.figure(figsize=(10,6))\n",
    "plt.title('Графики кумулятивной выручки для групп A и B', fontsize=12)\n",
    "plt.xlabel('Дата', fontsize=10)\n",
    "plt.ylabel('Выручка, ₽', fontsize=10)\n",
    "plt.plot(cumulativeRevenueA['date'], cumulativeRevenueA['revenue'], label='Кум.выручка группы A')\n",
    "plt.plot(cumulativeRevenueB['date'], cumulativeRevenueB['revenue'], label='Кум.выручка группы B')\n",
    "plt.grid()\n",
    "plt.legend()\n",
    "plt.show()"
   ]
  },
  {
   "cell_type": "markdown",
   "metadata": {},
   "source": [
    "*Вывод: Выручка практически равномерно растёт в обеих группах за период теста. Начиная со второй половины месяца выручка в группе B растет быстрее. Стоит отметить  всплеск выручки в группе B 19-08-2019. Это может говорить о увелечении числа заказов  или о наличии дорогих заказов в этот день*\n",
    "\n"
   ]
  },
  {
   "cell_type": "markdown",
   "metadata": {},
   "source": [
    "### График кумулятивного среднего чека по группам."
   ]
  },
  {
   "cell_type": "code",
   "execution_count": 25,
   "metadata": {
    "scrolled": true
   },
   "outputs": [
    {
     "data": {
      "image/png": "[encoded data removed]",
      "text/plain": [
       "<Figure size 720x360 with 1 Axes>"
      ]
     },
     "metadata": {
      "needs_background": "light"
     },
     "output_type": "display_data"
    }
   ],
   "source": [
    "plt.figure(figsize=(10,5))\n",
    "plt.plot(cumulativeRevenueA['date'], cumulativeRevenueA['revenue']/cumulativeRevenueA['orders'], label='A')\n",
    "plt.plot(cumulativeRevenueB['date'], cumulativeRevenueB['revenue']/cumulativeRevenueB['orders'], label='B')\n",
    "\n",
    "plt.grid(visible=True)\n",
    "plt.title('Графики кумулятивного среднего чека по дням и группам A/B-тестирования', fontsize=12)\n",
    "plt.xlabel('Дата', fontsize=10)\n",
    "plt.ylabel('Средний чек, ₽', fontsize=10)\n",
    "plt.legend() \n",
    "plt.show()"
   ]
  },
  {
   "cell_type": "markdown",
   "metadata": {},
   "source": [
    "*После некоторого снижения в первые числа месяца средний чек в группе А вырoвнялся в пределах зниачения выше 7000 т.рублей с тенденцией в росте. В группе B наблюдается постепенный рост значений среднего чека с максимальным значением 19 августа, вероятнеее всего это влияние одного или нескольких заказов на большую сумму , затем средний чек идет на медленный спад.*"
   ]
  },
  {
   "cell_type": "markdown",
   "metadata": {},
   "source": [
    "### График относительного изменения кумулятивного среднего чека группы B к группе A"
   ]
  },
  {
   "cell_type": "code",
   "execution_count": 26,
   "metadata": {},
   "outputs": [
    {
     "data": {
      "image/png": "[encoded data removed]",
      "text/plain": [
       "<Figure size 720x432 with 1 Axes>"
      ]
     },
     "metadata": {
      "needs_background": "light"
     },
     "output_type": "display_data"
    }
   ],
   "source": [
    "# объеденим все данные в один датафреим\n",
    "\n",
    "merged_cumulative_revenue = cumulativeRevenueA.merge(\n",
    "    cumulativeRevenueB,\n",
    "    left_on='date',\n",
    "    right_on='date',\n",
    "    how='left',\n",
    "    suffixes=['A', 'B'])\n",
    "plt.figure(figsize=(10, 6))\n",
    "\n",
    "# построим отношение средних чеков\n",
    "plt.plot(merged_cumulative_revenue['date'],\n",
    "         (merged_cumulative_revenue['revenueB']/\n",
    "          merged_cumulative_revenue['ordersB'])/\n",
    "         (merged_cumulative_revenue['revenueA']/\n",
    "          merged_cumulative_revenue['ordersA'])-1)\n",
    "\n",
    "# добавим ось X\n",
    "plt.axhline(y=0, color='green', linestyle='--')\n",
    "\n",
    "plt.grid(visible=True)\n",
    "plt.title('График относительного изменения кумулятивного среднего чека группы B к группе A', fontsize=12)\n",
    "plt.xlabel('Дата', fontsize=10)\n",
    "plt.ylabel('Отношение средних чеков', fontsize=10)\n",
    "plt.show()\n"
   ]
  },
  {
   "cell_type": "markdown",
   "metadata": {},
   "source": [
    "\n",
    "*Резкие подъемы говорят о заказах на большую сумму. По сути этот график является отражением графика в пункте 3.2. Здесь, также, наблюдается рост среднего чека до 8 августа, затем спад среднего чека ниже среднего чека группы А до 15 августа, скачок 19 числа, и вновь постепенное снижение.*\n",
    "\n",
    "\n",
    "\n",
    "\n",
    "\n"
   ]
  },
  {
   "cell_type": "markdown",
   "metadata": {},
   "source": [
    "### График кумулятивной конверсии по группам"
   ]
  },
  {
   "cell_type": "code",
   "execution_count": 27,
   "metadata": {},
   "outputs": [
    {
     "data": {
      "image/png": "[encoded data removed]",
      "text/plain": [
       "<Figure size 720x432 with 1 Axes>"
      ]
     },
     "metadata": {
      "needs_background": "light"
     },
     "output_type": "display_data"
    }
   ],
   "source": [
    "\n",
    "register_matplotlib_converters()\n",
    "\n",
    "# считаем кумулятивную конверсию\n",
    "cumulativeData['conversion'] = cumulativeData['orders']/cumulativeData['visitors']\n",
    "\n",
    "# отделяем данные по группе A\n",
    "cumulative_data_a = cumulativeData[cumulativeData['group']=='A']\n",
    "\n",
    "# отделяем данные по группе B\n",
    "cumulative_data_b = cumulativeData[cumulativeData['group']=='B']\n",
    "\n",
    "plt.figure(figsize=(10, 6))\n",
    "\n",
    "# построим графики и зададим масштаб осей\n",
    "\n",
    "plt.plot(cumulative_data_a['date'], cumulative_data_a['conversion'], label='A')\n",
    "plt.plot(cumulative_data_b['date'], cumulative_data_b['conversion'], label='B')\n",
    "plt.axis([dt.datetime(2019, 8, 1), dt.datetime(2019, 8, 31), 0, 0.05]) \n",
    "\n",
    "plt.grid(visible=True)\n",
    "plt.title('Кумулятивная конверсия по группам', fontsize=12)\n",
    "plt.xlabel('Дата', fontsize=10)\n",
    "plt.ylabel('Конверсия', fontsize=10)\n",
    "plt.legend()\n",
    "plt.show()"
   ]
  },
  {
   "cell_type": "markdown",
   "metadata": {},
   "source": [
    "  \n",
    "*В начале месяца наблюдается неустойчивость значения конверсии, но после 4 числа конверсия группы А зафиксировалась на уровне ниже значений начала месяца, в то время как конверсия группы B начала расти и остановилась на уровне больше группы А.*\n",
    "\n",
    "\n"
   ]
  },
  {
   "cell_type": "markdown",
   "metadata": {},
   "source": [
    "### График относительного изменения кумулятивной конверсии группы B к группе A"
   ]
  },
  {
   "cell_type": "code",
   "execution_count": 28,
   "metadata": {},
   "outputs": [
    {
     "data": {
      "image/png": "[encoded data removed]",
      "text/plain": [
       "<Figure size 720x432 with 1 Axes>"
      ]
     },
     "metadata": {
      "needs_background": "light"
     },
     "output_type": "display_data"
    }
   ],
   "source": [
    "merged_cumulative_conversions = cumulative_data_a[['date','conversion']].merge(\n",
    "    cumulative_data_b[['date','conversion']],\n",
    "    left_on='date',\n",
    "    right_on='date',\n",
    "    how='left',\n",
    "    suffixes=['A', 'B'])\n",
    "\n",
    "plt.figure(figsize=(10,6))\n",
    "\n",
    "# cтроим отношение конверсий\n",
    "plt.plot(merged_cumulative_conversions['date'],\n",
    "         merged_cumulative_conversions['conversionB']/\n",
    "         merged_cumulative_conversions['conversionA']-1)\n",
    "\n",
    "# добавляем оси X\n",
    "plt.axhline(y=0, color='brown', linestyle='--')\n",
    "plt.axhline(y=0.14, color='green', linestyle='--')\n",
    "\n",
    "\n",
    "plt.axis([dt.datetime(2019, 8, 1), dt.datetime(2019, 8, 31), -0.12, 0.22])\n",
    "\n",
    "plt.grid(visible=True)\n",
    "plt.title('График относительного изменения кумулятивной конверсии группы B к группе A', fontsize=12)\n",
    "plt.xlabel('Дата', fontsize=10)\n",
    "plt.ylabel('Отношение конверсий', fontsize=10)\n",
    "plt.show()"
   ]
  },
  {
   "cell_type": "markdown",
   "metadata": {},
   "source": [
    "Вывод: В начале теста группа B показывала нижние границы значений по отношению к группе А, но затем все меняется в обратную сторону и конверсия группы B остановилaсь на уровне 12-14 %.\n"
   ]
  },
  {
   "cell_type": "markdown",
   "metadata": {},
   "source": [
    "### График количества заказов по пользователям"
   ]
  },
  {
   "cell_type": "code",
   "execution_count": 29,
   "metadata": {
    "scrolled": true
   },
   "outputs": [
    {
     "data": {
      "text/html": [
       "<div>\n",
       "<style scoped>\n",
       "    .dataframe tbody tr th:only-of-type {\n",
       "        vertical-align: middle;\n",
       "    }\n",
       "\n",
       "    .dataframe tbody tr th {\n",
       "        vertical-align: top;\n",
       "    }\n",
       "\n",
       "    .dataframe thead th {\n",
       "        text-align: right;\n",
       "    }\n",
       "</style>\n",
       "<table border=\"1\" class=\"dataframe\">\n",
       "  <thead>\n",
       "    <tr style=\"text-align: right;\">\n",
       "      <th></th>\n",
       "      <th>transaction_id</th>\n",
       "      <th>visitor_id</th>\n",
       "      <th>date</th>\n",
       "      <th>revenue</th>\n",
       "      <th>group</th>\n",
       "    </tr>\n",
       "  </thead>\n",
       "  <tbody>\n",
       "    <tr>\n",
       "      <th>818</th>\n",
       "      <td>3069553209</td>\n",
       "      <td>1351898488</td>\n",
       "      <td>2019-08-21</td>\n",
       "      <td>4600</td>\n",
       "      <td>A</td>\n",
       "    </tr>\n",
       "    <tr>\n",
       "      <th>862</th>\n",
       "      <td>4203085435</td>\n",
       "      <td>980818195</td>\n",
       "      <td>2019-08-30</td>\n",
       "      <td>7110</td>\n",
       "      <td>A</td>\n",
       "    </tr>\n",
       "    <tr>\n",
       "      <th>531</th>\n",
       "      <td>4016435970</td>\n",
       "      <td>4017075195</td>\n",
       "      <td>2019-08-19</td>\n",
       "      <td>13390</td>\n",
       "      <td>A</td>\n",
       "    </tr>\n",
       "  </tbody>\n",
       "</table>\n",
       "</div>"
      ],
      "text/plain": [
       "     transaction_id  visitor_id       date  revenue group\n",
       "818  3069553209      1351898488 2019-08-21  4600     A   \n",
       "862  4203085435      980818195  2019-08-30  7110     A   \n",
       "531  4016435970      4017075195 2019-08-19  13390    A   "
      ]
     },
     "execution_count": 29,
     "metadata": {},
     "output_type": "execute_result"
    }
   ],
   "source": [
    "orders.sample(3)\n"
   ]
  },
  {
   "cell_type": "code",
   "execution_count": 30,
   "metadata": {},
   "outputs": [
    {
     "data": {
      "text/html": [
       "<div>\n",
       "<style scoped>\n",
       "    .dataframe tbody tr th:only-of-type {\n",
       "        vertical-align: middle;\n",
       "    }\n",
       "\n",
       "    .dataframe tbody tr th {\n",
       "        vertical-align: top;\n",
       "    }\n",
       "\n",
       "    .dataframe thead th {\n",
       "        text-align: right;\n",
       "    }\n",
       "</style>\n",
       "<table border=\"1\" class=\"dataframe\">\n",
       "  <thead>\n",
       "    <tr style=\"text-align: right;\">\n",
       "      <th></th>\n",
       "      <th>visitor_id</th>\n",
       "      <th>orders</th>\n",
       "    </tr>\n",
       "  </thead>\n",
       "  <tbody>\n",
       "    <tr>\n",
       "      <th>908</th>\n",
       "      <td>3967698036</td>\n",
       "      <td>3</td>\n",
       "    </tr>\n",
       "    <tr>\n",
       "      <th>55</th>\n",
       "      <td>249864742</td>\n",
       "      <td>3</td>\n",
       "    </tr>\n",
       "    <tr>\n",
       "      <th>478</th>\n",
       "      <td>2108163459</td>\n",
       "      <td>3</td>\n",
       "    </tr>\n",
       "    <tr>\n",
       "      <th>687</th>\n",
       "      <td>2988190573</td>\n",
       "      <td>3</td>\n",
       "    </tr>\n",
       "    <tr>\n",
       "      <th>890</th>\n",
       "      <td>3908431265</td>\n",
       "      <td>3</td>\n",
       "    </tr>\n",
       "    <tr>\n",
       "      <th>138</th>\n",
       "      <td>611059232</td>\n",
       "      <td>3</td>\n",
       "    </tr>\n",
       "    <tr>\n",
       "      <th>632</th>\n",
       "      <td>2742574263</td>\n",
       "      <td>3</td>\n",
       "    </tr>\n",
       "    <tr>\n",
       "      <th>157</th>\n",
       "      <td>678354126</td>\n",
       "      <td>2</td>\n",
       "    </tr>\n",
       "    <tr>\n",
       "      <th>323</th>\n",
       "      <td>1404560065</td>\n",
       "      <td>2</td>\n",
       "    </tr>\n",
       "    <tr>\n",
       "      <th>452</th>\n",
       "      <td>1985475298</td>\n",
       "      <td>2</td>\n",
       "    </tr>\n",
       "  </tbody>\n",
       "</table>\n",
       "</div>"
      ],
      "text/plain": [
       "     visitor_id  orders\n",
       "908  3967698036  3     \n",
       "55   249864742   3     \n",
       "478  2108163459  3     \n",
       "687  2988190573  3     \n",
       "890  3908431265  3     \n",
       "138  611059232   3     \n",
       "632  2742574263  3     \n",
       "157  678354126   2     \n",
       "323  1404560065  2     \n",
       "452  1985475298  2     "
      ]
     },
     "metadata": {},
     "output_type": "display_data"
    }
   ],
   "source": [
    "# число заказов по пользователям\n",
    "orders_by_users = (\n",
    "    orders.groupby('visitor_id', as_index=False)\n",
    "    .agg({'transaction_id': 'nunique'})\n",
    "    .sort_values(by='transaction_id', ascending=False)\n",
    "    .rename(columns={'transaction_id': 'orders'})\n",
    ")\n",
    "\n",
    "display(orders_by_users.head(10))"
   ]
  },
  {
   "cell_type": "markdown",
   "metadata": {},
   "source": [
    "Можно заметить нескольких пользователей с большим количеством заказов.\n",
    "\n"
   ]
  },
  {
   "cell_type": "code",
   "execution_count": 31,
   "metadata": {},
   "outputs": [
    {
     "data": {
      "image/png": "[encoded data removed]",
      "text/plain": [
       "<Figure size 576x288 with 1 Axes>"
      ]
     },
     "metadata": {
      "needs_background": "light"
     },
     "output_type": "display_data"
    }
   ],
   "source": [
    "# построим гистограмму распределения количества заказов на одного пользователя\n",
    "\n",
    "plt.figure(figsize=(8, 4))\n",
    "plt.hist(orders_by_users['orders']) \n",
    "plt.title('Гистрограмма распределения количества заказов на одного пользователя', fontsize=12)\n",
    "plt.ylabel('Количество заказов', fontsize=10)\n",
    "plt.show()\n"
   ]
  },
  {
   "cell_type": "markdown",
   "metadata": {},
   "source": [
    "*Большая часть пользователей остановилась на одном заказе. Хотя есть и пользователи, которые сделали 10 заказов*.\n",
    "\n"
   ]
  },
  {
   "cell_type": "code",
   "execution_count": 32,
   "metadata": {},
   "outputs": [
    {
     "data": {
      "image/png": "[encoded data removed]",
      "text/plain": [
       "<Figure size 720x288 with 1 Axes>"
      ]
     },
     "metadata": {
      "needs_background": "light"
     },
     "output_type": "display_data"
    }
   ],
   "source": [
    "x_values = pd.Series(range(0,len(orders_by_users)))\n",
    "\n",
    "plt.figure(figsize=(10,4))\n",
    "plt.grid()\n",
    "plt.title('Точечный график количества заказов по пользователям')\n",
    "plt.scatter(x_values, orders_by_users['orders'], alpha=0.4) ;"
   ]
  },
  {
   "cell_type": "markdown",
   "metadata": {},
   "source": [
    "*Большая часть пользователей совершили 1 заказ. Тех, кто совершили 2 заказа намного меньше. Непонятно брать ли за аномалии заказы 3 и более раза, поэтому посчитаем процентили (95 и 99). *\n",
    "\n",
    "\n",
    "\n"
   ]
  },
  {
   "cell_type": "markdown",
   "metadata": {},
   "source": [
    "### Граница для определения аномальных пользователей"
   ]
  },
  {
   "cell_type": "code",
   "execution_count": 33,
   "metadata": {
    "scrolled": false
   },
   "outputs": [
    {
     "name": "stdout",
     "output_type": "stream",
     "text": [
      "95 и 99 перцентили по заказам:  [1. 2.]\n"
     ]
    }
   ],
   "source": [
    "print('95 и 99 перцентили по заказам: ', np.percentile(orders_by_users['orders'], [95, 99])) \n"
   ]
  },
  {
   "cell_type": "markdown",
   "metadata": {},
   "source": [
    "*Не более 5%  пользователей совершали больше 2-х заказов и меньше 1% пользоваетелей совершали больше 2-х заказов. Поэтому возьмем 4 заказа на одного пользователя как нижнюю границу, все остальные будем считать аномалиями.*\n",
    " "
   ]
  },
  {
   "cell_type": "markdown",
   "metadata": {},
   "source": [
    "Для большей точности рассчитаем все процентили с 95 по 99\n",
    "\n"
   ]
  },
  {
   "cell_type": "code",
   "execution_count": 34,
   "metadata": {
    "scrolled": true
   },
   "outputs": [
    {
     "name": "stdout",
     "output_type": "stream",
     "text": [
      "перцентили c 95 по 99 по заказам:  [1. 1. 2. 2. 2.]\n"
     ]
    }
   ],
   "source": [
    "print('перцентили c 95 по 99 по заказам: ', np.percentile(orders_by_users['orders'], [95,96,97,98, 99])) \n"
   ]
  },
  {
   "cell_type": "markdown",
   "metadata": {},
   "source": [
    "*98% пользователей делают 1 или 2 заказа. Все остальное- аномалия.*\n",
    "\n"
   ]
  },
  {
   "cell_type": "markdown",
   "metadata": {},
   "source": [
    "### Tочечный график стоимостей заказов"
   ]
  },
  {
   "cell_type": "code",
   "execution_count": 35,
   "metadata": {},
   "outputs": [
    {
     "data": {
      "text/html": [
       "<div>\n",
       "<style scoped>\n",
       "    .dataframe tbody tr th:only-of-type {\n",
       "        vertical-align: middle;\n",
       "    }\n",
       "\n",
       "    .dataframe tbody tr th {\n",
       "        vertical-align: top;\n",
       "    }\n",
       "\n",
       "    .dataframe thead th {\n",
       "        text-align: right;\n",
       "    }\n",
       "</style>\n",
       "<table border=\"1\" class=\"dataframe\">\n",
       "  <thead>\n",
       "    <tr style=\"text-align: right;\">\n",
       "      <th></th>\n",
       "      <th>transaction_id</th>\n",
       "      <th>visitor_id</th>\n",
       "      <th>date</th>\n",
       "      <th>revenue</th>\n",
       "      <th>group</th>\n",
       "    </tr>\n",
       "  </thead>\n",
       "  <tbody>\n",
       "    <tr>\n",
       "      <th>425</th>\n",
       "      <td>590470918</td>\n",
       "      <td>1920142716</td>\n",
       "      <td>2019-08-19</td>\n",
       "      <td>1294500</td>\n",
       "      <td>B</td>\n",
       "    </tr>\n",
       "    <tr>\n",
       "      <th>1196</th>\n",
       "      <td>3936777065</td>\n",
       "      <td>2108080724</td>\n",
       "      <td>2019-08-15</td>\n",
       "      <td>202740</td>\n",
       "      <td>B</td>\n",
       "    </tr>\n",
       "    <tr>\n",
       "      <th>1136</th>\n",
       "      <td>666610489</td>\n",
       "      <td>1307669133</td>\n",
       "      <td>2019-08-13</td>\n",
       "      <td>92550</td>\n",
       "      <td>A</td>\n",
       "    </tr>\n",
       "    <tr>\n",
       "      <th>744</th>\n",
       "      <td>3668308183</td>\n",
       "      <td>888512513</td>\n",
       "      <td>2019-08-27</td>\n",
       "      <td>86620</td>\n",
       "      <td>B</td>\n",
       "    </tr>\n",
       "    <tr>\n",
       "      <th>743</th>\n",
       "      <td>3603576309</td>\n",
       "      <td>4133034833</td>\n",
       "      <td>2019-08-09</td>\n",
       "      <td>67990</td>\n",
       "      <td>A</td>\n",
       "    </tr>\n",
       "  </tbody>\n",
       "</table>\n",
       "</div>"
      ],
      "text/plain": [
       "      transaction_id  visitor_id       date  revenue group\n",
       "425   590470918       1920142716 2019-08-19  1294500  B   \n",
       "1196  3936777065      2108080724 2019-08-15  202740   B   \n",
       "1136  666610489       1307669133 2019-08-13  92550    A   \n",
       "744   3668308183      888512513  2019-08-27  86620    B   \n",
       "743   3603576309      4133034833 2019-08-09  67990    A   "
      ]
     },
     "metadata": {},
     "output_type": "display_data"
    }
   ],
   "source": [
    "# топ-5 самых дорогих по стоимости заказов \n",
    "display(orders.sort_values(by='revenue', ascending=False).head())"
   ]
  },
  {
   "cell_type": "code",
   "execution_count": 36,
   "metadata": {
    "scrolled": true
   },
   "outputs": [
    {
     "data": {
      "image/png": "[encoded data removed]",
      "text/plain": [
       "<Figure size 720x360 with 1 Axes>"
      ]
     },
     "metadata": {
      "needs_background": "light"
     },
     "output_type": "display_data"
    }
   ],
   "source": [
    "x_values = pd.Series(range(0,len(orders['revenue'])))\n",
    "plt.figure(figsize=(10,5))\n",
    "plt.grid()\n",
    "plt.title('График стоимостей заказов')\n",
    "plt.scatter(x_values, orders['revenue'], alpha=0.3);"
   ]
  },
  {
   "cell_type": "markdown",
   "metadata": {},
   "source": [
    "Изменим масштаб и отбросим выбросы с revenue больше 200 000:\n"
   ]
  },
  {
   "cell_type": "code",
   "execution_count": 37,
   "metadata": {},
   "outputs": [
    {
     "data": {
      "image/png": "[encoded data removed]",
      "text/plain": [
       "<Figure size 720x360 with 1 Axes>"
      ]
     },
     "metadata": {
      "needs_background": "light"
     },
     "output_type": "display_data"
    }
   ],
   "source": [
    "norm_orders = orders[orders['revenue']<=200000]['revenue']\n",
    "xn_values = pd.Series(range(0,len(norm_orders)))\n",
    "plt.figure(figsize=(10, 5))\n",
    "plt.grid()\n",
    "plt.title('Точечный график распределения стоимостей заказов', fontsize=12)\n",
    "plt.ylabel('Стоимость заказа, ₽', fontsize=10)\n",
    "plt.scatter(xn_values, norm_orders, alpha=0.4);\n",
    "\n"
   ]
  },
  {
   "cell_type": "markdown",
   "metadata": {},
   "source": [
    "*По графику можно заметить несколько крупных заказов. За границу аномальных значении можно выбрать диапазон заказов от 25 000 и 75 000 руб. Так как точное количество таких заказов неизвестно — считать их аномалиями или нет мы пока не можем.*"
   ]
  },
  {
   "cell_type": "markdown",
   "metadata": {},
   "source": [
    "### Граница для определения аномальных заказов (по выручке)"
   ]
  },
  {
   "cell_type": "code",
   "execution_count": 38,
   "metadata": {},
   "outputs": [
    {
     "name": "stdout",
     "output_type": "stream",
     "text": [
      "[26785. 53904.]\n"
     ]
    }
   ],
   "source": [
    "# Методом np.percentile('column', [percentile1, percentile2, percentile3]) находим перцентили\n",
    "print(np.percentile(orders['revenue'], [95, 99]))"
   ]
  },
  {
   "cell_type": "markdown",
   "metadata": {},
   "source": [
    "*Mеньше 5% заказов имеют cтоимость от 26785 руб и более, не более 1%- стоимость заказа  от 53904 руб. За нижнюю границу можно выбрать стоимость заказа в 26785 и отсеять аномальные заказы по этой границе.*\n"
   ]
  },
  {
   "cell_type": "markdown",
   "metadata": {},
   "source": [
    "### Статистическая значимость различий в среднем количестве заказов на пользователя между группами по «сырым» данным"
   ]
  },
  {
   "cell_type": "markdown",
   "metadata": {},
   "source": [
    "*Сформулируем гипотезы:*\n",
    "\n",
    "*H₀* - различий в среднем количестве заказов на пользователя между группами A и B нет,\n",
    "\n",
    "\n",
    "*H₁* - различия в среднем количестве заказов на пользователя между группами A и B есть."
   ]
  },
  {
   "cell_type": "markdown",
   "metadata": {},
   "source": [
    "Для расчета статистической значимости различий в конверсии между группами нам необходимо подготовить имеющиеся данные. Создадим новый датафрейм data со следующими столбцами:\n",
    "\n",
    "-  *date* - дата;\n",
    "-  *orders_a_daily* - количество заказов в выбранную дату в группе A;\n",
    "-  *revenue_per_date_a* - суммарная выручка в выбранную дату в группе A;\n",
    "-  *orders_b_daily* - количество заказов в выбранную дату в группе B;\n",
    "-  *revenue_per_date_b* - суммарная выручка в выбранную дату в группе B;\n",
    "-  *orders_a_cummulative* - суммарное число заказов до выбранной даты включительно в группе A;\n",
    "-  *revenue_cummulative_a* - суммарная выручка до выбранной даты включительно в группе A;\n",
    "-  *orders_b_cummulative* - суммарное число заказов до выбранной даты включительно в группе B;\n",
    "-  *revenue_cummulative_b* - суммарная выручка до выбранной даты включительно в группе B;\n",
    "-  *visitors_a_daily* - количество пользователей в выбранную дату в группе A;\n",
    "-  *visitors_a_cummulative* - количество пользователей до выбранной даты включительно в группе A;\n",
    "-  *visitors_b_daily* - количество пользователей в выбранную дату в группе B;\n",
    "-  *visitors_b_cummulative* - количество пользователей до выбранной даты включительно в группе B.\n",
    "\n",
    "\n"
   ]
  },
  {
   "cell_type": "code",
   "execution_count": 39,
   "metadata": {},
   "outputs": [],
   "source": [
    "# расчет количества пользователей в выбранную дату в группе А\n",
    "visitors_a_daily = visitors[visitors['group'] == 'A'][['date', 'visitors']]\n",
    "visitors_a_daily.columns = ['date', 'visitors_per_date_a']\n",
    "\n",
    "# расчет количества пользователей до выбранной даты включительно в группе А\n",
    "visitors_a_cummulative = visitors_a_daily.apply(\n",
    "    lambda x: visitors_a_daily[visitors_a_daily['date'] <= x['date']].agg(\n",
    "        {'date': 'max', 'visitors_per_date_a': 'sum'}\n",
    "    ),\n",
    "    axis=1,\n",
    ")\n",
    "visitors_a_cummulative.columns = ['date', 'visitors_cummulative_a']\n",
    "\n",
    "# расчет количества пользователей в выбранную дату в группе В\n",
    "visitors_b_daily = visitors[visitors['group'] == 'B'][['date', 'visitors']]\n",
    "visitors_b_daily.columns = ['date', 'visitors_per_date_b']\n",
    "\n",
    "# расчет количества пользователей до выбранной даты включительно в группе В\n",
    "visitors_b_cummulative = visitors_b_daily.apply(\n",
    "    lambda x: visitors_b_daily[visitors_b_daily['date'] <= x['date']].agg(\n",
    "        {'date': 'max', 'visitors_per_date_b': 'sum'}\n",
    "    ),\n",
    "    axis=1,\n",
    ")\n",
    "visitors_b_cummulative.columns = ['date', 'visitors_cummulative_b']\n",
    "\n",
    "# расчет количества заказов и суммарной выручки в выбранную дату в группе A\n",
    "orders_a_daily = (\n",
    "    orders[orders['group'] == 'A'][['date', 'transaction_id', 'visitor_id', 'revenue']]\n",
    "    .groupby('date', as_index=False)\n",
    "    .agg({'transaction_id': pd.Series.nunique, 'revenue': 'sum'})\n",
    ")\n",
    "orders_a_daily.columns = ['date', 'orders_per_date_a', 'revenue_per_date_a']\n",
    "\n",
    "\n",
    "# расчет суммарного числа заказов до выбранной даты включительно в группе A\n",
    "orders_a_cummulative = orders_a_daily.apply(\n",
    "    lambda x: orders_a_daily[orders_a_daily['date'] <= x['date']].agg(\n",
    "        {'date': 'max', 'orders_per_date_a': 'sum', 'revenue_per_date_a': 'sum'}\n",
    "    ),\n",
    "    axis=1,\n",
    ").sort_values(by=['date'])\n",
    "orders_a_cummulative.columns = [\n",
    "    'date',\n",
    "    'orders_cummulative_a',\n",
    "    'revenue_cummulative_a',\n",
    "]\n",
    "\n",
    "# расчет количества заказов и суммарной выручки в выбранную дату в группе В\n",
    "orders_b_daily = (\n",
    "    orders[orders['group'] == 'B'][['date', 'transaction_id', 'visitor_id', 'revenue']]\n",
    "    .groupby('date', as_index=False)\n",
    "    .agg({'transaction_id': pd.Series.nunique, 'revenue': 'sum'})\n",
    ")\n",
    "orders_b_daily.columns = ['date', 'orders_per_date_b', 'revenue_per_date_b']\n",
    "\n",
    "# расчет суммарного числа заказов до выбранной даты включительно в группе В\n",
    "orders_b_cummulative = orders_b_daily.apply(\n",
    "    lambda x: orders_b_daily[orders_b_daily['date'] <= x['date']].agg(\n",
    "        {'date': 'max', 'orders_per_date_b': 'sum', 'revenue_per_date_b': 'sum'}\n",
    "    ),\n",
    "    axis=1,\n",
    ").sort_values(by=['date'])\n",
    "orders_b_cummulative.columns = [\n",
    "    'date',\n",
    "    'orders_cummulative_b',\n",
    "    'revenue_cummulative_b',\n",
    "]\n"
   ]
  },
  {
   "cell_type": "code",
   "execution_count": 40,
   "metadata": {},
   "outputs": [
    {
     "data": {
      "text/html": [
       "<div>\n",
       "<style scoped>\n",
       "    .dataframe tbody tr th:only-of-type {\n",
       "        vertical-align: middle;\n",
       "    }\n",
       "\n",
       "    .dataframe tbody tr th {\n",
       "        vertical-align: top;\n",
       "    }\n",
       "\n",
       "    .dataframe thead th {\n",
       "        text-align: right;\n",
       "    }\n",
       "</style>\n",
       "<table border=\"1\" class=\"dataframe\">\n",
       "  <thead>\n",
       "    <tr style=\"text-align: right;\">\n",
       "      <th></th>\n",
       "      <th>date</th>\n",
       "      <th>orders_per_date_a</th>\n",
       "      <th>revenue_per_date_a</th>\n",
       "      <th>orders_per_date_b</th>\n",
       "      <th>revenue_per_date_b</th>\n",
       "      <th>orders_cummulative_a</th>\n",
       "      <th>revenue_cummulative_a</th>\n",
       "      <th>orders_cummulative_b</th>\n",
       "      <th>revenue_cummulative_b</th>\n",
       "      <th>visitors_per_date_a</th>\n",
       "      <th>visitors_per_date_b</th>\n",
       "      <th>visitors_cummulative_a</th>\n",
       "      <th>visitors_cummulative_b</th>\n",
       "    </tr>\n",
       "  </thead>\n",
       "  <tbody>\n",
       "    <tr>\n",
       "      <th>0</th>\n",
       "      <td>2019-08-01</td>\n",
       "      <td>23</td>\n",
       "      <td>142779</td>\n",
       "      <td>17</td>\n",
       "      <td>59758</td>\n",
       "      <td>23</td>\n",
       "      <td>142779</td>\n",
       "      <td>17</td>\n",
       "      <td>59758</td>\n",
       "      <td>719</td>\n",
       "      <td>713</td>\n",
       "      <td>719</td>\n",
       "      <td>713</td>\n",
       "    </tr>\n",
       "    <tr>\n",
       "      <th>1</th>\n",
       "      <td>2019-08-02</td>\n",
       "      <td>19</td>\n",
       "      <td>91602</td>\n",
       "      <td>23</td>\n",
       "      <td>162043</td>\n",
       "      <td>42</td>\n",
       "      <td>234381</td>\n",
       "      <td>40</td>\n",
       "      <td>221801</td>\n",
       "      <td>619</td>\n",
       "      <td>581</td>\n",
       "      <td>1338</td>\n",
       "      <td>1294</td>\n",
       "    </tr>\n",
       "    <tr>\n",
       "      <th>2</th>\n",
       "      <td>2019-08-03</td>\n",
       "      <td>24</td>\n",
       "      <td>112473</td>\n",
       "      <td>14</td>\n",
       "      <td>67049</td>\n",
       "      <td>66</td>\n",
       "      <td>346854</td>\n",
       "      <td>54</td>\n",
       "      <td>288850</td>\n",
       "      <td>507</td>\n",
       "      <td>509</td>\n",
       "      <td>1845</td>\n",
       "      <td>1803</td>\n",
       "    </tr>\n",
       "    <tr>\n",
       "      <th>3</th>\n",
       "      <td>2019-08-04</td>\n",
       "      <td>11</td>\n",
       "      <td>41176</td>\n",
       "      <td>14</td>\n",
       "      <td>96890</td>\n",
       "      <td>77</td>\n",
       "      <td>388030</td>\n",
       "      <td>68</td>\n",
       "      <td>385740</td>\n",
       "      <td>717</td>\n",
       "      <td>770</td>\n",
       "      <td>2562</td>\n",
       "      <td>2573</td>\n",
       "    </tr>\n",
       "    <tr>\n",
       "      <th>4</th>\n",
       "      <td>2019-08-05</td>\n",
       "      <td>22</td>\n",
       "      <td>86383</td>\n",
       "      <td>21</td>\n",
       "      <td>89908</td>\n",
       "      <td>99</td>\n",
       "      <td>474413</td>\n",
       "      <td>89</td>\n",
       "      <td>475648</td>\n",
       "      <td>756</td>\n",
       "      <td>707</td>\n",
       "      <td>3318</td>\n",
       "      <td>3280</td>\n",
       "    </tr>\n",
       "  </tbody>\n",
       "</table>\n",
       "</div>"
      ],
      "text/plain": [
       "        date  orders_per_date_a  revenue_per_date_a  orders_per_date_b  \\\n",
       "0 2019-08-01  23                 142779              17                  \n",
       "1 2019-08-02  19                 91602               23                  \n",
       "2 2019-08-03  24                 112473              14                  \n",
       "3 2019-08-04  11                 41176               14                  \n",
       "4 2019-08-05  22                 86383               21                  \n",
       "\n",
       "   revenue_per_date_b  orders_cummulative_a  revenue_cummulative_a  \\\n",
       "0  59758               23                    142779                  \n",
       "1  162043              42                    234381                  \n",
       "2  67049               66                    346854                  \n",
       "3  96890               77                    388030                  \n",
       "4  89908               99                    474413                  \n",
       "\n",
       "   orders_cummulative_b  revenue_cummulative_b  visitors_per_date_a  \\\n",
       "0  17                    59758                  719                   \n",
       "1  40                    221801                 619                   \n",
       "2  54                    288850                 507                   \n",
       "3  68                    385740                 717                   \n",
       "4  89                    475648                 756                   \n",
       "\n",
       "   visitors_per_date_b  visitors_cummulative_a  visitors_cummulative_b  \n",
       "0  713                  719                     713                     \n",
       "1  581                  1338                    1294                    \n",
       "2  509                  1845                    1803                    \n",
       "3  770                  2562                    2573                    \n",
       "4  707                  3318                    3280                    "
      ]
     },
     "metadata": {},
     "output_type": "display_data"
    }
   ],
   "source": [
    "# объединение датафреймов в один общий\n",
    "data = (\n",
    "    orders_a_daily.merge(\n",
    "        orders_b_daily, left_on='date', right_on='date', how='left'\n",
    "    )\n",
    "    .merge(orders_a_cummulative, left_on='date', right_on='date', how='left')\n",
    "    .merge(orders_b_cummulative, left_on='date', right_on='date', how='left')\n",
    "    .merge(visitors_a_daily, left_on='date', right_on='date', how='left')\n",
    "    .merge(visitors_b_daily, left_on='date', right_on='date', how='left')\n",
    "    .merge(visitors_a_cummulative, left_on='date', right_on='date', how='left')\n",
    "    .merge(visitors_b_cummulative, left_on='date', right_on='date', how='left')\n",
    ")\n",
    "\n",
    "display(data.head())"
   ]
  },
  {
   "cell_type": "markdown",
   "metadata": {},
   "source": [
    "1. Создадим переменные orders_by_users_a и orders_by_users_b со столбцами ['visitor_id', 'orders'], для пользователей которые заказывали минимум 1 раз, укажем количество заказов.\n",
    "\n",
    "2. Объявим переменные sample_a и sample_b, в которых пользователям с заказами будет соответствовать количество заказов пользователя, а пользователям без заказов — нули.\n",
    "\n",
    "3. Посчитаем статистическую значимость различия конверсии по результатам месяца теста.\n",
    "\n",
    "4. Применим тест Манна-Уитни.\n",
    "\n",
    "5. Выведем p-value для сравнения конверсии между группами.\n",
    "\n",
    "6. Вычислим относительное различие в конверсии между группами."
   ]
  },
  {
   "cell_type": "code",
   "execution_count": 41,
   "metadata": {},
   "outputs": [
    {
     "name": "stdout",
     "output_type": "stream",
     "text": [
      "p-value = 0.011\n",
      "Относительное различие в средней конверсии между группами по «сырым» данным: 0.160\n"
     ]
    }
   ],
   "source": [
    "# создадим датафреймы, в которых указано число заказов для пользователей, которые заказывали минимум 1 раз\n",
    "orders_by_users_a = (\n",
    "    orders[orders['group'] == 'A']\n",
    "    .groupby('visitor_id', as_index=False)\n",
    "    .agg({'transaction_id': pd.Series.nunique})\n",
    ")\n",
    "orders_by_users_a.columns = ['visitor_id', 'orders']\n",
    "\n",
    "orders_by_users_b = (\n",
    "    orders[orders['group'] == 'B']\n",
    "    .groupby('visitor_id', as_index=False)\n",
    "    .agg({'transaction_id': pd.Series.nunique})\n",
    ")\n",
    "orders_by_users_b.columns = ['visitor_id', 'orders']\n",
    "\n",
    "# переменныe в которых пользователям с заказами будет соответствовать число заказов пользователя,\n",
    "# пользователям без заказов — нули\n",
    "sample_a = pd.concat([orders_by_users_a['orders'],\n",
    "                      pd.Series(0, index=np.arange(\n",
    "                          data['visitors_per_date_a'].sum() -\n",
    "                          len(orders_by_users_a['orders'])), name='orders')], axis=0)\n",
    "\n",
    "sample_b = pd.concat([orders_by_users_b['orders'],\n",
    "                      pd.Series(0, index=np.arange(\n",
    "                          data['visitors_per_date_b'].sum() -\n",
    "                          len(orders_by_users_b['orders'])), name='orders')], axis=0)\n",
    "\n",
    "# рассчет статистической значимости различия конверсии по результатам теста Манна-Уитни\n",
    "print('p-value =', '{0:.3f}'.format(stats.mannwhitneyu(sample_a, sample_b)[1]))\n",
    "\n",
    "# рассчет относительного различия в конверсии между группами\n",
    "print('Относительное различие в средней конверсии между группами по «сырым» данным:',\n",
    "      '{0:.3f}'.format(sample_b.mean() / sample_a.mean() - 1))"
   ]
  },
  {
   "cell_type": "markdown",
   "metadata": {},
   "source": [
    "* p-value = 0.017, что меньше 0.05. Значит нулевую гипотезу об отсутствии различий в конверсии между группами можно отвергнуть. Средняя конверсия группы В больше средней конверсии группы А. Это означает что есть различия по «сырым» данным в конверсии групп A и B.*\n"
   ]
  },
  {
   "cell_type": "markdown",
   "metadata": {},
   "source": [
    "### Статистическая значимость различий в  среднем количестве заказов на пользователя между группами по «очищенным» данным"
   ]
  },
  {
   "cell_type": "markdown",
   "metadata": {},
   "source": [
    "Прежде было замечено, что 95-й и 99-й перцентили средних чеков равны 28 000 и 58 233 рублям, a 95-й и 99-й перцентили количества заказов на одного пользователя равны 2 и 4 заказам на пользователя. За аномальных пользователей будем считать тех кто совершил 2 и более заказа или совершил заказ дороже 28 000 рублей и сохраним это как multiple_orders и pricy. Тем самым мы уберём 5% пользователей с наибольшим числом заказов и от 1% до 5% пользователей с дорогими заказами.\n",
    "\n",
    "Сделаем срезы пользователей с числом заказов больше 2 — multiple_orders_users и пользователей, совершивших заказы дороже 28 000 — users_pricy. Объединим их в таблице anormal, в конце посчитаем количество аномальных пользователей методом shape()."
   ]
  },
  {
   "cell_type": "code",
   "execution_count": 42,
   "metadata": {},
   "outputs": [
    {
     "name": "stdout",
     "output_type": "stream",
     "text": [
      "568     113298937\n",
      "1099    148427295\n",
      "928     204675465\n",
      "33      249864742\n",
      "684     358944393\n",
      "Name: visitor_id, dtype: int64\n",
      "\n",
      "\n",
      "Количество аномальных пользователей: 86\n"
     ]
    }
   ],
   "source": [
    "multiple_orders = np.percentile(orders_by_users['orders'], 95)\n",
    "pricy = np.percentile(orders['revenue'], 95)\n",
    "multiple_orders_users = pd.concat([\n",
    "    orders_by_users_a[orders_by_users_a['orders'] > multiple_orders]['visitor_id'],\n",
    "    orders_by_users_b[orders_by_users_b['orders'] > multiple_orders]['visitor_id']], axis=0)\n",
    "users_pricy = orders[orders['revenue'] > pricy]['visitor_id']\n",
    "anormal = (pd.concat([\n",
    "    multiple_orders_users,\n",
    "    users_pricy], axis=0)\n",
    "                  .drop_duplicates()\n",
    "                  .sort_values())\n",
    "\n",
    "print(anormal .head())\n",
    "print('\\n')\n",
    "print('Количество аномальных пользователей:', anormal.shape[0])"
   ]
  },
  {
   "cell_type": "markdown",
   "metadata": {},
   "source": [
    " 1. *Выясним влияние аномальных пользователей(74) на результаты теста.*\n",
    "\n",
    " 2. *Посчитаем статистическую значимость различий в конверсии между группами теста по очищенным данным.*\n",
    "  \n",
    " 3. *Подготовим выборки количества заказов по пользователям по группам теста и применим критерий Манна-Уитни к полученным выборкам.*"
   ]
  },
  {
   "cell_type": "markdown",
   "metadata": {},
   "source": [
    "Гипотезы:\n",
    "\n",
    "H₀ - различий в конверсии между группами нет;\n",
    "\n",
    "H₁ - различия в конверсии между группами есть."
   ]
  },
  {
   "cell_type": "code",
   "execution_count": 43,
   "metadata": {},
   "outputs": [
    {
     "name": "stdout",
     "output_type": "stream",
     "text": [
      "p-value = 0.016\n",
      "Относительное различие в средней конверсии между группами по «очищенным» данным: 0.174\n"
     ]
    }
   ],
   "source": [
    "sample_a_filtered = pd.concat([\n",
    "    orders_by_users_a[np.logical_not(\n",
    "        orders_by_users_a['visitor_id']\n",
    "        .isin(anormal))]['orders'],\n",
    "    pd.Series(0, index=np.arange(data['visitors_per_date_a'].sum() -\n",
    "                                 len(orders_by_users_a['orders'])), name='orders')], axis=0)\n",
    "\n",
    "sample_b_filtered = pd.concat([\n",
    "    orders_by_users_b[np.logical_not(\n",
    "        orders_by_users_b['visitor_id']\n",
    "        .isin(anormal))]['orders'],\n",
    "    pd.Series(0, index=np.arange(data['visitors_per_date_b'].sum() -\n",
    "                                 len(orders_by_users_b['orders'])), name='orders')], axis=0)\n",
    "\n",
    "# рассчет статистической значимости различия конверсии по результатам теста Манна-Уитни\n",
    "print('p-value =', '{0:.3f}'.format(stats.mannwhitneyu(sample_a_filtered, sample_b_filtered)[1]))\n",
    "\n",
    "# рассчет относительного различия в конверсии между группами\n",
    "print('Относительное различие в средней конверсии между группами по «очищенным» данным:',\n",
    "      '{0:.3f}'.format(sample_b_filtered.mean()/sample_a_filtered.mean()-1))"
   ]
  },
  {
   "cell_type": "markdown",
   "metadata": {},
   "source": [
    "*p-value = 0.013, меньше 0.05. Это означает, что нулевую гипотезу об отсутствии различий по «очищенным» данным в конверсии между группами отвергаем. По «сырым» данным p-value был равен 0.017. Средняя конверсия группы A меньше средней конверсии группы B. Относительное различие в конверсии между группами по «сырым» данным было равно 0.138. Результаты по «очищенным» данным незначительно отличаются от результатов по «сырым» данным.*"
   ]
  },
  {
   "cell_type": "markdown",
   "metadata": {},
   "source": [
    "###  Cтатистическая значимость различий в среднем чеке заказа между группами по «сырым» данным. \n",
    "\n",
    "\n",
    "\n",
    "\n"
   ]
  },
  {
   "cell_type": "markdown",
   "metadata": {},
   "source": [
    "Посчитаем статистическую значимость различий в среднем чеке между группами по «сырым» данным — без удаления аномальных пользователей.\n",
    "\n",
    "Сформулируем гипотезы:\n",
    "\n",
    "H₀ - различий в среднем чеке между группами нет; \n",
    "\n",
    "H₁ - различия в среднем чеке между группами есть.\n",
    "\n",
    " \n",
    "Передадим критерию mannwhitneyu() данные о выручке с заказов и найдём относительные различия в среднем чеке между группами."
   ]
  },
  {
   "cell_type": "code",
   "execution_count": 44,
   "metadata": {},
   "outputs": [],
   "source": [
    "# Функция для проверки гипотезы о равенстве групп data A и data B\n",
    "def stat_significance(data_a, data_b):\n",
    "    alpha = 0.05\n",
    "    p_value = stats.mannwhitneyu(data_a, data_b)[1]\n",
    "    print(\"P-value: {0:.3f}\".format(p_value))\n",
    "\n",
    "    if (p_value < alpha):\n",
    "        print(\"Отвергаем нулевую гипотезу: между группами есть разница\")\n",
    "    else:\n",
    "        print(\"Не получилось отвергнуть нулевую гипотезу\")\n",
    "    \n",
    "    print(\"Относительный прирост группы В к группe А: {0:.3%}\".format(data_b.mean() / data_a.mean()-1))"
   ]
  },
  {
   "cell_type": "code",
   "execution_count": 45,
   "metadata": {
    "scrolled": true
   },
   "outputs": [
    {
     "name": "stdout",
     "output_type": "stream",
     "text": [
      "P-value: 0.829\n",
      "Не получилось отвергнуть нулевую гипотезу\n",
      "Относительный прирост группы В к группe А: 28.660%\n"
     ]
    }
   ],
   "source": [
    "stat_significance(orders[orders['group']=='A']['revenue'], orders[orders['group']=='B']['revenue'])\n"
   ]
  },
  {
   "cell_type": "markdown",
   "metadata": {},
   "source": [
    "*Вывод: P-value значительно больше 0.05. Значит, причин отвергать нулевую гипотезу и считать, что в среднем чеке есть различия, нет. Cредний чек группы B значительно выше среднего чека группы A.*"
   ]
  },
  {
   "cell_type": "markdown",
   "metadata": {},
   "source": [
    "### Статистическая значимость различий в среднем чеке заказа между группами по «очищенным» данным"
   ]
  },
  {
   "cell_type": "markdown",
   "metadata": {},
   "source": [
    "Сформулируем гипотезы:\n",
    "\n",
    "H₀ - различий в среднем чеке между группами нет; \n",
    "\n",
    "H₁ - различия в среднем чеке между группами есть.\n",
    "\n",
    "Передадим критерию mannwhitneyu() данные о выручке с заказов без учета аномальных пользователей и найдём относительные различия в среднем чеке между группами."
   ]
  },
  {
   "cell_type": "code",
   "execution_count": 46,
   "metadata": {},
   "outputs": [
    {
     "name": "stdout",
     "output_type": "stream",
     "text": [
      "p-value = 0.727\n",
      "Относительное различие в среднем чеке между группами по «очищенным» данным: -0.034\n"
     ]
    }
   ],
   "source": [
    "print('p-value =',\n",
    "      '{0:.3f}'.format(stats.mannwhitneyu(\n",
    "    orders[np.logical_and(\n",
    "        orders['group'] == 'A',\n",
    "        np.logical_not(orders['visitor_id']\n",
    "                       .isin(anormal)))]['revenue'], \n",
    "    orders[np.logical_and(\n",
    "        orders['group'] == 'B',\n",
    "        np.logical_not(orders['visitor_id']\n",
    "                       .isin(anormal)))]['revenue'])[1]))\n",
    "\n",
    "print('Относительное различие в среднем чеке между группами по «очищенным» данным:',\n",
    "      '{0:.3f}'.format(\n",
    "    orders[np.logical_and(\n",
    "        orders['group'] == 'B',\n",
    "        np.logical_not(orders['visitor_id']\n",
    "                       .isin(anormal)))]['revenue'].mean() /\n",
    "    orders[np.logical_and(\n",
    "        orders['group'] == 'A',\n",
    "        np.logical_not(orders['visitor_id']\n",
    "                       .isin(anormal)))]['revenue'].mean() - 1))"
   ]
  },
  {
   "cell_type": "markdown",
   "metadata": {},
   "source": [
    "*Вывод: p-value 0.738, что больше 0.05. Это означает, что причин отвергать нулевую гипотезу и считать, что в среднем чеке по «очищенным» данным есть различия, нет.*"
   ]
  },
  {
   "cell_type": "markdown",
   "metadata": {},
   "source": [
    "## Общий вывод"
   ]
  },
  {
   "cell_type": "markdown",
   "metadata": {},
   "source": [
    "*Задачей исследования было:*\n",
    "\n",
    "1. выполнить предобработку данных\n",
    "2. приоритизировать гипотезы,\n",
    "3. произвести A/B-тест,\n",
    "4. проанализировать результаты.\n",
    "\n",
    "*В первой части было сделано:*\n",
    "\n",
    "1. Названия столбцов были заменены и приведены к нижнему регистру;\n",
    "2. Тип данных столбцов изменен там, где это было необходимо\n",
    "\n",
    "*В ходе приоритизирования гипотез по фреймворкам ICE и RICE удалось определить наиболее важные из них:*\n",
    "\n",
    "7 - Добавить форму подписки на все основные страницы, чтобы собрать базу клиентов для email-рассылок;\n",
    "\n",
    "2 - Добавить блоки рекомендации товаров на сайт интернет магазина;\n",
    "\n",
    "0 - Добавить два новых канала привлечения трафика, что позволит привлекать на 30% больше пользователей.\n",
    "\n",
    "\n",
    "*В ходе тестирования выяснили:*\n",
    "\n",
    "- Кумулятивный средний чек группы В выше среднего чека группы А;\n",
    "\n",
    "- Кумулятивная конверсия группы В выше конверсии группы А;\n",
    "\n",
    "- Менее 5% от всех пользователей оформляли заказ больше чем 2 раза, 1% пользователей оформляли заказ более 4 раз;\n",
    "\n",
    "- Менее 5% от всех заказов имеют стоимость больше чем 28 000 рублей, 1% заказов - более 58 233 рублей;\n",
    "\n",
    "- Относительное различие в средней конверсии между группами: 0.138 по «сырым» данным и 0.173 по «oчищенным»;\n",
    "\n",
    "-  Гипотеза о равенстве конверсии между группами отвергнута, а относительная разница конверсии группы В на 13.8% больше, чем в группе А. При тестировании \"очищенных\" от выбросов данных результат также подтвердился: конверсия отличается, а относительная разница составила 18.5%- на столько конверсия группы В больше конверсии группы А;\n",
    "\n",
    "- Гипотеза о том, что различий в сумме среднего чека между группами нет, не отвергнута с очень большой долей вероятности, а относительная разница суммы среднего чека между группами составила 2.1% (против 25.8% по \"сырым\" данным)- после удаления выбросов разница между чеками обоих групп стремится к нулю.\n",
    "\n",
    "*Если основными целями тестрования были определить:*\n",
    " \n",
    "-суммy среднего чека, то она осталась прежней, присутствуют небольшие изменения. \n",
    "\n",
    "-получение дополнительной прибыли -тестирование показывает, что конверсия группы В отличается от группы А на 13-18.5%.\n",
    "\n",
    "*Рекомендации:*\n",
    "\n",
    "Тест остановить, зафиксировать отсутствие различий между группами по сумме среднего чека и победу группы В в части повышенной конверсии.\n",
    "\n",
    "\n"
   ]
  }
 ],
 "metadata": {
  "ExecuteTimeLog": [
   {
    "duration": 4,
    "start_time": "2023-07-24T12:46:09.595Z"
   },
   {
    "duration": 1725,
    "start_time": "2023-07-24T12:46:25.836Z"
   },
   {
    "duration": 218,
    "start_time": "2023-07-24T12:46:35.586Z"
   },
   {
    "duration": 10,
    "start_time": "2023-07-24T12:47:03.525Z"
   },
   {
    "duration": 15,
    "start_time": "2023-07-24T12:47:12.485Z"
   },
   {
    "duration": 123,
    "start_time": "2023-07-24T12:47:53.272Z"
   },
   {
    "duration": 11,
    "start_time": "2023-07-24T12:48:39.042Z"
   },
   {
    "duration": 10,
    "start_time": "2023-07-24T12:48:42.637Z"
   },
   {
    "duration": 15,
    "start_time": "2023-07-24T12:48:57.663Z"
   },
   {
    "duration": 13,
    "start_time": "2023-07-24T12:49:30.879Z"
   },
   {
    "duration": 9,
    "start_time": "2023-07-24T12:50:25.828Z"
   },
   {
    "duration": 20,
    "start_time": "2023-07-24T12:51:02.524Z"
   },
   {
    "duration": 13,
    "start_time": "2023-07-24T12:51:21.959Z"
   },
   {
    "duration": 12,
    "start_time": "2023-07-24T12:51:26.249Z"
   },
   {
    "duration": 7,
    "start_time": "2023-07-24T12:51:57.144Z"
   },
   {
    "duration": 10,
    "start_time": "2023-07-24T12:52:54.683Z"
   },
   {
    "duration": 17,
    "start_time": "2023-07-24T12:53:02.336Z"
   },
   {
    "duration": 4,
    "start_time": "2023-07-24T12:53:28.262Z"
   },
   {
    "duration": 9,
    "start_time": "2023-07-24T12:53:40.980Z"
   },
   {
    "duration": 8,
    "start_time": "2023-07-24T15:25:51.926Z"
   },
   {
    "duration": 1416,
    "start_time": "2023-07-24T15:25:59.499Z"
   },
   {
    "duration": 265,
    "start_time": "2023-07-24T15:26:00.918Z"
   },
   {
    "duration": 4,
    "start_time": "2023-07-24T15:26:01.184Z"
   },
   {
    "duration": 78,
    "start_time": "2023-07-24T15:26:01.190Z"
   },
   {
    "duration": 45,
    "start_time": "2023-07-24T15:26:01.269Z"
   },
   {
    "duration": 30,
    "start_time": "2023-07-24T15:26:01.316Z"
   },
   {
    "duration": 41,
    "start_time": "2023-07-24T15:26:01.348Z"
   },
   {
    "duration": 56,
    "start_time": "2023-07-24T15:26:01.392Z"
   },
   {
    "duration": 33,
    "start_time": "2023-07-24T15:26:01.450Z"
   },
   {
    "duration": 67,
    "start_time": "2023-07-24T15:26:01.486Z"
   },
   {
    "duration": 16,
    "start_time": "2023-07-24T15:26:01.554Z"
   },
   {
    "duration": 33,
    "start_time": "2023-07-24T15:26:01.571Z"
   },
   {
    "duration": 48,
    "start_time": "2023-07-24T15:26:01.613Z"
   },
   {
    "duration": 66,
    "start_time": "2023-07-24T15:26:01.662Z"
   },
   {
    "duration": 47,
    "start_time": "2023-07-24T15:26:01.730Z"
   },
   {
    "duration": 46,
    "start_time": "2023-07-24T15:26:01.779Z"
   },
   {
    "duration": 34,
    "start_time": "2023-07-24T15:26:26.078Z"
   },
   {
    "duration": 3,
    "start_time": "2023-07-24T15:27:08.294Z"
   },
   {
    "duration": 3,
    "start_time": "2023-07-24T15:27:10.521Z"
   },
   {
    "duration": 31,
    "start_time": "2023-07-24T15:27:12.794Z"
   },
   {
    "duration": 34,
    "start_time": "2023-07-24T15:27:14.738Z"
   },
   {
    "duration": 31,
    "start_time": "2023-07-24T15:28:45.678Z"
   },
   {
    "duration": 20,
    "start_time": "2023-07-24T15:29:55.062Z"
   },
   {
    "duration": 1064,
    "start_time": "2023-07-24T15:30:21.928Z"
   },
   {
    "duration": 80,
    "start_time": "2023-07-24T15:30:22.994Z"
   },
   {
    "duration": 3,
    "start_time": "2023-07-24T15:30:23.075Z"
   },
   {
    "duration": 59,
    "start_time": "2023-07-24T15:30:23.080Z"
   },
   {
    "duration": 24,
    "start_time": "2023-07-24T15:30:23.140Z"
   },
   {
    "duration": 11,
    "start_time": "2023-07-24T15:30:23.165Z"
   },
   {
    "duration": 48,
    "start_time": "2023-07-24T15:30:23.178Z"
   },
   {
    "duration": 15,
    "start_time": "2023-07-24T15:30:23.227Z"
   },
   {
    "duration": 24,
    "start_time": "2023-07-24T15:30:23.243Z"
   },
   {
    "duration": 4,
    "start_time": "2023-07-24T15:32:06.259Z"
   },
   {
    "duration": 5,
    "start_time": "2023-07-24T15:32:12.597Z"
   },
   {
    "duration": 16,
    "start_time": "2023-07-24T15:32:24.850Z"
   },
   {
    "duration": 8,
    "start_time": "2023-07-24T15:32:44.755Z"
   },
   {
    "duration": 1154,
    "start_time": "2023-07-24T15:33:21.024Z"
   },
   {
    "duration": 88,
    "start_time": "2023-07-24T15:33:22.180Z"
   },
   {
    "duration": 3,
    "start_time": "2023-07-24T15:33:22.270Z"
   },
   {
    "duration": 62,
    "start_time": "2023-07-24T15:33:22.274Z"
   },
   {
    "duration": 40,
    "start_time": "2023-07-24T15:33:22.339Z"
   },
   {
    "duration": 33,
    "start_time": "2023-07-24T15:33:22.381Z"
   },
   {
    "duration": 44,
    "start_time": "2023-07-24T15:33:22.418Z"
   },
   {
    "duration": 9,
    "start_time": "2023-07-24T15:33:22.464Z"
   },
   {
    "duration": 40,
    "start_time": "2023-07-24T15:33:22.475Z"
   },
   {
    "duration": 29,
    "start_time": "2023-07-24T15:33:22.516Z"
   },
   {
    "duration": 18,
    "start_time": "2023-07-24T15:33:22.547Z"
   },
   {
    "duration": 47,
    "start_time": "2023-07-24T15:33:22.567Z"
   },
   {
    "duration": 3,
    "start_time": "2023-07-24T15:34:13.018Z"
   },
   {
    "duration": 7,
    "start_time": "2023-07-24T15:34:15.125Z"
   },
   {
    "duration": 791,
    "start_time": "2023-07-24T15:34:46.406Z"
   },
   {
    "duration": 1190,
    "start_time": "2023-07-24T15:34:55.821Z"
   },
   {
    "duration": 78,
    "start_time": "2023-07-24T15:34:57.018Z"
   },
   {
    "duration": 11,
    "start_time": "2023-07-24T15:34:57.097Z"
   },
   {
    "duration": 52,
    "start_time": "2023-07-24T15:34:57.111Z"
   },
   {
    "duration": 28,
    "start_time": "2023-07-24T15:34:57.164Z"
   },
   {
    "duration": 22,
    "start_time": "2023-07-24T15:34:57.193Z"
   },
   {
    "duration": 44,
    "start_time": "2023-07-24T15:34:57.216Z"
   },
   {
    "duration": 4,
    "start_time": "2023-07-24T15:34:57.261Z"
   },
   {
    "duration": 11,
    "start_time": "2023-07-24T15:34:57.266Z"
   },
   {
    "duration": 3,
    "start_time": "2023-07-24T15:34:57.279Z"
   },
   {
    "duration": 38,
    "start_time": "2023-07-24T15:34:57.283Z"
   },
   {
    "duration": 32,
    "start_time": "2023-07-24T15:34:57.323Z"
   },
   {
    "duration": 14,
    "start_time": "2023-07-24T16:24:20.054Z"
   },
   {
    "duration": 14,
    "start_time": "2023-07-24T16:24:43.759Z"
   },
   {
    "duration": 324,
    "start_time": "2023-07-24T16:25:03.140Z"
   },
   {
    "duration": 17,
    "start_time": "2023-07-24T16:31:58.029Z"
   },
   {
    "duration": 11,
    "start_time": "2023-07-24T16:32:29.030Z"
   },
   {
    "duration": 10,
    "start_time": "2023-07-24T16:32:52.386Z"
   },
   {
    "duration": 12,
    "start_time": "2023-07-24T16:33:04.455Z"
   },
   {
    "duration": 21,
    "start_time": "2023-07-24T16:33:18.314Z"
   },
   {
    "duration": 5,
    "start_time": "2023-07-24T16:33:32.472Z"
   },
   {
    "duration": 5,
    "start_time": "2023-07-24T16:33:32.943Z"
   },
   {
    "duration": 162,
    "start_time": "2023-07-24T16:33:55.621Z"
   },
   {
    "duration": 172,
    "start_time": "2023-07-24T16:34:24.888Z"
   },
   {
    "duration": 337,
    "start_time": "2023-07-24T16:35:23.636Z"
   },
   {
    "duration": 319,
    "start_time": "2023-07-24T16:36:42.550Z"
   },
   {
    "duration": 246,
    "start_time": "2023-07-24T16:36:56.491Z"
   },
   {
    "duration": 156,
    "start_time": "2023-07-24T16:38:38.835Z"
   },
   {
    "duration": 27,
    "start_time": "2023-07-24T16:39:17.696Z"
   },
   {
    "duration": 11,
    "start_time": "2023-07-24T16:39:32.854Z"
   },
   {
    "duration": 15,
    "start_time": "2023-07-24T16:39:38.672Z"
   },
   {
    "duration": 14,
    "start_time": "2023-07-24T16:39:51.199Z"
   },
   {
    "duration": 284,
    "start_time": "2023-07-24T16:40:37.666Z"
   },
   {
    "duration": 277,
    "start_time": "2023-07-24T16:40:52.793Z"
   },
   {
    "duration": 289,
    "start_time": "2023-07-24T16:41:02.225Z"
   },
   {
    "duration": 358,
    "start_time": "2023-07-24T16:41:13.750Z"
   },
   {
    "duration": 295,
    "start_time": "2023-07-24T16:46:00.966Z"
   },
   {
    "duration": 287,
    "start_time": "2023-07-24T16:46:41.372Z"
   },
   {
    "duration": 285,
    "start_time": "2023-07-24T16:46:49.128Z"
   },
   {
    "duration": 193,
    "start_time": "2023-07-24T16:49:23.395Z"
   },
   {
    "duration": 217,
    "start_time": "2023-07-24T16:49:28.157Z"
   },
   {
    "duration": 255,
    "start_time": "2023-07-24T16:49:42.166Z"
   },
   {
    "duration": 192,
    "start_time": "2023-07-24T16:50:24.475Z"
   },
   {
    "duration": 379,
    "start_time": "2023-07-24T16:51:55.480Z"
   },
   {
    "duration": 300,
    "start_time": "2023-07-24T16:52:51.581Z"
   },
   {
    "duration": 12,
    "start_time": "2023-07-24T16:54:11.731Z"
   },
   {
    "duration": 14,
    "start_time": "2023-07-24T16:54:44.762Z"
   },
   {
    "duration": 141,
    "start_time": "2023-07-24T16:55:40.284Z"
   },
   {
    "duration": 226,
    "start_time": "2023-07-24T16:56:03.928Z"
   },
   {
    "duration": 230,
    "start_time": "2023-07-24T16:56:18.166Z"
   },
   {
    "duration": 10,
    "start_time": "2023-07-24T16:56:38.077Z"
   },
   {
    "duration": 11,
    "start_time": "2023-07-24T16:57:45.043Z"
   },
   {
    "duration": 30,
    "start_time": "2023-07-24T16:57:49.391Z"
   },
   {
    "duration": 197,
    "start_time": "2023-07-24T16:57:53.839Z"
   },
   {
    "duration": 178,
    "start_time": "2023-07-24T16:58:03.071Z"
   },
   {
    "duration": 126,
    "start_time": "2023-07-24T16:58:10.168Z"
   },
   {
    "duration": 3,
    "start_time": "2023-07-24T16:59:48.457Z"
   },
   {
    "duration": 10,
    "start_time": "2023-07-24T17:00:18.659Z"
   },
   {
    "duration": 5,
    "start_time": "2023-07-24T17:00:32.835Z"
   },
   {
    "duration": 18,
    "start_time": "2023-07-24T17:01:08.996Z"
   },
   {
    "duration": 241,
    "start_time": "2023-07-24T17:01:53.996Z"
   },
   {
    "duration": 3,
    "start_time": "2023-07-24T17:02:06.584Z"
   },
   {
    "duration": 22,
    "start_time": "2023-07-24T17:09:32.891Z"
   },
   {
    "duration": 142,
    "start_time": "2023-07-24T17:09:52.848Z"
   },
   {
    "duration": 157,
    "start_time": "2023-07-24T17:13:56.067Z"
   },
   {
    "duration": 4,
    "start_time": "2023-07-24T17:16:53.191Z"
   },
   {
    "duration": 1435,
    "start_time": "2023-07-26T11:01:54.189Z"
   },
   {
    "duration": 187,
    "start_time": "2023-07-26T11:01:55.626Z"
   },
   {
    "duration": 5,
    "start_time": "2023-07-26T11:01:55.815Z"
   },
   {
    "duration": 76,
    "start_time": "2023-07-26T11:01:55.822Z"
   },
   {
    "duration": 31,
    "start_time": "2023-07-26T11:01:55.899Z"
   },
   {
    "duration": 28,
    "start_time": "2023-07-26T11:01:55.932Z"
   },
   {
    "duration": 57,
    "start_time": "2023-07-26T11:01:55.961Z"
   },
   {
    "duration": 4,
    "start_time": "2023-07-26T11:01:56.020Z"
   },
   {
    "duration": 26,
    "start_time": "2023-07-26T11:01:56.026Z"
   },
   {
    "duration": 10,
    "start_time": "2023-07-26T11:01:56.057Z"
   },
   {
    "duration": 9,
    "start_time": "2023-07-26T11:01:56.069Z"
   },
   {
    "duration": 30,
    "start_time": "2023-07-26T11:01:56.081Z"
   },
   {
    "duration": 13,
    "start_time": "2023-07-26T11:01:56.114Z"
   },
   {
    "duration": 32,
    "start_time": "2023-07-26T11:01:56.128Z"
   },
   {
    "duration": 9,
    "start_time": "2023-07-26T11:01:56.163Z"
   },
   {
    "duration": 19,
    "start_time": "2023-07-26T11:01:56.173Z"
   },
   {
    "duration": 8,
    "start_time": "2023-07-26T11:01:56.194Z"
   },
   {
    "duration": 23,
    "start_time": "2023-07-26T11:01:56.204Z"
   },
   {
    "duration": 37,
    "start_time": "2023-07-26T11:01:56.229Z"
   },
   {
    "duration": 4,
    "start_time": "2023-07-26T11:01:56.268Z"
   },
   {
    "duration": 341,
    "start_time": "2023-07-26T11:01:56.274Z"
   },
   {
    "duration": 320,
    "start_time": "2023-07-26T11:01:56.616Z"
   },
   {
    "duration": 259,
    "start_time": "2023-07-26T11:01:56.938Z"
   },
   {
    "duration": 379,
    "start_time": "2023-07-26T11:01:57.199Z"
   },
   {
    "duration": 235,
    "start_time": "2023-07-26T11:01:57.580Z"
   },
   {
    "duration": 375,
    "start_time": "2023-07-26T11:01:57.817Z"
   },
   {
    "duration": 9,
    "start_time": "2023-07-26T11:01:58.193Z"
   },
   {
    "duration": 28,
    "start_time": "2023-07-26T11:01:58.206Z"
   },
   {
    "duration": 150,
    "start_time": "2023-07-26T11:01:58.236Z"
   },
   {
    "duration": 156,
    "start_time": "2023-07-26T11:01:58.388Z"
   },
   {
    "duration": 12,
    "start_time": "2023-07-26T11:01:58.547Z"
   },
   {
    "duration": 222,
    "start_time": "2023-07-26T11:01:58.560Z"
   },
   {
    "duration": 16,
    "start_time": "2023-07-26T11:01:58.784Z"
   },
   {
    "duration": 161,
    "start_time": "2023-07-26T11:01:58.802Z"
   },
   {
    "duration": 281,
    "start_time": "2023-07-26T11:01:58.965Z"
   },
   {
    "duration": 24,
    "start_time": "2023-07-26T11:01:59.247Z"
   },
   {
    "duration": 241,
    "start_time": "2023-07-26T11:48:17.750Z"
   },
   {
    "duration": 237,
    "start_time": "2023-07-26T11:50:21.125Z"
   },
   {
    "duration": 35,
    "start_time": "2023-07-26T11:50:25.308Z"
   },
   {
    "duration": 167,
    "start_time": "2023-07-26T11:51:32.038Z"
   },
   {
    "duration": 13,
    "start_time": "2023-07-26T11:56:42.797Z"
   },
   {
    "duration": 111,
    "start_time": "2023-07-26T11:57:38.796Z"
   },
   {
    "duration": 32,
    "start_time": "2023-07-26T11:57:57.453Z"
   },
   {
    "duration": 14,
    "start_time": "2023-07-26T12:00:35.257Z"
   },
   {
    "duration": 4,
    "start_time": "2023-07-26T12:11:18.729Z"
   },
   {
    "duration": 1442,
    "start_time": "2023-07-26T12:11:26.929Z"
   },
   {
    "duration": 159,
    "start_time": "2023-07-26T12:11:28.373Z"
   },
   {
    "duration": 4,
    "start_time": "2023-07-26T12:11:28.534Z"
   },
   {
    "duration": 166,
    "start_time": "2023-07-26T12:11:28.542Z"
   },
   {
    "duration": 62,
    "start_time": "2023-07-26T12:11:28.711Z"
   },
   {
    "duration": 22,
    "start_time": "2023-07-26T12:11:28.776Z"
   },
   {
    "duration": 60,
    "start_time": "2023-07-26T12:11:28.800Z"
   },
   {
    "duration": 5,
    "start_time": "2023-07-26T12:11:28.863Z"
   },
   {
    "duration": 21,
    "start_time": "2023-07-26T12:11:28.869Z"
   },
   {
    "duration": 4,
    "start_time": "2023-07-26T12:11:28.893Z"
   },
   {
    "duration": 7,
    "start_time": "2023-07-26T12:11:28.899Z"
   },
   {
    "duration": 57,
    "start_time": "2023-07-26T12:11:28.909Z"
   },
   {
    "duration": 19,
    "start_time": "2023-07-26T12:11:28.968Z"
   },
   {
    "duration": 17,
    "start_time": "2023-07-26T12:11:28.989Z"
   },
   {
    "duration": 12,
    "start_time": "2023-07-26T12:11:29.008Z"
   },
   {
    "duration": 45,
    "start_time": "2023-07-26T12:11:29.022Z"
   },
   {
    "duration": 12,
    "start_time": "2023-07-26T12:11:29.069Z"
   },
   {
    "duration": 23,
    "start_time": "2023-07-26T12:11:29.083Z"
   },
   {
    "duration": 51,
    "start_time": "2023-07-26T12:11:29.108Z"
   },
   {
    "duration": 6,
    "start_time": "2023-07-26T12:11:29.161Z"
   },
   {
    "duration": 346,
    "start_time": "2023-07-26T12:11:29.169Z"
   },
   {
    "duration": 416,
    "start_time": "2023-07-26T12:11:29.516Z"
   },
   {
    "duration": 297,
    "start_time": "2023-07-26T12:11:29.935Z"
   },
   {
    "duration": 368,
    "start_time": "2023-07-26T12:11:30.234Z"
   },
   {
    "duration": 260,
    "start_time": "2023-07-26T12:11:30.604Z"
   },
   {
    "duration": 416,
    "start_time": "2023-07-26T12:11:30.866Z"
   },
   {
    "duration": 11,
    "start_time": "2023-07-26T12:11:31.284Z"
   },
   {
    "duration": 66,
    "start_time": "2023-07-26T12:11:31.300Z"
   },
   {
    "duration": 203,
    "start_time": "2023-07-26T12:11:31.369Z"
   },
   {
    "duration": 170,
    "start_time": "2023-07-26T12:11:31.574Z"
   },
   {
    "duration": 15,
    "start_time": "2023-07-26T12:11:31.746Z"
   },
   {
    "duration": 116,
    "start_time": "2023-07-26T12:11:31.763Z"
   },
   {
    "duration": 35,
    "start_time": "2023-07-26T12:11:31.881Z"
   },
   {
    "duration": 251,
    "start_time": "2023-07-26T12:11:31.919Z"
   },
   {
    "duration": 367,
    "start_time": "2023-07-26T12:11:32.172Z"
   },
   {
    "duration": 18,
    "start_time": "2023-07-26T12:11:32.541Z"
   },
   {
    "duration": 234,
    "start_time": "2023-07-26T12:11:32.562Z"
   },
   {
    "duration": 32,
    "start_time": "2023-07-26T12:11:32.798Z"
   },
   {
    "duration": 209,
    "start_time": "2023-07-26T12:11:32.832Z"
   },
   {
    "duration": 23,
    "start_time": "2023-07-26T12:11:33.043Z"
   },
   {
    "duration": 58,
    "start_time": "2023-07-26T12:11:33.070Z"
   },
   {
    "duration": 18,
    "start_time": "2023-07-26T12:11:33.131Z"
   },
   {
    "duration": 694,
    "start_time": "2023-07-26T12:14:53.730Z"
   },
   {
    "duration": 824,
    "start_time": "2023-07-26T12:15:00.393Z"
   },
   {
    "duration": 1267,
    "start_time": "2023-07-26T12:15:08.020Z"
   },
   {
    "duration": 84,
    "start_time": "2023-07-26T12:15:09.289Z"
   },
   {
    "duration": 28,
    "start_time": "2023-07-26T12:15:09.376Z"
   },
   {
    "duration": 69,
    "start_time": "2023-07-26T12:15:09.405Z"
   },
   {
    "duration": 31,
    "start_time": "2023-07-26T12:15:09.478Z"
   },
   {
    "duration": 12,
    "start_time": "2023-07-26T12:15:09.511Z"
   },
   {
    "duration": 61,
    "start_time": "2023-07-26T12:15:09.525Z"
   },
   {
    "duration": 4,
    "start_time": "2023-07-26T12:15:09.589Z"
   },
   {
    "duration": 46,
    "start_time": "2023-07-26T12:15:09.596Z"
   },
   {
    "duration": 19,
    "start_time": "2023-07-26T12:15:09.645Z"
   },
   {
    "duration": 10,
    "start_time": "2023-07-26T12:15:09.666Z"
   },
   {
    "duration": 36,
    "start_time": "2023-07-26T12:15:09.679Z"
   },
   {
    "duration": 16,
    "start_time": "2023-07-26T12:15:09.717Z"
   },
   {
    "duration": 27,
    "start_time": "2023-07-26T12:15:09.737Z"
   },
   {
    "duration": 27,
    "start_time": "2023-07-26T12:15:09.766Z"
   },
   {
    "duration": 37,
    "start_time": "2023-07-26T12:15:09.795Z"
   },
   {
    "duration": 12,
    "start_time": "2023-07-26T12:15:09.834Z"
   },
   {
    "duration": 43,
    "start_time": "2023-07-26T12:15:09.848Z"
   },
   {
    "duration": 28,
    "start_time": "2023-07-26T12:15:09.893Z"
   },
   {
    "duration": 6,
    "start_time": "2023-07-26T12:15:09.923Z"
   },
   {
    "duration": 564,
    "start_time": "2023-07-26T12:15:09.932Z"
   },
   {
    "duration": 404,
    "start_time": "2023-07-26T12:15:10.498Z"
   },
   {
    "duration": 251,
    "start_time": "2023-07-26T12:15:10.905Z"
   },
   {
    "duration": 365,
    "start_time": "2023-07-26T12:15:11.159Z"
   },
   {
    "duration": 250,
    "start_time": "2023-07-26T12:15:11.526Z"
   },
   {
    "duration": 376,
    "start_time": "2023-07-26T12:15:11.778Z"
   },
   {
    "duration": 10,
    "start_time": "2023-07-26T12:15:12.159Z"
   },
   {
    "duration": 18,
    "start_time": "2023-07-26T12:15:12.171Z"
   },
   {
    "duration": 192,
    "start_time": "2023-07-26T12:15:12.192Z"
   },
   {
    "duration": 149,
    "start_time": "2023-07-26T12:15:12.387Z"
   },
   {
    "duration": 6,
    "start_time": "2023-07-26T12:15:12.538Z"
   },
   {
    "duration": 18,
    "start_time": "2023-07-26T12:15:12.546Z"
   },
   {
    "duration": 22,
    "start_time": "2023-07-26T12:15:12.566Z"
   },
   {
    "duration": 575,
    "start_time": "2023-07-26T12:15:12.591Z"
   },
   {
    "duration": 538,
    "start_time": "2023-07-26T12:15:13.168Z"
   },
   {
    "duration": 6,
    "start_time": "2023-07-26T12:15:13.759Z"
   },
   {
    "duration": 513,
    "start_time": "2023-07-26T12:15:13.768Z"
   },
   {
    "duration": 98,
    "start_time": "2023-07-26T12:15:14.283Z"
   },
   {
    "duration": 492,
    "start_time": "2023-07-26T12:15:14.383Z"
   },
   {
    "duration": 14,
    "start_time": "2023-07-26T12:15:14.877Z"
   },
   {
    "duration": 94,
    "start_time": "2023-07-26T12:15:14.895Z"
   },
   {
    "duration": 66,
    "start_time": "2023-07-26T12:15:14.993Z"
   },
   {
    "duration": 5,
    "start_time": "2023-07-26T12:15:40.097Z"
   },
   {
    "duration": 26,
    "start_time": "2023-07-26T12:16:27.924Z"
   },
   {
    "duration": 1500,
    "start_time": "2023-07-27T06:09:50.833Z"
   },
   {
    "duration": 213,
    "start_time": "2023-07-27T06:09:52.336Z"
   },
   {
    "duration": 4,
    "start_time": "2023-07-27T06:09:52.551Z"
   },
   {
    "duration": 96,
    "start_time": "2023-07-27T06:09:52.556Z"
   },
   {
    "duration": 36,
    "start_time": "2023-07-27T06:09:52.654Z"
   },
   {
    "duration": 37,
    "start_time": "2023-07-27T06:09:52.692Z"
   },
   {
    "duration": 28,
    "start_time": "2023-07-27T06:09:52.731Z"
   },
   {
    "duration": 16,
    "start_time": "2023-07-27T06:09:52.761Z"
   },
   {
    "duration": 31,
    "start_time": "2023-07-27T06:09:52.779Z"
   },
   {
    "duration": 9,
    "start_time": "2023-07-27T06:09:52.816Z"
   },
   {
    "duration": 16,
    "start_time": "2023-07-27T06:09:52.827Z"
   },
   {
    "duration": 40,
    "start_time": "2023-07-27T06:09:52.845Z"
   },
   {
    "duration": 29,
    "start_time": "2023-07-27T06:09:52.888Z"
   },
   {
    "duration": 19,
    "start_time": "2023-07-27T06:09:52.921Z"
   },
   {
    "duration": 19,
    "start_time": "2023-07-27T06:09:52.941Z"
   },
   {
    "duration": 36,
    "start_time": "2023-07-27T06:09:52.961Z"
   },
   {
    "duration": 22,
    "start_time": "2023-07-27T06:09:52.999Z"
   },
   {
    "duration": 18,
    "start_time": "2023-07-27T06:09:53.023Z"
   },
   {
    "duration": 26,
    "start_time": "2023-07-27T06:09:53.043Z"
   },
   {
    "duration": 14,
    "start_time": "2023-07-27T06:09:53.071Z"
   },
   {
    "duration": 372,
    "start_time": "2023-07-27T06:09:53.086Z"
   },
   {
    "duration": 360,
    "start_time": "2023-07-27T06:09:53.459Z"
   },
   {
    "duration": 254,
    "start_time": "2023-07-27T06:09:53.822Z"
   },
   {
    "duration": 401,
    "start_time": "2023-07-27T06:09:54.078Z"
   },
   {
    "duration": 252,
    "start_time": "2023-07-27T06:09:54.481Z"
   },
   {
    "duration": 341,
    "start_time": "2023-07-27T06:09:54.735Z"
   },
   {
    "duration": 10,
    "start_time": "2023-07-27T06:09:55.078Z"
   },
   {
    "duration": 31,
    "start_time": "2023-07-27T06:09:55.091Z"
   },
   {
    "duration": 145,
    "start_time": "2023-07-27T06:09:55.124Z"
   },
   {
    "duration": 168,
    "start_time": "2023-07-27T06:09:55.272Z"
   },
   {
    "duration": 5,
    "start_time": "2023-07-27T06:09:55.441Z"
   },
   {
    "duration": 18,
    "start_time": "2023-07-27T06:09:55.447Z"
   },
   {
    "duration": 20,
    "start_time": "2023-07-27T06:09:55.467Z"
   },
   {
    "duration": 181,
    "start_time": "2023-07-27T06:09:55.489Z"
   },
   {
    "duration": 283,
    "start_time": "2023-07-27T06:09:55.672Z"
   },
   {
    "duration": 5,
    "start_time": "2023-07-27T06:09:55.957Z"
   },
   {
    "duration": 259,
    "start_time": "2023-07-27T06:09:55.964Z"
   },
   {
    "duration": 33,
    "start_time": "2023-07-27T06:09:56.224Z"
   },
   {
    "duration": 192,
    "start_time": "2023-07-27T06:09:56.259Z"
   },
   {
    "duration": 11,
    "start_time": "2023-07-27T06:09:56.452Z"
   },
   {
    "duration": 167,
    "start_time": "2023-07-27T06:09:56.467Z"
   },
   {
    "duration": 88,
    "start_time": "2023-07-27T06:09:56.636Z"
   },
   {
    "duration": 12,
    "start_time": "2023-07-27T06:21:17.925Z"
   },
   {
    "duration": 23,
    "start_time": "2023-07-27T06:24:34.213Z"
   },
   {
    "duration": 5,
    "start_time": "2023-07-27T06:24:44.248Z"
   },
   {
    "duration": 323,
    "start_time": "2023-07-27T06:26:12.818Z"
   },
   {
    "duration": 1312,
    "start_time": "2023-07-27T06:28:32.838Z"
   },
   {
    "duration": 108,
    "start_time": "2023-07-27T06:28:34.152Z"
   },
   {
    "duration": 4,
    "start_time": "2023-07-27T06:28:34.262Z"
   },
   {
    "duration": 72,
    "start_time": "2023-07-27T06:28:34.267Z"
   },
   {
    "duration": 31,
    "start_time": "2023-07-27T06:28:34.344Z"
   },
   {
    "duration": 48,
    "start_time": "2023-07-27T06:28:34.376Z"
   },
   {
    "duration": 28,
    "start_time": "2023-07-27T06:28:34.435Z"
   },
   {
    "duration": 3,
    "start_time": "2023-07-27T06:28:34.465Z"
   },
   {
    "duration": 36,
    "start_time": "2023-07-27T06:28:34.470Z"
   },
   {
    "duration": 5,
    "start_time": "2023-07-27T06:28:34.512Z"
   },
   {
    "duration": 32,
    "start_time": "2023-07-27T06:28:34.518Z"
   },
   {
    "duration": 29,
    "start_time": "2023-07-27T06:28:34.552Z"
   },
   {
    "duration": 22,
    "start_time": "2023-07-27T06:28:34.582Z"
   },
   {
    "duration": 21,
    "start_time": "2023-07-27T06:28:34.607Z"
   },
   {
    "duration": 18,
    "start_time": "2023-07-27T06:28:34.633Z"
   },
   {
    "duration": 12,
    "start_time": "2023-07-27T06:28:34.653Z"
   },
   {
    "duration": 7,
    "start_time": "2023-07-27T06:28:34.666Z"
   },
   {
    "duration": 26,
    "start_time": "2023-07-27T06:28:34.675Z"
   },
   {
    "duration": 32,
    "start_time": "2023-07-27T06:28:34.703Z"
   },
   {
    "duration": 17,
    "start_time": "2023-07-27T06:28:34.738Z"
   },
   {
    "duration": 416,
    "start_time": "2023-07-27T06:28:34.758Z"
   },
   {
    "duration": 406,
    "start_time": "2023-07-27T06:28:35.176Z"
   },
   {
    "duration": 317,
    "start_time": "2023-07-27T06:28:35.584Z"
   },
   {
    "duration": 329,
    "start_time": "2023-07-27T06:28:35.918Z"
   },
   {
    "duration": 281,
    "start_time": "2023-07-27T06:28:36.249Z"
   },
   {
    "duration": 321,
    "start_time": "2023-07-27T06:28:36.540Z"
   },
   {
    "duration": 10,
    "start_time": "2023-07-27T06:28:36.862Z"
   },
   {
    "duration": 47,
    "start_time": "2023-07-27T06:28:36.873Z"
   },
   {
    "duration": 149,
    "start_time": "2023-07-27T06:28:36.922Z"
   },
   {
    "duration": 176,
    "start_time": "2023-07-27T06:28:37.073Z"
   },
   {
    "duration": 4,
    "start_time": "2023-07-27T06:28:37.251Z"
   },
   {
    "duration": 11,
    "start_time": "2023-07-27T06:28:37.257Z"
   },
   {
    "duration": 38,
    "start_time": "2023-07-27T06:28:37.269Z"
   },
   {
    "duration": 183,
    "start_time": "2023-07-27T06:28:37.309Z"
   },
   {
    "duration": 280,
    "start_time": "2023-07-27T06:28:37.500Z"
   },
   {
    "duration": 11,
    "start_time": "2023-07-27T06:28:37.781Z"
   },
   {
    "duration": 414,
    "start_time": "2023-07-27T06:28:37.804Z"
   },
   {
    "duration": 105,
    "start_time": "2023-07-27T06:28:38.220Z"
   },
   {
    "duration": 485,
    "start_time": "2023-07-27T06:28:38.328Z"
   },
   {
    "duration": 19,
    "start_time": "2023-07-27T06:28:38.815Z"
   },
   {
    "duration": 113,
    "start_time": "2023-07-27T06:28:38.838Z"
   },
   {
    "duration": 42,
    "start_time": "2023-07-27T06:28:38.999Z"
   },
   {
    "duration": 269,
    "start_time": "2023-07-27T06:29:07.878Z"
   },
   {
    "duration": 296,
    "start_time": "2023-07-27T06:40:30.775Z"
   },
   {
    "duration": 282,
    "start_time": "2023-07-27T06:41:25.240Z"
   },
   {
    "duration": 249,
    "start_time": "2023-07-27T06:42:02.510Z"
   },
   {
    "duration": 244,
    "start_time": "2023-07-27T06:42:27.477Z"
   },
   {
    "duration": 249,
    "start_time": "2023-07-27T06:44:43.522Z"
   },
   {
    "duration": 288,
    "start_time": "2023-07-27T06:45:55.179Z"
   },
   {
    "duration": 229,
    "start_time": "2023-07-27T06:46:03.814Z"
   },
   {
    "duration": 229,
    "start_time": "2023-07-27T06:46:14.163Z"
   },
   {
    "duration": 1348,
    "start_time": "2023-07-27T09:41:16.157Z"
   },
   {
    "duration": 245,
    "start_time": "2023-07-27T09:41:17.508Z"
   },
   {
    "duration": 4,
    "start_time": "2023-07-27T09:41:17.755Z"
   },
   {
    "duration": 70,
    "start_time": "2023-07-27T09:41:17.761Z"
   },
   {
    "duration": 27,
    "start_time": "2023-07-27T09:41:17.832Z"
   },
   {
    "duration": 18,
    "start_time": "2023-07-27T09:41:17.861Z"
   },
   {
    "duration": 39,
    "start_time": "2023-07-27T09:41:17.880Z"
   },
   {
    "duration": 16,
    "start_time": "2023-07-27T09:41:17.921Z"
   },
   {
    "duration": 53,
    "start_time": "2023-07-27T09:41:17.938Z"
   },
   {
    "duration": 13,
    "start_time": "2023-07-27T09:41:17.993Z"
   },
   {
    "duration": 28,
    "start_time": "2023-07-27T09:41:18.007Z"
   },
   {
    "duration": 33,
    "start_time": "2023-07-27T09:41:18.036Z"
   },
   {
    "duration": 30,
    "start_time": "2023-07-27T09:41:18.070Z"
   },
   {
    "duration": 95,
    "start_time": "2023-07-27T09:41:18.104Z"
   },
   {
    "duration": 50,
    "start_time": "2023-07-27T09:41:18.201Z"
   },
   {
    "duration": 28,
    "start_time": "2023-07-27T09:41:18.252Z"
   },
   {
    "duration": 14,
    "start_time": "2023-07-27T09:41:18.281Z"
   },
   {
    "duration": 33,
    "start_time": "2023-07-27T09:41:18.296Z"
   },
   {
    "duration": 27,
    "start_time": "2023-07-27T09:41:18.331Z"
   },
   {
    "duration": 8,
    "start_time": "2023-07-27T09:41:18.359Z"
   },
   {
    "duration": 295,
    "start_time": "2023-07-27T09:41:18.369Z"
   },
   {
    "duration": 289,
    "start_time": "2023-07-27T09:41:18.665Z"
   },
   {
    "duration": 210,
    "start_time": "2023-07-27T09:41:18.955Z"
   },
   {
    "duration": 373,
    "start_time": "2023-07-27T09:41:19.167Z"
   },
   {
    "duration": 204,
    "start_time": "2023-07-27T09:41:19.542Z"
   },
   {
    "duration": 443,
    "start_time": "2023-07-27T09:41:19.748Z"
   },
   {
    "duration": 14,
    "start_time": "2023-07-27T09:41:20.192Z"
   },
   {
    "duration": 77,
    "start_time": "2023-07-27T09:41:20.208Z"
   },
   {
    "duration": 315,
    "start_time": "2023-07-27T09:41:20.287Z"
   },
   {
    "duration": 303,
    "start_time": "2023-07-27T09:41:20.604Z"
   },
   {
    "duration": 5,
    "start_time": "2023-07-27T09:41:20.910Z"
   },
   {
    "duration": 118,
    "start_time": "2023-07-27T09:41:20.918Z"
   },
   {
    "duration": 66,
    "start_time": "2023-07-27T09:41:21.039Z"
   },
   {
    "duration": 370,
    "start_time": "2023-07-27T09:41:21.107Z"
   },
   {
    "duration": 355,
    "start_time": "2023-07-27T09:41:21.478Z"
   },
   {
    "duration": 5,
    "start_time": "2023-07-27T09:41:21.834Z"
   },
   {
    "duration": 201,
    "start_time": "2023-07-27T09:41:21.840Z"
   },
   {
    "duration": 34,
    "start_time": "2023-07-27T09:41:22.042Z"
   },
   {
    "duration": 158,
    "start_time": "2023-07-27T09:41:22.079Z"
   },
   {
    "duration": 10,
    "start_time": "2023-07-27T09:41:22.239Z"
   },
   {
    "duration": 43,
    "start_time": "2023-07-27T09:41:22.253Z"
   },
   {
    "duration": 14,
    "start_time": "2023-07-27T09:41:22.298Z"
   },
   {
    "duration": 186,
    "start_time": "2023-07-27T10:43:29.148Z"
   },
   {
    "duration": 129,
    "start_time": "2023-07-27T10:56:09.391Z"
   },
   {
    "duration": 4,
    "start_time": "2023-07-27T11:03:04.012Z"
   },
   {
    "duration": 5,
    "start_time": "2023-07-27T11:05:19.900Z"
   },
   {
    "duration": 12,
    "start_time": "2023-07-27T11:06:35.874Z"
   },
   {
    "duration": 144,
    "start_time": "2023-07-27T11:06:56.359Z"
   },
   {
    "duration": 151,
    "start_time": "2023-07-27T11:07:08.793Z"
   },
   {
    "duration": 177,
    "start_time": "2023-07-27T11:07:13.759Z"
   },
   {
    "duration": 133,
    "start_time": "2023-07-27T11:07:17.795Z"
   },
   {
    "duration": 164,
    "start_time": "2023-07-27T11:08:04.008Z"
   },
   {
    "duration": 12,
    "start_time": "2023-07-27T11:53:53.463Z"
   },
   {
    "duration": 117,
    "start_time": "2023-07-27T11:56:55.098Z"
   },
   {
    "duration": 18,
    "start_time": "2023-07-27T11:57:22.294Z"
   },
   {
    "duration": 15,
    "start_time": "2023-07-27T11:59:02.983Z"
   },
   {
    "duration": 11,
    "start_time": "2023-07-27T11:59:07.782Z"
   },
   {
    "duration": 11,
    "start_time": "2023-07-27T12:00:11.119Z"
   },
   {
    "duration": 12,
    "start_time": "2023-07-27T12:00:15.691Z"
   },
   {
    "duration": 10,
    "start_time": "2023-07-27T12:01:03.603Z"
   },
   {
    "duration": 11,
    "start_time": "2023-07-27T12:01:45.602Z"
   },
   {
    "duration": 1474,
    "start_time": "2023-07-27T13:43:59.421Z"
   },
   {
    "duration": 200,
    "start_time": "2023-07-27T13:44:00.898Z"
   },
   {
    "duration": 4,
    "start_time": "2023-07-27T13:44:01.100Z"
   },
   {
    "duration": 83,
    "start_time": "2023-07-27T13:44:01.105Z"
   },
   {
    "duration": 29,
    "start_time": "2023-07-27T13:44:01.190Z"
   },
   {
    "duration": 14,
    "start_time": "2023-07-27T13:44:01.220Z"
   },
   {
    "duration": 51,
    "start_time": "2023-07-27T13:44:01.235Z"
   },
   {
    "duration": 11,
    "start_time": "2023-07-27T13:44:01.288Z"
   },
   {
    "duration": 37,
    "start_time": "2023-07-27T13:44:01.300Z"
   },
   {
    "duration": 43,
    "start_time": "2023-07-27T13:44:01.341Z"
   },
   {
    "duration": 35,
    "start_time": "2023-07-27T13:44:01.386Z"
   },
   {
    "duration": 48,
    "start_time": "2023-07-27T13:44:01.423Z"
   },
   {
    "duration": 33,
    "start_time": "2023-07-27T13:44:01.473Z"
   },
   {
    "duration": 54,
    "start_time": "2023-07-27T13:44:01.508Z"
   },
   {
    "duration": 32,
    "start_time": "2023-07-27T13:44:01.564Z"
   },
   {
    "duration": 42,
    "start_time": "2023-07-27T13:44:01.598Z"
   },
   {
    "duration": 24,
    "start_time": "2023-07-27T13:44:01.642Z"
   },
   {
    "duration": 91,
    "start_time": "2023-07-27T13:44:01.667Z"
   },
   {
    "duration": 78,
    "start_time": "2023-07-27T13:44:01.760Z"
   },
   {
    "duration": 30,
    "start_time": "2023-07-27T13:44:01.840Z"
   },
   {
    "duration": 345,
    "start_time": "2023-07-27T13:44:01.871Z"
   },
   {
    "duration": 346,
    "start_time": "2023-07-27T13:44:02.217Z"
   },
   {
    "duration": 234,
    "start_time": "2023-07-27T13:44:02.565Z"
   },
   {
    "duration": 337,
    "start_time": "2023-07-27T13:44:02.802Z"
   },
   {
    "duration": 207,
    "start_time": "2023-07-27T13:44:03.141Z"
   },
   {
    "duration": 341,
    "start_time": "2023-07-27T13:44:03.350Z"
   },
   {
    "duration": 8,
    "start_time": "2023-07-27T13:44:03.693Z"
   },
   {
    "duration": 35,
    "start_time": "2023-07-27T13:44:03.705Z"
   },
   {
    "duration": 147,
    "start_time": "2023-07-27T13:44:03.742Z"
   },
   {
    "duration": 147,
    "start_time": "2023-07-27T13:44:03.891Z"
   },
   {
    "duration": 5,
    "start_time": "2023-07-27T13:44:04.040Z"
   },
   {
    "duration": 7,
    "start_time": "2023-07-27T13:44:04.047Z"
   },
   {
    "duration": 11,
    "start_time": "2023-07-27T13:44:04.071Z"
   },
   {
    "duration": 236,
    "start_time": "2023-07-27T13:44:04.083Z"
   },
   {
    "duration": 0,
    "start_time": "2023-07-27T13:44:04.321Z"
   },
   {
    "duration": 0,
    "start_time": "2023-07-27T13:44:04.322Z"
   },
   {
    "duration": 1,
    "start_time": "2023-07-27T13:44:04.323Z"
   },
   {
    "duration": 0,
    "start_time": "2023-07-27T13:44:04.325Z"
   },
   {
    "duration": 0,
    "start_time": "2023-07-27T13:44:04.326Z"
   },
   {
    "duration": 0,
    "start_time": "2023-07-27T13:44:04.327Z"
   },
   {
    "duration": 0,
    "start_time": "2023-07-27T13:44:04.329Z"
   },
   {
    "duration": 1203,
    "start_time": "2023-07-27T15:05:51.121Z"
   },
   {
    "duration": 80,
    "start_time": "2023-07-27T15:05:52.326Z"
   },
   {
    "duration": 3,
    "start_time": "2023-07-27T15:05:52.408Z"
   },
   {
    "duration": 42,
    "start_time": "2023-07-27T15:05:52.413Z"
   },
   {
    "duration": 27,
    "start_time": "2023-07-27T15:05:52.457Z"
   },
   {
    "duration": 13,
    "start_time": "2023-07-27T15:05:52.486Z"
   },
   {
    "duration": 36,
    "start_time": "2023-07-27T15:05:52.500Z"
   },
   {
    "duration": 6,
    "start_time": "2023-07-27T15:05:52.538Z"
   },
   {
    "duration": 31,
    "start_time": "2023-07-27T15:05:52.545Z"
   },
   {
    "duration": 4,
    "start_time": "2023-07-27T15:05:52.577Z"
   },
   {
    "duration": 9,
    "start_time": "2023-07-27T15:05:52.582Z"
   },
   {
    "duration": 22,
    "start_time": "2023-07-27T15:05:52.592Z"
   },
   {
    "duration": 11,
    "start_time": "2023-07-27T15:05:52.616Z"
   },
   {
    "duration": 12,
    "start_time": "2023-07-27T15:05:52.631Z"
   },
   {
    "duration": 38,
    "start_time": "2023-07-27T15:05:52.645Z"
   },
   {
    "duration": 12,
    "start_time": "2023-07-27T15:05:52.685Z"
   },
   {
    "duration": 11,
    "start_time": "2023-07-27T15:05:52.699Z"
   },
   {
    "duration": 14,
    "start_time": "2023-07-27T15:05:52.712Z"
   },
   {
    "duration": 18,
    "start_time": "2023-07-27T15:05:52.728Z"
   },
   {
    "duration": 24,
    "start_time": "2023-07-27T15:05:52.747Z"
   },
   {
    "duration": 310,
    "start_time": "2023-07-27T15:05:52.773Z"
   },
   {
    "duration": 305,
    "start_time": "2023-07-27T15:05:53.085Z"
   },
   {
    "duration": 211,
    "start_time": "2023-07-27T15:05:53.392Z"
   },
   {
    "duration": 330,
    "start_time": "2023-07-27T15:05:53.604Z"
   },
   {
    "duration": 217,
    "start_time": "2023-07-27T15:05:53.936Z"
   },
   {
    "duration": 326,
    "start_time": "2023-07-27T15:05:54.154Z"
   },
   {
    "duration": 8,
    "start_time": "2023-07-27T15:05:54.482Z"
   },
   {
    "duration": 16,
    "start_time": "2023-07-27T15:05:54.491Z"
   },
   {
    "duration": 143,
    "start_time": "2023-07-27T15:05:54.508Z"
   },
   {
    "duration": 142,
    "start_time": "2023-07-27T15:05:54.652Z"
   },
   {
    "duration": 4,
    "start_time": "2023-07-27T15:05:54.796Z"
   },
   {
    "duration": 31,
    "start_time": "2023-07-27T15:05:54.802Z"
   },
   {
    "duration": 22,
    "start_time": "2023-07-27T15:05:54.834Z"
   },
   {
    "duration": 231,
    "start_time": "2023-07-27T15:05:54.858Z"
   },
   {
    "duration": 0,
    "start_time": "2023-07-27T15:05:55.091Z"
   },
   {
    "duration": 0,
    "start_time": "2023-07-27T15:05:55.093Z"
   },
   {
    "duration": 0,
    "start_time": "2023-07-27T15:05:55.094Z"
   },
   {
    "duration": 0,
    "start_time": "2023-07-27T15:05:55.096Z"
   },
   {
    "duration": 0,
    "start_time": "2023-07-27T15:05:55.098Z"
   },
   {
    "duration": 0,
    "start_time": "2023-07-27T15:05:55.099Z"
   },
   {
    "duration": 0,
    "start_time": "2023-07-27T15:05:55.101Z"
   },
   {
    "duration": 1253,
    "start_time": "2023-07-27T16:14:15.711Z"
   },
   {
    "duration": 83,
    "start_time": "2023-07-27T16:14:16.967Z"
   },
   {
    "duration": 6,
    "start_time": "2023-07-27T16:14:17.052Z"
   },
   {
    "duration": 51,
    "start_time": "2023-07-27T16:14:17.059Z"
   },
   {
    "duration": 27,
    "start_time": "2023-07-27T16:14:17.113Z"
   },
   {
    "duration": 31,
    "start_time": "2023-07-27T16:14:17.142Z"
   },
   {
    "duration": 67,
    "start_time": "2023-07-27T16:14:17.175Z"
   },
   {
    "duration": 20,
    "start_time": "2023-07-27T16:14:17.244Z"
   },
   {
    "duration": 24,
    "start_time": "2023-07-27T16:14:17.266Z"
   },
   {
    "duration": 5,
    "start_time": "2023-07-27T16:14:17.292Z"
   },
   {
    "duration": 38,
    "start_time": "2023-07-27T16:14:17.299Z"
   },
   {
    "duration": 33,
    "start_time": "2023-07-27T16:14:17.339Z"
   },
   {
    "duration": 11,
    "start_time": "2023-07-27T16:14:17.374Z"
   },
   {
    "duration": 16,
    "start_time": "2023-07-27T16:14:17.389Z"
   },
   {
    "duration": 24,
    "start_time": "2023-07-27T16:14:17.407Z"
   },
   {
    "duration": 58,
    "start_time": "2023-07-27T16:14:17.433Z"
   },
   {
    "duration": 9,
    "start_time": "2023-07-27T16:14:17.493Z"
   },
   {
    "duration": 16,
    "start_time": "2023-07-27T16:14:17.504Z"
   },
   {
    "duration": 18,
    "start_time": "2023-07-27T16:14:17.522Z"
   },
   {
    "duration": 5,
    "start_time": "2023-07-27T16:14:17.542Z"
   },
   {
    "duration": 330,
    "start_time": "2023-07-27T16:14:17.548Z"
   },
   {
    "duration": 301,
    "start_time": "2023-07-27T16:14:17.880Z"
   },
   {
    "duration": 212,
    "start_time": "2023-07-27T16:14:18.183Z"
   },
   {
    "duration": 323,
    "start_time": "2023-07-27T16:14:18.396Z"
   },
   {
    "duration": 226,
    "start_time": "2023-07-27T16:14:18.721Z"
   },
   {
    "duration": 376,
    "start_time": "2023-07-27T16:14:18.949Z"
   },
   {
    "duration": 9,
    "start_time": "2023-07-27T16:14:19.327Z"
   },
   {
    "duration": 18,
    "start_time": "2023-07-27T16:14:19.337Z"
   },
   {
    "duration": 144,
    "start_time": "2023-07-27T16:14:19.357Z"
   },
   {
    "duration": 143,
    "start_time": "2023-07-27T16:14:19.503Z"
   },
   {
    "duration": 5,
    "start_time": "2023-07-27T16:14:19.648Z"
   },
   {
    "duration": 16,
    "start_time": "2023-07-27T16:14:19.655Z"
   },
   {
    "duration": 80,
    "start_time": "2023-07-27T16:14:19.673Z"
   },
   {
    "duration": 275,
    "start_time": "2023-07-27T16:14:19.755Z"
   },
   {
    "duration": 0,
    "start_time": "2023-07-27T16:14:20.033Z"
   },
   {
    "duration": 0,
    "start_time": "2023-07-27T16:14:20.034Z"
   },
   {
    "duration": 0,
    "start_time": "2023-07-27T16:14:20.036Z"
   },
   {
    "duration": 0,
    "start_time": "2023-07-27T16:14:20.038Z"
   },
   {
    "duration": 0,
    "start_time": "2023-07-27T16:14:20.039Z"
   },
   {
    "duration": 0,
    "start_time": "2023-07-27T16:14:20.041Z"
   },
   {
    "duration": 0,
    "start_time": "2023-07-27T16:14:20.042Z"
   },
   {
    "duration": 1183,
    "start_time": "2023-07-27T16:14:58.714Z"
   },
   {
    "duration": 80,
    "start_time": "2023-07-27T16:14:59.899Z"
   },
   {
    "duration": 4,
    "start_time": "2023-07-27T16:14:59.980Z"
   },
   {
    "duration": 81,
    "start_time": "2023-07-27T16:14:59.986Z"
   },
   {
    "duration": 38,
    "start_time": "2023-07-27T16:15:00.070Z"
   },
   {
    "duration": 39,
    "start_time": "2023-07-27T16:15:00.109Z"
   },
   {
    "duration": 63,
    "start_time": "2023-07-27T16:15:00.150Z"
   },
   {
    "duration": 14,
    "start_time": "2023-07-27T16:15:00.215Z"
   },
   {
    "duration": 97,
    "start_time": "2023-07-27T16:15:00.230Z"
   },
   {
    "duration": 25,
    "start_time": "2023-07-27T16:15:00.328Z"
   },
   {
    "duration": 54,
    "start_time": "2023-07-27T16:15:00.355Z"
   },
   {
    "duration": 116,
    "start_time": "2023-07-27T16:15:00.411Z"
   },
   {
    "duration": 55,
    "start_time": "2023-07-27T16:15:00.529Z"
   },
   {
    "duration": 163,
    "start_time": "2023-07-27T16:15:00.587Z"
   },
   {
    "duration": 35,
    "start_time": "2023-07-27T16:15:00.752Z"
   },
   {
    "duration": 62,
    "start_time": "2023-07-27T16:15:00.789Z"
   },
   {
    "duration": 35,
    "start_time": "2023-07-27T16:15:00.853Z"
   },
   {
    "duration": 54,
    "start_time": "2023-07-27T16:15:00.890Z"
   },
   {
    "duration": 49,
    "start_time": "2023-07-27T16:15:00.945Z"
   },
   {
    "duration": 28,
    "start_time": "2023-07-27T16:15:00.995Z"
   },
   {
    "duration": 339,
    "start_time": "2023-07-27T16:15:01.025Z"
   },
   {
    "duration": 322,
    "start_time": "2023-07-27T16:15:01.366Z"
   },
   {
    "duration": 225,
    "start_time": "2023-07-27T16:15:01.689Z"
   },
   {
    "duration": 312,
    "start_time": "2023-07-27T16:15:01.916Z"
   },
   {
    "duration": 218,
    "start_time": "2023-07-27T16:15:02.230Z"
   },
   {
    "duration": 343,
    "start_time": "2023-07-27T16:15:02.449Z"
   },
   {
    "duration": 10,
    "start_time": "2023-07-27T16:15:02.794Z"
   },
   {
    "duration": 46,
    "start_time": "2023-07-27T16:15:02.806Z"
   },
   {
    "duration": 155,
    "start_time": "2023-07-27T16:15:02.854Z"
   },
   {
    "duration": 138,
    "start_time": "2023-07-27T16:15:03.011Z"
   },
   {
    "duration": 4,
    "start_time": "2023-07-27T16:15:03.151Z"
   },
   {
    "duration": 38,
    "start_time": "2023-07-27T16:15:03.157Z"
   },
   {
    "duration": 36,
    "start_time": "2023-07-27T16:15:03.197Z"
   },
   {
    "duration": 225,
    "start_time": "2023-07-27T16:15:03.235Z"
   },
   {
    "duration": 0,
    "start_time": "2023-07-27T16:15:03.471Z"
   },
   {
    "duration": 0,
    "start_time": "2023-07-27T16:15:03.472Z"
   },
   {
    "duration": 0,
    "start_time": "2023-07-27T16:15:03.474Z"
   },
   {
    "duration": 0,
    "start_time": "2023-07-27T16:15:03.476Z"
   },
   {
    "duration": 0,
    "start_time": "2023-07-27T16:15:03.477Z"
   },
   {
    "duration": 0,
    "start_time": "2023-07-27T16:15:03.479Z"
   },
   {
    "duration": 0,
    "start_time": "2023-07-27T16:15:03.480Z"
   },
   {
    "duration": 201,
    "start_time": "2023-07-27T16:15:47.744Z"
   },
   {
    "duration": 122,
    "start_time": "2023-07-27T16:16:33.302Z"
   },
   {
    "duration": 126,
    "start_time": "2023-07-27T16:17:33.810Z"
   },
   {
    "duration": 145,
    "start_time": "2023-07-27T16:22:39.548Z"
   },
   {
    "duration": 196,
    "start_time": "2023-07-27T16:23:26.490Z"
   },
   {
    "duration": 161,
    "start_time": "2023-07-27T16:23:33.863Z"
   },
   {
    "duration": 155,
    "start_time": "2023-07-27T16:24:12.496Z"
   },
   {
    "duration": 1324,
    "start_time": "2023-07-27T16:25:49.111Z"
   },
   {
    "duration": 78,
    "start_time": "2023-07-27T16:25:50.437Z"
   },
   {
    "duration": 3,
    "start_time": "2023-07-27T16:25:50.517Z"
   },
   {
    "duration": 41,
    "start_time": "2023-07-27T16:25:50.522Z"
   },
   {
    "duration": 29,
    "start_time": "2023-07-27T16:25:50.565Z"
   },
   {
    "duration": 11,
    "start_time": "2023-07-27T16:25:50.596Z"
   },
   {
    "duration": 41,
    "start_time": "2023-07-27T16:25:50.608Z"
   },
   {
    "duration": 3,
    "start_time": "2023-07-27T16:25:50.651Z"
   },
   {
    "duration": 22,
    "start_time": "2023-07-27T16:25:50.656Z"
   },
   {
    "duration": 20,
    "start_time": "2023-07-27T16:25:50.680Z"
   },
   {
    "duration": 33,
    "start_time": "2023-07-27T16:25:50.701Z"
   },
   {
    "duration": 21,
    "start_time": "2023-07-27T16:25:50.736Z"
   },
   {
    "duration": 11,
    "start_time": "2023-07-27T16:25:50.759Z"
   },
   {
    "duration": 16,
    "start_time": "2023-07-27T16:25:50.773Z"
   },
   {
    "duration": 13,
    "start_time": "2023-07-27T16:25:50.791Z"
   },
   {
    "duration": 52,
    "start_time": "2023-07-27T16:25:50.806Z"
   },
   {
    "duration": 44,
    "start_time": "2023-07-27T16:25:50.860Z"
   },
   {
    "duration": 25,
    "start_time": "2023-07-27T16:25:50.906Z"
   },
   {
    "duration": 30,
    "start_time": "2023-07-27T16:25:50.932Z"
   },
   {
    "duration": 4,
    "start_time": "2023-07-27T16:25:50.964Z"
   },
   {
    "duration": 312,
    "start_time": "2023-07-27T16:25:50.969Z"
   },
   {
    "duration": 312,
    "start_time": "2023-07-27T16:25:51.283Z"
   },
   {
    "duration": 221,
    "start_time": "2023-07-27T16:25:51.597Z"
   },
   {
    "duration": 312,
    "start_time": "2023-07-27T16:25:51.819Z"
   },
   {
    "duration": 208,
    "start_time": "2023-07-27T16:25:52.133Z"
   },
   {
    "duration": 350,
    "start_time": "2023-07-27T16:25:52.343Z"
   },
   {
    "duration": 9,
    "start_time": "2023-07-27T16:25:52.694Z"
   },
   {
    "duration": 30,
    "start_time": "2023-07-27T16:25:52.704Z"
   },
   {
    "duration": 130,
    "start_time": "2023-07-27T16:25:52.735Z"
   },
   {
    "duration": 140,
    "start_time": "2023-07-27T16:25:52.867Z"
   },
   {
    "duration": 5,
    "start_time": "2023-07-27T16:25:53.008Z"
   },
   {
    "duration": 12,
    "start_time": "2023-07-27T16:25:53.014Z"
   },
   {
    "duration": 28,
    "start_time": "2023-07-27T16:25:53.027Z"
   },
   {
    "duration": 233,
    "start_time": "2023-07-27T16:25:53.057Z"
   },
   {
    "duration": 0,
    "start_time": "2023-07-27T16:25:53.292Z"
   },
   {
    "duration": 0,
    "start_time": "2023-07-27T16:25:53.293Z"
   },
   {
    "duration": 0,
    "start_time": "2023-07-27T16:25:53.294Z"
   },
   {
    "duration": 0,
    "start_time": "2023-07-27T16:25:53.295Z"
   },
   {
    "duration": 0,
    "start_time": "2023-07-27T16:25:53.296Z"
   },
   {
    "duration": 0,
    "start_time": "2023-07-27T16:25:53.297Z"
   },
   {
    "duration": 0,
    "start_time": "2023-07-27T16:25:53.298Z"
   },
   {
    "duration": 219,
    "start_time": "2023-07-27T16:28:48.347Z"
   },
   {
    "duration": 150,
    "start_time": "2023-07-27T16:29:03.167Z"
   },
   {
    "duration": 154,
    "start_time": "2023-07-27T16:29:08.651Z"
   },
   {
    "duration": 162,
    "start_time": "2023-07-27T16:30:24.843Z"
   },
   {
    "duration": 1267,
    "start_time": "2023-07-27T16:30:34.463Z"
   },
   {
    "duration": 80,
    "start_time": "2023-07-27T16:30:35.732Z"
   },
   {
    "duration": 3,
    "start_time": "2023-07-27T16:30:35.814Z"
   },
   {
    "duration": 64,
    "start_time": "2023-07-27T16:30:35.819Z"
   },
   {
    "duration": 56,
    "start_time": "2023-07-27T16:30:35.886Z"
   },
   {
    "duration": 26,
    "start_time": "2023-07-27T16:30:35.944Z"
   },
   {
    "duration": 45,
    "start_time": "2023-07-27T16:30:35.971Z"
   },
   {
    "duration": 55,
    "start_time": "2023-07-27T16:30:36.017Z"
   },
   {
    "duration": 36,
    "start_time": "2023-07-27T16:30:36.074Z"
   },
   {
    "duration": 11,
    "start_time": "2023-07-27T16:30:36.112Z"
   },
   {
    "duration": 56,
    "start_time": "2023-07-27T16:30:36.124Z"
   },
   {
    "duration": 39,
    "start_time": "2023-07-27T16:30:36.181Z"
   },
   {
    "duration": 17,
    "start_time": "2023-07-27T16:30:36.222Z"
   },
   {
    "duration": 23,
    "start_time": "2023-07-27T16:30:36.243Z"
   },
   {
    "duration": 32,
    "start_time": "2023-07-27T16:30:36.267Z"
   },
   {
    "duration": 20,
    "start_time": "2023-07-27T16:30:36.301Z"
   },
   {
    "duration": 17,
    "start_time": "2023-07-27T16:30:36.323Z"
   },
   {
    "duration": 39,
    "start_time": "2023-07-27T16:30:36.342Z"
   },
   {
    "duration": 33,
    "start_time": "2023-07-27T16:30:36.383Z"
   },
   {
    "duration": 8,
    "start_time": "2023-07-27T16:30:36.418Z"
   },
   {
    "duration": 660,
    "start_time": "2023-07-27T16:30:36.428Z"
   },
   {
    "duration": 625,
    "start_time": "2023-07-27T16:30:37.090Z"
   },
   {
    "duration": 466,
    "start_time": "2023-07-27T16:30:37.717Z"
   },
   {
    "duration": 325,
    "start_time": "2023-07-27T16:30:38.185Z"
   },
   {
    "duration": 201,
    "start_time": "2023-07-27T16:30:38.512Z"
   },
   {
    "duration": 303,
    "start_time": "2023-07-27T16:30:38.715Z"
   },
   {
    "duration": 8,
    "start_time": "2023-07-27T16:30:39.020Z"
   },
   {
    "duration": 16,
    "start_time": "2023-07-27T16:30:39.030Z"
   },
   {
    "duration": 146,
    "start_time": "2023-07-27T16:30:39.047Z"
   },
   {
    "duration": 151,
    "start_time": "2023-07-27T16:30:39.195Z"
   },
   {
    "duration": 4,
    "start_time": "2023-07-27T16:30:39.348Z"
   },
   {
    "duration": 17,
    "start_time": "2023-07-27T16:30:39.354Z"
   },
   {
    "duration": 9,
    "start_time": "2023-07-27T16:30:39.373Z"
   },
   {
    "duration": 231,
    "start_time": "2023-07-27T16:30:39.383Z"
   },
   {
    "duration": 0,
    "start_time": "2023-07-27T16:30:39.616Z"
   },
   {
    "duration": 0,
    "start_time": "2023-07-27T16:30:39.617Z"
   },
   {
    "duration": 0,
    "start_time": "2023-07-27T16:30:39.619Z"
   },
   {
    "duration": 0,
    "start_time": "2023-07-27T16:30:39.620Z"
   },
   {
    "duration": 0,
    "start_time": "2023-07-27T16:30:39.622Z"
   },
   {
    "duration": 0,
    "start_time": "2023-07-27T16:30:39.623Z"
   },
   {
    "duration": 0,
    "start_time": "2023-07-27T16:30:39.625Z"
   },
   {
    "duration": 227,
    "start_time": "2023-07-27T16:31:33.201Z"
   },
   {
    "duration": 153,
    "start_time": "2023-07-27T16:31:37.404Z"
   },
   {
    "duration": 150,
    "start_time": "2023-07-27T16:31:43.219Z"
   },
   {
    "duration": 148,
    "start_time": "2023-07-27T16:31:55.547Z"
   },
   {
    "duration": 148,
    "start_time": "2023-07-27T16:32:05.017Z"
   },
   {
    "duration": 359,
    "start_time": "2023-07-27T16:34:35.671Z"
   },
   {
    "duration": 319,
    "start_time": "2023-07-27T16:34:43.117Z"
   },
   {
    "duration": 326,
    "start_time": "2023-07-27T16:35:45.365Z"
   },
   {
    "duration": 306,
    "start_time": "2023-07-27T16:36:11.510Z"
   },
   {
    "duration": 332,
    "start_time": "2023-07-27T16:36:25.347Z"
   },
   {
    "duration": 352,
    "start_time": "2023-07-27T16:36:50.755Z"
   },
   {
    "duration": 322,
    "start_time": "2023-07-27T16:36:59.109Z"
   },
   {
    "duration": 394,
    "start_time": "2023-07-27T16:37:28.500Z"
   },
   {
    "duration": 279,
    "start_time": "2023-07-27T16:37:37.800Z"
   },
   {
    "duration": 153,
    "start_time": "2023-07-27T16:37:54.415Z"
   },
   {
    "duration": 1720,
    "start_time": "2023-07-27T16:38:06.904Z"
   },
   {
    "duration": 79,
    "start_time": "2023-07-27T16:38:08.626Z"
   },
   {
    "duration": 4,
    "start_time": "2023-07-27T16:38:08.706Z"
   },
   {
    "duration": 58,
    "start_time": "2023-07-27T16:38:08.711Z"
   },
   {
    "duration": 48,
    "start_time": "2023-07-27T16:38:08.771Z"
   },
   {
    "duration": 14,
    "start_time": "2023-07-27T16:38:08.820Z"
   },
   {
    "duration": 40,
    "start_time": "2023-07-27T16:38:08.836Z"
   },
   {
    "duration": 4,
    "start_time": "2023-07-27T16:38:08.877Z"
   },
   {
    "duration": 49,
    "start_time": "2023-07-27T16:38:08.883Z"
   },
   {
    "duration": 17,
    "start_time": "2023-07-27T16:38:08.934Z"
   },
   {
    "duration": 27,
    "start_time": "2023-07-27T16:38:08.953Z"
   },
   {
    "duration": 42,
    "start_time": "2023-07-27T16:38:08.982Z"
   },
   {
    "duration": 25,
    "start_time": "2023-07-27T16:38:09.025Z"
   },
   {
    "duration": 26,
    "start_time": "2023-07-27T16:38:09.052Z"
   },
   {
    "duration": 22,
    "start_time": "2023-07-27T16:38:09.079Z"
   },
   {
    "duration": 27,
    "start_time": "2023-07-27T16:38:09.103Z"
   },
   {
    "duration": 12,
    "start_time": "2023-07-27T16:38:09.131Z"
   },
   {
    "duration": 31,
    "start_time": "2023-07-27T16:38:09.145Z"
   },
   {
    "duration": 73,
    "start_time": "2023-07-27T16:38:09.177Z"
   },
   {
    "duration": 25,
    "start_time": "2023-07-27T16:38:09.252Z"
   },
   {
    "duration": 317,
    "start_time": "2023-07-27T16:38:09.279Z"
   },
   {
    "duration": 308,
    "start_time": "2023-07-27T16:38:09.598Z"
   },
   {
    "duration": 223,
    "start_time": "2023-07-27T16:38:09.908Z"
   },
   {
    "duration": 349,
    "start_time": "2023-07-27T16:38:10.133Z"
   },
   {
    "duration": 214,
    "start_time": "2023-07-27T16:38:10.483Z"
   },
   {
    "duration": 298,
    "start_time": "2023-07-27T16:38:10.699Z"
   },
   {
    "duration": 8,
    "start_time": "2023-07-27T16:38:10.999Z"
   },
   {
    "duration": 19,
    "start_time": "2023-07-27T16:38:11.008Z"
   },
   {
    "duration": 141,
    "start_time": "2023-07-27T16:38:11.029Z"
   },
   {
    "duration": 130,
    "start_time": "2023-07-27T16:38:11.172Z"
   },
   {
    "duration": 4,
    "start_time": "2023-07-27T16:38:11.304Z"
   },
   {
    "duration": 11,
    "start_time": "2023-07-27T16:38:11.310Z"
   },
   {
    "duration": 23,
    "start_time": "2023-07-27T16:38:11.322Z"
   },
   {
    "duration": 152,
    "start_time": "2023-07-27T16:38:11.347Z"
   },
   {
    "duration": 230,
    "start_time": "2023-07-27T16:38:11.501Z"
   },
   {
    "duration": 4,
    "start_time": "2023-07-27T16:38:11.733Z"
   },
   {
    "duration": 201,
    "start_time": "2023-07-27T16:38:11.738Z"
   },
   {
    "duration": 30,
    "start_time": "2023-07-27T16:38:11.941Z"
   },
   {
    "duration": 157,
    "start_time": "2023-07-27T16:38:11.973Z"
   },
   {
    "duration": 11,
    "start_time": "2023-07-27T16:38:12.132Z"
   },
   {
    "duration": 146,
    "start_time": "2023-07-27T16:38:12.147Z"
   },
   {
    "duration": 25,
    "start_time": "2023-07-27T16:38:12.295Z"
   },
   {
    "duration": 159,
    "start_time": "2023-07-27T16:38:54.744Z"
   },
   {
    "duration": 1201,
    "start_time": "2023-07-27T16:41:22.312Z"
   },
   {
    "duration": 79,
    "start_time": "2023-07-27T16:41:23.515Z"
   },
   {
    "duration": 3,
    "start_time": "2023-07-27T16:41:23.596Z"
   },
   {
    "duration": 39,
    "start_time": "2023-07-27T16:41:23.600Z"
   },
   {
    "duration": 28,
    "start_time": "2023-07-27T16:41:23.641Z"
   },
   {
    "duration": 11,
    "start_time": "2023-07-27T16:41:23.671Z"
   },
   {
    "duration": 32,
    "start_time": "2023-07-27T16:41:23.684Z"
   },
   {
    "duration": 3,
    "start_time": "2023-07-27T16:41:23.718Z"
   },
   {
    "duration": 12,
    "start_time": "2023-07-27T16:41:23.722Z"
   },
   {
    "duration": 9,
    "start_time": "2023-07-27T16:41:23.735Z"
   },
   {
    "duration": 25,
    "start_time": "2023-07-27T16:41:23.745Z"
   },
   {
    "duration": 23,
    "start_time": "2023-07-27T16:41:23.772Z"
   },
   {
    "duration": 18,
    "start_time": "2023-07-27T16:41:23.797Z"
   },
   {
    "duration": 20,
    "start_time": "2023-07-27T16:41:23.818Z"
   },
   {
    "duration": 23,
    "start_time": "2023-07-27T16:41:23.840Z"
   },
   {
    "duration": 15,
    "start_time": "2023-07-27T16:41:23.864Z"
   },
   {
    "duration": 14,
    "start_time": "2023-07-27T16:41:23.880Z"
   },
   {
    "duration": 15,
    "start_time": "2023-07-27T16:41:23.896Z"
   },
   {
    "duration": 18,
    "start_time": "2023-07-27T16:41:23.913Z"
   },
   {
    "duration": 5,
    "start_time": "2023-07-27T16:41:23.933Z"
   },
   {
    "duration": 379,
    "start_time": "2023-07-27T16:41:23.940Z"
   },
   {
    "duration": 299,
    "start_time": "2023-07-27T16:41:24.320Z"
   },
   {
    "duration": 208,
    "start_time": "2023-07-27T16:41:24.620Z"
   },
   {
    "duration": 345,
    "start_time": "2023-07-27T16:41:24.831Z"
   },
   {
    "duration": 198,
    "start_time": "2023-07-27T16:41:25.178Z"
   },
   {
    "duration": 306,
    "start_time": "2023-07-27T16:41:25.377Z"
   },
   {
    "duration": 9,
    "start_time": "2023-07-27T16:41:25.685Z"
   },
   {
    "duration": 12,
    "start_time": "2023-07-27T16:41:25.696Z"
   },
   {
    "duration": 149,
    "start_time": "2023-07-27T16:41:25.710Z"
   },
   {
    "duration": 139,
    "start_time": "2023-07-27T16:41:25.861Z"
   },
   {
    "duration": 4,
    "start_time": "2023-07-27T16:41:26.001Z"
   },
   {
    "duration": 14,
    "start_time": "2023-07-27T16:41:26.007Z"
   },
   {
    "duration": 13,
    "start_time": "2023-07-27T16:41:26.023Z"
   },
   {
    "duration": 159,
    "start_time": "2023-07-27T16:41:26.037Z"
   },
   {
    "duration": 268,
    "start_time": "2023-07-27T16:41:26.198Z"
   },
   {
    "duration": 5,
    "start_time": "2023-07-27T16:41:26.471Z"
   },
   {
    "duration": 253,
    "start_time": "2023-07-27T16:41:26.478Z"
   },
   {
    "duration": 38,
    "start_time": "2023-07-27T16:41:26.733Z"
   },
   {
    "duration": 203,
    "start_time": "2023-07-27T16:41:26.773Z"
   },
   {
    "duration": 11,
    "start_time": "2023-07-27T16:41:26.978Z"
   },
   {
    "duration": 27,
    "start_time": "2023-07-27T16:41:26.993Z"
   },
   {
    "duration": 14,
    "start_time": "2023-07-27T16:41:27.022Z"
   },
   {
    "duration": 1265,
    "start_time": "2023-07-27T16:54:30.114Z"
   },
   {
    "duration": 80,
    "start_time": "2023-07-27T16:54:31.382Z"
   },
   {
    "duration": 4,
    "start_time": "2023-07-27T16:54:31.464Z"
   },
   {
    "duration": 63,
    "start_time": "2023-07-27T16:54:31.470Z"
   },
   {
    "duration": 27,
    "start_time": "2023-07-27T16:54:31.536Z"
   },
   {
    "duration": 14,
    "start_time": "2023-07-27T16:54:31.565Z"
   },
   {
    "duration": 78,
    "start_time": "2023-07-27T16:54:31.581Z"
   },
   {
    "duration": 33,
    "start_time": "2023-07-27T16:54:31.661Z"
   },
   {
    "duration": 17,
    "start_time": "2023-07-27T16:54:31.696Z"
   },
   {
    "duration": 30,
    "start_time": "2023-07-27T16:54:31.714Z"
   },
   {
    "duration": 26,
    "start_time": "2023-07-27T16:54:31.745Z"
   },
   {
    "duration": 61,
    "start_time": "2023-07-27T16:54:31.773Z"
   },
   {
    "duration": 38,
    "start_time": "2023-07-27T16:54:31.836Z"
   },
   {
    "duration": 43,
    "start_time": "2023-07-27T16:54:31.878Z"
   },
   {
    "duration": 34,
    "start_time": "2023-07-27T16:54:31.923Z"
   },
   {
    "duration": 29,
    "start_time": "2023-07-27T16:54:31.959Z"
   },
   {
    "duration": 18,
    "start_time": "2023-07-27T16:54:31.990Z"
   },
   {
    "duration": 18,
    "start_time": "2023-07-27T16:54:32.010Z"
   },
   {
    "duration": 23,
    "start_time": "2023-07-27T16:54:32.030Z"
   },
   {
    "duration": 15,
    "start_time": "2023-07-27T16:54:32.054Z"
   },
   {
    "duration": 344,
    "start_time": "2023-07-27T16:54:32.071Z"
   },
   {
    "duration": 335,
    "start_time": "2023-07-27T16:54:32.417Z"
   },
   {
    "duration": 235,
    "start_time": "2023-07-27T16:54:32.754Z"
   },
   {
    "duration": 325,
    "start_time": "2023-07-27T16:54:32.990Z"
   },
   {
    "duration": 238,
    "start_time": "2023-07-27T16:54:33.317Z"
   },
   {
    "duration": 368,
    "start_time": "2023-07-27T16:54:33.557Z"
   },
   {
    "duration": 11,
    "start_time": "2023-07-27T16:54:33.927Z"
   },
   {
    "duration": 22,
    "start_time": "2023-07-27T16:54:33.940Z"
   },
   {
    "duration": 164,
    "start_time": "2023-07-27T16:54:33.964Z"
   },
   {
    "duration": 146,
    "start_time": "2023-07-27T16:54:34.129Z"
   },
   {
    "duration": 4,
    "start_time": "2023-07-27T16:54:34.277Z"
   },
   {
    "duration": 30,
    "start_time": "2023-07-27T16:54:34.283Z"
   },
   {
    "duration": 21,
    "start_time": "2023-07-27T16:54:34.315Z"
   },
   {
    "duration": 155,
    "start_time": "2023-07-27T16:54:34.338Z"
   },
   {
    "duration": 240,
    "start_time": "2023-07-27T16:54:34.495Z"
   },
   {
    "duration": 5,
    "start_time": "2023-07-27T16:54:34.736Z"
   },
   {
    "duration": 228,
    "start_time": "2023-07-27T16:54:34.743Z"
   },
   {
    "duration": 42,
    "start_time": "2023-07-27T16:54:34.973Z"
   },
   {
    "duration": 189,
    "start_time": "2023-07-27T16:54:35.016Z"
   },
   {
    "duration": 10,
    "start_time": "2023-07-27T16:54:35.207Z"
   },
   {
    "duration": 35,
    "start_time": "2023-07-27T16:54:35.221Z"
   },
   {
    "duration": 29,
    "start_time": "2023-07-27T16:54:35.258Z"
   },
   {
    "duration": 11,
    "start_time": "2023-07-27T16:59:27.189Z"
   },
   {
    "duration": 1416,
    "start_time": "2023-07-27T16:59:53.666Z"
   },
   {
    "duration": 80,
    "start_time": "2023-07-27T16:59:55.084Z"
   },
   {
    "duration": 5,
    "start_time": "2023-07-27T16:59:55.165Z"
   },
   {
    "duration": 52,
    "start_time": "2023-07-27T16:59:55.172Z"
   },
   {
    "duration": 28,
    "start_time": "2023-07-27T16:59:55.226Z"
   },
   {
    "duration": 19,
    "start_time": "2023-07-27T16:59:55.256Z"
   },
   {
    "duration": 26,
    "start_time": "2023-07-27T16:59:55.277Z"
   },
   {
    "duration": 4,
    "start_time": "2023-07-27T16:59:55.305Z"
   },
   {
    "duration": 31,
    "start_time": "2023-07-27T16:59:55.311Z"
   },
   {
    "duration": 18,
    "start_time": "2023-07-27T16:59:55.344Z"
   },
   {
    "duration": 80,
    "start_time": "2023-07-27T16:59:55.364Z"
   },
   {
    "duration": 42,
    "start_time": "2023-07-27T16:59:55.445Z"
   },
   {
    "duration": 13,
    "start_time": "2023-07-27T16:59:55.489Z"
   },
   {
    "duration": 21,
    "start_time": "2023-07-27T16:59:55.505Z"
   },
   {
    "duration": 37,
    "start_time": "2023-07-27T16:59:55.528Z"
   },
   {
    "duration": 27,
    "start_time": "2023-07-27T16:59:55.566Z"
   },
   {
    "duration": 10,
    "start_time": "2023-07-27T16:59:55.596Z"
   },
   {
    "duration": 28,
    "start_time": "2023-07-27T16:59:55.608Z"
   },
   {
    "duration": 21,
    "start_time": "2023-07-27T16:59:55.638Z"
   },
   {
    "duration": 58,
    "start_time": "2023-07-27T16:59:55.660Z"
   },
   {
    "duration": 327,
    "start_time": "2023-07-27T16:59:55.720Z"
   },
   {
    "duration": 323,
    "start_time": "2023-07-27T16:59:56.048Z"
   },
   {
    "duration": 268,
    "start_time": "2023-07-27T16:59:56.373Z"
   },
   {
    "duration": 343,
    "start_time": "2023-07-27T16:59:56.643Z"
   },
   {
    "duration": 191,
    "start_time": "2023-07-27T16:59:56.988Z"
   },
   {
    "duration": 314,
    "start_time": "2023-07-27T16:59:57.181Z"
   },
   {
    "duration": 9,
    "start_time": "2023-07-27T16:59:57.496Z"
   },
   {
    "duration": 43,
    "start_time": "2023-07-27T16:59:57.506Z"
   },
   {
    "duration": 162,
    "start_time": "2023-07-27T16:59:57.550Z"
   },
   {
    "duration": 130,
    "start_time": "2023-07-27T16:59:57.714Z"
   },
   {
    "duration": 4,
    "start_time": "2023-07-27T16:59:57.845Z"
   },
   {
    "duration": 14,
    "start_time": "2023-07-27T16:59:57.851Z"
   },
   {
    "duration": 11,
    "start_time": "2023-07-27T16:59:57.870Z"
   },
   {
    "duration": 144,
    "start_time": "2023-07-27T16:59:57.882Z"
   },
   {
    "duration": 231,
    "start_time": "2023-07-27T16:59:58.028Z"
   },
   {
    "duration": 3,
    "start_time": "2023-07-27T16:59:58.261Z"
   },
   {
    "duration": 221,
    "start_time": "2023-07-27T16:59:58.266Z"
   },
   {
    "duration": 26,
    "start_time": "2023-07-27T16:59:58.489Z"
   },
   {
    "duration": 160,
    "start_time": "2023-07-27T16:59:58.517Z"
   },
   {
    "duration": 10,
    "start_time": "2023-07-27T16:59:58.678Z"
   },
   {
    "duration": 114,
    "start_time": "2023-07-27T16:59:58.692Z"
   },
   {
    "duration": 0,
    "start_time": "2023-07-27T16:59:58.808Z"
   },
   {
    "duration": 34,
    "start_time": "2023-07-27T17:00:47.754Z"
   },
   {
    "duration": 11,
    "start_time": "2023-07-27T17:00:54.413Z"
   },
   {
    "duration": 14,
    "start_time": "2023-07-27T17:01:18.598Z"
   },
   {
    "duration": 1131,
    "start_time": "2023-07-27T17:01:25.113Z"
   },
   {
    "duration": 82,
    "start_time": "2023-07-27T17:01:26.246Z"
   },
   {
    "duration": 4,
    "start_time": "2023-07-27T17:01:26.330Z"
   },
   {
    "duration": 83,
    "start_time": "2023-07-27T17:01:26.336Z"
   },
   {
    "duration": 33,
    "start_time": "2023-07-27T17:01:26.421Z"
   },
   {
    "duration": 21,
    "start_time": "2023-07-27T17:01:26.456Z"
   },
   {
    "duration": 28,
    "start_time": "2023-07-27T17:01:26.479Z"
   },
   {
    "duration": 3,
    "start_time": "2023-07-27T17:01:26.509Z"
   },
   {
    "duration": 11,
    "start_time": "2023-07-27T17:01:26.514Z"
   },
   {
    "duration": 4,
    "start_time": "2023-07-27T17:01:26.527Z"
   },
   {
    "duration": 9,
    "start_time": "2023-07-27T17:01:26.533Z"
   },
   {
    "duration": 43,
    "start_time": "2023-07-27T17:01:26.543Z"
   },
   {
    "duration": 13,
    "start_time": "2023-07-27T17:01:26.587Z"
   },
   {
    "duration": 15,
    "start_time": "2023-07-27T17:01:26.603Z"
   },
   {
    "duration": 10,
    "start_time": "2023-07-27T17:01:26.619Z"
   },
   {
    "duration": 11,
    "start_time": "2023-07-27T17:01:26.631Z"
   },
   {
    "duration": 29,
    "start_time": "2023-07-27T17:01:26.643Z"
   },
   {
    "duration": 27,
    "start_time": "2023-07-27T17:01:26.674Z"
   },
   {
    "duration": 17,
    "start_time": "2023-07-27T17:01:26.703Z"
   },
   {
    "duration": 14,
    "start_time": "2023-07-27T17:01:26.722Z"
   },
   {
    "duration": 303,
    "start_time": "2023-07-27T17:01:26.737Z"
   },
   {
    "duration": 319,
    "start_time": "2023-07-27T17:01:27.042Z"
   },
   {
    "duration": 227,
    "start_time": "2023-07-27T17:01:27.362Z"
   },
   {
    "duration": 321,
    "start_time": "2023-07-27T17:01:27.590Z"
   },
   {
    "duration": 212,
    "start_time": "2023-07-27T17:01:27.913Z"
   },
   {
    "duration": 304,
    "start_time": "2023-07-27T17:01:28.127Z"
   },
   {
    "duration": 8,
    "start_time": "2023-07-27T17:01:28.433Z"
   },
   {
    "duration": 12,
    "start_time": "2023-07-27T17:01:28.443Z"
   },
   {
    "duration": 134,
    "start_time": "2023-07-27T17:01:28.470Z"
   },
   {
    "duration": 147,
    "start_time": "2023-07-27T17:01:28.606Z"
   },
   {
    "duration": 4,
    "start_time": "2023-07-27T17:01:28.755Z"
   },
   {
    "duration": 30,
    "start_time": "2023-07-27T17:01:28.761Z"
   },
   {
    "duration": 12,
    "start_time": "2023-07-27T17:01:28.793Z"
   },
   {
    "duration": 175,
    "start_time": "2023-07-27T17:01:28.806Z"
   },
   {
    "duration": 244,
    "start_time": "2023-07-27T17:01:28.983Z"
   },
   {
    "duration": 5,
    "start_time": "2023-07-27T17:01:29.229Z"
   },
   {
    "duration": 217,
    "start_time": "2023-07-27T17:01:29.235Z"
   },
   {
    "duration": 37,
    "start_time": "2023-07-27T17:01:29.454Z"
   },
   {
    "duration": 175,
    "start_time": "2023-07-27T17:01:29.493Z"
   },
   {
    "duration": 10,
    "start_time": "2023-07-27T17:01:29.670Z"
   },
   {
    "duration": 31,
    "start_time": "2023-07-27T17:01:29.683Z"
   },
   {
    "duration": 12,
    "start_time": "2023-07-27T17:01:29.716Z"
   },
   {
    "duration": 1189,
    "start_time": "2023-07-27T17:03:13.597Z"
   },
   {
    "duration": 79,
    "start_time": "2023-07-27T17:03:14.788Z"
   },
   {
    "duration": 4,
    "start_time": "2023-07-27T17:03:14.868Z"
   },
   {
    "duration": 42,
    "start_time": "2023-07-27T17:03:14.874Z"
   },
   {
    "duration": 30,
    "start_time": "2023-07-27T17:03:14.919Z"
   },
   {
    "duration": 24,
    "start_time": "2023-07-27T17:03:14.951Z"
   },
   {
    "duration": 38,
    "start_time": "2023-07-27T17:03:14.977Z"
   },
   {
    "duration": 37,
    "start_time": "2023-07-27T17:03:15.017Z"
   },
   {
    "duration": 38,
    "start_time": "2023-07-27T17:03:15.056Z"
   },
   {
    "duration": 24,
    "start_time": "2023-07-27T17:03:15.095Z"
   },
   {
    "duration": 16,
    "start_time": "2023-07-27T17:03:15.120Z"
   },
   {
    "duration": 35,
    "start_time": "2023-07-27T17:03:15.137Z"
   },
   {
    "duration": 10,
    "start_time": "2023-07-27T17:03:15.174Z"
   },
   {
    "duration": 19,
    "start_time": "2023-07-27T17:03:15.187Z"
   },
   {
    "duration": 18,
    "start_time": "2023-07-27T17:03:15.208Z"
   },
   {
    "duration": 17,
    "start_time": "2023-07-27T17:03:15.228Z"
   },
   {
    "duration": 17,
    "start_time": "2023-07-27T17:03:15.254Z"
   },
   {
    "duration": 20,
    "start_time": "2023-07-27T17:03:15.273Z"
   },
   {
    "duration": 26,
    "start_time": "2023-07-27T17:03:15.295Z"
   },
   {
    "duration": 7,
    "start_time": "2023-07-27T17:03:15.323Z"
   },
   {
    "duration": 324,
    "start_time": "2023-07-27T17:03:15.332Z"
   },
   {
    "duration": 323,
    "start_time": "2023-07-27T17:03:15.658Z"
   },
   {
    "duration": 217,
    "start_time": "2023-07-27T17:03:15.982Z"
   },
   {
    "duration": 354,
    "start_time": "2023-07-27T17:03:16.201Z"
   },
   {
    "duration": 231,
    "start_time": "2023-07-27T17:03:16.557Z"
   },
   {
    "duration": 311,
    "start_time": "2023-07-27T17:03:16.789Z"
   },
   {
    "duration": 9,
    "start_time": "2023-07-27T17:03:17.102Z"
   },
   {
    "duration": 28,
    "start_time": "2023-07-27T17:03:17.112Z"
   },
   {
    "duration": 136,
    "start_time": "2023-07-27T17:03:17.142Z"
   },
   {
    "duration": 153,
    "start_time": "2023-07-27T17:03:17.279Z"
   },
   {
    "duration": 4,
    "start_time": "2023-07-27T17:03:17.434Z"
   },
   {
    "duration": 41,
    "start_time": "2023-07-27T17:03:17.440Z"
   },
   {
    "duration": 21,
    "start_time": "2023-07-27T17:03:17.483Z"
   },
   {
    "duration": 162,
    "start_time": "2023-07-27T17:03:17.506Z"
   },
   {
    "duration": 247,
    "start_time": "2023-07-27T17:03:17.670Z"
   },
   {
    "duration": 5,
    "start_time": "2023-07-27T17:03:17.919Z"
   },
   {
    "duration": 223,
    "start_time": "2023-07-27T17:03:17.926Z"
   },
   {
    "duration": 73,
    "start_time": "2023-07-27T17:03:18.151Z"
   },
   {
    "duration": 161,
    "start_time": "2023-07-27T17:03:18.226Z"
   },
   {
    "duration": 10,
    "start_time": "2023-07-27T17:03:18.389Z"
   },
   {
    "duration": 63,
    "start_time": "2023-07-27T17:03:18.402Z"
   },
   {
    "duration": 14,
    "start_time": "2023-07-27T17:03:18.467Z"
   },
   {
    "duration": 1290,
    "start_time": "2023-07-28T06:17:18.218Z"
   },
   {
    "duration": 193,
    "start_time": "2023-07-28T06:17:19.510Z"
   },
   {
    "duration": 3,
    "start_time": "2023-07-28T06:17:19.705Z"
   },
   {
    "duration": 34,
    "start_time": "2023-07-28T06:17:19.710Z"
   },
   {
    "duration": 25,
    "start_time": "2023-07-28T06:17:19.745Z"
   },
   {
    "duration": 12,
    "start_time": "2023-07-28T06:17:19.771Z"
   },
   {
    "duration": 43,
    "start_time": "2023-07-28T06:17:19.785Z"
   },
   {
    "duration": 3,
    "start_time": "2023-07-28T06:17:19.830Z"
   },
   {
    "duration": 11,
    "start_time": "2023-07-28T06:17:19.835Z"
   },
   {
    "duration": 4,
    "start_time": "2023-07-28T06:17:19.848Z"
   },
   {
    "duration": 20,
    "start_time": "2023-07-28T06:17:19.853Z"
   },
   {
    "duration": 20,
    "start_time": "2023-07-28T06:17:19.875Z"
   },
   {
    "duration": 31,
    "start_time": "2023-07-28T06:17:19.896Z"
   },
   {
    "duration": 19,
    "start_time": "2023-07-28T06:17:19.928Z"
   },
   {
    "duration": 9,
    "start_time": "2023-07-28T06:17:19.948Z"
   },
   {
    "duration": 11,
    "start_time": "2023-07-28T06:17:19.959Z"
   },
   {
    "duration": 7,
    "start_time": "2023-07-28T06:17:19.972Z"
   },
   {
    "duration": 16,
    "start_time": "2023-07-28T06:17:19.981Z"
   },
   {
    "duration": 41,
    "start_time": "2023-07-28T06:17:19.998Z"
   },
   {
    "duration": 25,
    "start_time": "2023-07-28T06:17:20.041Z"
   },
   {
    "duration": 315,
    "start_time": "2023-07-28T06:17:20.067Z"
   },
   {
    "duration": 291,
    "start_time": "2023-07-28T06:17:20.384Z"
   },
   {
    "duration": 201,
    "start_time": "2023-07-28T06:17:20.677Z"
   },
   {
    "duration": 379,
    "start_time": "2023-07-28T06:17:20.879Z"
   },
   {
    "duration": 195,
    "start_time": "2023-07-28T06:17:21.260Z"
   },
   {
    "duration": 281,
    "start_time": "2023-07-28T06:17:21.457Z"
   },
   {
    "duration": 8,
    "start_time": "2023-07-28T06:17:21.739Z"
   },
   {
    "duration": 32,
    "start_time": "2023-07-28T06:17:21.749Z"
   },
   {
    "duration": 148,
    "start_time": "2023-07-28T06:17:21.783Z"
   },
   {
    "duration": 117,
    "start_time": "2023-07-28T06:17:21.932Z"
   },
   {
    "duration": 4,
    "start_time": "2023-07-28T06:17:22.050Z"
   },
   {
    "duration": 28,
    "start_time": "2023-07-28T06:17:22.055Z"
   },
   {
    "duration": 43,
    "start_time": "2023-07-28T06:17:22.085Z"
   },
   {
    "duration": 157,
    "start_time": "2023-07-28T06:17:22.129Z"
   },
   {
    "duration": 209,
    "start_time": "2023-07-28T06:17:22.287Z"
   },
   {
    "duration": 3,
    "start_time": "2023-07-28T06:17:22.498Z"
   },
   {
    "duration": 204,
    "start_time": "2023-07-28T06:17:22.503Z"
   },
   {
    "duration": 30,
    "start_time": "2023-07-28T06:17:22.709Z"
   },
   {
    "duration": 163,
    "start_time": "2023-07-28T06:17:22.741Z"
   },
   {
    "duration": 9,
    "start_time": "2023-07-28T06:17:22.906Z"
   },
   {
    "duration": 52,
    "start_time": "2023-07-28T06:17:22.920Z"
   },
   {
    "duration": 12,
    "start_time": "2023-07-28T06:17:22.974Z"
   },
   {
    "duration": 191,
    "start_time": "2023-07-28T06:18:11.046Z"
   },
   {
    "duration": 49,
    "start_time": "2023-07-28T16:48:22.307Z"
   },
   {
    "duration": 18,
    "start_time": "2023-07-28T16:48:30.566Z"
   },
   {
    "duration": 6,
    "start_time": "2023-07-28T16:48:37.462Z"
   },
   {
    "duration": 7,
    "start_time": "2023-07-28T16:49:20.111Z"
   },
   {
    "duration": 7,
    "start_time": "2023-07-28T16:49:23.312Z"
   },
   {
    "duration": 1346,
    "start_time": "2023-07-28T16:51:40.896Z"
   },
   {
    "duration": 283,
    "start_time": "2023-07-28T16:51:42.245Z"
   },
   {
    "duration": 4,
    "start_time": "2023-07-28T16:51:42.530Z"
   },
   {
    "duration": 62,
    "start_time": "2023-07-28T16:51:42.536Z"
   },
   {
    "duration": 28,
    "start_time": "2023-07-28T16:51:42.600Z"
   },
   {
    "duration": 11,
    "start_time": "2023-07-28T16:51:42.630Z"
   },
   {
    "duration": 51,
    "start_time": "2023-07-28T16:51:42.643Z"
   },
   {
    "duration": 4,
    "start_time": "2023-07-28T16:51:42.695Z"
   },
   {
    "duration": 14,
    "start_time": "2023-07-28T16:51:42.700Z"
   },
   {
    "duration": 3,
    "start_time": "2023-07-28T16:51:42.717Z"
   },
   {
    "duration": 8,
    "start_time": "2023-07-28T16:51:42.722Z"
   },
   {
    "duration": 23,
    "start_time": "2023-07-28T16:51:42.732Z"
   },
   {
    "duration": 13,
    "start_time": "2023-07-28T16:51:42.774Z"
   },
   {
    "duration": 14,
    "start_time": "2023-07-28T16:51:42.789Z"
   },
   {
    "duration": 18,
    "start_time": "2023-07-28T16:51:42.804Z"
   },
   {
    "duration": 16,
    "start_time": "2023-07-28T16:51:42.824Z"
   },
   {
    "duration": 10,
    "start_time": "2023-07-28T16:51:42.842Z"
   },
   {
    "duration": 43,
    "start_time": "2023-07-28T16:51:42.853Z"
   },
   {
    "duration": 23,
    "start_time": "2023-07-28T16:51:42.898Z"
   },
   {
    "duration": 4,
    "start_time": "2023-07-28T16:51:42.922Z"
   },
   {
    "duration": 329,
    "start_time": "2023-07-28T16:51:42.927Z"
   },
   {
    "duration": 329,
    "start_time": "2023-07-28T16:51:43.258Z"
   },
   {
    "duration": 228,
    "start_time": "2023-07-28T16:51:43.589Z"
   },
   {
    "duration": 371,
    "start_time": "2023-07-28T16:51:43.818Z"
   },
   {
    "duration": 211,
    "start_time": "2023-07-28T16:51:44.190Z"
   },
   {
    "duration": 307,
    "start_time": "2023-07-28T16:51:44.403Z"
   },
   {
    "duration": 9,
    "start_time": "2023-07-28T16:51:44.711Z"
   },
   {
    "duration": 12,
    "start_time": "2023-07-28T16:51:44.724Z"
   },
   {
    "duration": 161,
    "start_time": "2023-07-28T16:51:44.737Z"
   },
   {
    "duration": 142,
    "start_time": "2023-07-28T16:51:44.900Z"
   },
   {
    "duration": 5,
    "start_time": "2023-07-28T16:51:45.044Z"
   },
   {
    "duration": 35,
    "start_time": "2023-07-28T16:51:45.051Z"
   },
   {
    "duration": 30,
    "start_time": "2023-07-28T16:51:45.087Z"
   },
   {
    "duration": 173,
    "start_time": "2023-07-28T16:51:45.118Z"
   },
   {
    "duration": 243,
    "start_time": "2023-07-28T16:51:45.293Z"
   },
   {
    "duration": 4,
    "start_time": "2023-07-28T16:51:45.538Z"
   },
   {
    "duration": 233,
    "start_time": "2023-07-28T16:51:45.543Z"
   },
   {
    "duration": 35,
    "start_time": "2023-07-28T16:51:45.778Z"
   },
   {
    "duration": 206,
    "start_time": "2023-07-28T16:51:45.815Z"
   },
   {
    "duration": 10,
    "start_time": "2023-07-28T16:51:46.022Z"
   },
   {
    "duration": 49,
    "start_time": "2023-07-28T16:51:46.033Z"
   },
   {
    "duration": 14,
    "start_time": "2023-07-28T16:51:46.086Z"
   },
   {
    "duration": 5,
    "start_time": "2023-07-28T17:04:15.534Z"
   },
   {
    "duration": 90,
    "start_time": "2023-07-28T17:04:51.989Z"
   },
   {
    "duration": 85,
    "start_time": "2023-07-28T17:06:25.632Z"
   },
   {
    "duration": 12,
    "start_time": "2023-07-28T17:07:23.885Z"
   },
   {
    "duration": 80,
    "start_time": "2023-07-28T17:07:59.066Z"
   },
   {
    "duration": 81,
    "start_time": "2023-07-28T17:27:09.793Z"
   },
   {
    "duration": 71,
    "start_time": "2023-07-28T17:44:08.340Z"
   },
   {
    "duration": 78,
    "start_time": "2023-07-28T17:44:12.105Z"
   },
   {
    "duration": 72,
    "start_time": "2023-07-28T17:44:18.751Z"
   },
   {
    "duration": 79,
    "start_time": "2023-07-28T17:44:21.103Z"
   },
   {
    "duration": 1270,
    "start_time": "2023-07-28T17:44:30.990Z"
   },
   {
    "duration": 89,
    "start_time": "2023-07-28T17:44:32.263Z"
   },
   {
    "duration": 5,
    "start_time": "2023-07-28T17:44:32.354Z"
   },
   {
    "duration": 74,
    "start_time": "2023-07-28T17:44:32.361Z"
   },
   {
    "duration": 49,
    "start_time": "2023-07-28T17:44:32.437Z"
   },
   {
    "duration": 16,
    "start_time": "2023-07-28T17:44:32.493Z"
   },
   {
    "duration": 26,
    "start_time": "2023-07-28T17:44:32.511Z"
   },
   {
    "duration": 4,
    "start_time": "2023-07-28T17:44:32.539Z"
   },
   {
    "duration": 45,
    "start_time": "2023-07-28T17:44:32.545Z"
   },
   {
    "duration": 11,
    "start_time": "2023-07-28T17:44:32.593Z"
   },
   {
    "duration": 22,
    "start_time": "2023-07-28T17:44:32.606Z"
   },
   {
    "duration": 26,
    "start_time": "2023-07-28T17:44:32.630Z"
   },
   {
    "duration": 22,
    "start_time": "2023-07-28T17:44:32.658Z"
   },
   {
    "duration": 16,
    "start_time": "2023-07-28T17:44:32.686Z"
   },
   {
    "duration": 193,
    "start_time": "2023-07-28T17:44:32.704Z"
   },
   {
    "duration": 0,
    "start_time": "2023-07-28T17:44:32.899Z"
   },
   {
    "duration": 0,
    "start_time": "2023-07-28T17:44:32.900Z"
   },
   {
    "duration": 0,
    "start_time": "2023-07-28T17:44:32.901Z"
   },
   {
    "duration": 0,
    "start_time": "2023-07-28T17:44:32.902Z"
   },
   {
    "duration": 0,
    "start_time": "2023-07-28T17:44:32.903Z"
   },
   {
    "duration": 0,
    "start_time": "2023-07-28T17:44:32.904Z"
   },
   {
    "duration": 0,
    "start_time": "2023-07-28T17:44:32.905Z"
   },
   {
    "duration": 1,
    "start_time": "2023-07-28T17:44:32.906Z"
   },
   {
    "duration": 0,
    "start_time": "2023-07-28T17:44:32.907Z"
   },
   {
    "duration": 0,
    "start_time": "2023-07-28T17:44:32.908Z"
   },
   {
    "duration": 0,
    "start_time": "2023-07-28T17:44:32.910Z"
   },
   {
    "duration": 0,
    "start_time": "2023-07-28T17:44:32.911Z"
   },
   {
    "duration": 1,
    "start_time": "2023-07-28T17:44:32.912Z"
   },
   {
    "duration": 0,
    "start_time": "2023-07-28T17:44:32.914Z"
   },
   {
    "duration": 0,
    "start_time": "2023-07-28T17:44:32.915Z"
   },
   {
    "duration": 0,
    "start_time": "2023-07-28T17:44:32.916Z"
   },
   {
    "duration": 0,
    "start_time": "2023-07-28T17:44:32.917Z"
   },
   {
    "duration": 0,
    "start_time": "2023-07-28T17:44:32.918Z"
   },
   {
    "duration": 0,
    "start_time": "2023-07-28T17:44:32.919Z"
   },
   {
    "duration": 0,
    "start_time": "2023-07-28T17:44:32.920Z"
   },
   {
    "duration": 0,
    "start_time": "2023-07-28T17:44:32.921Z"
   },
   {
    "duration": 0,
    "start_time": "2023-07-28T17:44:32.923Z"
   },
   {
    "duration": 0,
    "start_time": "2023-07-28T17:44:32.923Z"
   },
   {
    "duration": 0,
    "start_time": "2023-07-28T17:44:32.925Z"
   },
   {
    "duration": 0,
    "start_time": "2023-07-28T17:44:32.926Z"
   },
   {
    "duration": 0,
    "start_time": "2023-07-28T17:44:32.928Z"
   },
   {
    "duration": 0,
    "start_time": "2023-07-28T17:44:32.978Z"
   },
   {
    "duration": 0,
    "start_time": "2023-07-28T17:44:32.979Z"
   },
   {
    "duration": 0,
    "start_time": "2023-07-28T17:44:32.980Z"
   },
   {
    "duration": 69,
    "start_time": "2023-07-28T17:44:57.517Z"
   },
   {
    "duration": 15,
    "start_time": "2023-07-28T17:58:06.980Z"
   },
   {
    "duration": 78,
    "start_time": "2023-07-28T18:00:42.289Z"
   },
   {
    "duration": 1387,
    "start_time": "2023-07-28T19:28:50.924Z"
   },
   {
    "duration": 288,
    "start_time": "2023-07-28T19:28:52.313Z"
   },
   {
    "duration": 4,
    "start_time": "2023-07-28T19:28:52.603Z"
   },
   {
    "duration": 54,
    "start_time": "2023-07-28T19:28:52.609Z"
   },
   {
    "duration": 35,
    "start_time": "2023-07-28T19:28:52.665Z"
   },
   {
    "duration": 12,
    "start_time": "2023-07-28T19:28:52.702Z"
   },
   {
    "duration": 32,
    "start_time": "2023-07-28T19:28:52.716Z"
   },
   {
    "duration": 11,
    "start_time": "2023-07-28T19:28:52.750Z"
   },
   {
    "duration": 19,
    "start_time": "2023-07-28T19:28:52.770Z"
   },
   {
    "duration": 9,
    "start_time": "2023-07-28T19:28:52.791Z"
   },
   {
    "duration": 11,
    "start_time": "2023-07-28T19:28:52.810Z"
   },
   {
    "duration": 58,
    "start_time": "2023-07-28T19:28:52.823Z"
   },
   {
    "duration": 11,
    "start_time": "2023-07-28T19:28:52.884Z"
   },
   {
    "duration": 19,
    "start_time": "2023-07-28T19:28:52.897Z"
   },
   {
    "duration": 81,
    "start_time": "2023-07-28T19:28:52.918Z"
   },
   {
    "duration": 10,
    "start_time": "2023-07-28T19:28:53.001Z"
   },
   {
    "duration": 9,
    "start_time": "2023-07-28T19:28:53.013Z"
   },
   {
    "duration": 14,
    "start_time": "2023-07-28T19:28:53.024Z"
   },
   {
    "duration": 8,
    "start_time": "2023-07-28T19:28:53.039Z"
   },
   {
    "duration": 41,
    "start_time": "2023-07-28T19:28:53.049Z"
   },
   {
    "duration": 25,
    "start_time": "2023-07-28T19:28:53.092Z"
   },
   {
    "duration": 15,
    "start_time": "2023-07-28T19:28:53.119Z"
   },
   {
    "duration": 354,
    "start_time": "2023-07-28T19:28:53.135Z"
   },
   {
    "duration": 331,
    "start_time": "2023-07-28T19:28:53.490Z"
   },
   {
    "duration": 230,
    "start_time": "2023-07-28T19:28:53.823Z"
   },
   {
    "duration": 384,
    "start_time": "2023-07-28T19:28:54.054Z"
   },
   {
    "duration": 223,
    "start_time": "2023-07-28T19:28:54.440Z"
   },
   {
    "duration": 343,
    "start_time": "2023-07-28T19:28:54.673Z"
   },
   {
    "duration": 9,
    "start_time": "2023-07-28T19:28:55.018Z"
   },
   {
    "duration": 15,
    "start_time": "2023-07-28T19:28:55.029Z"
   },
   {
    "duration": 165,
    "start_time": "2023-07-28T19:28:55.046Z"
   },
   {
    "duration": 150,
    "start_time": "2023-07-28T19:28:55.213Z"
   },
   {
    "duration": 12,
    "start_time": "2023-07-28T19:28:55.365Z"
   },
   {
    "duration": 11,
    "start_time": "2023-07-28T19:28:55.384Z"
   },
   {
    "duration": 11,
    "start_time": "2023-07-28T19:28:55.397Z"
   },
   {
    "duration": 177,
    "start_time": "2023-07-28T19:28:55.409Z"
   },
   {
    "duration": 245,
    "start_time": "2023-07-28T19:28:55.588Z"
   },
   {
    "duration": 5,
    "start_time": "2023-07-28T19:28:55.835Z"
   },
   {
    "duration": 221,
    "start_time": "2023-07-28T19:28:55.842Z"
   },
   {
    "duration": 43,
    "start_time": "2023-07-28T19:28:56.070Z"
   },
   {
    "duration": 216,
    "start_time": "2023-07-28T19:28:56.115Z"
   },
   {
    "duration": 14,
    "start_time": "2023-07-28T19:28:56.334Z"
   },
   {
    "duration": 62,
    "start_time": "2023-07-28T19:28:56.350Z"
   },
   {
    "duration": 30,
    "start_time": "2023-07-28T19:28:56.414Z"
   },
   {
    "duration": 668,
    "start_time": "2023-07-28T19:32:03.993Z"
   },
   {
    "duration": 111,
    "start_time": "2023-07-28T19:32:24.088Z"
   },
   {
    "duration": 9,
    "start_time": "2023-07-28T19:33:43.641Z"
   },
   {
    "duration": 75,
    "start_time": "2023-07-28T19:33:56.865Z"
   },
   {
    "duration": 8,
    "start_time": "2023-07-28T19:34:07.436Z"
   },
   {
    "duration": 101,
    "start_time": "2023-07-28T19:34:23.343Z"
   },
   {
    "duration": 107,
    "start_time": "2023-07-28T19:34:28.992Z"
   },
   {
    "duration": 1331,
    "start_time": "2023-07-28T19:34:41.368Z"
   },
   {
    "duration": 99,
    "start_time": "2023-07-28T19:34:42.703Z"
   },
   {
    "duration": 5,
    "start_time": "2023-07-28T19:34:42.804Z"
   },
   {
    "duration": 57,
    "start_time": "2023-07-28T19:34:42.812Z"
   },
   {
    "duration": 39,
    "start_time": "2023-07-28T19:34:42.874Z"
   },
   {
    "duration": 13,
    "start_time": "2023-07-28T19:34:42.915Z"
   },
   {
    "duration": 53,
    "start_time": "2023-07-28T19:34:42.930Z"
   },
   {
    "duration": 4,
    "start_time": "2023-07-28T19:34:42.985Z"
   },
   {
    "duration": 25,
    "start_time": "2023-07-28T19:34:42.990Z"
   },
   {
    "duration": 10,
    "start_time": "2023-07-28T19:34:43.017Z"
   },
   {
    "duration": 14,
    "start_time": "2023-07-28T19:34:43.029Z"
   },
   {
    "duration": 63,
    "start_time": "2023-07-28T19:34:43.045Z"
   },
   {
    "duration": 14,
    "start_time": "2023-07-28T19:34:43.111Z"
   },
   {
    "duration": 13,
    "start_time": "2023-07-28T19:34:43.130Z"
   },
   {
    "duration": 102,
    "start_time": "2023-07-28T19:34:43.144Z"
   },
   {
    "duration": 165,
    "start_time": "2023-07-28T19:34:43.248Z"
   },
   {
    "duration": 0,
    "start_time": "2023-07-28T19:34:43.416Z"
   },
   {
    "duration": 1,
    "start_time": "2023-07-28T19:34:43.418Z"
   },
   {
    "duration": 0,
    "start_time": "2023-07-28T19:34:43.420Z"
   },
   {
    "duration": 0,
    "start_time": "2023-07-28T19:34:43.422Z"
   },
   {
    "duration": 0,
    "start_time": "2023-07-28T19:34:43.424Z"
   },
   {
    "duration": 0,
    "start_time": "2023-07-28T19:34:43.427Z"
   },
   {
    "duration": 0,
    "start_time": "2023-07-28T19:34:43.428Z"
   },
   {
    "duration": 0,
    "start_time": "2023-07-28T19:34:43.428Z"
   },
   {
    "duration": 0,
    "start_time": "2023-07-28T19:34:43.439Z"
   },
   {
    "duration": 0,
    "start_time": "2023-07-28T19:34:43.443Z"
   },
   {
    "duration": 0,
    "start_time": "2023-07-28T19:34:43.445Z"
   },
   {
    "duration": 0,
    "start_time": "2023-07-28T19:34:43.448Z"
   },
   {
    "duration": 0,
    "start_time": "2023-07-28T19:34:43.448Z"
   },
   {
    "duration": 0,
    "start_time": "2023-07-28T19:34:43.478Z"
   },
   {
    "duration": 0,
    "start_time": "2023-07-28T19:34:43.478Z"
   },
   {
    "duration": 0,
    "start_time": "2023-07-28T19:34:43.479Z"
   },
   {
    "duration": 0,
    "start_time": "2023-07-28T19:34:43.480Z"
   },
   {
    "duration": 0,
    "start_time": "2023-07-28T19:34:43.481Z"
   },
   {
    "duration": 0,
    "start_time": "2023-07-28T19:34:43.486Z"
   },
   {
    "duration": 0,
    "start_time": "2023-07-28T19:34:43.486Z"
   },
   {
    "duration": 0,
    "start_time": "2023-07-28T19:34:43.487Z"
   },
   {
    "duration": 0,
    "start_time": "2023-07-28T19:34:43.488Z"
   },
   {
    "duration": 0,
    "start_time": "2023-07-28T19:34:43.488Z"
   },
   {
    "duration": 0,
    "start_time": "2023-07-28T19:34:43.489Z"
   },
   {
    "duration": 0,
    "start_time": "2023-07-28T19:34:43.490Z"
   },
   {
    "duration": 0,
    "start_time": "2023-07-28T19:34:43.491Z"
   },
   {
    "duration": 0,
    "start_time": "2023-07-28T19:34:43.492Z"
   },
   {
    "duration": 0,
    "start_time": "2023-07-28T19:34:43.496Z"
   },
   {
    "duration": 0,
    "start_time": "2023-07-28T19:34:43.499Z"
   },
   {
    "duration": 17,
    "start_time": "2023-07-28T19:36:01.068Z"
   },
   {
    "duration": 12,
    "start_time": "2023-07-28T19:36:17.884Z"
   },
   {
    "duration": 11,
    "start_time": "2023-07-28T19:36:23.217Z"
   },
   {
    "duration": 18,
    "start_time": "2023-07-28T19:36:49.535Z"
   },
   {
    "duration": 17,
    "start_time": "2023-07-28T19:38:28.471Z"
   },
   {
    "duration": 10,
    "start_time": "2023-07-28T19:38:42.291Z"
   },
   {
    "duration": 14,
    "start_time": "2023-07-28T19:44:17.500Z"
   },
   {
    "duration": 11,
    "start_time": "2023-07-28T19:44:32.696Z"
   },
   {
    "duration": 6,
    "start_time": "2023-07-28T19:44:39.074Z"
   },
   {
    "duration": 6,
    "start_time": "2023-07-28T19:44:56.697Z"
   },
   {
    "duration": 7,
    "start_time": "2023-07-28T19:45:02.954Z"
   },
   {
    "duration": 6,
    "start_time": "2023-07-28T19:45:12.395Z"
   },
   {
    "duration": 8,
    "start_time": "2023-07-28T19:45:16.931Z"
   },
   {
    "duration": 9,
    "start_time": "2023-07-28T19:45:20.490Z"
   },
   {
    "duration": 8,
    "start_time": "2023-07-28T19:45:24.268Z"
   },
   {
    "duration": 6,
    "start_time": "2023-07-28T19:45:28.298Z"
   },
   {
    "duration": 7,
    "start_time": "2023-07-28T19:45:32.243Z"
   },
   {
    "duration": 6,
    "start_time": "2023-07-28T19:45:36.587Z"
   },
   {
    "duration": 19,
    "start_time": "2023-07-28T19:53:45.164Z"
   },
   {
    "duration": 21,
    "start_time": "2023-07-28T19:53:56.588Z"
   },
   {
    "duration": 17,
    "start_time": "2023-07-28T19:56:40.931Z"
   },
   {
    "duration": 1268,
    "start_time": "2023-07-28T19:56:50.427Z"
   },
   {
    "duration": 87,
    "start_time": "2023-07-28T19:56:51.697Z"
   },
   {
    "duration": 4,
    "start_time": "2023-07-28T19:56:51.789Z"
   },
   {
    "duration": 40,
    "start_time": "2023-07-28T19:56:51.795Z"
   },
   {
    "duration": 58,
    "start_time": "2023-07-28T19:56:51.837Z"
   },
   {
    "duration": 16,
    "start_time": "2023-07-28T19:56:51.899Z"
   },
   {
    "duration": 30,
    "start_time": "2023-07-28T19:56:51.917Z"
   },
   {
    "duration": 7,
    "start_time": "2023-07-28T19:56:51.949Z"
   },
   {
    "duration": 29,
    "start_time": "2023-07-28T19:56:51.959Z"
   },
   {
    "duration": 59,
    "start_time": "2023-07-28T19:56:51.991Z"
   },
   {
    "duration": 59,
    "start_time": "2023-07-28T19:56:52.053Z"
   },
   {
    "duration": 49,
    "start_time": "2023-07-28T19:56:52.114Z"
   },
   {
    "duration": 26,
    "start_time": "2023-07-28T19:56:52.165Z"
   },
   {
    "duration": 39,
    "start_time": "2023-07-28T19:56:52.193Z"
   },
   {
    "duration": 113,
    "start_time": "2023-07-28T19:56:52.234Z"
   },
   {
    "duration": 13,
    "start_time": "2023-07-28T19:56:52.348Z"
   },
   {
    "duration": 15,
    "start_time": "2023-07-28T19:56:52.377Z"
   },
   {
    "duration": 30,
    "start_time": "2023-07-28T19:56:52.394Z"
   },
   {
    "duration": 15,
    "start_time": "2023-07-28T19:56:52.426Z"
   },
   {
    "duration": 23,
    "start_time": "2023-07-28T19:56:52.444Z"
   },
   {
    "duration": 27,
    "start_time": "2023-07-28T19:56:52.471Z"
   },
   {
    "duration": 13,
    "start_time": "2023-07-28T19:56:52.500Z"
   },
   {
    "duration": 391,
    "start_time": "2023-07-28T19:56:52.515Z"
   },
   {
    "duration": 393,
    "start_time": "2023-07-28T19:56:52.908Z"
   },
   {
    "duration": 271,
    "start_time": "2023-07-28T19:56:53.304Z"
   },
   {
    "duration": 514,
    "start_time": "2023-07-28T19:56:53.577Z"
   },
   {
    "duration": 580,
    "start_time": "2023-07-28T19:56:54.092Z"
   },
   {
    "duration": 710,
    "start_time": "2023-07-28T19:56:54.679Z"
   },
   {
    "duration": 9,
    "start_time": "2023-07-28T19:56:55.391Z"
   },
   {
    "duration": 23,
    "start_time": "2023-07-28T19:56:55.402Z"
   },
   {
    "duration": 481,
    "start_time": "2023-07-28T19:56:55.427Z"
   },
   {
    "duration": 405,
    "start_time": "2023-07-28T19:56:55.910Z"
   },
   {
    "duration": 55,
    "start_time": "2023-07-28T19:56:56.318Z"
   },
   {
    "duration": 88,
    "start_time": "2023-07-28T19:56:56.379Z"
   },
   {
    "duration": 60,
    "start_time": "2023-07-28T19:56:56.470Z"
   },
   {
    "duration": 242,
    "start_time": "2023-07-28T19:56:56.532Z"
   },
   {
    "duration": 292,
    "start_time": "2023-07-28T19:56:56.776Z"
   },
   {
    "duration": 9,
    "start_time": "2023-07-28T19:56:57.070Z"
   },
   {
    "duration": 265,
    "start_time": "2023-07-28T19:56:57.085Z"
   },
   {
    "duration": 39,
    "start_time": "2023-07-28T19:56:57.352Z"
   },
   {
    "duration": 216,
    "start_time": "2023-07-28T19:56:57.397Z"
   },
   {
    "duration": 15,
    "start_time": "2023-07-28T19:56:57.615Z"
   },
   {
    "duration": 71,
    "start_time": "2023-07-28T19:56:57.632Z"
   },
   {
    "duration": 23,
    "start_time": "2023-07-28T19:56:57.705Z"
   },
   {
    "duration": 246,
    "start_time": "2023-07-28T19:57:37.905Z"
   },
   {
    "duration": 342,
    "start_time": "2023-07-28T19:57:48.554Z"
   },
   {
    "duration": 2732,
    "start_time": "2023-07-28T20:20:21.636Z"
   },
   {
    "duration": 45,
    "start_time": "2023-07-28T20:27:14.931Z"
   },
   {
    "duration": 2346,
    "start_time": "2023-07-28T20:28:09.105Z"
   },
   {
    "duration": 2740,
    "start_time": "2023-07-28T20:28:22.871Z"
   },
   {
    "duration": 1831,
    "start_time": "2023-07-28T20:29:59.089Z"
   },
   {
    "duration": 2753,
    "start_time": "2023-07-28T20:30:03.069Z"
   },
   {
    "duration": 2432,
    "start_time": "2023-07-28T20:30:10.190Z"
   },
   {
    "duration": 2118,
    "start_time": "2023-07-28T20:30:41.401Z"
   },
   {
    "duration": 2144,
    "start_time": "2023-07-28T20:31:24.769Z"
   },
   {
    "duration": 25,
    "start_time": "2023-07-28T20:31:37.447Z"
   },
   {
    "duration": 20,
    "start_time": "2023-07-28T20:32:31.358Z"
   },
   {
    "duration": 23,
    "start_time": "2023-07-28T20:33:36.968Z"
   },
   {
    "duration": 14,
    "start_time": "2023-07-28T20:36:05.299Z"
   },
   {
    "duration": 20,
    "start_time": "2023-07-28T20:36:22.332Z"
   },
   {
    "duration": 4,
    "start_time": "2023-07-28T20:36:34.292Z"
   },
   {
    "duration": 5,
    "start_time": "2023-07-28T20:36:41.608Z"
   },
   {
    "duration": 1314,
    "start_time": "2023-07-28T20:36:57.194Z"
   },
   {
    "duration": 102,
    "start_time": "2023-07-28T20:36:58.510Z"
   },
   {
    "duration": 7,
    "start_time": "2023-07-28T20:36:58.614Z"
   },
   {
    "duration": 50,
    "start_time": "2023-07-28T20:36:58.623Z"
   },
   {
    "duration": 37,
    "start_time": "2023-07-28T20:36:58.676Z"
   },
   {
    "duration": 23,
    "start_time": "2023-07-28T20:36:58.716Z"
   },
   {
    "duration": 54,
    "start_time": "2023-07-28T20:36:58.741Z"
   },
   {
    "duration": 4,
    "start_time": "2023-07-28T20:36:58.797Z"
   },
   {
    "duration": 18,
    "start_time": "2023-07-28T20:36:58.803Z"
   },
   {
    "duration": 15,
    "start_time": "2023-07-28T20:36:58.824Z"
   },
   {
    "duration": 11,
    "start_time": "2023-07-28T20:36:58.841Z"
   },
   {
    "duration": 35,
    "start_time": "2023-07-28T20:36:58.854Z"
   },
   {
    "duration": 28,
    "start_time": "2023-07-28T20:36:58.892Z"
   },
   {
    "duration": 22,
    "start_time": "2023-07-28T20:36:58.924Z"
   },
   {
    "duration": 19,
    "start_time": "2023-07-28T20:36:58.948Z"
   },
   {
    "duration": 132,
    "start_time": "2023-07-28T20:36:58.969Z"
   },
   {
    "duration": 3,
    "start_time": "2023-07-28T20:36:59.103Z"
   },
   {
    "duration": 16,
    "start_time": "2023-07-28T20:36:59.107Z"
   },
   {
    "duration": 22,
    "start_time": "2023-07-28T20:36:59.125Z"
   },
   {
    "duration": 36,
    "start_time": "2023-07-28T20:36:59.149Z"
   },
   {
    "duration": 38,
    "start_time": "2023-07-28T20:36:59.188Z"
   },
   {
    "duration": 20,
    "start_time": "2023-07-28T20:36:59.228Z"
   },
   {
    "duration": 27,
    "start_time": "2023-07-28T20:36:59.250Z"
   },
   {
    "duration": 30,
    "start_time": "2023-07-28T20:36:59.284Z"
   },
   {
    "duration": 337,
    "start_time": "2023-07-28T20:36:59.316Z"
   },
   {
    "duration": 363,
    "start_time": "2023-07-28T20:36:59.656Z"
   },
   {
    "duration": 312,
    "start_time": "2023-07-28T20:37:00.021Z"
   },
   {
    "duration": 385,
    "start_time": "2023-07-28T20:37:00.335Z"
   },
   {
    "duration": 534,
    "start_time": "2023-07-28T20:37:00.771Z"
   },
   {
    "duration": 676,
    "start_time": "2023-07-28T20:37:01.307Z"
   },
   {
    "duration": 14,
    "start_time": "2023-07-28T20:37:01.985Z"
   },
   {
    "duration": 106,
    "start_time": "2023-07-28T20:37:02.000Z"
   },
   {
    "duration": 672,
    "start_time": "2023-07-28T20:37:02.109Z"
   },
   {
    "duration": 434,
    "start_time": "2023-07-28T20:37:02.783Z"
   },
   {
    "duration": 64,
    "start_time": "2023-07-28T20:37:03.219Z"
   },
   {
    "duration": 29,
    "start_time": "2023-07-28T20:37:03.286Z"
   },
   {
    "duration": 59,
    "start_time": "2023-07-28T20:37:03.318Z"
   },
   {
    "duration": 260,
    "start_time": "2023-07-28T20:37:03.379Z"
   },
   {
    "duration": 245,
    "start_time": "2023-07-28T20:37:03.642Z"
   },
   {
    "duration": 6,
    "start_time": "2023-07-28T20:37:03.893Z"
   },
   {
    "duration": 227,
    "start_time": "2023-07-28T20:37:03.902Z"
   },
   {
    "duration": 49,
    "start_time": "2023-07-28T20:37:04.131Z"
   },
   {
    "duration": 215,
    "start_time": "2023-07-28T20:37:04.182Z"
   },
   {
    "duration": 14,
    "start_time": "2023-07-28T20:37:04.399Z"
   },
   {
    "duration": 64,
    "start_time": "2023-07-28T20:37:04.415Z"
   },
   {
    "duration": 20,
    "start_time": "2023-07-28T20:37:04.485Z"
   },
   {
    "duration": 15,
    "start_time": "2023-07-28T20:40:17.594Z"
   },
   {
    "duration": 23,
    "start_time": "2023-07-28T20:40:31.843Z"
   },
   {
    "duration": 1437,
    "start_time": "2023-07-28T20:40:46.053Z"
   },
   {
    "duration": 102,
    "start_time": "2023-07-28T20:40:47.492Z"
   },
   {
    "duration": 4,
    "start_time": "2023-07-28T20:40:47.596Z"
   },
   {
    "duration": 47,
    "start_time": "2023-07-28T20:40:47.602Z"
   },
   {
    "duration": 46,
    "start_time": "2023-07-28T20:40:47.651Z"
   },
   {
    "duration": 17,
    "start_time": "2023-07-28T20:40:47.700Z"
   },
   {
    "duration": 29,
    "start_time": "2023-07-28T20:40:47.719Z"
   },
   {
    "duration": 30,
    "start_time": "2023-07-28T20:40:47.751Z"
   },
   {
    "duration": 24,
    "start_time": "2023-07-28T20:40:47.787Z"
   },
   {
    "duration": 5,
    "start_time": "2023-07-28T20:40:47.815Z"
   },
   {
    "duration": 29,
    "start_time": "2023-07-28T20:40:47.822Z"
   },
   {
    "duration": 45,
    "start_time": "2023-07-28T20:40:47.853Z"
   },
   {
    "duration": 35,
    "start_time": "2023-07-28T20:40:47.900Z"
   },
   {
    "duration": 13,
    "start_time": "2023-07-28T20:40:47.937Z"
   },
   {
    "duration": 27,
    "start_time": "2023-07-28T20:40:47.953Z"
   },
   {
    "duration": 177,
    "start_time": "2023-07-28T20:40:47.981Z"
   },
   {
    "duration": 4,
    "start_time": "2023-07-28T20:40:48.160Z"
   },
   {
    "duration": 27,
    "start_time": "2023-07-28T20:40:48.166Z"
   },
   {
    "duration": 18,
    "start_time": "2023-07-28T20:40:48.195Z"
   },
   {
    "duration": 35,
    "start_time": "2023-07-28T20:40:48.215Z"
   },
   {
    "duration": 13,
    "start_time": "2023-07-28T20:40:48.252Z"
   },
   {
    "duration": 31,
    "start_time": "2023-07-28T20:40:48.267Z"
   },
   {
    "duration": 21,
    "start_time": "2023-07-28T20:40:48.302Z"
   },
   {
    "duration": 22,
    "start_time": "2023-07-28T20:40:48.325Z"
   },
   {
    "duration": 353,
    "start_time": "2023-07-28T20:40:48.349Z"
   },
   {
    "duration": 389,
    "start_time": "2023-07-28T20:40:48.704Z"
   },
   {
    "duration": 312,
    "start_time": "2023-07-28T20:40:49.095Z"
   },
   {
    "duration": 599,
    "start_time": "2023-07-28T20:40:49.411Z"
   },
   {
    "duration": 662,
    "start_time": "2023-07-28T20:40:50.013Z"
   },
   {
    "duration": 706,
    "start_time": "2023-07-28T20:40:50.677Z"
   },
   {
    "duration": 13,
    "start_time": "2023-07-28T20:40:51.386Z"
   },
   {
    "duration": 18,
    "start_time": "2023-07-28T20:40:51.402Z"
   },
   {
    "duration": 489,
    "start_time": "2023-07-28T20:40:51.422Z"
   },
   {
    "duration": 312,
    "start_time": "2023-07-28T20:40:51.913Z"
   },
   {
    "duration": 6,
    "start_time": "2023-07-28T20:40:52.227Z"
   },
   {
    "duration": 14,
    "start_time": "2023-07-28T20:40:52.235Z"
   },
   {
    "duration": 30,
    "start_time": "2023-07-28T20:40:52.251Z"
   },
   {
    "duration": 269,
    "start_time": "2023-07-28T20:40:52.283Z"
   },
   {
    "duration": 196,
    "start_time": "2023-07-28T20:40:52.554Z"
   },
   {
    "duration": 5,
    "start_time": "2023-07-28T20:40:52.752Z"
   },
   {
    "duration": 266,
    "start_time": "2023-07-28T20:40:52.771Z"
   },
   {
    "duration": 52,
    "start_time": "2023-07-28T20:40:53.039Z"
   },
   {
    "duration": 218,
    "start_time": "2023-07-28T20:40:53.096Z"
   },
   {
    "duration": 13,
    "start_time": "2023-07-28T20:40:53.316Z"
   },
   {
    "duration": 45,
    "start_time": "2023-07-28T20:40:53.331Z"
   },
   {
    "duration": 15,
    "start_time": "2023-07-28T20:40:53.378Z"
   },
   {
    "duration": 6,
    "start_time": "2023-07-28T20:51:34.247Z"
   },
   {
    "duration": 6,
    "start_time": "2023-07-28T20:51:38.997Z"
   },
   {
    "duration": 161,
    "start_time": "2023-07-28T20:51:52.207Z"
   },
   {
    "duration": 183,
    "start_time": "2023-07-28T20:51:58.405Z"
   },
   {
    "duration": 5,
    "start_time": "2023-07-28T20:52:40.503Z"
   },
   {
    "duration": 1636,
    "start_time": "2023-07-28T20:57:24.845Z"
   },
   {
    "duration": 128,
    "start_time": "2023-07-28T20:57:26.488Z"
   },
   {
    "duration": 5,
    "start_time": "2023-07-28T20:57:26.619Z"
   },
   {
    "duration": 81,
    "start_time": "2023-07-28T20:57:26.627Z"
   },
   {
    "duration": 41,
    "start_time": "2023-07-28T20:57:26.711Z"
   },
   {
    "duration": 26,
    "start_time": "2023-07-28T20:57:26.754Z"
   },
   {
    "duration": 136,
    "start_time": "2023-07-28T20:57:26.782Z"
   },
   {
    "duration": 37,
    "start_time": "2023-07-28T20:57:26.921Z"
   },
   {
    "duration": 65,
    "start_time": "2023-07-28T20:57:26.961Z"
   },
   {
    "duration": 12,
    "start_time": "2023-07-28T20:57:27.028Z"
   },
   {
    "duration": 14,
    "start_time": "2023-07-28T20:57:27.042Z"
   },
   {
    "duration": 95,
    "start_time": "2023-07-28T20:57:27.058Z"
   },
   {
    "duration": 24,
    "start_time": "2023-07-28T20:57:27.155Z"
   },
   {
    "duration": 35,
    "start_time": "2023-07-28T20:57:27.183Z"
   },
   {
    "duration": 29,
    "start_time": "2023-07-28T20:57:27.221Z"
   },
   {
    "duration": 187,
    "start_time": "2023-07-28T20:57:27.252Z"
   },
   {
    "duration": 9,
    "start_time": "2023-07-28T20:57:27.441Z"
   },
   {
    "duration": 39,
    "start_time": "2023-07-28T20:57:27.452Z"
   },
   {
    "duration": 48,
    "start_time": "2023-07-28T20:57:27.493Z"
   },
   {
    "duration": 25,
    "start_time": "2023-07-28T20:57:27.544Z"
   },
   {
    "duration": 64,
    "start_time": "2023-07-28T20:57:27.574Z"
   },
   {
    "duration": 37,
    "start_time": "2023-07-28T20:57:27.640Z"
   },
   {
    "duration": 507,
    "start_time": "2023-07-28T20:57:27.679Z"
   },
   {
    "duration": 440,
    "start_time": "2023-07-28T20:57:28.188Z"
   },
   {
    "duration": 290,
    "start_time": "2023-07-28T20:57:28.631Z"
   },
   {
    "duration": 693,
    "start_time": "2023-07-28T20:57:28.923Z"
   },
   {
    "duration": 596,
    "start_time": "2023-07-28T20:57:29.618Z"
   },
   {
    "duration": 690,
    "start_time": "2023-07-28T20:57:30.216Z"
   },
   {
    "duration": 76,
    "start_time": "2023-07-28T20:57:30.909Z"
   },
   {
    "duration": 136,
    "start_time": "2023-07-28T20:57:30.987Z"
   },
   {
    "duration": 407,
    "start_time": "2023-07-28T20:57:31.125Z"
   },
   {
    "duration": 190,
    "start_time": "2023-07-28T20:57:31.534Z"
   },
   {
    "duration": 5,
    "start_time": "2023-07-28T20:57:31.727Z"
   },
   {
    "duration": 31,
    "start_time": "2023-07-28T20:57:31.734Z"
   },
   {
    "duration": 39,
    "start_time": "2023-07-28T20:57:31.767Z"
   },
   {
    "duration": 253,
    "start_time": "2023-07-28T20:57:31.808Z"
   },
   {
    "duration": 185,
    "start_time": "2023-07-28T20:57:32.063Z"
   },
   {
    "duration": 4,
    "start_time": "2023-07-28T20:57:32.250Z"
   },
   {
    "duration": 307,
    "start_time": "2023-07-28T20:57:32.257Z"
   },
   {
    "duration": 71,
    "start_time": "2023-07-28T20:57:32.567Z"
   },
   {
    "duration": 215,
    "start_time": "2023-07-28T20:57:32.643Z"
   },
   {
    "duration": 31,
    "start_time": "2023-07-28T20:57:32.860Z"
   },
   {
    "duration": 111,
    "start_time": "2023-07-28T20:57:32.893Z"
   },
   {
    "duration": 17,
    "start_time": "2023-07-28T20:57:33.006Z"
   },
   {
    "duration": 1858,
    "start_time": "2023-07-29T07:57:57.373Z"
   },
   {
    "duration": 199,
    "start_time": "2023-07-29T07:57:59.234Z"
   },
   {
    "duration": 5,
    "start_time": "2023-07-29T07:57:59.436Z"
   },
   {
    "duration": 58,
    "start_time": "2023-07-29T07:57:59.443Z"
   },
   {
    "duration": 60,
    "start_time": "2023-07-29T07:57:59.504Z"
   },
   {
    "duration": 22,
    "start_time": "2023-07-29T07:57:59.566Z"
   },
   {
    "duration": 32,
    "start_time": "2023-07-29T07:57:59.590Z"
   },
   {
    "duration": 4,
    "start_time": "2023-07-29T07:57:59.625Z"
   },
   {
    "duration": 13,
    "start_time": "2023-07-29T07:57:59.661Z"
   },
   {
    "duration": 5,
    "start_time": "2023-07-29T07:57:59.677Z"
   },
   {
    "duration": 6,
    "start_time": "2023-07-29T07:57:59.684Z"
   },
   {
    "duration": 29,
    "start_time": "2023-07-29T07:57:59.692Z"
   },
   {
    "duration": 16,
    "start_time": "2023-07-29T07:57:59.759Z"
   },
   {
    "duration": 16,
    "start_time": "2023-07-29T07:57:59.779Z"
   },
   {
    "duration": 16,
    "start_time": "2023-07-29T07:57:59.797Z"
   },
   {
    "duration": 212,
    "start_time": "2023-07-29T07:57:59.815Z"
   },
   {
    "duration": 15,
    "start_time": "2023-07-29T07:58:00.030Z"
   },
   {
    "duration": 45,
    "start_time": "2023-07-29T07:58:00.047Z"
   },
   {
    "duration": 23,
    "start_time": "2023-07-29T07:58:00.094Z"
   },
   {
    "duration": 48,
    "start_time": "2023-07-29T07:58:00.120Z"
   },
   {
    "duration": 59,
    "start_time": "2023-07-29T07:58:00.171Z"
   },
   {
    "duration": 36,
    "start_time": "2023-07-29T07:58:00.232Z"
   },
   {
    "duration": 434,
    "start_time": "2023-07-29T07:58:00.271Z"
   },
   {
    "duration": 335,
    "start_time": "2023-07-29T07:58:00.707Z"
   },
   {
    "duration": 244,
    "start_time": "2023-07-29T07:58:01.045Z"
   },
   {
    "duration": 401,
    "start_time": "2023-07-29T07:58:01.292Z"
   },
   {
    "duration": 273,
    "start_time": "2023-07-29T07:58:01.695Z"
   },
   {
    "duration": 345,
    "start_time": "2023-07-29T07:58:01.971Z"
   },
   {
    "duration": 10,
    "start_time": "2023-07-29T07:58:02.318Z"
   },
   {
    "duration": 68,
    "start_time": "2023-07-29T07:58:02.330Z"
   },
   {
    "duration": 261,
    "start_time": "2023-07-29T07:58:02.400Z"
   },
   {
    "duration": 180,
    "start_time": "2023-07-29T07:58:02.663Z"
   },
   {
    "duration": 4,
    "start_time": "2023-07-29T07:58:02.845Z"
   },
   {
    "duration": 36,
    "start_time": "2023-07-29T07:58:02.860Z"
   },
   {
    "duration": 16,
    "start_time": "2023-07-29T07:58:02.898Z"
   },
   {
    "duration": 282,
    "start_time": "2023-07-29T07:58:02.916Z"
   },
   {
    "duration": 177,
    "start_time": "2023-07-29T07:58:03.200Z"
   },
   {
    "duration": 4,
    "start_time": "2023-07-29T07:58:03.379Z"
   },
   {
    "duration": 285,
    "start_time": "2023-07-29T07:58:03.385Z"
   },
   {
    "duration": 35,
    "start_time": "2023-07-29T07:58:03.673Z"
   },
   {
    "duration": 225,
    "start_time": "2023-07-29T07:58:03.714Z"
   },
   {
    "duration": 23,
    "start_time": "2023-07-29T07:58:03.941Z"
   },
   {
    "duration": 70,
    "start_time": "2023-07-29T07:58:03.966Z"
   },
   {
    "duration": 29,
    "start_time": "2023-07-29T07:58:04.041Z"
   },
   {
    "duration": 3,
    "start_time": "2023-07-29T09:06:56.993Z"
   },
   {
    "duration": 11,
    "start_time": "2023-07-29T09:25:41.307Z"
   },
   {
    "duration": 6,
    "start_time": "2023-07-29T09:28:31.245Z"
   },
   {
    "duration": 3,
    "start_time": "2023-07-29T09:28:36.301Z"
   },
   {
    "duration": 8,
    "start_time": "2023-07-29T09:29:25.090Z"
   },
   {
    "duration": 5,
    "start_time": "2023-07-29T10:08:12.752Z"
   },
   {
    "duration": 5,
    "start_time": "2023-07-29T10:10:00.897Z"
   },
   {
    "duration": 1113,
    "start_time": "2023-07-29T11:12:37.809Z"
   },
   {
    "duration": 75,
    "start_time": "2023-07-29T11:12:38.924Z"
   },
   {
    "duration": 5,
    "start_time": "2023-07-29T11:12:39.001Z"
   },
   {
    "duration": 47,
    "start_time": "2023-07-29T11:12:39.008Z"
   },
   {
    "duration": 32,
    "start_time": "2023-07-29T11:12:39.057Z"
   },
   {
    "duration": 14,
    "start_time": "2023-07-29T11:12:39.091Z"
   },
   {
    "duration": 60,
    "start_time": "2023-07-29T11:12:39.107Z"
   },
   {
    "duration": 4,
    "start_time": "2023-07-29T11:12:39.168Z"
   },
   {
    "duration": 52,
    "start_time": "2023-07-29T11:12:39.174Z"
   },
   {
    "duration": 3,
    "start_time": "2023-07-29T11:12:39.229Z"
   },
   {
    "duration": 5,
    "start_time": "2023-07-29T11:12:39.234Z"
   },
   {
    "duration": 29,
    "start_time": "2023-07-29T11:12:39.241Z"
   },
   {
    "duration": 12,
    "start_time": "2023-07-29T11:12:39.272Z"
   },
   {
    "duration": 13,
    "start_time": "2023-07-29T11:12:39.286Z"
   },
   {
    "duration": 19,
    "start_time": "2023-07-29T11:12:39.301Z"
   },
   {
    "duration": 154,
    "start_time": "2023-07-29T11:12:39.322Z"
   },
   {
    "duration": 10,
    "start_time": "2023-07-29T11:12:39.478Z"
   },
   {
    "duration": 19,
    "start_time": "2023-07-29T11:12:39.489Z"
   },
   {
    "duration": 7,
    "start_time": "2023-07-29T11:12:39.510Z"
   },
   {
    "duration": 49,
    "start_time": "2023-07-29T11:12:39.519Z"
   },
   {
    "duration": 25,
    "start_time": "2023-07-29T11:12:39.571Z"
   },
   {
    "duration": 5,
    "start_time": "2023-07-29T11:12:39.598Z"
   },
   {
    "duration": 323,
    "start_time": "2023-07-29T11:12:39.605Z"
   },
   {
    "duration": 311,
    "start_time": "2023-07-29T11:12:39.930Z"
   },
   {
    "duration": 278,
    "start_time": "2023-07-29T11:12:40.243Z"
   },
   {
    "duration": 351,
    "start_time": "2023-07-29T11:12:40.523Z"
   },
   {
    "duration": 209,
    "start_time": "2023-07-29T11:12:40.876Z"
   },
   {
    "duration": 314,
    "start_time": "2023-07-29T11:12:41.091Z"
   },
   {
    "duration": 10,
    "start_time": "2023-07-29T11:12:41.407Z"
   },
   {
    "duration": 22,
    "start_time": "2023-07-29T11:12:41.418Z"
   },
   {
    "duration": 190,
    "start_time": "2023-07-29T11:12:41.442Z"
   },
   {
    "duration": 178,
    "start_time": "2023-07-29T11:12:41.634Z"
   },
   {
    "duration": 5,
    "start_time": "2023-07-29T11:12:41.813Z"
   },
   {
    "duration": 7,
    "start_time": "2023-07-29T11:12:41.819Z"
   },
   {
    "duration": 33,
    "start_time": "2023-07-29T11:12:41.827Z"
   },
   {
    "duration": 154,
    "start_time": "2023-07-29T11:12:41.862Z"
   },
   {
    "duration": 246,
    "start_time": "2023-07-29T11:12:42.018Z"
   },
   {
    "duration": 4,
    "start_time": "2023-07-29T11:12:42.265Z"
   },
   {
    "duration": 219,
    "start_time": "2023-07-29T11:12:42.271Z"
   },
   {
    "duration": 28,
    "start_time": "2023-07-29T11:12:42.491Z"
   },
   {
    "duration": 190,
    "start_time": "2023-07-29T11:12:42.520Z"
   },
   {
    "duration": 11,
    "start_time": "2023-07-29T11:12:42.711Z"
   },
   {
    "duration": 49,
    "start_time": "2023-07-29T11:12:42.724Z"
   },
   {
    "duration": 4,
    "start_time": "2023-07-29T11:12:42.775Z"
   },
   {
    "duration": 17,
    "start_time": "2023-07-29T11:12:42.781Z"
   },
   {
    "duration": 15,
    "start_time": "2023-07-29T11:12:42.800Z"
   },
   {
    "duration": 1217,
    "start_time": "2023-07-29T11:20:52.534Z"
   },
   {
    "duration": 76,
    "start_time": "2023-07-29T11:20:53.754Z"
   },
   {
    "duration": 4,
    "start_time": "2023-07-29T11:20:53.832Z"
   },
   {
    "duration": 38,
    "start_time": "2023-07-29T11:20:53.839Z"
   },
   {
    "duration": 30,
    "start_time": "2023-07-29T11:20:53.879Z"
   },
   {
    "duration": 13,
    "start_time": "2023-07-29T11:20:53.910Z"
   },
   {
    "duration": 51,
    "start_time": "2023-07-29T11:20:53.925Z"
   },
   {
    "duration": 4,
    "start_time": "2023-07-29T11:20:53.977Z"
   },
   {
    "duration": 14,
    "start_time": "2023-07-29T11:20:53.983Z"
   },
   {
    "duration": 4,
    "start_time": "2023-07-29T11:20:54.000Z"
   },
   {
    "duration": 6,
    "start_time": "2023-07-29T11:20:54.006Z"
   },
   {
    "duration": 66,
    "start_time": "2023-07-29T11:20:54.014Z"
   },
   {
    "duration": 15,
    "start_time": "2023-07-29T11:20:54.082Z"
   },
   {
    "duration": 17,
    "start_time": "2023-07-29T11:20:54.099Z"
   },
   {
    "duration": 53,
    "start_time": "2023-07-29T11:20:54.118Z"
   },
   {
    "duration": 147,
    "start_time": "2023-07-29T11:20:54.174Z"
   },
   {
    "duration": 9,
    "start_time": "2023-07-29T11:20:54.322Z"
   },
   {
    "duration": 31,
    "start_time": "2023-07-29T11:20:54.333Z"
   },
   {
    "duration": 8,
    "start_time": "2023-07-29T11:20:54.365Z"
   },
   {
    "duration": 16,
    "start_time": "2023-07-29T11:20:54.375Z"
   },
   {
    "duration": 27,
    "start_time": "2023-07-29T11:20:54.393Z"
   },
   {
    "duration": 4,
    "start_time": "2023-07-29T11:20:54.422Z"
   },
   {
    "duration": 327,
    "start_time": "2023-07-29T11:20:54.428Z"
   },
   {
    "duration": 295,
    "start_time": "2023-07-29T11:20:54.759Z"
   },
   {
    "duration": 221,
    "start_time": "2023-07-29T11:20:55.059Z"
   },
   {
    "duration": 296,
    "start_time": "2023-07-29T11:20:55.282Z"
   },
   {
    "duration": 200,
    "start_time": "2023-07-29T11:20:55.580Z"
   },
   {
    "duration": 313,
    "start_time": "2023-07-29T11:20:55.783Z"
   },
   {
    "duration": 9,
    "start_time": "2023-07-29T11:20:56.098Z"
   },
   {
    "duration": 15,
    "start_time": "2023-07-29T11:20:56.109Z"
   },
   {
    "duration": 166,
    "start_time": "2023-07-29T11:20:56.126Z"
   },
   {
    "duration": 165,
    "start_time": "2023-07-29T11:20:56.294Z"
   },
   {
    "duration": 4,
    "start_time": "2023-07-29T11:20:56.461Z"
   },
   {
    "duration": 19,
    "start_time": "2023-07-29T11:20:56.467Z"
   },
   {
    "duration": 10,
    "start_time": "2023-07-29T11:20:56.488Z"
   },
   {
    "duration": 153,
    "start_time": "2023-07-29T11:20:56.499Z"
   },
   {
    "duration": 248,
    "start_time": "2023-07-29T11:20:56.653Z"
   },
   {
    "duration": 4,
    "start_time": "2023-07-29T11:20:56.903Z"
   },
   {
    "duration": 221,
    "start_time": "2023-07-29T11:20:56.909Z"
   },
   {
    "duration": 42,
    "start_time": "2023-07-29T11:20:57.132Z"
   },
   {
    "duration": 162,
    "start_time": "2023-07-29T11:20:57.176Z"
   },
   {
    "duration": 22,
    "start_time": "2023-07-29T11:20:57.340Z"
   },
   {
    "duration": 25,
    "start_time": "2023-07-29T11:20:57.364Z"
   },
   {
    "duration": 4,
    "start_time": "2023-07-29T11:20:57.390Z"
   },
   {
    "duration": 15,
    "start_time": "2023-07-29T11:20:57.396Z"
   },
   {
    "duration": 13,
    "start_time": "2023-07-29T11:20:57.413Z"
   },
   {
    "duration": 1335,
    "start_time": "2023-07-29T11:22:43.154Z"
   },
   {
    "duration": 76,
    "start_time": "2023-07-29T11:22:44.491Z"
   },
   {
    "duration": 4,
    "start_time": "2023-07-29T11:22:44.569Z"
   },
   {
    "duration": 51,
    "start_time": "2023-07-29T11:22:44.575Z"
   },
   {
    "duration": 50,
    "start_time": "2023-07-29T11:22:44.629Z"
   },
   {
    "duration": 14,
    "start_time": "2023-07-29T11:22:44.681Z"
   },
   {
    "duration": 27,
    "start_time": "2023-07-29T11:22:44.696Z"
   },
   {
    "duration": 34,
    "start_time": "2023-07-29T11:22:44.725Z"
   },
   {
    "duration": 11,
    "start_time": "2023-07-29T11:22:44.761Z"
   },
   {
    "duration": 4,
    "start_time": "2023-07-29T11:22:44.775Z"
   },
   {
    "duration": 12,
    "start_time": "2023-07-29T11:22:44.781Z"
   },
   {
    "duration": 27,
    "start_time": "2023-07-29T11:22:44.795Z"
   },
   {
    "duration": 15,
    "start_time": "2023-07-29T11:22:44.859Z"
   },
   {
    "duration": 22,
    "start_time": "2023-07-29T11:22:44.876Z"
   },
   {
    "duration": 14,
    "start_time": "2023-07-29T11:22:44.900Z"
   },
   {
    "duration": 162,
    "start_time": "2023-07-29T11:22:44.916Z"
   },
   {
    "duration": 9,
    "start_time": "2023-07-29T11:22:45.080Z"
   },
   {
    "duration": 20,
    "start_time": "2023-07-29T11:22:45.091Z"
   },
   {
    "duration": 9,
    "start_time": "2023-07-29T11:22:45.113Z"
   },
   {
    "duration": 50,
    "start_time": "2023-07-29T11:22:45.124Z"
   },
   {
    "duration": 22,
    "start_time": "2023-07-29T11:22:45.176Z"
   },
   {
    "duration": 4,
    "start_time": "2023-07-29T11:22:45.200Z"
   },
   {
    "duration": 355,
    "start_time": "2023-07-29T11:22:45.206Z"
   },
   {
    "duration": 328,
    "start_time": "2023-07-29T11:22:45.563Z"
   },
   {
    "duration": 235,
    "start_time": "2023-07-29T11:22:45.893Z"
   },
   {
    "duration": 331,
    "start_time": "2023-07-29T11:22:46.130Z"
   },
   {
    "duration": 219,
    "start_time": "2023-07-29T11:22:46.463Z"
   },
   {
    "duration": 318,
    "start_time": "2023-07-29T11:22:46.685Z"
   },
   {
    "duration": 10,
    "start_time": "2023-07-29T11:22:47.004Z"
   },
   {
    "duration": 43,
    "start_time": "2023-07-29T11:22:47.016Z"
   },
   {
    "duration": 168,
    "start_time": "2023-07-29T11:22:47.061Z"
   },
   {
    "duration": 176,
    "start_time": "2023-07-29T11:22:47.232Z"
   },
   {
    "duration": 5,
    "start_time": "2023-07-29T11:22:47.409Z"
   },
   {
    "duration": 19,
    "start_time": "2023-07-29T11:22:47.415Z"
   },
   {
    "duration": 30,
    "start_time": "2023-07-29T11:22:47.436Z"
   },
   {
    "duration": 161,
    "start_time": "2023-07-29T11:22:47.467Z"
   },
   {
    "duration": 344,
    "start_time": "2023-07-29T11:22:47.629Z"
   },
   {
    "duration": 5,
    "start_time": "2023-07-29T11:22:47.974Z"
   },
   {
    "duration": 403,
    "start_time": "2023-07-29T11:22:47.981Z"
   },
   {
    "duration": 80,
    "start_time": "2023-07-29T11:22:48.386Z"
   },
   {
    "duration": 329,
    "start_time": "2023-07-29T11:22:48.468Z"
   },
   {
    "duration": 68,
    "start_time": "2023-07-29T11:22:48.799Z"
   },
   {
    "duration": 91,
    "start_time": "2023-07-29T11:22:48.869Z"
   },
   {
    "duration": 5,
    "start_time": "2023-07-29T11:22:48.962Z"
   },
   {
    "duration": 12,
    "start_time": "2023-07-29T11:22:48.969Z"
   },
   {
    "duration": 15,
    "start_time": "2023-07-29T11:22:48.983Z"
   },
   {
    "duration": 1907,
    "start_time": "2023-07-29T18:02:24.668Z"
   },
   {
    "duration": 297,
    "start_time": "2023-07-29T18:02:26.578Z"
   },
   {
    "duration": 5,
    "start_time": "2023-07-29T18:02:26.877Z"
   },
   {
    "duration": 86,
    "start_time": "2023-07-29T18:02:26.883Z"
   },
   {
    "duration": 63,
    "start_time": "2023-07-29T18:02:26.972Z"
   },
   {
    "duration": 15,
    "start_time": "2023-07-29T18:02:27.043Z"
   },
   {
    "duration": 83,
    "start_time": "2023-07-29T18:02:27.060Z"
   },
   {
    "duration": 5,
    "start_time": "2023-07-29T18:02:27.145Z"
   },
   {
    "duration": 79,
    "start_time": "2023-07-29T18:02:27.154Z"
   },
   {
    "duration": 6,
    "start_time": "2023-07-29T18:02:27.237Z"
   },
   {
    "duration": 41,
    "start_time": "2023-07-29T18:02:27.245Z"
   },
   {
    "duration": 80,
    "start_time": "2023-07-29T18:02:27.293Z"
   },
   {
    "duration": 50,
    "start_time": "2023-07-29T18:02:27.375Z"
   },
   {
    "duration": 25,
    "start_time": "2023-07-29T18:02:27.428Z"
   },
   {
    "duration": 29,
    "start_time": "2023-07-29T18:02:27.455Z"
   },
   {
    "duration": 235,
    "start_time": "2023-07-29T18:02:27.486Z"
   },
   {
    "duration": 13,
    "start_time": "2023-07-29T18:02:27.723Z"
   },
   {
    "duration": 22,
    "start_time": "2023-07-29T18:02:27.739Z"
   },
   {
    "duration": 12,
    "start_time": "2023-07-29T18:02:27.763Z"
   },
   {
    "duration": 53,
    "start_time": "2023-07-29T18:02:27.777Z"
   },
   {
    "duration": 20,
    "start_time": "2023-07-29T18:02:27.840Z"
   },
   {
    "duration": 6,
    "start_time": "2023-07-29T18:02:27.862Z"
   },
   {
    "duration": 431,
    "start_time": "2023-07-29T18:02:27.870Z"
   },
   {
    "duration": 415,
    "start_time": "2023-07-29T18:02:28.307Z"
   },
   {
    "duration": 285,
    "start_time": "2023-07-29T18:02:28.724Z"
   },
   {
    "duration": 390,
    "start_time": "2023-07-29T18:02:29.011Z"
   },
   {
    "duration": 264,
    "start_time": "2023-07-29T18:02:29.404Z"
   },
   {
    "duration": 442,
    "start_time": "2023-07-29T18:02:29.670Z"
   },
   {
    "duration": 17,
    "start_time": "2023-07-29T18:02:30.118Z"
   },
   {
    "duration": 15,
    "start_time": "2023-07-29T18:02:30.139Z"
   },
   {
    "duration": 209,
    "start_time": "2023-07-29T18:02:30.156Z"
   },
   {
    "duration": 208,
    "start_time": "2023-07-29T18:02:30.368Z"
   },
   {
    "duration": 26,
    "start_time": "2023-07-29T18:02:30.579Z"
   },
   {
    "duration": 59,
    "start_time": "2023-07-29T18:02:30.612Z"
   },
   {
    "duration": 53,
    "start_time": "2023-07-29T18:02:30.673Z"
   },
   {
    "duration": 311,
    "start_time": "2023-07-29T18:02:30.728Z"
   },
   {
    "duration": 219,
    "start_time": "2023-07-29T18:02:31.042Z"
   },
   {
    "duration": 5,
    "start_time": "2023-07-29T18:02:31.263Z"
   },
   {
    "duration": 281,
    "start_time": "2023-07-29T18:02:31.269Z"
   },
   {
    "duration": 38,
    "start_time": "2023-07-29T18:02:31.552Z"
   },
   {
    "duration": 202,
    "start_time": "2023-07-29T18:02:31.595Z"
   },
   {
    "duration": 23,
    "start_time": "2023-07-29T18:02:31.799Z"
   },
   {
    "duration": 36,
    "start_time": "2023-07-29T18:02:31.831Z"
   },
   {
    "duration": 56,
    "start_time": "2023-07-29T18:02:31.869Z"
   },
   {
    "duration": 63,
    "start_time": "2023-07-29T18:02:31.935Z"
   },
   {
    "duration": 29,
    "start_time": "2023-07-29T18:02:32.013Z"
   }
  ],
  "kernelspec": {
   "display_name": "Python 3 (ipykernel)",
   "language": "python",
   "name": "python3"
  },
  "language_info": {
   "codemirror_mode": {
    "name": "ipython",
    "version": 3
   },
   "file_extension": ".py",
   "mimetype": "text/x-python",
   "name": "python",
   "nbconvert_exporter": "python",
   "pygments_lexer": "ipython3",
   "version": "3.11.4"
  },
  "toc": {
   "base_numbering": 1,
   "nav_menu": {},
   "number_sections": true,
   "sideBar": true,
   "skip_h1_title": true,
   "title_cell": "Table of Contents",
   "title_sidebar": "Contents",
   "toc_cell": false,
   "toc_position": {
    "height": "calc(100% - 180px)",
    "left": "10px",
    "top": "150px",
    "width": "239.8px"
   },
   "toc_section_display": true,
   "toc_window_display": true
  }
 },
 "nbformat": 4,
 "nbformat_minor": 2
}
