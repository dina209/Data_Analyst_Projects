{
 "cells": [
  {
   "cell_type": "markdown",
   "id": "aa5c2dde",
   "metadata": {},
   "source": [
    "# Статистический анализ данных"
   ]
  },
  {
   "cell_type": "markdown",
   "id": "5edd4bda",
   "metadata": {},
   "source": [
    "#### Описание проекта"
   ]
  },
  {
   "cell_type": "markdown",
   "id": "3e414794",
   "metadata": {},
   "source": [
    "Aналитикy популярного сервиса аренды самокатов GoFast передали данные о некоторых пользователях из нескольких городов, а также об их поездках. Необходимо  проанализировать данные и проверить некоторые гипотезы, которые могут помочь бизнесу вырасти.\n",
    "Чтобы совершать поездки по городу, пользователи сервиса GoFast пользуются мобильным приложением. Сервисом можно пользоваться:\n",
    "без подписки\n",
    "\n",
    "* абонентская плата отсутствует;\n",
    "\n",
    "      стоимость одной минуты поездки — 8 рублей;\n",
    "\n",
    "      стоимость старта (начала поездки) — 50 рублей;\n",
    "\n",
    "\n",
    "* с подпиской Ultra\n",
    "\n",
    "      абонентская плата — 199 рублей в месяц;\n",
    "\n",
    "      стоимость одной минуты поездки — 6 рублей;\n",
    "\n",
    "      стоимость старта — бесплатно."
   ]
  },
  {
   "cell_type": "markdown",
   "id": "b419f199",
   "metadata": {},
   "source": [
    "##### Описание данных\n"
   ]
  },
  {
   "cell_type": "markdown",
   "id": "a6c6c480",
   "metadata": {},
   "source": [
    "В основных данных есть информация о пользователях, их поездках и подписках.\n",
    "\n",
    " * Tаблица Пользователи* — users_go.csv\n",
    "\n",
    "*user_id* \tуникальный идентификатор пользователя\n",
    "\n",
    "*name*\tимя пользователя\n",
    "\n",
    "*age* \tвозраст\n",
    "\n",
    "*city*\tгород\n",
    "\n",
    "*subscription_type*\tтип подписки (free, ultra)\n"
   ]
  },
  {
   "cell_type": "markdown",
   "id": "2aef622b",
   "metadata": {},
   "source": [
    "* Tаблица Поездки* — rides_go.csv\n",
    "\n",
    "\n",
    "\n",
    "*user_id*\tуникальный идентификатор пользователя\n",
    "\n",
    "*distance*\tрасстояние, которое пользователь проехал в текущей сессии (в метрах)\n",
    "\n",
    "*duration*\tпродолжительность сессии (в минутах) — время с того момента, как пользователь нажал кнопку «Начать поездку» до момента, как он нажал кнопку «Завершить поездку»\n",
    "\n",
    "*date*\tдата совершения поездки"
   ]
  },
  {
   "cell_type": "markdown",
   "id": "8e3be325",
   "metadata": {},
   "source": [
    " * Tаблица Подписки*— subscriptions_go.csv\n",
    "\n",
    "\n",
    "*subscription_type*\tтип подписки\n",
    "\n",
    "*minute_price*\tстоимость одной минуты поездки по данной подписке\n",
    "\n",
    "*start_ride_price*\tстоимость начала поездки\n",
    "\n",
    "*subscription_fee*\tстоимость ежемесячного платежа\n"
   ]
  },
  {
   "cell_type": "markdown",
   "id": "ce1ab293",
   "metadata": {},
   "source": [
    "##### Шаг 1. Загрузка данных"
   ]
  },
  {
   "cell_type": "markdown",
   "id": "37f31f49",
   "metadata": {},
   "source": [
    "1.1 Считайте CSV-файлы с данными с помощью библиотеки Pandas и сохраните их в датафреймы. Пути к файлам:\n",
    "\n",
    "\n",
    "*/datasets/users_go.csv*\n",
    "\n",
    "*/datasets/rides_go.csv*\n",
    "\n",
    "*/datasets/subscriptions_go.csv*\n",
    "\n",
    "1.2 Выведите первые строки каждого набора данных. Изучите общую информацию о каждом датафрейме."
   ]
  },
  {
   "cell_type": "markdown",
   "id": "9279e69c",
   "metadata": {},
   "source": [
    "##### Шаг 2. Предобработка данных\n"
   ]
  },
  {
   "cell_type": "markdown",
   "id": "f81ade0d",
   "metadata": {},
   "source": [
    "2.1 Приведите столбец date к типу даты Pandas.\n",
    "\n",
    "2.2 Создайте новый столбец с номером месяца на основе столбца date.\n",
    "\n",
    "2.3 Проверьте наличие пропущенных значений и дубликатов в датафреймах. Обработайте их, если такие значения присутствуют.\n"
   ]
  },
  {
   "cell_type": "markdown",
   "id": "b2681450",
   "metadata": {},
   "source": [
    "##### Шаг 3. Исследовательский анализ данных\n"
   ]
  },
  {
   "cell_type": "markdown",
   "id": "fd9799b9",
   "metadata": {},
   "source": [
    "Опишите и визуализируйте общую информацию о пользователях и поездках:\n",
    "\n",
    "3.1 частота встречаемости городов;\n",
    "\n",
    "3.2 соотношение пользователей с подпиской и без подписки;\n",
    "\n",
    "3.3 возраст пользователей;\n",
    "\n",
    "3.4 расстояние, которое пользователь преодолел за одну поездку;\n",
    "\n",
    "3.5 продолжительность поездок."
   ]
  },
  {
   "cell_type": "markdown",
   "id": "576669d5",
   "metadata": {},
   "source": [
    "##### Шаг 4. Объединение данных\n",
    "\n",
    "\n",
    "4.1 Объедините данные о пользователях, поездках и подписках в один датафрейм. Для этого воспользуйтесь методом merge().\n",
    "\n",
    "4.2 Создайте ещё два датафрейма из датафрейма, созданного на этапе 4.1:\n",
    "\n",
    "c данными о пользователях без подписки;\n",
    "\n",
    "с данными о пользователях с подпиской.\n",
    "\n",
    "4.3 Визуализируйте информацию о расстоянии и времени поездок для пользователей обеих категорий."
   ]
  },
  {
   "cell_type": "markdown",
   "id": "3a1da906",
   "metadata": {},
   "source": [
    "##### Шаг 5. Подсчёт выручки\n",
    "\n",
    "\n",
    "5.1 Создайте датафрейм с агрегированными данными о поездках на основе датафрейма с объединёнными данными из шага 4: найдите суммарное расстояние, количество поездок и суммарное время для каждого пользователя за каждый месяц.\n",
    "\n",
    "5.2 В этот же датафрейм добавьте столбец с помесячной выручкой, которую принёс каждый пользователь. Для этого обратитесь к информации об условиях оплаты для подписчиков и тех, у кого нет подписки. Продолжительность каждой поездки в каждой строке исходного датафрейма для подсчёта стоимости округляется до следующего целого числа: например, значения \n",
    "25.3, 25.5 и 26.0 должны быть преобразованы к 26.\n",
    "\n",
    "##### Подсказка\n",
    "\n",
    "Продолжительность каждой поездки должна быть округлена с помощью метода «потолок» библиотеки numpy — *np.ceil():*\n",
    "\n",
    "import numpy as np\n",
    "\n",
    " каждое значение из столбца duration округляется с помощью «потолка»: \n",
    " \n",
    "rides_df['duration'] = np.ceil(rides_df['duration']) \n",
    "\n",
    "*Помесячная выручка считается по формуле:* (стоимость старта поездки × количество поездок) + стоимость одной минуты поездки × общая продолжительность всех поездок в минутах) + стоимость подписки."
   ]
  },
  {
   "cell_type": "markdown",
   "id": "fa705c5d",
   "metadata": {},
   "source": [
    "##### Шаг 6. Проверка гипотез\n",
    "\n",
    "\n",
    "Продакт-менеджеры сервиса хотят увеличить количество пользователей с подпиской. Для этого они будут проводить различные акции, но сначала нужно выяснить несколько важных моментов.\n",
    "\n",
    "\n",
    "6.1 Важно понять, тратят ли пользователи с подпиской больше времени на поездки? Если да, то пользователи с подпиской могут быть «выгоднее» для компании. Проверьте гипотезу. Используйте исходные данные о продолжительности каждой сессии — отдельно для подписчиков и тех, у кого нет подписки.\n",
    "\n",
    "\n",
    "6.2 Расстояние одной поездки в \n",
    "3130 метров — оптимальное с точки зрения износа самоката. Можно ли сказать, что расстояние, которое проезжают пользователи с подпиской за одну поездку, не превышает 3130 метров? Проверьте гипотезу и сделайте выводы.\n",
    "\n",
    "6.3. Проверьте гипотезу о том, будет ли помесячная выручка от пользователей с подпиской по месяцам выше, чем выручка от пользователей без подписки. Сделайте вывод.\n",
    "\n",
    "6.4. Представьте такую ситуацию: техническая команда сервиса обновила сервера, с которыми взаимодействует мобильное приложение. Она надеется, что из-за этого количество обращений в техподдержку значимо снизилось. Некоторый файл содержит для каждого пользователя данные о количестве обращений до обновления и после него. Какой тест вам понадобился бы для проверки этой гипотезы?"
   ]
  },
  {
   "cell_type": "markdown",
   "id": "1bc63ba0",
   "metadata": {},
   "source": [
    "#### Шаг 1. Загрузка данных"
   ]
  },
  {
   "cell_type": "code",
   "execution_count": 1,
   "id": "72576667",
   "metadata": {},
   "outputs": [],
   "source": [
    "import pandas as pd\n",
    "\n",
    "import matplotlib.pyplot as plt\n",
    "%matplotlib inline\n",
    "import warnings\n",
    "warnings.simplefilter('ignore')\n",
    "import plotly.express as px\n",
    "import seaborn as sns\n",
    "from IPython.display import display_html\n",
    "import numpy as np\n",
    "from scipy import stats as st\n",
    "import os\n",
    "from pymystem3 import Mystem\n",
    "m = Mystem()\n",
    "\n",
    "\n",
    "pd.set_option('display.max_columns', 30)\n",
    "pd.set_option(\"display.float_format\", \"{:.2f}\".format)\n",
    "\n"
   ]
  },
  {
   "cell_type": "code",
   "execution_count": 2,
   "id": "940a2750",
   "metadata": {
    "scrolled": false
   },
   "outputs": [],
   "source": [
    "# Прочитаем файлы\n",
    "\n",
    "users = pd.read_csv(\"/datasets/users_go.csv\", sep=\",\")\n",
    "rides = pd.read_csv(\"//datasets/rides_go.csv\", sep=\",\")\n",
    "subscriptions = pd.read_csv(\"//datasets/subscriptions_go.csv\", sep=\",\")    \n"
   ]
  },
  {
   "cell_type": "markdown",
   "id": "b65cdd50",
   "metadata": {},
   "source": [
    "Напишем функцию для первичного ознакомления с датасетом:\n"
   ]
  },
  {
   "cell_type": "code",
   "execution_count": 3,
   "id": "4ee86abd",
   "metadata": {},
   "outputs": [],
   "source": [
    "def dataset_info(dataset_preview): \n",
    "    print(dataset_preview.info())\n",
    "    display(dataset_preview.head())"
   ]
  },
  {
   "cell_type": "code",
   "execution_count": 4,
   "id": "78b1c6af",
   "metadata": {},
   "outputs": [
    {
     "name": "stdout",
     "output_type": "stream",
     "text": [
      "    DATA PREVIEW     \n",
      "\n",
      "<class 'pandas.core.frame.DataFrame'>\n",
      "RangeIndex: 1565 entries, 0 to 1564\n",
      "Data columns (total 5 columns):\n",
      " #   Column             Non-Null Count  Dtype \n",
      "---  ------             --------------  ----- \n",
      " 0   user_id            1565 non-null   int64 \n",
      " 1   name               1565 non-null   object\n",
      " 2   age                1565 non-null   int64 \n",
      " 3   city               1565 non-null   object\n",
      " 4   subscription_type  1565 non-null   object\n",
      "dtypes: int64(2), object(3)\n",
      "memory usage: 61.3+ KB\n",
      "None\n"
     ]
    },
    {
     "data": {
      "text/html": [
       "<div>\n",
       "<style scoped>\n",
       "    .dataframe tbody tr th:only-of-type {\n",
       "        vertical-align: middle;\n",
       "    }\n",
       "\n",
       "    .dataframe tbody tr th {\n",
       "        vertical-align: top;\n",
       "    }\n",
       "\n",
       "    .dataframe thead th {\n",
       "        text-align: right;\n",
       "    }\n",
       "</style>\n",
       "<table border=\"1\" class=\"dataframe\">\n",
       "  <thead>\n",
       "    <tr style=\"text-align: right;\">\n",
       "      <th></th>\n",
       "      <th>user_id</th>\n",
       "      <th>name</th>\n",
       "      <th>age</th>\n",
       "      <th>city</th>\n",
       "      <th>subscription_type</th>\n",
       "    </tr>\n",
       "  </thead>\n",
       "  <tbody>\n",
       "    <tr>\n",
       "      <th>0</th>\n",
       "      <td>1</td>\n",
       "      <td>Кира</td>\n",
       "      <td>22</td>\n",
       "      <td>Тюмень</td>\n",
       "      <td>ultra</td>\n",
       "    </tr>\n",
       "    <tr>\n",
       "      <th>1</th>\n",
       "      <td>2</td>\n",
       "      <td>Станислав</td>\n",
       "      <td>31</td>\n",
       "      <td>Омск</td>\n",
       "      <td>ultra</td>\n",
       "    </tr>\n",
       "    <tr>\n",
       "      <th>2</th>\n",
       "      <td>3</td>\n",
       "      <td>Алексей</td>\n",
       "      <td>20</td>\n",
       "      <td>Москва</td>\n",
       "      <td>ultra</td>\n",
       "    </tr>\n",
       "    <tr>\n",
       "      <th>3</th>\n",
       "      <td>4</td>\n",
       "      <td>Константин</td>\n",
       "      <td>26</td>\n",
       "      <td>Ростов-на-Дону</td>\n",
       "      <td>ultra</td>\n",
       "    </tr>\n",
       "    <tr>\n",
       "      <th>4</th>\n",
       "      <td>5</td>\n",
       "      <td>Адель</td>\n",
       "      <td>28</td>\n",
       "      <td>Омск</td>\n",
       "      <td>ultra</td>\n",
       "    </tr>\n",
       "  </tbody>\n",
       "</table>\n",
       "</div>"
      ],
      "text/plain": [
       "   user_id        name  age            city subscription_type\n",
       "0        1        Кира   22          Тюмень             ultra\n",
       "1        2   Станислав   31            Омск             ultra\n",
       "2        3     Алексей   20          Москва             ultra\n",
       "3        4  Константин   26  Ростов-на-Дону             ultra\n",
       "4        5       Адель   28            Омск             ultra"
      ]
     },
     "metadata": {},
     "output_type": "display_data"
    },
    {
     "name": "stdout",
     "output_type": "stream",
     "text": [
      "\n",
      "    DATA PREVIEW     \n",
      "\n",
      "<class 'pandas.core.frame.DataFrame'>\n",
      "RangeIndex: 18068 entries, 0 to 18067\n",
      "Data columns (total 4 columns):\n",
      " #   Column    Non-Null Count  Dtype  \n",
      "---  ------    --------------  -----  \n",
      " 0   user_id   18068 non-null  int64  \n",
      " 1   distance  18068 non-null  float64\n",
      " 2   duration  18068 non-null  float64\n",
      " 3   date      18068 non-null  object \n",
      "dtypes: float64(2), int64(1), object(1)\n",
      "memory usage: 564.8+ KB\n",
      "None\n"
     ]
    },
    {
     "data": {
      "text/html": [
       "<div>\n",
       "<style scoped>\n",
       "    .dataframe tbody tr th:only-of-type {\n",
       "        vertical-align: middle;\n",
       "    }\n",
       "\n",
       "    .dataframe tbody tr th {\n",
       "        vertical-align: top;\n",
       "    }\n",
       "\n",
       "    .dataframe thead th {\n",
       "        text-align: right;\n",
       "    }\n",
       "</style>\n",
       "<table border=\"1\" class=\"dataframe\">\n",
       "  <thead>\n",
       "    <tr style=\"text-align: right;\">\n",
       "      <th></th>\n",
       "      <th>user_id</th>\n",
       "      <th>distance</th>\n",
       "      <th>duration</th>\n",
       "      <th>date</th>\n",
       "    </tr>\n",
       "  </thead>\n",
       "  <tbody>\n",
       "    <tr>\n",
       "      <th>0</th>\n",
       "      <td>1</td>\n",
       "      <td>4409.92</td>\n",
       "      <td>25.60</td>\n",
       "      <td>2021-01-01</td>\n",
       "    </tr>\n",
       "    <tr>\n",
       "      <th>1</th>\n",
       "      <td>1</td>\n",
       "      <td>2617.59</td>\n",
       "      <td>15.82</td>\n",
       "      <td>2021-01-18</td>\n",
       "    </tr>\n",
       "    <tr>\n",
       "      <th>2</th>\n",
       "      <td>1</td>\n",
       "      <td>754.16</td>\n",
       "      <td>6.23</td>\n",
       "      <td>2021-04-20</td>\n",
       "    </tr>\n",
       "    <tr>\n",
       "      <th>3</th>\n",
       "      <td>1</td>\n",
       "      <td>2694.78</td>\n",
       "      <td>18.51</td>\n",
       "      <td>2021-08-11</td>\n",
       "    </tr>\n",
       "    <tr>\n",
       "      <th>4</th>\n",
       "      <td>1</td>\n",
       "      <td>4028.69</td>\n",
       "      <td>26.27</td>\n",
       "      <td>2021-08-28</td>\n",
       "    </tr>\n",
       "  </tbody>\n",
       "</table>\n",
       "</div>"
      ],
      "text/plain": [
       "   user_id  distance  duration        date\n",
       "0        1   4409.92     25.60  2021-01-01\n",
       "1        1   2617.59     15.82  2021-01-18\n",
       "2        1    754.16      6.23  2021-04-20\n",
       "3        1   2694.78     18.51  2021-08-11\n",
       "4        1   4028.69     26.27  2021-08-28"
      ]
     },
     "metadata": {},
     "output_type": "display_data"
    },
    {
     "name": "stdout",
     "output_type": "stream",
     "text": [
      "\n",
      "    DATA PREVIEW     \n",
      "\n",
      "<class 'pandas.core.frame.DataFrame'>\n",
      "RangeIndex: 2 entries, 0 to 1\n",
      "Data columns (total 4 columns):\n",
      " #   Column             Non-Null Count  Dtype \n",
      "---  ------             --------------  ----- \n",
      " 0   subscription_type  2 non-null      object\n",
      " 1   minute_price       2 non-null      int64 \n",
      " 2   start_ride_price   2 non-null      int64 \n",
      " 3   subscription_fee   2 non-null      int64 \n",
      "dtypes: int64(3), object(1)\n",
      "memory usage: 192.0+ bytes\n",
      "None\n"
     ]
    },
    {
     "data": {
      "text/html": [
       "<div>\n",
       "<style scoped>\n",
       "    .dataframe tbody tr th:only-of-type {\n",
       "        vertical-align: middle;\n",
       "    }\n",
       "\n",
       "    .dataframe tbody tr th {\n",
       "        vertical-align: top;\n",
       "    }\n",
       "\n",
       "    .dataframe thead th {\n",
       "        text-align: right;\n",
       "    }\n",
       "</style>\n",
       "<table border=\"1\" class=\"dataframe\">\n",
       "  <thead>\n",
       "    <tr style=\"text-align: right;\">\n",
       "      <th></th>\n",
       "      <th>subscription_type</th>\n",
       "      <th>minute_price</th>\n",
       "      <th>start_ride_price</th>\n",
       "      <th>subscription_fee</th>\n",
       "    </tr>\n",
       "  </thead>\n",
       "  <tbody>\n",
       "    <tr>\n",
       "      <th>0</th>\n",
       "      <td>free</td>\n",
       "      <td>8</td>\n",
       "      <td>50</td>\n",
       "      <td>0</td>\n",
       "    </tr>\n",
       "    <tr>\n",
       "      <th>1</th>\n",
       "      <td>ultra</td>\n",
       "      <td>6</td>\n",
       "      <td>0</td>\n",
       "      <td>199</td>\n",
       "    </tr>\n",
       "  </tbody>\n",
       "</table>\n",
       "</div>"
      ],
      "text/plain": [
       "  subscription_type  minute_price  start_ride_price  subscription_fee\n",
       "0              free             8                50                 0\n",
       "1             ultra             6                 0               199"
      ]
     },
     "metadata": {},
     "output_type": "display_data"
    },
    {
     "name": "stdout",
     "output_type": "stream",
     "text": [
      "\n"
     ]
    }
   ],
   "source": [
    "for i in [users, rides, subscriptions]:\n",
    "    print('    DATA PREVIEW     ')\n",
    "    print()\n",
    "    dataset_info(i)\n",
    "    print()"
   ]
  },
  {
   "cell_type": "markdown",
   "id": "c37d7ccd",
   "metadata": {},
   "source": [
    "*ВЫВОД:* Почти все столбцы заполнены. \n",
    "\n",
    "Надо будет поменять типы на DataTime, где присутствуют даты, и некоторуе числовые данные поменять на int. \n"
   ]
  },
  {
   "cell_type": "markdown",
   "id": "4f3bdb9f",
   "metadata": {},
   "source": [
    "#### Шаг 2. Предобработка данных"
   ]
  },
  {
   "cell_type": "code",
   "execution_count": 5,
   "id": "aca44bc0",
   "metadata": {},
   "outputs": [],
   "source": [
    "#функция для вывода состава столбцов\n",
    "\n",
    "def describe_cols(df_data):\n",
    "    df = df_data\n",
    "    values = pd.DataFrame()\n",
    "    \n",
    "    for col in df.columns:\n",
    "        values[col] = [df[col].unique(), df[col].dtypes, df[col].nunique()]\n",
    "        \n",
    "    return values.transpose().sort_values(by=1, ascending=True).rename(\n",
    "        {0: 'Значения', 1: 'тип данных', 2: 'Кол-во уникальных значений'}, axis=1)\n",
    "\n",
    "\n"
   ]
  },
  {
   "cell_type": "code",
   "execution_count": 6,
   "id": "8476e6de",
   "metadata": {},
   "outputs": [],
   "source": [
    "\n",
    "#функция для вывода пустых значений и их доли в столбцах датафрейма\n",
    "\n",
    "def nan_values(df_data):\n",
    "    df = df_data\n",
    "    count_missing = df.isna().sum()\n",
    "    percent_missing = round(df.isna().sum() * 100 / len(df), 2)\n",
    "    \n",
    "    missing_value_df = pd.DataFrame({'column_name': df.columns,\n",
    "                                     'num_missing': count_missing,\n",
    "                                     'percent_missing': percent_missing})\n",
    "    \n",
    "    return missing_value_df\n"
   ]
  },
  {
   "cell_type": "code",
   "execution_count": 7,
   "id": "5e1a8e38",
   "metadata": {},
   "outputs": [],
   "source": [
    "#функция для вывода информации о файле\n",
    "\n",
    "def df_info (df_data):\n",
    "    print('Количество строк файла:', len(df_data))\n",
    "    print()\n",
    "    print('Информация о содержимом файла:')\n",
    "    display(describe_cols(df_data))\n",
    "    print()\n",
    "    print('Информация о пропусках данных:')\n",
    "    display(nan_values(df_data))\n",
    "    print()\n",
    "    print('Первые пять строк таблицы:')\n",
    "    display(df_data.head())\n",
    "            "
   ]
  },
  {
   "cell_type": "markdown",
   "id": "6aed6805",
   "metadata": {},
   "source": [
    "Рассмотрим все 3 таблицы по очереди. Начнем с Rides"
   ]
  },
  {
   "cell_type": "markdown",
   "id": "f2040579",
   "metadata": {},
   "source": [
    "##### Rides"
   ]
  },
  {
   "cell_type": "code",
   "execution_count": 8,
   "id": "b21ef72c",
   "metadata": {
    "scrolled": false
   },
   "outputs": [
    {
     "name": "stdout",
     "output_type": "stream",
     "text": [
      "Количество строк файла: 18068\n",
      "\n",
      "Информация о содержимом файла:\n"
     ]
    },
    {
     "data": {
      "text/html": [
       "<div>\n",
       "<style scoped>\n",
       "    .dataframe tbody tr th:only-of-type {\n",
       "        vertical-align: middle;\n",
       "    }\n",
       "\n",
       "    .dataframe tbody tr th {\n",
       "        vertical-align: top;\n",
       "    }\n",
       "\n",
       "    .dataframe thead th {\n",
       "        text-align: right;\n",
       "    }\n",
       "</style>\n",
       "<table border=\"1\" class=\"dataframe\">\n",
       "  <thead>\n",
       "    <tr style=\"text-align: right;\">\n",
       "      <th></th>\n",
       "      <th>Значения</th>\n",
       "      <th>тип данных</th>\n",
       "      <th>Кол-во уникальных значений</th>\n",
       "    </tr>\n",
       "  </thead>\n",
       "  <tbody>\n",
       "    <tr>\n",
       "      <th>user_id</th>\n",
       "      <td>[1, 2, 3, 4, 5, 6, 7, 8, 9, 10, 11, 12, 13, 14...</td>\n",
       "      <td>int64</td>\n",
       "      <td>1534</td>\n",
       "    </tr>\n",
       "    <tr>\n",
       "      <th>distance</th>\n",
       "      <td>[4409.919140196136, 2617.5921534552563, 754.15...</td>\n",
       "      <td>float64</td>\n",
       "      <td>18068</td>\n",
       "    </tr>\n",
       "    <tr>\n",
       "      <th>duration</th>\n",
       "      <td>[25.59976897198896, 15.816871452122792, 6.2321...</td>\n",
       "      <td>float64</td>\n",
       "      <td>17974</td>\n",
       "    </tr>\n",
       "    <tr>\n",
       "      <th>date</th>\n",
       "      <td>[2021-01-01, 2021-01-18, 2021-04-20, 2021-08-1...</td>\n",
       "      <td>object</td>\n",
       "      <td>364</td>\n",
       "    </tr>\n",
       "  </tbody>\n",
       "</table>\n",
       "</div>"
      ],
      "text/plain": [
       "                                                   Значения тип данных  \\\n",
       "user_id   [1, 2, 3, 4, 5, 6, 7, 8, 9, 10, 11, 12, 13, 14...      int64   \n",
       "distance  [4409.919140196136, 2617.5921534552563, 754.15...    float64   \n",
       "duration  [25.59976897198896, 15.816871452122792, 6.2321...    float64   \n",
       "date      [2021-01-01, 2021-01-18, 2021-04-20, 2021-08-1...     object   \n",
       "\n",
       "         Кол-во уникальных значений  \n",
       "user_id                        1534  \n",
       "distance                      18068  \n",
       "duration                      17974  \n",
       "date                            364  "
      ]
     },
     "metadata": {},
     "output_type": "display_data"
    },
    {
     "name": "stdout",
     "output_type": "stream",
     "text": [
      "\n",
      "Информация о пропусках данных:\n"
     ]
    },
    {
     "data": {
      "text/html": [
       "<div>\n",
       "<style scoped>\n",
       "    .dataframe tbody tr th:only-of-type {\n",
       "        vertical-align: middle;\n",
       "    }\n",
       "\n",
       "    .dataframe tbody tr th {\n",
       "        vertical-align: top;\n",
       "    }\n",
       "\n",
       "    .dataframe thead th {\n",
       "        text-align: right;\n",
       "    }\n",
       "</style>\n",
       "<table border=\"1\" class=\"dataframe\">\n",
       "  <thead>\n",
       "    <tr style=\"text-align: right;\">\n",
       "      <th></th>\n",
       "      <th>column_name</th>\n",
       "      <th>num_missing</th>\n",
       "      <th>percent_missing</th>\n",
       "    </tr>\n",
       "  </thead>\n",
       "  <tbody>\n",
       "    <tr>\n",
       "      <th>user_id</th>\n",
       "      <td>user_id</td>\n",
       "      <td>0</td>\n",
       "      <td>0.00</td>\n",
       "    </tr>\n",
       "    <tr>\n",
       "      <th>distance</th>\n",
       "      <td>distance</td>\n",
       "      <td>0</td>\n",
       "      <td>0.00</td>\n",
       "    </tr>\n",
       "    <tr>\n",
       "      <th>duration</th>\n",
       "      <td>duration</td>\n",
       "      <td>0</td>\n",
       "      <td>0.00</td>\n",
       "    </tr>\n",
       "    <tr>\n",
       "      <th>date</th>\n",
       "      <td>date</td>\n",
       "      <td>0</td>\n",
       "      <td>0.00</td>\n",
       "    </tr>\n",
       "  </tbody>\n",
       "</table>\n",
       "</div>"
      ],
      "text/plain": [
       "         column_name  num_missing  percent_missing\n",
       "user_id      user_id            0             0.00\n",
       "distance    distance            0             0.00\n",
       "duration    duration            0             0.00\n",
       "date            date            0             0.00"
      ]
     },
     "metadata": {},
     "output_type": "display_data"
    },
    {
     "name": "stdout",
     "output_type": "stream",
     "text": [
      "\n",
      "Первые пять строк таблицы:\n"
     ]
    },
    {
     "data": {
      "text/html": [
       "<div>\n",
       "<style scoped>\n",
       "    .dataframe tbody tr th:only-of-type {\n",
       "        vertical-align: middle;\n",
       "    }\n",
       "\n",
       "    .dataframe tbody tr th {\n",
       "        vertical-align: top;\n",
       "    }\n",
       "\n",
       "    .dataframe thead th {\n",
       "        text-align: right;\n",
       "    }\n",
       "</style>\n",
       "<table border=\"1\" class=\"dataframe\">\n",
       "  <thead>\n",
       "    <tr style=\"text-align: right;\">\n",
       "      <th></th>\n",
       "      <th>user_id</th>\n",
       "      <th>distance</th>\n",
       "      <th>duration</th>\n",
       "      <th>date</th>\n",
       "    </tr>\n",
       "  </thead>\n",
       "  <tbody>\n",
       "    <tr>\n",
       "      <th>0</th>\n",
       "      <td>1</td>\n",
       "      <td>4409.92</td>\n",
       "      <td>25.60</td>\n",
       "      <td>2021-01-01</td>\n",
       "    </tr>\n",
       "    <tr>\n",
       "      <th>1</th>\n",
       "      <td>1</td>\n",
       "      <td>2617.59</td>\n",
       "      <td>15.82</td>\n",
       "      <td>2021-01-18</td>\n",
       "    </tr>\n",
       "    <tr>\n",
       "      <th>2</th>\n",
       "      <td>1</td>\n",
       "      <td>754.16</td>\n",
       "      <td>6.23</td>\n",
       "      <td>2021-04-20</td>\n",
       "    </tr>\n",
       "    <tr>\n",
       "      <th>3</th>\n",
       "      <td>1</td>\n",
       "      <td>2694.78</td>\n",
       "      <td>18.51</td>\n",
       "      <td>2021-08-11</td>\n",
       "    </tr>\n",
       "    <tr>\n",
       "      <th>4</th>\n",
       "      <td>1</td>\n",
       "      <td>4028.69</td>\n",
       "      <td>26.27</td>\n",
       "      <td>2021-08-28</td>\n",
       "    </tr>\n",
       "  </tbody>\n",
       "</table>\n",
       "</div>"
      ],
      "text/plain": [
       "   user_id  distance  duration        date\n",
       "0        1   4409.92     25.60  2021-01-01\n",
       "1        1   2617.59     15.82  2021-01-18\n",
       "2        1    754.16      6.23  2021-04-20\n",
       "3        1   2694.78     18.51  2021-08-11\n",
       "4        1   4028.69     26.27  2021-08-28"
      ]
     },
     "metadata": {},
     "output_type": "display_data"
    }
   ],
   "source": [
    "# Общая инфрмация:\n",
    "\n",
    "df_info(rides)"
   ]
  },
  {
   "cell_type": "code",
   "execution_count": 9,
   "id": "854f09b6",
   "metadata": {
    "scrolled": true
   },
   "outputs": [
    {
     "data": {
      "text/html": [
       "<div>\n",
       "<style scoped>\n",
       "    .dataframe tbody tr th:only-of-type {\n",
       "        vertical-align: middle;\n",
       "    }\n",
       "\n",
       "    .dataframe tbody tr th {\n",
       "        vertical-align: top;\n",
       "    }\n",
       "\n",
       "    .dataframe thead th {\n",
       "        text-align: right;\n",
       "    }\n",
       "</style>\n",
       "<table border=\"1\" class=\"dataframe\">\n",
       "  <thead>\n",
       "    <tr style=\"text-align: right;\">\n",
       "      <th></th>\n",
       "      <th>user_id</th>\n",
       "      <th>distance</th>\n",
       "      <th>duration</th>\n",
       "    </tr>\n",
       "  </thead>\n",
       "  <tbody>\n",
       "    <tr>\n",
       "      <th>count</th>\n",
       "      <td>18068.00</td>\n",
       "      <td>18068.00</td>\n",
       "      <td>18068.00</td>\n",
       "    </tr>\n",
       "    <tr>\n",
       "      <th>mean</th>\n",
       "      <td>842.87</td>\n",
       "      <td>3070.66</td>\n",
       "      <td>17.81</td>\n",
       "    </tr>\n",
       "    <tr>\n",
       "      <th>std</th>\n",
       "      <td>434.73</td>\n",
       "      <td>1116.83</td>\n",
       "      <td>6.09</td>\n",
       "    </tr>\n",
       "    <tr>\n",
       "      <th>min</th>\n",
       "      <td>1.00</td>\n",
       "      <td>0.86</td>\n",
       "      <td>0.50</td>\n",
       "    </tr>\n",
       "    <tr>\n",
       "      <th>25%</th>\n",
       "      <td>487.00</td>\n",
       "      <td>2543.23</td>\n",
       "      <td>13.60</td>\n",
       "    </tr>\n",
       "    <tr>\n",
       "      <th>50%</th>\n",
       "      <td>889.00</td>\n",
       "      <td>3133.61</td>\n",
       "      <td>17.68</td>\n",
       "    </tr>\n",
       "    <tr>\n",
       "      <th>75%</th>\n",
       "      <td>1213.25</td>\n",
       "      <td>3776.22</td>\n",
       "      <td>21.72</td>\n",
       "    </tr>\n",
       "    <tr>\n",
       "      <th>max</th>\n",
       "      <td>1534.00</td>\n",
       "      <td>7211.01</td>\n",
       "      <td>40.82</td>\n",
       "    </tr>\n",
       "  </tbody>\n",
       "</table>\n",
       "</div>"
      ],
      "text/plain": [
       "       user_id  distance  duration\n",
       "count 18068.00  18068.00  18068.00\n",
       "mean    842.87   3070.66     17.81\n",
       "std     434.73   1116.83      6.09\n",
       "min       1.00      0.86      0.50\n",
       "25%     487.00   2543.23     13.60\n",
       "50%     889.00   3133.61     17.68\n",
       "75%    1213.25   3776.22     21.72\n",
       "max    1534.00   7211.01     40.82"
      ]
     },
     "execution_count": 9,
     "metadata": {},
     "output_type": "execute_result"
    }
   ],
   "source": [
    "# проверим данные на логические ошибки:\n",
    "\n",
    "rides.describe()"
   ]
  },
  {
   "cell_type": "markdown",
   "id": "e027ab3c",
   "metadata": {},
   "source": [
    "Файл содержит 18068 строк, пропуски отсутствуют.\n",
    "\n",
    "Необходимые изменения:\n",
    "\n",
    "     необходимо заменить формат столбца date с object на datetime"
   ]
  },
  {
   "cell_type": "code",
   "execution_count": 10,
   "id": "f8ad9aa5",
   "metadata": {},
   "outputs": [
    {
     "data": {
      "text/plain": [
       "count                   18068\n",
       "unique                    364\n",
       "top       2021-12-22 00:00:00\n",
       "freq                       72\n",
       "first     2021-01-01 00:00:00\n",
       "last      2021-12-30 00:00:00\n",
       "Name: date, dtype: object"
      ]
     },
     "execution_count": 10,
     "metadata": {},
     "output_type": "execute_result"
    }
   ],
   "source": [
    "\n",
    "rides['date'] = pd.to_datetime(rides['date'], format='%Y-%m-%d')\n",
    "rides['date'].describe()\n",
    "\n"
   ]
  },
  {
   "cell_type": "code",
   "execution_count": 11,
   "id": "5962c2f8",
   "metadata": {},
   "outputs": [],
   "source": [
    "# Добавляем столбец месяца\n",
    "\n",
    "rides['month'] = pd.DatetimeIndex(rides['date']).month\n"
   ]
  },
  {
   "cell_type": "code",
   "execution_count": 12,
   "id": "55c372b1",
   "metadata": {
    "scrolled": false
   },
   "outputs": [
    {
     "data": {
      "text/plain": [
       "8459    2021-04-25\n",
       "1503    2021-01-05\n",
       "7978    2021-07-04\n",
       "13125   2021-11-05\n",
       "Name: date, dtype: datetime64[ns]"
      ]
     },
     "metadata": {},
     "output_type": "display_data"
    },
    {
     "data": {
      "text/html": [
       "<div>\n",
       "<style scoped>\n",
       "    .dataframe tbody tr th:only-of-type {\n",
       "        vertical-align: middle;\n",
       "    }\n",
       "\n",
       "    .dataframe tbody tr th {\n",
       "        vertical-align: top;\n",
       "    }\n",
       "\n",
       "    .dataframe thead th {\n",
       "        text-align: right;\n",
       "    }\n",
       "</style>\n",
       "<table border=\"1\" class=\"dataframe\">\n",
       "  <thead>\n",
       "    <tr style=\"text-align: right;\">\n",
       "      <th></th>\n",
       "      <th>user_id</th>\n",
       "      <th>distance</th>\n",
       "      <th>duration</th>\n",
       "      <th>date</th>\n",
       "      <th>month</th>\n",
       "    </tr>\n",
       "  </thead>\n",
       "  <tbody>\n",
       "    <tr>\n",
       "      <th>0</th>\n",
       "      <td>1</td>\n",
       "      <td>4409.92</td>\n",
       "      <td>25.60</td>\n",
       "      <td>2021-01-01</td>\n",
       "      <td>1</td>\n",
       "    </tr>\n",
       "    <tr>\n",
       "      <th>1</th>\n",
       "      <td>1</td>\n",
       "      <td>2617.59</td>\n",
       "      <td>15.82</td>\n",
       "      <td>2021-01-18</td>\n",
       "      <td>1</td>\n",
       "    </tr>\n",
       "    <tr>\n",
       "      <th>2</th>\n",
       "      <td>1</td>\n",
       "      <td>754.16</td>\n",
       "      <td>6.23</td>\n",
       "      <td>2021-04-20</td>\n",
       "      <td>4</td>\n",
       "    </tr>\n",
       "    <tr>\n",
       "      <th>3</th>\n",
       "      <td>1</td>\n",
       "      <td>2694.78</td>\n",
       "      <td>18.51</td>\n",
       "      <td>2021-08-11</td>\n",
       "      <td>8</td>\n",
       "    </tr>\n",
       "  </tbody>\n",
       "</table>\n",
       "</div>"
      ],
      "text/plain": [
       "   user_id  distance  duration       date  month\n",
       "0        1   4409.92     25.60 2021-01-01      1\n",
       "1        1   2617.59     15.82 2021-01-18      1\n",
       "2        1    754.16      6.23 2021-04-20      4\n",
       "3        1   2694.78     18.51 2021-08-11      8"
      ]
     },
     "metadata": {},
     "output_type": "display_data"
    },
    {
     "name": "stdout",
     "output_type": "stream",
     "text": [
      "count                   18068\n",
      "unique                    364\n",
      "top       2021-12-22 00:00:00\n",
      "freq                       72\n",
      "first     2021-01-01 00:00:00\n",
      "last      2021-12-30 00:00:00\n",
      "Name: date, dtype: object\n"
     ]
    }
   ],
   "source": [
    "# посмотрим, что получилось\n",
    "\n",
    "display(rides['date'].sample(4))\n",
    "display(rides.head(4))\n",
    "print(rides['date'].describe())"
   ]
  },
  {
   "cell_type": "markdown",
   "id": "671a04ce",
   "metadata": {},
   "source": [
    "Данные предоставлены за период с 01.01.2021 по 12.30.2021\n",
    "\n",
    "Формат даты поменяли, в столбце duration секунды округлим до минут позже. Все остальные данные в порядке.\n"
   ]
  },
  {
   "cell_type": "markdown",
   "id": "5ac34a67",
   "metadata": {},
   "source": [
    "##### Users"
   ]
  },
  {
   "cell_type": "code",
   "execution_count": 13,
   "id": "204f81f5",
   "metadata": {
    "scrolled": false
   },
   "outputs": [
    {
     "name": "stdout",
     "output_type": "stream",
     "text": [
      "Количество строк файла: 1565\n",
      "\n",
      "Информация о содержимом файла:\n"
     ]
    },
    {
     "data": {
      "text/html": [
       "<div>\n",
       "<style scoped>\n",
       "    .dataframe tbody tr th:only-of-type {\n",
       "        vertical-align: middle;\n",
       "    }\n",
       "\n",
       "    .dataframe tbody tr th {\n",
       "        vertical-align: top;\n",
       "    }\n",
       "\n",
       "    .dataframe thead th {\n",
       "        text-align: right;\n",
       "    }\n",
       "</style>\n",
       "<table border=\"1\" class=\"dataframe\">\n",
       "  <thead>\n",
       "    <tr style=\"text-align: right;\">\n",
       "      <th></th>\n",
       "      <th>Значения</th>\n",
       "      <th>тип данных</th>\n",
       "      <th>Кол-во уникальных значений</th>\n",
       "    </tr>\n",
       "  </thead>\n",
       "  <tbody>\n",
       "    <tr>\n",
       "      <th>user_id</th>\n",
       "      <td>[1, 2, 3, 4, 5, 6, 7, 8, 9, 10, 11, 12, 13, 14...</td>\n",
       "      <td>int64</td>\n",
       "      <td>1534</td>\n",
       "    </tr>\n",
       "    <tr>\n",
       "      <th>age</th>\n",
       "      <td>[22, 31, 20, 26, 28, 25, 23, 21, 18, 27, 24, 2...</td>\n",
       "      <td>int64</td>\n",
       "      <td>29</td>\n",
       "    </tr>\n",
       "    <tr>\n",
       "      <th>name</th>\n",
       "      <td>[Кира, Станислав, Алексей, Константин, Адель, ...</td>\n",
       "      <td>object</td>\n",
       "      <td>194</td>\n",
       "    </tr>\n",
       "    <tr>\n",
       "      <th>city</th>\n",
       "      <td>[Тюмень, Омск, Москва, Ростов-на-Дону, Краснод...</td>\n",
       "      <td>object</td>\n",
       "      <td>8</td>\n",
       "    </tr>\n",
       "    <tr>\n",
       "      <th>subscription_type</th>\n",
       "      <td>[ultra, free]</td>\n",
       "      <td>object</td>\n",
       "      <td>2</td>\n",
       "    </tr>\n",
       "  </tbody>\n",
       "</table>\n",
       "</div>"
      ],
      "text/plain": [
       "                                                            Значения  \\\n",
       "user_id            [1, 2, 3, 4, 5, 6, 7, 8, 9, 10, 11, 12, 13, 14...   \n",
       "age                [22, 31, 20, 26, 28, 25, 23, 21, 18, 27, 24, 2...   \n",
       "name               [Кира, Станислав, Алексей, Константин, Адель, ...   \n",
       "city               [Тюмень, Омск, Москва, Ростов-на-Дону, Краснод...   \n",
       "subscription_type                                      [ultra, free]   \n",
       "\n",
       "                  тип данных Кол-во уникальных значений  \n",
       "user_id                int64                       1534  \n",
       "age                    int64                         29  \n",
       "name                  object                        194  \n",
       "city                  object                          8  \n",
       "subscription_type     object                          2  "
      ]
     },
     "metadata": {},
     "output_type": "display_data"
    },
    {
     "name": "stdout",
     "output_type": "stream",
     "text": [
      "\n",
      "Информация о пропусках данных:\n"
     ]
    },
    {
     "data": {
      "text/html": [
       "<div>\n",
       "<style scoped>\n",
       "    .dataframe tbody tr th:only-of-type {\n",
       "        vertical-align: middle;\n",
       "    }\n",
       "\n",
       "    .dataframe tbody tr th {\n",
       "        vertical-align: top;\n",
       "    }\n",
       "\n",
       "    .dataframe thead th {\n",
       "        text-align: right;\n",
       "    }\n",
       "</style>\n",
       "<table border=\"1\" class=\"dataframe\">\n",
       "  <thead>\n",
       "    <tr style=\"text-align: right;\">\n",
       "      <th></th>\n",
       "      <th>column_name</th>\n",
       "      <th>num_missing</th>\n",
       "      <th>percent_missing</th>\n",
       "    </tr>\n",
       "  </thead>\n",
       "  <tbody>\n",
       "    <tr>\n",
       "      <th>user_id</th>\n",
       "      <td>user_id</td>\n",
       "      <td>0</td>\n",
       "      <td>0.00</td>\n",
       "    </tr>\n",
       "    <tr>\n",
       "      <th>name</th>\n",
       "      <td>name</td>\n",
       "      <td>0</td>\n",
       "      <td>0.00</td>\n",
       "    </tr>\n",
       "    <tr>\n",
       "      <th>age</th>\n",
       "      <td>age</td>\n",
       "      <td>0</td>\n",
       "      <td>0.00</td>\n",
       "    </tr>\n",
       "    <tr>\n",
       "      <th>city</th>\n",
       "      <td>city</td>\n",
       "      <td>0</td>\n",
       "      <td>0.00</td>\n",
       "    </tr>\n",
       "    <tr>\n",
       "      <th>subscription_type</th>\n",
       "      <td>subscription_type</td>\n",
       "      <td>0</td>\n",
       "      <td>0.00</td>\n",
       "    </tr>\n",
       "  </tbody>\n",
       "</table>\n",
       "</div>"
      ],
      "text/plain": [
       "                         column_name  num_missing  percent_missing\n",
       "user_id                      user_id            0             0.00\n",
       "name                            name            0             0.00\n",
       "age                              age            0             0.00\n",
       "city                            city            0             0.00\n",
       "subscription_type  subscription_type            0             0.00"
      ]
     },
     "metadata": {},
     "output_type": "display_data"
    },
    {
     "name": "stdout",
     "output_type": "stream",
     "text": [
      "\n",
      "Первые пять строк таблицы:\n"
     ]
    },
    {
     "data": {
      "text/html": [
       "<div>\n",
       "<style scoped>\n",
       "    .dataframe tbody tr th:only-of-type {\n",
       "        vertical-align: middle;\n",
       "    }\n",
       "\n",
       "    .dataframe tbody tr th {\n",
       "        vertical-align: top;\n",
       "    }\n",
       "\n",
       "    .dataframe thead th {\n",
       "        text-align: right;\n",
       "    }\n",
       "</style>\n",
       "<table border=\"1\" class=\"dataframe\">\n",
       "  <thead>\n",
       "    <tr style=\"text-align: right;\">\n",
       "      <th></th>\n",
       "      <th>user_id</th>\n",
       "      <th>name</th>\n",
       "      <th>age</th>\n",
       "      <th>city</th>\n",
       "      <th>subscription_type</th>\n",
       "    </tr>\n",
       "  </thead>\n",
       "  <tbody>\n",
       "    <tr>\n",
       "      <th>0</th>\n",
       "      <td>1</td>\n",
       "      <td>Кира</td>\n",
       "      <td>22</td>\n",
       "      <td>Тюмень</td>\n",
       "      <td>ultra</td>\n",
       "    </tr>\n",
       "    <tr>\n",
       "      <th>1</th>\n",
       "      <td>2</td>\n",
       "      <td>Станислав</td>\n",
       "      <td>31</td>\n",
       "      <td>Омск</td>\n",
       "      <td>ultra</td>\n",
       "    </tr>\n",
       "    <tr>\n",
       "      <th>2</th>\n",
       "      <td>3</td>\n",
       "      <td>Алексей</td>\n",
       "      <td>20</td>\n",
       "      <td>Москва</td>\n",
       "      <td>ultra</td>\n",
       "    </tr>\n",
       "    <tr>\n",
       "      <th>3</th>\n",
       "      <td>4</td>\n",
       "      <td>Константин</td>\n",
       "      <td>26</td>\n",
       "      <td>Ростов-на-Дону</td>\n",
       "      <td>ultra</td>\n",
       "    </tr>\n",
       "    <tr>\n",
       "      <th>4</th>\n",
       "      <td>5</td>\n",
       "      <td>Адель</td>\n",
       "      <td>28</td>\n",
       "      <td>Омск</td>\n",
       "      <td>ultra</td>\n",
       "    </tr>\n",
       "  </tbody>\n",
       "</table>\n",
       "</div>"
      ],
      "text/plain": [
       "   user_id        name  age            city subscription_type\n",
       "0        1        Кира   22          Тюмень             ultra\n",
       "1        2   Станислав   31            Омск             ultra\n",
       "2        3     Алексей   20          Москва             ultra\n",
       "3        4  Константин   26  Ростов-на-Дону             ultra\n",
       "4        5       Адель   28            Омск             ultra"
      ]
     },
     "metadata": {},
     "output_type": "display_data"
    }
   ],
   "source": [
    "# Общая инфрмация:\n",
    "\n",
    "df_info(users)"
   ]
  },
  {
   "cell_type": "markdown",
   "id": "d2f0a6c0",
   "metadata": {},
   "source": [
    "Рассмотрим каждый столбец по отдельности\n"
   ]
  },
  {
   "cell_type": "markdown",
   "id": "b36f965c",
   "metadata": {},
   "source": [
    "###### City"
   ]
  },
  {
   "cell_type": "code",
   "execution_count": 14,
   "id": "a16104ee",
   "metadata": {
    "scrolled": false
   },
   "outputs": [
    {
     "data": {
      "text/plain": [
       "0               Тюмень\n",
       "1                 Омск\n",
       "2               Москва\n",
       "3       Ростов-на-Дону\n",
       "4                 Омск\n",
       "             ...      \n",
       "1560         Пятигорск\n",
       "1561              Сочи\n",
       "1562         Краснодар\n",
       "1563            Тюмень\n",
       "1564    Ростов-на-Дону\n",
       "Name: city, Length: 1565, dtype: object"
      ]
     },
     "metadata": {},
     "output_type": "display_data"
    },
    {
     "data": {
      "text/plain": [
       "count          1565\n",
       "unique            8\n",
       "top       Пятигорск\n",
       "freq            226\n",
       "Name: city, dtype: object"
      ]
     },
     "execution_count": 14,
     "metadata": {},
     "output_type": "execute_result"
    }
   ],
   "source": [
    "display(users['city'])\n",
    "users['city'].describe()"
   ]
  },
  {
   "cell_type": "markdown",
   "id": "6f413bb8",
   "metadata": {},
   "source": [
    "1565 записей, как и должно быть.\n",
    "Проверим на уникальность и нет ли дубликатов - одних и тех же городов, но записанных по разному (например отличаются высотой букв)."
   ]
  },
  {
   "cell_type": "code",
   "execution_count": 15,
   "id": "f0b910a3",
   "metadata": {
    "scrolled": true
   },
   "outputs": [
    {
     "data": {
      "text/plain": [
       "['Екатеринбург',\n",
       " 'Краснодар',\n",
       " 'Москва',\n",
       " 'Омск',\n",
       " 'Пятигорск',\n",
       " 'Ростов-на-Дону',\n",
       " 'Сочи',\n",
       " 'Тюмень']"
      ]
     },
     "execution_count": 15,
     "metadata": {},
     "output_type": "execute_result"
    }
   ],
   "source": [
    "sorted(users['city'].unique())"
   ]
  },
  {
   "cell_type": "markdown",
   "id": "cc774d7a",
   "metadata": {},
   "source": [
    "ВЫВОД: дубликатов нет. Столбец корректен."
   ]
  },
  {
   "cell_type": "code",
   "execution_count": 16,
   "id": "649955ed",
   "metadata": {},
   "outputs": [
    {
     "data": {
      "text/plain": [
       "Пятигорск         226\n",
       "Екатеринбург      206\n",
       "Ростов-на-Дону    202\n",
       "Краснодар         196\n",
       "Сочи              192\n",
       "Омск              186\n",
       "Тюмень            185\n",
       "Москва            172\n",
       "Name: city, dtype: int64"
      ]
     },
     "execution_count": 16,
     "metadata": {},
     "output_type": "execute_result"
    }
   ],
   "source": [
    "users['city'].value_counts()"
   ]
  },
  {
   "cell_type": "markdown",
   "id": "c276864d",
   "metadata": {},
   "source": [
    "###### Age"
   ]
  },
  {
   "cell_type": "code",
   "execution_count": 17,
   "id": "5fa84cb8",
   "metadata": {
    "scrolled": false
   },
   "outputs": [
    {
     "data": {
      "text/plain": [
       "count   1565.00\n",
       "mean      24.92\n",
       "std        4.55\n",
       "min       12.00\n",
       "25%       22.00\n",
       "50%       25.00\n",
       "75%       28.00\n",
       "max       43.00\n",
       "Name: age, dtype: float64"
      ]
     },
     "execution_count": 17,
     "metadata": {},
     "output_type": "execute_result"
    }
   ],
   "source": [
    "# Общая инфрмация:\n",
    "\n",
    "users['age'].describe()"
   ]
  },
  {
   "cell_type": "markdown",
   "id": "bbfb0d9d",
   "metadata": {},
   "source": [
    "Вывод: Столбец вполне корректен\n"
   ]
  },
  {
   "cell_type": "markdown",
   "id": "9580499c",
   "metadata": {},
   "source": [
    "###### User_id"
   ]
  },
  {
   "cell_type": "markdown",
   "id": "77bce42b",
   "metadata": {},
   "source": [
    "В этом столбце важно проверить, чтобы не было дубликатов, так как user_id - уникальный ключ, также посмотрим разброс значений (все ли четырехзначные - однотипные)\n",
    "\n",
    "Напишем функцию id_check для проверки столбца с id абонента, так как такой столбец встретится еще не раз."
   ]
  },
  {
   "cell_type": "code",
   "execution_count": 18,
   "id": "34075326",
   "metadata": {
    "scrolled": false
   },
   "outputs": [
    {
     "name": "stdout",
     "output_type": "stream",
     "text": [
      "209     2\n",
      "807     2\n",
      "611     2\n",
      "43      2\n",
      "737     2\n",
      "       ..\n",
      "520     1\n",
      "519     1\n",
      "518     1\n",
      "517     1\n",
      "1534    1\n",
      "Name: user_id, Length: 1534, dtype: int64\n",
      "\n",
      "count   1565.00\n",
      "mean     762.63\n",
      "std      443.26\n",
      "min        1.00\n",
      "25%      378.00\n",
      "50%      762.00\n",
      "75%     1146.00\n",
      "max     1534.00\n",
      "Name: user_id, dtype: float64\n",
      "\n",
      "Уникальных значений = 1534\n"
     ]
    }
   ],
   "source": [
    "def id (id_check): \n",
    "    print(id_check.value_counts())\n",
    "    print()\n",
    "    print(id_check.describe())\n",
    "    print()\n",
    "    print('Уникальных значений =',len(id_check.unique()))\n",
    "    \n",
    "id(users['user_id'])"
   ]
  },
  {
   "cell_type": "code",
   "execution_count": 19,
   "id": "ae60a506",
   "metadata": {
    "scrolled": true
   },
   "outputs": [],
   "source": [
    "users=users.drop_duplicates().reset_index(drop=True)"
   ]
  },
  {
   "cell_type": "code",
   "execution_count": 20,
   "id": "f470fb62",
   "metadata": {},
   "outputs": [
    {
     "data": {
      "text/plain": [
       "0"
      ]
     },
     "execution_count": 20,
     "metadata": {},
     "output_type": "execute_result"
    }
   ],
   "source": [
    "users.duplicated().sum()\n"
   ]
  },
  {
   "cell_type": "code",
   "execution_count": 21,
   "id": "7b0cc1e8",
   "metadata": {},
   "outputs": [
    {
     "name": "stdout",
     "output_type": "stream",
     "text": [
      "<class 'pandas.core.frame.DataFrame'>\n",
      "RangeIndex: 1534 entries, 0 to 1533\n",
      "Data columns (total 5 columns):\n",
      " #   Column             Non-Null Count  Dtype \n",
      "---  ------             --------------  ----- \n",
      " 0   user_id            1534 non-null   int64 \n",
      " 1   name               1534 non-null   object\n",
      " 2   age                1534 non-null   int64 \n",
      " 3   city               1534 non-null   object\n",
      " 4   subscription_type  1534 non-null   object\n",
      "dtypes: int64(2), object(3)\n",
      "memory usage: 60.0+ KB\n"
     ]
    }
   ],
   "source": [
    "users.info()"
   ]
  },
  {
   "cell_type": "markdown",
   "id": "30a43eb2",
   "metadata": {},
   "source": [
    "Дупликатов тоже нет. Идем дальше\n"
   ]
  },
  {
   "cell_type": "markdown",
   "id": "3e322f34",
   "metadata": {},
   "source": [
    "###### Subscription_type"
   ]
  },
  {
   "cell_type": "code",
   "execution_count": 22,
   "id": "a6804335",
   "metadata": {
    "scrolled": true
   },
   "outputs": [
    {
     "data": {
      "text/plain": [
       "free     835\n",
       "ultra    699\n",
       "Name: subscription_type, dtype: int64"
      ]
     },
     "execution_count": 22,
     "metadata": {},
     "output_type": "execute_result"
    }
   ],
   "source": [
    "#*Здесь проверим значение. Должно быть 2 тарифа.*\n",
    "\n",
    "users['subscription_type'].value_counts()\n"
   ]
  },
  {
   "cell_type": "markdown",
   "id": "57c26f58",
   "metadata": {},
   "source": [
    "ВЫВОД: Итого 1534 записей. Столбец корректен.\n"
   ]
  },
  {
   "cell_type": "markdown",
   "id": "5ec3be57",
   "metadata": {},
   "source": [
    "##### Subscriptions"
   ]
  },
  {
   "cell_type": "code",
   "execution_count": 23,
   "id": "2ab46f84",
   "metadata": {
    "scrolled": false
   },
   "outputs": [
    {
     "name": "stdout",
     "output_type": "stream",
     "text": [
      "Количество строк файла: 2\n",
      "\n",
      "Информация о содержимом файла:\n"
     ]
    },
    {
     "data": {
      "text/html": [
       "<div>\n",
       "<style scoped>\n",
       "    .dataframe tbody tr th:only-of-type {\n",
       "        vertical-align: middle;\n",
       "    }\n",
       "\n",
       "    .dataframe tbody tr th {\n",
       "        vertical-align: top;\n",
       "    }\n",
       "\n",
       "    .dataframe thead th {\n",
       "        text-align: right;\n",
       "    }\n",
       "</style>\n",
       "<table border=\"1\" class=\"dataframe\">\n",
       "  <thead>\n",
       "    <tr style=\"text-align: right;\">\n",
       "      <th></th>\n",
       "      <th>Значения</th>\n",
       "      <th>тип данных</th>\n",
       "      <th>Кол-во уникальных значений</th>\n",
       "    </tr>\n",
       "  </thead>\n",
       "  <tbody>\n",
       "    <tr>\n",
       "      <th>minute_price</th>\n",
       "      <td>[8, 6]</td>\n",
       "      <td>int64</td>\n",
       "      <td>2</td>\n",
       "    </tr>\n",
       "    <tr>\n",
       "      <th>start_ride_price</th>\n",
       "      <td>[50, 0]</td>\n",
       "      <td>int64</td>\n",
       "      <td>2</td>\n",
       "    </tr>\n",
       "    <tr>\n",
       "      <th>subscription_fee</th>\n",
       "      <td>[0, 199]</td>\n",
       "      <td>int64</td>\n",
       "      <td>2</td>\n",
       "    </tr>\n",
       "    <tr>\n",
       "      <th>subscription_type</th>\n",
       "      <td>[free, ultra]</td>\n",
       "      <td>object</td>\n",
       "      <td>2</td>\n",
       "    </tr>\n",
       "  </tbody>\n",
       "</table>\n",
       "</div>"
      ],
      "text/plain": [
       "                        Значения тип данных Кол-во уникальных значений\n",
       "minute_price              [8, 6]      int64                          2\n",
       "start_ride_price         [50, 0]      int64                          2\n",
       "subscription_fee        [0, 199]      int64                          2\n",
       "subscription_type  [free, ultra]     object                          2"
      ]
     },
     "metadata": {},
     "output_type": "display_data"
    },
    {
     "name": "stdout",
     "output_type": "stream",
     "text": [
      "\n",
      "Информация о пропусках данных:\n"
     ]
    },
    {
     "data": {
      "text/html": [
       "<div>\n",
       "<style scoped>\n",
       "    .dataframe tbody tr th:only-of-type {\n",
       "        vertical-align: middle;\n",
       "    }\n",
       "\n",
       "    .dataframe tbody tr th {\n",
       "        vertical-align: top;\n",
       "    }\n",
       "\n",
       "    .dataframe thead th {\n",
       "        text-align: right;\n",
       "    }\n",
       "</style>\n",
       "<table border=\"1\" class=\"dataframe\">\n",
       "  <thead>\n",
       "    <tr style=\"text-align: right;\">\n",
       "      <th></th>\n",
       "      <th>column_name</th>\n",
       "      <th>num_missing</th>\n",
       "      <th>percent_missing</th>\n",
       "    </tr>\n",
       "  </thead>\n",
       "  <tbody>\n",
       "    <tr>\n",
       "      <th>subscription_type</th>\n",
       "      <td>subscription_type</td>\n",
       "      <td>0</td>\n",
       "      <td>0.00</td>\n",
       "    </tr>\n",
       "    <tr>\n",
       "      <th>minute_price</th>\n",
       "      <td>minute_price</td>\n",
       "      <td>0</td>\n",
       "      <td>0.00</td>\n",
       "    </tr>\n",
       "    <tr>\n",
       "      <th>start_ride_price</th>\n",
       "      <td>start_ride_price</td>\n",
       "      <td>0</td>\n",
       "      <td>0.00</td>\n",
       "    </tr>\n",
       "    <tr>\n",
       "      <th>subscription_fee</th>\n",
       "      <td>subscription_fee</td>\n",
       "      <td>0</td>\n",
       "      <td>0.00</td>\n",
       "    </tr>\n",
       "  </tbody>\n",
       "</table>\n",
       "</div>"
      ],
      "text/plain": [
       "                         column_name  num_missing  percent_missing\n",
       "subscription_type  subscription_type            0             0.00\n",
       "minute_price            minute_price            0             0.00\n",
       "start_ride_price    start_ride_price            0             0.00\n",
       "subscription_fee    subscription_fee            0             0.00"
      ]
     },
     "metadata": {},
     "output_type": "display_data"
    },
    {
     "name": "stdout",
     "output_type": "stream",
     "text": [
      "\n",
      "Первые пять строк таблицы:\n"
     ]
    },
    {
     "data": {
      "text/html": [
       "<div>\n",
       "<style scoped>\n",
       "    .dataframe tbody tr th:only-of-type {\n",
       "        vertical-align: middle;\n",
       "    }\n",
       "\n",
       "    .dataframe tbody tr th {\n",
       "        vertical-align: top;\n",
       "    }\n",
       "\n",
       "    .dataframe thead th {\n",
       "        text-align: right;\n",
       "    }\n",
       "</style>\n",
       "<table border=\"1\" class=\"dataframe\">\n",
       "  <thead>\n",
       "    <tr style=\"text-align: right;\">\n",
       "      <th></th>\n",
       "      <th>subscription_type</th>\n",
       "      <th>minute_price</th>\n",
       "      <th>start_ride_price</th>\n",
       "      <th>subscription_fee</th>\n",
       "    </tr>\n",
       "  </thead>\n",
       "  <tbody>\n",
       "    <tr>\n",
       "      <th>0</th>\n",
       "      <td>free</td>\n",
       "      <td>8</td>\n",
       "      <td>50</td>\n",
       "      <td>0</td>\n",
       "    </tr>\n",
       "    <tr>\n",
       "      <th>1</th>\n",
       "      <td>ultra</td>\n",
       "      <td>6</td>\n",
       "      <td>0</td>\n",
       "      <td>199</td>\n",
       "    </tr>\n",
       "  </tbody>\n",
       "</table>\n",
       "</div>"
      ],
      "text/plain": [
       "  subscription_type  minute_price  start_ride_price  subscription_fee\n",
       "0              free             8                50                 0\n",
       "1             ultra             6                 0               199"
      ]
     },
     "metadata": {},
     "output_type": "display_data"
    }
   ],
   "source": [
    "# Общая инфрмация:\n",
    "\n",
    "df_info(subscriptions)"
   ]
  },
  {
   "cell_type": "markdown",
   "id": "11e51f7a",
   "metadata": {},
   "source": [
    "ВЫВОД: Хорошая таблица - маленькая и корректная!\n",
    "\n"
   ]
  },
  {
   "cell_type": "markdown",
   "id": "cfe47a47",
   "metadata": {},
   "source": [
    "Еще раз проверяем все на наличие дубликатов:\n"
   ]
  },
  {
   "cell_type": "code",
   "execution_count": 24,
   "id": "bf6cce59",
   "metadata": {},
   "outputs": [
    {
     "name": "stdout",
     "output_type": "stream",
     "text": [
      "Количество дубликатов: 0 штук\n",
      "Количество дубликатов: 0 штук\n",
      "Количество дубликатов: 0 штук\n"
     ]
    }
   ],
   "source": [
    "# Cписок файлов для проверки:\n",
    "files = [users, rides, subscriptions]\n",
    "\n",
    "# цикл для проверки наличия дубликатов по списку files:\n",
    "for name in files:\n",
    "    print(f'Количество дубликатов: {name.duplicated().sum()} штук')\n",
    "        "
   ]
  },
  {
   "cell_type": "markdown",
   "id": "5d405e65",
   "metadata": {},
   "source": [
    "##### Вывод по предобработке"
   ]
  },
  {
   "cell_type": "markdown",
   "id": "8cddf37b",
   "metadata": {},
   "source": [
    "По большей части данные изначально в хорошем состоянии. Изменены типы в столбцах с датами на datetime64, и проверена корректность данных. Дубликатов нет. Таблицы корректны.\n",
    "\n",
    "\n",
    "Данные готовы для анализа."
   ]
  },
  {
   "cell_type": "markdown",
   "id": "212593c7",
   "metadata": {},
   "source": [
    "#### Шаг 3. Исследовательский анализ данных"
   ]
  },
  {
   "cell_type": "markdown",
   "id": "6fd1e04a",
   "metadata": {},
   "source": [
    "Для более глубокого анализа данных рассчитаем следующие параметры:\n",
    "\n",
    "-  частота встречаемости городов;\n",
    "\n",
    "- соотношение пользователей с подпиской и без подписки;\n",
    "\n",
    "- возраст пользователей;\n",
    "\n",
    "- расстояние, которое пользователь преодолел за одну поездку;\n",
    "\n",
    "- продолжительность поездок."
   ]
  },
  {
   "cell_type": "markdown",
   "id": "e993e0c0",
   "metadata": {},
   "source": [
    "##### частота встречаемости городов"
   ]
  },
  {
   "cell_type": "markdown",
   "id": "0083d505",
   "metadata": {},
   "source": [
    "Рассмотрим распределение пользователей по городу проживания"
   ]
  },
  {
   "cell_type": "code",
   "execution_count": 25,
   "id": "c579498c",
   "metadata": {
    "scrolled": false
   },
   "outputs": [
    {
     "data": {
      "text/plain": [
       "Пятигорск         219\n",
       "Екатеринбург      204\n",
       "Ростов-на-Дону    198\n",
       "Краснодар         193\n",
       "Сочи              189\n",
       "Омск              183\n",
       "Тюмень            180\n",
       "Москва            168\n",
       "Name: city, dtype: int64"
      ]
     },
     "execution_count": 25,
     "metadata": {},
     "output_type": "execute_result"
    }
   ],
   "source": [
    "\n",
    "users['city'].value_counts()\n",
    "    "
   ]
  },
  {
   "cell_type": "code",
   "execution_count": 26,
   "id": "1ec03d68",
   "metadata": {
    "scrolled": false
   },
   "outputs": [
    {
     "data": {
      "image/png": "[encoded data removed]",
      "text/plain": [
       "<Figure size 576x360 with 1 Axes>"
      ]
     },
     "metadata": {
      "needs_background": "light"
     },
     "output_type": "display_data"
    }
   ],
   "source": [
    "plt.figure(figsize=(8,5))\n",
    "sns.barplot(y=users['city'].value_counts(normalize=True).index, x=users['city'].value_counts(normalize=True))\n",
    "plt.title('Pаспределение пользователей по городaм')\n",
    "plt.xlabel('процент_пользователей')\n",
    "plt.show()"
   ]
  },
  {
   "cell_type": "markdown",
   "id": "38acffe9",
   "metadata": {},
   "source": [
    "Сервис представлeн в 8 городах. Чаще всего им пользуются в Пятигорске и Екатеринбургe- 219 и 204 раз, а меньше всего в Москве, всего 168 раз.\n",
    "\n"
   ]
  },
  {
   "cell_type": "markdown",
   "id": "3ce2f49d",
   "metadata": {},
   "source": [
    "##### Cоотношение пользователей с подпиской и без подписки"
   ]
  },
  {
   "cell_type": "code",
   "execution_count": 27,
   "id": "05ab147a",
   "metadata": {},
   "outputs": [
    {
     "data": {
      "text/plain": [
       "699"
      ]
     },
     "execution_count": 27,
     "metadata": {},
     "output_type": "execute_result"
    }
   ],
   "source": [
    "users['ultra_users']=users.loc[users.loc[:, 'subscription_type'] == 'ultra']['subscription_type']\n",
    "users['ultra_users'].count()\n",
    "\n"
   ]
  },
  {
   "cell_type": "code",
   "execution_count": 28,
   "id": "d835409d",
   "metadata": {},
   "outputs": [
    {
     "data": {
      "text/plain": [
       "835"
      ]
     },
     "execution_count": 28,
     "metadata": {},
     "output_type": "execute_result"
    }
   ],
   "source": [
    "users['free_users']=users.loc[users.loc[:, 'subscription_type'] == 'free']['subscription_type']\n",
    "users['free_users'].count()"
   ]
  },
  {
   "cell_type": "markdown",
   "id": "dc991bfb",
   "metadata": {},
   "source": [
    " Визуализируем для наглядности:\n"
   ]
  },
  {
   "cell_type": "code",
   "execution_count": 29,
   "id": "4aa4509c",
   "metadata": {
    "scrolled": true
   },
   "outputs": [
    {
     "data": {
      "text/plain": [
       "<AxesSubplot:ylabel='subscription_type'>"
      ]
     },
     "execution_count": 29,
     "metadata": {},
     "output_type": "execute_result"
    },
    {
     "data": {
      "image/png": "[encoded data removed]",
      "text/plain": [
       "<Figure size 432x288 with 1 Axes>"
      ]
     },
     "metadata": {},
     "output_type": "display_data"
    }
   ],
   "source": [
    "\n",
    "users['subscription_type'].value_counts().plot(kind='pie', autopct='%.1f%%')"
   ]
  },
  {
   "cell_type": "markdown",
   "id": "84c190bf",
   "metadata": {},
   "source": [
    "Подпиской Ultra пользуются 699 пользователей, а без подписки 835 человек использовали сервис за наблюдаемый период."
   ]
  },
  {
   "cell_type": "markdown",
   "id": "c8ddca2d",
   "metadata": {},
   "source": [
    "#####  Возраст пользователей"
   ]
  },
  {
   "cell_type": "code",
   "execution_count": 30,
   "id": "1a005c38",
   "metadata": {},
   "outputs": [
    {
     "data": {
      "text/plain": [
       "array([22, 31, 20, 26, 28, 25, 23, 21, 18, 27, 24, 29, 32, 14, 19, 30, 17,\n",
       "       12, 35, 33, 13, 15, 37, 16, 34, 38, 36, 39, 43])"
      ]
     },
     "execution_count": 30,
     "metadata": {},
     "output_type": "execute_result"
    }
   ],
   "source": [
    "users['age'].unique()"
   ]
  },
  {
   "cell_type": "code",
   "execution_count": 31,
   "id": "4b178fee",
   "metadata": {
    "scrolled": false
   },
   "outputs": [
    {
     "data": {
      "text/plain": [
       "count   1534.00\n",
       "mean      24.90\n",
       "std        4.57\n",
       "min       12.00\n",
       "25%       22.00\n",
       "50%       25.00\n",
       "75%       28.00\n",
       "max       43.00\n",
       "Name: age, dtype: float64"
      ]
     },
     "execution_count": 31,
     "metadata": {},
     "output_type": "execute_result"
    }
   ],
   "source": [
    "users['age'].describe()"
   ]
  },
  {
   "cell_type": "code",
   "execution_count": 32,
   "id": "e5ebb057",
   "metadata": {
    "scrolled": true
   },
   "outputs": [
    {
     "data": {
      "image/png": "[encoded data removed]",
      "text/plain": [
       "<Figure size 720x360 with 1 Axes>"
      ]
     },
     "metadata": {
      "needs_background": "light"
     },
     "output_type": "display_data"
    }
   ],
   "source": [
    "users['age'].value_counts().sort_index().plot(kind='bar', figsize = (10,5))\n",
    "plt.title('Возраст пользователей')\n",
    "plt.xlabel('Возраст')\n",
    "plt.ylabel('Количество пользователей')\n",
    "plt.show()"
   ]
  },
  {
   "cell_type": "markdown",
   "id": "0e3144c2",
   "metadata": {},
   "source": [
    "<div class=\"alert alert-success\">\n",
    "\n",
    "**Артём:** 👍 Хорошая визуализация, добавь еще подпись осей.\n",
    "\n",
    "</div>"
   ]
  },
  {
   "cell_type": "markdown",
   "id": "1af4b60e",
   "metadata": {},
   "source": [
    "<div style=\"background-color:lavender; color:#black; text-align:center; padding:2%\">\n",
    "    \n",
    "**Динара:**  Сделано"
   ]
  },
  {
   "cell_type": "code",
   "execution_count": 33,
   "id": "2898bc9f",
   "metadata": {
    "scrolled": true
   },
   "outputs": [
    {
     "data": {
      "image/png": "[encoded data removed]",
      "text/plain": [
       "<Figure size 432x288 with 1 Axes>"
      ]
     },
     "metadata": {
      "needs_background": "light"
     },
     "output_type": "display_data"
    }
   ],
   "source": [
    "sns.histplot(users, x='age', hue='subscription_type', bins=14, binrange=(15,85))\n",
    "plt.title('Распределение пользователей по возрасту и подписке')\n",
    "plt.xlabel('Возраст')\n",
    "plt.ylabel('Пользователи')\n",
    "plt.grid()"
   ]
  },
  {
   "cell_type": "code",
   "execution_count": 34,
   "id": "74c072f2",
   "metadata": {
    "scrolled": true
   },
   "outputs": [
    {
     "data": {
      "text/html": [
       "<div>\n",
       "<style scoped>\n",
       "    .dataframe tbody tr th:only-of-type {\n",
       "        vertical-align: middle;\n",
       "    }\n",
       "\n",
       "    .dataframe tbody tr th {\n",
       "        vertical-align: top;\n",
       "    }\n",
       "\n",
       "    .dataframe thead th {\n",
       "        text-align: right;\n",
       "    }\n",
       "</style>\n",
       "<table border=\"1\" class=\"dataframe\">\n",
       "  <thead>\n",
       "    <tr style=\"text-align: right;\">\n",
       "      <th></th>\n",
       "      <th>user_id</th>\n",
       "      <th>name</th>\n",
       "      <th>city</th>\n",
       "      <th>subscription_type</th>\n",
       "      <th>ultra_users</th>\n",
       "      <th>free_users</th>\n",
       "    </tr>\n",
       "    <tr>\n",
       "      <th>age</th>\n",
       "      <th></th>\n",
       "      <th></th>\n",
       "      <th></th>\n",
       "      <th></th>\n",
       "      <th></th>\n",
       "      <th></th>\n",
       "    </tr>\n",
       "  </thead>\n",
       "  <tbody>\n",
       "    <tr>\n",
       "      <th>12</th>\n",
       "      <td>4</td>\n",
       "      <td>4</td>\n",
       "      <td>4</td>\n",
       "      <td>4</td>\n",
       "      <td>3</td>\n",
       "      <td>1</td>\n",
       "    </tr>\n",
       "    <tr>\n",
       "      <th>13</th>\n",
       "      <td>8</td>\n",
       "      <td>8</td>\n",
       "      <td>8</td>\n",
       "      <td>8</td>\n",
       "      <td>4</td>\n",
       "      <td>4</td>\n",
       "    </tr>\n",
       "    <tr>\n",
       "      <th>14</th>\n",
       "      <td>9</td>\n",
       "      <td>9</td>\n",
       "      <td>9</td>\n",
       "      <td>9</td>\n",
       "      <td>4</td>\n",
       "      <td>5</td>\n",
       "    </tr>\n",
       "    <tr>\n",
       "      <th>15</th>\n",
       "      <td>13</td>\n",
       "      <td>13</td>\n",
       "      <td>13</td>\n",
       "      <td>13</td>\n",
       "      <td>9</td>\n",
       "      <td>4</td>\n",
       "    </tr>\n",
       "    <tr>\n",
       "      <th>16</th>\n",
       "      <td>19</td>\n",
       "      <td>19</td>\n",
       "      <td>19</td>\n",
       "      <td>19</td>\n",
       "      <td>8</td>\n",
       "      <td>11</td>\n",
       "    </tr>\n",
       "    <tr>\n",
       "      <th>17</th>\n",
       "      <td>26</td>\n",
       "      <td>26</td>\n",
       "      <td>26</td>\n",
       "      <td>26</td>\n",
       "      <td>13</td>\n",
       "      <td>13</td>\n",
       "    </tr>\n",
       "    <tr>\n",
       "      <th>18</th>\n",
       "      <td>46</td>\n",
       "      <td>46</td>\n",
       "      <td>46</td>\n",
       "      <td>46</td>\n",
       "      <td>19</td>\n",
       "      <td>27</td>\n",
       "    </tr>\n",
       "    <tr>\n",
       "      <th>19</th>\n",
       "      <td>47</td>\n",
       "      <td>47</td>\n",
       "      <td>47</td>\n",
       "      <td>47</td>\n",
       "      <td>29</td>\n",
       "      <td>18</td>\n",
       "    </tr>\n",
       "    <tr>\n",
       "      <th>20</th>\n",
       "      <td>71</td>\n",
       "      <td>71</td>\n",
       "      <td>71</td>\n",
       "      <td>71</td>\n",
       "      <td>34</td>\n",
       "      <td>37</td>\n",
       "    </tr>\n",
       "    <tr>\n",
       "      <th>21</th>\n",
       "      <td>93</td>\n",
       "      <td>93</td>\n",
       "      <td>93</td>\n",
       "      <td>93</td>\n",
       "      <td>34</td>\n",
       "      <td>59</td>\n",
       "    </tr>\n",
       "    <tr>\n",
       "      <th>22</th>\n",
       "      <td>119</td>\n",
       "      <td>119</td>\n",
       "      <td>119</td>\n",
       "      <td>119</td>\n",
       "      <td>47</td>\n",
       "      <td>72</td>\n",
       "    </tr>\n",
       "    <tr>\n",
       "      <th>23</th>\n",
       "      <td>129</td>\n",
       "      <td>129</td>\n",
       "      <td>129</td>\n",
       "      <td>129</td>\n",
       "      <td>62</td>\n",
       "      <td>67</td>\n",
       "    </tr>\n",
       "    <tr>\n",
       "      <th>24</th>\n",
       "      <td>132</td>\n",
       "      <td>132</td>\n",
       "      <td>132</td>\n",
       "      <td>132</td>\n",
       "      <td>64</td>\n",
       "      <td>68</td>\n",
       "    </tr>\n",
       "    <tr>\n",
       "      <th>25</th>\n",
       "      <td>145</td>\n",
       "      <td>145</td>\n",
       "      <td>145</td>\n",
       "      <td>145</td>\n",
       "      <td>60</td>\n",
       "      <td>85</td>\n",
       "    </tr>\n",
       "    <tr>\n",
       "      <th>26</th>\n",
       "      <td>131</td>\n",
       "      <td>131</td>\n",
       "      <td>131</td>\n",
       "      <td>131</td>\n",
       "      <td>53</td>\n",
       "      <td>78</td>\n",
       "    </tr>\n",
       "    <tr>\n",
       "      <th>27</th>\n",
       "      <td>119</td>\n",
       "      <td>119</td>\n",
       "      <td>119</td>\n",
       "      <td>119</td>\n",
       "      <td>54</td>\n",
       "      <td>65</td>\n",
       "    </tr>\n",
       "    <tr>\n",
       "      <th>28</th>\n",
       "      <td>112</td>\n",
       "      <td>112</td>\n",
       "      <td>112</td>\n",
       "      <td>112</td>\n",
       "      <td>42</td>\n",
       "      <td>70</td>\n",
       "    </tr>\n",
       "    <tr>\n",
       "      <th>29</th>\n",
       "      <td>68</td>\n",
       "      <td>68</td>\n",
       "      <td>68</td>\n",
       "      <td>68</td>\n",
       "      <td>35</td>\n",
       "      <td>33</td>\n",
       "    </tr>\n",
       "    <tr>\n",
       "      <th>30</th>\n",
       "      <td>68</td>\n",
       "      <td>68</td>\n",
       "      <td>68</td>\n",
       "      <td>68</td>\n",
       "      <td>29</td>\n",
       "      <td>39</td>\n",
       "    </tr>\n",
       "    <tr>\n",
       "      <th>31</th>\n",
       "      <td>48</td>\n",
       "      <td>48</td>\n",
       "      <td>48</td>\n",
       "      <td>48</td>\n",
       "      <td>30</td>\n",
       "      <td>18</td>\n",
       "    </tr>\n",
       "    <tr>\n",
       "      <th>32</th>\n",
       "      <td>41</td>\n",
       "      <td>41</td>\n",
       "      <td>41</td>\n",
       "      <td>41</td>\n",
       "      <td>25</td>\n",
       "      <td>16</td>\n",
       "    </tr>\n",
       "    <tr>\n",
       "      <th>33</th>\n",
       "      <td>39</td>\n",
       "      <td>39</td>\n",
       "      <td>39</td>\n",
       "      <td>39</td>\n",
       "      <td>22</td>\n",
       "      <td>17</td>\n",
       "    </tr>\n",
       "    <tr>\n",
       "      <th>34</th>\n",
       "      <td>19</td>\n",
       "      <td>19</td>\n",
       "      <td>19</td>\n",
       "      <td>19</td>\n",
       "      <td>6</td>\n",
       "      <td>13</td>\n",
       "    </tr>\n",
       "    <tr>\n",
       "      <th>35</th>\n",
       "      <td>15</td>\n",
       "      <td>15</td>\n",
       "      <td>15</td>\n",
       "      <td>15</td>\n",
       "      <td>9</td>\n",
       "      <td>6</td>\n",
       "    </tr>\n",
       "    <tr>\n",
       "      <th>36</th>\n",
       "      <td>6</td>\n",
       "      <td>6</td>\n",
       "      <td>6</td>\n",
       "      <td>6</td>\n",
       "      <td>1</td>\n",
       "      <td>5</td>\n",
       "    </tr>\n",
       "    <tr>\n",
       "      <th>37</th>\n",
       "      <td>2</td>\n",
       "      <td>2</td>\n",
       "      <td>2</td>\n",
       "      <td>2</td>\n",
       "      <td>1</td>\n",
       "      <td>1</td>\n",
       "    </tr>\n",
       "    <tr>\n",
       "      <th>38</th>\n",
       "      <td>3</td>\n",
       "      <td>3</td>\n",
       "      <td>3</td>\n",
       "      <td>3</td>\n",
       "      <td>2</td>\n",
       "      <td>1</td>\n",
       "    </tr>\n",
       "    <tr>\n",
       "      <th>39</th>\n",
       "      <td>1</td>\n",
       "      <td>1</td>\n",
       "      <td>1</td>\n",
       "      <td>1</td>\n",
       "      <td>0</td>\n",
       "      <td>1</td>\n",
       "    </tr>\n",
       "    <tr>\n",
       "      <th>43</th>\n",
       "      <td>1</td>\n",
       "      <td>1</td>\n",
       "      <td>1</td>\n",
       "      <td>1</td>\n",
       "      <td>0</td>\n",
       "      <td>1</td>\n",
       "    </tr>\n",
       "  </tbody>\n",
       "</table>\n",
       "</div>"
      ],
      "text/plain": [
       "     user_id  name  city  subscription_type  ultra_users  free_users\n",
       "age                                                                 \n",
       "12         4     4     4                  4            3           1\n",
       "13         8     8     8                  8            4           4\n",
       "14         9     9     9                  9            4           5\n",
       "15        13    13    13                 13            9           4\n",
       "16        19    19    19                 19            8          11\n",
       "17        26    26    26                 26           13          13\n",
       "18        46    46    46                 46           19          27\n",
       "19        47    47    47                 47           29          18\n",
       "20        71    71    71                 71           34          37\n",
       "21        93    93    93                 93           34          59\n",
       "22       119   119   119                119           47          72\n",
       "23       129   129   129                129           62          67\n",
       "24       132   132   132                132           64          68\n",
       "25       145   145   145                145           60          85\n",
       "26       131   131   131                131           53          78\n",
       "27       119   119   119                119           54          65\n",
       "28       112   112   112                112           42          70\n",
       "29        68    68    68                 68           35          33\n",
       "30        68    68    68                 68           29          39\n",
       "31        48    48    48                 48           30          18\n",
       "32        41    41    41                 41           25          16\n",
       "33        39    39    39                 39           22          17\n",
       "34        19    19    19                 19            6          13\n",
       "35        15    15    15                 15            9           6\n",
       "36         6     6     6                  6            1           5\n",
       "37         2     2     2                  2            1           1\n",
       "38         3     3     3                  3            2           1\n",
       "39         1     1     1                  1            0           1\n",
       "43         1     1     1                  1            0           1"
      ]
     },
     "execution_count": 34,
     "metadata": {},
     "output_type": "execute_result"
    }
   ],
   "source": [
    "users.groupby('age').count()"
   ]
  },
  {
   "cell_type": "markdown",
   "id": "d42be898",
   "metadata": {},
   "source": [
    "Большая часть пользователей представлена в возрасте 20-30 лет, выбросов в данных нет. Чаще всего арендуют самокаты молодые люди 25 лет - 145 человек. Cовсем редко арендуют самокат несовершонолетние и люди в возрасте +40.  Разброс значений возраста с и без подписки также представлен без выбросов. \n"
   ]
  },
  {
   "cell_type": "markdown",
   "id": "80bf36b4",
   "metadata": {},
   "source": [
    "##### Pасстояние"
   ]
  },
  {
   "cell_type": "code",
   "execution_count": 35,
   "id": "1c63e568",
   "metadata": {
    "scrolled": true
   },
   "outputs": [
    {
     "data": {
      "image/png": "[encoded data removed]",
      "text/plain": [
       "<Figure size 720x288 with 1 Axes>"
      ]
     },
     "metadata": {
      "needs_background": "light"
     },
     "output_type": "display_data"
    }
   ],
   "source": [
    "rides.plot(kind='hist', title='расстояние, которое пользователь преодолел за одну поездку, m', y='distance', \\\n",
    "                  bins=100, grid=True, figsize=(10,4) )\n",
    "plt.show()\n"
   ]
  },
  {
   "cell_type": "markdown",
   "id": "22bcff52",
   "metadata": {},
   "source": [
    "Удалим значения меньше 500 метров, вероятно пользователи передумали пользоваться сервисом незамедлительно после аренды, и посмотрим на значения еще раз:\n",
    "\n"
   ]
  },
  {
   "cell_type": "code",
   "execution_count": 36,
   "id": "6d802a7c",
   "metadata": {
    "scrolled": true
   },
   "outputs": [],
   "source": [
    "rides_df = rides.loc[(rides['distance'] >= 500)]\n"
   ]
  },
  {
   "cell_type": "code",
   "execution_count": 37,
   "id": "21bade27",
   "metadata": {},
   "outputs": [
    {
     "data": {
      "image/png": "[encoded data removed]",
      "text/plain": [
       "<Figure size 720x288 with 1 Axes>"
      ]
     },
     "metadata": {
      "needs_background": "light"
     },
     "output_type": "display_data"
    }
   ],
   "source": [
    "rides_df.plot(kind='hist', title='расстояние, которое пользователь преодолел за одну поездку, m', y='distance', \\\n",
    "                  bins=100, grid=True, figsize=(10,4) )\n",
    "plt.show()"
   ]
  },
  {
   "cell_type": "markdown",
   "id": "3b3f495d",
   "metadata": {},
   "source": [
    "Подавляющее большинство арендуют самокаты для поездок около 3100 метров\n"
   ]
  },
  {
   "cell_type": "markdown",
   "id": "f17497dd",
   "metadata": {},
   "source": [
    "##### Продолжительность поездок"
   ]
  },
  {
   "cell_type": "code",
   "execution_count": 38,
   "id": "76d90b37",
   "metadata": {
    "scrolled": true
   },
   "outputs": [
    {
     "data": {
      "image/png": "[encoded data removed]",
      "text/plain": [
       "<Figure size 720x288 with 1 Axes>"
      ]
     },
     "metadata": {
      "needs_background": "light"
     },
     "output_type": "display_data"
    }
   ],
   "source": [
    "rides_df.plot(kind='hist', title='продолжительность поездок, min', y='duration', \\\n",
    "                  bins=100, grid=True, figsize=(10,4) )\n",
    "plt.show()"
   ]
  },
  {
   "cell_type": "markdown",
   "id": "4058961d",
   "metadata": {},
   "source": [
    "Удалим поездки меньше 1 минуты, и, посмотрим что получилось\n",
    "\n"
   ]
  },
  {
   "cell_type": "code",
   "execution_count": 39,
   "id": "e81cfa32",
   "metadata": {
    "scrolled": true
   },
   "outputs": [
    {
     "data": {
      "text/html": [
       "<div>\n",
       "<style scoped>\n",
       "    .dataframe tbody tr th:only-of-type {\n",
       "        vertical-align: middle;\n",
       "    }\n",
       "\n",
       "    .dataframe tbody tr th {\n",
       "        vertical-align: top;\n",
       "    }\n",
       "\n",
       "    .dataframe thead th {\n",
       "        text-align: right;\n",
       "    }\n",
       "</style>\n",
       "<table border=\"1\" class=\"dataframe\">\n",
       "  <thead>\n",
       "    <tr style=\"text-align: right;\">\n",
       "      <th></th>\n",
       "      <th>user_id</th>\n",
       "      <th>distance</th>\n",
       "      <th>duration</th>\n",
       "      <th>month</th>\n",
       "    </tr>\n",
       "  </thead>\n",
       "  <tbody>\n",
       "    <tr>\n",
       "      <th>count</th>\n",
       "      <td>17973.00</td>\n",
       "      <td>17973.00</td>\n",
       "      <td>17973.00</td>\n",
       "      <td>17973.00</td>\n",
       "    </tr>\n",
       "    <tr>\n",
       "      <th>mean</th>\n",
       "      <td>841.55</td>\n",
       "      <td>3059.86</td>\n",
       "      <td>17.90</td>\n",
       "      <td>6.49</td>\n",
       "    </tr>\n",
       "    <tr>\n",
       "      <th>std</th>\n",
       "      <td>435.14</td>\n",
       "      <td>1108.81</td>\n",
       "      <td>5.98</td>\n",
       "      <td>3.44</td>\n",
       "    </tr>\n",
       "    <tr>\n",
       "      <th>min</th>\n",
       "      <td>1.00</td>\n",
       "      <td>0.86</td>\n",
       "      <td>2.04</td>\n",
       "      <td>1.00</td>\n",
       "    </tr>\n",
       "    <tr>\n",
       "      <th>25%</th>\n",
       "      <td>484.00</td>\n",
       "      <td>2538.84</td>\n",
       "      <td>13.67</td>\n",
       "      <td>4.00</td>\n",
       "    </tr>\n",
       "    <tr>\n",
       "      <th>50%</th>\n",
       "      <td>887.00</td>\n",
       "      <td>3129.03</td>\n",
       "      <td>17.71</td>\n",
       "      <td>6.00</td>\n",
       "    </tr>\n",
       "    <tr>\n",
       "      <th>75%</th>\n",
       "      <td>1213.00</td>\n",
       "      <td>3762.64</td>\n",
       "      <td>21.75</td>\n",
       "      <td>9.00</td>\n",
       "    </tr>\n",
       "    <tr>\n",
       "      <th>max</th>\n",
       "      <td>1534.00</td>\n",
       "      <td>7066.00</td>\n",
       "      <td>40.82</td>\n",
       "      <td>12.00</td>\n",
       "    </tr>\n",
       "  </tbody>\n",
       "</table>\n",
       "</div>"
      ],
      "text/plain": [
       "       user_id  distance  duration    month\n",
       "count 17973.00  17973.00  17973.00 17973.00\n",
       "mean    841.55   3059.86     17.90     6.49\n",
       "std     435.14   1108.81      5.98     3.44\n",
       "min       1.00      0.86      2.04     1.00\n",
       "25%     484.00   2538.84     13.67     4.00\n",
       "50%     887.00   3129.03     17.71     6.00\n",
       "75%    1213.00   3762.64     21.75     9.00\n",
       "max    1534.00   7066.00     40.82    12.00"
      ]
     },
     "execution_count": 39,
     "metadata": {},
     "output_type": "execute_result"
    }
   ],
   "source": [
    "rides_df = rides.loc[(rides['duration'] >= 0.59)]\n",
    "rides_df.describe()"
   ]
  },
  {
   "cell_type": "code",
   "execution_count": 40,
   "id": "3b30143f",
   "metadata": {},
   "outputs": [
    {
     "data": {
      "image/png": "[encoded data removed]",
      "text/plain": [
       "<Figure size 720x288 with 1 Axes>"
      ]
     },
     "metadata": {
      "needs_background": "light"
     },
     "output_type": "display_data"
    }
   ],
   "source": [
    "rides_df.plot(kind='hist', title='продолжительность поездок, min', y='duration', \\\n",
    "                  bins=100, grid=True, figsize=(10,4) )\n",
    "plt.show()"
   ]
  },
  {
   "cell_type": "markdown",
   "id": "d9567872",
   "metadata": {},
   "source": [
    "Половина пользователей используют самокаты около 18 минут на расстоянии 3 км, eсть и те, кто ездил на самокате больше 40 минут на длительное расстояние."
   ]
  },
  {
   "cell_type": "markdown",
   "id": "84c6d57b",
   "metadata": {},
   "source": [
    "Oкруглим в большую сторону все значения столбца и поменяем тип на int.*"
   ]
  },
  {
   "cell_type": "code",
   "execution_count": 41,
   "id": "7ea5bc41",
   "metadata": {
    "scrolled": true
   },
   "outputs": [
    {
     "data": {
      "text/html": [
       "<div>\n",
       "<style scoped>\n",
       "    .dataframe tbody tr th:only-of-type {\n",
       "        vertical-align: middle;\n",
       "    }\n",
       "\n",
       "    .dataframe tbody tr th {\n",
       "        vertical-align: top;\n",
       "    }\n",
       "\n",
       "    .dataframe thead th {\n",
       "        text-align: right;\n",
       "    }\n",
       "</style>\n",
       "<table border=\"1\" class=\"dataframe\">\n",
       "  <thead>\n",
       "    <tr style=\"text-align: right;\">\n",
       "      <th></th>\n",
       "      <th>user_id</th>\n",
       "      <th>distance</th>\n",
       "      <th>duration</th>\n",
       "      <th>date</th>\n",
       "      <th>month</th>\n",
       "    </tr>\n",
       "  </thead>\n",
       "  <tbody>\n",
       "    <tr>\n",
       "      <th>0</th>\n",
       "      <td>1</td>\n",
       "      <td>4409.92</td>\n",
       "      <td>26</td>\n",
       "      <td>2021-01-01</td>\n",
       "      <td>1</td>\n",
       "    </tr>\n",
       "    <tr>\n",
       "      <th>1</th>\n",
       "      <td>1</td>\n",
       "      <td>2617.59</td>\n",
       "      <td>16</td>\n",
       "      <td>2021-01-18</td>\n",
       "      <td>1</td>\n",
       "    </tr>\n",
       "    <tr>\n",
       "      <th>2</th>\n",
       "      <td>1</td>\n",
       "      <td>754.16</td>\n",
       "      <td>7</td>\n",
       "      <td>2021-04-20</td>\n",
       "      <td>4</td>\n",
       "    </tr>\n",
       "    <tr>\n",
       "      <th>3</th>\n",
       "      <td>1</td>\n",
       "      <td>2694.78</td>\n",
       "      <td>19</td>\n",
       "      <td>2021-08-11</td>\n",
       "      <td>8</td>\n",
       "    </tr>\n",
       "    <tr>\n",
       "      <th>4</th>\n",
       "      <td>1</td>\n",
       "      <td>4028.69</td>\n",
       "      <td>27</td>\n",
       "      <td>2021-08-28</td>\n",
       "      <td>8</td>\n",
       "    </tr>\n",
       "    <tr>\n",
       "      <th>...</th>\n",
       "      <td>...</td>\n",
       "      <td>...</td>\n",
       "      <td>...</td>\n",
       "      <td>...</td>\n",
       "      <td>...</td>\n",
       "    </tr>\n",
       "    <tr>\n",
       "      <th>18063</th>\n",
       "      <td>1534</td>\n",
       "      <td>3781.10</td>\n",
       "      <td>20</td>\n",
       "      <td>2021-11-04</td>\n",
       "      <td>11</td>\n",
       "    </tr>\n",
       "    <tr>\n",
       "      <th>18064</th>\n",
       "      <td>1534</td>\n",
       "      <td>2840.42</td>\n",
       "      <td>22</td>\n",
       "      <td>2021-11-16</td>\n",
       "      <td>11</td>\n",
       "    </tr>\n",
       "    <tr>\n",
       "      <th>18065</th>\n",
       "      <td>1534</td>\n",
       "      <td>3826.19</td>\n",
       "      <td>19</td>\n",
       "      <td>2021-11-18</td>\n",
       "      <td>11</td>\n",
       "    </tr>\n",
       "    <tr>\n",
       "      <th>18066</th>\n",
       "      <td>1534</td>\n",
       "      <td>2902.31</td>\n",
       "      <td>17</td>\n",
       "      <td>2021-11-27</td>\n",
       "      <td>11</td>\n",
       "    </tr>\n",
       "    <tr>\n",
       "      <th>18067</th>\n",
       "      <td>1534</td>\n",
       "      <td>2371.71</td>\n",
       "      <td>16</td>\n",
       "      <td>2021-12-29</td>\n",
       "      <td>12</td>\n",
       "    </tr>\n",
       "  </tbody>\n",
       "</table>\n",
       "<p>17973 rows × 5 columns</p>\n",
       "</div>"
      ],
      "text/plain": [
       "       user_id  distance  duration       date  month\n",
       "0            1   4409.92        26 2021-01-01      1\n",
       "1            1   2617.59        16 2021-01-18      1\n",
       "2            1    754.16         7 2021-04-20      4\n",
       "3            1   2694.78        19 2021-08-11      8\n",
       "4            1   4028.69        27 2021-08-28      8\n",
       "...        ...       ...       ...        ...    ...\n",
       "18063     1534   3781.10        20 2021-11-04     11\n",
       "18064     1534   2840.42        22 2021-11-16     11\n",
       "18065     1534   3826.19        19 2021-11-18     11\n",
       "18066     1534   2902.31        17 2021-11-27     11\n",
       "18067     1534   2371.71        16 2021-12-29     12\n",
       "\n",
       "[17973 rows x 5 columns]"
      ]
     },
     "execution_count": 41,
     "metadata": {},
     "output_type": "execute_result"
    }
   ],
   "source": [
    "# каждое значение из столбца duration округляется с помощью «потолка»: \n",
    "rides_df['duration'] = np.ceil(rides_df['duration']).astype(int)\n",
    "\n",
    "rides_df\n"
   ]
  },
  {
   "cell_type": "markdown",
   "id": "5c47411c",
   "metadata": {},
   "source": [
    "#### Шаг 4. Объединение данных"
   ]
  },
  {
   "cell_type": "markdown",
   "id": "bfd6886f",
   "metadata": {},
   "source": [
    "4.1 Объедините данные о пользователях, поездках и подписках в один датафрейм. Для этого воспользуйтесь методом merge().\n",
    "\n",
    "4.2 Создайте ещё два датафрейма из датафрейма, созданного на этапе 4.1:\n",
    "\n",
    "- c данными о пользователях без подписки;\n",
    "\n",
    "- с данными о пользователях с подпиской.\n",
    "\n",
    "4.3 Визуализируйте информацию о расстоянии и времени поездок для пользователей обеих категорий."
   ]
  },
  {
   "cell_type": "markdown",
   "id": "109e9daa",
   "metadata": {},
   "source": [
    "##### Merge"
   ]
  },
  {
   "cell_type": "code",
   "execution_count": 42,
   "id": "95d1e18e",
   "metadata": {},
   "outputs": [],
   "source": [
    "data = users.merge(rides_df,on='user_id',how='right')\n",
    "all_df = data.merge(subscriptions,on='subscription_type',how='left')\n",
    " "
   ]
  },
  {
   "cell_type": "code",
   "execution_count": 43,
   "id": "9f76a635",
   "metadata": {
    "scrolled": true
   },
   "outputs": [
    {
     "data": {
      "text/html": [
       "<div>\n",
       "<style scoped>\n",
       "    .dataframe tbody tr th:only-of-type {\n",
       "        vertical-align: middle;\n",
       "    }\n",
       "\n",
       "    .dataframe tbody tr th {\n",
       "        vertical-align: top;\n",
       "    }\n",
       "\n",
       "    .dataframe thead th {\n",
       "        text-align: right;\n",
       "    }\n",
       "</style>\n",
       "<table border=\"1\" class=\"dataframe\">\n",
       "  <thead>\n",
       "    <tr style=\"text-align: right;\">\n",
       "      <th></th>\n",
       "      <th>user_id</th>\n",
       "      <th>name</th>\n",
       "      <th>age</th>\n",
       "      <th>city</th>\n",
       "      <th>subscription_type</th>\n",
       "      <th>ultra_users</th>\n",
       "      <th>free_users</th>\n",
       "      <th>distance</th>\n",
       "      <th>duration</th>\n",
       "      <th>date</th>\n",
       "      <th>month</th>\n",
       "      <th>minute_price</th>\n",
       "      <th>start_ride_price</th>\n",
       "      <th>subscription_fee</th>\n",
       "    </tr>\n",
       "  </thead>\n",
       "  <tbody>\n",
       "    <tr>\n",
       "      <th>0</th>\n",
       "      <td>1</td>\n",
       "      <td>Кира</td>\n",
       "      <td>22</td>\n",
       "      <td>Тюмень</td>\n",
       "      <td>ultra</td>\n",
       "      <td>ultra</td>\n",
       "      <td>NaN</td>\n",
       "      <td>4409.92</td>\n",
       "      <td>26</td>\n",
       "      <td>2021-01-01</td>\n",
       "      <td>1</td>\n",
       "      <td>6</td>\n",
       "      <td>0</td>\n",
       "      <td>199</td>\n",
       "    </tr>\n",
       "    <tr>\n",
       "      <th>1</th>\n",
       "      <td>1</td>\n",
       "      <td>Кира</td>\n",
       "      <td>22</td>\n",
       "      <td>Тюмень</td>\n",
       "      <td>ultra</td>\n",
       "      <td>ultra</td>\n",
       "      <td>NaN</td>\n",
       "      <td>2617.59</td>\n",
       "      <td>16</td>\n",
       "      <td>2021-01-18</td>\n",
       "      <td>1</td>\n",
       "      <td>6</td>\n",
       "      <td>0</td>\n",
       "      <td>199</td>\n",
       "    </tr>\n",
       "    <tr>\n",
       "      <th>2</th>\n",
       "      <td>1</td>\n",
       "      <td>Кира</td>\n",
       "      <td>22</td>\n",
       "      <td>Тюмень</td>\n",
       "      <td>ultra</td>\n",
       "      <td>ultra</td>\n",
       "      <td>NaN</td>\n",
       "      <td>754.16</td>\n",
       "      <td>7</td>\n",
       "      <td>2021-04-20</td>\n",
       "      <td>4</td>\n",
       "      <td>6</td>\n",
       "      <td>0</td>\n",
       "      <td>199</td>\n",
       "    </tr>\n",
       "    <tr>\n",
       "      <th>3</th>\n",
       "      <td>1</td>\n",
       "      <td>Кира</td>\n",
       "      <td>22</td>\n",
       "      <td>Тюмень</td>\n",
       "      <td>ultra</td>\n",
       "      <td>ultra</td>\n",
       "      <td>NaN</td>\n",
       "      <td>2694.78</td>\n",
       "      <td>19</td>\n",
       "      <td>2021-08-11</td>\n",
       "      <td>8</td>\n",
       "      <td>6</td>\n",
       "      <td>0</td>\n",
       "      <td>199</td>\n",
       "    </tr>\n",
       "    <tr>\n",
       "      <th>4</th>\n",
       "      <td>1</td>\n",
       "      <td>Кира</td>\n",
       "      <td>22</td>\n",
       "      <td>Тюмень</td>\n",
       "      <td>ultra</td>\n",
       "      <td>ultra</td>\n",
       "      <td>NaN</td>\n",
       "      <td>4028.69</td>\n",
       "      <td>27</td>\n",
       "      <td>2021-08-28</td>\n",
       "      <td>8</td>\n",
       "      <td>6</td>\n",
       "      <td>0</td>\n",
       "      <td>199</td>\n",
       "    </tr>\n",
       "  </tbody>\n",
       "</table>\n",
       "</div>"
      ],
      "text/plain": [
       "   user_id  name  age    city subscription_type ultra_users free_users  \\\n",
       "0        1  Кира   22  Тюмень             ultra       ultra        NaN   \n",
       "1        1  Кира   22  Тюмень             ultra       ultra        NaN   \n",
       "2        1  Кира   22  Тюмень             ultra       ultra        NaN   \n",
       "3        1  Кира   22  Тюмень             ultra       ultra        NaN   \n",
       "4        1  Кира   22  Тюмень             ultra       ultra        NaN   \n",
       "\n",
       "   distance  duration       date  month  minute_price  start_ride_price  \\\n",
       "0   4409.92        26 2021-01-01      1             6                 0   \n",
       "1   2617.59        16 2021-01-18      1             6                 0   \n",
       "2    754.16         7 2021-04-20      4             6                 0   \n",
       "3   2694.78        19 2021-08-11      8             6                 0   \n",
       "4   4028.69        27 2021-08-28      8             6                 0   \n",
       "\n",
       "   subscription_fee  \n",
       "0               199  \n",
       "1               199  \n",
       "2               199  \n",
       "3               199  \n",
       "4               199  "
      ]
     },
     "execution_count": 43,
     "metadata": {},
     "output_type": "execute_result"
    }
   ],
   "source": [
    "all_df.head()"
   ]
  },
  {
   "cell_type": "code",
   "execution_count": 44,
   "id": "9373d0ea",
   "metadata": {},
   "outputs": [
    {
     "name": "stdout",
     "output_type": "stream",
     "text": [
      "Количество строк до объеденения 17973\n",
      "Количество строк после объеденения 17973\n"
     ]
    }
   ],
   "source": [
    "print('Количество строк до объеденения', rides_df.shape[0])\n",
    "print('Количество строк после объеденения', all_df.shape[0])"
   ]
  },
  {
   "cell_type": "markdown",
   "id": "88f305ea",
   "metadata": {},
   "source": [
    "##### два датафрейма"
   ]
  },
  {
   "cell_type": "markdown",
   "id": "fe914757",
   "metadata": {},
   "source": [
    "Поделим датафрейм all_data, в котором мы объединили сводные таблицы по поездкам, пользователям и подпискам, на два в зависимости от подписки:\n",
    "\n"
   ]
  },
  {
   "cell_type": "code",
   "execution_count": 45,
   "id": "f67dc414",
   "metadata": {
    "scrolled": true
   },
   "outputs": [
    {
     "name": "stdout",
     "output_type": "stream",
     "text": [
      "<class 'pandas.core.frame.DataFrame'>\n",
      "Int64Index: 6500 entries, 0 to 6499\n",
      "Data columns (total 14 columns):\n",
      " #   Column             Non-Null Count  Dtype         \n",
      "---  ------             --------------  -----         \n",
      " 0   user_id            6500 non-null   int64         \n",
      " 1   name               6500 non-null   object        \n",
      " 2   age                6500 non-null   int64         \n",
      " 3   city               6500 non-null   object        \n",
      " 4   subscription_type  6500 non-null   object        \n",
      " 5   ultra_users        6500 non-null   object        \n",
      " 6   free_users         0 non-null      object        \n",
      " 7   distance           6500 non-null   float64       \n",
      " 8   duration           6500 non-null   int64         \n",
      " 9   date               6500 non-null   datetime64[ns]\n",
      " 10  month              6500 non-null   int64         \n",
      " 11  minute_price       6500 non-null   int64         \n",
      " 12  start_ride_price   6500 non-null   int64         \n",
      " 13  subscription_fee   6500 non-null   int64         \n",
      "dtypes: datetime64[ns](1), float64(1), int64(7), object(5)\n",
      "memory usage: 761.7+ KB\n",
      "\n",
      "<class 'pandas.core.frame.DataFrame'>\n",
      "Int64Index: 11473 entries, 6500 to 17972\n",
      "Data columns (total 14 columns):\n",
      " #   Column             Non-Null Count  Dtype         \n",
      "---  ------             --------------  -----         \n",
      " 0   user_id            11473 non-null  int64         \n",
      " 1   name               11473 non-null  object        \n",
      " 2   age                11473 non-null  int64         \n",
      " 3   city               11473 non-null  object        \n",
      " 4   subscription_type  11473 non-null  object        \n",
      " 5   ultra_users        0 non-null      object        \n",
      " 6   free_users         11473 non-null  object        \n",
      " 7   distance           11473 non-null  float64       \n",
      " 8   duration           11473 non-null  int64         \n",
      " 9   date               11473 non-null  datetime64[ns]\n",
      " 10  month              11473 non-null  int64         \n",
      " 11  minute_price       11473 non-null  int64         \n",
      " 12  start_ride_price   11473 non-null  int64         \n",
      " 13  subscription_fee   11473 non-null  int64         \n",
      "dtypes: datetime64[ns](1), float64(1), int64(7), object(5)\n",
      "memory usage: 1.3+ MB\n"
     ]
    }
   ],
   "source": [
    "ultra_users = all_df.query('subscription_type == \"ultra\"')\n",
    "free_users = all_df.query('subscription_type == \"free\"')\n",
    "ultra_users.info()\n",
    "print()\n",
    "free_users.info()"
   ]
  },
  {
   "cell_type": "markdown",
   "id": "c60c4846",
   "metadata": {},
   "source": [
    "Удалим лишние столбцы в обоих таблицах:\n"
   ]
  },
  {
   "cell_type": "code",
   "execution_count": 46,
   "id": "043a0afc",
   "metadata": {},
   "outputs": [
    {
     "data": {
      "text/html": [
       "<div>\n",
       "<style scoped>\n",
       "    .dataframe tbody tr th:only-of-type {\n",
       "        vertical-align: middle;\n",
       "    }\n",
       "\n",
       "    .dataframe tbody tr th {\n",
       "        vertical-align: top;\n",
       "    }\n",
       "\n",
       "    .dataframe thead th {\n",
       "        text-align: right;\n",
       "    }\n",
       "</style>\n",
       "<table border=\"1\" class=\"dataframe\">\n",
       "  <thead>\n",
       "    <tr style=\"text-align: right;\">\n",
       "      <th></th>\n",
       "      <th>user_id</th>\n",
       "      <th>name</th>\n",
       "      <th>age</th>\n",
       "      <th>city</th>\n",
       "      <th>ultra_users</th>\n",
       "      <th>distance</th>\n",
       "      <th>duration</th>\n",
       "      <th>date</th>\n",
       "      <th>month</th>\n",
       "      <th>minute_price</th>\n",
       "      <th>start_ride_price</th>\n",
       "      <th>subscription_fee</th>\n",
       "    </tr>\n",
       "  </thead>\n",
       "  <tbody>\n",
       "    <tr>\n",
       "      <th>0</th>\n",
       "      <td>1</td>\n",
       "      <td>Кира</td>\n",
       "      <td>22</td>\n",
       "      <td>Тюмень</td>\n",
       "      <td>ultra</td>\n",
       "      <td>4409.92</td>\n",
       "      <td>26</td>\n",
       "      <td>2021-01-01</td>\n",
       "      <td>1</td>\n",
       "      <td>6</td>\n",
       "      <td>0</td>\n",
       "      <td>199</td>\n",
       "    </tr>\n",
       "    <tr>\n",
       "      <th>1</th>\n",
       "      <td>1</td>\n",
       "      <td>Кира</td>\n",
       "      <td>22</td>\n",
       "      <td>Тюмень</td>\n",
       "      <td>ultra</td>\n",
       "      <td>2617.59</td>\n",
       "      <td>16</td>\n",
       "      <td>2021-01-18</td>\n",
       "      <td>1</td>\n",
       "      <td>6</td>\n",
       "      <td>0</td>\n",
       "      <td>199</td>\n",
       "    </tr>\n",
       "    <tr>\n",
       "      <th>2</th>\n",
       "      <td>1</td>\n",
       "      <td>Кира</td>\n",
       "      <td>22</td>\n",
       "      <td>Тюмень</td>\n",
       "      <td>ultra</td>\n",
       "      <td>754.16</td>\n",
       "      <td>7</td>\n",
       "      <td>2021-04-20</td>\n",
       "      <td>4</td>\n",
       "      <td>6</td>\n",
       "      <td>0</td>\n",
       "      <td>199</td>\n",
       "    </tr>\n",
       "    <tr>\n",
       "      <th>3</th>\n",
       "      <td>1</td>\n",
       "      <td>Кира</td>\n",
       "      <td>22</td>\n",
       "      <td>Тюмень</td>\n",
       "      <td>ultra</td>\n",
       "      <td>2694.78</td>\n",
       "      <td>19</td>\n",
       "      <td>2021-08-11</td>\n",
       "      <td>8</td>\n",
       "      <td>6</td>\n",
       "      <td>0</td>\n",
       "      <td>199</td>\n",
       "    </tr>\n",
       "    <tr>\n",
       "      <th>4</th>\n",
       "      <td>1</td>\n",
       "      <td>Кира</td>\n",
       "      <td>22</td>\n",
       "      <td>Тюмень</td>\n",
       "      <td>ultra</td>\n",
       "      <td>4028.69</td>\n",
       "      <td>27</td>\n",
       "      <td>2021-08-28</td>\n",
       "      <td>8</td>\n",
       "      <td>6</td>\n",
       "      <td>0</td>\n",
       "      <td>199</td>\n",
       "    </tr>\n",
       "    <tr>\n",
       "      <th>...</th>\n",
       "      <td>...</td>\n",
       "      <td>...</td>\n",
       "      <td>...</td>\n",
       "      <td>...</td>\n",
       "      <td>...</td>\n",
       "      <td>...</td>\n",
       "      <td>...</td>\n",
       "      <td>...</td>\n",
       "      <td>...</td>\n",
       "      <td>...</td>\n",
       "      <td>...</td>\n",
       "      <td>...</td>\n",
       "    </tr>\n",
       "    <tr>\n",
       "      <th>6495</th>\n",
       "      <td>699</td>\n",
       "      <td>Оксана</td>\n",
       "      <td>22</td>\n",
       "      <td>Москва</td>\n",
       "      <td>ultra</td>\n",
       "      <td>3973.05</td>\n",
       "      <td>25</td>\n",
       "      <td>2021-08-29</td>\n",
       "      <td>8</td>\n",
       "      <td>6</td>\n",
       "      <td>0</td>\n",
       "      <td>199</td>\n",
       "    </tr>\n",
       "    <tr>\n",
       "      <th>6496</th>\n",
       "      <td>699</td>\n",
       "      <td>Оксана</td>\n",
       "      <td>22</td>\n",
       "      <td>Москва</td>\n",
       "      <td>ultra</td>\n",
       "      <td>3288.70</td>\n",
       "      <td>16</td>\n",
       "      <td>2021-09-12</td>\n",
       "      <td>9</td>\n",
       "      <td>6</td>\n",
       "      <td>0</td>\n",
       "      <td>199</td>\n",
       "    </tr>\n",
       "    <tr>\n",
       "      <th>6497</th>\n",
       "      <td>699</td>\n",
       "      <td>Оксана</td>\n",
       "      <td>22</td>\n",
       "      <td>Москва</td>\n",
       "      <td>ultra</td>\n",
       "      <td>3076.16</td>\n",
       "      <td>15</td>\n",
       "      <td>2021-09-26</td>\n",
       "      <td>9</td>\n",
       "      <td>6</td>\n",
       "      <td>0</td>\n",
       "      <td>199</td>\n",
       "    </tr>\n",
       "    <tr>\n",
       "      <th>6498</th>\n",
       "      <td>699</td>\n",
       "      <td>Оксана</td>\n",
       "      <td>22</td>\n",
       "      <td>Москва</td>\n",
       "      <td>ultra</td>\n",
       "      <td>4707.85</td>\n",
       "      <td>16</td>\n",
       "      <td>2021-10-17</td>\n",
       "      <td>10</td>\n",
       "      <td>6</td>\n",
       "      <td>0</td>\n",
       "      <td>199</td>\n",
       "    </tr>\n",
       "    <tr>\n",
       "      <th>6499</th>\n",
       "      <td>699</td>\n",
       "      <td>Оксана</td>\n",
       "      <td>22</td>\n",
       "      <td>Москва</td>\n",
       "      <td>ultra</td>\n",
       "      <td>3202.89</td>\n",
       "      <td>26</td>\n",
       "      <td>2021-12-03</td>\n",
       "      <td>12</td>\n",
       "      <td>6</td>\n",
       "      <td>0</td>\n",
       "      <td>199</td>\n",
       "    </tr>\n",
       "  </tbody>\n",
       "</table>\n",
       "<p>6500 rows × 12 columns</p>\n",
       "</div>"
      ],
      "text/plain": [
       "      user_id    name  age    city ultra_users  distance  duration       date  \\\n",
       "0           1    Кира   22  Тюмень       ultra   4409.92        26 2021-01-01   \n",
       "1           1    Кира   22  Тюмень       ultra   2617.59        16 2021-01-18   \n",
       "2           1    Кира   22  Тюмень       ultra    754.16         7 2021-04-20   \n",
       "3           1    Кира   22  Тюмень       ultra   2694.78        19 2021-08-11   \n",
       "4           1    Кира   22  Тюмень       ultra   4028.69        27 2021-08-28   \n",
       "...       ...     ...  ...     ...         ...       ...       ...        ...   \n",
       "6495      699  Оксана   22  Москва       ultra   3973.05        25 2021-08-29   \n",
       "6496      699  Оксана   22  Москва       ultra   3288.70        16 2021-09-12   \n",
       "6497      699  Оксана   22  Москва       ultra   3076.16        15 2021-09-26   \n",
       "6498      699  Оксана   22  Москва       ultra   4707.85        16 2021-10-17   \n",
       "6499      699  Оксана   22  Москва       ultra   3202.89        26 2021-12-03   \n",
       "\n",
       "      month  minute_price  start_ride_price  subscription_fee  \n",
       "0         1             6                 0               199  \n",
       "1         1             6                 0               199  \n",
       "2         4             6                 0               199  \n",
       "3         8             6                 0               199  \n",
       "4         8             6                 0               199  \n",
       "...     ...           ...               ...               ...  \n",
       "6495      8             6                 0               199  \n",
       "6496      9             6                 0               199  \n",
       "6497      9             6                 0               199  \n",
       "6498     10             6                 0               199  \n",
       "6499     12             6                 0               199  \n",
       "\n",
       "[6500 rows x 12 columns]"
      ]
     },
     "execution_count": 46,
     "metadata": {},
     "output_type": "execute_result"
    }
   ],
   "source": [
    "\n",
    "ultra_users.drop('subscription_type', axis=1, inplace=True)\n",
    "ultra_users.drop('free_users', axis=1, inplace=True)\n",
    "ultra_users\n"
   ]
  },
  {
   "cell_type": "code",
   "execution_count": 47,
   "id": "0d9b7ec1",
   "metadata": {
    "scrolled": true
   },
   "outputs": [
    {
     "data": {
      "text/html": [
       "<div>\n",
       "<style scoped>\n",
       "    .dataframe tbody tr th:only-of-type {\n",
       "        vertical-align: middle;\n",
       "    }\n",
       "\n",
       "    .dataframe tbody tr th {\n",
       "        vertical-align: top;\n",
       "    }\n",
       "\n",
       "    .dataframe thead th {\n",
       "        text-align: right;\n",
       "    }\n",
       "</style>\n",
       "<table border=\"1\" class=\"dataframe\">\n",
       "  <thead>\n",
       "    <tr style=\"text-align: right;\">\n",
       "      <th></th>\n",
       "      <th>user_id</th>\n",
       "      <th>name</th>\n",
       "      <th>age</th>\n",
       "      <th>city</th>\n",
       "      <th>free_users</th>\n",
       "      <th>distance</th>\n",
       "      <th>duration</th>\n",
       "      <th>date</th>\n",
       "      <th>month</th>\n",
       "      <th>minute_price</th>\n",
       "      <th>start_ride_price</th>\n",
       "      <th>subscription_fee</th>\n",
       "    </tr>\n",
       "  </thead>\n",
       "  <tbody>\n",
       "    <tr>\n",
       "      <th>6500</th>\n",
       "      <td>700</td>\n",
       "      <td>Айдар</td>\n",
       "      <td>22</td>\n",
       "      <td>Омск</td>\n",
       "      <td>free</td>\n",
       "      <td>2515.69</td>\n",
       "      <td>15</td>\n",
       "      <td>2021-01-02</td>\n",
       "      <td>1</td>\n",
       "      <td>8</td>\n",
       "      <td>50</td>\n",
       "      <td>0</td>\n",
       "    </tr>\n",
       "    <tr>\n",
       "      <th>6501</th>\n",
       "      <td>700</td>\n",
       "      <td>Айдар</td>\n",
       "      <td>22</td>\n",
       "      <td>Омск</td>\n",
       "      <td>free</td>\n",
       "      <td>846.93</td>\n",
       "      <td>17</td>\n",
       "      <td>2021-02-01</td>\n",
       "      <td>2</td>\n",
       "      <td>8</td>\n",
       "      <td>50</td>\n",
       "      <td>0</td>\n",
       "    </tr>\n",
       "    <tr>\n",
       "      <th>6502</th>\n",
       "      <td>700</td>\n",
       "      <td>Айдар</td>\n",
       "      <td>22</td>\n",
       "      <td>Омск</td>\n",
       "      <td>free</td>\n",
       "      <td>4004.43</td>\n",
       "      <td>21</td>\n",
       "      <td>2021-02-04</td>\n",
       "      <td>2</td>\n",
       "      <td>8</td>\n",
       "      <td>50</td>\n",
       "      <td>0</td>\n",
       "    </tr>\n",
       "    <tr>\n",
       "      <th>6503</th>\n",
       "      <td>700</td>\n",
       "      <td>Айдар</td>\n",
       "      <td>22</td>\n",
       "      <td>Омск</td>\n",
       "      <td>free</td>\n",
       "      <td>1205.91</td>\n",
       "      <td>10</td>\n",
       "      <td>2021-02-10</td>\n",
       "      <td>2</td>\n",
       "      <td>8</td>\n",
       "      <td>50</td>\n",
       "      <td>0</td>\n",
       "    </tr>\n",
       "    <tr>\n",
       "      <th>6504</th>\n",
       "      <td>700</td>\n",
       "      <td>Айдар</td>\n",
       "      <td>22</td>\n",
       "      <td>Омск</td>\n",
       "      <td>free</td>\n",
       "      <td>3047.38</td>\n",
       "      <td>18</td>\n",
       "      <td>2021-02-14</td>\n",
       "      <td>2</td>\n",
       "      <td>8</td>\n",
       "      <td>50</td>\n",
       "      <td>0</td>\n",
       "    </tr>\n",
       "    <tr>\n",
       "      <th>...</th>\n",
       "      <td>...</td>\n",
       "      <td>...</td>\n",
       "      <td>...</td>\n",
       "      <td>...</td>\n",
       "      <td>...</td>\n",
       "      <td>...</td>\n",
       "      <td>...</td>\n",
       "      <td>...</td>\n",
       "      <td>...</td>\n",
       "      <td>...</td>\n",
       "      <td>...</td>\n",
       "      <td>...</td>\n",
       "    </tr>\n",
       "    <tr>\n",
       "      <th>17968</th>\n",
       "      <td>1534</td>\n",
       "      <td>Альберт</td>\n",
       "      <td>25</td>\n",
       "      <td>Краснодар</td>\n",
       "      <td>free</td>\n",
       "      <td>3781.10</td>\n",
       "      <td>20</td>\n",
       "      <td>2021-11-04</td>\n",
       "      <td>11</td>\n",
       "      <td>8</td>\n",
       "      <td>50</td>\n",
       "      <td>0</td>\n",
       "    </tr>\n",
       "    <tr>\n",
       "      <th>17969</th>\n",
       "      <td>1534</td>\n",
       "      <td>Альберт</td>\n",
       "      <td>25</td>\n",
       "      <td>Краснодар</td>\n",
       "      <td>free</td>\n",
       "      <td>2840.42</td>\n",
       "      <td>22</td>\n",
       "      <td>2021-11-16</td>\n",
       "      <td>11</td>\n",
       "      <td>8</td>\n",
       "      <td>50</td>\n",
       "      <td>0</td>\n",
       "    </tr>\n",
       "    <tr>\n",
       "      <th>17970</th>\n",
       "      <td>1534</td>\n",
       "      <td>Альберт</td>\n",
       "      <td>25</td>\n",
       "      <td>Краснодар</td>\n",
       "      <td>free</td>\n",
       "      <td>3826.19</td>\n",
       "      <td>19</td>\n",
       "      <td>2021-11-18</td>\n",
       "      <td>11</td>\n",
       "      <td>8</td>\n",
       "      <td>50</td>\n",
       "      <td>0</td>\n",
       "    </tr>\n",
       "    <tr>\n",
       "      <th>17971</th>\n",
       "      <td>1534</td>\n",
       "      <td>Альберт</td>\n",
       "      <td>25</td>\n",
       "      <td>Краснодар</td>\n",
       "      <td>free</td>\n",
       "      <td>2902.31</td>\n",
       "      <td>17</td>\n",
       "      <td>2021-11-27</td>\n",
       "      <td>11</td>\n",
       "      <td>8</td>\n",
       "      <td>50</td>\n",
       "      <td>0</td>\n",
       "    </tr>\n",
       "    <tr>\n",
       "      <th>17972</th>\n",
       "      <td>1534</td>\n",
       "      <td>Альберт</td>\n",
       "      <td>25</td>\n",
       "      <td>Краснодар</td>\n",
       "      <td>free</td>\n",
       "      <td>2371.71</td>\n",
       "      <td>16</td>\n",
       "      <td>2021-12-29</td>\n",
       "      <td>12</td>\n",
       "      <td>8</td>\n",
       "      <td>50</td>\n",
       "      <td>0</td>\n",
       "    </tr>\n",
       "  </tbody>\n",
       "</table>\n",
       "<p>11473 rows × 12 columns</p>\n",
       "</div>"
      ],
      "text/plain": [
       "       user_id     name  age       city free_users  distance  duration  \\\n",
       "6500       700    Айдар   22       Омск       free   2515.69        15   \n",
       "6501       700    Айдар   22       Омск       free    846.93        17   \n",
       "6502       700    Айдар   22       Омск       free   4004.43        21   \n",
       "6503       700    Айдар   22       Омск       free   1205.91        10   \n",
       "6504       700    Айдар   22       Омск       free   3047.38        18   \n",
       "...        ...      ...  ...        ...        ...       ...       ...   \n",
       "17968     1534  Альберт   25  Краснодар       free   3781.10        20   \n",
       "17969     1534  Альберт   25  Краснодар       free   2840.42        22   \n",
       "17970     1534  Альберт   25  Краснодар       free   3826.19        19   \n",
       "17971     1534  Альберт   25  Краснодар       free   2902.31        17   \n",
       "17972     1534  Альберт   25  Краснодар       free   2371.71        16   \n",
       "\n",
       "            date  month  minute_price  start_ride_price  subscription_fee  \n",
       "6500  2021-01-02      1             8                50                 0  \n",
       "6501  2021-02-01      2             8                50                 0  \n",
       "6502  2021-02-04      2             8                50                 0  \n",
       "6503  2021-02-10      2             8                50                 0  \n",
       "6504  2021-02-14      2             8                50                 0  \n",
       "...          ...    ...           ...               ...               ...  \n",
       "17968 2021-11-04     11             8                50                 0  \n",
       "17969 2021-11-16     11             8                50                 0  \n",
       "17970 2021-11-18     11             8                50                 0  \n",
       "17971 2021-11-27     11             8                50                 0  \n",
       "17972 2021-12-29     12             8                50                 0  \n",
       "\n",
       "[11473 rows x 12 columns]"
      ]
     },
     "execution_count": 47,
     "metadata": {},
     "output_type": "execute_result"
    }
   ],
   "source": [
    "\n",
    "free_users.drop('subscription_type', axis=1, inplace=True)\n",
    "free_users.drop('ultra_users', axis=1, inplace=True)\n",
    "free_users\n"
   ]
  },
  {
   "cell_type": "markdown",
   "id": "e834678d",
   "metadata": {},
   "source": [
    "##### Визуализируйте информацию о расстоянии и времени поездок для пользователей обеих категорий"
   ]
  },
  {
   "cell_type": "markdown",
   "id": "fd6392f2",
   "metadata": {},
   "source": [
    "Cовместим на графике информацию о пользователях с подпиской и без для наглядности, также посмотрим на гистограммах частоту распределения пользователей по объему использования услуг"
   ]
  },
  {
   "cell_type": "code",
   "execution_count": 48,
   "id": "77f47169",
   "metadata": {
    "scrolled": false
   },
   "outputs": [
    {
     "data": {
      "text/plain": [
       "<matplotlib.legend.Legend at 0x7f555419a850>"
      ]
     },
     "execution_count": 48,
     "metadata": {},
     "output_type": "execute_result"
    },
    {
     "data": {
      "image/png": "[encoded data removed]",
      "text/plain": [
       "<Figure size 432x288 with 1 Axes>"
      ]
     },
     "metadata": {
      "needs_background": "light"
     },
     "output_type": "display_data"
    }
   ],
   "source": [
    "\n",
    "x1=ultra_users['distance']\n",
    "x2=free_users['distance']\n",
    "\n",
    "names=['ultra', 'free']\n",
    "plt.hist([x1,x2], bins=50, alpha=0.7, label=names)\n",
    "plt.title('Распределение пользователей по возрасту и подписке')\n",
    "plt.xlabel('Расстояние, м')\n",
    "plt.ylabel('Количество пользователей')\n",
    "plt.legend()"
   ]
  },
  {
   "cell_type": "code",
   "execution_count": 49,
   "id": "e2dfae7b",
   "metadata": {},
   "outputs": [
    {
     "data": {
      "image/png": "[encoded data removed]",
      "text/plain": [
       "<Figure size 1008x360 with 1 Axes>"
      ]
     },
     "metadata": {
      "needs_background": "light"
     },
     "output_type": "display_data"
    },
    {
     "data": {
      "image/png": "[encoded data removed]",
      "text/plain": [
       "<Figure size 1008x360 with 1 Axes>"
      ]
     },
     "metadata": {
      "needs_background": "light"
     },
     "output_type": "display_data"
    }
   ],
   "source": [
    "for param in ['duration', 'distance']:\n",
    "    b = 50\n",
    "    plt.figure(figsize=(14, 5))\n",
    "    \n",
    "    plt.hist(all_df.loc[all_df['subscription_type'] == \"ultra\", param], label='ultra / '+param, color='g', alpha=0.65, bins = b)\n",
    "    plt.hist(all_df.loc[all_df['subscription_type'] == \"free\", param], label='free / '+param, color='r', alpha=0.35, bins = b)\n",
    "    \n",
    "    plt.ylabel('ЧАСТОТА')\n",
    "    plt.xlabel(param)\n",
    "    plt.grid()\n",
    "    plt.title(f'Распределение {param}  для обоих тарифов')\n",
    "    plt.legend()\n",
    "    plt.show();"
   ]
  },
  {
   "cell_type": "markdown",
   "id": "63f5f5bf",
   "metadata": {},
   "source": [
    "Без подписки ездят на длительные расстояния чаще , а с подпиской на расстояние около 3000 метров. Также можно заметить медианные значения располагаются посередине и относительно равномерное распределение в зависмости от количества пользователей.\n",
    "\n"
   ]
  },
  {
   "cell_type": "markdown",
   "id": "22c3bbea",
   "metadata": {},
   "source": [
    "##### Вывод"
   ]
  },
  {
   "cell_type": "markdown",
   "id": "5c320324",
   "metadata": {},
   "source": [
    "Объединили таблицы поездки, пользователи, подписки. \n",
    "\n",
    "Поделили датайфрейм на две части в зависимости от наличия или отсутствия подписки. Нам эти данные понадобятся в дальнейшем для более глубокого анализа поведения пользователей. Для наглядности продемонстрировали информацию на гистограммах по поведению пользователей сервиса с подпиской и без.\n",
    "\n",
    "Исследование показало, что большинство пользователей с подпикой Ультра предпочитают поездки до 3 км, но сервисом все же пользуются без подписки большинство\n",
    "\n",
    "\n",
    "\n",
    "\n"
   ]
  },
  {
   "cell_type": "markdown",
   "id": "402d620f",
   "metadata": {},
   "source": [
    "#### Шаг 5. Подсчёт выручки"
   ]
  },
  {
   "cell_type": "markdown",
   "id": "529f8422",
   "metadata": {},
   "source": [
    "5.1 Создайте датафрейм с агрегированными данными о поездках на основе датафрейма с объединёнными данными из шага 4: найдите суммарное расстояние, количество поездок и суммарное время для каждого пользователя за каждый месяц.\n",
    "\n",
    "    \n",
    "    \n",
    "5.2 В этот же датафрейм добавьте столбец с помесячной выручкой, которую принёс каждый пользователь. Для этого обратитесь к информации об условиях оплаты для подписчиков и тех, у кого нет подписки. Продолжительность поездки в каждой строке датафрейма при подсчёте стоимости округляется до следующего целого числа: например, значения \n"
   ]
  },
  {
   "cell_type": "code",
   "execution_count": 50,
   "id": "9aa547a6",
   "metadata": {},
   "outputs": [
    {
     "data": {
      "text/plain": [
       "subscription_type\n",
       "free     835\n",
       "ultra    699\n",
       "Name: user_id, dtype: int64"
      ]
     },
     "execution_count": 50,
     "metadata": {},
     "output_type": "execute_result"
    }
   ],
   "source": [
    "users.groupby('subscription_type')['user_id'].count()"
   ]
  },
  {
   "cell_type": "markdown",
   "id": "104e423d",
   "metadata": {},
   "source": [
    "Поссмотрим на суммарное расстояние, количество и длительность поездок для каждого пользователя за каждыи месяц отдельно с подпиской и без.\n"
   ]
  },
  {
   "cell_type": "markdown",
   "id": "0b564132",
   "metadata": {},
   "source": [
    "##### суммарное расстояние для каждого пользователя за каждый месяц"
   ]
  },
  {
   "cell_type": "code",
   "execution_count": 51,
   "id": "88c678ce",
   "metadata": {},
   "outputs": [
    {
     "data": {
      "text/html": [
       "<div>\n",
       "<style scoped>\n",
       "    .dataframe tbody tr th:only-of-type {\n",
       "        vertical-align: middle;\n",
       "    }\n",
       "\n",
       "    .dataframe tbody tr th {\n",
       "        vertical-align: top;\n",
       "    }\n",
       "\n",
       "    .dataframe thead th {\n",
       "        text-align: right;\n",
       "    }\n",
       "</style>\n",
       "<table border=\"1\" class=\"dataframe\">\n",
       "  <thead>\n",
       "    <tr style=\"text-align: right;\">\n",
       "      <th></th>\n",
       "      <th>user_id</th>\n",
       "      <th>month</th>\n",
       "      <th>count_date</th>\n",
       "      <th>distance</th>\n",
       "    </tr>\n",
       "  </thead>\n",
       "  <tbody>\n",
       "    <tr>\n",
       "      <th>0</th>\n",
       "      <td>1</td>\n",
       "      <td>1</td>\n",
       "      <td>2</td>\n",
       "      <td>7027.51</td>\n",
       "    </tr>\n",
       "    <tr>\n",
       "      <th>1</th>\n",
       "      <td>1</td>\n",
       "      <td>4</td>\n",
       "      <td>1</td>\n",
       "      <td>754.16</td>\n",
       "    </tr>\n",
       "    <tr>\n",
       "      <th>2</th>\n",
       "      <td>1</td>\n",
       "      <td>8</td>\n",
       "      <td>2</td>\n",
       "      <td>6723.47</td>\n",
       "    </tr>\n",
       "    <tr>\n",
       "      <th>3</th>\n",
       "      <td>1</td>\n",
       "      <td>10</td>\n",
       "      <td>2</td>\n",
       "      <td>5809.91</td>\n",
       "    </tr>\n",
       "    <tr>\n",
       "      <th>4</th>\n",
       "      <td>1</td>\n",
       "      <td>11</td>\n",
       "      <td>3</td>\n",
       "      <td>7003.50</td>\n",
       "    </tr>\n",
       "    <tr>\n",
       "      <th>...</th>\n",
       "      <td>...</td>\n",
       "      <td>...</td>\n",
       "      <td>...</td>\n",
       "      <td>...</td>\n",
       "    </tr>\n",
       "    <tr>\n",
       "      <th>4528</th>\n",
       "      <td>699</td>\n",
       "      <td>6</td>\n",
       "      <td>1</td>\n",
       "      <td>4072.80</td>\n",
       "    </tr>\n",
       "    <tr>\n",
       "      <th>4529</th>\n",
       "      <td>699</td>\n",
       "      <td>8</td>\n",
       "      <td>2</td>\n",
       "      <td>7018.32</td>\n",
       "    </tr>\n",
       "    <tr>\n",
       "      <th>4530</th>\n",
       "      <td>699</td>\n",
       "      <td>9</td>\n",
       "      <td>2</td>\n",
       "      <td>6364.86</td>\n",
       "    </tr>\n",
       "    <tr>\n",
       "      <th>4531</th>\n",
       "      <td>699</td>\n",
       "      <td>10</td>\n",
       "      <td>1</td>\n",
       "      <td>4707.85</td>\n",
       "    </tr>\n",
       "    <tr>\n",
       "      <th>4532</th>\n",
       "      <td>699</td>\n",
       "      <td>12</td>\n",
       "      <td>1</td>\n",
       "      <td>3202.89</td>\n",
       "    </tr>\n",
       "  </tbody>\n",
       "</table>\n",
       "<p>4533 rows × 4 columns</p>\n",
       "</div>"
      ],
      "text/plain": [
       "      user_id  month  count_date  distance\n",
       "0           1      1           2   7027.51\n",
       "1           1      4           1    754.16\n",
       "2           1      8           2   6723.47\n",
       "3           1     10           2   5809.91\n",
       "4           1     11           3   7003.50\n",
       "...       ...    ...         ...       ...\n",
       "4528      699      6           1   4072.80\n",
       "4529      699      8           2   7018.32\n",
       "4530      699      9           2   6364.86\n",
       "4531      699     10           1   4707.85\n",
       "4532      699     12           1   3202.89\n",
       "\n",
       "[4533 rows x 4 columns]"
      ]
     },
     "execution_count": 51,
     "metadata": {},
     "output_type": "execute_result"
    }
   ],
   "source": [
    "# для пользователей с подпиской:\n",
    "\n",
    "ultra_users['month'] = ultra_users['date'].dt.month\n",
    "\n",
    "ultra_users_pivot= (ultra_users.pivot_table(index=['user_id', 'month'],\n",
    "                    values=['distance', 'date'],\n",
    "                    aggfunc={'date':'count','distance':'sum'}))\n",
    "ultra_users_pivot.rename(columns={'date':'count_date'}, inplace=True)\n",
    "ultra_users_pivot.reset_index(inplace=True)\n",
    "ultra_users_pivot\n",
    "\n",
    "\n"
   ]
  },
  {
   "cell_type": "code",
   "execution_count": 52,
   "id": "77417ec1",
   "metadata": {},
   "outputs": [
    {
     "data": {
      "text/html": [
       "<div>\n",
       "<style scoped>\n",
       "    .dataframe tbody tr th:only-of-type {\n",
       "        vertical-align: middle;\n",
       "    }\n",
       "\n",
       "    .dataframe tbody tr th {\n",
       "        vertical-align: top;\n",
       "    }\n",
       "\n",
       "    .dataframe thead th {\n",
       "        text-align: right;\n",
       "    }\n",
       "</style>\n",
       "<table border=\"1\" class=\"dataframe\">\n",
       "  <thead>\n",
       "    <tr style=\"text-align: right;\">\n",
       "      <th></th>\n",
       "      <th>user_id</th>\n",
       "      <th>month</th>\n",
       "      <th>count_date</th>\n",
       "      <th>distance</th>\n",
       "    </tr>\n",
       "  </thead>\n",
       "  <tbody>\n",
       "    <tr>\n",
       "      <th>0</th>\n",
       "      <td>700</td>\n",
       "      <td>1</td>\n",
       "      <td>1</td>\n",
       "      <td>2515.69</td>\n",
       "    </tr>\n",
       "    <tr>\n",
       "      <th>1</th>\n",
       "      <td>700</td>\n",
       "      <td>2</td>\n",
       "      <td>5</td>\n",
       "      <td>13446.66</td>\n",
       "    </tr>\n",
       "    <tr>\n",
       "      <th>2</th>\n",
       "      <td>700</td>\n",
       "      <td>3</td>\n",
       "      <td>1</td>\n",
       "      <td>3798.33</td>\n",
       "    </tr>\n",
       "    <tr>\n",
       "      <th>3</th>\n",
       "      <td>700</td>\n",
       "      <td>4</td>\n",
       "      <td>1</td>\n",
       "      <td>2984.55</td>\n",
       "    </tr>\n",
       "    <tr>\n",
       "      <th>4</th>\n",
       "      <td>700</td>\n",
       "      <td>6</td>\n",
       "      <td>2</td>\n",
       "      <td>5927.65</td>\n",
       "    </tr>\n",
       "    <tr>\n",
       "      <th>...</th>\n",
       "      <td>...</td>\n",
       "      <td>...</td>\n",
       "      <td>...</td>\n",
       "      <td>...</td>\n",
       "    </tr>\n",
       "    <tr>\n",
       "      <th>6762</th>\n",
       "      <td>1534</td>\n",
       "      <td>6</td>\n",
       "      <td>2</td>\n",
       "      <td>3409.47</td>\n",
       "    </tr>\n",
       "    <tr>\n",
       "      <th>6763</th>\n",
       "      <td>1534</td>\n",
       "      <td>8</td>\n",
       "      <td>2</td>\n",
       "      <td>7622.45</td>\n",
       "    </tr>\n",
       "    <tr>\n",
       "      <th>6764</th>\n",
       "      <td>1534</td>\n",
       "      <td>9</td>\n",
       "      <td>1</td>\n",
       "      <td>4928.17</td>\n",
       "    </tr>\n",
       "    <tr>\n",
       "      <th>6765</th>\n",
       "      <td>1534</td>\n",
       "      <td>11</td>\n",
       "      <td>4</td>\n",
       "      <td>13350.02</td>\n",
       "    </tr>\n",
       "    <tr>\n",
       "      <th>6766</th>\n",
       "      <td>1534</td>\n",
       "      <td>12</td>\n",
       "      <td>1</td>\n",
       "      <td>2371.71</td>\n",
       "    </tr>\n",
       "  </tbody>\n",
       "</table>\n",
       "<p>6767 rows × 4 columns</p>\n",
       "</div>"
      ],
      "text/plain": [
       "      user_id  month  count_date  distance\n",
       "0         700      1           1   2515.69\n",
       "1         700      2           5  13446.66\n",
       "2         700      3           1   3798.33\n",
       "3         700      4           1   2984.55\n",
       "4         700      6           2   5927.65\n",
       "...       ...    ...         ...       ...\n",
       "6762     1534      6           2   3409.47\n",
       "6763     1534      8           2   7622.45\n",
       "6764     1534      9           1   4928.17\n",
       "6765     1534     11           4  13350.02\n",
       "6766     1534     12           1   2371.71\n",
       "\n",
       "[6767 rows x 4 columns]"
      ]
     },
     "execution_count": 52,
     "metadata": {},
     "output_type": "execute_result"
    }
   ],
   "source": [
    "# для пользователей без подписки:\n",
    "\n",
    "free_users['month'] = free_users['date'].dt.month\n",
    "\n",
    "free_users_pivot= (free_users.pivot_table(index=['user_id', 'month'],\n",
    "                    values=['distance', 'date'],\n",
    "                    aggfunc={'date':'count','distance':'sum'}))\n",
    "free_users_pivot.rename(columns={'date':'count_date'}, inplace=True)\n",
    "free_users_pivot.reset_index(inplace=True)\n",
    "free_users_pivot\n",
    "\n"
   ]
  },
  {
   "cell_type": "markdown",
   "id": "eabf54f0",
   "metadata": {},
   "source": [
    "##### количество поездок  для каждого пользователя за каждый месяц"
   ]
  },
  {
   "cell_type": "code",
   "execution_count": 53,
   "id": "e6434f44",
   "metadata": {
    "scrolled": false
   },
   "outputs": [
    {
     "data": {
      "text/html": [
       "<div>\n",
       "<style scoped>\n",
       "    .dataframe tbody tr th:only-of-type {\n",
       "        vertical-align: middle;\n",
       "    }\n",
       "\n",
       "    .dataframe tbody tr th {\n",
       "        vertical-align: top;\n",
       "    }\n",
       "\n",
       "    .dataframe thead th {\n",
       "        text-align: right;\n",
       "    }\n",
       "</style>\n",
       "<table border=\"1\" class=\"dataframe\">\n",
       "  <thead>\n",
       "    <tr style=\"text-align: right;\">\n",
       "      <th></th>\n",
       "      <th>user_id</th>\n",
       "      <th>month</th>\n",
       "      <th>count_date</th>\n",
       "    </tr>\n",
       "  </thead>\n",
       "  <tbody>\n",
       "    <tr>\n",
       "      <th>0</th>\n",
       "      <td>1</td>\n",
       "      <td>1</td>\n",
       "      <td>2</td>\n",
       "    </tr>\n",
       "    <tr>\n",
       "      <th>1</th>\n",
       "      <td>1</td>\n",
       "      <td>4</td>\n",
       "      <td>1</td>\n",
       "    </tr>\n",
       "    <tr>\n",
       "      <th>2</th>\n",
       "      <td>1</td>\n",
       "      <td>8</td>\n",
       "      <td>2</td>\n",
       "    </tr>\n",
       "    <tr>\n",
       "      <th>3</th>\n",
       "      <td>1</td>\n",
       "      <td>10</td>\n",
       "      <td>2</td>\n",
       "    </tr>\n",
       "    <tr>\n",
       "      <th>4</th>\n",
       "      <td>1</td>\n",
       "      <td>11</td>\n",
       "      <td>3</td>\n",
       "    </tr>\n",
       "    <tr>\n",
       "      <th>5</th>\n",
       "      <td>1</td>\n",
       "      <td>12</td>\n",
       "      <td>2</td>\n",
       "    </tr>\n",
       "    <tr>\n",
       "      <th>6</th>\n",
       "      <td>2</td>\n",
       "      <td>3</td>\n",
       "      <td>3</td>\n",
       "    </tr>\n",
       "    <tr>\n",
       "      <th>7</th>\n",
       "      <td>2</td>\n",
       "      <td>4</td>\n",
       "      <td>2</td>\n",
       "    </tr>\n",
       "    <tr>\n",
       "      <th>8</th>\n",
       "      <td>2</td>\n",
       "      <td>6</td>\n",
       "      <td>1</td>\n",
       "    </tr>\n",
       "    <tr>\n",
       "      <th>9</th>\n",
       "      <td>2</td>\n",
       "      <td>7</td>\n",
       "      <td>2</td>\n",
       "    </tr>\n",
       "  </tbody>\n",
       "</table>\n",
       "</div>"
      ],
      "text/plain": [
       "   user_id  month  count_date\n",
       "0        1      1           2\n",
       "1        1      4           1\n",
       "2        1      8           2\n",
       "3        1     10           2\n",
       "4        1     11           3\n",
       "5        1     12           2\n",
       "6        2      3           3\n",
       "7        2      4           2\n",
       "8        2      6           1\n",
       "9        2      7           2"
      ]
     },
     "execution_count": 53,
     "metadata": {},
     "output_type": "execute_result"
    }
   ],
   "source": [
    "# для пользователей с подпиской:\n",
    "\n",
    "ultra_users_pivot= (ultra_users.pivot_table(index=['user_id', 'month'],\n",
    "                    #values=['user_id', 'date'],\n",
    "                    aggfunc={'date':'count'}))\n",
    "ultra_users_pivot.rename(columns={'date':'count_date'}, inplace=True)\n",
    "ultra_users_pivot.reset_index(inplace=True)\n",
    "ultra_users_pivot.head(10)\n"
   ]
  },
  {
   "cell_type": "code",
   "execution_count": 54,
   "id": "a3e7fdb4",
   "metadata": {},
   "outputs": [
    {
     "data": {
      "text/html": [
       "<div>\n",
       "<style scoped>\n",
       "    .dataframe tbody tr th:only-of-type {\n",
       "        vertical-align: middle;\n",
       "    }\n",
       "\n",
       "    .dataframe tbody tr th {\n",
       "        vertical-align: top;\n",
       "    }\n",
       "\n",
       "    .dataframe thead th {\n",
       "        text-align: right;\n",
       "    }\n",
       "</style>\n",
       "<table border=\"1\" class=\"dataframe\">\n",
       "  <thead>\n",
       "    <tr style=\"text-align: right;\">\n",
       "      <th></th>\n",
       "      <th>user_id</th>\n",
       "      <th>month</th>\n",
       "      <th>count_date</th>\n",
       "    </tr>\n",
       "  </thead>\n",
       "  <tbody>\n",
       "    <tr>\n",
       "      <th>0</th>\n",
       "      <td>700</td>\n",
       "      <td>1</td>\n",
       "      <td>1</td>\n",
       "    </tr>\n",
       "    <tr>\n",
       "      <th>1</th>\n",
       "      <td>700</td>\n",
       "      <td>2</td>\n",
       "      <td>5</td>\n",
       "    </tr>\n",
       "    <tr>\n",
       "      <th>2</th>\n",
       "      <td>700</td>\n",
       "      <td>3</td>\n",
       "      <td>1</td>\n",
       "    </tr>\n",
       "    <tr>\n",
       "      <th>3</th>\n",
       "      <td>700</td>\n",
       "      <td>4</td>\n",
       "      <td>1</td>\n",
       "    </tr>\n",
       "    <tr>\n",
       "      <th>4</th>\n",
       "      <td>700</td>\n",
       "      <td>6</td>\n",
       "      <td>2</td>\n",
       "    </tr>\n",
       "    <tr>\n",
       "      <th>5</th>\n",
       "      <td>700</td>\n",
       "      <td>7</td>\n",
       "      <td>2</td>\n",
       "    </tr>\n",
       "    <tr>\n",
       "      <th>6</th>\n",
       "      <td>700</td>\n",
       "      <td>8</td>\n",
       "      <td>1</td>\n",
       "    </tr>\n",
       "    <tr>\n",
       "      <th>7</th>\n",
       "      <td>700</td>\n",
       "      <td>10</td>\n",
       "      <td>2</td>\n",
       "    </tr>\n",
       "    <tr>\n",
       "      <th>8</th>\n",
       "      <td>700</td>\n",
       "      <td>11</td>\n",
       "      <td>3</td>\n",
       "    </tr>\n",
       "    <tr>\n",
       "      <th>9</th>\n",
       "      <td>701</td>\n",
       "      <td>1</td>\n",
       "      <td>1</td>\n",
       "    </tr>\n",
       "  </tbody>\n",
       "</table>\n",
       "</div>"
      ],
      "text/plain": [
       "   user_id  month  count_date\n",
       "0      700      1           1\n",
       "1      700      2           5\n",
       "2      700      3           1\n",
       "3      700      4           1\n",
       "4      700      6           2\n",
       "5      700      7           2\n",
       "6      700      8           1\n",
       "7      700     10           2\n",
       "8      700     11           3\n",
       "9      701      1           1"
      ]
     },
     "execution_count": 54,
     "metadata": {},
     "output_type": "execute_result"
    }
   ],
   "source": [
    "# для пользователей без подписки:\n",
    "\n",
    "free_users_pivot= (free_users.pivot_table(index=['user_id', 'month'],\n",
    "                    #values=['user_id', 'date'],\n",
    "                    aggfunc={'date':'count'}))\n",
    "free_users_pivot.rename(columns={'date':'count_date'}, inplace=True)\n",
    "free_users_pivot.reset_index(inplace=True)\n",
    "free_users_pivot.head(10)"
   ]
  },
  {
   "cell_type": "markdown",
   "id": "88b76f09",
   "metadata": {},
   "source": [
    "##### суммарное время для каждого пользователя за каждый месяц"
   ]
  },
  {
   "cell_type": "code",
   "execution_count": 55,
   "id": "4dc0fb9f",
   "metadata": {
    "scrolled": true
   },
   "outputs": [
    {
     "data": {
      "text/html": [
       "<div>\n",
       "<style scoped>\n",
       "    .dataframe tbody tr th:only-of-type {\n",
       "        vertical-align: middle;\n",
       "    }\n",
       "\n",
       "    .dataframe tbody tr th {\n",
       "        vertical-align: top;\n",
       "    }\n",
       "\n",
       "    .dataframe thead th {\n",
       "        text-align: right;\n",
       "    }\n",
       "</style>\n",
       "<table border=\"1\" class=\"dataframe\">\n",
       "  <thead>\n",
       "    <tr style=\"text-align: right;\">\n",
       "      <th></th>\n",
       "      <th>user_id</th>\n",
       "      <th>month</th>\n",
       "      <th>count_date</th>\n",
       "      <th>duration</th>\n",
       "    </tr>\n",
       "  </thead>\n",
       "  <tbody>\n",
       "    <tr>\n",
       "      <th>0</th>\n",
       "      <td>1</td>\n",
       "      <td>1</td>\n",
       "      <td>2</td>\n",
       "      <td>42</td>\n",
       "    </tr>\n",
       "    <tr>\n",
       "      <th>1</th>\n",
       "      <td>1</td>\n",
       "      <td>4</td>\n",
       "      <td>1</td>\n",
       "      <td>7</td>\n",
       "    </tr>\n",
       "    <tr>\n",
       "      <th>2</th>\n",
       "      <td>1</td>\n",
       "      <td>8</td>\n",
       "      <td>2</td>\n",
       "      <td>46</td>\n",
       "    </tr>\n",
       "    <tr>\n",
       "      <th>3</th>\n",
       "      <td>1</td>\n",
       "      <td>10</td>\n",
       "      <td>2</td>\n",
       "      <td>32</td>\n",
       "    </tr>\n",
       "    <tr>\n",
       "      <th>4</th>\n",
       "      <td>1</td>\n",
       "      <td>11</td>\n",
       "      <td>3</td>\n",
       "      <td>56</td>\n",
       "    </tr>\n",
       "    <tr>\n",
       "      <th>5</th>\n",
       "      <td>1</td>\n",
       "      <td>12</td>\n",
       "      <td>2</td>\n",
       "      <td>28</td>\n",
       "    </tr>\n",
       "    <tr>\n",
       "      <th>6</th>\n",
       "      <td>2</td>\n",
       "      <td>3</td>\n",
       "      <td>3</td>\n",
       "      <td>63</td>\n",
       "    </tr>\n",
       "    <tr>\n",
       "      <th>7</th>\n",
       "      <td>2</td>\n",
       "      <td>4</td>\n",
       "      <td>2</td>\n",
       "      <td>40</td>\n",
       "    </tr>\n",
       "    <tr>\n",
       "      <th>8</th>\n",
       "      <td>2</td>\n",
       "      <td>6</td>\n",
       "      <td>1</td>\n",
       "      <td>14</td>\n",
       "    </tr>\n",
       "    <tr>\n",
       "      <th>9</th>\n",
       "      <td>2</td>\n",
       "      <td>7</td>\n",
       "      <td>2</td>\n",
       "      <td>48</td>\n",
       "    </tr>\n",
       "  </tbody>\n",
       "</table>\n",
       "</div>"
      ],
      "text/plain": [
       "   user_id  month  count_date  duration\n",
       "0        1      1           2        42\n",
       "1        1      4           1         7\n",
       "2        1      8           2        46\n",
       "3        1     10           2        32\n",
       "4        1     11           3        56\n",
       "5        1     12           2        28\n",
       "6        2      3           3        63\n",
       "7        2      4           2        40\n",
       "8        2      6           1        14\n",
       "9        2      7           2        48"
      ]
     },
     "execution_count": 55,
     "metadata": {},
     "output_type": "execute_result"
    }
   ],
   "source": [
    "# для пользователей с подпиской:\n",
    "\n",
    "ultra_users_pivot= (ultra_users.pivot_table(index=['user_id', 'month'],\n",
    "                    values=['duration', 'date'],\n",
    "                    aggfunc={'date':'count','duration':'sum'}))\n",
    "ultra_users_pivot.rename(columns={'date':'count_date'}, inplace=True)\n",
    "ultra_users_pivot.reset_index(inplace=True)\n",
    "ultra_users_pivot.head(10)\n",
    "\n",
    "\n"
   ]
  },
  {
   "cell_type": "code",
   "execution_count": 56,
   "id": "b66ea19c",
   "metadata": {
    "scrolled": true
   },
   "outputs": [
    {
     "data": {
      "text/html": [
       "<div>\n",
       "<style scoped>\n",
       "    .dataframe tbody tr th:only-of-type {\n",
       "        vertical-align: middle;\n",
       "    }\n",
       "\n",
       "    .dataframe tbody tr th {\n",
       "        vertical-align: top;\n",
       "    }\n",
       "\n",
       "    .dataframe thead th {\n",
       "        text-align: right;\n",
       "    }\n",
       "</style>\n",
       "<table border=\"1\" class=\"dataframe\">\n",
       "  <thead>\n",
       "    <tr style=\"text-align: right;\">\n",
       "      <th></th>\n",
       "      <th>user_id</th>\n",
       "      <th>month</th>\n",
       "      <th>count_date</th>\n",
       "      <th>duration</th>\n",
       "    </tr>\n",
       "  </thead>\n",
       "  <tbody>\n",
       "    <tr>\n",
       "      <th>0</th>\n",
       "      <td>700</td>\n",
       "      <td>1</td>\n",
       "      <td>1</td>\n",
       "      <td>15</td>\n",
       "    </tr>\n",
       "    <tr>\n",
       "      <th>1</th>\n",
       "      <td>700</td>\n",
       "      <td>2</td>\n",
       "      <td>5</td>\n",
       "      <td>89</td>\n",
       "    </tr>\n",
       "    <tr>\n",
       "      <th>2</th>\n",
       "      <td>700</td>\n",
       "      <td>3</td>\n",
       "      <td>1</td>\n",
       "      <td>19</td>\n",
       "    </tr>\n",
       "    <tr>\n",
       "      <th>3</th>\n",
       "      <td>700</td>\n",
       "      <td>4</td>\n",
       "      <td>1</td>\n",
       "      <td>16</td>\n",
       "    </tr>\n",
       "    <tr>\n",
       "      <th>4</th>\n",
       "      <td>700</td>\n",
       "      <td>6</td>\n",
       "      <td>2</td>\n",
       "      <td>29</td>\n",
       "    </tr>\n",
       "    <tr>\n",
       "      <th>5</th>\n",
       "      <td>700</td>\n",
       "      <td>7</td>\n",
       "      <td>2</td>\n",
       "      <td>21</td>\n",
       "    </tr>\n",
       "    <tr>\n",
       "      <th>6</th>\n",
       "      <td>700</td>\n",
       "      <td>8</td>\n",
       "      <td>1</td>\n",
       "      <td>17</td>\n",
       "    </tr>\n",
       "    <tr>\n",
       "      <th>7</th>\n",
       "      <td>700</td>\n",
       "      <td>10</td>\n",
       "      <td>2</td>\n",
       "      <td>44</td>\n",
       "    </tr>\n",
       "    <tr>\n",
       "      <th>8</th>\n",
       "      <td>700</td>\n",
       "      <td>11</td>\n",
       "      <td>3</td>\n",
       "      <td>32</td>\n",
       "    </tr>\n",
       "    <tr>\n",
       "      <th>9</th>\n",
       "      <td>701</td>\n",
       "      <td>1</td>\n",
       "      <td>1</td>\n",
       "      <td>18</td>\n",
       "    </tr>\n",
       "  </tbody>\n",
       "</table>\n",
       "</div>"
      ],
      "text/plain": [
       "   user_id  month  count_date  duration\n",
       "0      700      1           1        15\n",
       "1      700      2           5        89\n",
       "2      700      3           1        19\n",
       "3      700      4           1        16\n",
       "4      700      6           2        29\n",
       "5      700      7           2        21\n",
       "6      700      8           1        17\n",
       "7      700     10           2        44\n",
       "8      700     11           3        32\n",
       "9      701      1           1        18"
      ]
     },
     "execution_count": 56,
     "metadata": {},
     "output_type": "execute_result"
    }
   ],
   "source": [
    "# для пользователей без подписки:\n",
    "\n",
    "free_users_pivot= (free_users.pivot_table(index=['user_id', 'month'],\n",
    "                    values=['duration', 'date'],\n",
    "                    aggfunc={'date':'count','duration':'sum'}))\n",
    "free_users_pivot.rename(columns={'date':'count_date'}, inplace=True)\n",
    "free_users_pivot.reset_index(inplace=True)\n",
    "free_users_pivot.head(10)\n"
   ]
  },
  {
   "cell_type": "markdown",
   "id": "282e46fa",
   "metadata": {},
   "source": [
    "Посмотрим на цифры для пользователей самокатов с подпиской и без подписки:\n"
   ]
  },
  {
   "cell_type": "code",
   "execution_count": 57,
   "id": "73db0742",
   "metadata": {
    "scrolled": true
   },
   "outputs": [
    {
     "data": {
      "text/html": [
       "<div>\n",
       "<style scoped>\n",
       "    .dataframe tbody tr th:only-of-type {\n",
       "        vertical-align: middle;\n",
       "    }\n",
       "\n",
       "    .dataframe tbody tr th {\n",
       "        vertical-align: top;\n",
       "    }\n",
       "\n",
       "    .dataframe thead th {\n",
       "        text-align: right;\n",
       "    }\n",
       "</style>\n",
       "<table border=\"1\" class=\"dataframe\">\n",
       "  <thead>\n",
       "    <tr style=\"text-align: right;\">\n",
       "      <th></th>\n",
       "      <th>user_id</th>\n",
       "      <th>month</th>\n",
       "      <th>count_date</th>\n",
       "      <th>duration</th>\n",
       "    </tr>\n",
       "  </thead>\n",
       "  <tbody>\n",
       "    <tr>\n",
       "      <th>count</th>\n",
       "      <td>4533.00</td>\n",
       "      <td>4533.00</td>\n",
       "      <td>4533.00</td>\n",
       "      <td>4533.00</td>\n",
       "    </tr>\n",
       "    <tr>\n",
       "      <th>mean</th>\n",
       "      <td>347.77</td>\n",
       "      <td>6.43</td>\n",
       "      <td>1.43</td>\n",
       "      <td>27.30</td>\n",
       "    </tr>\n",
       "    <tr>\n",
       "      <th>std</th>\n",
       "      <td>200.43</td>\n",
       "      <td>3.42</td>\n",
       "      <td>0.70</td>\n",
       "      <td>14.71</td>\n",
       "    </tr>\n",
       "    <tr>\n",
       "      <th>min</th>\n",
       "      <td>1.00</td>\n",
       "      <td>1.00</td>\n",
       "      <td>1.00</td>\n",
       "      <td>4.00</td>\n",
       "    </tr>\n",
       "    <tr>\n",
       "      <th>25%</th>\n",
       "      <td>174.00</td>\n",
       "      <td>3.00</td>\n",
       "      <td>1.00</td>\n",
       "      <td>17.00</td>\n",
       "    </tr>\n",
       "    <tr>\n",
       "      <th>50%</th>\n",
       "      <td>348.00</td>\n",
       "      <td>6.00</td>\n",
       "      <td>1.00</td>\n",
       "      <td>23.00</td>\n",
       "    </tr>\n",
       "    <tr>\n",
       "      <th>75%</th>\n",
       "      <td>523.00</td>\n",
       "      <td>9.00</td>\n",
       "      <td>2.00</td>\n",
       "      <td>35.00</td>\n",
       "    </tr>\n",
       "    <tr>\n",
       "      <th>max</th>\n",
       "      <td>699.00</td>\n",
       "      <td>12.00</td>\n",
       "      <td>6.00</td>\n",
       "      <td>126.00</td>\n",
       "    </tr>\n",
       "  </tbody>\n",
       "</table>\n",
       "</div>"
      ],
      "text/plain": [
       "       user_id   month  count_date  duration\n",
       "count  4533.00 4533.00     4533.00   4533.00\n",
       "mean    347.77    6.43        1.43     27.30\n",
       "std     200.43    3.42        0.70     14.71\n",
       "min       1.00    1.00        1.00      4.00\n",
       "25%     174.00    3.00        1.00     17.00\n",
       "50%     348.00    6.00        1.00     23.00\n",
       "75%     523.00    9.00        2.00     35.00\n",
       "max     699.00   12.00        6.00    126.00"
      ]
     },
     "execution_count": 57,
     "metadata": {},
     "output_type": "execute_result"
    }
   ],
   "source": [
    "ultra_users_pivot.describe()"
   ]
  },
  {
   "cell_type": "code",
   "execution_count": 58,
   "id": "91b51179",
   "metadata": {
    "scrolled": false
   },
   "outputs": [
    {
     "data": {
      "text/html": [
       "<div>\n",
       "<style scoped>\n",
       "    .dataframe tbody tr th:only-of-type {\n",
       "        vertical-align: middle;\n",
       "    }\n",
       "\n",
       "    .dataframe tbody tr th {\n",
       "        vertical-align: top;\n",
       "    }\n",
       "\n",
       "    .dataframe thead th {\n",
       "        text-align: right;\n",
       "    }\n",
       "</style>\n",
       "<table border=\"1\" class=\"dataframe\">\n",
       "  <thead>\n",
       "    <tr style=\"text-align: right;\">\n",
       "      <th></th>\n",
       "      <th>user_id</th>\n",
       "      <th>month</th>\n",
       "      <th>count_date</th>\n",
       "      <th>duration</th>\n",
       "    </tr>\n",
       "  </thead>\n",
       "  <tbody>\n",
       "    <tr>\n",
       "      <th>count</th>\n",
       "      <td>6767.00</td>\n",
       "      <td>6767.00</td>\n",
       "      <td>6767.00</td>\n",
       "      <td>6767.00</td>\n",
       "    </tr>\n",
       "    <tr>\n",
       "      <th>mean</th>\n",
       "      <td>1120.08</td>\n",
       "      <td>6.51</td>\n",
       "      <td>1.70</td>\n",
       "      <td>30.57</td>\n",
       "    </tr>\n",
       "    <tr>\n",
       "      <th>std</th>\n",
       "      <td>240.45</td>\n",
       "      <td>3.46</td>\n",
       "      <td>0.89</td>\n",
       "      <td>17.81</td>\n",
       "    </tr>\n",
       "    <tr>\n",
       "      <th>min</th>\n",
       "      <td>700.00</td>\n",
       "      <td>1.00</td>\n",
       "      <td>1.00</td>\n",
       "      <td>3.00</td>\n",
       "    </tr>\n",
       "    <tr>\n",
       "      <th>25%</th>\n",
       "      <td>915.00</td>\n",
       "      <td>4.00</td>\n",
       "      <td>1.00</td>\n",
       "      <td>18.00</td>\n",
       "    </tr>\n",
       "    <tr>\n",
       "      <th>50%</th>\n",
       "      <td>1120.00</td>\n",
       "      <td>7.00</td>\n",
       "      <td>1.00</td>\n",
       "      <td>26.00</td>\n",
       "    </tr>\n",
       "    <tr>\n",
       "      <th>75%</th>\n",
       "      <td>1326.00</td>\n",
       "      <td>9.00</td>\n",
       "      <td>2.00</td>\n",
       "      <td>40.00</td>\n",
       "    </tr>\n",
       "    <tr>\n",
       "      <th>max</th>\n",
       "      <td>1534.00</td>\n",
       "      <td>12.00</td>\n",
       "      <td>7.00</td>\n",
       "      <td>143.00</td>\n",
       "    </tr>\n",
       "  </tbody>\n",
       "</table>\n",
       "</div>"
      ],
      "text/plain": [
       "       user_id   month  count_date  duration\n",
       "count  6767.00 6767.00     6767.00   6767.00\n",
       "mean   1120.08    6.51        1.70     30.57\n",
       "std     240.45    3.46        0.89     17.81\n",
       "min     700.00    1.00        1.00      3.00\n",
       "25%     915.00    4.00        1.00     18.00\n",
       "50%    1120.00    7.00        1.00     26.00\n",
       "75%    1326.00    9.00        2.00     40.00\n",
       "max    1534.00   12.00        7.00    143.00"
      ]
     },
     "execution_count": 58,
     "metadata": {},
     "output_type": "execute_result"
    }
   ],
   "source": [
    "free_users_pivot.describe()"
   ]
  },
  {
   "cell_type": "markdown",
   "id": "36fab9c9",
   "metadata": {},
   "source": [
    "Пользователи без подписки используют самокат в среднем на 3 минуты дольше\n",
    ", чем пользователи с подпиской. Только четверть всех пользователей предпочли использование самокатов два и более раза.\n"
   ]
  },
  {
   "cell_type": "code",
   "execution_count": 59,
   "id": "79b8ca12",
   "metadata": {
    "scrolled": true
   },
   "outputs": [
    {
     "data": {
      "text/html": [
       "<div>\n",
       "<style scoped>\n",
       "    .dataframe tbody tr th:only-of-type {\n",
       "        vertical-align: middle;\n",
       "    }\n",
       "\n",
       "    .dataframe tbody tr th {\n",
       "        vertical-align: top;\n",
       "    }\n",
       "\n",
       "    .dataframe thead th {\n",
       "        text-align: right;\n",
       "    }\n",
       "</style>\n",
       "<table border=\"1\" class=\"dataframe\">\n",
       "  <thead>\n",
       "    <tr style=\"text-align: right;\">\n",
       "      <th></th>\n",
       "      <th>user_id</th>\n",
       "      <th>age</th>\n",
       "      <th>distance</th>\n",
       "      <th>duration</th>\n",
       "      <th>month</th>\n",
       "      <th>minute_price</th>\n",
       "      <th>start_ride_price</th>\n",
       "      <th>subscription_fee</th>\n",
       "    </tr>\n",
       "  </thead>\n",
       "  <tbody>\n",
       "    <tr>\n",
       "      <th>count</th>\n",
       "      <td>6500.00</td>\n",
       "      <td>6500.00</td>\n",
       "      <td>6500.00</td>\n",
       "      <td>6500.00</td>\n",
       "      <td>6500.00</td>\n",
       "      <td>6500.00</td>\n",
       "      <td>6500.00</td>\n",
       "      <td>6500.00</td>\n",
       "    </tr>\n",
       "    <tr>\n",
       "      <th>mean</th>\n",
       "      <td>348.73</td>\n",
       "      <td>24.89</td>\n",
       "      <td>3115.45</td>\n",
       "      <td>19.04</td>\n",
       "      <td>6.42</td>\n",
       "      <td>6.00</td>\n",
       "      <td>0.00</td>\n",
       "      <td>199.00</td>\n",
       "    </tr>\n",
       "    <tr>\n",
       "      <th>std</th>\n",
       "      <td>201.10</td>\n",
       "      <td>4.76</td>\n",
       "      <td>836.90</td>\n",
       "      <td>5.58</td>\n",
       "      <td>3.41</td>\n",
       "      <td>0.00</td>\n",
       "      <td>0.00</td>\n",
       "      <td>0.00</td>\n",
       "    </tr>\n",
       "    <tr>\n",
       "      <th>min</th>\n",
       "      <td>1.00</td>\n",
       "      <td>12.00</td>\n",
       "      <td>244.21</td>\n",
       "      <td>4.00</td>\n",
       "      <td>1.00</td>\n",
       "      <td>6.00</td>\n",
       "      <td>0.00</td>\n",
       "      <td>199.00</td>\n",
       "    </tr>\n",
       "    <tr>\n",
       "      <th>25%</th>\n",
       "      <td>175.00</td>\n",
       "      <td>22.00</td>\n",
       "      <td>2785.44</td>\n",
       "      <td>15.00</td>\n",
       "      <td>4.00</td>\n",
       "      <td>6.00</td>\n",
       "      <td>0.00</td>\n",
       "      <td>199.00</td>\n",
       "    </tr>\n",
       "    <tr>\n",
       "      <th>50%</th>\n",
       "      <td>351.00</td>\n",
       "      <td>25.00</td>\n",
       "      <td>3148.64</td>\n",
       "      <td>19.00</td>\n",
       "      <td>6.00</td>\n",
       "      <td>6.00</td>\n",
       "      <td>0.00</td>\n",
       "      <td>199.00</td>\n",
       "    </tr>\n",
       "    <tr>\n",
       "      <th>75%</th>\n",
       "      <td>525.00</td>\n",
       "      <td>28.00</td>\n",
       "      <td>3560.57</td>\n",
       "      <td>22.00</td>\n",
       "      <td>9.00</td>\n",
       "      <td>6.00</td>\n",
       "      <td>0.00</td>\n",
       "      <td>199.00</td>\n",
       "    </tr>\n",
       "    <tr>\n",
       "      <th>max</th>\n",
       "      <td>699.00</td>\n",
       "      <td>38.00</td>\n",
       "      <td>5699.77</td>\n",
       "      <td>41.00</td>\n",
       "      <td>12.00</td>\n",
       "      <td>6.00</td>\n",
       "      <td>0.00</td>\n",
       "      <td>199.00</td>\n",
       "    </tr>\n",
       "  </tbody>\n",
       "</table>\n",
       "</div>"
      ],
      "text/plain": [
       "       user_id     age  distance  duration   month  minute_price  \\\n",
       "count  6500.00 6500.00   6500.00   6500.00 6500.00       6500.00   \n",
       "mean    348.73   24.89   3115.45     19.04    6.42          6.00   \n",
       "std     201.10    4.76    836.90      5.58    3.41          0.00   \n",
       "min       1.00   12.00    244.21      4.00    1.00          6.00   \n",
       "25%     175.00   22.00   2785.44     15.00    4.00          6.00   \n",
       "50%     351.00   25.00   3148.64     19.00    6.00          6.00   \n",
       "75%     525.00   28.00   3560.57     22.00    9.00          6.00   \n",
       "max     699.00   38.00   5699.77     41.00   12.00          6.00   \n",
       "\n",
       "       start_ride_price  subscription_fee  \n",
       "count           6500.00           6500.00  \n",
       "mean               0.00            199.00  \n",
       "std                0.00              0.00  \n",
       "min                0.00            199.00  \n",
       "25%                0.00            199.00  \n",
       "50%                0.00            199.00  \n",
       "75%                0.00            199.00  \n",
       "max                0.00            199.00  "
      ]
     },
     "execution_count": 59,
     "metadata": {},
     "output_type": "execute_result"
    }
   ],
   "source": [
    "ultra_users.describe()"
   ]
  },
  {
   "cell_type": "markdown",
   "id": "005dbcf2",
   "metadata": {},
   "source": [
    "Среднее расстояние, которое проезжают клиенты с подпиской равно 3115 метров, длительность 19 минут,  a средний возраст 25 лет.\n",
    "\n"
   ]
  },
  {
   "cell_type": "markdown",
   "id": "963249dd",
   "metadata": {},
   "source": [
    "#####  Помесячная выручка\n"
   ]
  },
  {
   "cell_type": "markdown",
   "id": "373f4655",
   "metadata": {},
   "source": [
    "Pассчитаем суммарную выручку с каждого пользователя за каждый месяц и cоздадим таблицу с агрегированными данными о поездках на основе полученных ранее данных:\n",
    "\n",
    "\n"
   ]
  },
  {
   "cell_type": "code",
   "execution_count": 60,
   "id": "6f0de3db",
   "metadata": {
    "scrolled": true
   },
   "outputs": [
    {
     "data": {
      "text/html": [
       "<div>\n",
       "<style scoped>\n",
       "    .dataframe tbody tr th:only-of-type {\n",
       "        vertical-align: middle;\n",
       "    }\n",
       "\n",
       "    .dataframe tbody tr th {\n",
       "        vertical-align: top;\n",
       "    }\n",
       "\n",
       "    .dataframe thead th {\n",
       "        text-align: right;\n",
       "    }\n",
       "</style>\n",
       "<table border=\"1\" class=\"dataframe\">\n",
       "  <thead>\n",
       "    <tr style=\"text-align: right;\">\n",
       "      <th></th>\n",
       "      <th>user_id</th>\n",
       "      <th>name</th>\n",
       "      <th>age</th>\n",
       "      <th>city</th>\n",
       "      <th>subscription_type</th>\n",
       "      <th>month</th>\n",
       "      <th>total_distance</th>\n",
       "      <th>total_duration</th>\n",
       "      <th>total_rides_during_month</th>\n",
       "    </tr>\n",
       "  </thead>\n",
       "  <tbody>\n",
       "    <tr>\n",
       "      <th>0</th>\n",
       "      <td>1</td>\n",
       "      <td>Кира</td>\n",
       "      <td>22</td>\n",
       "      <td>Тюмень</td>\n",
       "      <td>ultra</td>\n",
       "      <td>1</td>\n",
       "      <td>7027.51</td>\n",
       "      <td>42</td>\n",
       "      <td>2</td>\n",
       "    </tr>\n",
       "    <tr>\n",
       "      <th>1</th>\n",
       "      <td>1</td>\n",
       "      <td>Кира</td>\n",
       "      <td>22</td>\n",
       "      <td>Тюмень</td>\n",
       "      <td>ultra</td>\n",
       "      <td>4</td>\n",
       "      <td>754.16</td>\n",
       "      <td>7</td>\n",
       "      <td>1</td>\n",
       "    </tr>\n",
       "    <tr>\n",
       "      <th>2</th>\n",
       "      <td>1</td>\n",
       "      <td>Кира</td>\n",
       "      <td>22</td>\n",
       "      <td>Тюмень</td>\n",
       "      <td>ultra</td>\n",
       "      <td>8</td>\n",
       "      <td>6723.47</td>\n",
       "      <td>46</td>\n",
       "      <td>2</td>\n",
       "    </tr>\n",
       "    <tr>\n",
       "      <th>3</th>\n",
       "      <td>1</td>\n",
       "      <td>Кира</td>\n",
       "      <td>22</td>\n",
       "      <td>Тюмень</td>\n",
       "      <td>ultra</td>\n",
       "      <td>10</td>\n",
       "      <td>5809.91</td>\n",
       "      <td>32</td>\n",
       "      <td>2</td>\n",
       "    </tr>\n",
       "    <tr>\n",
       "      <th>4</th>\n",
       "      <td>1</td>\n",
       "      <td>Кира</td>\n",
       "      <td>22</td>\n",
       "      <td>Тюмень</td>\n",
       "      <td>ultra</td>\n",
       "      <td>11</td>\n",
       "      <td>7003.50</td>\n",
       "      <td>56</td>\n",
       "      <td>3</td>\n",
       "    </tr>\n",
       "  </tbody>\n",
       "</table>\n",
       "</div>"
      ],
      "text/plain": [
       "   user_id  name  age    city subscription_type  month  total_distance  \\\n",
       "0        1  Кира   22  Тюмень             ultra      1         7027.51   \n",
       "1        1  Кира   22  Тюмень             ultra      4          754.16   \n",
       "2        1  Кира   22  Тюмень             ultra      8         6723.47   \n",
       "3        1  Кира   22  Тюмень             ultra     10         5809.91   \n",
       "4        1  Кира   22  Тюмень             ultra     11         7003.50   \n",
       "\n",
       "   total_duration  total_rides_during_month  \n",
       "0              42                         2  \n",
       "1               7                         1  \n",
       "2              46                         2  \n",
       "3              32                         2  \n",
       "4              56                         3  "
      ]
     },
     "execution_count": 60,
     "metadata": {},
     "output_type": "execute_result"
    }
   ],
   "source": [
    "all_data_pivot = (all_df.pivot_table(index=['user_id',  'name', 'age', 'city',  'subscription_type', 'month'],\n",
    "                  values= ['distance', 'duration'], \n",
    "                  aggfunc={ 'month':'count', 'distance':'sum','duration':'sum' }))\n",
    "all_data_pivot.rename(columns={'month':'total_rides_during_month', 'duration':'total_duration', 'distance':'total_distance', 'subscription_type':'subscription'}, inplace=True)\n",
    "all_data_pivot.reset_index(inplace=True)\n",
    "all_data_pivot.head()\n"
   ]
  },
  {
   "cell_type": "code",
   "execution_count": 61,
   "id": "b9a4c723",
   "metadata": {},
   "outputs": [
    {
     "data": {
      "text/html": [
       "<div>\n",
       "<style scoped>\n",
       "    .dataframe tbody tr th:only-of-type {\n",
       "        vertical-align: middle;\n",
       "    }\n",
       "\n",
       "    .dataframe tbody tr th {\n",
       "        vertical-align: top;\n",
       "    }\n",
       "\n",
       "    .dataframe thead th {\n",
       "        text-align: right;\n",
       "    }\n",
       "</style>\n",
       "<table border=\"1\" class=\"dataframe\">\n",
       "  <thead>\n",
       "    <tr style=\"text-align: right;\">\n",
       "      <th></th>\n",
       "      <th>user_id</th>\n",
       "      <th>name</th>\n",
       "      <th>age</th>\n",
       "      <th>city</th>\n",
       "      <th>subscription_type</th>\n",
       "      <th>month</th>\n",
       "      <th>total_distance</th>\n",
       "      <th>total_duration</th>\n",
       "      <th>total_rides_during_month</th>\n",
       "      <th>profit</th>\n",
       "    </tr>\n",
       "  </thead>\n",
       "  <tbody>\n",
       "    <tr>\n",
       "      <th>0</th>\n",
       "      <td>1</td>\n",
       "      <td>Кира</td>\n",
       "      <td>22</td>\n",
       "      <td>Тюмень</td>\n",
       "      <td>ultra</td>\n",
       "      <td>1</td>\n",
       "      <td>7027.51</td>\n",
       "      <td>42</td>\n",
       "      <td>2</td>\n",
       "      <td>451</td>\n",
       "    </tr>\n",
       "    <tr>\n",
       "      <th>1</th>\n",
       "      <td>1</td>\n",
       "      <td>Кира</td>\n",
       "      <td>22</td>\n",
       "      <td>Тюмень</td>\n",
       "      <td>ultra</td>\n",
       "      <td>4</td>\n",
       "      <td>754.16</td>\n",
       "      <td>7</td>\n",
       "      <td>1</td>\n",
       "      <td>241</td>\n",
       "    </tr>\n",
       "    <tr>\n",
       "      <th>2</th>\n",
       "      <td>1</td>\n",
       "      <td>Кира</td>\n",
       "      <td>22</td>\n",
       "      <td>Тюмень</td>\n",
       "      <td>ultra</td>\n",
       "      <td>8</td>\n",
       "      <td>6723.47</td>\n",
       "      <td>46</td>\n",
       "      <td>2</td>\n",
       "      <td>475</td>\n",
       "    </tr>\n",
       "    <tr>\n",
       "      <th>3</th>\n",
       "      <td>1</td>\n",
       "      <td>Кира</td>\n",
       "      <td>22</td>\n",
       "      <td>Тюмень</td>\n",
       "      <td>ultra</td>\n",
       "      <td>10</td>\n",
       "      <td>5809.91</td>\n",
       "      <td>32</td>\n",
       "      <td>2</td>\n",
       "      <td>391</td>\n",
       "    </tr>\n",
       "    <tr>\n",
       "      <th>4</th>\n",
       "      <td>1</td>\n",
       "      <td>Кира</td>\n",
       "      <td>22</td>\n",
       "      <td>Тюмень</td>\n",
       "      <td>ultra</td>\n",
       "      <td>11</td>\n",
       "      <td>7003.50</td>\n",
       "      <td>56</td>\n",
       "      <td>3</td>\n",
       "      <td>535</td>\n",
       "    </tr>\n",
       "    <tr>\n",
       "      <th>...</th>\n",
       "      <td>...</td>\n",
       "      <td>...</td>\n",
       "      <td>...</td>\n",
       "      <td>...</td>\n",
       "      <td>...</td>\n",
       "      <td>...</td>\n",
       "      <td>...</td>\n",
       "      <td>...</td>\n",
       "      <td>...</td>\n",
       "      <td>...</td>\n",
       "    </tr>\n",
       "    <tr>\n",
       "      <th>11295</th>\n",
       "      <td>1534</td>\n",
       "      <td>Альберт</td>\n",
       "      <td>25</td>\n",
       "      <td>Краснодар</td>\n",
       "      <td>free</td>\n",
       "      <td>6</td>\n",
       "      <td>3409.47</td>\n",
       "      <td>26</td>\n",
       "      <td>2</td>\n",
       "      <td>308</td>\n",
       "    </tr>\n",
       "    <tr>\n",
       "      <th>11296</th>\n",
       "      <td>1534</td>\n",
       "      <td>Альберт</td>\n",
       "      <td>25</td>\n",
       "      <td>Краснодар</td>\n",
       "      <td>free</td>\n",
       "      <td>8</td>\n",
       "      <td>7622.45</td>\n",
       "      <td>48</td>\n",
       "      <td>2</td>\n",
       "      <td>484</td>\n",
       "    </tr>\n",
       "    <tr>\n",
       "      <th>11297</th>\n",
       "      <td>1534</td>\n",
       "      <td>Альберт</td>\n",
       "      <td>25</td>\n",
       "      <td>Краснодар</td>\n",
       "      <td>free</td>\n",
       "      <td>9</td>\n",
       "      <td>4928.17</td>\n",
       "      <td>23</td>\n",
       "      <td>1</td>\n",
       "      <td>234</td>\n",
       "    </tr>\n",
       "    <tr>\n",
       "      <th>11298</th>\n",
       "      <td>1534</td>\n",
       "      <td>Альберт</td>\n",
       "      <td>25</td>\n",
       "      <td>Краснодар</td>\n",
       "      <td>free</td>\n",
       "      <td>11</td>\n",
       "      <td>13350.02</td>\n",
       "      <td>78</td>\n",
       "      <td>4</td>\n",
       "      <td>824</td>\n",
       "    </tr>\n",
       "    <tr>\n",
       "      <th>11299</th>\n",
       "      <td>1534</td>\n",
       "      <td>Альберт</td>\n",
       "      <td>25</td>\n",
       "      <td>Краснодар</td>\n",
       "      <td>free</td>\n",
       "      <td>12</td>\n",
       "      <td>2371.71</td>\n",
       "      <td>16</td>\n",
       "      <td>1</td>\n",
       "      <td>178</td>\n",
       "    </tr>\n",
       "  </tbody>\n",
       "</table>\n",
       "<p>11300 rows × 10 columns</p>\n",
       "</div>"
      ],
      "text/plain": [
       "       user_id     name  age       city subscription_type  month  \\\n",
       "0            1     Кира   22     Тюмень             ultra      1   \n",
       "1            1     Кира   22     Тюмень             ultra      4   \n",
       "2            1     Кира   22     Тюмень             ultra      8   \n",
       "3            1     Кира   22     Тюмень             ultra     10   \n",
       "4            1     Кира   22     Тюмень             ultra     11   \n",
       "...        ...      ...  ...        ...               ...    ...   \n",
       "11295     1534  Альберт   25  Краснодар              free      6   \n",
       "11296     1534  Альберт   25  Краснодар              free      8   \n",
       "11297     1534  Альберт   25  Краснодар              free      9   \n",
       "11298     1534  Альберт   25  Краснодар              free     11   \n",
       "11299     1534  Альберт   25  Краснодар              free     12   \n",
       "\n",
       "       total_distance  total_duration  total_rides_during_month  profit  \n",
       "0             7027.51              42                         2     451  \n",
       "1              754.16               7                         1     241  \n",
       "2             6723.47              46                         2     475  \n",
       "3             5809.91              32                         2     391  \n",
       "4             7003.50              56                         3     535  \n",
       "...               ...             ...                       ...     ...  \n",
       "11295         3409.47              26                         2     308  \n",
       "11296         7622.45              48                         2     484  \n",
       "11297         4928.17              23                         1     234  \n",
       "11298        13350.02              78                         4     824  \n",
       "11299         2371.71              16                         1     178  \n",
       "\n",
       "[11300 rows x 10 columns]"
      ]
     },
     "execution_count": 61,
     "metadata": {},
     "output_type": "execute_result"
    }
   ],
   "source": [
    "#all_data_pivot['total_duration'] = round(all_df['total_duration'], 0)\n",
    "\n",
    "def profit(row):\n",
    "    total_distance = row['total_distance']\n",
    "    total_duration = row['total_duration']\n",
    "    total_distance = row['total_distance']\n",
    "    subscription_type = row['subscription_type']\n",
    "    total_rides_during_month = row['total_rides_during_month']\n",
    "    if subscription_type == 'ultra':\n",
    "        return total_duration * 6 + 199\n",
    "    \n",
    "    if subscription_type == 'free':\n",
    "        return     (50* total_rides_during_month) +8* total_duration\n",
    "all_data_pivot['profit'] = all_data_pivot.apply(profit, axis=1)\n",
    "\n",
    "all_data_pivot\n",
    "\n",
    "\n",
    "# 6= minute_price_ultra\n",
    "# 199= subscription_fee\n",
    "\n",
    "#8= minute_price_free\n",
    "#50= start_ride_price_free\n",
    "#(50* total_rides_during_month)+8* total_duration"
   ]
  },
  {
   "cell_type": "markdown",
   "id": "acb098a9",
   "metadata": {},
   "source": [
    "Посмотрим на месячные показатели по каждому параметру в отдельности:\n"
   ]
  },
  {
   "cell_type": "code",
   "execution_count": 62,
   "id": "b484b60b",
   "metadata": {
    "scrolled": true
   },
   "outputs": [
    {
     "data": {
      "text/html": [
       "<div>\n",
       "<style scoped>\n",
       "    .dataframe tbody tr th:only-of-type {\n",
       "        vertical-align: middle;\n",
       "    }\n",
       "\n",
       "    .dataframe tbody tr th {\n",
       "        vertical-align: top;\n",
       "    }\n",
       "\n",
       "    .dataframe thead th {\n",
       "        text-align: right;\n",
       "    }\n",
       "</style>\n",
       "<table border=\"1\" class=\"dataframe\">\n",
       "  <thead>\n",
       "    <tr style=\"text-align: right;\">\n",
       "      <th>month</th>\n",
       "      <th>1</th>\n",
       "      <th>2</th>\n",
       "      <th>3</th>\n",
       "      <th>4</th>\n",
       "      <th>5</th>\n",
       "      <th>6</th>\n",
       "      <th>7</th>\n",
       "      <th>8</th>\n",
       "      <th>9</th>\n",
       "      <th>10</th>\n",
       "      <th>11</th>\n",
       "      <th>12</th>\n",
       "    </tr>\n",
       "    <tr>\n",
       "      <th>subscription_type</th>\n",
       "      <th></th>\n",
       "      <th></th>\n",
       "      <th></th>\n",
       "      <th></th>\n",
       "      <th></th>\n",
       "      <th></th>\n",
       "      <th></th>\n",
       "      <th></th>\n",
       "      <th></th>\n",
       "      <th></th>\n",
       "      <th></th>\n",
       "      <th></th>\n",
       "    </tr>\n",
       "  </thead>\n",
       "  <tbody>\n",
       "    <tr>\n",
       "      <th>free</th>\n",
       "      <td>992</td>\n",
       "      <td>860</td>\n",
       "      <td>972</td>\n",
       "      <td>948</td>\n",
       "      <td>955</td>\n",
       "      <td>983</td>\n",
       "      <td>948</td>\n",
       "      <td>970</td>\n",
       "      <td>996</td>\n",
       "      <td>942</td>\n",
       "      <td>915</td>\n",
       "      <td>992</td>\n",
       "    </tr>\n",
       "    <tr>\n",
       "      <th>ultra</th>\n",
       "      <td>584</td>\n",
       "      <td>468</td>\n",
       "      <td>561</td>\n",
       "      <td>551</td>\n",
       "      <td>597</td>\n",
       "      <td>565</td>\n",
       "      <td>574</td>\n",
       "      <td>540</td>\n",
       "      <td>515</td>\n",
       "      <td>529</td>\n",
       "      <td>492</td>\n",
       "      <td>524</td>\n",
       "    </tr>\n",
       "  </tbody>\n",
       "</table>\n",
       "</div>"
      ],
      "text/plain": [
       "month               1    2    3    4    5    6    7    8    9    10   11   12\n",
       "subscription_type                                                            \n",
       "free               992  860  972  948  955  983  948  970  996  942  915  992\n",
       "ultra              584  468  561  551  597  565  574  540  515  529  492  524"
      ]
     },
     "execution_count": 62,
     "metadata": {},
     "output_type": "execute_result"
    }
   ],
   "source": [
    "all_df.pivot_table(index='subscription_type', columns='month', values='user_id', aggfunc='count')\n"
   ]
  },
  {
   "cell_type": "code",
   "execution_count": 63,
   "id": "90485573",
   "metadata": {
    "scrolled": true
   },
   "outputs": [
    {
     "data": {
      "image/png": "[encoded data removed]",
      "text/plain": [
       "<Figure size 432x288 with 1 Axes>"
      ]
     },
     "metadata": {
      "needs_background": "light"
     },
     "output_type": "display_data"
    }
   ],
   "source": [
    "all_df.pivot_table(index='subscription_type', columns='month', values='user_id', aggfunc='count').T.plot(kind='bar', \n",
    "                                                                                                stacked=True, \n",
    "                                                                                                grid=True, \n",
    "                                                                                                title='user_count');"
   ]
  },
  {
   "cell_type": "markdown",
   "id": "04a9479b",
   "metadata": {},
   "source": [
    "Выборка представляет собой 1534 пользователя, использовавших сервис по прокату самокатов в течении года, соответственно. Среди них 835 человек пользовались сервисом без подписки, и 699 с подпиской Ultra.\n",
    "\n",
    "Распределение пользователей по месяцам относительно стабильное, и лишь в феврале пользователей немного меньше обычного\n",
    "\n"
   ]
  },
  {
   "cell_type": "markdown",
   "id": "a56de01e",
   "metadata": {},
   "source": [
    "Визуализируем данные с учетом расчетов о выручке:\n"
   ]
  },
  {
   "cell_type": "code",
   "execution_count": 64,
   "id": "8bf18979",
   "metadata": {
    "scrolled": true
   },
   "outputs": [
    {
     "data": {
      "text/plain": [
       "'total_duration'"
      ]
     },
     "metadata": {},
     "output_type": "display_data"
    },
    {
     "data": {
      "text/html": [
       "<div>\n",
       "<style scoped>\n",
       "    .dataframe tbody tr th:only-of-type {\n",
       "        vertical-align: middle;\n",
       "    }\n",
       "\n",
       "    .dataframe tbody tr th {\n",
       "        vertical-align: top;\n",
       "    }\n",
       "\n",
       "    .dataframe thead th {\n",
       "        text-align: right;\n",
       "    }\n",
       "</style>\n",
       "<table border=\"1\" class=\"dataframe\">\n",
       "  <thead>\n",
       "    <tr style=\"text-align: right;\">\n",
       "      <th></th>\n",
       "      <th>mean</th>\n",
       "      <th>std</th>\n",
       "      <th>var</th>\n",
       "    </tr>\n",
       "    <tr>\n",
       "      <th>subscription_type</th>\n",
       "      <th></th>\n",
       "      <th></th>\n",
       "      <th></th>\n",
       "    </tr>\n",
       "  </thead>\n",
       "  <tbody>\n",
       "    <tr>\n",
       "      <th>free</th>\n",
       "      <td>30.57</td>\n",
       "      <td>17.81</td>\n",
       "      <td>317.02</td>\n",
       "    </tr>\n",
       "    <tr>\n",
       "      <th>ultra</th>\n",
       "      <td>27.30</td>\n",
       "      <td>14.71</td>\n",
       "      <td>216.40</td>\n",
       "    </tr>\n",
       "  </tbody>\n",
       "</table>\n",
       "</div>"
      ],
      "text/plain": [
       "                   mean   std    var\n",
       "subscription_type                   \n",
       "free              30.57 17.81 317.02\n",
       "ultra             27.30 14.71 216.40"
      ]
     },
     "metadata": {},
     "output_type": "display_data"
    },
    {
     "data": {
      "image/png": "[encoded data removed]",
      "text/plain": [
       "<Figure size 1008x720 with 4 Axes>"
      ]
     },
     "metadata": {
      "needs_background": "light"
     },
     "output_type": "display_data"
    },
    {
     "data": {
      "text/plain": [
       "'total_distance'"
      ]
     },
     "metadata": {},
     "output_type": "display_data"
    },
    {
     "data": {
      "text/html": [
       "<div>\n",
       "<style scoped>\n",
       "    .dataframe tbody tr th:only-of-type {\n",
       "        vertical-align: middle;\n",
       "    }\n",
       "\n",
       "    .dataframe tbody tr th {\n",
       "        vertical-align: top;\n",
       "    }\n",
       "\n",
       "    .dataframe thead th {\n",
       "        text-align: right;\n",
       "    }\n",
       "</style>\n",
       "<table border=\"1\" class=\"dataframe\">\n",
       "  <thead>\n",
       "    <tr style=\"text-align: right;\">\n",
       "      <th></th>\n",
       "      <th>mean</th>\n",
       "      <th>std</th>\n",
       "      <th>var</th>\n",
       "    </tr>\n",
       "    <tr>\n",
       "      <th>subscription_type</th>\n",
       "      <th></th>\n",
       "      <th></th>\n",
       "      <th></th>\n",
       "    </tr>\n",
       "  </thead>\n",
       "  <tbody>\n",
       "    <tr>\n",
       "      <th>free</th>\n",
       "      <td>5134.41</td>\n",
       "      <td>3161.91</td>\n",
       "      <td>9997664.53</td>\n",
       "    </tr>\n",
       "    <tr>\n",
       "      <th>ultra</th>\n",
       "      <td>4467.33</td>\n",
       "      <td>2353.17</td>\n",
       "      <td>5537400.45</td>\n",
       "    </tr>\n",
       "  </tbody>\n",
       "</table>\n",
       "</div>"
      ],
      "text/plain": [
       "                     mean     std        var\n",
       "subscription_type                           \n",
       "free              5134.41 3161.91 9997664.53\n",
       "ultra             4467.33 2353.17 5537400.45"
      ]
     },
     "metadata": {},
     "output_type": "display_data"
    },
    {
     "data": {
      "image/png": "[encoded data removed]",
      "text/plain": [
       "<Figure size 1008x720 with 4 Axes>"
      ]
     },
     "metadata": {
      "needs_background": "light"
     },
     "output_type": "display_data"
    },
    {
     "data": {
      "text/plain": [
       "'user_id'"
      ]
     },
     "metadata": {},
     "output_type": "display_data"
    },
    {
     "data": {
      "text/html": [
       "<div>\n",
       "<style scoped>\n",
       "    .dataframe tbody tr th:only-of-type {\n",
       "        vertical-align: middle;\n",
       "    }\n",
       "\n",
       "    .dataframe tbody tr th {\n",
       "        vertical-align: top;\n",
       "    }\n",
       "\n",
       "    .dataframe thead th {\n",
       "        text-align: right;\n",
       "    }\n",
       "</style>\n",
       "<table border=\"1\" class=\"dataframe\">\n",
       "  <thead>\n",
       "    <tr style=\"text-align: right;\">\n",
       "      <th></th>\n",
       "      <th>mean</th>\n",
       "      <th>std</th>\n",
       "      <th>var</th>\n",
       "    </tr>\n",
       "    <tr>\n",
       "      <th>subscription_type</th>\n",
       "      <th></th>\n",
       "      <th></th>\n",
       "      <th></th>\n",
       "    </tr>\n",
       "  </thead>\n",
       "  <tbody>\n",
       "    <tr>\n",
       "      <th>free</th>\n",
       "      <td>1120.08</td>\n",
       "      <td>240.45</td>\n",
       "      <td>57817.90</td>\n",
       "    </tr>\n",
       "    <tr>\n",
       "      <th>ultra</th>\n",
       "      <td>347.77</td>\n",
       "      <td>200.43</td>\n",
       "      <td>40173.61</td>\n",
       "    </tr>\n",
       "  </tbody>\n",
       "</table>\n",
       "</div>"
      ],
      "text/plain": [
       "                     mean    std      var\n",
       "subscription_type                        \n",
       "free              1120.08 240.45 57817.90\n",
       "ultra              347.77 200.43 40173.61"
      ]
     },
     "metadata": {},
     "output_type": "display_data"
    },
    {
     "data": {
      "image/png": "[encoded data removed]",
      "text/plain": [
       "<Figure size 1008x720 with 4 Axes>"
      ]
     },
     "metadata": {
      "needs_background": "light"
     },
     "output_type": "display_data"
    },
    {
     "data": {
      "text/plain": [
       "'profit'"
      ]
     },
     "metadata": {},
     "output_type": "display_data"
    },
    {
     "data": {
      "text/html": [
       "<div>\n",
       "<style scoped>\n",
       "    .dataframe tbody tr th:only-of-type {\n",
       "        vertical-align: middle;\n",
       "    }\n",
       "\n",
       "    .dataframe tbody tr th {\n",
       "        vertical-align: top;\n",
       "    }\n",
       "\n",
       "    .dataframe thead th {\n",
       "        text-align: right;\n",
       "    }\n",
       "</style>\n",
       "<table border=\"1\" class=\"dataframe\">\n",
       "  <thead>\n",
       "    <tr style=\"text-align: right;\">\n",
       "      <th></th>\n",
       "      <th>mean</th>\n",
       "      <th>std</th>\n",
       "      <th>var</th>\n",
       "    </tr>\n",
       "    <tr>\n",
       "      <th>subscription_type</th>\n",
       "      <th></th>\n",
       "      <th></th>\n",
       "      <th></th>\n",
       "    </tr>\n",
       "  </thead>\n",
       "  <tbody>\n",
       "    <tr>\n",
       "      <th>free</th>\n",
       "      <td>329.33</td>\n",
       "      <td>183.27</td>\n",
       "      <td>33587.31</td>\n",
       "    </tr>\n",
       "    <tr>\n",
       "      <th>ultra</th>\n",
       "      <td>362.79</td>\n",
       "      <td>88.26</td>\n",
       "      <td>7790.31</td>\n",
       "    </tr>\n",
       "  </tbody>\n",
       "</table>\n",
       "</div>"
      ],
      "text/plain": [
       "                    mean    std      var\n",
       "subscription_type                       \n",
       "free              329.33 183.27 33587.31\n",
       "ultra             362.79  88.26  7790.31"
      ]
     },
     "metadata": {},
     "output_type": "display_data"
    },
    {
     "data": {
      "image/png": "[encoded data removed]",
      "text/plain": [
       "<Figure size 1008x720 with 4 Axes>"
      ]
     },
     "metadata": {
      "needs_background": "light"
     },
     "output_type": "display_data"
    }
   ],
   "source": [
    "for i in ['total_duration', 'total_distance', 'user_id', 'profit']:\n",
    "    df_month_mean = all_data_pivot.pivot_table(index='subscription_type', columns='month', values=i, aggfunc='mean')\n",
    "       \n",
    "    display(i)\n",
    "    display(all_data_pivot.groupby('subscription_type')[i].agg(['mean', 'std', 'var']))\n",
    "    \n",
    "    plt.figure(figsize=(14,10))\n",
    "    plt.subplot(2, 2, 1)\n",
    "    plt.plot(df_month_mean.loc['ultra'], label='ultra')\n",
    "    plt.plot(df_month_mean.loc['free'], label='free')\n",
    "    plt.xlabel('month')\n",
    "    plt.ylabel('mean_'+i, fontsize=14)\n",
    "    plt.legend()\n",
    "    plt.grid()\n",
    "\n",
    "    plt.subplot(2, 2, 2)\n",
    "    plt.hist(all_data_pivot[all_data_pivot['subscription_type'] == 'ultra'][i], histtype='step', label='ultra', lw=2)\n",
    "    plt.hist(all_data_pivot[all_data_pivot['subscription_type'] == 'free'][i], histtype='step', label='free', lw=2)\n",
    "    plt.xlabel(i)\n",
    "    plt.ylabel('users_count', fontsize=14)\n",
    "    plt.legend()\n",
    "    plt.grid()\n",
    "\n",
    "    plt.subplot(2, 2, 3)\n",
    "    all_data_pivot.groupby('subscription_type')[i].mean().plot.bar()\n",
    "    plt.ylabel('mean_'+i, fontsize=14)\n",
    "    plt.grid()\n",
    "\n",
    "    plt.subplot(2, 2, 4)\n",
    "    all_data_pivot.groupby('subscription_type')[i].std().plot.bar()\n",
    "    plt.ylabel('std_'+i, fontsize=14)\n",
    "    plt.grid()\n",
    "\n",
    "    plt.show()"
   ]
  },
  {
   "cell_type": "markdown",
   "id": "35c8450e",
   "metadata": {},
   "source": [
    "По всем рассмотренным параметрам (суммарное расстояние, количество и длительность поездок для каждого пользователя за каждыи месяц отдельно с подпиской и без, общая выручка) наблюдается относительно равномерное потреблениe услуг в течение года \n",
    "\n",
    "Средние значения ежемесячного потребления услуг у пользователей без подписки выше, чем у пользователей Ultra.\n",
    "Так, объемы выручки с подпиской несколько больше, может еще и потому, что именно пользователи без подписки предпочитают поездки в среднем на минуту короче и чуть более короткие расстояния. Дисперсии выборок по всем рассмотренным параметрам  выше у пользователей без подписки.  Cущественные различия в выручке можно объяснить высоким количеством пользователей (835 человек за весь рассматриваемый период) в сравнении с пользователями Ultra (699); стоимостью старта поездки (50 руб) для людей без подписки; и немного высокой поминутной оплатой (8 руб в сравнении с 6 руб для Ultra).\n"
   ]
  },
  {
   "cell_type": "code",
   "execution_count": 65,
   "id": "be8cdd9b",
   "metadata": {
    "scrolled": true
   },
   "outputs": [
    {
     "data": {
      "text/html": [
       "<div>\n",
       "<style scoped>\n",
       "    .dataframe tbody tr th:only-of-type {\n",
       "        vertical-align: middle;\n",
       "    }\n",
       "\n",
       "    .dataframe tbody tr th {\n",
       "        vertical-align: top;\n",
       "    }\n",
       "\n",
       "    .dataframe thead th {\n",
       "        text-align: right;\n",
       "    }\n",
       "</style>\n",
       "<table border=\"1\" class=\"dataframe\">\n",
       "  <thead>\n",
       "    <tr style=\"text-align: right;\">\n",
       "      <th></th>\n",
       "      <th>total_duration</th>\n",
       "      <th>total_distance</th>\n",
       "      <th>profit</th>\n",
       "      <th>subscription_type</th>\n",
       "      <th>age</th>\n",
       "      <th>city</th>\n",
       "    </tr>\n",
       "    <tr>\n",
       "      <th>user_id</th>\n",
       "      <th></th>\n",
       "      <th></th>\n",
       "      <th></th>\n",
       "      <th></th>\n",
       "      <th></th>\n",
       "      <th></th>\n",
       "    </tr>\n",
       "  </thead>\n",
       "  <tbody>\n",
       "    <tr>\n",
       "      <th>1</th>\n",
       "      <td>211</td>\n",
       "      <td>34070.18</td>\n",
       "      <td>2460</td>\n",
       "      <td>ultra</td>\n",
       "      <td>22</td>\n",
       "      <td>Тюмень</td>\n",
       "    </tr>\n",
       "    <tr>\n",
       "      <th>2</th>\n",
       "      <td>203</td>\n",
       "      <td>33964.06</td>\n",
       "      <td>2611</td>\n",
       "      <td>ultra</td>\n",
       "      <td>31</td>\n",
       "      <td>Омск</td>\n",
       "    </tr>\n",
       "    <tr>\n",
       "      <th>3</th>\n",
       "      <td>239</td>\n",
       "      <td>36907.60</td>\n",
       "      <td>2827</td>\n",
       "      <td>ultra</td>\n",
       "      <td>20</td>\n",
       "      <td>Москва</td>\n",
       "    </tr>\n",
       "    <tr>\n",
       "      <th>4</th>\n",
       "      <td>293</td>\n",
       "      <td>44837.19</td>\n",
       "      <td>2952</td>\n",
       "      <td>ultra</td>\n",
       "      <td>26</td>\n",
       "      <td>Ростов-на-Дону</td>\n",
       "    </tr>\n",
       "    <tr>\n",
       "      <th>5</th>\n",
       "      <td>180</td>\n",
       "      <td>35556.95</td>\n",
       "      <td>2672</td>\n",
       "      <td>ultra</td>\n",
       "      <td>28</td>\n",
       "      <td>Омск</td>\n",
       "    </tr>\n",
       "  </tbody>\n",
       "</table>\n",
       "</div>"
      ],
      "text/plain": [
       "         total_duration  total_distance  profit subscription_type  age  \\\n",
       "user_id                                                                  \n",
       "1                   211        34070.18    2460             ultra   22   \n",
       "2                   203        33964.06    2611             ultra   31   \n",
       "3                   239        36907.60    2827             ultra   20   \n",
       "4                   293        44837.19    2952             ultra   26   \n",
       "5                   180        35556.95    2672             ultra   28   \n",
       "\n",
       "                   city  \n",
       "user_id                  \n",
       "1                Тюмень  \n",
       "2                  Омск  \n",
       "3                Москва  \n",
       "4        Ростов-на-Дону  \n",
       "5                  Омск  "
      ]
     },
     "execution_count": 65,
     "metadata": {},
     "output_type": "execute_result"
    }
   ],
   "source": [
    "df_year = all_data_pivot.groupby('user_id').agg({'total_duration':'sum',\n",
    "       'total_distance':'sum', 'profit':'sum', 'subscription_type':'first', 'age':'first', 'city':'first'})\n",
    "df_year.head()"
   ]
  },
  {
   "cell_type": "code",
   "execution_count": 66,
   "id": "5268befb",
   "metadata": {
    "scrolled": false
   },
   "outputs": [
    {
     "data": {
      "text/html": [
       "<div>\n",
       "<style scoped>\n",
       "    .dataframe tbody tr th:only-of-type {\n",
       "        vertical-align: middle;\n",
       "    }\n",
       "\n",
       "    .dataframe tbody tr th {\n",
       "        vertical-align: top;\n",
       "    }\n",
       "\n",
       "    .dataframe thead th {\n",
       "        text-align: right;\n",
       "    }\n",
       "</style>\n",
       "<table border=\"1\" class=\"dataframe\">\n",
       "  <thead>\n",
       "    <tr style=\"text-align: right;\">\n",
       "      <th></th>\n",
       "      <th>total_duration</th>\n",
       "      <th>total_distance</th>\n",
       "      <th>profit</th>\n",
       "    </tr>\n",
       "  </thead>\n",
       "  <tbody>\n",
       "    <tr>\n",
       "      <th>count</th>\n",
       "      <td>1534.00</td>\n",
       "      <td>1534.00</td>\n",
       "      <td>1534.00</td>\n",
       "    </tr>\n",
       "    <tr>\n",
       "      <th>mean</th>\n",
       "      <td>215.50</td>\n",
       "      <td>35850.70</td>\n",
       "      <td>2524.90</td>\n",
       "    </tr>\n",
       "    <tr>\n",
       "      <th>median</th>\n",
       "      <td>211.00</td>\n",
       "      <td>35258.00</td>\n",
       "      <td>2491.50</td>\n",
       "    </tr>\n",
       "    <tr>\n",
       "      <th>std</th>\n",
       "      <td>75.70</td>\n",
       "      <td>12941.80</td>\n",
       "      <td>740.10</td>\n",
       "    </tr>\n",
       "    <tr>\n",
       "      <th>min</th>\n",
       "      <td>35.00</td>\n",
       "      <td>5530.30</td>\n",
       "      <td>626.00</td>\n",
       "    </tr>\n",
       "    <tr>\n",
       "      <th>max</th>\n",
       "      <td>459.00</td>\n",
       "      <td>79325.80</td>\n",
       "      <td>5022.00</td>\n",
       "    </tr>\n",
       "    <tr>\n",
       "      <th>sum</th>\n",
       "      <td>330613.00</td>\n",
       "      <td>54994932.70</td>\n",
       "      <td>3873131.00</td>\n",
       "    </tr>\n",
       "  </tbody>\n",
       "</table>\n",
       "</div>"
      ],
      "text/plain": [
       "        total_duration  total_distance     profit\n",
       "count          1534.00         1534.00    1534.00\n",
       "mean            215.50        35850.70    2524.90\n",
       "median          211.00        35258.00    2491.50\n",
       "std              75.70        12941.80     740.10\n",
       "min              35.00         5530.30     626.00\n",
       "max             459.00        79325.80    5022.00\n",
       "sum          330613.00     54994932.70 3873131.00"
      ]
     },
     "execution_count": 66,
     "metadata": {},
     "output_type": "execute_result"
    }
   ],
   "source": [
    "df_year[df_year.columns[:-3]].agg(['count', 'mean', 'median', 'std', 'min', 'max', 'sum']).round(1)\n"
   ]
  },
  {
   "cell_type": "code",
   "execution_count": 67,
   "id": "881cdb04",
   "metadata": {},
   "outputs": [
    {
     "data": {
      "text/html": [
       "<div>\n",
       "<style scoped>\n",
       "    .dataframe tbody tr th:only-of-type {\n",
       "        vertical-align: middle;\n",
       "    }\n",
       "\n",
       "    .dataframe tbody tr th {\n",
       "        vertical-align: top;\n",
       "    }\n",
       "\n",
       "    .dataframe thead th {\n",
       "        text-align: right;\n",
       "    }\n",
       "</style>\n",
       "<table border=\"1\" class=\"dataframe\">\n",
       "  <thead>\n",
       "    <tr style=\"text-align: right;\">\n",
       "      <th></th>\n",
       "      <th>user_id</th>\n",
       "      <th>month</th>\n",
       "      <th>count_date</th>\n",
       "      <th>duration</th>\n",
       "    </tr>\n",
       "  </thead>\n",
       "  <tbody>\n",
       "    <tr>\n",
       "      <th>0</th>\n",
       "      <td>1</td>\n",
       "      <td>1</td>\n",
       "      <td>2</td>\n",
       "      <td>42</td>\n",
       "    </tr>\n",
       "    <tr>\n",
       "      <th>1</th>\n",
       "      <td>1</td>\n",
       "      <td>4</td>\n",
       "      <td>1</td>\n",
       "      <td>7</td>\n",
       "    </tr>\n",
       "    <tr>\n",
       "      <th>2</th>\n",
       "      <td>1</td>\n",
       "      <td>8</td>\n",
       "      <td>2</td>\n",
       "      <td>46</td>\n",
       "    </tr>\n",
       "    <tr>\n",
       "      <th>3</th>\n",
       "      <td>1</td>\n",
       "      <td>10</td>\n",
       "      <td>2</td>\n",
       "      <td>32</td>\n",
       "    </tr>\n",
       "    <tr>\n",
       "      <th>4</th>\n",
       "      <td>1</td>\n",
       "      <td>11</td>\n",
       "      <td>3</td>\n",
       "      <td>56</td>\n",
       "    </tr>\n",
       "    <tr>\n",
       "      <th>5</th>\n",
       "      <td>1</td>\n",
       "      <td>12</td>\n",
       "      <td>2</td>\n",
       "      <td>28</td>\n",
       "    </tr>\n",
       "    <tr>\n",
       "      <th>6</th>\n",
       "      <td>2</td>\n",
       "      <td>3</td>\n",
       "      <td>3</td>\n",
       "      <td>63</td>\n",
       "    </tr>\n",
       "    <tr>\n",
       "      <th>7</th>\n",
       "      <td>2</td>\n",
       "      <td>4</td>\n",
       "      <td>2</td>\n",
       "      <td>40</td>\n",
       "    </tr>\n",
       "    <tr>\n",
       "      <th>8</th>\n",
       "      <td>2</td>\n",
       "      <td>6</td>\n",
       "      <td>1</td>\n",
       "      <td>14</td>\n",
       "    </tr>\n",
       "    <tr>\n",
       "      <th>9</th>\n",
       "      <td>2</td>\n",
       "      <td>7</td>\n",
       "      <td>2</td>\n",
       "      <td>48</td>\n",
       "    </tr>\n",
       "  </tbody>\n",
       "</table>\n",
       "</div>"
      ],
      "text/plain": [
       "   user_id  month  count_date  duration\n",
       "0        1      1           2        42\n",
       "1        1      4           1         7\n",
       "2        1      8           2        46\n",
       "3        1     10           2        32\n",
       "4        1     11           3        56\n",
       "5        1     12           2        28\n",
       "6        2      3           3        63\n",
       "7        2      4           2        40\n",
       "8        2      6           1        14\n",
       "9        2      7           2        48"
      ]
     },
     "execution_count": 67,
     "metadata": {},
     "output_type": "execute_result"
    }
   ],
   "source": [
    "ultra_users_pivot= (ultra_users.pivot_table(index=['user_id', 'month'],\n",
    "                    values=['duration', 'date'],\n",
    "                    aggfunc={'date':'count','duration':'sum'}))\n",
    "ultra_users_pivot.rename(columns={'date':'count_date'}, inplace=True)\n",
    "ultra_users_pivot.reset_index(inplace=True)\n",
    "ultra_users_pivot.head(10)\n"
   ]
  },
  {
   "cell_type": "markdown",
   "id": "41545ac0",
   "metadata": {},
   "source": [
    "#### Шаг 6. Проверка гипотез"
   ]
  },
  {
   "cell_type": "markdown",
   "id": "ee2ebd5d",
   "metadata": {},
   "source": [
    "6.1 Важно понять, тратят ли пользователи с подпиской больше времени на поездки? Если да, то пользователи с подпиской могут быть «выгоднее» для компании. Проверьте гипотезу. Используйте исходные данные о продолжительности каждой сессии — отдельно для подписчиков и тех, у кого нет подписки.\n",
    "\n",
    "6.2 Расстояние одной поездки в\n",
    "3130 метров — оптимальное с точки зрения износа самоката. Можно ли сказать, что расстояние, которое проезжают пользователи с подпиской за одну поездку, не превышает 3130 метров? Проверьте гипотезу и сделайте выводы.\n",
    "\n",
    "6.3. Проверьте гипотезу о том, будет ли помесячная выручка от пользователей с подпиской по месяцам выше, чем выручка от пользователей без подписки. Сделайте вывод.\n",
    "\n",
    "\n",
    "6.4. Представьте такую ситуацию: техническая команда сервиса обновила сервера, с которыми взаимодействует мобильное приложение. Она надеется, что из-за этого количество обращений в техподдержку значимо снизилось. Некоторый файл содержит для каждого пользователя данные о количестве обращений до обновления и после него. Какой тест вам понадобился бы для проверки этой гипотезы?"
   ]
  },
  {
   "cell_type": "markdown",
   "id": "0f0a0021",
   "metadata": {},
   "source": [
    "##### Первая гипотеза\n"
   ]
  },
  {
   "cell_type": "markdown",
   "id": "66c20d1f",
   "metadata": {},
   "source": [
    "Как было сказано выше, средняя выручка пользователей без подписки значительно выше, чем у клиентов Ultra. Проверим статистическую значимость данных отличий в зависимости от потраченного на поездки время.\n",
    "\n",
    "Нулевая гипотеза: средняя длительность поездки пользователей c/без подписки равны.\n",
    "\n",
    "Альтернативная гипотеза: средняя длительность поездки пользователей без подписки больше.\n",
    "\n",
    "Гипотеза двухсторонняя, проверяем гипотезу о равенстве средних двух генеральных совокупностей. Выборки  различаются по размерам, их дисперсии также различаются. p-уровень примем соответсвущим высокому уровню статистической значимости (0,01)."
   ]
  },
  {
   "cell_type": "code",
   "execution_count": 68,
   "id": "444a2c41",
   "metadata": {
    "scrolled": true
   },
   "outputs": [],
   "source": [
    "sample_ultra = all_df[all_df['subscription_type'] == 'ultra']['duration']\n",
    "sample_free = all_df[all_df['subscription_type'] == 'free']['duration']\n",
    "results = st.ttest_ind(sample_ultra, sample_free,  alternative='greater',  equal_var = False) \n"
   ]
  },
  {
   "cell_type": "code",
   "execution_count": 69,
   "id": "79604a9c",
   "metadata": {},
   "outputs": [
    {
     "name": "stdout",
     "output_type": "stream",
     "text": [
      "p-value = 3.086332092684639e-29. Отвергаем нулевую гипотезу\n"
     ]
    }
   ],
   "source": [
    "alpha = 0.05\n",
    "if results.pvalue < alpha:\n",
    "    print(f'p-value = {results.pvalue}. Отвергаем нулевую гипотезу')\n",
    "else:\n",
    "    print(f'p-value = {results.pvalue}.Не получилось отвергнуть нулевую гипотезу')"
   ]
  },
  {
   "cell_type": "markdown",
   "id": "d09ae064",
   "metadata": {},
   "source": [
    "Результат теста показывает, что средняя длительность поездки пользователей с и без подписки равны. \n",
    "Предыдущие расчеты показали разницу в длительности поездок для пользователей c/без подписки,  тест следует повторить с большим разбросом данных, так как при всех прочих равных возможно небольшое различие в длительности поездок для обоих категорий пользователей.\n",
    "\n"
   ]
  },
  {
   "cell_type": "markdown",
   "id": "eba48302",
   "metadata": {},
   "source": [
    "##### Вторая гипотеза\n"
   ]
  },
  {
   "cell_type": "markdown",
   "id": "76c54c66",
   "metadata": {},
   "source": [
    " Расстояние одной поездки в 3130 метров — оптимальное с точки зрения износа самоката. Можно ли сказать, что расстояние, которое проезжают пользователи с подпиской за одну поездку, не превышает 3130 метров? Проверьте гипотезу и сделайте выводы."
   ]
  },
  {
   "cell_type": "markdown",
   "id": "787710d1",
   "metadata": {},
   "source": [
    "Нулевая гипотеза H0:μ >= 3130\n",
    "\n",
    "Альтернативная гипотеза H1 μ < 3130\n",
    "\n",
    "Проверяем  одностороннюю гипотезу:\n"
   ]
  },
  {
   "cell_type": "code",
   "execution_count": 70,
   "id": "dd57108f",
   "metadata": {
    "scrolled": true
   },
   "outputs": [
    {
     "name": "stdout",
     "output_type": "stream",
     "text": [
      "p-значение: [0.07249587]\n",
      "p-value = [0.07249587].Не получилось отвергнуть нулевую гипотезу\n"
     ]
    }
   ],
   "source": [
    "ultra_users1 = ultra_users.pivot_table(index='user_id', values= 'distance' )\n",
    "\n",
    "alpha = 0.05\n",
    "optimal_value=3130 \n",
    "alpha = 0.05\n",
    "results = st.ttest_1samp(ultra_users1, optimal_value, alternative='less')\n",
    "print('p-значение:', results.pvalue)\n",
    "\n",
    "if results.pvalue < alpha:\n",
    "    print(f'p-value = {results.pvalue}. Отвергаем нулевую гипотезу')\n",
    "else:\n",
    "    print(f'p-value = {results.pvalue}.Не получилось отвергнуть нулевую гипотезу')"
   ]
  },
  {
   "cell_type": "markdown",
   "id": "1f34b93a",
   "metadata": {},
   "source": [
    "Полученный результат говорит о том, что тест надо провести еще раз на большую выборку, так как предварительный анализ и расчеты показали, что в среднем пользователи с подпиской прoезжают меньше 3130 м\n",
    "\n"
   ]
  },
  {
   "cell_type": "markdown",
   "id": "6eca58ba",
   "metadata": {},
   "source": [
    "##### Третья гипотеза\n"
   ]
  },
  {
   "cell_type": "markdown",
   "id": "b8b65869",
   "metadata": {},
   "source": [
    "Проверьте гипотезу о том, будет ли помесячная выручка от пользователей с подпиской по месяцам выше, чем выручка от пользователей без подписки. Сделайте вывод."
   ]
  },
  {
   "cell_type": "markdown",
   "id": "bcf6a822",
   "metadata": {},
   "source": [
    "Нулевая гипотеза H0: средняя выручка пользователей c/без подписки равны.\n",
    "\n",
    "Альтернативная гипотеза H1:  средняя выручка пользователей с подпиской больше."
   ]
  },
  {
   "cell_type": "markdown",
   "id": "0ac99517",
   "metadata": {},
   "source": [
    "\n",
    "\n"
   ]
  },
  {
   "cell_type": "code",
   "execution_count": 71,
   "id": "2f9fc51f",
   "metadata": {},
   "outputs": [
    {
     "name": "stdout",
     "output_type": "stream",
     "text": [
      "p-значение: 2.4970242872858465e-38\n",
      "Отвергаем нулевую гипотезу\n"
     ]
    }
   ],
   "source": [
    "sample_ultra = all_data_pivot[all_data_pivot['subscription_type'] == 'ultra']\n",
    "sample_free = all_data_pivot[all_data_pivot['subscription_type'] == 'free']\n",
    "\n",
    "\n",
    "results = st.ttest_ind(sample_ultra['profit'],sample_free['profit'],  alternative='greater',  equal_var=False)\n",
    " \n",
    "print('p-значение:', results.pvalue)\n",
    " \n",
    "if results.pvalue < alpha:\n",
    "    print('Отвергаем нулевую гипотезу')\n",
    "else:\n",
    "    print('Не получилось отвергнуть нулевую гипотезу')\n",
    " "
   ]
  },
  {
   "cell_type": "markdown",
   "id": "7a7924f5",
   "metadata": {},
   "source": [
    "\n",
    "Все верно, как показали предыдущие расчеты объемы выручки пользователей с подпиской несколько больше, нежели тех,  кто пользуется арендой самокатов без подписки.\n"
   ]
  },
  {
   "cell_type": "markdown",
   "id": "941b8292",
   "metadata": {},
   "source": [
    "##### Четвертая гипотеза\n"
   ]
  },
  {
   "cell_type": "markdown",
   "id": "b4e1d503",
   "metadata": {},
   "source": [
    "Представьте такую ситуацию: техническая команда сервиса обновила сервера, с которыми взаимодействует мобильное приложение. \n",
    "\n",
    "Она надеется, что из-за этого количество обращений в техподдержку значимо снизилось. Некоторый файл содержит для каждого пользователя данные о количестве обращений до обновления и после него. \n",
    "\n",
    "Какой тест вам понадобился бы для проверки этой гипотезы?"
   ]
  },
  {
   "cell_type": "markdown",
   "id": "95b412a3",
   "metadata": {},
   "source": [
    "Нужно рассмотреть одностороннюю гипотезу, где:\n",
    "               \n",
    "      нулевая гипотеза H0:μ= x_обращении;  \n",
    "      \n",
    "      aльтернативная H1:μ< x_обращении \n",
    "\n",
    "Нулевая гипотеза будет отвергнута в пользу альтернативной, если количество обращении, значимо меньше, чем x_обращении. Ecли количество обращений будет значимо больше мы не отвергнем нулевую гипотезу.\n",
    "\n",
    "\n",
    "Для проверки гипотезы используем тест Стьюдента о равенстве двух независимых выборок:\n",
    "\n",
    "   \n",
    "    results = st.ttest_rel(before, after)\n",
    "     "
   ]
  },
  {
   "cell_type": "markdown",
   "id": "b7e81b24",
   "metadata": {},
   "source": [
    "#### Вывод\n"
   ]
  },
  {
   "cell_type": "markdown",
   "id": "698aa60f",
   "metadata": {},
   "source": [
    "Бoльшая часть данных изначально в хорошем состоянии. Поэтому в процессе предобработки данных изменены только типы в столбцах с датами на datetime64, и проверена корректность данных. Дубликатов не было.\n",
    "-Была создана новая таблица, в которую сгруппировали данные по трем таблицам и расчеты по выручке\n",
    "\n",
    "-Для удобства анализа пользователей с подпиской и без подписки выделили в 2 отдельные таблицы, и рассчитали по каждому из них длительность поездок, помесячное количество и время поездок.\n",
    "\n",
    "В процессе анализа выявили:\n",
    "\n",
    "    -больше всего клиентов у сервиса в Пятигорске и Екатеринбургe-(219 и 204);\n",
    "    -больше половины пользователей, а именно 835 использовали сервис без подписки;\n",
    "    -основная масса пользователей в возрасте от 22 до 28 лет;\n",
    "    - чаще всего ездят на расстояния 2800- 3300 метров, причем это касается пользователей\n",
    "      как с подпиской, так и без подписки;\n",
    "    - по большей части самокатом пользуются в течении 13-22 минуты, a средне арифметическое время пользования все те же 18 минут.\n",
    "    \n",
    "    \n",
    "Была создана таблица all_data в в которой были объеденены данные из трех таблиц; наличие или отсутствие подписки и выручка с каждого пользователя.\n",
    "\n",
    "\n",
    "Дано разъяснение 1ой гипотезе и проверены 3 гипотезы:\n",
    "\n",
    "В первой гипотезе было подтверждено утверждение, согласно которому средняя длительность поездок клиентов с подпиской выше, чем тех, кто ездит без подписки. Хотя, cогласно анализу предоставленных данных,  клиенты без подписки тратят в среднем 18 минут на поездки, а пользователи с подпиской 19 минут. \n",
    "\n",
    "\n",
    "\n",
    "Во втором статтестe мы проверяли достоверность односторонней гопотезы, результат которой показал, что\n",
    "клиенты ездят на расстояния больше или равные 3130 метрам. Однако, при предвaрительном анализе данных было выявлено, что половина пользователей с подпиской предпочитают ездить на расстояния в среднем 3115 метров.\n",
    "\n",
    "В третьем тесте проверили какие клиенты (с подпиской или без) приносят больший доход, исход, которого, показал, что  выручка от пользователей с подпиской чуть выше. Также, как и предварительные результаты анализa.\n",
    "\n",
    "\n",
    "В итоге можно рекомендовать сервису продвигать свои услуги с подпиской. Это приносит больше выручки. Также стоит обратить внимание, что клиенты с подпиской воспользовались услугой лишь единожды, и только 25% из всех подписчиков 2 и более раза. \n",
    "\n",
    "\n",
    "\n",
    "\n",
    "\n",
    "\n",
    "\n",
    "\n",
    "\n",
    "\n",
    "\n",
    "\n",
    "\n",
    "\n",
    "\n",
    "\n",
    "\n",
    "\n",
    "\n",
    "\n",
    "\n"
   ]
  },
  {
   "cell_type": "code",
   "execution_count": null,
   "id": "f5e2a612",
   "metadata": {},
   "outputs": [],
   "source": []
  }
 ],
 "metadata": {
  "ExecuteTimeLog": [
   {
    "duration": 1334,
    "start_time": "2023-05-07T06:58:44.212Z"
   },
   {
    "duration": 107,
    "start_time": "2023-05-07T07:01:39.900Z"
   },
   {
    "duration": 6,
    "start_time": "2023-05-07T07:02:08.505Z"
   },
   {
    "duration": 1146,
    "start_time": "2023-05-07T07:02:12.116Z"
   },
   {
    "duration": 13,
    "start_time": "2023-05-07T07:03:22.964Z"
   },
   {
    "duration": 645,
    "start_time": "2023-05-07T07:03:50.173Z"
   },
   {
    "duration": 28,
    "start_time": "2023-05-07T07:04:19.271Z"
   },
   {
    "duration": 21,
    "start_time": "2023-05-07T07:04:37.180Z"
   },
   {
    "duration": 14,
    "start_time": "2023-05-07T07:04:47.767Z"
   },
   {
    "duration": 28,
    "start_time": "2023-05-07T07:05:24.875Z"
   },
   {
    "duration": 30,
    "start_time": "2023-05-07T07:05:43.052Z"
   },
   {
    "duration": 5,
    "start_time": "2023-05-07T07:05:58.731Z"
   },
   {
    "duration": 12,
    "start_time": "2023-05-07T07:08:39.913Z"
   },
   {
    "duration": 9,
    "start_time": "2023-05-07T07:09:10.026Z"
   },
   {
    "duration": 25,
    "start_time": "2023-05-07T07:09:15.522Z"
   },
   {
    "duration": 1284,
    "start_time": "2023-05-07T07:09:25.989Z"
   },
   {
    "duration": 756,
    "start_time": "2023-05-07T07:09:27.276Z"
   },
   {
    "duration": 17,
    "start_time": "2023-05-07T07:09:28.034Z"
   },
   {
    "duration": 16,
    "start_time": "2023-05-07T07:09:28.053Z"
   },
   {
    "duration": 24,
    "start_time": "2023-05-07T07:09:28.071Z"
   },
   {
    "duration": 5,
    "start_time": "2023-05-07T07:09:28.097Z"
   },
   {
    "duration": 25,
    "start_time": "2023-05-07T07:09:28.104Z"
   },
   {
    "duration": 173,
    "start_time": "2023-05-07T07:09:28.132Z"
   },
   {
    "duration": 26,
    "start_time": "2023-05-07T07:12:09.643Z"
   },
   {
    "duration": 598,
    "start_time": "2023-05-07T07:30:06.900Z"
   },
   {
    "duration": 786,
    "start_time": "2023-05-07T07:32:04.367Z"
   },
   {
    "duration": 806,
    "start_time": "2023-05-07T07:32:59.903Z"
   },
   {
    "duration": 5,
    "start_time": "2023-05-07T07:34:50.118Z"
   },
   {
    "duration": 30,
    "start_time": "2023-05-07T07:35:31.343Z"
   },
   {
    "duration": 3,
    "start_time": "2023-05-07T07:36:30.757Z"
   },
   {
    "duration": 3,
    "start_time": "2023-05-07T07:41:20.484Z"
   },
   {
    "duration": 14,
    "start_time": "2023-05-07T07:51:18.873Z"
   },
   {
    "duration": 1235,
    "start_time": "2023-05-07T07:52:12.711Z"
   },
   {
    "duration": 13,
    "start_time": "2023-05-07T07:52:36.742Z"
   },
   {
    "duration": 28,
    "start_time": "2023-05-07T07:54:45.571Z"
   },
   {
    "duration": 13,
    "start_time": "2023-05-07T07:54:57.212Z"
   },
   {
    "duration": 30,
    "start_time": "2023-05-07T07:58:06.889Z"
   },
   {
    "duration": 30,
    "start_time": "2023-05-07T07:58:55.802Z"
   },
   {
    "duration": 12,
    "start_time": "2023-05-07T07:59:35.197Z"
   },
   {
    "duration": 11,
    "start_time": "2023-05-07T07:59:40.914Z"
   },
   {
    "duration": 16,
    "start_time": "2023-05-07T08:04:19.850Z"
   },
   {
    "duration": 10,
    "start_time": "2023-05-07T08:04:57.567Z"
   },
   {
    "duration": 3,
    "start_time": "2023-05-07T08:04:59.244Z"
   },
   {
    "duration": 455,
    "start_time": "2023-05-07T08:05:02.170Z"
   },
   {
    "duration": 14,
    "start_time": "2023-05-07T08:05:44.102Z"
   },
   {
    "duration": 8,
    "start_time": "2023-05-07T08:06:18.009Z"
   },
   {
    "duration": 4,
    "start_time": "2023-05-07T08:06:26.456Z"
   },
   {
    "duration": 10,
    "start_time": "2023-05-07T08:06:29.748Z"
   },
   {
    "duration": 1124,
    "start_time": "2023-05-07T08:06:38.741Z"
   },
   {
    "duration": 599,
    "start_time": "2023-05-07T08:06:39.867Z"
   },
   {
    "duration": 24,
    "start_time": "2023-05-07T08:06:40.485Z"
   },
   {
    "duration": 19,
    "start_time": "2023-05-07T08:06:40.511Z"
   },
   {
    "duration": 20,
    "start_time": "2023-05-07T08:06:40.533Z"
   },
   {
    "duration": 60,
    "start_time": "2023-05-07T08:06:40.555Z"
   },
   {
    "duration": 10,
    "start_time": "2023-05-07T08:06:40.617Z"
   },
   {
    "duration": 16,
    "start_time": "2023-05-07T08:06:40.629Z"
   },
   {
    "duration": 3,
    "start_time": "2023-05-07T08:06:40.647Z"
   },
   {
    "duration": 945,
    "start_time": "2023-05-07T08:06:40.652Z"
   },
   {
    "duration": 12,
    "start_time": "2023-05-07T08:06:41.602Z"
   },
   {
    "duration": 11,
    "start_time": "2023-05-07T08:08:38.093Z"
   },
   {
    "duration": 45,
    "start_time": "2023-05-08T05:57:32.868Z"
   },
   {
    "duration": 6,
    "start_time": "2023-05-08T05:57:44.893Z"
   },
   {
    "duration": 6,
    "start_time": "2023-05-08T05:58:02.103Z"
   },
   {
    "duration": 1224,
    "start_time": "2023-05-08T05:58:35.553Z"
   },
   {
    "duration": 1334,
    "start_time": "2023-05-08T05:58:36.783Z"
   },
   {
    "duration": 22,
    "start_time": "2023-05-08T05:58:38.119Z"
   },
   {
    "duration": 10,
    "start_time": "2023-05-08T05:58:38.143Z"
   },
   {
    "duration": 51,
    "start_time": "2023-05-08T05:58:38.154Z"
   },
   {
    "duration": 24,
    "start_time": "2023-05-08T05:58:38.206Z"
   },
   {
    "duration": 8,
    "start_time": "2023-05-08T05:58:38.232Z"
   },
   {
    "duration": 50,
    "start_time": "2023-05-08T05:58:38.242Z"
   },
   {
    "duration": 2,
    "start_time": "2023-05-08T05:58:38.294Z"
   },
   {
    "duration": 849,
    "start_time": "2023-05-08T05:58:38.299Z"
   },
   {
    "duration": 9,
    "start_time": "2023-05-08T05:58:39.150Z"
   },
   {
    "duration": 15,
    "start_time": "2023-05-08T05:58:39.161Z"
   },
   {
    "duration": 81,
    "start_time": "2023-05-08T05:58:39.178Z"
   },
   {
    "duration": 8,
    "start_time": "2023-05-08T05:59:11.985Z"
   },
   {
    "duration": 13,
    "start_time": "2023-05-08T05:59:37.665Z"
   },
   {
    "duration": 9,
    "start_time": "2023-05-08T06:00:59.765Z"
   },
   {
    "duration": 114,
    "start_time": "2023-05-08T07:30:41.570Z"
   },
   {
    "duration": 34,
    "start_time": "2023-05-08T07:31:41.237Z"
   },
   {
    "duration": 9,
    "start_time": "2023-05-08T07:32:01.963Z"
   },
   {
    "duration": 9,
    "start_time": "2023-05-08T07:33:13.937Z"
   },
   {
    "duration": 51,
    "start_time": "2023-05-08T07:33:19.387Z"
   },
   {
    "duration": 138,
    "start_time": "2023-05-08T07:33:24.827Z"
   },
   {
    "duration": 10,
    "start_time": "2023-05-08T09:06:07.280Z"
   },
   {
    "duration": 6,
    "start_time": "2023-05-08T09:07:18.142Z"
   },
   {
    "duration": 2,
    "start_time": "2023-05-08T09:08:07.499Z"
   },
   {
    "duration": 8,
    "start_time": "2023-05-08T09:08:43.100Z"
   },
   {
    "duration": 57,
    "start_time": "2023-05-08T09:08:44.737Z"
   },
   {
    "duration": 17,
    "start_time": "2023-05-08T09:09:28.219Z"
   },
   {
    "duration": 4,
    "start_time": "2023-05-08T09:09:56.305Z"
   },
   {
    "duration": 18,
    "start_time": "2023-05-08T09:10:08.985Z"
   },
   {
    "duration": 5,
    "start_time": "2023-05-08T09:10:56.828Z"
   },
   {
    "duration": 21,
    "start_time": "2023-05-08T09:10:59.131Z"
   },
   {
    "duration": 6,
    "start_time": "2023-05-08T09:11:09.810Z"
   },
   {
    "duration": 16,
    "start_time": "2023-05-08T09:11:14.225Z"
   },
   {
    "duration": 15,
    "start_time": "2023-05-08T09:11:21.867Z"
   },
   {
    "duration": 4,
    "start_time": "2023-05-08T09:11:31.400Z"
   },
   {
    "duration": 16,
    "start_time": "2023-05-08T09:11:32.945Z"
   },
   {
    "duration": 3,
    "start_time": "2023-05-08T09:12:56.001Z"
   },
   {
    "duration": 2,
    "start_time": "2023-05-08T09:12:59.506Z"
   },
   {
    "duration": 54,
    "start_time": "2023-05-08T09:14:39.749Z"
   },
   {
    "duration": 18,
    "start_time": "2023-05-08T09:15:38.148Z"
   },
   {
    "duration": 39,
    "start_time": "2023-05-08T09:15:59.698Z"
   },
   {
    "duration": 38,
    "start_time": "2023-05-08T09:16:30.105Z"
   },
   {
    "duration": 24,
    "start_time": "2023-05-08T09:16:44.727Z"
   },
   {
    "duration": 22,
    "start_time": "2023-05-08T09:25:39.328Z"
   },
   {
    "duration": 60,
    "start_time": "2023-05-08T09:26:26.783Z"
   },
   {
    "duration": 2,
    "start_time": "2023-05-08T09:26:34.825Z"
   },
   {
    "duration": 46,
    "start_time": "2023-05-08T09:26:49.027Z"
   },
   {
    "duration": 300,
    "start_time": "2023-05-08T09:26:55.071Z"
   },
   {
    "duration": 191,
    "start_time": "2023-05-08T09:27:23.271Z"
   },
   {
    "duration": 105,
    "start_time": "2023-05-08T09:28:33.540Z"
   },
   {
    "duration": 16,
    "start_time": "2023-05-08T09:33:44.588Z"
   },
   {
    "duration": 21,
    "start_time": "2023-05-08T09:33:55.367Z"
   },
   {
    "duration": 14,
    "start_time": "2023-05-08T09:34:32.354Z"
   },
   {
    "duration": 14,
    "start_time": "2023-05-08T09:34:34.563Z"
   },
   {
    "duration": 21,
    "start_time": "2023-05-08T09:34:43.768Z"
   },
   {
    "duration": 8,
    "start_time": "2023-05-08T09:35:06.018Z"
   },
   {
    "duration": 20,
    "start_time": "2023-05-08T09:35:53.818Z"
   },
   {
    "duration": 85,
    "start_time": "2023-05-08T09:36:52.918Z"
   },
   {
    "duration": 10,
    "start_time": "2023-05-08T09:37:23.519Z"
   },
   {
    "duration": 14,
    "start_time": "2023-05-08T09:39:23.245Z"
   },
   {
    "duration": 7,
    "start_time": "2023-05-08T09:40:35.931Z"
   },
   {
    "duration": 278,
    "start_time": "2023-05-08T09:40:48.515Z"
   },
   {
    "duration": 593,
    "start_time": "2023-05-08T09:41:05.801Z"
   },
   {
    "duration": 29,
    "start_time": "2023-05-08T09:41:32.887Z"
   },
   {
    "duration": 33,
    "start_time": "2023-05-08T09:44:35.013Z"
   },
   {
    "duration": 42,
    "start_time": "2023-05-08T09:46:35.682Z"
   },
   {
    "duration": 89,
    "start_time": "2023-05-08T09:49:02.577Z"
   },
   {
    "duration": 5,
    "start_time": "2023-05-08T09:49:32.341Z"
   },
   {
    "duration": 26,
    "start_time": "2023-05-08T09:49:41.353Z"
   },
   {
    "duration": 18,
    "start_time": "2023-05-08T09:50:08.254Z"
   },
   {
    "duration": 19,
    "start_time": "2023-05-08T09:50:16.544Z"
   },
   {
    "duration": 60,
    "start_time": "2023-05-08T09:51:09.165Z"
   },
   {
    "duration": 13,
    "start_time": "2023-05-08T09:51:34.910Z"
   },
   {
    "duration": 409,
    "start_time": "2023-05-08T09:52:03.446Z"
   },
   {
    "duration": 15,
    "start_time": "2023-05-08T09:52:27.952Z"
   },
   {
    "duration": 8,
    "start_time": "2023-05-08T09:53:56.237Z"
   },
   {
    "duration": 12,
    "start_time": "2023-05-08T09:54:04.079Z"
   },
   {
    "duration": 130,
    "start_time": "2023-05-08T09:54:49.753Z"
   },
   {
    "duration": 16,
    "start_time": "2023-05-08T09:55:24.162Z"
   },
   {
    "duration": 149,
    "start_time": "2023-05-08T09:56:15.115Z"
   },
   {
    "duration": 6,
    "start_time": "2023-05-08T09:56:45.851Z"
   },
   {
    "duration": 27,
    "start_time": "2023-05-08T09:56:58.272Z"
   },
   {
    "duration": 23,
    "start_time": "2023-05-08T09:57:22.226Z"
   },
   {
    "duration": 26,
    "start_time": "2023-05-08T09:57:30.609Z"
   },
   {
    "duration": 15,
    "start_time": "2023-05-08T09:58:09.167Z"
   },
   {
    "duration": 285,
    "start_time": "2023-05-08T09:58:23.570Z"
   },
   {
    "duration": 509,
    "start_time": "2023-05-08T09:58:37.944Z"
   },
   {
    "duration": 18,
    "start_time": "2023-05-08T10:02:54.184Z"
   },
   {
    "duration": 14,
    "start_time": "2023-05-08T10:04:58.865Z"
   },
   {
    "duration": 14,
    "start_time": "2023-05-08T10:05:26.211Z"
   },
   {
    "duration": 16,
    "start_time": "2023-05-08T10:05:37.490Z"
   },
   {
    "duration": 12,
    "start_time": "2023-05-08T10:05:51.675Z"
   },
   {
    "duration": 47,
    "start_time": "2023-05-08T10:06:12.665Z"
   },
   {
    "duration": 12,
    "start_time": "2023-05-08T10:06:22.425Z"
   },
   {
    "duration": 19,
    "start_time": "2023-05-08T10:07:08.516Z"
   },
   {
    "duration": 61,
    "start_time": "2023-05-09T06:10:16.244Z"
   },
   {
    "duration": 1348,
    "start_time": "2023-05-09T06:10:57.416Z"
   },
   {
    "duration": 1289,
    "start_time": "2023-05-09T06:10:58.767Z"
   },
   {
    "duration": 45,
    "start_time": "2023-05-09T06:11:00.057Z"
   },
   {
    "duration": 21,
    "start_time": "2023-05-09T06:11:00.104Z"
   },
   {
    "duration": 77,
    "start_time": "2023-05-09T06:11:00.127Z"
   },
   {
    "duration": 43,
    "start_time": "2023-05-09T06:11:00.205Z"
   },
   {
    "duration": 55,
    "start_time": "2023-05-09T06:11:00.250Z"
   },
   {
    "duration": 47,
    "start_time": "2023-05-09T06:11:00.307Z"
   },
   {
    "duration": 19,
    "start_time": "2023-05-09T06:11:00.356Z"
   },
   {
    "duration": 1257,
    "start_time": "2023-05-09T06:11:00.377Z"
   },
   {
    "duration": 12,
    "start_time": "2023-05-09T06:11:01.636Z"
   },
   {
    "duration": 46,
    "start_time": "2023-05-09T06:11:01.649Z"
   },
   {
    "duration": 39,
    "start_time": "2023-05-09T06:11:01.697Z"
   },
   {
    "duration": 27,
    "start_time": "2023-05-09T06:11:01.738Z"
   },
   {
    "duration": 82,
    "start_time": "2023-05-09T06:11:01.767Z"
   },
   {
    "duration": 24,
    "start_time": "2023-05-09T06:11:01.851Z"
   },
   {
    "duration": 42,
    "start_time": "2023-05-09T06:11:01.876Z"
   },
   {
    "duration": 17,
    "start_time": "2023-05-09T06:11:01.919Z"
   },
   {
    "duration": 50,
    "start_time": "2023-05-09T06:11:01.938Z"
   },
   {
    "duration": 79,
    "start_time": "2023-05-09T06:11:01.989Z"
   },
   {
    "duration": 18,
    "start_time": "2023-05-09T06:11:02.069Z"
   },
   {
    "duration": 44,
    "start_time": "2023-05-09T06:11:02.088Z"
   },
   {
    "duration": 37,
    "start_time": "2023-05-09T06:11:02.134Z"
   },
   {
    "duration": 25,
    "start_time": "2023-05-09T06:11:02.173Z"
   },
   {
    "duration": 14,
    "start_time": "2023-05-09T06:11:02.200Z"
   },
   {
    "duration": 359,
    "start_time": "2023-05-09T06:11:02.215Z"
   },
   {
    "duration": 15,
    "start_time": "2023-05-09T06:11:02.576Z"
   },
   {
    "duration": 34,
    "start_time": "2023-05-09T06:11:02.594Z"
   },
   {
    "duration": 18,
    "start_time": "2023-05-09T06:11:02.630Z"
   },
   {
    "duration": 14,
    "start_time": "2023-05-09T06:11:02.650Z"
   },
   {
    "duration": 24,
    "start_time": "2023-05-09T06:11:02.665Z"
   },
   {
    "duration": 35,
    "start_time": "2023-05-09T06:11:02.691Z"
   },
   {
    "duration": 9,
    "start_time": "2023-05-09T06:11:02.728Z"
   },
   {
    "duration": 17,
    "start_time": "2023-05-09T06:11:02.738Z"
   },
   {
    "duration": 134,
    "start_time": "2023-05-09T06:11:02.757Z"
   },
   {
    "duration": 104,
    "start_time": "2023-05-09T06:11:02.892Z"
   },
   {
    "duration": 0,
    "start_time": "2023-05-09T06:11:02.997Z"
   },
   {
    "duration": 0,
    "start_time": "2023-05-09T06:11:02.998Z"
   },
   {
    "duration": 0,
    "start_time": "2023-05-09T06:11:02.999Z"
   },
   {
    "duration": 0,
    "start_time": "2023-05-09T06:11:03.000Z"
   },
   {
    "duration": 0,
    "start_time": "2023-05-09T06:11:03.002Z"
   },
   {
    "duration": 0,
    "start_time": "2023-05-09T06:11:03.003Z"
   },
   {
    "duration": 0,
    "start_time": "2023-05-09T06:11:03.004Z"
   },
   {
    "duration": 0,
    "start_time": "2023-05-09T06:11:03.005Z"
   },
   {
    "duration": 0,
    "start_time": "2023-05-09T06:11:03.006Z"
   },
   {
    "duration": 0,
    "start_time": "2023-05-09T06:11:03.008Z"
   },
   {
    "duration": 0,
    "start_time": "2023-05-09T06:11:03.009Z"
   },
   {
    "duration": 0,
    "start_time": "2023-05-09T06:11:03.010Z"
   },
   {
    "duration": 0,
    "start_time": "2023-05-09T06:11:03.011Z"
   },
   {
    "duration": 0,
    "start_time": "2023-05-09T06:11:03.012Z"
   },
   {
    "duration": 0,
    "start_time": "2023-05-09T06:11:03.013Z"
   },
   {
    "duration": 0,
    "start_time": "2023-05-09T06:11:03.015Z"
   },
   {
    "duration": 0,
    "start_time": "2023-05-09T06:11:03.016Z"
   },
   {
    "duration": 0,
    "start_time": "2023-05-09T06:11:03.019Z"
   },
   {
    "duration": 0,
    "start_time": "2023-05-09T06:11:03.020Z"
   },
   {
    "duration": 0,
    "start_time": "2023-05-09T06:11:03.021Z"
   },
   {
    "duration": 0,
    "start_time": "2023-05-09T06:11:03.022Z"
   },
   {
    "duration": 0,
    "start_time": "2023-05-09T06:11:03.023Z"
   },
   {
    "duration": 0,
    "start_time": "2023-05-09T06:11:03.024Z"
   },
   {
    "duration": 0,
    "start_time": "2023-05-09T06:11:03.026Z"
   },
   {
    "duration": 9,
    "start_time": "2023-05-09T06:11:20.669Z"
   },
   {
    "duration": 94,
    "start_time": "2023-05-09T06:15:21.933Z"
   },
   {
    "duration": 69,
    "start_time": "2023-05-09T06:15:35.257Z"
   },
   {
    "duration": 100,
    "start_time": "2023-05-09T06:15:49.804Z"
   },
   {
    "duration": 62,
    "start_time": "2023-05-09T06:16:24.918Z"
   },
   {
    "duration": 1169,
    "start_time": "2023-05-09T06:16:33.680Z"
   },
   {
    "duration": 547,
    "start_time": "2023-05-09T06:16:34.854Z"
   },
   {
    "duration": 22,
    "start_time": "2023-05-09T06:16:35.403Z"
   },
   {
    "duration": 8,
    "start_time": "2023-05-09T06:16:35.427Z"
   },
   {
    "duration": 50,
    "start_time": "2023-05-09T06:16:35.437Z"
   },
   {
    "duration": 23,
    "start_time": "2023-05-09T06:16:35.489Z"
   },
   {
    "duration": 9,
    "start_time": "2023-05-09T06:16:35.513Z"
   },
   {
    "duration": 16,
    "start_time": "2023-05-09T06:16:35.523Z"
   },
   {
    "duration": 31,
    "start_time": "2023-05-09T06:16:35.541Z"
   },
   {
    "duration": 679,
    "start_time": "2023-05-09T06:16:35.575Z"
   },
   {
    "duration": 10,
    "start_time": "2023-05-09T06:16:36.256Z"
   },
   {
    "duration": 30,
    "start_time": "2023-05-09T06:16:36.268Z"
   },
   {
    "duration": 18,
    "start_time": "2023-05-09T06:16:36.300Z"
   },
   {
    "duration": 14,
    "start_time": "2023-05-09T06:16:36.320Z"
   },
   {
    "duration": 20,
    "start_time": "2023-05-09T06:16:36.335Z"
   },
   {
    "duration": 20,
    "start_time": "2023-05-09T06:16:36.357Z"
   },
   {
    "duration": 30,
    "start_time": "2023-05-09T06:16:36.379Z"
   },
   {
    "duration": 8,
    "start_time": "2023-05-09T06:16:36.411Z"
   },
   {
    "duration": 43,
    "start_time": "2023-05-09T06:16:36.421Z"
   },
   {
    "duration": 85,
    "start_time": "2023-05-09T06:16:36.465Z"
   },
   {
    "duration": 5,
    "start_time": "2023-05-09T06:16:36.552Z"
   },
   {
    "duration": 41,
    "start_time": "2023-05-09T06:16:36.559Z"
   },
   {
    "duration": 18,
    "start_time": "2023-05-09T06:16:36.602Z"
   },
   {
    "duration": 16,
    "start_time": "2023-05-09T06:16:36.622Z"
   },
   {
    "duration": 10,
    "start_time": "2023-05-09T06:16:36.640Z"
   },
   {
    "duration": 365,
    "start_time": "2023-05-09T06:16:36.683Z"
   },
   {
    "duration": 10,
    "start_time": "2023-05-09T06:16:37.050Z"
   },
   {
    "duration": 33,
    "start_time": "2023-05-09T06:16:37.065Z"
   },
   {
    "duration": 17,
    "start_time": "2023-05-09T06:16:37.099Z"
   },
   {
    "duration": 16,
    "start_time": "2023-05-09T06:16:37.118Z"
   },
   {
    "duration": 17,
    "start_time": "2023-05-09T06:16:37.136Z"
   },
   {
    "duration": 38,
    "start_time": "2023-05-09T06:16:37.182Z"
   },
   {
    "duration": 11,
    "start_time": "2023-05-09T06:16:37.222Z"
   },
   {
    "duration": 16,
    "start_time": "2023-05-09T06:16:37.235Z"
   },
   {
    "duration": 145,
    "start_time": "2023-05-09T06:16:37.253Z"
   },
   {
    "duration": 88,
    "start_time": "2023-05-09T06:16:37.400Z"
   },
   {
    "duration": 13,
    "start_time": "2023-05-09T06:16:37.490Z"
   },
   {
    "duration": 434,
    "start_time": "2023-05-09T06:16:37.505Z"
   },
   {
    "duration": 6,
    "start_time": "2023-05-09T06:16:37.941Z"
   },
   {
    "duration": 44,
    "start_time": "2023-05-09T06:16:37.949Z"
   },
   {
    "duration": 22,
    "start_time": "2023-05-09T06:16:37.995Z"
   },
   {
    "duration": 20,
    "start_time": "2023-05-09T06:16:38.019Z"
   },
   {
    "duration": 44,
    "start_time": "2023-05-09T06:16:38.040Z"
   },
   {
    "duration": 39,
    "start_time": "2023-05-09T06:16:38.086Z"
   },
   {
    "duration": 12,
    "start_time": "2023-05-09T06:16:38.127Z"
   },
   {
    "duration": 63,
    "start_time": "2023-05-09T06:16:38.141Z"
   },
   {
    "duration": 35,
    "start_time": "2023-05-09T06:16:38.206Z"
   },
   {
    "duration": 49,
    "start_time": "2023-05-09T06:16:38.243Z"
   },
   {
    "duration": 197,
    "start_time": "2023-05-09T06:16:38.295Z"
   },
   {
    "duration": 19,
    "start_time": "2023-05-09T06:16:38.494Z"
   },
   {
    "duration": 116,
    "start_time": "2023-05-09T06:16:38.515Z"
   },
   {
    "duration": 11,
    "start_time": "2023-05-09T06:16:38.633Z"
   },
   {
    "duration": 39,
    "start_time": "2023-05-09T06:16:38.645Z"
   },
   {
    "duration": 16,
    "start_time": "2023-05-09T06:16:38.685Z"
   },
   {
    "duration": 20,
    "start_time": "2023-05-09T06:16:38.702Z"
   },
   {
    "duration": 12,
    "start_time": "2023-05-09T06:16:38.724Z"
   },
   {
    "duration": 6,
    "start_time": "2023-05-09T06:16:38.738Z"
   },
   {
    "duration": 584,
    "start_time": "2023-05-09T06:16:38.745Z"
   },
   {
    "duration": 19,
    "start_time": "2023-05-09T06:16:39.330Z"
   },
   {
    "duration": 58,
    "start_time": "2023-05-09T06:16:39.350Z"
   },
   {
    "duration": 68,
    "start_time": "2023-05-09T06:19:21.844Z"
   },
   {
    "duration": 60,
    "start_time": "2023-05-09T06:19:36.456Z"
   },
   {
    "duration": 59,
    "start_time": "2023-05-09T06:19:52.454Z"
   },
   {
    "duration": 32,
    "start_time": "2023-05-09T06:23:10.982Z"
   },
   {
    "duration": 30,
    "start_time": "2023-05-09T06:24:24.514Z"
   },
   {
    "duration": 2,
    "start_time": "2023-05-09T06:24:40.954Z"
   },
   {
    "duration": 19,
    "start_time": "2023-05-09T06:26:18.424Z"
   },
   {
    "duration": 15,
    "start_time": "2023-05-09T06:27:10.514Z"
   },
   {
    "duration": 2,
    "start_time": "2023-05-09T06:27:56.072Z"
   },
   {
    "duration": 24,
    "start_time": "2023-05-09T06:28:26.063Z"
   },
   {
    "duration": 31,
    "start_time": "2023-05-09T06:29:24.237Z"
   },
   {
    "duration": 17,
    "start_time": "2023-05-09T06:31:22.103Z"
   },
   {
    "duration": 32,
    "start_time": "2023-05-09T06:31:53.715Z"
   },
   {
    "duration": 10,
    "start_time": "2023-05-09T06:34:00.599Z"
   },
   {
    "duration": 5,
    "start_time": "2023-05-09T06:34:02.693Z"
   },
   {
    "duration": 6,
    "start_time": "2023-05-09T06:34:09.204Z"
   },
   {
    "duration": 22,
    "start_time": "2023-05-09T06:34:33.655Z"
   },
   {
    "duration": 22,
    "start_time": "2023-05-09T06:34:58.678Z"
   },
   {
    "duration": 27,
    "start_time": "2023-05-09T06:35:14.007Z"
   },
   {
    "duration": 107,
    "start_time": "2023-05-09T06:40:25.103Z"
   },
   {
    "duration": 9,
    "start_time": "2023-05-09T06:40:30.306Z"
   },
   {
    "duration": 4,
    "start_time": "2023-05-09T06:41:14.598Z"
   },
   {
    "duration": 8,
    "start_time": "2023-05-09T06:41:22.875Z"
   },
   {
    "duration": 14,
    "start_time": "2023-05-09T06:42:36.069Z"
   },
   {
    "duration": 390,
    "start_time": "2023-05-09T07:37:28.021Z"
   },
   {
    "duration": 93,
    "start_time": "2023-05-09T07:37:57.556Z"
   },
   {
    "duration": 8,
    "start_time": "2023-05-09T07:49:39.173Z"
   },
   {
    "duration": 17,
    "start_time": "2023-05-09T07:49:41.375Z"
   },
   {
    "duration": 18,
    "start_time": "2023-05-09T07:50:29.266Z"
   },
   {
    "duration": 96,
    "start_time": "2023-05-09T07:51:32.984Z"
   },
   {
    "duration": 11,
    "start_time": "2023-05-09T07:57:52.719Z"
   },
   {
    "duration": 9,
    "start_time": "2023-05-09T07:58:12.301Z"
   },
   {
    "duration": 12,
    "start_time": "2023-05-09T07:58:22.112Z"
   },
   {
    "duration": 8,
    "start_time": "2023-05-09T08:04:49.405Z"
   },
   {
    "duration": 11,
    "start_time": "2023-05-09T08:04:59.401Z"
   },
   {
    "duration": 2,
    "start_time": "2023-05-09T08:07:50.577Z"
   },
   {
    "duration": 2,
    "start_time": "2023-05-09T08:08:07.803Z"
   },
   {
    "duration": 2,
    "start_time": "2023-05-09T08:08:09.525Z"
   },
   {
    "duration": 6,
    "start_time": "2023-05-09T08:09:21.913Z"
   },
   {
    "duration": 5,
    "start_time": "2023-05-09T08:09:24.644Z"
   },
   {
    "duration": 48,
    "start_time": "2023-05-09T08:09:54.905Z"
   },
   {
    "duration": 19,
    "start_time": "2023-05-09T08:10:51.448Z"
   },
   {
    "duration": 31,
    "start_time": "2023-05-09T08:12:43.352Z"
   },
   {
    "duration": 29,
    "start_time": "2023-05-09T08:12:56.470Z"
   },
   {
    "duration": 30,
    "start_time": "2023-05-09T08:13:15.340Z"
   },
   {
    "duration": 16,
    "start_time": "2023-05-09T08:14:41.660Z"
   },
   {
    "duration": 11,
    "start_time": "2023-05-09T08:15:39.281Z"
   },
   {
    "duration": 4,
    "start_time": "2023-05-09T08:16:07.464Z"
   },
   {
    "duration": 4,
    "start_time": "2023-05-09T08:18:27.160Z"
   },
   {
    "duration": 4,
    "start_time": "2023-05-09T08:18:50.434Z"
   },
   {
    "duration": 1070,
    "start_time": "2023-05-09T08:19:20.960Z"
   },
   {
    "duration": 6,
    "start_time": "2023-05-09T08:20:04.475Z"
   },
   {
    "duration": 4,
    "start_time": "2023-05-09T08:21:25.054Z"
   },
   {
    "duration": 7,
    "start_time": "2023-05-09T08:22:54.480Z"
   },
   {
    "duration": 3,
    "start_time": "2023-05-09T08:25:38.158Z"
   },
   {
    "duration": 2,
    "start_time": "2023-05-09T08:26:02.993Z"
   },
   {
    "duration": 10,
    "start_time": "2023-05-09T08:27:22.186Z"
   },
   {
    "duration": 13,
    "start_time": "2023-05-09T08:28:58.072Z"
   },
   {
    "duration": 3,
    "start_time": "2023-05-09T08:29:49.368Z"
   },
   {
    "duration": 4,
    "start_time": "2023-05-09T08:30:23.431Z"
   },
   {
    "duration": 7,
    "start_time": "2023-05-09T08:30:49.745Z"
   },
   {
    "duration": 10,
    "start_time": "2023-05-09T08:32:38.036Z"
   },
   {
    "duration": 11,
    "start_time": "2023-05-09T08:32:40.758Z"
   },
   {
    "duration": 3,
    "start_time": "2023-05-09T08:33:17.968Z"
   },
   {
    "duration": 4,
    "start_time": "2023-05-09T08:33:19.703Z"
   },
   {
    "duration": 8,
    "start_time": "2023-05-09T08:35:50.735Z"
   },
   {
    "duration": 2,
    "start_time": "2023-05-09T08:36:56.988Z"
   },
   {
    "duration": 11,
    "start_time": "2023-05-09T08:39:06.295Z"
   },
   {
    "duration": 11,
    "start_time": "2023-05-09T08:41:32.137Z"
   },
   {
    "duration": 28,
    "start_time": "2023-05-09T08:43:40.969Z"
   },
   {
    "duration": 12,
    "start_time": "2023-05-09T08:44:09.161Z"
   },
   {
    "duration": 9,
    "start_time": "2023-05-09T08:44:34.103Z"
   },
   {
    "duration": 10,
    "start_time": "2023-05-09T08:48:21.573Z"
   },
   {
    "duration": 9,
    "start_time": "2023-05-09T08:50:52.049Z"
   },
   {
    "duration": 19,
    "start_time": "2023-05-09T08:50:54.203Z"
   },
   {
    "duration": 56,
    "start_time": "2023-05-09T08:51:19.543Z"
   },
   {
    "duration": 10,
    "start_time": "2023-05-09T08:56:45.260Z"
   },
   {
    "duration": 6,
    "start_time": "2023-05-09T08:56:55.611Z"
   },
   {
    "duration": 7,
    "start_time": "2023-05-09T08:59:25.831Z"
   },
   {
    "duration": 3,
    "start_time": "2023-05-09T09:01:38.128Z"
   },
   {
    "duration": 7,
    "start_time": "2023-05-09T09:04:03.477Z"
   },
   {
    "duration": 3,
    "start_time": "2023-05-09T09:07:22.671Z"
   },
   {
    "duration": 85,
    "start_time": "2023-05-09T09:22:39.966Z"
   },
   {
    "duration": 5,
    "start_time": "2023-05-09T09:23:19.056Z"
   },
   {
    "duration": 11,
    "start_time": "2023-05-09T09:28:19.656Z"
   },
   {
    "duration": 144,
    "start_time": "2023-05-09T09:28:31.630Z"
   },
   {
    "duration": 19,
    "start_time": "2023-05-09T09:28:40.085Z"
   },
   {
    "duration": 50,
    "start_time": "2023-05-09T09:29:16.074Z"
   },
   {
    "duration": 14,
    "start_time": "2023-05-09T09:29:20.623Z"
   },
   {
    "duration": 12,
    "start_time": "2023-05-09T09:29:57.794Z"
   },
   {
    "duration": 13,
    "start_time": "2023-05-09T09:30:06.985Z"
   },
   {
    "duration": 14,
    "start_time": "2023-05-09T09:30:19.067Z"
   },
   {
    "duration": 8,
    "start_time": "2023-05-09T09:32:46.312Z"
   },
   {
    "duration": 5,
    "start_time": "2023-05-09T09:33:17.313Z"
   },
   {
    "duration": 6,
    "start_time": "2023-05-09T09:33:49.111Z"
   },
   {
    "duration": 22,
    "start_time": "2023-05-09T09:40:36.891Z"
   },
   {
    "duration": 23,
    "start_time": "2023-05-09T09:40:50.531Z"
   },
   {
    "duration": 5,
    "start_time": "2023-05-09T09:42:12.964Z"
   },
   {
    "duration": 7,
    "start_time": "2023-05-09T09:42:15.905Z"
   },
   {
    "duration": 15,
    "start_time": "2023-05-09T09:42:31.450Z"
   },
   {
    "duration": 12,
    "start_time": "2023-05-09T09:43:12.536Z"
   },
   {
    "duration": 47,
    "start_time": "2023-05-09T09:44:11.356Z"
   },
   {
    "duration": 14,
    "start_time": "2023-05-09T09:44:19.114Z"
   },
   {
    "duration": 17,
    "start_time": "2023-05-09T09:45:28.515Z"
   },
   {
    "duration": 6,
    "start_time": "2023-05-09T09:47:36.534Z"
   },
   {
    "duration": 6,
    "start_time": "2023-05-09T09:47:38.451Z"
   },
   {
    "duration": 18,
    "start_time": "2023-05-09T09:47:55.735Z"
   },
   {
    "duration": 16,
    "start_time": "2023-05-09T09:49:27.724Z"
   },
   {
    "duration": 6,
    "start_time": "2023-05-09T09:50:29.706Z"
   },
   {
    "duration": 5,
    "start_time": "2023-05-09T09:51:44.323Z"
   },
   {
    "duration": 14,
    "start_time": "2023-05-09T09:51:57.792Z"
   },
   {
    "duration": 8,
    "start_time": "2023-05-09T09:54:24.573Z"
   },
   {
    "duration": 15,
    "start_time": "2023-05-09T09:54:42.769Z"
   },
   {
    "duration": 51,
    "start_time": "2023-05-09T09:55:44.784Z"
   },
   {
    "duration": 7,
    "start_time": "2023-05-09T09:56:21.583Z"
   },
   {
    "duration": 48,
    "start_time": "2023-05-09T09:56:25.911Z"
   },
   {
    "duration": 4,
    "start_time": "2023-05-09T09:56:45.404Z"
   },
   {
    "duration": 23,
    "start_time": "2023-05-09T09:56:48.365Z"
   },
   {
    "duration": 554,
    "start_time": "2023-05-09T09:56:55.801Z"
   },
   {
    "duration": 595,
    "start_time": "2023-05-09T09:57:09.381Z"
   },
   {
    "duration": 4,
    "start_time": "2023-05-09T09:57:16.868Z"
   },
   {
    "duration": 5,
    "start_time": "2023-05-09T09:57:19.451Z"
   },
   {
    "duration": 24,
    "start_time": "2023-05-09T09:57:22.546Z"
   },
   {
    "duration": 25,
    "start_time": "2023-05-09T09:57:25.083Z"
   },
   {
    "duration": 9,
    "start_time": "2023-05-09T09:58:18.534Z"
   },
   {
    "duration": 6,
    "start_time": "2023-05-09T09:58:20.864Z"
   },
   {
    "duration": 4,
    "start_time": "2023-05-09T09:59:27.925Z"
   },
   {
    "duration": 7,
    "start_time": "2023-05-09T09:59:57.797Z"
   },
   {
    "duration": 8,
    "start_time": "2023-05-09T10:01:01.576Z"
   },
   {
    "duration": 549,
    "start_time": "2023-05-09T10:03:31.622Z"
   },
   {
    "duration": 10,
    "start_time": "2023-05-09T10:03:34.083Z"
   },
   {
    "duration": 10,
    "start_time": "2023-05-09T10:05:28.301Z"
   },
   {
    "duration": 16,
    "start_time": "2023-05-09T10:05:52.735Z"
   },
   {
    "duration": 7,
    "start_time": "2023-05-09T10:06:07.009Z"
   },
   {
    "duration": 20,
    "start_time": "2023-05-09T10:06:09.892Z"
   },
   {
    "duration": 312,
    "start_time": "2023-05-09T10:06:13.633Z"
   },
   {
    "duration": 10,
    "start_time": "2023-05-09T10:06:22.639Z"
   },
   {
    "duration": 13,
    "start_time": "2023-05-09T10:06:51.438Z"
   },
   {
    "duration": 5,
    "start_time": "2023-05-09T10:07:58.949Z"
   },
   {
    "duration": 18,
    "start_time": "2023-05-09T10:10:43.377Z"
   },
   {
    "duration": 5,
    "start_time": "2023-05-09T10:10:59.969Z"
   },
   {
    "duration": 304,
    "start_time": "2023-05-09T10:11:04.896Z"
   },
   {
    "duration": 6,
    "start_time": "2023-05-09T10:12:05.938Z"
   },
   {
    "duration": 17,
    "start_time": "2023-05-09T10:12:47.166Z"
   },
   {
    "duration": 11,
    "start_time": "2023-05-09T10:20:04.416Z"
   },
   {
    "duration": 6,
    "start_time": "2023-05-09T10:21:39.858Z"
   },
   {
    "duration": 11,
    "start_time": "2023-05-09T10:23:38.861Z"
   },
   {
    "duration": 16,
    "start_time": "2023-05-09T10:27:04.475Z"
   },
   {
    "duration": 6,
    "start_time": "2023-05-09T10:27:22.148Z"
   },
   {
    "duration": 11,
    "start_time": "2023-05-09T10:27:24.622Z"
   },
   {
    "duration": 6,
    "start_time": "2023-05-09T10:32:12.499Z"
   },
   {
    "duration": 13,
    "start_time": "2023-05-09T10:32:16.744Z"
   },
   {
    "duration": 7,
    "start_time": "2023-05-09T10:35:00.859Z"
   },
   {
    "duration": 6,
    "start_time": "2023-05-09T10:35:03.817Z"
   },
   {
    "duration": 8,
    "start_time": "2023-05-09T10:35:07.890Z"
   },
   {
    "duration": 3,
    "start_time": "2023-05-09T10:35:13.748Z"
   },
   {
    "duration": 9,
    "start_time": "2023-05-09T10:35:15.661Z"
   },
   {
    "duration": 8,
    "start_time": "2023-05-09T10:35:19.046Z"
   },
   {
    "duration": 1104,
    "start_time": "2023-05-09T10:35:33.530Z"
   },
   {
    "duration": 108,
    "start_time": "2023-05-09T10:35:34.636Z"
   },
   {
    "duration": 6,
    "start_time": "2023-05-09T10:35:34.745Z"
   },
   {
    "duration": 45,
    "start_time": "2023-05-09T10:35:34.754Z"
   },
   {
    "duration": 20,
    "start_time": "2023-05-09T10:35:34.800Z"
   },
   {
    "duration": 6,
    "start_time": "2023-05-09T10:35:34.822Z"
   },
   {
    "duration": 5,
    "start_time": "2023-05-09T10:35:34.830Z"
   },
   {
    "duration": 17,
    "start_time": "2023-05-09T10:35:34.836Z"
   },
   {
    "duration": 69,
    "start_time": "2023-05-09T10:35:34.855Z"
   },
   {
    "duration": 11,
    "start_time": "2023-05-09T10:35:34.927Z"
   },
   {
    "duration": 44,
    "start_time": "2023-05-09T10:35:34.941Z"
   },
   {
    "duration": 4,
    "start_time": "2023-05-09T10:35:34.987Z"
   },
   {
    "duration": 732,
    "start_time": "2023-05-09T10:35:34.993Z"
   },
   {
    "duration": 10,
    "start_time": "2023-05-09T10:35:35.728Z"
   },
   {
    "duration": 43,
    "start_time": "2023-05-09T10:35:35.739Z"
   },
   {
    "duration": 29,
    "start_time": "2023-05-09T10:35:35.784Z"
   },
   {
    "duration": 20,
    "start_time": "2023-05-09T10:35:35.815Z"
   },
   {
    "duration": 17,
    "start_time": "2023-05-09T10:35:35.836Z"
   },
   {
    "duration": 50,
    "start_time": "2023-05-09T10:35:35.855Z"
   },
   {
    "duration": 7,
    "start_time": "2023-05-09T10:35:35.907Z"
   },
   {
    "duration": 15,
    "start_time": "2023-05-09T10:35:35.916Z"
   },
   {
    "duration": 4,
    "start_time": "2023-05-09T10:35:35.933Z"
   },
   {
    "duration": 5,
    "start_time": "2023-05-09T10:35:35.939Z"
   },
   {
    "duration": 11,
    "start_time": "2023-05-09T10:35:35.946Z"
   },
   {
    "duration": 31,
    "start_time": "2023-05-09T10:35:35.959Z"
   },
   {
    "duration": 904,
    "start_time": "2023-05-09T10:35:35.992Z"
   },
   {
    "duration": 0,
    "start_time": "2023-05-09T10:35:36.899Z"
   },
   {
    "duration": 0,
    "start_time": "2023-05-09T10:35:36.901Z"
   },
   {
    "duration": 0,
    "start_time": "2023-05-09T10:35:36.902Z"
   },
   {
    "duration": 0,
    "start_time": "2023-05-09T10:35:36.903Z"
   },
   {
    "duration": 0,
    "start_time": "2023-05-09T10:35:36.904Z"
   },
   {
    "duration": 0,
    "start_time": "2023-05-09T10:35:36.905Z"
   },
   {
    "duration": 0,
    "start_time": "2023-05-09T10:35:36.906Z"
   },
   {
    "duration": 0,
    "start_time": "2023-05-09T10:35:36.907Z"
   },
   {
    "duration": 0,
    "start_time": "2023-05-09T10:35:36.908Z"
   },
   {
    "duration": 0,
    "start_time": "2023-05-09T10:35:36.909Z"
   },
   {
    "duration": 0,
    "start_time": "2023-05-09T10:35:36.911Z"
   },
   {
    "duration": 0,
    "start_time": "2023-05-09T10:35:36.912Z"
   },
   {
    "duration": 0,
    "start_time": "2023-05-09T10:35:36.913Z"
   },
   {
    "duration": 0,
    "start_time": "2023-05-09T10:35:36.915Z"
   },
   {
    "duration": 0,
    "start_time": "2023-05-09T10:35:36.916Z"
   },
   {
    "duration": 0,
    "start_time": "2023-05-09T10:35:36.917Z"
   },
   {
    "duration": 0,
    "start_time": "2023-05-09T10:35:36.919Z"
   },
   {
    "duration": 0,
    "start_time": "2023-05-09T10:35:36.920Z"
   },
   {
    "duration": 0,
    "start_time": "2023-05-09T10:35:36.922Z"
   },
   {
    "duration": 0,
    "start_time": "2023-05-09T10:35:36.923Z"
   },
   {
    "duration": 0,
    "start_time": "2023-05-09T10:35:36.925Z"
   },
   {
    "duration": 0,
    "start_time": "2023-05-09T10:35:36.926Z"
   },
   {
    "duration": 0,
    "start_time": "2023-05-09T10:35:36.928Z"
   },
   {
    "duration": 0,
    "start_time": "2023-05-09T10:35:36.929Z"
   },
   {
    "duration": 0,
    "start_time": "2023-05-09T10:35:36.931Z"
   },
   {
    "duration": 0,
    "start_time": "2023-05-09T10:35:36.932Z"
   },
   {
    "duration": 0,
    "start_time": "2023-05-09T10:35:36.933Z"
   },
   {
    "duration": 0,
    "start_time": "2023-05-09T10:35:36.935Z"
   },
   {
    "duration": 0,
    "start_time": "2023-05-09T10:35:36.983Z"
   },
   {
    "duration": 0,
    "start_time": "2023-05-09T10:35:36.985Z"
   },
   {
    "duration": 0,
    "start_time": "2023-05-09T10:35:36.987Z"
   },
   {
    "duration": 0,
    "start_time": "2023-05-09T10:35:36.988Z"
   },
   {
    "duration": 0,
    "start_time": "2023-05-09T10:35:36.989Z"
   },
   {
    "duration": 0,
    "start_time": "2023-05-09T10:35:36.990Z"
   },
   {
    "duration": 0,
    "start_time": "2023-05-09T10:35:36.992Z"
   },
   {
    "duration": 0,
    "start_time": "2023-05-09T10:35:36.993Z"
   },
   {
    "duration": 0,
    "start_time": "2023-05-09T10:35:36.995Z"
   },
   {
    "duration": 0,
    "start_time": "2023-05-09T10:35:36.996Z"
   },
   {
    "duration": 0,
    "start_time": "2023-05-09T10:35:36.998Z"
   },
   {
    "duration": 0,
    "start_time": "2023-05-09T10:35:36.999Z"
   },
   {
    "duration": 0,
    "start_time": "2023-05-09T10:35:37.000Z"
   },
   {
    "duration": 0,
    "start_time": "2023-05-09T10:35:37.001Z"
   },
   {
    "duration": 0,
    "start_time": "2023-05-09T10:35:37.002Z"
   },
   {
    "duration": 0,
    "start_time": "2023-05-09T10:35:37.004Z"
   },
   {
    "duration": 0,
    "start_time": "2023-05-09T10:35:37.005Z"
   },
   {
    "duration": 0,
    "start_time": "2023-05-09T10:35:37.006Z"
   },
   {
    "duration": 0,
    "start_time": "2023-05-09T10:35:37.007Z"
   },
   {
    "duration": 0,
    "start_time": "2023-05-09T10:35:37.008Z"
   },
   {
    "duration": 0,
    "start_time": "2023-05-09T10:35:37.009Z"
   },
   {
    "duration": 0,
    "start_time": "2023-05-09T10:35:37.011Z"
   },
   {
    "duration": 0,
    "start_time": "2023-05-09T10:35:37.013Z"
   },
   {
    "duration": 0,
    "start_time": "2023-05-09T10:35:37.014Z"
   },
   {
    "duration": 0,
    "start_time": "2023-05-09T10:35:37.015Z"
   },
   {
    "duration": 0,
    "start_time": "2023-05-09T10:35:37.017Z"
   },
   {
    "duration": 0,
    "start_time": "2023-05-09T10:35:37.018Z"
   },
   {
    "duration": 0,
    "start_time": "2023-05-09T10:35:37.084Z"
   },
   {
    "duration": 0,
    "start_time": "2023-05-09T10:35:37.085Z"
   },
   {
    "duration": 0,
    "start_time": "2023-05-09T10:35:37.086Z"
   },
   {
    "duration": 0,
    "start_time": "2023-05-09T10:35:37.087Z"
   },
   {
    "duration": 213,
    "start_time": "2023-05-09T10:51:53.606Z"
   },
   {
    "duration": 5,
    "start_time": "2023-05-09T10:52:13.335Z"
   },
   {
    "duration": 7,
    "start_time": "2023-05-09T10:52:20.181Z"
   },
   {
    "duration": 32,
    "start_time": "2023-05-09T10:52:22.890Z"
   },
   {
    "duration": 3,
    "start_time": "2023-05-09T10:52:36.914Z"
   },
   {
    "duration": 5,
    "start_time": "2023-05-09T10:52:39.413Z"
   },
   {
    "duration": 8,
    "start_time": "2023-05-09T10:52:41.155Z"
   },
   {
    "duration": 2,
    "start_time": "2023-05-09T10:52:50.339Z"
   },
   {
    "duration": 8,
    "start_time": "2023-05-09T10:52:54.036Z"
   },
   {
    "duration": 8,
    "start_time": "2023-05-09T10:52:57.077Z"
   },
   {
    "duration": 44,
    "start_time": "2023-05-09T10:53:06.613Z"
   },
   {
    "duration": 9,
    "start_time": "2023-05-09T10:53:21.880Z"
   },
   {
    "duration": 100,
    "start_time": "2023-05-09T10:53:24.177Z"
   },
   {
    "duration": 7,
    "start_time": "2023-05-09T10:53:47.390Z"
   },
   {
    "duration": 54,
    "start_time": "2023-05-09T10:53:56.520Z"
   },
   {
    "duration": 20,
    "start_time": "2023-05-09T10:54:03.970Z"
   },
   {
    "duration": 12,
    "start_time": "2023-05-09T10:54:08.789Z"
   },
   {
    "duration": 20,
    "start_time": "2023-05-09T10:54:10.798Z"
   },
   {
    "duration": 9,
    "start_time": "2023-05-09T10:54:14.915Z"
   },
   {
    "duration": 10,
    "start_time": "2023-05-09T10:54:17.221Z"
   },
   {
    "duration": 3,
    "start_time": "2023-05-09T10:54:22.735Z"
   },
   {
    "duration": 8,
    "start_time": "2023-05-09T10:54:24.563Z"
   },
   {
    "duration": 3,
    "start_time": "2023-05-09T10:54:26.914Z"
   },
   {
    "duration": 5,
    "start_time": "2023-05-09T10:54:28.961Z"
   },
   {
    "duration": 8,
    "start_time": "2023-05-09T10:54:30.308Z"
   },
   {
    "duration": 15,
    "start_time": "2023-05-09T10:54:37.232Z"
   },
   {
    "duration": 16,
    "start_time": "2023-05-09T10:58:51.094Z"
   },
   {
    "duration": 8,
    "start_time": "2023-05-09T11:03:09.635Z"
   },
   {
    "duration": 15,
    "start_time": "2023-05-09T11:03:11.621Z"
   },
   {
    "duration": 19,
    "start_time": "2023-05-09T11:03:19.349Z"
   },
   {
    "duration": 13,
    "start_time": "2023-05-09T11:03:25.755Z"
   },
   {
    "duration": 8,
    "start_time": "2023-05-09T11:03:28.505Z"
   },
   {
    "duration": 15,
    "start_time": "2023-05-09T11:03:40.725Z"
   },
   {
    "duration": 91,
    "start_time": "2023-05-09T11:03:49.639Z"
   },
   {
    "duration": 6,
    "start_time": "2023-05-09T11:03:53.531Z"
   },
   {
    "duration": 9,
    "start_time": "2023-05-09T11:03:56.598Z"
   },
   {
    "duration": 8,
    "start_time": "2023-05-09T11:04:51.259Z"
   },
   {
    "duration": 11,
    "start_time": "2023-05-09T11:04:59.194Z"
   },
   {
    "duration": 6,
    "start_time": "2023-05-09T11:05:02.978Z"
   },
   {
    "duration": 11,
    "start_time": "2023-05-09T11:06:16.997Z"
   },
   {
    "duration": 7,
    "start_time": "2023-05-09T11:06:40.161Z"
   },
   {
    "duration": 7,
    "start_time": "2023-05-09T11:06:42.914Z"
   },
   {
    "duration": 17,
    "start_time": "2023-05-09T11:08:20.456Z"
   },
   {
    "duration": 17,
    "start_time": "2023-05-09T11:09:00.698Z"
   },
   {
    "duration": 13,
    "start_time": "2023-05-09T11:10:20.113Z"
   },
   {
    "duration": 16,
    "start_time": "2023-05-09T11:13:23.451Z"
   },
   {
    "duration": 10,
    "start_time": "2023-05-09T11:35:16.908Z"
   },
   {
    "duration": 6,
    "start_time": "2023-05-09T11:59:46.054Z"
   },
   {
    "duration": 7,
    "start_time": "2023-05-09T12:01:27.898Z"
   },
   {
    "duration": 9,
    "start_time": "2023-05-09T12:03:01.621Z"
   },
   {
    "duration": 13,
    "start_time": "2023-05-09T12:07:57.988Z"
   },
   {
    "duration": 128,
    "start_time": "2023-05-09T12:08:13.468Z"
   },
   {
    "duration": 439,
    "start_time": "2023-05-09T12:09:05.632Z"
   },
   {
    "duration": 269,
    "start_time": "2023-05-09T12:11:19.056Z"
   },
   {
    "duration": 307,
    "start_time": "2023-05-09T12:11:52.557Z"
   },
   {
    "duration": 358,
    "start_time": "2023-05-09T12:15:00.579Z"
   },
   {
    "duration": 415,
    "start_time": "2023-05-09T12:15:15.856Z"
   },
   {
    "duration": 385,
    "start_time": "2023-05-09T12:17:07.092Z"
   },
   {
    "duration": 12,
    "start_time": "2023-05-09T12:35:59.416Z"
   },
   {
    "duration": 68,
    "start_time": "2023-05-09T12:39:20.623Z"
   },
   {
    "duration": 42,
    "start_time": "2023-05-09T12:39:40.334Z"
   },
   {
    "duration": 54,
    "start_time": "2023-05-09T12:39:54.124Z"
   },
   {
    "duration": 13,
    "start_time": "2023-05-09T12:39:58.824Z"
   },
   {
    "duration": 1060,
    "start_time": "2023-05-09T12:40:20.260Z"
   },
   {
    "duration": 204,
    "start_time": "2023-05-09T12:40:37.430Z"
   },
   {
    "duration": 16,
    "start_time": "2023-05-09T12:41:00.628Z"
   },
   {
    "duration": 246,
    "start_time": "2023-05-09T12:42:27.218Z"
   },
   {
    "duration": 12,
    "start_time": "2023-05-09T12:44:27.504Z"
   },
   {
    "duration": 16,
    "start_time": "2023-05-09T12:45:57.310Z"
   },
   {
    "duration": 12,
    "start_time": "2023-05-09T12:46:03.567Z"
   },
   {
    "duration": 18,
    "start_time": "2023-05-09T12:46:16.361Z"
   },
   {
    "duration": 13,
    "start_time": "2023-05-09T12:46:33.032Z"
   },
   {
    "duration": 12,
    "start_time": "2023-05-09T12:46:57.558Z"
   },
   {
    "duration": 58,
    "start_time": "2023-05-09T12:58:17.536Z"
   },
   {
    "duration": 56,
    "start_time": "2023-05-09T12:58:26.105Z"
   },
   {
    "duration": 51,
    "start_time": "2023-05-09T12:58:33.621Z"
   },
   {
    "duration": 51,
    "start_time": "2023-05-09T12:58:44.130Z"
   },
   {
    "duration": 14,
    "start_time": "2023-05-09T12:58:53.322Z"
   },
   {
    "duration": 17,
    "start_time": "2023-05-09T12:59:36.986Z"
   },
   {
    "duration": 17,
    "start_time": "2023-05-09T12:59:50.727Z"
   },
   {
    "duration": 11,
    "start_time": "2023-05-09T13:00:41.047Z"
   },
   {
    "duration": 15,
    "start_time": "2023-05-09T13:00:57.594Z"
   },
   {
    "duration": 28,
    "start_time": "2023-05-09T13:04:59.676Z"
   },
   {
    "duration": 7,
    "start_time": "2023-05-09T13:05:22.836Z"
   },
   {
    "duration": 10,
    "start_time": "2023-05-09T13:06:23.411Z"
   },
   {
    "duration": 8,
    "start_time": "2023-05-09T13:08:54.616Z"
   },
   {
    "duration": 5,
    "start_time": "2023-05-09T13:08:57.753Z"
   },
   {
    "duration": 24,
    "start_time": "2023-05-09T13:09:06.948Z"
   },
   {
    "duration": 16,
    "start_time": "2023-05-09T13:09:35.162Z"
   },
   {
    "duration": 48,
    "start_time": "2023-05-09T13:09:57.214Z"
   },
   {
    "duration": 14,
    "start_time": "2023-05-09T13:09:59.770Z"
   },
   {
    "duration": 19,
    "start_time": "2023-05-09T13:10:13.945Z"
   },
   {
    "duration": 22,
    "start_time": "2023-05-09T13:11:04.808Z"
   },
   {
    "duration": 34,
    "start_time": "2023-05-09T13:11:10.231Z"
   },
   {
    "duration": 21,
    "start_time": "2023-05-09T13:11:17.183Z"
   },
   {
    "duration": 20,
    "start_time": "2023-05-09T13:13:49.802Z"
   },
   {
    "duration": 16,
    "start_time": "2023-05-09T13:13:57.972Z"
   },
   {
    "duration": 7,
    "start_time": "2023-05-09T13:29:39.231Z"
   },
   {
    "duration": 11,
    "start_time": "2023-05-09T13:31:08.703Z"
   },
   {
    "duration": 10,
    "start_time": "2023-05-09T13:32:11.367Z"
   },
   {
    "duration": 11,
    "start_time": "2023-05-09T13:32:27.727Z"
   },
   {
    "duration": 14,
    "start_time": "2023-05-09T13:32:55.141Z"
   },
   {
    "duration": 14,
    "start_time": "2023-05-09T13:33:42.826Z"
   },
   {
    "duration": 12,
    "start_time": "2023-05-09T13:34:20.909Z"
   },
   {
    "duration": 14,
    "start_time": "2023-05-09T13:36:50.350Z"
   },
   {
    "duration": 15,
    "start_time": "2023-05-09T13:40:02.507Z"
   },
   {
    "duration": 7,
    "start_time": "2023-05-09T13:40:06.359Z"
   },
   {
    "duration": 24,
    "start_time": "2023-05-09T13:40:20.990Z"
   },
   {
    "duration": 10,
    "start_time": "2023-05-09T13:40:37.001Z"
   },
   {
    "duration": 7,
    "start_time": "2023-05-09T13:41:12.574Z"
   },
   {
    "duration": 6,
    "start_time": "2023-05-09T13:41:58.756Z"
   },
   {
    "duration": 6,
    "start_time": "2023-05-09T13:42:31.468Z"
   },
   {
    "duration": 4,
    "start_time": "2023-05-09T13:43:59.105Z"
   },
   {
    "duration": 1341,
    "start_time": "2023-05-09T13:44:39.237Z"
   },
   {
    "duration": 114,
    "start_time": "2023-05-09T13:44:40.581Z"
   },
   {
    "duration": 7,
    "start_time": "2023-05-09T13:44:40.698Z"
   },
   {
    "duration": 51,
    "start_time": "2023-05-09T13:44:40.707Z"
   },
   {
    "duration": 45,
    "start_time": "2023-05-09T13:44:40.760Z"
   },
   {
    "duration": 10,
    "start_time": "2023-05-09T13:44:40.807Z"
   },
   {
    "duration": 16,
    "start_time": "2023-05-09T13:44:40.819Z"
   },
   {
    "duration": 23,
    "start_time": "2023-05-09T13:44:40.837Z"
   },
   {
    "duration": 48,
    "start_time": "2023-05-09T13:44:40.862Z"
   },
   {
    "duration": 9,
    "start_time": "2023-05-09T13:44:40.913Z"
   },
   {
    "duration": 34,
    "start_time": "2023-05-09T13:44:40.924Z"
   },
   {
    "duration": 21,
    "start_time": "2023-05-09T13:44:40.960Z"
   },
   {
    "duration": 775,
    "start_time": "2023-05-09T13:44:40.985Z"
   },
   {
    "duration": 28,
    "start_time": "2023-05-09T13:44:41.763Z"
   },
   {
    "duration": 9,
    "start_time": "2023-05-09T13:44:41.800Z"
   },
   {
    "duration": 13,
    "start_time": "2023-05-09T13:44:41.812Z"
   },
   {
    "duration": 6,
    "start_time": "2023-05-09T13:44:41.828Z"
   },
   {
    "duration": 17,
    "start_time": "2023-05-09T13:44:41.837Z"
   },
   {
    "duration": 12,
    "start_time": "2023-05-09T13:44:41.856Z"
   },
   {
    "duration": 15,
    "start_time": "2023-05-09T13:44:41.884Z"
   },
   {
    "duration": 40,
    "start_time": "2023-05-09T13:44:41.901Z"
   },
   {
    "duration": 7,
    "start_time": "2023-05-09T13:44:41.942Z"
   },
   {
    "duration": 32,
    "start_time": "2023-05-09T13:44:41.951Z"
   },
   {
    "duration": 1086,
    "start_time": "2023-05-09T13:44:41.986Z"
   },
   {
    "duration": 1,
    "start_time": "2023-05-09T13:44:43.074Z"
   },
   {
    "duration": 0,
    "start_time": "2023-05-09T13:44:43.076Z"
   },
   {
    "duration": 0,
    "start_time": "2023-05-09T13:44:43.077Z"
   },
   {
    "duration": 0,
    "start_time": "2023-05-09T13:44:43.079Z"
   },
   {
    "duration": 0,
    "start_time": "2023-05-09T13:44:43.080Z"
   },
   {
    "duration": 0,
    "start_time": "2023-05-09T13:44:43.082Z"
   },
   {
    "duration": 0,
    "start_time": "2023-05-09T13:44:43.087Z"
   },
   {
    "duration": 0,
    "start_time": "2023-05-09T13:44:43.091Z"
   },
   {
    "duration": 0,
    "start_time": "2023-05-09T13:44:43.092Z"
   },
   {
    "duration": 0,
    "start_time": "2023-05-09T13:44:43.094Z"
   },
   {
    "duration": 0,
    "start_time": "2023-05-09T13:44:43.095Z"
   },
   {
    "duration": 0,
    "start_time": "2023-05-09T13:44:43.096Z"
   },
   {
    "duration": 0,
    "start_time": "2023-05-09T13:44:43.097Z"
   },
   {
    "duration": 0,
    "start_time": "2023-05-09T13:44:43.098Z"
   },
   {
    "duration": 0,
    "start_time": "2023-05-09T13:44:43.099Z"
   },
   {
    "duration": 0,
    "start_time": "2023-05-09T13:44:43.100Z"
   },
   {
    "duration": 0,
    "start_time": "2023-05-09T13:44:43.101Z"
   },
   {
    "duration": 0,
    "start_time": "2023-05-09T13:44:43.102Z"
   },
   {
    "duration": 0,
    "start_time": "2023-05-09T13:44:43.103Z"
   },
   {
    "duration": 0,
    "start_time": "2023-05-09T13:44:43.105Z"
   },
   {
    "duration": 0,
    "start_time": "2023-05-09T13:44:43.106Z"
   },
   {
    "duration": 0,
    "start_time": "2023-05-09T13:44:43.106Z"
   },
   {
    "duration": 0,
    "start_time": "2023-05-09T13:44:43.108Z"
   },
   {
    "duration": 0,
    "start_time": "2023-05-09T13:44:43.109Z"
   },
   {
    "duration": 1340,
    "start_time": "2023-05-09T13:46:48.274Z"
   },
   {
    "duration": 114,
    "start_time": "2023-05-09T13:46:49.616Z"
   },
   {
    "duration": 7,
    "start_time": "2023-05-09T13:46:49.732Z"
   },
   {
    "duration": 77,
    "start_time": "2023-05-09T13:46:49.741Z"
   },
   {
    "duration": 60,
    "start_time": "2023-05-09T13:46:49.820Z"
   },
   {
    "duration": 15,
    "start_time": "2023-05-09T13:46:49.882Z"
   },
   {
    "duration": 17,
    "start_time": "2023-05-09T13:46:49.902Z"
   },
   {
    "duration": 28,
    "start_time": "2023-05-09T13:46:49.920Z"
   },
   {
    "duration": 34,
    "start_time": "2023-05-09T13:46:49.949Z"
   },
   {
    "duration": 15,
    "start_time": "2023-05-09T13:46:49.990Z"
   },
   {
    "duration": 14,
    "start_time": "2023-05-09T13:46:50.007Z"
   },
   {
    "duration": 28,
    "start_time": "2023-05-09T13:46:50.023Z"
   },
   {
    "duration": 784,
    "start_time": "2023-05-09T13:46:50.053Z"
   },
   {
    "duration": 9,
    "start_time": "2023-05-09T13:46:50.839Z"
   },
   {
    "duration": 51,
    "start_time": "2023-05-09T13:46:50.850Z"
   },
   {
    "duration": 57,
    "start_time": "2023-05-09T13:46:50.902Z"
   },
   {
    "duration": 9,
    "start_time": "2023-05-09T13:46:50.961Z"
   },
   {
    "duration": 24,
    "start_time": "2023-05-09T13:46:50.972Z"
   },
   {
    "duration": 25,
    "start_time": "2023-05-09T13:46:50.997Z"
   },
   {
    "duration": 13,
    "start_time": "2023-05-09T13:46:51.024Z"
   },
   {
    "duration": 49,
    "start_time": "2023-05-09T13:46:51.039Z"
   },
   {
    "duration": 12,
    "start_time": "2023-05-09T13:46:51.089Z"
   },
   {
    "duration": 23,
    "start_time": "2023-05-09T13:46:51.103Z"
   },
   {
    "duration": 118,
    "start_time": "2023-05-09T13:46:51.128Z"
   },
   {
    "duration": 0,
    "start_time": "2023-05-09T13:46:51.248Z"
   },
   {
    "duration": 0,
    "start_time": "2023-05-09T13:46:51.250Z"
   },
   {
    "duration": 0,
    "start_time": "2023-05-09T13:46:51.251Z"
   },
   {
    "duration": 0,
    "start_time": "2023-05-09T13:46:51.252Z"
   },
   {
    "duration": 0,
    "start_time": "2023-05-09T13:46:51.253Z"
   },
   {
    "duration": 0,
    "start_time": "2023-05-09T13:46:51.255Z"
   },
   {
    "duration": 0,
    "start_time": "2023-05-09T13:46:51.256Z"
   },
   {
    "duration": 0,
    "start_time": "2023-05-09T13:46:51.257Z"
   },
   {
    "duration": 1,
    "start_time": "2023-05-09T13:46:51.258Z"
   },
   {
    "duration": 0,
    "start_time": "2023-05-09T13:46:51.259Z"
   },
   {
    "duration": 0,
    "start_time": "2023-05-09T13:46:51.283Z"
   },
   {
    "duration": 0,
    "start_time": "2023-05-09T13:46:51.284Z"
   },
   {
    "duration": 0,
    "start_time": "2023-05-09T13:46:51.285Z"
   },
   {
    "duration": 0,
    "start_time": "2023-05-09T13:46:51.286Z"
   },
   {
    "duration": 0,
    "start_time": "2023-05-09T13:46:51.287Z"
   },
   {
    "duration": 0,
    "start_time": "2023-05-09T13:46:51.287Z"
   },
   {
    "duration": 0,
    "start_time": "2023-05-09T13:46:51.288Z"
   },
   {
    "duration": 0,
    "start_time": "2023-05-09T13:46:51.293Z"
   },
   {
    "duration": 0,
    "start_time": "2023-05-09T13:46:51.293Z"
   },
   {
    "duration": 0,
    "start_time": "2023-05-09T13:46:51.294Z"
   },
   {
    "duration": 0,
    "start_time": "2023-05-09T13:46:51.295Z"
   },
   {
    "duration": 0,
    "start_time": "2023-05-09T13:46:51.296Z"
   },
   {
    "duration": 0,
    "start_time": "2023-05-09T13:46:51.298Z"
   },
   {
    "duration": 0,
    "start_time": "2023-05-09T13:46:51.299Z"
   },
   {
    "duration": 51,
    "start_time": "2023-05-09T13:47:19.693Z"
   },
   {
    "duration": 2,
    "start_time": "2023-05-09T13:47:55.897Z"
   },
   {
    "duration": 3,
    "start_time": "2023-05-09T13:48:01.681Z"
   },
   {
    "duration": 5,
    "start_time": "2023-05-09T13:48:11.789Z"
   },
   {
    "duration": 48,
    "start_time": "2023-05-09T13:48:34.000Z"
   },
   {
    "duration": 57,
    "start_time": "2023-05-09T13:48:41.172Z"
   },
   {
    "duration": 2,
    "start_time": "2023-05-09T13:49:24.395Z"
   },
   {
    "duration": 14,
    "start_time": "2023-05-09T13:49:42.589Z"
   },
   {
    "duration": 1269,
    "start_time": "2023-05-09T13:49:50.054Z"
   },
   {
    "duration": 118,
    "start_time": "2023-05-09T13:49:51.325Z"
   },
   {
    "duration": 9,
    "start_time": "2023-05-09T13:49:51.444Z"
   },
   {
    "duration": 72,
    "start_time": "2023-05-09T13:49:51.455Z"
   },
   {
    "duration": 26,
    "start_time": "2023-05-09T13:49:51.529Z"
   },
   {
    "duration": 36,
    "start_time": "2023-05-09T13:49:51.557Z"
   },
   {
    "duration": 11,
    "start_time": "2023-05-09T13:49:51.600Z"
   },
   {
    "duration": 32,
    "start_time": "2023-05-09T13:49:51.612Z"
   },
   {
    "duration": 46,
    "start_time": "2023-05-09T13:49:51.645Z"
   },
   {
    "duration": 10,
    "start_time": "2023-05-09T13:49:51.694Z"
   },
   {
    "duration": 22,
    "start_time": "2023-05-09T13:49:51.707Z"
   },
   {
    "duration": 21,
    "start_time": "2023-05-09T13:49:51.731Z"
   },
   {
    "duration": 732,
    "start_time": "2023-05-09T13:49:51.754Z"
   },
   {
    "duration": 10,
    "start_time": "2023-05-09T13:49:52.489Z"
   },
   {
    "duration": 34,
    "start_time": "2023-05-09T13:49:52.501Z"
   },
   {
    "duration": 52,
    "start_time": "2023-05-09T13:49:52.537Z"
   },
   {
    "duration": 32,
    "start_time": "2023-05-09T13:49:52.594Z"
   },
   {
    "duration": 18,
    "start_time": "2023-05-09T13:49:52.628Z"
   },
   {
    "duration": 44,
    "start_time": "2023-05-09T13:49:52.647Z"
   },
   {
    "duration": 17,
    "start_time": "2023-05-09T13:49:52.695Z"
   },
   {
    "duration": 42,
    "start_time": "2023-05-09T13:49:52.714Z"
   },
   {
    "duration": 8,
    "start_time": "2023-05-09T13:49:52.757Z"
   },
   {
    "duration": 31,
    "start_time": "2023-05-09T13:49:52.766Z"
   },
   {
    "duration": 10,
    "start_time": "2023-05-09T13:49:52.799Z"
   },
   {
    "duration": 19,
    "start_time": "2023-05-09T13:49:52.811Z"
   },
   {
    "duration": 14,
    "start_time": "2023-05-09T13:49:52.832Z"
   },
   {
    "duration": 21,
    "start_time": "2023-05-09T13:49:52.848Z"
   },
   {
    "duration": 25,
    "start_time": "2023-05-09T13:49:52.874Z"
   },
   {
    "duration": 20,
    "start_time": "2023-05-09T13:49:52.903Z"
   },
   {
    "duration": 35,
    "start_time": "2023-05-09T13:49:52.925Z"
   },
   {
    "duration": 140,
    "start_time": "2023-05-09T13:49:52.962Z"
   },
   {
    "duration": 0,
    "start_time": "2023-05-09T13:49:53.104Z"
   },
   {
    "duration": 0,
    "start_time": "2023-05-09T13:49:53.106Z"
   },
   {
    "duration": 0,
    "start_time": "2023-05-09T13:49:53.107Z"
   },
   {
    "duration": 0,
    "start_time": "2023-05-09T13:49:53.108Z"
   },
   {
    "duration": 0,
    "start_time": "2023-05-09T13:49:53.109Z"
   },
   {
    "duration": 0,
    "start_time": "2023-05-09T13:49:53.111Z"
   },
   {
    "duration": 0,
    "start_time": "2023-05-09T13:49:53.112Z"
   },
   {
    "duration": 0,
    "start_time": "2023-05-09T13:49:53.114Z"
   },
   {
    "duration": 0,
    "start_time": "2023-05-09T13:49:53.116Z"
   },
   {
    "duration": 0,
    "start_time": "2023-05-09T13:49:53.117Z"
   },
   {
    "duration": 0,
    "start_time": "2023-05-09T13:49:53.119Z"
   },
   {
    "duration": 0,
    "start_time": "2023-05-09T13:49:53.120Z"
   },
   {
    "duration": 0,
    "start_time": "2023-05-09T13:49:53.122Z"
   },
   {
    "duration": 0,
    "start_time": "2023-05-09T13:49:53.124Z"
   },
   {
    "duration": 0,
    "start_time": "2023-05-09T13:49:53.125Z"
   },
   {
    "duration": 1,
    "start_time": "2023-05-09T13:49:53.126Z"
   },
   {
    "duration": 11,
    "start_time": "2023-05-09T13:51:15.658Z"
   },
   {
    "duration": 2,
    "start_time": "2023-05-09T13:51:31.511Z"
   },
   {
    "duration": 1357,
    "start_time": "2023-05-09T13:51:39.569Z"
   },
   {
    "duration": 122,
    "start_time": "2023-05-09T13:51:40.928Z"
   },
   {
    "duration": 9,
    "start_time": "2023-05-09T13:51:41.052Z"
   },
   {
    "duration": 141,
    "start_time": "2023-05-09T13:51:41.064Z"
   },
   {
    "duration": 25,
    "start_time": "2023-05-09T13:51:41.207Z"
   },
   {
    "duration": 9,
    "start_time": "2023-05-09T13:51:41.234Z"
   },
   {
    "duration": 14,
    "start_time": "2023-05-09T13:51:41.245Z"
   },
   {
    "duration": 32,
    "start_time": "2023-05-09T13:51:41.260Z"
   },
   {
    "duration": 38,
    "start_time": "2023-05-09T13:51:41.298Z"
   },
   {
    "duration": 11,
    "start_time": "2023-05-09T13:51:41.340Z"
   },
   {
    "duration": 53,
    "start_time": "2023-05-09T13:51:41.353Z"
   },
   {
    "duration": 9,
    "start_time": "2023-05-09T13:51:41.411Z"
   },
   {
    "duration": 749,
    "start_time": "2023-05-09T13:51:41.422Z"
   },
   {
    "duration": 14,
    "start_time": "2023-05-09T13:51:42.174Z"
   },
   {
    "duration": 27,
    "start_time": "2023-05-09T13:51:42.195Z"
   },
   {
    "duration": 26,
    "start_time": "2023-05-09T13:51:42.224Z"
   },
   {
    "duration": 12,
    "start_time": "2023-05-09T13:51:42.252Z"
   },
   {
    "duration": 37,
    "start_time": "2023-05-09T13:51:42.265Z"
   },
   {
    "duration": 22,
    "start_time": "2023-05-09T13:51:42.304Z"
   },
   {
    "duration": 11,
    "start_time": "2023-05-09T13:51:42.328Z"
   },
   {
    "duration": 42,
    "start_time": "2023-05-09T13:51:42.340Z"
   },
   {
    "duration": 19,
    "start_time": "2023-05-09T13:51:42.383Z"
   },
   {
    "duration": 20,
    "start_time": "2023-05-09T13:51:42.404Z"
   },
   {
    "duration": 13,
    "start_time": "2023-05-09T13:51:42.426Z"
   },
   {
    "duration": 9,
    "start_time": "2023-05-09T13:51:42.441Z"
   },
   {
    "duration": 5,
    "start_time": "2023-05-09T13:51:42.451Z"
   },
   {
    "duration": 12,
    "start_time": "2023-05-09T13:51:42.458Z"
   },
   {
    "duration": 7,
    "start_time": "2023-05-09T13:51:42.473Z"
   },
   {
    "duration": 25,
    "start_time": "2023-05-09T13:51:42.481Z"
   },
   {
    "duration": 13,
    "start_time": "2023-05-09T13:51:42.507Z"
   },
   {
    "duration": 32,
    "start_time": "2023-05-09T13:51:42.521Z"
   },
   {
    "duration": 58,
    "start_time": "2023-05-09T13:51:42.555Z"
   },
   {
    "duration": 0,
    "start_time": "2023-05-09T13:51:42.615Z"
   },
   {
    "duration": 0,
    "start_time": "2023-05-09T13:51:42.616Z"
   },
   {
    "duration": 0,
    "start_time": "2023-05-09T13:51:42.618Z"
   },
   {
    "duration": 0,
    "start_time": "2023-05-09T13:51:42.619Z"
   },
   {
    "duration": 0,
    "start_time": "2023-05-09T13:51:42.621Z"
   },
   {
    "duration": 0,
    "start_time": "2023-05-09T13:51:42.622Z"
   },
   {
    "duration": 0,
    "start_time": "2023-05-09T13:51:42.623Z"
   },
   {
    "duration": 0,
    "start_time": "2023-05-09T13:51:42.624Z"
   },
   {
    "duration": 0,
    "start_time": "2023-05-09T13:51:42.625Z"
   },
   {
    "duration": 0,
    "start_time": "2023-05-09T13:51:42.626Z"
   },
   {
    "duration": 0,
    "start_time": "2023-05-09T13:51:42.627Z"
   },
   {
    "duration": 1355,
    "start_time": "2023-05-09T13:52:04.210Z"
   },
   {
    "duration": 116,
    "start_time": "2023-05-09T13:52:05.567Z"
   },
   {
    "duration": 11,
    "start_time": "2023-05-09T13:52:05.686Z"
   },
   {
    "duration": 58,
    "start_time": "2023-05-09T13:52:05.702Z"
   },
   {
    "duration": 30,
    "start_time": "2023-05-09T13:52:05.762Z"
   },
   {
    "duration": 15,
    "start_time": "2023-05-09T13:52:05.794Z"
   },
   {
    "duration": 7,
    "start_time": "2023-05-09T13:52:05.811Z"
   },
   {
    "duration": 38,
    "start_time": "2023-05-09T13:52:05.819Z"
   },
   {
    "duration": 74,
    "start_time": "2023-05-09T13:52:05.859Z"
   },
   {
    "duration": 10,
    "start_time": "2023-05-09T13:52:05.936Z"
   },
   {
    "duration": 43,
    "start_time": "2023-05-09T13:52:05.947Z"
   },
   {
    "duration": 17,
    "start_time": "2023-05-09T13:52:05.992Z"
   },
   {
    "duration": 766,
    "start_time": "2023-05-09T13:52:06.011Z"
   },
   {
    "duration": 9,
    "start_time": "2023-05-09T13:52:06.779Z"
   },
   {
    "duration": 29,
    "start_time": "2023-05-09T13:52:06.790Z"
   },
   {
    "duration": 14,
    "start_time": "2023-05-09T13:52:06.822Z"
   },
   {
    "duration": 7,
    "start_time": "2023-05-09T13:52:06.838Z"
   },
   {
    "duration": 15,
    "start_time": "2023-05-09T13:52:06.847Z"
   },
   {
    "duration": 14,
    "start_time": "2023-05-09T13:52:06.864Z"
   },
   {
    "duration": 27,
    "start_time": "2023-05-09T13:52:06.884Z"
   },
   {
    "duration": 33,
    "start_time": "2023-05-09T13:52:06.913Z"
   },
   {
    "duration": 7,
    "start_time": "2023-05-09T13:52:06.948Z"
   },
   {
    "duration": 56,
    "start_time": "2023-05-09T13:52:06.956Z"
   },
   {
    "duration": 9,
    "start_time": "2023-05-09T13:52:07.014Z"
   },
   {
    "duration": 17,
    "start_time": "2023-05-09T13:52:07.024Z"
   },
   {
    "duration": 31,
    "start_time": "2023-05-09T13:52:07.043Z"
   },
   {
    "duration": 31,
    "start_time": "2023-05-09T13:52:07.076Z"
   },
   {
    "duration": 53,
    "start_time": "2023-05-09T13:52:07.111Z"
   },
   {
    "duration": 70,
    "start_time": "2023-05-09T13:52:07.166Z"
   },
   {
    "duration": 38,
    "start_time": "2023-05-09T13:52:07.238Z"
   },
   {
    "duration": 16,
    "start_time": "2023-05-09T13:52:07.278Z"
   },
   {
    "duration": 46,
    "start_time": "2023-05-09T13:52:07.296Z"
   },
   {
    "duration": 21,
    "start_time": "2023-05-09T13:52:07.344Z"
   },
   {
    "duration": 44,
    "start_time": "2023-05-09T13:52:07.366Z"
   },
   {
    "duration": 57,
    "start_time": "2023-05-09T13:52:07.413Z"
   },
   {
    "duration": 0,
    "start_time": "2023-05-09T13:52:07.472Z"
   },
   {
    "duration": 0,
    "start_time": "2023-05-09T13:52:07.473Z"
   },
   {
    "duration": 0,
    "start_time": "2023-05-09T13:52:07.474Z"
   },
   {
    "duration": 0,
    "start_time": "2023-05-09T13:52:07.476Z"
   },
   {
    "duration": 0,
    "start_time": "2023-05-09T13:52:07.477Z"
   },
   {
    "duration": 0,
    "start_time": "2023-05-09T13:52:07.478Z"
   },
   {
    "duration": 0,
    "start_time": "2023-05-09T13:52:07.479Z"
   },
   {
    "duration": 3,
    "start_time": "2023-05-09T13:53:11.227Z"
   },
   {
    "duration": 1352,
    "start_time": "2023-05-09T13:53:19.956Z"
   },
   {
    "duration": 156,
    "start_time": "2023-05-09T13:53:21.311Z"
   },
   {
    "duration": 13,
    "start_time": "2023-05-09T13:53:21.473Z"
   },
   {
    "duration": 115,
    "start_time": "2023-05-09T13:53:21.497Z"
   },
   {
    "duration": 23,
    "start_time": "2023-05-09T13:53:21.614Z"
   },
   {
    "duration": 7,
    "start_time": "2023-05-09T13:53:21.639Z"
   },
   {
    "duration": 28,
    "start_time": "2023-05-09T13:53:21.648Z"
   },
   {
    "duration": 49,
    "start_time": "2023-05-09T13:53:21.678Z"
   },
   {
    "duration": 54,
    "start_time": "2023-05-09T13:53:21.729Z"
   },
   {
    "duration": 25,
    "start_time": "2023-05-09T13:53:21.786Z"
   },
   {
    "duration": 42,
    "start_time": "2023-05-09T13:53:21.813Z"
   },
   {
    "duration": 13,
    "start_time": "2023-05-09T13:53:21.857Z"
   },
   {
    "duration": 797,
    "start_time": "2023-05-09T13:53:21.872Z"
   },
   {
    "duration": 27,
    "start_time": "2023-05-09T13:53:22.672Z"
   },
   {
    "duration": 31,
    "start_time": "2023-05-09T13:53:22.701Z"
   },
   {
    "duration": 15,
    "start_time": "2023-05-09T13:53:22.734Z"
   },
   {
    "duration": 10,
    "start_time": "2023-05-09T13:53:22.751Z"
   },
   {
    "duration": 16,
    "start_time": "2023-05-09T13:53:22.763Z"
   },
   {
    "duration": 38,
    "start_time": "2023-05-09T13:53:22.782Z"
   },
   {
    "duration": 10,
    "start_time": "2023-05-09T13:53:22.822Z"
   },
   {
    "duration": 33,
    "start_time": "2023-05-09T13:53:22.833Z"
   },
   {
    "duration": 23,
    "start_time": "2023-05-09T13:53:22.867Z"
   },
   {
    "duration": 32,
    "start_time": "2023-05-09T13:53:22.892Z"
   },
   {
    "duration": 5,
    "start_time": "2023-05-09T13:53:22.925Z"
   },
   {
    "duration": 9,
    "start_time": "2023-05-09T13:53:22.932Z"
   },
   {
    "duration": 12,
    "start_time": "2023-05-09T13:53:22.944Z"
   },
   {
    "duration": 8,
    "start_time": "2023-05-09T13:53:22.958Z"
   },
   {
    "duration": 7,
    "start_time": "2023-05-09T13:53:22.971Z"
   },
   {
    "duration": 28,
    "start_time": "2023-05-09T13:53:22.980Z"
   },
   {
    "duration": 15,
    "start_time": "2023-05-09T13:53:23.011Z"
   },
   {
    "duration": 7,
    "start_time": "2023-05-09T13:53:23.028Z"
   },
   {
    "duration": 7,
    "start_time": "2023-05-09T13:53:23.037Z"
   },
   {
    "duration": 12,
    "start_time": "2023-05-09T13:53:23.045Z"
   },
   {
    "duration": 13,
    "start_time": "2023-05-09T13:53:23.059Z"
   },
   {
    "duration": 47,
    "start_time": "2023-05-09T13:53:23.074Z"
   },
   {
    "duration": 119,
    "start_time": "2023-05-09T13:53:23.124Z"
   },
   {
    "duration": 6,
    "start_time": "2023-05-09T13:53:23.245Z"
   },
   {
    "duration": 16,
    "start_time": "2023-05-09T13:53:23.253Z"
   },
   {
    "duration": 318,
    "start_time": "2023-05-09T13:53:23.271Z"
   },
   {
    "duration": 270,
    "start_time": "2023-05-09T13:53:23.591Z"
   },
   {
    "duration": 483,
    "start_time": "2023-05-09T13:53:23.864Z"
   },
   {
    "duration": 328,
    "start_time": "2023-05-09T13:53:24.350Z"
   },
   {
    "duration": 3,
    "start_time": "2023-05-09T13:54:16.552Z"
   },
   {
    "duration": 6,
    "start_time": "2023-05-09T13:55:51.103Z"
   },
   {
    "duration": 258,
    "start_time": "2023-05-09T13:57:23.016Z"
   },
   {
    "duration": 287,
    "start_time": "2023-05-09T13:58:04.678Z"
   },
   {
    "duration": 247,
    "start_time": "2023-05-09T13:58:25.315Z"
   },
   {
    "duration": 193,
    "start_time": "2023-05-09T14:09:36.121Z"
   },
   {
    "duration": 3,
    "start_time": "2023-05-09T14:16:09.713Z"
   },
   {
    "duration": 9,
    "start_time": "2023-05-09T14:16:56.984Z"
   },
   {
    "duration": 16,
    "start_time": "2023-05-09T14:18:23.424Z"
   },
   {
    "duration": 18,
    "start_time": "2023-05-09T14:18:26.227Z"
   },
   {
    "duration": 18,
    "start_time": "2023-05-09T14:18:35.062Z"
   },
   {
    "duration": 111,
    "start_time": "2023-05-09T14:18:45.394Z"
   },
   {
    "duration": 13,
    "start_time": "2023-05-09T14:18:54.062Z"
   },
   {
    "duration": 20,
    "start_time": "2023-05-09T14:22:14.776Z"
   },
   {
    "duration": 12,
    "start_time": "2023-05-09T14:27:38.342Z"
   },
   {
    "duration": 8,
    "start_time": "2023-05-09T14:31:06.295Z"
   },
   {
    "duration": 9,
    "start_time": "2023-05-09T14:31:13.156Z"
   },
   {
    "duration": 50,
    "start_time": "2023-05-09T14:37:55.850Z"
   },
   {
    "duration": 10,
    "start_time": "2023-05-09T14:38:08.092Z"
   },
   {
    "duration": 12,
    "start_time": "2023-05-09T14:38:51.433Z"
   },
   {
    "duration": 18,
    "start_time": "2023-05-09T14:39:31.049Z"
   },
   {
    "duration": 13,
    "start_time": "2023-05-09T14:40:01.729Z"
   },
   {
    "duration": 64,
    "start_time": "2023-05-09T14:42:37.351Z"
   },
   {
    "duration": 62,
    "start_time": "2023-05-09T14:45:00.160Z"
   },
   {
    "duration": 68,
    "start_time": "2023-05-09T14:45:12.598Z"
   },
   {
    "duration": 13,
    "start_time": "2023-05-09T14:45:36.120Z"
   },
   {
    "duration": 18,
    "start_time": "2023-05-09T14:48:10.111Z"
   },
   {
    "duration": 8,
    "start_time": "2023-05-09T14:48:25.379Z"
   },
   {
    "duration": 12,
    "start_time": "2023-05-09T15:55:28.086Z"
   },
   {
    "duration": 9,
    "start_time": "2023-05-09T15:59:15.782Z"
   },
   {
    "duration": 11,
    "start_time": "2023-05-09T16:00:18.087Z"
   },
   {
    "duration": 9,
    "start_time": "2023-05-09T16:00:26.387Z"
   },
   {
    "duration": 11,
    "start_time": "2023-05-09T16:00:50.709Z"
   },
   {
    "duration": 10,
    "start_time": "2023-05-09T16:06:35.740Z"
   },
   {
    "duration": 56,
    "start_time": "2023-05-09T16:07:11.550Z"
   },
   {
    "duration": 158,
    "start_time": "2023-05-09T16:12:26.581Z"
   },
   {
    "duration": 61,
    "start_time": "2023-05-09T16:13:04.881Z"
   },
   {
    "duration": 10,
    "start_time": "2023-05-09T16:13:07.336Z"
   },
   {
    "duration": 81,
    "start_time": "2023-05-09T16:13:09.014Z"
   },
   {
    "duration": 9,
    "start_time": "2023-05-09T16:18:17.183Z"
   },
   {
    "duration": 1303,
    "start_time": "2023-05-09T16:19:03.398Z"
   },
   {
    "duration": 124,
    "start_time": "2023-05-09T16:19:04.703Z"
   },
   {
    "duration": 8,
    "start_time": "2023-05-09T16:19:04.829Z"
   },
   {
    "duration": 81,
    "start_time": "2023-05-09T16:19:04.840Z"
   },
   {
    "duration": 24,
    "start_time": "2023-05-09T16:19:04.923Z"
   },
   {
    "duration": 35,
    "start_time": "2023-05-09T16:19:04.950Z"
   },
   {
    "duration": 22,
    "start_time": "2023-05-09T16:19:04.986Z"
   },
   {
    "duration": 31,
    "start_time": "2023-05-09T16:19:05.010Z"
   },
   {
    "duration": 45,
    "start_time": "2023-05-09T16:19:05.043Z"
   },
   {
    "duration": 14,
    "start_time": "2023-05-09T16:19:05.092Z"
   },
   {
    "duration": 32,
    "start_time": "2023-05-09T16:19:05.108Z"
   },
   {
    "duration": 8,
    "start_time": "2023-05-09T16:19:05.142Z"
   },
   {
    "duration": 750,
    "start_time": "2023-05-09T16:19:05.152Z"
   },
   {
    "duration": 11,
    "start_time": "2023-05-09T16:19:05.905Z"
   },
   {
    "duration": 25,
    "start_time": "2023-05-09T16:19:05.918Z"
   },
   {
    "duration": 22,
    "start_time": "2023-05-09T16:19:05.945Z"
   },
   {
    "duration": 12,
    "start_time": "2023-05-09T16:19:05.969Z"
   },
   {
    "duration": 14,
    "start_time": "2023-05-09T16:19:05.983Z"
   },
   {
    "duration": 98,
    "start_time": "2023-05-09T16:19:05.998Z"
   },
   {
    "duration": 16,
    "start_time": "2023-05-09T16:19:06.098Z"
   },
   {
    "duration": 53,
    "start_time": "2023-05-09T16:19:06.116Z"
   },
   {
    "duration": 36,
    "start_time": "2023-05-09T16:19:06.171Z"
   },
   {
    "duration": 15,
    "start_time": "2023-05-09T16:19:06.209Z"
   },
   {
    "duration": 12,
    "start_time": "2023-05-09T16:19:06.226Z"
   },
   {
    "duration": 18,
    "start_time": "2023-05-09T16:19:06.240Z"
   },
   {
    "duration": 11,
    "start_time": "2023-05-09T16:19:06.261Z"
   },
   {
    "duration": 23,
    "start_time": "2023-05-09T16:19:06.274Z"
   },
   {
    "duration": 29,
    "start_time": "2023-05-09T16:19:06.302Z"
   },
   {
    "duration": 9,
    "start_time": "2023-05-09T16:19:06.333Z"
   },
   {
    "duration": 24,
    "start_time": "2023-05-09T16:19:06.344Z"
   },
   {
    "duration": 18,
    "start_time": "2023-05-09T16:19:06.370Z"
   },
   {
    "duration": 12,
    "start_time": "2023-05-09T16:19:06.390Z"
   },
   {
    "duration": 14,
    "start_time": "2023-05-09T16:19:06.403Z"
   },
   {
    "duration": 16,
    "start_time": "2023-05-09T16:19:06.418Z"
   },
   {
    "duration": 94,
    "start_time": "2023-05-09T16:19:06.436Z"
   },
   {
    "duration": 122,
    "start_time": "2023-05-09T16:19:06.532Z"
   },
   {
    "duration": 0,
    "start_time": "2023-05-09T16:19:06.655Z"
   },
   {
    "duration": 0,
    "start_time": "2023-05-09T16:19:06.657Z"
   },
   {
    "duration": 0,
    "start_time": "2023-05-09T16:19:06.658Z"
   },
   {
    "duration": 0,
    "start_time": "2023-05-09T16:19:06.660Z"
   },
   {
    "duration": 0,
    "start_time": "2023-05-09T16:19:06.662Z"
   },
   {
    "duration": 1,
    "start_time": "2023-05-09T16:19:06.663Z"
   },
   {
    "duration": 0,
    "start_time": "2023-05-09T16:19:06.665Z"
   },
   {
    "duration": 0,
    "start_time": "2023-05-09T16:19:06.683Z"
   },
   {
    "duration": 0,
    "start_time": "2023-05-09T16:19:06.685Z"
   },
   {
    "duration": 0,
    "start_time": "2023-05-09T16:19:06.685Z"
   },
   {
    "duration": 19,
    "start_time": "2023-05-09T16:20:57.816Z"
   },
   {
    "duration": 13,
    "start_time": "2023-05-09T16:21:02.357Z"
   },
   {
    "duration": 23,
    "start_time": "2023-05-09T16:21:14.252Z"
   },
   {
    "duration": 5,
    "start_time": "2023-05-09T16:22:05.538Z"
   },
   {
    "duration": 9,
    "start_time": "2023-05-09T16:22:07.795Z"
   },
   {
    "duration": 278,
    "start_time": "2023-05-09T16:22:14.646Z"
   },
   {
    "duration": 11,
    "start_time": "2023-05-09T16:22:54.356Z"
   },
   {
    "duration": 7,
    "start_time": "2023-05-09T16:29:06.115Z"
   },
   {
    "duration": 6,
    "start_time": "2023-05-09T16:30:21.989Z"
   },
   {
    "duration": 6,
    "start_time": "2023-05-09T16:30:34.589Z"
   },
   {
    "duration": 10,
    "start_time": "2023-05-09T16:31:15.759Z"
   },
   {
    "duration": 7,
    "start_time": "2023-05-09T16:31:32.087Z"
   },
   {
    "duration": 6,
    "start_time": "2023-05-09T16:31:34.711Z"
   },
   {
    "duration": 302,
    "start_time": "2023-05-09T16:32:01.463Z"
   },
   {
    "duration": 476,
    "start_time": "2023-05-09T16:32:04.627Z"
   },
   {
    "duration": 17,
    "start_time": "2023-05-09T16:32:07.861Z"
   },
   {
    "duration": 16,
    "start_time": "2023-05-09T16:32:09.907Z"
   },
   {
    "duration": 634,
    "start_time": "2023-05-09T16:32:12.454Z"
   },
   {
    "duration": 554,
    "start_time": "2023-05-09T16:33:26.074Z"
   },
   {
    "duration": 9,
    "start_time": "2023-05-09T16:34:12.072Z"
   },
   {
    "duration": 8,
    "start_time": "2023-05-09T16:34:28.397Z"
   },
   {
    "duration": 9,
    "start_time": "2023-05-09T16:34:32.534Z"
   },
   {
    "duration": 8,
    "start_time": "2023-05-09T16:34:41.834Z"
   },
   {
    "duration": 20,
    "start_time": "2023-05-09T16:36:14.916Z"
   },
   {
    "duration": 11,
    "start_time": "2023-05-09T16:37:22.265Z"
   },
   {
    "duration": 16,
    "start_time": "2023-05-09T16:37:44.316Z"
   },
   {
    "duration": 17,
    "start_time": "2023-05-09T16:37:46.382Z"
   },
   {
    "duration": 1152,
    "start_time": "2023-05-09T16:38:24.829Z"
   },
   {
    "duration": 102,
    "start_time": "2023-05-09T16:38:25.982Z"
   },
   {
    "duration": 7,
    "start_time": "2023-05-09T16:38:26.086Z"
   },
   {
    "duration": 76,
    "start_time": "2023-05-09T16:38:26.095Z"
   },
   {
    "duration": 17,
    "start_time": "2023-05-09T16:38:26.172Z"
   },
   {
    "duration": 10,
    "start_time": "2023-05-09T16:38:26.191Z"
   },
   {
    "duration": 12,
    "start_time": "2023-05-09T16:38:26.203Z"
   },
   {
    "duration": 25,
    "start_time": "2023-05-09T16:38:26.216Z"
   },
   {
    "duration": 51,
    "start_time": "2023-05-09T16:38:26.242Z"
   },
   {
    "duration": 10,
    "start_time": "2023-05-09T16:38:26.297Z"
   },
   {
    "duration": 15,
    "start_time": "2023-05-09T16:38:26.309Z"
   },
   {
    "duration": 3,
    "start_time": "2023-05-09T16:38:26.325Z"
   },
   {
    "duration": 683,
    "start_time": "2023-05-09T16:38:26.330Z"
   },
   {
    "duration": 8,
    "start_time": "2023-05-09T16:38:27.016Z"
   },
   {
    "duration": 16,
    "start_time": "2023-05-09T16:38:27.026Z"
   },
   {
    "duration": 8,
    "start_time": "2023-05-09T16:38:27.044Z"
   },
   {
    "duration": 12,
    "start_time": "2023-05-09T16:38:27.054Z"
   },
   {
    "duration": 19,
    "start_time": "2023-05-09T16:38:27.067Z"
   },
   {
    "duration": 20,
    "start_time": "2023-05-09T16:38:27.087Z"
   },
   {
    "duration": 7,
    "start_time": "2023-05-09T16:38:27.108Z"
   },
   {
    "duration": 34,
    "start_time": "2023-05-09T16:38:27.117Z"
   },
   {
    "duration": 6,
    "start_time": "2023-05-09T16:38:27.152Z"
   },
   {
    "duration": 30,
    "start_time": "2023-05-09T16:38:27.160Z"
   },
   {
    "duration": 2,
    "start_time": "2023-05-09T16:38:27.192Z"
   },
   {
    "duration": 7,
    "start_time": "2023-05-09T16:38:27.195Z"
   },
   {
    "duration": 6,
    "start_time": "2023-05-09T16:38:27.204Z"
   },
   {
    "duration": 6,
    "start_time": "2023-05-09T16:38:27.211Z"
   },
   {
    "duration": 8,
    "start_time": "2023-05-09T16:38:27.220Z"
   },
   {
    "duration": 7,
    "start_time": "2023-05-09T16:38:27.229Z"
   },
   {
    "duration": 6,
    "start_time": "2023-05-09T16:38:27.237Z"
   },
   {
    "duration": 7,
    "start_time": "2023-05-09T16:38:27.244Z"
   },
   {
    "duration": 7,
    "start_time": "2023-05-09T16:38:27.252Z"
   },
   {
    "duration": 6,
    "start_time": "2023-05-09T16:38:27.260Z"
   },
   {
    "duration": 8,
    "start_time": "2023-05-09T16:38:27.268Z"
   },
   {
    "duration": 14,
    "start_time": "2023-05-09T16:38:27.277Z"
   },
   {
    "duration": 13,
    "start_time": "2023-05-09T16:38:27.292Z"
   },
   {
    "duration": 97,
    "start_time": "2023-05-09T16:38:27.307Z"
   },
   {
    "duration": 4,
    "start_time": "2023-05-09T16:38:27.407Z"
   },
   {
    "duration": 11,
    "start_time": "2023-05-09T16:38:27.413Z"
   },
   {
    "duration": 280,
    "start_time": "2023-05-09T16:38:27.425Z"
   },
   {
    "duration": 18,
    "start_time": "2023-05-09T16:38:27.707Z"
   },
   {
    "duration": 313,
    "start_time": "2023-05-09T16:38:27.727Z"
   },
   {
    "duration": 375,
    "start_time": "2023-05-09T16:38:28.042Z"
   },
   {
    "duration": 18,
    "start_time": "2023-05-09T16:38:28.419Z"
   },
   {
    "duration": 16,
    "start_time": "2023-05-09T16:38:28.439Z"
   },
   {
    "duration": 131,
    "start_time": "2023-05-09T16:38:28.457Z"
   },
   {
    "duration": 48,
    "start_time": "2023-05-09T19:55:01.583Z"
   },
   {
    "duration": 7,
    "start_time": "2023-05-09T19:55:06.273Z"
   },
   {
    "duration": 1557,
    "start_time": "2023-05-09T19:55:12.779Z"
   },
   {
    "duration": 316,
    "start_time": "2023-05-09T19:55:14.338Z"
   },
   {
    "duration": 8,
    "start_time": "2023-05-09T19:55:14.656Z"
   },
   {
    "duration": 64,
    "start_time": "2023-05-09T19:55:14.667Z"
   },
   {
    "duration": 22,
    "start_time": "2023-05-09T19:55:14.733Z"
   },
   {
    "duration": 35,
    "start_time": "2023-05-09T19:55:14.757Z"
   },
   {
    "duration": 19,
    "start_time": "2023-05-09T19:55:14.794Z"
   },
   {
    "duration": 27,
    "start_time": "2023-05-09T19:55:14.815Z"
   },
   {
    "duration": 49,
    "start_time": "2023-05-09T19:55:14.843Z"
   },
   {
    "duration": 10,
    "start_time": "2023-05-09T19:55:14.896Z"
   },
   {
    "duration": 28,
    "start_time": "2023-05-09T19:55:14.908Z"
   },
   {
    "duration": 19,
    "start_time": "2023-05-09T19:55:14.938Z"
   },
   {
    "duration": 858,
    "start_time": "2023-05-09T19:55:14.959Z"
   },
   {
    "duration": 8,
    "start_time": "2023-05-09T19:55:15.820Z"
   },
   {
    "duration": 13,
    "start_time": "2023-05-09T19:55:15.830Z"
   },
   {
    "duration": 12,
    "start_time": "2023-05-09T19:55:15.846Z"
   },
   {
    "duration": 6,
    "start_time": "2023-05-09T19:55:15.860Z"
   },
   {
    "duration": 24,
    "start_time": "2023-05-09T19:55:15.868Z"
   },
   {
    "duration": 24,
    "start_time": "2023-05-09T19:55:15.894Z"
   },
   {
    "duration": 9,
    "start_time": "2023-05-09T19:55:15.920Z"
   },
   {
    "duration": 37,
    "start_time": "2023-05-09T19:55:15.932Z"
   },
   {
    "duration": 25,
    "start_time": "2023-05-09T19:55:15.971Z"
   },
   {
    "duration": 16,
    "start_time": "2023-05-09T19:55:15.998Z"
   },
   {
    "duration": 4,
    "start_time": "2023-05-09T19:55:16.015Z"
   },
   {
    "duration": 7,
    "start_time": "2023-05-09T19:55:16.021Z"
   },
   {
    "duration": 9,
    "start_time": "2023-05-09T19:55:16.030Z"
   },
   {
    "duration": 4,
    "start_time": "2023-05-09T19:55:16.041Z"
   },
   {
    "duration": 23,
    "start_time": "2023-05-09T19:55:16.049Z"
   },
   {
    "duration": 19,
    "start_time": "2023-05-09T19:55:16.073Z"
   },
   {
    "duration": 7,
    "start_time": "2023-05-09T19:55:16.094Z"
   },
   {
    "duration": 8,
    "start_time": "2023-05-09T19:55:16.102Z"
   },
   {
    "duration": 11,
    "start_time": "2023-05-09T19:55:16.111Z"
   },
   {
    "duration": 13,
    "start_time": "2023-05-09T19:55:16.123Z"
   },
   {
    "duration": 8,
    "start_time": "2023-05-09T19:55:16.138Z"
   },
   {
    "duration": 13,
    "start_time": "2023-05-09T19:55:16.148Z"
   },
   {
    "duration": 15,
    "start_time": "2023-05-09T19:55:16.163Z"
   },
   {
    "duration": 117,
    "start_time": "2023-05-09T19:55:16.180Z"
   },
   {
    "duration": 5,
    "start_time": "2023-05-09T19:55:16.300Z"
   },
   {
    "duration": 27,
    "start_time": "2023-05-09T19:55:16.306Z"
   },
   {
    "duration": 291,
    "start_time": "2023-05-09T19:55:16.335Z"
   },
   {
    "duration": 14,
    "start_time": "2023-05-09T19:55:16.628Z"
   },
   {
    "duration": 351,
    "start_time": "2023-05-09T19:55:16.643Z"
   },
   {
    "duration": 399,
    "start_time": "2023-05-09T19:55:16.996Z"
   },
   {
    "duration": 18,
    "start_time": "2023-05-09T19:55:17.397Z"
   },
   {
    "duration": 14,
    "start_time": "2023-05-09T19:55:17.417Z"
   },
   {
    "duration": 125,
    "start_time": "2023-05-09T19:55:17.432Z"
   },
   {
    "duration": 9,
    "start_time": "2023-05-09T20:00:25.874Z"
   },
   {
    "duration": 10,
    "start_time": "2023-05-09T20:00:44.338Z"
   },
   {
    "duration": 4,
    "start_time": "2023-05-09T20:01:16.734Z"
   },
   {
    "duration": 4,
    "start_time": "2023-05-09T20:01:19.842Z"
   },
   {
    "duration": 5,
    "start_time": "2023-05-09T20:02:42.972Z"
   },
   {
    "duration": 14,
    "start_time": "2023-05-09T20:32:37.759Z"
   },
   {
    "duration": 9,
    "start_time": "2023-05-09T20:45:29.138Z"
   },
   {
    "duration": 15,
    "start_time": "2023-05-09T20:46:08.873Z"
   },
   {
    "duration": 24,
    "start_time": "2023-05-09T20:58:58.083Z"
   },
   {
    "duration": 75,
    "start_time": "2023-05-09T21:02:20.897Z"
   },
   {
    "duration": 79,
    "start_time": "2023-05-09T21:02:29.279Z"
   },
   {
    "duration": 70,
    "start_time": "2023-05-09T21:02:40.886Z"
   },
   {
    "duration": 17,
    "start_time": "2023-05-09T21:03:14.583Z"
   },
   {
    "duration": 7,
    "start_time": "2023-05-09T21:04:25.213Z"
   },
   {
    "duration": 7,
    "start_time": "2023-05-09T21:04:29.146Z"
   },
   {
    "duration": 6,
    "start_time": "2023-05-09T21:04:40.026Z"
   },
   {
    "duration": 8,
    "start_time": "2023-05-09T21:05:05.518Z"
   },
   {
    "duration": 13,
    "start_time": "2023-05-09T21:05:22.242Z"
   },
   {
    "duration": 37,
    "start_time": "2023-05-09T21:05:27.612Z"
   },
   {
    "duration": 18,
    "start_time": "2023-05-09T21:15:31.734Z"
   },
   {
    "duration": 9,
    "start_time": "2023-05-09T21:15:40.217Z"
   },
   {
    "duration": 12,
    "start_time": "2023-05-09T21:16:38.551Z"
   },
   {
    "duration": 21,
    "start_time": "2023-05-09T21:16:50.095Z"
   },
   {
    "duration": 27,
    "start_time": "2023-05-09T21:17:33.855Z"
   },
   {
    "duration": 27,
    "start_time": "2023-05-09T21:18:30.037Z"
   },
   {
    "duration": 314,
    "start_time": "2023-05-09T21:18:42.613Z"
   },
   {
    "duration": 274,
    "start_time": "2023-05-09T21:19:25.087Z"
   },
   {
    "duration": 82,
    "start_time": "2023-05-09T21:19:44.385Z"
   },
   {
    "duration": 289,
    "start_time": "2023-05-09T21:19:56.310Z"
   },
   {
    "duration": 3,
    "start_time": "2023-05-09T21:20:20.846Z"
   },
   {
    "duration": 3,
    "start_time": "2023-05-09T21:36:49.477Z"
   },
   {
    "duration": 1251,
    "start_time": "2023-05-09T21:50:37.373Z"
   },
   {
    "duration": 1323,
    "start_time": "2023-05-09T21:51:43.341Z"
   },
   {
    "duration": 1356,
    "start_time": "2023-05-09T21:52:20.225Z"
   },
   {
    "duration": 12,
    "start_time": "2023-05-09T21:53:05.652Z"
   },
   {
    "duration": 76,
    "start_time": "2023-05-09T22:00:09.897Z"
   },
   {
    "duration": 319,
    "start_time": "2023-05-09T22:00:48.651Z"
   },
   {
    "duration": 353,
    "start_time": "2023-05-09T22:06:45.997Z"
   },
   {
    "duration": 319,
    "start_time": "2023-05-09T22:07:36.227Z"
   },
   {
    "duration": 31,
    "start_time": "2023-05-09T22:11:48.392Z"
   },
   {
    "duration": 30,
    "start_time": "2023-05-09T22:12:33.970Z"
   },
   {
    "duration": 22,
    "start_time": "2023-05-09T22:12:44.795Z"
   },
   {
    "duration": 26,
    "start_time": "2023-05-09T22:13:00.516Z"
   },
   {
    "duration": 410,
    "start_time": "2023-05-09T22:13:09.038Z"
   },
   {
    "duration": 319,
    "start_time": "2023-05-09T22:16:04.414Z"
   },
   {
    "duration": 13,
    "start_time": "2023-05-09T22:16:09.349Z"
   },
   {
    "duration": 335,
    "start_time": "2023-05-09T22:16:12.201Z"
   },
   {
    "duration": 13,
    "start_time": "2023-05-09T22:23:42.071Z"
   },
   {
    "duration": 5,
    "start_time": "2023-05-09T22:24:00.078Z"
   },
   {
    "duration": 14,
    "start_time": "2023-05-09T22:24:07.795Z"
   },
   {
    "duration": 12,
    "start_time": "2023-05-09T22:24:19.173Z"
   },
   {
    "duration": 13,
    "start_time": "2023-05-09T22:25:04.035Z"
   },
   {
    "duration": 13,
    "start_time": "2023-05-09T22:25:21.814Z"
   },
   {
    "duration": 19,
    "start_time": "2023-05-09T22:25:30.373Z"
   },
   {
    "duration": 22,
    "start_time": "2023-05-09T22:25:55.206Z"
   },
   {
    "duration": 20,
    "start_time": "2023-05-09T22:26:26.495Z"
   },
   {
    "duration": 9,
    "start_time": "2023-05-09T22:26:47.971Z"
   },
   {
    "duration": 14,
    "start_time": "2023-05-09T22:27:01.170Z"
   },
   {
    "duration": 13,
    "start_time": "2023-05-09T22:27:04.028Z"
   },
   {
    "duration": 14,
    "start_time": "2023-05-09T22:27:32.763Z"
   },
   {
    "duration": 26,
    "start_time": "2023-05-09T22:27:39.766Z"
   },
   {
    "duration": 21,
    "start_time": "2023-05-09T22:27:45.008Z"
   },
   {
    "duration": 27,
    "start_time": "2023-05-09T22:27:57.417Z"
   },
   {
    "duration": 9,
    "start_time": "2023-05-09T22:28:21.255Z"
   },
   {
    "duration": 15,
    "start_time": "2023-05-09T22:29:02.307Z"
   },
   {
    "duration": 9,
    "start_time": "2023-05-09T22:29:14.711Z"
   },
   {
    "duration": 13,
    "start_time": "2023-05-09T22:29:20.058Z"
   },
   {
    "duration": 15,
    "start_time": "2023-05-09T22:29:22.804Z"
   },
   {
    "duration": 14,
    "start_time": "2023-05-09T22:29:26.342Z"
   },
   {
    "duration": 28,
    "start_time": "2023-05-09T22:29:31.585Z"
   },
   {
    "duration": 21,
    "start_time": "2023-05-09T22:29:34.831Z"
   },
   {
    "duration": 32,
    "start_time": "2023-05-09T22:29:37.282Z"
   },
   {
    "duration": 14,
    "start_time": "2023-05-09T22:30:16.143Z"
   },
   {
    "duration": 13,
    "start_time": "2023-05-09T22:30:45.193Z"
   },
   {
    "duration": 13,
    "start_time": "2023-05-09T22:30:48.864Z"
   },
   {
    "duration": 33,
    "start_time": "2023-05-09T22:30:53.680Z"
   },
   {
    "duration": 21,
    "start_time": "2023-05-09T22:30:56.849Z"
   },
   {
    "duration": 25,
    "start_time": "2023-05-09T22:31:06.924Z"
   },
   {
    "duration": 14,
    "start_time": "2023-05-09T22:31:38.703Z"
   },
   {
    "duration": 25,
    "start_time": "2023-05-09T22:31:42.092Z"
   },
   {
    "duration": 22,
    "start_time": "2023-05-09T22:31:44.800Z"
   },
   {
    "duration": 23,
    "start_time": "2023-05-09T22:31:49.804Z"
   },
   {
    "duration": 280,
    "start_time": "2023-05-09T22:32:16.679Z"
   },
   {
    "duration": 346,
    "start_time": "2023-05-09T22:32:24.373Z"
   },
   {
    "duration": 13,
    "start_time": "2023-05-09T22:37:35.487Z"
   },
   {
    "duration": 309,
    "start_time": "2023-05-09T22:38:09.675Z"
   },
   {
    "duration": 3,
    "start_time": "2023-05-09T22:38:40.063Z"
   },
   {
    "duration": 4,
    "start_time": "2023-05-09T22:38:42.334Z"
   },
   {
    "duration": 15,
    "start_time": "2023-05-09T22:38:58.833Z"
   },
   {
    "duration": 11,
    "start_time": "2023-05-09T22:39:48.818Z"
   },
   {
    "duration": 14,
    "start_time": "2023-05-09T22:39:54.948Z"
   },
   {
    "duration": 431,
    "start_time": "2023-05-09T22:40:02.317Z"
   },
   {
    "duration": 13,
    "start_time": "2023-05-09T22:40:36.131Z"
   },
   {
    "duration": 1286,
    "start_time": "2023-05-09T22:40:49.024Z"
   },
   {
    "duration": 101,
    "start_time": "2023-05-09T22:40:50.312Z"
   },
   {
    "duration": 9,
    "start_time": "2023-05-09T22:40:50.414Z"
   },
   {
    "duration": 79,
    "start_time": "2023-05-09T22:40:50.426Z"
   },
   {
    "duration": 24,
    "start_time": "2023-05-09T22:40:50.507Z"
   },
   {
    "duration": 18,
    "start_time": "2023-05-09T22:40:50.532Z"
   },
   {
    "duration": 8,
    "start_time": "2023-05-09T22:40:50.552Z"
   },
   {
    "duration": 36,
    "start_time": "2023-05-09T22:40:50.561Z"
   },
   {
    "duration": 41,
    "start_time": "2023-05-09T22:40:50.599Z"
   },
   {
    "duration": 11,
    "start_time": "2023-05-09T22:40:50.643Z"
   },
   {
    "duration": 45,
    "start_time": "2023-05-09T22:40:50.655Z"
   },
   {
    "duration": 9,
    "start_time": "2023-05-09T22:40:50.701Z"
   },
   {
    "duration": 712,
    "start_time": "2023-05-09T22:40:50.712Z"
   },
   {
    "duration": 8,
    "start_time": "2023-05-09T22:40:51.427Z"
   },
   {
    "duration": 15,
    "start_time": "2023-05-09T22:40:51.437Z"
   },
   {
    "duration": 14,
    "start_time": "2023-05-09T22:40:51.454Z"
   },
   {
    "duration": 14,
    "start_time": "2023-05-09T22:40:51.470Z"
   },
   {
    "duration": 6,
    "start_time": "2023-05-09T22:40:51.492Z"
   },
   {
    "duration": 9,
    "start_time": "2023-05-09T22:40:51.500Z"
   },
   {
    "duration": 17,
    "start_time": "2023-05-09T22:40:51.511Z"
   },
   {
    "duration": 7,
    "start_time": "2023-05-09T22:40:51.530Z"
   },
   {
    "duration": 55,
    "start_time": "2023-05-09T22:40:51.539Z"
   },
   {
    "duration": 7,
    "start_time": "2023-05-09T22:40:51.596Z"
   },
   {
    "duration": 14,
    "start_time": "2023-05-09T22:40:51.605Z"
   },
   {
    "duration": 5,
    "start_time": "2023-05-09T22:40:51.620Z"
   },
   {
    "duration": 4,
    "start_time": "2023-05-09T22:40:51.627Z"
   },
   {
    "duration": 7,
    "start_time": "2023-05-09T22:40:51.632Z"
   },
   {
    "duration": 4,
    "start_time": "2023-05-09T22:40:51.644Z"
   },
   {
    "duration": 4,
    "start_time": "2023-05-09T22:40:51.650Z"
   },
   {
    "duration": 37,
    "start_time": "2023-05-09T22:40:51.657Z"
   },
   {
    "duration": 5,
    "start_time": "2023-05-09T22:40:51.696Z"
   },
   {
    "duration": 13,
    "start_time": "2023-05-09T22:40:51.703Z"
   },
   {
    "duration": 4,
    "start_time": "2023-05-09T22:40:51.718Z"
   },
   {
    "duration": 5,
    "start_time": "2023-05-09T22:40:51.723Z"
   },
   {
    "duration": 7,
    "start_time": "2023-05-09T22:40:51.729Z"
   },
   {
    "duration": 8,
    "start_time": "2023-05-09T22:40:51.738Z"
   },
   {
    "duration": 14,
    "start_time": "2023-05-09T22:40:51.747Z"
   },
   {
    "duration": 107,
    "start_time": "2023-05-09T22:40:51.763Z"
   },
   {
    "duration": 5,
    "start_time": "2023-05-09T22:40:51.872Z"
   },
   {
    "duration": 15,
    "start_time": "2023-05-09T22:40:51.878Z"
   },
   {
    "duration": 269,
    "start_time": "2023-05-09T22:40:51.895Z"
   },
   {
    "duration": 11,
    "start_time": "2023-05-09T22:40:52.166Z"
   },
   {
    "duration": 331,
    "start_time": "2023-05-09T22:40:52.191Z"
   },
   {
    "duration": 392,
    "start_time": "2023-05-09T22:40:52.524Z"
   },
   {
    "duration": 14,
    "start_time": "2023-05-09T22:40:52.918Z"
   },
   {
    "duration": 11,
    "start_time": "2023-05-09T22:40:52.934Z"
   },
   {
    "duration": 11,
    "start_time": "2023-05-09T22:40:52.947Z"
   },
   {
    "duration": 49,
    "start_time": "2023-05-09T22:40:52.960Z"
   },
   {
    "duration": 12,
    "start_time": "2023-05-09T22:40:53.010Z"
   },
   {
    "duration": 4,
    "start_time": "2023-05-09T22:40:53.024Z"
   },
   {
    "duration": 31,
    "start_time": "2023-05-09T22:40:53.029Z"
   },
   {
    "duration": 45,
    "start_time": "2023-05-09T22:40:53.061Z"
   },
   {
    "duration": 20,
    "start_time": "2023-05-09T22:40:53.108Z"
   },
   {
    "duration": 2,
    "start_time": "2023-05-09T22:40:53.130Z"
   },
   {
    "duration": 324,
    "start_time": "2023-05-09T22:40:53.134Z"
   },
   {
    "duration": 14,
    "start_time": "2023-05-09T22:40:53.460Z"
   },
   {
    "duration": 338,
    "start_time": "2023-05-09T22:40:53.492Z"
   },
   {
    "duration": 12,
    "start_time": "2023-05-09T22:41:48.145Z"
   },
   {
    "duration": 11,
    "start_time": "2023-05-09T22:42:24.004Z"
   },
   {
    "duration": 111,
    "start_time": "2023-05-09T22:50:11.478Z"
   },
   {
    "duration": 6,
    "start_time": "2023-05-09T22:50:17.184Z"
   },
   {
    "duration": 4,
    "start_time": "2023-05-09T22:54:23.580Z"
   },
   {
    "duration": 9,
    "start_time": "2023-05-09T22:54:29.532Z"
   },
   {
    "duration": 1246,
    "start_time": "2023-05-09T22:54:54.245Z"
   },
   {
    "duration": 98,
    "start_time": "2023-05-09T22:54:55.493Z"
   },
   {
    "duration": 6,
    "start_time": "2023-05-09T22:54:55.592Z"
   },
   {
    "duration": 38,
    "start_time": "2023-05-09T22:54:55.599Z"
   },
   {
    "duration": 16,
    "start_time": "2023-05-09T22:54:55.638Z"
   },
   {
    "duration": 7,
    "start_time": "2023-05-09T22:54:55.656Z"
   },
   {
    "duration": 28,
    "start_time": "2023-05-09T22:54:55.664Z"
   },
   {
    "duration": 16,
    "start_time": "2023-05-09T22:54:55.694Z"
   },
   {
    "duration": 29,
    "start_time": "2023-05-09T22:54:55.711Z"
   },
   {
    "duration": 9,
    "start_time": "2023-05-09T22:54:55.744Z"
   },
   {
    "duration": 46,
    "start_time": "2023-05-09T22:54:55.754Z"
   },
   {
    "duration": 8,
    "start_time": "2023-05-09T22:54:55.801Z"
   },
   {
    "duration": 660,
    "start_time": "2023-05-09T22:54:55.810Z"
   },
   {
    "duration": 9,
    "start_time": "2023-05-09T22:54:56.472Z"
   },
   {
    "duration": 13,
    "start_time": "2023-05-09T22:54:56.483Z"
   },
   {
    "duration": 20,
    "start_time": "2023-05-09T22:54:56.497Z"
   },
   {
    "duration": 21,
    "start_time": "2023-05-09T22:54:56.518Z"
   },
   {
    "duration": 17,
    "start_time": "2023-05-09T22:54:56.540Z"
   },
   {
    "duration": 23,
    "start_time": "2023-05-09T22:54:56.559Z"
   },
   {
    "duration": 33,
    "start_time": "2023-05-09T22:54:56.584Z"
   },
   {
    "duration": 22,
    "start_time": "2023-05-09T22:54:56.619Z"
   },
   {
    "duration": 44,
    "start_time": "2023-05-09T22:54:56.643Z"
   },
   {
    "duration": 23,
    "start_time": "2023-05-09T22:54:56.689Z"
   },
   {
    "duration": 21,
    "start_time": "2023-05-09T22:54:56.713Z"
   },
   {
    "duration": 9,
    "start_time": "2023-05-09T22:54:56.736Z"
   },
   {
    "duration": 29,
    "start_time": "2023-05-09T22:54:56.747Z"
   },
   {
    "duration": 8,
    "start_time": "2023-05-09T22:54:56.778Z"
   },
   {
    "duration": 11,
    "start_time": "2023-05-09T22:54:56.790Z"
   },
   {
    "duration": 16,
    "start_time": "2023-05-09T22:54:56.803Z"
   },
   {
    "duration": 21,
    "start_time": "2023-05-09T22:54:56.820Z"
   },
   {
    "duration": 12,
    "start_time": "2023-05-09T22:54:56.843Z"
   },
   {
    "duration": 16,
    "start_time": "2023-05-09T22:54:56.856Z"
   },
   {
    "duration": 10,
    "start_time": "2023-05-09T22:54:56.873Z"
   },
   {
    "duration": 8,
    "start_time": "2023-05-09T22:54:56.884Z"
   },
   {
    "duration": 8,
    "start_time": "2023-05-09T22:54:56.893Z"
   },
   {
    "duration": 18,
    "start_time": "2023-05-09T22:54:56.903Z"
   },
   {
    "duration": 16,
    "start_time": "2023-05-09T22:54:56.922Z"
   },
   {
    "duration": 94,
    "start_time": "2023-05-09T22:54:56.940Z"
   },
   {
    "duration": 4,
    "start_time": "2023-05-09T22:54:57.036Z"
   },
   {
    "duration": 14,
    "start_time": "2023-05-09T22:54:57.042Z"
   },
   {
    "duration": 263,
    "start_time": "2023-05-09T22:54:57.058Z"
   },
   {
    "duration": 16,
    "start_time": "2023-05-09T22:54:57.323Z"
   },
   {
    "duration": 364,
    "start_time": "2023-05-09T22:54:57.341Z"
   },
   {
    "duration": 387,
    "start_time": "2023-05-09T22:54:57.707Z"
   },
   {
    "duration": 8,
    "start_time": "2023-05-09T22:54:58.096Z"
   },
   {
    "duration": 13,
    "start_time": "2023-05-09T22:54:58.106Z"
   },
   {
    "duration": 10,
    "start_time": "2023-05-09T22:54:58.120Z"
   },
   {
    "duration": 11,
    "start_time": "2023-05-09T22:54:58.132Z"
   },
   {
    "duration": 51,
    "start_time": "2023-05-09T22:54:58.145Z"
   },
   {
    "duration": 13,
    "start_time": "2023-05-09T22:54:58.198Z"
   },
   {
    "duration": 5,
    "start_time": "2023-05-09T22:54:58.213Z"
   },
   {
    "duration": 30,
    "start_time": "2023-05-09T22:54:58.219Z"
   },
   {
    "duration": 45,
    "start_time": "2023-05-09T22:54:58.252Z"
   },
   {
    "duration": 21,
    "start_time": "2023-05-09T22:54:58.299Z"
   },
   {
    "duration": 3,
    "start_time": "2023-05-09T22:54:58.322Z"
   },
   {
    "duration": 312,
    "start_time": "2023-05-09T22:54:58.326Z"
   },
   {
    "duration": 12,
    "start_time": "2023-05-09T22:54:58.640Z"
   },
   {
    "duration": 322,
    "start_time": "2023-05-09T22:54:58.654Z"
   },
   {
    "duration": 3481,
    "start_time": "2023-05-09T22:57:38.980Z"
   },
   {
    "duration": 3587,
    "start_time": "2023-05-09T22:57:44.985Z"
   },
   {
    "duration": 80,
    "start_time": "2023-05-09T22:58:09.953Z"
   },
   {
    "duration": 100,
    "start_time": "2023-05-09T22:58:19.728Z"
   },
   {
    "duration": 10,
    "start_time": "2023-05-09T23:00:53.590Z"
   },
   {
    "duration": 16,
    "start_time": "2023-05-09T23:03:38.096Z"
   },
   {
    "duration": 6,
    "start_time": "2023-05-09T23:04:30.257Z"
   },
   {
    "duration": 16,
    "start_time": "2023-05-09T23:04:43.733Z"
   },
   {
    "duration": 15,
    "start_time": "2023-05-09T23:04:57.836Z"
   },
   {
    "duration": 9,
    "start_time": "2023-05-09T23:08:10.666Z"
   },
   {
    "duration": 10,
    "start_time": "2023-05-09T23:08:25.503Z"
   },
   {
    "duration": 92,
    "start_time": "2023-05-09T23:08:35.089Z"
   },
   {
    "duration": 79,
    "start_time": "2023-05-09T23:08:41.546Z"
   },
   {
    "duration": 17,
    "start_time": "2023-05-09T23:08:48.004Z"
   },
   {
    "duration": 13,
    "start_time": "2023-05-09T23:09:08.779Z"
   },
   {
    "duration": 5,
    "start_time": "2023-05-09T23:11:13.973Z"
   },
   {
    "duration": 21,
    "start_time": "2023-05-09T23:11:41.704Z"
   },
   {
    "duration": 23,
    "start_time": "2023-05-09T23:12:05.840Z"
   },
   {
    "duration": 27,
    "start_time": "2023-05-09T23:12:17.348Z"
   },
   {
    "duration": 12,
    "start_time": "2023-05-09T23:13:29.731Z"
   },
   {
    "duration": 23,
    "start_time": "2023-05-09T23:13:42.551Z"
   },
   {
    "duration": 16,
    "start_time": "2023-05-09T23:13:53.871Z"
   },
   {
    "duration": 25,
    "start_time": "2023-05-09T23:14:12.202Z"
   },
   {
    "duration": 12,
    "start_time": "2023-05-09T23:14:23.221Z"
   },
   {
    "duration": 12,
    "start_time": "2023-05-09T23:14:31.728Z"
   },
   {
    "duration": 14,
    "start_time": "2023-05-09T23:14:37.117Z"
   },
   {
    "duration": 17,
    "start_time": "2023-05-09T23:16:30.488Z"
   },
   {
    "duration": 4,
    "start_time": "2023-05-09T23:16:36.142Z"
   },
   {
    "duration": 32,
    "start_time": "2023-05-09T23:16:46.543Z"
   },
   {
    "duration": 18,
    "start_time": "2023-05-09T23:16:52.898Z"
   },
   {
    "duration": 19,
    "start_time": "2023-05-09T23:16:57.187Z"
   },
   {
    "duration": 319,
    "start_time": "2023-05-09T23:17:01.884Z"
   },
   {
    "duration": 13,
    "start_time": "2023-05-09T23:17:10.230Z"
   },
   {
    "duration": 300,
    "start_time": "2023-05-09T23:17:26.156Z"
   },
   {
    "duration": 11,
    "start_time": "2023-05-09T23:17:51.850Z"
   },
   {
    "duration": 402,
    "start_time": "2023-05-09T23:18:00.892Z"
   },
   {
    "duration": 13,
    "start_time": "2023-05-09T23:21:31.935Z"
   },
   {
    "duration": 7,
    "start_time": "2023-05-09T23:21:51.715Z"
   },
   {
    "duration": 14,
    "start_time": "2023-05-09T23:24:02.743Z"
   },
   {
    "duration": 16,
    "start_time": "2023-05-09T23:24:27.573Z"
   },
   {
    "duration": 13,
    "start_time": "2023-05-09T23:25:35.486Z"
   },
   {
    "duration": 14,
    "start_time": "2023-05-09T23:26:02.406Z"
   },
   {
    "duration": 13,
    "start_time": "2023-05-09T23:26:21.551Z"
   },
   {
    "duration": 3,
    "start_time": "2023-05-09T23:27:14.554Z"
   },
   {
    "duration": 6,
    "start_time": "2023-05-09T23:27:41.767Z"
   },
   {
    "duration": 6,
    "start_time": "2023-05-09T23:27:44.479Z"
   },
   {
    "duration": 18,
    "start_time": "2023-05-09T23:28:15.094Z"
   },
   {
    "duration": 13,
    "start_time": "2023-05-09T23:28:28.268Z"
   },
   {
    "duration": 11,
    "start_time": "2023-05-09T23:33:28.934Z"
   },
   {
    "duration": 16,
    "start_time": "2023-05-09T23:33:37.473Z"
   },
   {
    "duration": 13,
    "start_time": "2023-05-09T23:33:52.973Z"
   },
   {
    "duration": 15,
    "start_time": "2023-05-09T23:35:02.293Z"
   },
   {
    "duration": 13,
    "start_time": "2023-05-09T23:35:40.378Z"
   },
   {
    "duration": 6,
    "start_time": "2023-05-09T23:40:47.275Z"
   },
   {
    "duration": 10,
    "start_time": "2023-05-09T23:41:00.279Z"
   },
   {
    "duration": 12,
    "start_time": "2023-05-09T23:43:12.636Z"
   },
   {
    "duration": 12,
    "start_time": "2023-05-09T23:49:01.266Z"
   },
   {
    "duration": 11,
    "start_time": "2023-05-09T23:49:10.310Z"
   },
   {
    "duration": 10,
    "start_time": "2023-05-09T23:49:30.201Z"
   },
   {
    "duration": 11,
    "start_time": "2023-05-09T23:49:37.895Z"
   },
   {
    "duration": 12,
    "start_time": "2023-05-09T23:50:02.651Z"
   },
   {
    "duration": 11,
    "start_time": "2023-05-09T23:51:00.060Z"
   },
   {
    "duration": 6,
    "start_time": "2023-05-09T23:51:06.149Z"
   },
   {
    "duration": 11,
    "start_time": "2023-05-09T23:51:46.927Z"
   },
   {
    "duration": 11,
    "start_time": "2023-05-09T23:52:31.200Z"
   },
   {
    "duration": 13,
    "start_time": "2023-05-09T23:53:27.365Z"
   },
   {
    "duration": 11,
    "start_time": "2023-05-10T00:00:11.389Z"
   },
   {
    "duration": 7,
    "start_time": "2023-05-10T00:00:52.487Z"
   },
   {
    "duration": 7,
    "start_time": "2023-05-10T00:01:12.405Z"
   },
   {
    "duration": 7,
    "start_time": "2023-05-10T00:01:18.594Z"
   },
   {
    "duration": 7,
    "start_time": "2023-05-10T00:01:23.503Z"
   },
   {
    "duration": 10,
    "start_time": "2023-05-10T00:01:28.540Z"
   },
   {
    "duration": 9,
    "start_time": "2023-05-10T00:01:55.881Z"
   },
   {
    "duration": 14,
    "start_time": "2023-05-10T00:02:23.281Z"
   },
   {
    "duration": 13,
    "start_time": "2023-05-10T00:02:33.372Z"
   },
   {
    "duration": 13,
    "start_time": "2023-05-10T00:02:54.356Z"
   },
   {
    "duration": 19,
    "start_time": "2023-05-10T00:03:57.352Z"
   },
   {
    "duration": 5,
    "start_time": "2023-05-10T00:05:00.790Z"
   },
   {
    "duration": 10,
    "start_time": "2023-05-10T00:05:08.925Z"
   },
   {
    "duration": 4,
    "start_time": "2023-05-10T00:13:24.245Z"
   },
   {
    "duration": 13,
    "start_time": "2023-05-10T00:13:37.313Z"
   },
   {
    "duration": 1192,
    "start_time": "2023-05-10T00:13:57.088Z"
   },
   {
    "duration": 7,
    "start_time": "2023-05-10T00:17:02.073Z"
   },
   {
    "duration": 15,
    "start_time": "2023-05-10T00:17:22.415Z"
   },
   {
    "duration": 13,
    "start_time": "2023-05-10T00:17:52.775Z"
   },
   {
    "duration": 299,
    "start_time": "2023-05-10T00:25:36.279Z"
   },
   {
    "duration": 13,
    "start_time": "2023-05-10T00:36:52.599Z"
   },
   {
    "duration": 16,
    "start_time": "2023-05-10T00:37:02.519Z"
   },
   {
    "duration": 11,
    "start_time": "2023-05-10T00:39:13.903Z"
   },
   {
    "duration": 13,
    "start_time": "2023-05-10T00:53:43.313Z"
   },
   {
    "duration": 14,
    "start_time": "2023-05-10T00:54:19.331Z"
   },
   {
    "duration": 10,
    "start_time": "2023-05-10T00:54:22.674Z"
   },
   {
    "duration": 12,
    "start_time": "2023-05-10T00:56:10.846Z"
   },
   {
    "duration": 12,
    "start_time": "2023-05-10T00:57:57.321Z"
   },
   {
    "duration": 8,
    "start_time": "2023-05-10T00:58:19.082Z"
   },
   {
    "duration": 11,
    "start_time": "2023-05-10T00:58:29.585Z"
   },
   {
    "duration": 14,
    "start_time": "2023-05-10T00:58:33.245Z"
   },
   {
    "duration": 14,
    "start_time": "2023-05-10T00:58:59.829Z"
   },
   {
    "duration": 11,
    "start_time": "2023-05-10T01:00:12.260Z"
   },
   {
    "duration": 13,
    "start_time": "2023-05-10T01:00:29.983Z"
   },
   {
    "duration": 8,
    "start_time": "2023-05-10T01:00:34.218Z"
   },
   {
    "duration": 5,
    "start_time": "2023-05-10T01:00:37.812Z"
   },
   {
    "duration": 10,
    "start_time": "2023-05-10T01:00:45.150Z"
   },
   {
    "duration": 10,
    "start_time": "2023-05-10T01:03:59.686Z"
   },
   {
    "duration": 11,
    "start_time": "2023-05-10T01:04:04.450Z"
   },
   {
    "duration": 14,
    "start_time": "2023-05-10T01:05:05.742Z"
   },
   {
    "duration": 15,
    "start_time": "2023-05-10T01:05:12.210Z"
   },
   {
    "duration": 14,
    "start_time": "2023-05-10T01:05:17.027Z"
   },
   {
    "duration": 2,
    "start_time": "2023-05-10T01:05:23.292Z"
   },
   {
    "duration": 13,
    "start_time": "2023-05-10T01:06:59.999Z"
   },
   {
    "duration": 14,
    "start_time": "2023-05-10T01:08:43.830Z"
   },
   {
    "duration": 13,
    "start_time": "2023-05-10T01:09:55.655Z"
   },
   {
    "duration": 26,
    "start_time": "2023-05-10T01:13:54.449Z"
   },
   {
    "duration": 10,
    "start_time": "2023-05-10T01:14:39.603Z"
   },
   {
    "duration": 12,
    "start_time": "2023-05-10T01:15:08.248Z"
   },
   {
    "duration": 23,
    "start_time": "2023-05-10T01:15:18.647Z"
   },
   {
    "duration": 24,
    "start_time": "2023-05-10T01:23:26.466Z"
   },
   {
    "duration": 23,
    "start_time": "2023-05-10T01:23:36.570Z"
   },
   {
    "duration": 23,
    "start_time": "2023-05-10T01:23:42.968Z"
   },
   {
    "duration": 100,
    "start_time": "2023-05-10T01:28:33.983Z"
   },
   {
    "duration": 14,
    "start_time": "2023-05-10T01:28:44.367Z"
   },
   {
    "duration": 52,
    "start_time": "2023-05-10T04:41:37.758Z"
   },
   {
    "duration": 9,
    "start_time": "2023-05-10T04:43:16.739Z"
   },
   {
    "duration": 7,
    "start_time": "2023-05-10T04:44:04.021Z"
   },
   {
    "duration": 1419,
    "start_time": "2023-05-10T04:44:13.205Z"
   },
   {
    "duration": 260,
    "start_time": "2023-05-10T04:44:14.626Z"
   },
   {
    "duration": 6,
    "start_time": "2023-05-10T04:44:14.888Z"
   },
   {
    "duration": 42,
    "start_time": "2023-05-10T04:44:14.896Z"
   },
   {
    "duration": 18,
    "start_time": "2023-05-10T04:44:14.940Z"
   },
   {
    "duration": 7,
    "start_time": "2023-05-10T04:44:14.960Z"
   },
   {
    "duration": 5,
    "start_time": "2023-05-10T04:44:14.992Z"
   },
   {
    "duration": 25,
    "start_time": "2023-05-10T04:44:14.999Z"
   },
   {
    "duration": 36,
    "start_time": "2023-05-10T04:44:15.026Z"
   },
   {
    "duration": 27,
    "start_time": "2023-05-10T04:44:15.065Z"
   },
   {
    "duration": 12,
    "start_time": "2023-05-10T04:44:15.094Z"
   },
   {
    "duration": 3,
    "start_time": "2023-05-10T04:44:15.108Z"
   },
   {
    "duration": 670,
    "start_time": "2023-05-10T04:44:15.112Z"
   },
   {
    "duration": 13,
    "start_time": "2023-05-10T04:44:15.784Z"
   },
   {
    "duration": 11,
    "start_time": "2023-05-10T04:44:15.798Z"
   },
   {
    "duration": 9,
    "start_time": "2023-05-10T04:44:15.811Z"
   },
   {
    "duration": 10,
    "start_time": "2023-05-10T04:44:15.821Z"
   },
   {
    "duration": 5,
    "start_time": "2023-05-10T04:44:15.833Z"
   },
   {
    "duration": 6,
    "start_time": "2023-05-10T04:44:15.839Z"
   },
   {
    "duration": 47,
    "start_time": "2023-05-10T04:44:15.846Z"
   },
   {
    "duration": 6,
    "start_time": "2023-05-10T04:44:15.895Z"
   },
   {
    "duration": 30,
    "start_time": "2023-05-10T04:44:15.903Z"
   },
   {
    "duration": 7,
    "start_time": "2023-05-10T04:44:15.934Z"
   },
   {
    "duration": 49,
    "start_time": "2023-05-10T04:44:15.943Z"
   },
   {
    "duration": 3,
    "start_time": "2023-05-10T04:44:15.994Z"
   },
   {
    "duration": 16,
    "start_time": "2023-05-10T04:44:15.999Z"
   },
   {
    "duration": 6,
    "start_time": "2023-05-10T04:44:16.017Z"
   },
   {
    "duration": 9,
    "start_time": "2023-05-10T04:44:16.026Z"
   },
   {
    "duration": 19,
    "start_time": "2023-05-10T04:44:16.037Z"
   },
   {
    "duration": 22,
    "start_time": "2023-05-10T04:44:16.057Z"
   },
   {
    "duration": 9,
    "start_time": "2023-05-10T04:44:16.081Z"
   },
   {
    "duration": 7,
    "start_time": "2023-05-10T04:44:16.095Z"
   },
   {
    "duration": 11,
    "start_time": "2023-05-10T04:44:16.105Z"
   },
   {
    "duration": 4,
    "start_time": "2023-05-10T04:44:16.118Z"
   },
   {
    "duration": 16,
    "start_time": "2023-05-10T04:44:16.124Z"
   },
   {
    "duration": 16,
    "start_time": "2023-05-10T04:44:16.141Z"
   },
   {
    "duration": 14,
    "start_time": "2023-05-10T04:44:16.159Z"
   },
   {
    "duration": 158,
    "start_time": "2023-05-10T04:44:16.175Z"
   },
   {
    "duration": 57,
    "start_time": "2023-05-10T04:44:16.335Z"
   },
   {
    "duration": 9,
    "start_time": "2023-05-10T04:44:16.394Z"
   },
   {
    "duration": 517,
    "start_time": "2023-05-10T04:44:16.405Z"
   },
   {
    "duration": 13,
    "start_time": "2023-05-10T04:44:16.924Z"
   },
   {
    "duration": 710,
    "start_time": "2023-05-10T04:44:16.992Z"
   },
   {
    "duration": 600,
    "start_time": "2023-05-10T04:44:17.704Z"
   },
   {
    "duration": 8,
    "start_time": "2023-05-10T04:44:18.306Z"
   },
   {
    "duration": 22,
    "start_time": "2023-05-10T04:44:18.316Z"
   },
   {
    "duration": 14,
    "start_time": "2023-05-10T04:44:18.339Z"
   },
   {
    "duration": 311,
    "start_time": "2023-05-10T04:44:18.354Z"
   },
   {
    "duration": 25,
    "start_time": "2023-05-10T04:44:18.667Z"
   },
   {
    "duration": 13,
    "start_time": "2023-05-10T04:44:18.694Z"
   },
   {
    "duration": 4,
    "start_time": "2023-05-10T04:44:18.709Z"
   },
   {
    "duration": 41,
    "start_time": "2023-05-10T04:44:18.715Z"
   },
   {
    "duration": 38,
    "start_time": "2023-05-10T04:44:18.758Z"
   },
   {
    "duration": 26,
    "start_time": "2023-05-10T04:44:18.798Z"
   },
   {
    "duration": 22,
    "start_time": "2023-05-10T04:44:18.826Z"
   },
   {
    "duration": 297,
    "start_time": "2023-05-10T04:44:18.849Z"
   },
   {
    "duration": 14,
    "start_time": "2023-05-10T04:44:19.148Z"
   },
   {
    "duration": 29,
    "start_time": "2023-05-10T04:44:19.164Z"
   },
   {
    "duration": 14,
    "start_time": "2023-05-10T04:44:19.195Z"
   },
   {
    "duration": 123,
    "start_time": "2023-05-10T04:44:19.211Z"
   },
   {
    "duration": 0,
    "start_time": "2023-05-10T04:44:19.336Z"
   },
   {
    "duration": 0,
    "start_time": "2023-05-10T04:44:19.338Z"
   },
   {
    "duration": 23,
    "start_time": "2023-05-10T04:44:44.834Z"
   },
   {
    "duration": 34,
    "start_time": "2023-05-10T04:44:49.612Z"
   },
   {
    "duration": 25,
    "start_time": "2023-05-10T04:44:52.904Z"
   },
   {
    "duration": 20,
    "start_time": "2023-05-10T04:45:18.896Z"
   },
   {
    "duration": 24,
    "start_time": "2023-05-10T04:45:31.122Z"
   },
   {
    "duration": 24,
    "start_time": "2023-05-10T04:49:05.667Z"
   },
   {
    "duration": 5,
    "start_time": "2023-05-10T05:12:57.111Z"
   },
   {
    "duration": 15,
    "start_time": "2023-05-10T05:13:04.855Z"
   },
   {
    "duration": 30,
    "start_time": "2023-05-10T05:14:51.332Z"
   },
   {
    "duration": 25,
    "start_time": "2023-05-10T05:16:56.773Z"
   },
   {
    "duration": 17,
    "start_time": "2023-05-10T05:19:10.555Z"
   },
   {
    "duration": 33,
    "start_time": "2023-05-10T05:19:18.027Z"
   },
   {
    "duration": 18,
    "start_time": "2023-05-10T05:20:20.539Z"
   },
   {
    "duration": 543,
    "start_time": "2023-05-10T05:22:42.128Z"
   },
   {
    "duration": 24,
    "start_time": "2023-05-10T05:23:06.030Z"
   },
   {
    "duration": 24,
    "start_time": "2023-05-10T05:23:32.566Z"
   },
   {
    "duration": 518,
    "start_time": "2023-05-10T05:23:52.816Z"
   },
   {
    "duration": 523,
    "start_time": "2023-05-10T05:24:35.728Z"
   },
   {
    "duration": 498,
    "start_time": "2023-05-10T05:29:40.809Z"
   },
   {
    "duration": 30,
    "start_time": "2023-05-10T05:31:03.480Z"
   },
   {
    "duration": 36,
    "start_time": "2023-05-10T05:31:34.285Z"
   },
   {
    "duration": 95,
    "start_time": "2023-05-10T05:32:57.736Z"
   },
   {
    "duration": 19,
    "start_time": "2023-05-10T05:33:43.506Z"
   },
   {
    "duration": 32,
    "start_time": "2023-05-10T05:33:55.163Z"
   },
   {
    "duration": 32,
    "start_time": "2023-05-10T05:35:46.531Z"
   },
   {
    "duration": 27,
    "start_time": "2023-05-10T05:35:58.845Z"
   },
   {
    "duration": 32,
    "start_time": "2023-05-10T05:39:04.019Z"
   },
   {
    "duration": 35,
    "start_time": "2023-05-10T05:39:37.914Z"
   },
   {
    "duration": 21,
    "start_time": "2023-05-10T05:44:21.724Z"
   },
   {
    "duration": 2,
    "start_time": "2023-05-10T05:44:53.942Z"
   },
   {
    "duration": 31,
    "start_time": "2023-05-10T05:45:52.966Z"
   },
   {
    "duration": 5,
    "start_time": "2023-05-10T05:46:16.573Z"
   },
   {
    "duration": 15,
    "start_time": "2023-05-10T05:46:36.567Z"
   },
   {
    "duration": 29,
    "start_time": "2023-05-10T05:46:41.674Z"
   },
   {
    "duration": 25,
    "start_time": "2023-05-10T05:47:44.028Z"
   },
   {
    "duration": 22,
    "start_time": "2023-05-10T05:47:55.928Z"
   },
   {
    "duration": 32,
    "start_time": "2023-05-10T05:48:11.006Z"
   },
   {
    "duration": 30,
    "start_time": "2023-05-10T05:48:16.769Z"
   },
   {
    "duration": 19,
    "start_time": "2023-05-10T05:49:52.253Z"
   },
   {
    "duration": 12,
    "start_time": "2023-05-10T05:50:15.059Z"
   },
   {
    "duration": 11,
    "start_time": "2023-05-10T05:50:25.241Z"
   },
   {
    "duration": 25,
    "start_time": "2023-05-10T05:51:14.737Z"
   },
   {
    "duration": 21,
    "start_time": "2023-05-10T05:51:46.045Z"
   },
   {
    "duration": 14,
    "start_time": "2023-05-10T05:53:55.027Z"
   },
   {
    "duration": 17,
    "start_time": "2023-05-10T05:53:58.623Z"
   },
   {
    "duration": 19,
    "start_time": "2023-05-10T05:54:19.929Z"
   },
   {
    "duration": 28,
    "start_time": "2023-05-10T05:54:49.321Z"
   },
   {
    "duration": 20,
    "start_time": "2023-05-10T05:55:12.970Z"
   },
   {
    "duration": 29,
    "start_time": "2023-05-10T05:56:03.913Z"
   },
   {
    "duration": 26,
    "start_time": "2023-05-10T05:56:10.348Z"
   },
   {
    "duration": 49,
    "start_time": "2023-05-10T05:56:39.185Z"
   },
   {
    "duration": 43,
    "start_time": "2023-05-10T05:57:18.368Z"
   },
   {
    "duration": 41,
    "start_time": "2023-05-10T05:57:32.985Z"
   },
   {
    "duration": 30,
    "start_time": "2023-05-10T05:57:40.836Z"
   },
   {
    "duration": 28,
    "start_time": "2023-05-10T05:58:00.430Z"
   },
   {
    "duration": 35,
    "start_time": "2023-05-10T05:58:31.026Z"
   },
   {
    "duration": 34,
    "start_time": "2023-05-10T05:59:52.222Z"
   },
   {
    "duration": 28,
    "start_time": "2023-05-10T05:59:56.358Z"
   },
   {
    "duration": 1359,
    "start_time": "2023-05-10T06:00:04.216Z"
   },
   {
    "duration": 140,
    "start_time": "2023-05-10T06:00:05.577Z"
   },
   {
    "duration": 8,
    "start_time": "2023-05-10T06:00:05.718Z"
   },
   {
    "duration": 39,
    "start_time": "2023-05-10T06:00:05.728Z"
   },
   {
    "duration": 56,
    "start_time": "2023-05-10T06:00:05.768Z"
   },
   {
    "duration": 16,
    "start_time": "2023-05-10T06:00:05.825Z"
   },
   {
    "duration": 5,
    "start_time": "2023-05-10T06:00:05.842Z"
   },
   {
    "duration": 29,
    "start_time": "2023-05-10T06:00:05.848Z"
   },
   {
    "duration": 42,
    "start_time": "2023-05-10T06:00:05.878Z"
   },
   {
    "duration": 12,
    "start_time": "2023-05-10T06:00:05.927Z"
   },
   {
    "duration": 24,
    "start_time": "2023-05-10T06:00:05.940Z"
   },
   {
    "duration": 7,
    "start_time": "2023-05-10T06:00:05.965Z"
   },
   {
    "duration": 737,
    "start_time": "2023-05-10T06:00:05.973Z"
   },
   {
    "duration": 9,
    "start_time": "2023-05-10T06:00:06.712Z"
   },
   {
    "duration": 9,
    "start_time": "2023-05-10T06:00:06.729Z"
   },
   {
    "duration": 21,
    "start_time": "2023-05-10T06:00:06.740Z"
   },
   {
    "duration": 12,
    "start_time": "2023-05-10T06:00:06.762Z"
   },
   {
    "duration": 4,
    "start_time": "2023-05-10T06:00:06.776Z"
   },
   {
    "duration": 31,
    "start_time": "2023-05-10T06:00:06.782Z"
   },
   {
    "duration": 22,
    "start_time": "2023-05-10T06:00:06.815Z"
   },
   {
    "duration": 17,
    "start_time": "2023-05-10T06:00:06.839Z"
   },
   {
    "duration": 60,
    "start_time": "2023-05-10T06:00:06.857Z"
   },
   {
    "duration": 11,
    "start_time": "2023-05-10T06:00:06.919Z"
   },
   {
    "duration": 13,
    "start_time": "2023-05-10T06:00:06.932Z"
   },
   {
    "duration": 7,
    "start_time": "2023-05-10T06:00:06.947Z"
   },
   {
    "duration": 21,
    "start_time": "2023-05-10T06:00:06.956Z"
   },
   {
    "duration": 7,
    "start_time": "2023-05-10T06:00:06.978Z"
   },
   {
    "duration": 18,
    "start_time": "2023-05-10T06:00:06.989Z"
   },
   {
    "duration": 5,
    "start_time": "2023-05-10T06:00:07.009Z"
   },
   {
    "duration": 29,
    "start_time": "2023-05-10T06:00:07.016Z"
   },
   {
    "duration": 17,
    "start_time": "2023-05-10T06:00:07.047Z"
   },
   {
    "duration": 10,
    "start_time": "2023-05-10T06:00:07.065Z"
   },
   {
    "duration": 4,
    "start_time": "2023-05-10T06:00:07.076Z"
   },
   {
    "duration": 4,
    "start_time": "2023-05-10T06:00:07.082Z"
   },
   {
    "duration": 22,
    "start_time": "2023-05-10T06:00:07.087Z"
   },
   {
    "duration": 10,
    "start_time": "2023-05-10T06:00:07.113Z"
   },
   {
    "duration": 14,
    "start_time": "2023-05-10T06:00:07.131Z"
   },
   {
    "duration": 105,
    "start_time": "2023-05-10T06:00:07.147Z"
   },
   {
    "duration": 7,
    "start_time": "2023-05-10T06:00:07.254Z"
   },
   {
    "duration": 8,
    "start_time": "2023-05-10T06:00:07.263Z"
   },
   {
    "duration": 382,
    "start_time": "2023-05-10T06:00:07.272Z"
   },
   {
    "duration": 20,
    "start_time": "2023-05-10T06:00:07.656Z"
   },
   {
    "duration": 432,
    "start_time": "2023-05-10T06:00:07.678Z"
   },
   {
    "duration": 467,
    "start_time": "2023-05-10T06:00:08.112Z"
   },
   {
    "duration": 19,
    "start_time": "2023-05-10T06:00:08.580Z"
   },
   {
    "duration": 28,
    "start_time": "2023-05-10T06:00:08.612Z"
   },
   {
    "duration": 15,
    "start_time": "2023-05-10T06:00:08.642Z"
   },
   {
    "duration": 383,
    "start_time": "2023-05-10T06:00:08.658Z"
   },
   {
    "duration": 20,
    "start_time": "2023-05-10T06:00:09.042Z"
   },
   {
    "duration": 41,
    "start_time": "2023-05-10T06:00:09.064Z"
   },
   {
    "duration": 10,
    "start_time": "2023-05-10T06:00:09.112Z"
   },
   {
    "duration": 33,
    "start_time": "2023-05-10T06:00:09.127Z"
   },
   {
    "duration": 21,
    "start_time": "2023-05-10T06:00:09.162Z"
   },
   {
    "duration": 41,
    "start_time": "2023-05-10T06:00:09.184Z"
   },
   {
    "duration": 7,
    "start_time": "2023-05-10T06:00:09.227Z"
   },
   {
    "duration": 341,
    "start_time": "2023-05-10T06:00:09.236Z"
   },
   {
    "duration": 50,
    "start_time": "2023-05-10T06:00:09.578Z"
   },
   {
    "duration": 124,
    "start_time": "2023-05-10T06:00:09.630Z"
   },
   {
    "duration": 0,
    "start_time": "2023-05-10T06:00:09.756Z"
   },
   {
    "duration": 0,
    "start_time": "2023-05-10T06:00:09.757Z"
   },
   {
    "duration": 0,
    "start_time": "2023-05-10T06:00:09.758Z"
   },
   {
    "duration": 0,
    "start_time": "2023-05-10T06:00:09.759Z"
   },
   {
    "duration": 0,
    "start_time": "2023-05-10T06:00:09.760Z"
   },
   {
    "duration": 21,
    "start_time": "2023-05-10T06:00:44.742Z"
   },
   {
    "duration": 24,
    "start_time": "2023-05-10T06:00:59.964Z"
   },
   {
    "duration": 39,
    "start_time": "2023-05-10T06:01:03.004Z"
   },
   {
    "duration": 34,
    "start_time": "2023-05-10T06:01:48.030Z"
   },
   {
    "duration": 38,
    "start_time": "2023-05-10T06:01:54.965Z"
   },
   {
    "duration": 35,
    "start_time": "2023-05-10T06:02:00.912Z"
   },
   {
    "duration": 1429,
    "start_time": "2023-05-10T06:02:08.914Z"
   },
   {
    "duration": 136,
    "start_time": "2023-05-10T06:02:10.350Z"
   },
   {
    "duration": 10,
    "start_time": "2023-05-10T06:02:10.488Z"
   },
   {
    "duration": 73,
    "start_time": "2023-05-10T06:02:10.500Z"
   },
   {
    "duration": 42,
    "start_time": "2023-05-10T06:02:10.575Z"
   },
   {
    "duration": 17,
    "start_time": "2023-05-10T06:02:10.618Z"
   },
   {
    "duration": 11,
    "start_time": "2023-05-10T06:02:10.637Z"
   },
   {
    "duration": 16,
    "start_time": "2023-05-10T06:02:10.651Z"
   },
   {
    "duration": 73,
    "start_time": "2023-05-10T06:02:10.669Z"
   },
   {
    "duration": 13,
    "start_time": "2023-05-10T06:02:10.747Z"
   },
   {
    "duration": 16,
    "start_time": "2023-05-10T06:02:10.762Z"
   },
   {
    "duration": 25,
    "start_time": "2023-05-10T06:02:10.779Z"
   },
   {
    "duration": 876,
    "start_time": "2023-05-10T06:02:10.810Z"
   },
   {
    "duration": 18,
    "start_time": "2023-05-10T06:02:11.688Z"
   },
   {
    "duration": 20,
    "start_time": "2023-05-10T06:02:11.719Z"
   },
   {
    "duration": 8,
    "start_time": "2023-05-10T06:02:11.744Z"
   },
   {
    "duration": 11,
    "start_time": "2023-05-10T06:02:11.754Z"
   },
   {
    "duration": 7,
    "start_time": "2023-05-10T06:02:11.767Z"
   },
   {
    "duration": 14,
    "start_time": "2023-05-10T06:02:11.775Z"
   },
   {
    "duration": 24,
    "start_time": "2023-05-10T06:02:11.793Z"
   },
   {
    "duration": 18,
    "start_time": "2023-05-10T06:02:11.819Z"
   },
   {
    "duration": 28,
    "start_time": "2023-05-10T06:02:11.842Z"
   },
   {
    "duration": 6,
    "start_time": "2023-05-10T06:02:11.872Z"
   },
   {
    "duration": 40,
    "start_time": "2023-05-10T06:02:11.880Z"
   },
   {
    "duration": 9,
    "start_time": "2023-05-10T06:02:11.931Z"
   },
   {
    "duration": 3,
    "start_time": "2023-05-10T06:02:11.942Z"
   },
   {
    "duration": 7,
    "start_time": "2023-05-10T06:02:11.946Z"
   },
   {
    "duration": 4,
    "start_time": "2023-05-10T06:02:11.957Z"
   },
   {
    "duration": 8,
    "start_time": "2023-05-10T06:02:11.963Z"
   },
   {
    "duration": 4,
    "start_time": "2023-05-10T06:02:11.973Z"
   },
   {
    "duration": 4,
    "start_time": "2023-05-10T06:02:11.978Z"
   },
   {
    "duration": 26,
    "start_time": "2023-05-10T06:02:11.984Z"
   },
   {
    "duration": 5,
    "start_time": "2023-05-10T06:02:12.016Z"
   },
   {
    "duration": 10,
    "start_time": "2023-05-10T06:02:12.022Z"
   },
   {
    "duration": 8,
    "start_time": "2023-05-10T06:02:12.033Z"
   },
   {
    "duration": 8,
    "start_time": "2023-05-10T06:02:12.044Z"
   },
   {
    "duration": 9,
    "start_time": "2023-05-10T06:02:12.054Z"
   },
   {
    "duration": 107,
    "start_time": "2023-05-10T06:02:12.065Z"
   },
   {
    "duration": 4,
    "start_time": "2023-05-10T06:02:12.174Z"
   },
   {
    "duration": 21,
    "start_time": "2023-05-10T06:02:12.180Z"
   },
   {
    "duration": 298,
    "start_time": "2023-05-10T06:02:12.203Z"
   },
   {
    "duration": 32,
    "start_time": "2023-05-10T06:02:12.502Z"
   },
   {
    "duration": 381,
    "start_time": "2023-05-10T06:02:12.535Z"
   },
   {
    "duration": 513,
    "start_time": "2023-05-10T06:02:12.917Z"
   },
   {
    "duration": 15,
    "start_time": "2023-05-10T06:02:13.432Z"
   },
   {
    "duration": 31,
    "start_time": "2023-05-10T06:02:13.451Z"
   },
   {
    "duration": 17,
    "start_time": "2023-05-10T06:02:13.484Z"
   },
   {
    "duration": 388,
    "start_time": "2023-05-10T06:02:13.503Z"
   },
   {
    "duration": 24,
    "start_time": "2023-05-10T06:02:13.893Z"
   },
   {
    "duration": 17,
    "start_time": "2023-05-10T06:02:13.919Z"
   },
   {
    "duration": 4,
    "start_time": "2023-05-10T06:02:13.938Z"
   },
   {
    "duration": 57,
    "start_time": "2023-05-10T06:02:13.944Z"
   },
   {
    "duration": 27,
    "start_time": "2023-05-10T06:02:14.011Z"
   },
   {
    "duration": 22,
    "start_time": "2023-05-10T06:02:14.040Z"
   },
   {
    "duration": 9,
    "start_time": "2023-05-10T06:02:14.063Z"
   },
   {
    "duration": 374,
    "start_time": "2023-05-10T06:02:14.073Z"
   },
   {
    "duration": 31,
    "start_time": "2023-05-10T06:02:14.449Z"
   },
   {
    "duration": 24,
    "start_time": "2023-05-10T06:02:14.482Z"
   },
   {
    "duration": 36,
    "start_time": "2023-05-10T06:02:14.511Z"
   },
   {
    "duration": 33,
    "start_time": "2023-05-10T06:02:14.554Z"
   },
   {
    "duration": 25,
    "start_time": "2023-05-10T06:02:14.596Z"
   },
   {
    "duration": 404,
    "start_time": "2023-05-10T06:02:14.635Z"
   },
   {
    "duration": 65,
    "start_time": "2023-05-10T08:59:13.084Z"
   },
   {
    "duration": 1548,
    "start_time": "2023-05-10T08:59:23.979Z"
   },
   {
    "duration": 400,
    "start_time": "2023-05-10T08:59:25.529Z"
   },
   {
    "duration": 9,
    "start_time": "2023-05-10T08:59:25.931Z"
   },
   {
    "duration": 75,
    "start_time": "2023-05-10T08:59:25.942Z"
   },
   {
    "duration": 22,
    "start_time": "2023-05-10T08:59:26.020Z"
   },
   {
    "duration": 13,
    "start_time": "2023-05-10T08:59:26.044Z"
   },
   {
    "duration": 15,
    "start_time": "2023-05-10T08:59:26.059Z"
   },
   {
    "duration": 43,
    "start_time": "2023-05-10T08:59:26.076Z"
   },
   {
    "duration": 38,
    "start_time": "2023-05-10T08:59:26.121Z"
   },
   {
    "duration": 10,
    "start_time": "2023-05-10T08:59:26.163Z"
   },
   {
    "duration": 51,
    "start_time": "2023-05-10T08:59:26.175Z"
   },
   {
    "duration": 3,
    "start_time": "2023-05-10T08:59:26.229Z"
   },
   {
    "duration": 1201,
    "start_time": "2023-05-10T08:59:26.233Z"
   },
   {
    "duration": 9,
    "start_time": "2023-05-10T08:59:27.437Z"
   },
   {
    "duration": 16,
    "start_time": "2023-05-10T08:59:27.449Z"
   },
   {
    "duration": 20,
    "start_time": "2023-05-10T08:59:27.467Z"
   },
   {
    "duration": 12,
    "start_time": "2023-05-10T08:59:27.489Z"
   },
   {
    "duration": 14,
    "start_time": "2023-05-10T08:59:27.503Z"
   },
   {
    "duration": 28,
    "start_time": "2023-05-10T08:59:27.519Z"
   },
   {
    "duration": 26,
    "start_time": "2023-05-10T08:59:27.549Z"
   },
   {
    "duration": 15,
    "start_time": "2023-05-10T08:59:27.577Z"
   },
   {
    "duration": 37,
    "start_time": "2023-05-10T08:59:27.595Z"
   },
   {
    "duration": 8,
    "start_time": "2023-05-10T08:59:27.633Z"
   },
   {
    "duration": 24,
    "start_time": "2023-05-10T08:59:27.643Z"
   },
   {
    "duration": 27,
    "start_time": "2023-05-10T08:59:27.669Z"
   },
   {
    "duration": 96,
    "start_time": "2023-05-10T08:59:27.698Z"
   },
   {
    "duration": 11,
    "start_time": "2023-05-10T08:59:27.796Z"
   },
   {
    "duration": 8,
    "start_time": "2023-05-10T08:59:27.811Z"
   },
   {
    "duration": 13,
    "start_time": "2023-05-10T08:59:27.821Z"
   },
   {
    "duration": 5,
    "start_time": "2023-05-10T08:59:27.836Z"
   },
   {
    "duration": 11,
    "start_time": "2023-05-10T08:59:27.843Z"
   },
   {
    "duration": 6,
    "start_time": "2023-05-10T08:59:27.856Z"
   },
   {
    "duration": 10,
    "start_time": "2023-05-10T08:59:27.863Z"
   },
   {
    "duration": 5,
    "start_time": "2023-05-10T08:59:27.875Z"
   },
   {
    "duration": 20,
    "start_time": "2023-05-10T08:59:27.882Z"
   },
   {
    "duration": 24,
    "start_time": "2023-05-10T08:59:27.904Z"
   },
   {
    "duration": 19,
    "start_time": "2023-05-10T08:59:27.930Z"
   },
   {
    "duration": 108,
    "start_time": "2023-05-10T08:59:27.951Z"
   },
   {
    "duration": 5,
    "start_time": "2023-05-10T08:59:28.060Z"
   },
   {
    "duration": 23,
    "start_time": "2023-05-10T08:59:28.067Z"
   },
   {
    "duration": 303,
    "start_time": "2023-05-10T08:59:28.093Z"
   },
   {
    "duration": 26,
    "start_time": "2023-05-10T08:59:28.398Z"
   },
   {
    "duration": 358,
    "start_time": "2023-05-10T08:59:28.425Z"
   },
   {
    "duration": 456,
    "start_time": "2023-05-10T08:59:28.785Z"
   },
   {
    "duration": 12,
    "start_time": "2023-05-10T08:59:29.244Z"
   },
   {
    "duration": 37,
    "start_time": "2023-05-10T08:59:29.257Z"
   },
   {
    "duration": 23,
    "start_time": "2023-05-10T08:59:29.296Z"
   },
   {
    "duration": 319,
    "start_time": "2023-05-10T08:59:29.321Z"
   },
   {
    "duration": 20,
    "start_time": "2023-05-10T08:59:29.642Z"
   },
   {
    "duration": 15,
    "start_time": "2023-05-10T08:59:29.664Z"
   },
   {
    "duration": 40,
    "start_time": "2023-05-10T08:59:29.680Z"
   },
   {
    "duration": 49,
    "start_time": "2023-05-10T08:59:29.722Z"
   },
   {
    "duration": 22,
    "start_time": "2023-05-10T08:59:29.772Z"
   },
   {
    "duration": 46,
    "start_time": "2023-05-10T08:59:29.796Z"
   },
   {
    "duration": 23,
    "start_time": "2023-05-10T08:59:29.844Z"
   },
   {
    "duration": 344,
    "start_time": "2023-05-10T08:59:29.869Z"
   },
   {
    "duration": 30,
    "start_time": "2023-05-10T08:59:30.217Z"
   },
   {
    "duration": 49,
    "start_time": "2023-05-10T08:59:30.249Z"
   },
   {
    "duration": 59,
    "start_time": "2023-05-10T08:59:30.300Z"
   },
   {
    "duration": 188,
    "start_time": "2023-05-10T08:59:30.361Z"
   },
   {
    "duration": 0,
    "start_time": "2023-05-10T08:59:30.551Z"
   },
   {
    "duration": 0,
    "start_time": "2023-05-10T08:59:30.552Z"
   },
   {
    "duration": 0,
    "start_time": "2023-05-10T08:59:30.554Z"
   },
   {
    "duration": 38,
    "start_time": "2023-05-10T09:00:03.457Z"
   },
   {
    "duration": 359,
    "start_time": "2023-05-10T09:00:10.328Z"
   },
   {
    "duration": 24,
    "start_time": "2023-05-10T09:00:13.407Z"
   },
   {
    "duration": 25,
    "start_time": "2023-05-10T09:06:19.159Z"
   },
   {
    "duration": 250,
    "start_time": "2023-05-10T09:07:21.150Z"
   },
   {
    "duration": 321,
    "start_time": "2023-05-10T09:14:06.898Z"
   },
   {
    "duration": 574,
    "start_time": "2023-05-10T09:15:20.935Z"
   },
   {
    "duration": 2300,
    "start_time": "2023-05-10T09:15:45.566Z"
   },
   {
    "duration": 9,
    "start_time": "2023-05-10T09:17:06.223Z"
   },
   {
    "duration": 20,
    "start_time": "2023-05-10T09:20:45.185Z"
   },
   {
    "duration": 21,
    "start_time": "2023-05-10T09:21:25.346Z"
   },
   {
    "duration": 17,
    "start_time": "2023-05-10T09:26:12.272Z"
   },
   {
    "duration": 16,
    "start_time": "2023-05-10T09:26:26.948Z"
   },
   {
    "duration": 230,
    "start_time": "2023-05-10T09:26:42.838Z"
   },
   {
    "duration": 6,
    "start_time": "2023-05-10T09:27:22.610Z"
   },
   {
    "duration": 796,
    "start_time": "2023-05-10T09:28:03.628Z"
   },
   {
    "duration": 246,
    "start_time": "2023-05-10T09:29:20.420Z"
   },
   {
    "duration": 193,
    "start_time": "2023-05-10T09:30:38.830Z"
   },
   {
    "duration": 10,
    "start_time": "2023-05-10T09:34:57.362Z"
   },
   {
    "duration": 9,
    "start_time": "2023-05-10T09:35:00.383Z"
   },
   {
    "duration": 4,
    "start_time": "2023-05-10T09:35:37.131Z"
   },
   {
    "duration": 407,
    "start_time": "2023-05-10T09:42:47.136Z"
   },
   {
    "duration": 57,
    "start_time": "2023-05-10T09:43:31.451Z"
   },
   {
    "duration": 74,
    "start_time": "2023-05-10T09:43:38.807Z"
   },
   {
    "duration": 5,
    "start_time": "2023-05-10T09:48:58.137Z"
   },
   {
    "duration": 13,
    "start_time": "2023-05-10T09:50:27.639Z"
   },
   {
    "duration": 1364,
    "start_time": "2023-05-10T09:53:17.208Z"
   },
   {
    "duration": 120,
    "start_time": "2023-05-10T09:53:18.574Z"
   },
   {
    "duration": 6,
    "start_time": "2023-05-10T09:53:18.696Z"
   },
   {
    "duration": 94,
    "start_time": "2023-05-10T09:53:18.705Z"
   },
   {
    "duration": 19,
    "start_time": "2023-05-10T09:53:18.801Z"
   },
   {
    "duration": 17,
    "start_time": "2023-05-10T09:53:18.823Z"
   },
   {
    "duration": 14,
    "start_time": "2023-05-10T09:53:18.842Z"
   },
   {
    "duration": 19,
    "start_time": "2023-05-10T09:53:18.858Z"
   },
   {
    "duration": 55,
    "start_time": "2023-05-10T09:53:18.878Z"
   },
   {
    "duration": 9,
    "start_time": "2023-05-10T09:53:18.936Z"
   },
   {
    "duration": 23,
    "start_time": "2023-05-10T09:53:18.947Z"
   },
   {
    "duration": 3,
    "start_time": "2023-05-10T09:53:18.972Z"
   },
   {
    "duration": 795,
    "start_time": "2023-05-10T09:53:18.977Z"
   },
   {
    "duration": 9,
    "start_time": "2023-05-10T09:53:19.775Z"
   },
   {
    "duration": 29,
    "start_time": "2023-05-10T09:53:19.786Z"
   },
   {
    "duration": 57,
    "start_time": "2023-05-10T09:53:19.817Z"
   },
   {
    "duration": 60,
    "start_time": "2023-05-10T09:53:19.876Z"
   },
   {
    "duration": 59,
    "start_time": "2023-05-10T09:53:19.938Z"
   },
   {
    "duration": 84,
    "start_time": "2023-05-10T09:53:19.999Z"
   },
   {
    "duration": 73,
    "start_time": "2023-05-10T09:53:20.084Z"
   },
   {
    "duration": 78,
    "start_time": "2023-05-10T09:53:20.159Z"
   },
   {
    "duration": 48,
    "start_time": "2023-05-10T09:53:20.239Z"
   },
   {
    "duration": 55,
    "start_time": "2023-05-10T09:53:20.288Z"
   },
   {
    "duration": 53,
    "start_time": "2023-05-10T09:53:20.345Z"
   },
   {
    "duration": 42,
    "start_time": "2023-05-10T09:53:20.400Z"
   },
   {
    "duration": 57,
    "start_time": "2023-05-10T09:53:20.445Z"
   },
   {
    "duration": 35,
    "start_time": "2023-05-10T09:53:20.504Z"
   },
   {
    "duration": 43,
    "start_time": "2023-05-10T09:53:20.544Z"
   },
   {
    "duration": 95,
    "start_time": "2023-05-10T09:53:20.589Z"
   },
   {
    "duration": 50,
    "start_time": "2023-05-10T09:53:20.686Z"
   },
   {
    "duration": 69,
    "start_time": "2023-05-10T09:53:20.738Z"
   },
   {
    "duration": 49,
    "start_time": "2023-05-10T09:53:20.809Z"
   },
   {
    "duration": 40,
    "start_time": "2023-05-10T09:53:20.860Z"
   },
   {
    "duration": 57,
    "start_time": "2023-05-10T09:53:20.902Z"
   },
   {
    "duration": 55,
    "start_time": "2023-05-10T09:53:20.961Z"
   },
   {
    "duration": 45,
    "start_time": "2023-05-10T09:53:21.018Z"
   },
   {
    "duration": 59,
    "start_time": "2023-05-10T09:53:21.065Z"
   },
   {
    "duration": 138,
    "start_time": "2023-05-10T09:53:21.126Z"
   },
   {
    "duration": 5,
    "start_time": "2023-05-10T09:53:21.265Z"
   },
   {
    "duration": 49,
    "start_time": "2023-05-10T09:53:21.272Z"
   },
   {
    "duration": 333,
    "start_time": "2023-05-10T09:53:21.323Z"
   },
   {
    "duration": 12,
    "start_time": "2023-05-10T09:53:21.658Z"
   },
   {
    "duration": 404,
    "start_time": "2023-05-10T09:53:21.671Z"
   },
   {
    "duration": 475,
    "start_time": "2023-05-10T09:53:22.077Z"
   },
   {
    "duration": 11,
    "start_time": "2023-05-10T09:53:22.554Z"
   },
   {
    "duration": 53,
    "start_time": "2023-05-10T09:53:22.567Z"
   },
   {
    "duration": 78,
    "start_time": "2023-05-10T09:53:22.623Z"
   },
   {
    "duration": 418,
    "start_time": "2023-05-10T09:53:22.702Z"
   },
   {
    "duration": 22,
    "start_time": "2023-05-10T09:53:23.123Z"
   },
   {
    "duration": 50,
    "start_time": "2023-05-10T09:53:23.147Z"
   },
   {
    "duration": 56,
    "start_time": "2023-05-10T09:53:23.199Z"
   },
   {
    "duration": 52,
    "start_time": "2023-05-10T09:53:23.257Z"
   },
   {
    "duration": 38,
    "start_time": "2023-05-10T09:53:23.311Z"
   },
   {
    "duration": 22,
    "start_time": "2023-05-10T09:53:23.351Z"
   },
   {
    "duration": 30,
    "start_time": "2023-05-10T09:53:23.375Z"
   },
   {
    "duration": 366,
    "start_time": "2023-05-10T09:53:23.407Z"
   },
   {
    "duration": 27,
    "start_time": "2023-05-10T09:53:23.775Z"
   },
   {
    "duration": 30,
    "start_time": "2023-05-10T09:53:23.804Z"
   },
   {
    "duration": 74,
    "start_time": "2023-05-10T09:53:23.835Z"
   },
   {
    "duration": 34,
    "start_time": "2023-05-10T09:53:23.911Z"
   },
   {
    "duration": 31,
    "start_time": "2023-05-10T09:53:23.946Z"
   },
   {
    "duration": 344,
    "start_time": "2023-05-10T09:53:23.979Z"
   },
   {
    "duration": 17,
    "start_time": "2023-05-10T09:53:24.326Z"
   },
   {
    "duration": 28,
    "start_time": "2023-05-10T09:53:24.345Z"
   },
   {
    "duration": 258,
    "start_time": "2023-05-10T09:53:24.374Z"
   },
   {
    "duration": 2584,
    "start_time": "2023-05-10T09:53:24.634Z"
   },
   {
    "duration": 23,
    "start_time": "2023-05-10T09:53:27.220Z"
   },
   {
    "duration": 17,
    "start_time": "2023-05-10T09:53:27.245Z"
   },
   {
    "duration": 3,
    "start_time": "2023-05-10T09:53:27.264Z"
   },
   {
    "duration": 819,
    "start_time": "2023-05-10T09:53:27.269Z"
   },
   {
    "duration": 255,
    "start_time": "2023-05-10T09:53:28.090Z"
   },
   {
    "duration": 216,
    "start_time": "2023-05-10T09:53:28.347Z"
   },
   {
    "duration": 10,
    "start_time": "2023-05-10T09:53:28.565Z"
   },
   {
    "duration": 11,
    "start_time": "2023-05-10T09:53:28.577Z"
   },
   {
    "duration": 33,
    "start_time": "2023-05-10T09:53:28.590Z"
   },
   {
    "duration": 28,
    "start_time": "2023-05-10T09:53:28.625Z"
   },
   {
    "duration": 250,
    "start_time": "2023-05-10T09:53:28.655Z"
   },
   {
    "duration": 800,
    "start_time": "2023-05-10T09:54:10.096Z"
   },
   {
    "duration": 609,
    "start_time": "2023-05-10T09:54:16.845Z"
   },
   {
    "duration": 470,
    "start_time": "2023-05-10T09:54:34.004Z"
   },
   {
    "duration": 304,
    "start_time": "2023-05-10T09:54:42.347Z"
   },
   {
    "duration": 134,
    "start_time": "2023-05-10T09:54:49.188Z"
   },
   {
    "duration": 467,
    "start_time": "2023-05-10T09:57:29.242Z"
   },
   {
    "duration": 50,
    "start_time": "2023-05-10T09:57:43.893Z"
   },
   {
    "duration": 94,
    "start_time": "2023-05-10T09:57:49.323Z"
   },
   {
    "duration": 74,
    "start_time": "2023-05-10T09:57:57.577Z"
   },
   {
    "duration": 323,
    "start_time": "2023-05-10T09:58:03.364Z"
   },
   {
    "duration": 131,
    "start_time": "2023-05-10T09:58:32.047Z"
   },
   {
    "duration": 11,
    "start_time": "2023-05-10T09:59:34.611Z"
   },
   {
    "duration": 16,
    "start_time": "2023-05-10T09:59:46.073Z"
   },
   {
    "duration": 135,
    "start_time": "2023-05-10T09:59:51.790Z"
   },
   {
    "duration": 6,
    "start_time": "2023-05-10T10:02:05.236Z"
   },
   {
    "duration": 287,
    "start_time": "2023-05-10T10:02:09.034Z"
   },
   {
    "duration": 1350,
    "start_time": "2023-05-10T10:02:17.779Z"
   },
   {
    "duration": 113,
    "start_time": "2023-05-10T10:02:19.131Z"
   },
   {
    "duration": 6,
    "start_time": "2023-05-10T10:02:19.246Z"
   },
   {
    "duration": 45,
    "start_time": "2023-05-10T10:02:19.254Z"
   },
   {
    "duration": 20,
    "start_time": "2023-05-10T10:02:19.318Z"
   },
   {
    "duration": 13,
    "start_time": "2023-05-10T10:02:19.339Z"
   },
   {
    "duration": 14,
    "start_time": "2023-05-10T10:02:19.353Z"
   },
   {
    "duration": 31,
    "start_time": "2023-05-10T10:02:19.369Z"
   },
   {
    "duration": 47,
    "start_time": "2023-05-10T10:02:19.402Z"
   },
   {
    "duration": 10,
    "start_time": "2023-05-10T10:02:19.452Z"
   },
   {
    "duration": 18,
    "start_time": "2023-05-10T10:02:19.463Z"
   },
   {
    "duration": 3,
    "start_time": "2023-05-10T10:02:19.482Z"
   },
   {
    "duration": 695,
    "start_time": "2023-05-10T10:02:19.517Z"
   },
   {
    "duration": 11,
    "start_time": "2023-05-10T10:02:20.217Z"
   },
   {
    "duration": 9,
    "start_time": "2023-05-10T10:02:20.230Z"
   },
   {
    "duration": 16,
    "start_time": "2023-05-10T10:02:20.241Z"
   },
   {
    "duration": 20,
    "start_time": "2023-05-10T10:02:20.259Z"
   },
   {
    "duration": 23,
    "start_time": "2023-05-10T10:02:20.281Z"
   },
   {
    "duration": 11,
    "start_time": "2023-05-10T10:02:20.307Z"
   },
   {
    "duration": 11,
    "start_time": "2023-05-10T10:02:20.320Z"
   },
   {
    "duration": 29,
    "start_time": "2023-05-10T10:02:20.333Z"
   },
   {
    "duration": 31,
    "start_time": "2023-05-10T10:02:20.364Z"
   },
   {
    "duration": 20,
    "start_time": "2023-05-10T10:02:20.397Z"
   },
   {
    "duration": 12,
    "start_time": "2023-05-10T10:02:20.419Z"
   },
   {
    "duration": 18,
    "start_time": "2023-05-10T10:02:20.433Z"
   },
   {
    "duration": 33,
    "start_time": "2023-05-10T10:02:20.452Z"
   },
   {
    "duration": 14,
    "start_time": "2023-05-10T10:02:20.487Z"
   },
   {
    "duration": 8,
    "start_time": "2023-05-10T10:02:20.506Z"
   },
   {
    "duration": 11,
    "start_time": "2023-05-10T10:02:20.516Z"
   },
   {
    "duration": 28,
    "start_time": "2023-05-10T10:02:20.528Z"
   },
   {
    "duration": 23,
    "start_time": "2023-05-10T10:02:20.559Z"
   },
   {
    "duration": 9,
    "start_time": "2023-05-10T10:02:20.584Z"
   },
   {
    "duration": 21,
    "start_time": "2023-05-10T10:02:20.594Z"
   },
   {
    "duration": 10,
    "start_time": "2023-05-10T10:02:20.617Z"
   },
   {
    "duration": 18,
    "start_time": "2023-05-10T10:02:20.628Z"
   },
   {
    "duration": 16,
    "start_time": "2023-05-10T10:02:20.648Z"
   },
   {
    "duration": 29,
    "start_time": "2023-05-10T10:02:20.666Z"
   },
   {
    "duration": 112,
    "start_time": "2023-05-10T10:02:20.697Z"
   },
   {
    "duration": 4,
    "start_time": "2023-05-10T10:02:20.817Z"
   },
   {
    "duration": 29,
    "start_time": "2023-05-10T10:02:20.823Z"
   },
   {
    "duration": 298,
    "start_time": "2023-05-10T10:02:20.853Z"
   },
   {
    "duration": 14,
    "start_time": "2023-05-10T10:02:21.153Z"
   },
   {
    "duration": 381,
    "start_time": "2023-05-10T10:02:21.169Z"
   },
   {
    "duration": 432,
    "start_time": "2023-05-10T10:02:21.552Z"
   },
   {
    "duration": 13,
    "start_time": "2023-05-10T10:02:21.987Z"
   },
   {
    "duration": 32,
    "start_time": "2023-05-10T10:02:22.002Z"
   },
   {
    "duration": 15,
    "start_time": "2023-05-10T10:02:22.036Z"
   },
   {
    "duration": 353,
    "start_time": "2023-05-10T10:02:22.053Z"
   },
   {
    "duration": 30,
    "start_time": "2023-05-10T10:02:22.409Z"
   },
   {
    "duration": 16,
    "start_time": "2023-05-10T10:02:22.442Z"
   },
   {
    "duration": 40,
    "start_time": "2023-05-10T10:02:22.460Z"
   },
   {
    "duration": 56,
    "start_time": "2023-05-10T10:02:22.502Z"
   },
   {
    "duration": 27,
    "start_time": "2023-05-10T10:02:22.561Z"
   },
   {
    "duration": 69,
    "start_time": "2023-05-10T10:02:22.591Z"
   },
   {
    "duration": 11,
    "start_time": "2023-05-10T10:02:22.662Z"
   },
   {
    "duration": 344,
    "start_time": "2023-05-10T10:02:22.675Z"
   },
   {
    "duration": 27,
    "start_time": "2023-05-10T10:02:23.021Z"
   },
   {
    "duration": 18,
    "start_time": "2023-05-10T10:02:23.050Z"
   },
   {
    "duration": 49,
    "start_time": "2023-05-10T10:02:23.070Z"
   },
   {
    "duration": 31,
    "start_time": "2023-05-10T10:02:23.121Z"
   },
   {
    "duration": 19,
    "start_time": "2023-05-10T10:02:23.154Z"
   },
   {
    "duration": 361,
    "start_time": "2023-05-10T10:02:23.176Z"
   },
   {
    "duration": 14,
    "start_time": "2023-05-10T10:02:23.539Z"
   },
   {
    "duration": 19,
    "start_time": "2023-05-10T10:02:23.555Z"
   },
   {
    "duration": 257,
    "start_time": "2023-05-10T10:02:23.576Z"
   },
   {
    "duration": 2468,
    "start_time": "2023-05-10T10:02:23.835Z"
   },
   {
    "duration": 25,
    "start_time": "2023-05-10T10:02:26.305Z"
   },
   {
    "duration": 16,
    "start_time": "2023-05-10T10:02:26.332Z"
   },
   {
    "duration": 3,
    "start_time": "2023-05-10T10:02:26.350Z"
   },
   {
    "duration": 747,
    "start_time": "2023-05-10T10:02:26.354Z"
   },
   {
    "duration": 250,
    "start_time": "2023-05-10T10:02:27.104Z"
   },
   {
    "duration": 199,
    "start_time": "2023-05-10T10:02:27.356Z"
   },
   {
    "duration": 10,
    "start_time": "2023-05-10T10:02:27.556Z"
   },
   {
    "duration": 13,
    "start_time": "2023-05-10T10:02:27.568Z"
   },
   {
    "duration": 36,
    "start_time": "2023-05-10T10:02:27.583Z"
   },
   {
    "duration": 26,
    "start_time": "2023-05-10T10:02:27.620Z"
   },
   {
    "duration": 1349,
    "start_time": "2023-05-10T10:04:26.322Z"
   },
   {
    "duration": 128,
    "start_time": "2023-05-10T10:04:27.673Z"
   },
   {
    "duration": 15,
    "start_time": "2023-05-10T10:04:27.803Z"
   },
   {
    "duration": 60,
    "start_time": "2023-05-10T10:04:27.820Z"
   },
   {
    "duration": 37,
    "start_time": "2023-05-10T10:04:27.883Z"
   },
   {
    "duration": 15,
    "start_time": "2023-05-10T10:04:27.921Z"
   },
   {
    "duration": 24,
    "start_time": "2023-05-10T10:04:27.938Z"
   },
   {
    "duration": 48,
    "start_time": "2023-05-10T10:04:27.964Z"
   },
   {
    "duration": 43,
    "start_time": "2023-05-10T10:04:28.013Z"
   },
   {
    "duration": 9,
    "start_time": "2023-05-10T10:04:28.059Z"
   },
   {
    "duration": 27,
    "start_time": "2023-05-10T10:04:28.069Z"
   },
   {
    "duration": 20,
    "start_time": "2023-05-10T10:04:28.097Z"
   },
   {
    "duration": 693,
    "start_time": "2023-05-10T10:04:28.119Z"
   },
   {
    "duration": 8,
    "start_time": "2023-05-10T10:04:28.814Z"
   },
   {
    "duration": 12,
    "start_time": "2023-05-10T10:04:28.824Z"
   },
   {
    "duration": 15,
    "start_time": "2023-05-10T10:04:28.838Z"
   },
   {
    "duration": 10,
    "start_time": "2023-05-10T10:04:28.854Z"
   },
   {
    "duration": 6,
    "start_time": "2023-05-10T10:04:28.865Z"
   },
   {
    "duration": 9,
    "start_time": "2023-05-10T10:04:28.873Z"
   },
   {
    "duration": 33,
    "start_time": "2023-05-10T10:04:28.884Z"
   },
   {
    "duration": 6,
    "start_time": "2023-05-10T10:04:28.919Z"
   },
   {
    "duration": 34,
    "start_time": "2023-05-10T10:04:28.927Z"
   },
   {
    "duration": 5,
    "start_time": "2023-05-10T10:04:28.963Z"
   },
   {
    "duration": 13,
    "start_time": "2023-05-10T10:04:28.970Z"
   },
   {
    "duration": 5,
    "start_time": "2023-05-10T10:04:28.984Z"
   },
   {
    "duration": 27,
    "start_time": "2023-05-10T10:04:28.991Z"
   },
   {
    "duration": 7,
    "start_time": "2023-05-10T10:04:29.020Z"
   },
   {
    "duration": 10,
    "start_time": "2023-05-10T10:04:29.031Z"
   },
   {
    "duration": 14,
    "start_time": "2023-05-10T10:04:29.042Z"
   },
   {
    "duration": 9,
    "start_time": "2023-05-10T10:04:29.057Z"
   },
   {
    "duration": 6,
    "start_time": "2023-05-10T10:04:29.068Z"
   },
   {
    "duration": 10,
    "start_time": "2023-05-10T10:04:29.076Z"
   },
   {
    "duration": 10,
    "start_time": "2023-05-10T10:04:29.087Z"
   },
   {
    "duration": 6,
    "start_time": "2023-05-10T10:04:29.098Z"
   },
   {
    "duration": 12,
    "start_time": "2023-05-10T10:04:29.106Z"
   },
   {
    "duration": 10,
    "start_time": "2023-05-10T10:04:29.119Z"
   },
   {
    "duration": 18,
    "start_time": "2023-05-10T10:04:29.131Z"
   },
   {
    "duration": 112,
    "start_time": "2023-05-10T10:04:29.150Z"
   },
   {
    "duration": 5,
    "start_time": "2023-05-10T10:04:29.264Z"
   },
   {
    "duration": 11,
    "start_time": "2023-05-10T10:04:29.271Z"
   },
   {
    "duration": 256,
    "start_time": "2023-05-10T10:04:29.284Z"
   },
   {
    "duration": 12,
    "start_time": "2023-05-10T10:04:29.542Z"
   },
   {
    "duration": 338,
    "start_time": "2023-05-10T10:04:29.556Z"
   },
   {
    "duration": 377,
    "start_time": "2023-05-10T10:04:29.896Z"
   },
   {
    "duration": 10,
    "start_time": "2023-05-10T10:04:30.275Z"
   },
   {
    "duration": 60,
    "start_time": "2023-05-10T10:04:30.286Z"
   },
   {
    "duration": 12,
    "start_time": "2023-05-10T10:04:30.348Z"
   },
   {
    "duration": 385,
    "start_time": "2023-05-10T10:04:30.362Z"
   },
   {
    "duration": 21,
    "start_time": "2023-05-10T10:04:30.749Z"
   },
   {
    "duration": 35,
    "start_time": "2023-05-10T10:04:30.772Z"
   },
   {
    "duration": 47,
    "start_time": "2023-05-10T10:04:30.809Z"
   },
   {
    "duration": 65,
    "start_time": "2023-05-10T10:04:30.857Z"
   },
   {
    "duration": 45,
    "start_time": "2023-05-10T10:04:30.923Z"
   },
   {
    "duration": 96,
    "start_time": "2023-05-10T10:04:30.971Z"
   },
   {
    "duration": 52,
    "start_time": "2023-05-10T10:04:31.069Z"
   },
   {
    "duration": 373,
    "start_time": "2023-05-10T10:04:31.123Z"
   },
   {
    "duration": 34,
    "start_time": "2023-05-10T10:04:31.499Z"
   },
   {
    "duration": 24,
    "start_time": "2023-05-10T10:04:31.535Z"
   },
   {
    "duration": 51,
    "start_time": "2023-05-10T10:04:31.561Z"
   },
   {
    "duration": 44,
    "start_time": "2023-05-10T10:04:31.613Z"
   },
   {
    "duration": 45,
    "start_time": "2023-05-10T10:04:31.659Z"
   },
   {
    "duration": 393,
    "start_time": "2023-05-10T10:04:31.705Z"
   },
   {
    "duration": 22,
    "start_time": "2023-05-10T10:04:32.100Z"
   },
   {
    "duration": 33,
    "start_time": "2023-05-10T10:04:32.124Z"
   },
   {
    "duration": 238,
    "start_time": "2023-05-10T10:04:32.159Z"
   },
   {
    "duration": 2396,
    "start_time": "2023-05-10T10:04:32.400Z"
   },
   {
    "duration": 25,
    "start_time": "2023-05-10T10:04:34.797Z"
   },
   {
    "duration": 16,
    "start_time": "2023-05-10T10:04:34.824Z"
   },
   {
    "duration": 5,
    "start_time": "2023-05-10T10:04:34.841Z"
   },
   {
    "duration": 777,
    "start_time": "2023-05-10T10:04:34.848Z"
   },
   {
    "duration": 219,
    "start_time": "2023-05-10T10:04:35.627Z"
   },
   {
    "duration": 209,
    "start_time": "2023-05-10T10:04:35.848Z"
   },
   {
    "duration": 10,
    "start_time": "2023-05-10T10:04:36.059Z"
   },
   {
    "duration": 7,
    "start_time": "2023-05-10T10:04:36.071Z"
   },
   {
    "duration": 55,
    "start_time": "2023-05-10T10:04:36.079Z"
   },
   {
    "duration": 8,
    "start_time": "2023-05-10T10:04:36.136Z"
   },
   {
    "duration": 203,
    "start_time": "2023-05-10T10:04:36.145Z"
   },
   {
    "duration": 29,
    "start_time": "2023-05-10T10:05:01.232Z"
   },
   {
    "duration": 290,
    "start_time": "2023-05-10T10:06:06.665Z"
   },
   {
    "duration": 20,
    "start_time": "2023-05-10T10:06:12.180Z"
   },
   {
    "duration": 1655,
    "start_time": "2023-05-10T10:06:19.565Z"
   },
   {
    "duration": 133,
    "start_time": "2023-05-10T10:06:21.222Z"
   },
   {
    "duration": 10,
    "start_time": "2023-05-10T10:06:21.357Z"
   },
   {
    "duration": 77,
    "start_time": "2023-05-10T10:06:21.369Z"
   },
   {
    "duration": 20,
    "start_time": "2023-05-10T10:06:21.449Z"
   },
   {
    "duration": 18,
    "start_time": "2023-05-10T10:06:21.471Z"
   },
   {
    "duration": 29,
    "start_time": "2023-05-10T10:06:21.491Z"
   },
   {
    "duration": 16,
    "start_time": "2023-05-10T10:06:21.522Z"
   },
   {
    "duration": 43,
    "start_time": "2023-05-10T10:06:21.540Z"
   },
   {
    "duration": 37,
    "start_time": "2023-05-10T10:06:21.586Z"
   },
   {
    "duration": 21,
    "start_time": "2023-05-10T10:06:21.625Z"
   },
   {
    "duration": 4,
    "start_time": "2023-05-10T10:06:21.648Z"
   },
   {
    "duration": 857,
    "start_time": "2023-05-10T10:06:21.654Z"
   },
   {
    "duration": 19,
    "start_time": "2023-05-10T10:06:22.514Z"
   },
   {
    "duration": 37,
    "start_time": "2023-05-10T10:06:22.535Z"
   },
   {
    "duration": 20,
    "start_time": "2023-05-10T10:06:22.574Z"
   },
   {
    "duration": 37,
    "start_time": "2023-05-10T10:06:22.596Z"
   },
   {
    "duration": 28,
    "start_time": "2023-05-10T10:06:22.635Z"
   },
   {
    "duration": 40,
    "start_time": "2023-05-10T10:06:22.667Z"
   },
   {
    "duration": 44,
    "start_time": "2023-05-10T10:06:22.710Z"
   },
   {
    "duration": 27,
    "start_time": "2023-05-10T10:06:22.757Z"
   },
   {
    "duration": 48,
    "start_time": "2023-05-10T10:06:22.786Z"
   },
   {
    "duration": 17,
    "start_time": "2023-05-10T10:06:22.836Z"
   },
   {
    "duration": 36,
    "start_time": "2023-05-10T10:06:22.855Z"
   },
   {
    "duration": 51,
    "start_time": "2023-05-10T10:06:22.893Z"
   },
   {
    "duration": 8,
    "start_time": "2023-05-10T10:06:22.946Z"
   },
   {
    "duration": 7,
    "start_time": "2023-05-10T10:06:22.956Z"
   },
   {
    "duration": 20,
    "start_time": "2023-05-10T10:06:22.968Z"
   },
   {
    "duration": 14,
    "start_time": "2023-05-10T10:06:22.990Z"
   },
   {
    "duration": 16,
    "start_time": "2023-05-10T10:06:23.006Z"
   },
   {
    "duration": 16,
    "start_time": "2023-05-10T10:06:23.024Z"
   },
   {
    "duration": 22,
    "start_time": "2023-05-10T10:06:23.042Z"
   },
   {
    "duration": 17,
    "start_time": "2023-05-10T10:06:23.066Z"
   },
   {
    "duration": 22,
    "start_time": "2023-05-10T10:06:23.085Z"
   },
   {
    "duration": 18,
    "start_time": "2023-05-10T10:06:23.109Z"
   },
   {
    "duration": 26,
    "start_time": "2023-05-10T10:06:23.129Z"
   },
   {
    "duration": 22,
    "start_time": "2023-05-10T10:06:23.157Z"
   },
   {
    "duration": 126,
    "start_time": "2023-05-10T10:06:23.181Z"
   },
   {
    "duration": 11,
    "start_time": "2023-05-10T10:06:23.309Z"
   },
   {
    "duration": 43,
    "start_time": "2023-05-10T10:06:23.322Z"
   },
   {
    "duration": 290,
    "start_time": "2023-05-10T10:06:23.367Z"
   },
   {
    "duration": 14,
    "start_time": "2023-05-10T10:06:23.659Z"
   },
   {
    "duration": 355,
    "start_time": "2023-05-10T10:06:23.675Z"
   },
   {
    "duration": 426,
    "start_time": "2023-05-10T10:06:24.032Z"
   },
   {
    "duration": 10,
    "start_time": "2023-05-10T10:06:24.460Z"
   },
   {
    "duration": 47,
    "start_time": "2023-05-10T10:06:24.472Z"
   },
   {
    "duration": 15,
    "start_time": "2023-05-10T10:06:24.521Z"
   },
   {
    "duration": 330,
    "start_time": "2023-05-10T10:06:24.538Z"
   },
   {
    "duration": 17,
    "start_time": "2023-05-10T10:06:24.871Z"
   },
   {
    "duration": 27,
    "start_time": "2023-05-10T10:06:24.890Z"
   },
   {
    "duration": 4,
    "start_time": "2023-05-10T10:06:24.919Z"
   },
   {
    "duration": 54,
    "start_time": "2023-05-10T10:06:24.925Z"
   },
   {
    "duration": 22,
    "start_time": "2023-05-10T10:06:24.980Z"
   },
   {
    "duration": 33,
    "start_time": "2023-05-10T10:06:25.004Z"
   },
   {
    "duration": 29,
    "start_time": "2023-05-10T10:06:25.040Z"
   },
   {
    "duration": 333,
    "start_time": "2023-05-10T10:06:25.073Z"
   },
   {
    "duration": 36,
    "start_time": "2023-05-10T10:06:25.408Z"
   },
   {
    "duration": 17,
    "start_time": "2023-05-10T10:06:25.446Z"
   },
   {
    "duration": 22,
    "start_time": "2023-05-10T10:06:25.465Z"
   },
   {
    "duration": 51,
    "start_time": "2023-05-10T10:06:25.489Z"
   },
   {
    "duration": 13,
    "start_time": "2023-05-10T10:06:25.541Z"
   },
   {
    "duration": 349,
    "start_time": "2023-05-10T10:06:25.556Z"
   },
   {
    "duration": 22,
    "start_time": "2023-05-10T10:06:25.906Z"
   },
   {
    "duration": 22,
    "start_time": "2023-05-10T10:06:25.929Z"
   },
   {
    "duration": 259,
    "start_time": "2023-05-10T10:06:25.953Z"
   },
   {
    "duration": 2454,
    "start_time": "2023-05-10T10:06:26.216Z"
   },
   {
    "duration": 18,
    "start_time": "2023-05-10T10:06:28.672Z"
   },
   {
    "duration": 37,
    "start_time": "2023-05-10T10:06:28.692Z"
   },
   {
    "duration": 3,
    "start_time": "2023-05-10T10:06:28.731Z"
   },
   {
    "duration": 824,
    "start_time": "2023-05-10T10:06:28.736Z"
   },
   {
    "duration": 240,
    "start_time": "2023-05-10T10:06:29.562Z"
   },
   {
    "duration": 194,
    "start_time": "2023-05-10T10:06:29.804Z"
   },
   {
    "duration": 21,
    "start_time": "2023-05-10T10:06:30.000Z"
   },
   {
    "duration": 16,
    "start_time": "2023-05-10T10:06:30.023Z"
   },
   {
    "duration": 31,
    "start_time": "2023-05-10T10:06:30.041Z"
   },
   {
    "duration": 24,
    "start_time": "2023-05-10T10:06:30.074Z"
   },
   {
    "duration": 127,
    "start_time": "2023-05-10T10:06:30.100Z"
   },
   {
    "duration": 14,
    "start_time": "2023-05-10T10:06:56.982Z"
   },
   {
    "duration": 13,
    "start_time": "2023-05-10T10:07:30.490Z"
   },
   {
    "duration": 1182,
    "start_time": "2023-05-10T10:17:36.931Z"
   },
   {
    "duration": 15,
    "start_time": "2023-05-10T10:19:43.993Z"
   },
   {
    "duration": 15,
    "start_time": "2023-05-10T10:20:25.107Z"
   },
   {
    "duration": 20,
    "start_time": "2023-05-10T10:21:22.634Z"
   },
   {
    "duration": 13,
    "start_time": "2023-05-10T10:26:22.182Z"
   },
   {
    "duration": 4,
    "start_time": "2023-05-10T10:26:24.935Z"
   },
   {
    "duration": 4,
    "start_time": "2023-05-10T10:26:32.183Z"
   },
   {
    "duration": 4,
    "start_time": "2023-05-10T10:26:37.410Z"
   },
   {
    "duration": 13,
    "start_time": "2023-05-10T10:43:27.249Z"
   },
   {
    "duration": 10,
    "start_time": "2023-05-10T10:43:51.682Z"
   },
   {
    "duration": 1305,
    "start_time": "2023-05-10T10:44:04.495Z"
   },
   {
    "duration": 10,
    "start_time": "2023-05-10T10:44:43.816Z"
   },
   {
    "duration": 13,
    "start_time": "2023-05-10T10:44:56.976Z"
   },
   {
    "duration": 15,
    "start_time": "2023-05-10T10:46:22.233Z"
   },
   {
    "duration": 6,
    "start_time": "2023-05-10T10:48:03.491Z"
   },
   {
    "duration": 27,
    "start_time": "2023-05-10T10:51:10.212Z"
   },
   {
    "duration": 29,
    "start_time": "2023-05-10T10:51:43.377Z"
   },
   {
    "duration": 27,
    "start_time": "2023-05-10T10:52:36.524Z"
   },
   {
    "duration": 422,
    "start_time": "2023-05-10T10:52:57.423Z"
   },
   {
    "duration": 445,
    "start_time": "2023-05-10T10:53:45.153Z"
   },
   {
    "duration": 1273,
    "start_time": "2023-05-10T10:54:12.976Z"
   },
   {
    "duration": 114,
    "start_time": "2023-05-10T10:54:14.251Z"
   },
   {
    "duration": 6,
    "start_time": "2023-05-10T10:54:14.367Z"
   },
   {
    "duration": 60,
    "start_time": "2023-05-10T10:54:14.375Z"
   },
   {
    "duration": 19,
    "start_time": "2023-05-10T10:54:14.436Z"
   },
   {
    "duration": 13,
    "start_time": "2023-05-10T10:54:14.456Z"
   },
   {
    "duration": 5,
    "start_time": "2023-05-10T10:54:14.471Z"
   },
   {
    "duration": 49,
    "start_time": "2023-05-10T10:54:14.477Z"
   },
   {
    "duration": 32,
    "start_time": "2023-05-10T10:54:14.528Z"
   },
   {
    "duration": 9,
    "start_time": "2023-05-10T10:54:14.563Z"
   },
   {
    "duration": 54,
    "start_time": "2023-05-10T10:54:14.573Z"
   },
   {
    "duration": 6,
    "start_time": "2023-05-10T10:54:14.628Z"
   },
   {
    "duration": 734,
    "start_time": "2023-05-10T10:54:14.635Z"
   },
   {
    "duration": 8,
    "start_time": "2023-05-10T10:54:15.372Z"
   },
   {
    "duration": 11,
    "start_time": "2023-05-10T10:54:15.381Z"
   },
   {
    "duration": 17,
    "start_time": "2023-05-10T10:54:15.393Z"
   },
   {
    "duration": 10,
    "start_time": "2023-05-10T10:54:15.418Z"
   },
   {
    "duration": 8,
    "start_time": "2023-05-10T10:54:15.430Z"
   },
   {
    "duration": 8,
    "start_time": "2023-05-10T10:54:15.439Z"
   },
   {
    "duration": 14,
    "start_time": "2023-05-10T10:54:15.448Z"
   },
   {
    "duration": 7,
    "start_time": "2023-05-10T10:54:15.464Z"
   },
   {
    "duration": 51,
    "start_time": "2023-05-10T10:54:15.473Z"
   },
   {
    "duration": 6,
    "start_time": "2023-05-10T10:54:15.525Z"
   },
   {
    "duration": 19,
    "start_time": "2023-05-10T10:54:15.533Z"
   },
   {
    "duration": 3,
    "start_time": "2023-05-10T10:54:15.554Z"
   },
   {
    "duration": 18,
    "start_time": "2023-05-10T10:54:15.559Z"
   },
   {
    "duration": 12,
    "start_time": "2023-05-10T10:54:15.580Z"
   },
   {
    "duration": 24,
    "start_time": "2023-05-10T10:54:15.596Z"
   },
   {
    "duration": 27,
    "start_time": "2023-05-10T10:54:15.622Z"
   },
   {
    "duration": 8,
    "start_time": "2023-05-10T10:54:15.651Z"
   },
   {
    "duration": 13,
    "start_time": "2023-05-10T10:54:15.660Z"
   },
   {
    "duration": 15,
    "start_time": "2023-05-10T10:54:15.675Z"
   },
   {
    "duration": 16,
    "start_time": "2023-05-10T10:54:15.693Z"
   },
   {
    "duration": 33,
    "start_time": "2023-05-10T10:54:15.711Z"
   },
   {
    "duration": 20,
    "start_time": "2023-05-10T10:54:15.746Z"
   },
   {
    "duration": 16,
    "start_time": "2023-05-10T10:54:15.768Z"
   },
   {
    "duration": 18,
    "start_time": "2023-05-10T10:54:15.785Z"
   },
   {
    "duration": 97,
    "start_time": "2023-05-10T10:54:15.805Z"
   },
   {
    "duration": 4,
    "start_time": "2023-05-10T10:54:15.904Z"
   },
   {
    "duration": 18,
    "start_time": "2023-05-10T10:54:15.910Z"
   },
   {
    "duration": 281,
    "start_time": "2023-05-10T10:54:15.929Z"
   },
   {
    "duration": 17,
    "start_time": "2023-05-10T10:54:16.211Z"
   },
   {
    "duration": 377,
    "start_time": "2023-05-10T10:54:16.229Z"
   },
   {
    "duration": 431,
    "start_time": "2023-05-10T10:54:16.608Z"
   },
   {
    "duration": 11,
    "start_time": "2023-05-10T10:54:17.042Z"
   },
   {
    "duration": 38,
    "start_time": "2023-05-10T10:54:17.055Z"
   },
   {
    "duration": 41,
    "start_time": "2023-05-10T10:54:17.095Z"
   },
   {
    "duration": 354,
    "start_time": "2023-05-10T10:54:17.138Z"
   },
   {
    "duration": 26,
    "start_time": "2023-05-10T10:54:17.494Z"
   },
   {
    "duration": 12,
    "start_time": "2023-05-10T10:54:17.522Z"
   },
   {
    "duration": 21,
    "start_time": "2023-05-10T10:54:17.536Z"
   },
   {
    "duration": 39,
    "start_time": "2023-05-10T10:54:17.559Z"
   },
   {
    "duration": 29,
    "start_time": "2023-05-10T10:54:17.599Z"
   },
   {
    "duration": 24,
    "start_time": "2023-05-10T10:54:17.630Z"
   },
   {
    "duration": 2,
    "start_time": "2023-05-10T10:54:17.656Z"
   },
   {
    "duration": 340,
    "start_time": "2023-05-10T10:54:17.660Z"
   },
   {
    "duration": 1776,
    "start_time": "2023-05-10T10:54:18.003Z"
   },
   {
    "duration": 0,
    "start_time": "2023-05-10T10:54:19.782Z"
   },
   {
    "duration": 0,
    "start_time": "2023-05-10T10:54:19.783Z"
   },
   {
    "duration": 0,
    "start_time": "2023-05-10T10:54:19.785Z"
   },
   {
    "duration": 0,
    "start_time": "2023-05-10T10:54:19.786Z"
   },
   {
    "duration": 0,
    "start_time": "2023-05-10T10:54:19.788Z"
   },
   {
    "duration": 0,
    "start_time": "2023-05-10T10:54:19.788Z"
   },
   {
    "duration": 0,
    "start_time": "2023-05-10T10:54:19.790Z"
   },
   {
    "duration": 0,
    "start_time": "2023-05-10T10:54:19.791Z"
   },
   {
    "duration": 0,
    "start_time": "2023-05-10T10:54:19.792Z"
   },
   {
    "duration": 0,
    "start_time": "2023-05-10T10:54:19.794Z"
   },
   {
    "duration": 0,
    "start_time": "2023-05-10T10:54:19.795Z"
   },
   {
    "duration": 0,
    "start_time": "2023-05-10T10:54:19.796Z"
   },
   {
    "duration": 0,
    "start_time": "2023-05-10T10:54:19.797Z"
   },
   {
    "duration": 0,
    "start_time": "2023-05-10T10:54:19.798Z"
   },
   {
    "duration": 0,
    "start_time": "2023-05-10T10:54:19.800Z"
   },
   {
    "duration": 0,
    "start_time": "2023-05-10T10:54:19.801Z"
   },
   {
    "duration": 0,
    "start_time": "2023-05-10T10:54:19.803Z"
   },
   {
    "duration": 0,
    "start_time": "2023-05-10T10:54:19.804Z"
   },
   {
    "duration": 0,
    "start_time": "2023-05-10T10:54:19.806Z"
   },
   {
    "duration": 0,
    "start_time": "2023-05-10T10:54:19.808Z"
   },
   {
    "duration": 0,
    "start_time": "2023-05-10T10:54:19.809Z"
   },
   {
    "duration": 0,
    "start_time": "2023-05-10T10:54:19.810Z"
   },
   {
    "duration": 8,
    "start_time": "2023-05-10T10:54:42.406Z"
   },
   {
    "duration": 26,
    "start_time": "2023-05-10T10:54:47.405Z"
   },
   {
    "duration": 27,
    "start_time": "2023-05-10T10:54:50.244Z"
   },
   {
    "duration": 52,
    "start_time": "2023-05-10T10:57:08.139Z"
   },
   {
    "duration": 24,
    "start_time": "2023-05-10T10:58:43.163Z"
   },
   {
    "duration": 24,
    "start_time": "2023-05-10T10:59:48.892Z"
   },
   {
    "duration": 38,
    "start_time": "2023-05-10T11:00:03.389Z"
   },
   {
    "duration": 37,
    "start_time": "2023-05-10T11:01:08.566Z"
   },
   {
    "duration": 31,
    "start_time": "2023-05-10T11:01:22.017Z"
   },
   {
    "duration": 17,
    "start_time": "2023-05-10T11:02:34.348Z"
   },
   {
    "duration": 23,
    "start_time": "2023-05-10T11:03:53.307Z"
   },
   {
    "duration": 24,
    "start_time": "2023-05-10T11:03:57.011Z"
   },
   {
    "duration": 1448,
    "start_time": "2023-05-10T11:05:10.587Z"
   },
   {
    "duration": 124,
    "start_time": "2023-05-10T11:05:12.037Z"
   },
   {
    "duration": 9,
    "start_time": "2023-05-10T11:05:12.163Z"
   },
   {
    "duration": 75,
    "start_time": "2023-05-10T11:05:12.174Z"
   },
   {
    "duration": 21,
    "start_time": "2023-05-10T11:05:12.253Z"
   },
   {
    "duration": 14,
    "start_time": "2023-05-10T11:05:12.277Z"
   },
   {
    "duration": 30,
    "start_time": "2023-05-10T11:05:12.293Z"
   },
   {
    "duration": 35,
    "start_time": "2023-05-10T11:05:12.325Z"
   },
   {
    "duration": 69,
    "start_time": "2023-05-10T11:05:12.362Z"
   },
   {
    "duration": 15,
    "start_time": "2023-05-10T11:05:12.432Z"
   },
   {
    "duration": 45,
    "start_time": "2023-05-10T11:05:12.449Z"
   },
   {
    "duration": 35,
    "start_time": "2023-05-10T11:05:12.497Z"
   },
   {
    "duration": 849,
    "start_time": "2023-05-10T11:05:12.535Z"
   },
   {
    "duration": 11,
    "start_time": "2023-05-10T11:05:13.389Z"
   },
   {
    "duration": 34,
    "start_time": "2023-05-10T11:05:13.403Z"
   },
   {
    "duration": 18,
    "start_time": "2023-05-10T11:05:13.439Z"
   },
   {
    "duration": 15,
    "start_time": "2023-05-10T11:05:13.459Z"
   },
   {
    "duration": 12,
    "start_time": "2023-05-10T11:05:13.476Z"
   },
   {
    "duration": 17,
    "start_time": "2023-05-10T11:05:13.490Z"
   },
   {
    "duration": 18,
    "start_time": "2023-05-10T11:05:13.510Z"
   },
   {
    "duration": 24,
    "start_time": "2023-05-10T11:05:13.530Z"
   },
   {
    "duration": 48,
    "start_time": "2023-05-10T11:05:13.556Z"
   },
   {
    "duration": 18,
    "start_time": "2023-05-10T11:05:13.607Z"
   },
   {
    "duration": 13,
    "start_time": "2023-05-10T11:05:13.627Z"
   },
   {
    "duration": 3,
    "start_time": "2023-05-10T11:05:13.642Z"
   },
   {
    "duration": 10,
    "start_time": "2023-05-10T11:05:13.647Z"
   },
   {
    "duration": 14,
    "start_time": "2023-05-10T11:05:13.659Z"
   },
   {
    "duration": 27,
    "start_time": "2023-05-10T11:05:13.675Z"
   },
   {
    "duration": 19,
    "start_time": "2023-05-10T11:05:13.704Z"
   },
   {
    "duration": 24,
    "start_time": "2023-05-10T11:05:13.725Z"
   },
   {
    "duration": 11,
    "start_time": "2023-05-10T11:05:13.752Z"
   },
   {
    "duration": 53,
    "start_time": "2023-05-10T11:05:13.765Z"
   },
   {
    "duration": 17,
    "start_time": "2023-05-10T11:05:13.821Z"
   },
   {
    "duration": 21,
    "start_time": "2023-05-10T11:05:13.840Z"
   },
   {
    "duration": 30,
    "start_time": "2023-05-10T11:05:13.863Z"
   },
   {
    "duration": 27,
    "start_time": "2023-05-10T11:05:13.895Z"
   },
   {
    "duration": 28,
    "start_time": "2023-05-10T11:05:13.924Z"
   },
   {
    "duration": 143,
    "start_time": "2023-05-10T11:05:13.956Z"
   },
   {
    "duration": 8,
    "start_time": "2023-05-10T11:05:14.101Z"
   },
   {
    "duration": 28,
    "start_time": "2023-05-10T11:05:14.119Z"
   },
   {
    "duration": 308,
    "start_time": "2023-05-10T11:05:14.154Z"
   },
   {
    "duration": 22,
    "start_time": "2023-05-10T11:05:14.464Z"
   },
   {
    "duration": 380,
    "start_time": "2023-05-10T11:05:14.488Z"
   },
   {
    "duration": 439,
    "start_time": "2023-05-10T11:05:14.870Z"
   },
   {
    "duration": 10,
    "start_time": "2023-05-10T11:05:15.318Z"
   },
   {
    "duration": 38,
    "start_time": "2023-05-10T11:05:15.330Z"
   },
   {
    "duration": 16,
    "start_time": "2023-05-10T11:05:15.370Z"
   },
   {
    "duration": 368,
    "start_time": "2023-05-10T11:05:15.388Z"
   },
   {
    "duration": 18,
    "start_time": "2023-05-10T11:05:15.758Z"
   },
   {
    "duration": 14,
    "start_time": "2023-05-10T11:05:15.779Z"
   },
   {
    "duration": 25,
    "start_time": "2023-05-10T11:05:15.796Z"
   },
   {
    "duration": 56,
    "start_time": "2023-05-10T11:05:15.823Z"
   },
   {
    "duration": 39,
    "start_time": "2023-05-10T11:05:15.881Z"
   },
   {
    "duration": 32,
    "start_time": "2023-05-10T11:05:15.922Z"
   },
   {
    "duration": 13,
    "start_time": "2023-05-10T11:05:15.957Z"
   },
   {
    "duration": 379,
    "start_time": "2023-05-10T11:05:15.973Z"
   },
   {
    "duration": 1850,
    "start_time": "2023-05-10T11:05:16.354Z"
   },
   {
    "duration": 0,
    "start_time": "2023-05-10T11:05:18.207Z"
   },
   {
    "duration": 0,
    "start_time": "2023-05-10T11:05:18.208Z"
   },
   {
    "duration": 0,
    "start_time": "2023-05-10T11:05:18.210Z"
   },
   {
    "duration": 0,
    "start_time": "2023-05-10T11:05:18.212Z"
   },
   {
    "duration": 0,
    "start_time": "2023-05-10T11:05:18.213Z"
   },
   {
    "duration": 0,
    "start_time": "2023-05-10T11:05:18.215Z"
   },
   {
    "duration": 0,
    "start_time": "2023-05-10T11:05:18.216Z"
   },
   {
    "duration": 0,
    "start_time": "2023-05-10T11:05:18.218Z"
   },
   {
    "duration": 0,
    "start_time": "2023-05-10T11:05:18.219Z"
   },
   {
    "duration": 0,
    "start_time": "2023-05-10T11:05:18.221Z"
   },
   {
    "duration": 0,
    "start_time": "2023-05-10T11:05:18.222Z"
   },
   {
    "duration": 0,
    "start_time": "2023-05-10T11:05:18.224Z"
   },
   {
    "duration": 0,
    "start_time": "2023-05-10T11:05:18.225Z"
   },
   {
    "duration": 0,
    "start_time": "2023-05-10T11:05:18.227Z"
   },
   {
    "duration": 0,
    "start_time": "2023-05-10T11:05:18.228Z"
   },
   {
    "duration": 0,
    "start_time": "2023-05-10T11:05:18.230Z"
   },
   {
    "duration": 0,
    "start_time": "2023-05-10T11:05:18.231Z"
   },
   {
    "duration": 0,
    "start_time": "2023-05-10T11:05:18.233Z"
   },
   {
    "duration": 0,
    "start_time": "2023-05-10T11:05:18.234Z"
   },
   {
    "duration": 0,
    "start_time": "2023-05-10T11:05:18.236Z"
   },
   {
    "duration": 0,
    "start_time": "2023-05-10T11:05:18.237Z"
   },
   {
    "duration": 0,
    "start_time": "2023-05-10T11:05:18.239Z"
   },
   {
    "duration": 0,
    "start_time": "2023-05-10T11:05:18.240Z"
   },
   {
    "duration": 0,
    "start_time": "2023-05-10T11:05:18.241Z"
   },
   {
    "duration": 1790,
    "start_time": "2023-05-10T15:17:45.311Z"
   },
   {
    "duration": 380,
    "start_time": "2023-05-10T15:17:47.104Z"
   },
   {
    "duration": 6,
    "start_time": "2023-05-10T15:17:47.486Z"
   },
   {
    "duration": 69,
    "start_time": "2023-05-10T15:17:47.494Z"
   },
   {
    "duration": 21,
    "start_time": "2023-05-10T15:17:47.565Z"
   },
   {
    "duration": 19,
    "start_time": "2023-05-10T15:17:47.587Z"
   },
   {
    "duration": 33,
    "start_time": "2023-05-10T15:17:47.608Z"
   },
   {
    "duration": 20,
    "start_time": "2023-05-10T15:17:47.643Z"
   },
   {
    "duration": 81,
    "start_time": "2023-05-10T15:17:47.666Z"
   },
   {
    "duration": 14,
    "start_time": "2023-05-10T15:17:47.751Z"
   },
   {
    "duration": 26,
    "start_time": "2023-05-10T15:17:47.767Z"
   },
   {
    "duration": 14,
    "start_time": "2023-05-10T15:17:47.795Z"
   },
   {
    "duration": 949,
    "start_time": "2023-05-10T15:17:47.811Z"
   },
   {
    "duration": 9,
    "start_time": "2023-05-10T15:17:48.762Z"
   },
   {
    "duration": 34,
    "start_time": "2023-05-10T15:17:48.772Z"
   },
   {
    "duration": 32,
    "start_time": "2023-05-10T15:17:48.808Z"
   },
   {
    "duration": 39,
    "start_time": "2023-05-10T15:17:48.842Z"
   },
   {
    "duration": 80,
    "start_time": "2023-05-10T15:17:48.883Z"
   },
   {
    "duration": 7,
    "start_time": "2023-05-10T15:17:48.965Z"
   },
   {
    "duration": 13,
    "start_time": "2023-05-10T15:17:48.975Z"
   },
   {
    "duration": 21,
    "start_time": "2023-05-10T15:17:48.989Z"
   },
   {
    "duration": 44,
    "start_time": "2023-05-10T15:17:49.012Z"
   },
   {
    "duration": 7,
    "start_time": "2023-05-10T15:17:49.059Z"
   },
   {
    "duration": 17,
    "start_time": "2023-05-10T15:17:49.068Z"
   },
   {
    "duration": 3,
    "start_time": "2023-05-10T15:17:49.087Z"
   },
   {
    "duration": 12,
    "start_time": "2023-05-10T15:17:49.092Z"
   },
   {
    "duration": 22,
    "start_time": "2023-05-10T15:17:49.106Z"
   },
   {
    "duration": 2,
    "start_time": "2023-05-10T15:17:49.142Z"
   },
   {
    "duration": 11,
    "start_time": "2023-05-10T15:17:49.146Z"
   },
   {
    "duration": 9,
    "start_time": "2023-05-10T15:17:49.159Z"
   },
   {
    "duration": 18,
    "start_time": "2023-05-10T15:17:49.170Z"
   },
   {
    "duration": 46,
    "start_time": "2023-05-10T15:17:49.190Z"
   },
   {
    "duration": 14,
    "start_time": "2023-05-10T15:17:49.238Z"
   },
   {
    "duration": 33,
    "start_time": "2023-05-10T15:17:49.254Z"
   },
   {
    "duration": 20,
    "start_time": "2023-05-10T15:17:49.289Z"
   },
   {
    "duration": 12,
    "start_time": "2023-05-10T15:17:49.311Z"
   },
   {
    "duration": 16,
    "start_time": "2023-05-10T15:17:49.325Z"
   },
   {
    "duration": 127,
    "start_time": "2023-05-10T15:17:49.343Z"
   },
   {
    "duration": 5,
    "start_time": "2023-05-10T15:17:49.472Z"
   },
   {
    "duration": 27,
    "start_time": "2023-05-10T15:17:49.479Z"
   },
   {
    "duration": 285,
    "start_time": "2023-05-10T15:17:49.508Z"
   },
   {
    "duration": 13,
    "start_time": "2023-05-10T15:17:49.795Z"
   },
   {
    "duration": 357,
    "start_time": "2023-05-10T15:17:49.810Z"
   },
   {
    "duration": 775,
    "start_time": "2023-05-10T15:17:50.169Z"
   },
   {
    "duration": 13,
    "start_time": "2023-05-10T15:17:50.946Z"
   },
   {
    "duration": 98,
    "start_time": "2023-05-10T15:17:50.961Z"
   },
   {
    "duration": 19,
    "start_time": "2023-05-10T15:17:51.061Z"
   },
   {
    "duration": 768,
    "start_time": "2023-05-10T15:17:51.086Z"
   },
   {
    "duration": 29,
    "start_time": "2023-05-10T15:17:51.857Z"
   },
   {
    "duration": 69,
    "start_time": "2023-05-10T15:17:51.888Z"
   },
   {
    "duration": 84,
    "start_time": "2023-05-10T15:17:51.959Z"
   },
   {
    "duration": 104,
    "start_time": "2023-05-10T15:17:52.045Z"
   },
   {
    "duration": 25,
    "start_time": "2023-05-10T15:17:52.151Z"
   },
   {
    "duration": 86,
    "start_time": "2023-05-10T15:17:52.178Z"
   },
   {
    "duration": 3,
    "start_time": "2023-05-10T15:17:52.266Z"
   },
   {
    "duration": 538,
    "start_time": "2023-05-10T15:17:52.271Z"
   },
   {
    "duration": 3322,
    "start_time": "2023-05-10T15:17:52.811Z"
   },
   {
    "duration": 0,
    "start_time": "2023-05-10T15:17:56.136Z"
   },
   {
    "duration": 0,
    "start_time": "2023-05-10T15:17:56.136Z"
   },
   {
    "duration": 0,
    "start_time": "2023-05-10T15:17:56.137Z"
   },
   {
    "duration": 0,
    "start_time": "2023-05-10T15:17:56.139Z"
   },
   {
    "duration": 0,
    "start_time": "2023-05-10T15:17:56.140Z"
   },
   {
    "duration": 0,
    "start_time": "2023-05-10T15:17:56.141Z"
   },
   {
    "duration": 0,
    "start_time": "2023-05-10T15:17:56.142Z"
   },
   {
    "duration": 0,
    "start_time": "2023-05-10T15:17:56.143Z"
   },
   {
    "duration": 0,
    "start_time": "2023-05-10T15:17:56.144Z"
   },
   {
    "duration": 0,
    "start_time": "2023-05-10T15:17:56.146Z"
   },
   {
    "duration": 0,
    "start_time": "2023-05-10T15:17:56.148Z"
   },
   {
    "duration": 0,
    "start_time": "2023-05-10T15:17:56.149Z"
   },
   {
    "duration": 0,
    "start_time": "2023-05-10T15:17:56.150Z"
   },
   {
    "duration": 0,
    "start_time": "2023-05-10T15:17:56.152Z"
   },
   {
    "duration": 0,
    "start_time": "2023-05-10T15:17:56.153Z"
   },
   {
    "duration": 0,
    "start_time": "2023-05-10T15:17:56.154Z"
   },
   {
    "duration": 0,
    "start_time": "2023-05-10T15:17:56.155Z"
   },
   {
    "duration": 0,
    "start_time": "2023-05-10T15:17:56.157Z"
   },
   {
    "duration": 0,
    "start_time": "2023-05-10T15:17:56.158Z"
   },
   {
    "duration": 0,
    "start_time": "2023-05-10T15:17:56.159Z"
   },
   {
    "duration": 0,
    "start_time": "2023-05-10T15:17:56.160Z"
   },
   {
    "duration": 0,
    "start_time": "2023-05-10T15:17:56.161Z"
   },
   {
    "duration": 0,
    "start_time": "2023-05-10T15:17:56.162Z"
   },
   {
    "duration": 1,
    "start_time": "2023-05-10T15:17:56.163Z"
   },
   {
    "duration": 40,
    "start_time": "2023-05-10T15:18:37.873Z"
   },
   {
    "duration": 39,
    "start_time": "2023-05-10T15:21:28.400Z"
   },
   {
    "duration": 10,
    "start_time": "2023-05-10T15:24:25.675Z"
   },
   {
    "duration": 7,
    "start_time": "2023-05-10T15:25:48.284Z"
   },
   {
    "duration": 35,
    "start_time": "2023-05-10T15:27:07.759Z"
   },
   {
    "duration": 13,
    "start_time": "2023-05-10T15:28:46.716Z"
   },
   {
    "duration": 17,
    "start_time": "2023-05-10T15:51:13.327Z"
   },
   {
    "duration": 25,
    "start_time": "2023-05-10T15:55:23.567Z"
   },
   {
    "duration": 475,
    "start_time": "2023-05-10T15:55:48.416Z"
   },
   {
    "duration": 27,
    "start_time": "2023-05-10T15:56:23.220Z"
   },
   {
    "duration": 335,
    "start_time": "2023-05-10T15:56:47.791Z"
   },
   {
    "duration": 38,
    "start_time": "2023-05-10T16:01:27.831Z"
   },
   {
    "duration": 6,
    "start_time": "2023-05-10T16:04:43.820Z"
   },
   {
    "duration": 8,
    "start_time": "2023-05-10T16:05:15.899Z"
   },
   {
    "duration": 7,
    "start_time": "2023-05-10T16:05:25.694Z"
   },
   {
    "duration": 344,
    "start_time": "2023-05-10T16:10:38.667Z"
   },
   {
    "duration": 343,
    "start_time": "2023-05-10T16:10:45.271Z"
   },
   {
    "duration": 342,
    "start_time": "2023-05-10T16:11:09.892Z"
   },
   {
    "duration": 36,
    "start_time": "2023-05-10T16:11:20.052Z"
   },
   {
    "duration": 17,
    "start_time": "2023-05-10T16:11:28.960Z"
   },
   {
    "duration": 366,
    "start_time": "2023-05-10T16:11:48.775Z"
   },
   {
    "duration": 23,
    "start_time": "2023-05-10T16:15:31.756Z"
   },
   {
    "duration": 16,
    "start_time": "2023-05-10T16:15:34.193Z"
   },
   {
    "duration": 5,
    "start_time": "2023-05-10T16:15:39.359Z"
   },
   {
    "duration": 180,
    "start_time": "2023-05-10T16:18:47.007Z"
   },
   {
    "duration": 31,
    "start_time": "2023-05-10T16:18:59.590Z"
   },
   {
    "duration": 178,
    "start_time": "2023-05-10T16:20:45.470Z"
   },
   {
    "duration": 90,
    "start_time": "2023-05-10T16:31:35.112Z"
   },
   {
    "duration": 743,
    "start_time": "2023-05-10T16:32:58.549Z"
   },
   {
    "duration": 337,
    "start_time": "2023-05-10T16:34:58.254Z"
   },
   {
    "duration": 3,
    "start_time": "2023-05-10T16:41:01.674Z"
   },
   {
    "duration": 791,
    "start_time": "2023-05-10T16:48:17.928Z"
   },
   {
    "duration": 16,
    "start_time": "2023-05-10T17:08:01.002Z"
   },
   {
    "duration": 30,
    "start_time": "2023-05-10T17:10:23.039Z"
   },
   {
    "duration": 45,
    "start_time": "2023-05-10T17:10:33.945Z"
   },
   {
    "duration": 26,
    "start_time": "2023-05-10T17:10:57.795Z"
   },
   {
    "duration": 20,
    "start_time": "2023-05-10T17:10:59.684Z"
   },
   {
    "duration": 27,
    "start_time": "2023-05-10T17:13:21.193Z"
   },
   {
    "duration": 24,
    "start_time": "2023-05-10T17:15:38.425Z"
   },
   {
    "duration": 9,
    "start_time": "2023-05-10T17:16:23.734Z"
   },
   {
    "duration": 22,
    "start_time": "2023-05-10T17:17:58.285Z"
   },
   {
    "duration": 31,
    "start_time": "2023-05-10T17:18:29.892Z"
   },
   {
    "duration": 30,
    "start_time": "2023-05-10T17:18:45.085Z"
   },
   {
    "duration": 32,
    "start_time": "2023-05-10T17:18:56.079Z"
   },
   {
    "duration": 32,
    "start_time": "2023-05-10T17:19:01.867Z"
   },
   {
    "duration": 548,
    "start_time": "2023-05-10T17:21:06.590Z"
   },
   {
    "duration": 16,
    "start_time": "2023-05-10T17:22:39.732Z"
   },
   {
    "duration": 45,
    "start_time": "2023-05-10T17:23:50.838Z"
   },
   {
    "duration": 342,
    "start_time": "2023-05-10T17:24:05.956Z"
   },
   {
    "duration": 22,
    "start_time": "2023-05-10T17:31:49.924Z"
   },
   {
    "duration": 2552,
    "start_time": "2023-05-10T17:31:58.588Z"
   },
   {
    "duration": 20,
    "start_time": "2023-05-10T17:35:58.901Z"
   },
   {
    "duration": 19,
    "start_time": "2023-05-10T17:36:05.443Z"
   },
   {
    "duration": 5,
    "start_time": "2023-05-10T17:37:01.233Z"
   },
   {
    "duration": 4,
    "start_time": "2023-05-10T17:37:03.924Z"
   },
   {
    "duration": 1015,
    "start_time": "2023-05-10T17:37:06.296Z"
   },
   {
    "duration": 281,
    "start_time": "2023-05-10T17:39:03.021Z"
   },
   {
    "duration": 234,
    "start_time": "2023-05-10T17:39:07.960Z"
   },
   {
    "duration": 260,
    "start_time": "2023-05-10T17:40:50.588Z"
   },
   {
    "duration": 41,
    "start_time": "2023-05-11T05:11:19.683Z"
   },
   {
    "duration": 1260,
    "start_time": "2023-05-11T05:11:26.726Z"
   },
   {
    "duration": 233,
    "start_time": "2023-05-11T05:11:27.988Z"
   },
   {
    "duration": 6,
    "start_time": "2023-05-11T05:11:28.222Z"
   },
   {
    "duration": 38,
    "start_time": "2023-05-11T05:11:28.230Z"
   },
   {
    "duration": 40,
    "start_time": "2023-05-11T05:11:28.270Z"
   },
   {
    "duration": 12,
    "start_time": "2023-05-11T05:11:28.311Z"
   },
   {
    "duration": 5,
    "start_time": "2023-05-11T05:11:28.324Z"
   },
   {
    "duration": 12,
    "start_time": "2023-05-11T05:11:28.330Z"
   },
   {
    "duration": 57,
    "start_time": "2023-05-11T05:11:28.343Z"
   },
   {
    "duration": 8,
    "start_time": "2023-05-11T05:11:28.402Z"
   },
   {
    "duration": 9,
    "start_time": "2023-05-11T05:11:28.412Z"
   },
   {
    "duration": 2,
    "start_time": "2023-05-11T05:11:28.423Z"
   },
   {
    "duration": 775,
    "start_time": "2023-05-11T05:11:28.426Z"
   },
   {
    "duration": 8,
    "start_time": "2023-05-11T05:11:29.203Z"
   },
   {
    "duration": 10,
    "start_time": "2023-05-11T05:11:29.212Z"
   },
   {
    "duration": 11,
    "start_time": "2023-05-11T05:11:29.223Z"
   },
   {
    "duration": 8,
    "start_time": "2023-05-11T05:11:29.236Z"
   },
   {
    "duration": 5,
    "start_time": "2023-05-11T05:11:29.245Z"
   },
   {
    "duration": 6,
    "start_time": "2023-05-11T05:11:29.251Z"
   },
   {
    "duration": 9,
    "start_time": "2023-05-11T05:11:29.259Z"
   },
   {
    "duration": 26,
    "start_time": "2023-05-11T05:11:29.269Z"
   },
   {
    "duration": 23,
    "start_time": "2023-05-11T05:11:29.296Z"
   },
   {
    "duration": 8,
    "start_time": "2023-05-11T05:11:29.321Z"
   },
   {
    "duration": 4,
    "start_time": "2023-05-11T05:11:29.331Z"
   },
   {
    "duration": 9,
    "start_time": "2023-05-11T05:11:29.336Z"
   },
   {
    "duration": 5,
    "start_time": "2023-05-11T05:11:29.347Z"
   },
   {
    "duration": 142,
    "start_time": "2023-05-11T05:11:29.354Z"
   },
   {
    "duration": 4,
    "start_time": "2023-05-11T05:11:29.499Z"
   },
   {
    "duration": 8,
    "start_time": "2023-05-11T05:11:29.505Z"
   },
   {
    "duration": 233,
    "start_time": "2023-05-11T05:11:29.514Z"
   },
   {
    "duration": 12,
    "start_time": "2023-05-11T05:11:29.749Z"
   },
   {
    "duration": 278,
    "start_time": "2023-05-11T05:11:29.762Z"
   },
   {
    "duration": 4,
    "start_time": "2023-05-11T05:11:30.042Z"
   },
   {
    "duration": 393,
    "start_time": "2023-05-11T05:11:30.047Z"
   },
   {
    "duration": 294,
    "start_time": "2023-05-11T05:11:30.441Z"
   },
   {
    "duration": 20,
    "start_time": "2023-05-11T05:11:30.736Z"
   },
   {
    "duration": 314,
    "start_time": "2023-05-11T05:11:30.757Z"
   },
   {
    "duration": 14,
    "start_time": "2023-05-11T05:11:31.073Z"
   },
   {
    "duration": 28,
    "start_time": "2023-05-11T05:11:31.095Z"
   },
   {
    "duration": 17,
    "start_time": "2023-05-11T05:11:31.125Z"
   },
   {
    "duration": 29,
    "start_time": "2023-05-11T05:11:31.143Z"
   },
   {
    "duration": 51,
    "start_time": "2023-05-11T05:11:31.174Z"
   },
   {
    "duration": 40,
    "start_time": "2023-05-11T05:11:31.227Z"
   },
   {
    "duration": 65,
    "start_time": "2023-05-11T05:11:31.268Z"
   },
   {
    "duration": 274,
    "start_time": "2023-05-11T05:11:31.335Z"
   },
   {
    "duration": 676,
    "start_time": "2023-05-11T05:11:31.611Z"
   },
   {
    "duration": 9,
    "start_time": "2023-05-11T05:11:32.288Z"
   },
   {
    "duration": 23,
    "start_time": "2023-05-11T05:11:32.298Z"
   },
   {
    "duration": 20,
    "start_time": "2023-05-11T05:11:32.322Z"
   },
   {
    "duration": 14,
    "start_time": "2023-05-11T05:11:32.344Z"
   },
   {
    "duration": 39,
    "start_time": "2023-05-11T05:11:32.359Z"
   },
   {
    "duration": 17,
    "start_time": "2023-05-11T05:11:32.399Z"
   },
   {
    "duration": 16,
    "start_time": "2023-05-11T05:11:32.418Z"
   },
   {
    "duration": 285,
    "start_time": "2023-05-11T05:11:32.436Z"
   },
   {
    "duration": 17,
    "start_time": "2023-05-11T05:11:32.722Z"
   },
   {
    "duration": 219,
    "start_time": "2023-05-11T05:11:32.740Z"
   },
   {
    "duration": 227,
    "start_time": "2023-05-11T05:11:32.961Z"
   },
   {
    "duration": 2153,
    "start_time": "2023-05-11T05:11:33.190Z"
   },
   {
    "duration": 15,
    "start_time": "2023-05-11T05:11:35.345Z"
   },
   {
    "duration": 16,
    "start_time": "2023-05-11T05:11:35.361Z"
   },
   {
    "duration": 4,
    "start_time": "2023-05-11T05:11:35.395Z"
   },
   {
    "duration": 666,
    "start_time": "2023-05-11T05:11:35.400Z"
   },
   {
    "duration": 190,
    "start_time": "2023-05-11T05:11:36.067Z"
   },
   {
    "duration": 10,
    "start_time": "2023-05-11T05:11:36.259Z"
   },
   {
    "duration": 6,
    "start_time": "2023-05-11T05:11:36.273Z"
   },
   {
    "duration": 18,
    "start_time": "2023-05-11T05:11:36.294Z"
   },
   {
    "duration": 9,
    "start_time": "2023-05-11T05:11:36.314Z"
   },
   {
    "duration": 129,
    "start_time": "2023-05-11T05:11:36.325Z"
   },
   {
    "duration": 17,
    "start_time": "2023-05-11T05:13:59.597Z"
   },
   {
    "duration": 18,
    "start_time": "2023-05-11T05:14:52.432Z"
   },
   {
    "duration": 283,
    "start_time": "2023-05-11T05:24:15.813Z"
   },
   {
    "duration": 379,
    "start_time": "2023-05-11T05:24:25.654Z"
   },
   {
    "duration": 4,
    "start_time": "2023-05-11T09:39:47.739Z"
   },
   {
    "duration": 777,
    "start_time": "2023-05-11T09:40:54.684Z"
   },
   {
    "duration": 508,
    "start_time": "2023-05-11T09:40:59.318Z"
   },
   {
    "duration": 252,
    "start_time": "2023-05-11T09:41:13.133Z"
   },
   {
    "duration": 242,
    "start_time": "2023-05-11T09:41:24.425Z"
   },
   {
    "duration": 249,
    "start_time": "2023-05-11T09:41:28.621Z"
   },
   {
    "duration": 123,
    "start_time": "2023-05-11T09:41:33.824Z"
   },
   {
    "duration": 215,
    "start_time": "2023-05-11T09:47:21.112Z"
   },
   {
    "duration": 227,
    "start_time": "2023-05-11T09:53:46.087Z"
   },
   {
    "duration": 183,
    "start_time": "2023-05-11T09:53:53.072Z"
   },
   {
    "duration": 190,
    "start_time": "2023-05-11T09:54:12.869Z"
   },
   {
    "duration": 210,
    "start_time": "2023-05-11T10:02:37.328Z"
   },
   {
    "duration": 114,
    "start_time": "2023-05-11T10:02:43.950Z"
   },
   {
    "duration": 17,
    "start_time": "2023-05-11T10:05:40.791Z"
   },
   {
    "duration": 4,
    "start_time": "2023-05-11T10:05:42.786Z"
   },
   {
    "duration": 25,
    "start_time": "2023-05-11T10:06:14.736Z"
   },
   {
    "duration": 5,
    "start_time": "2023-05-11T10:16:22.135Z"
   },
   {
    "duration": 18,
    "start_time": "2023-05-11T10:17:08.086Z"
   },
   {
    "duration": 4,
    "start_time": "2023-05-11T10:17:11.927Z"
   },
   {
    "duration": 12,
    "start_time": "2023-05-11T10:17:18.657Z"
   },
   {
    "duration": 6,
    "start_time": "2023-05-11T10:22:26.291Z"
   },
   {
    "duration": 2,
    "start_time": "2023-05-11T10:23:33.562Z"
   },
   {
    "duration": 18,
    "start_time": "2023-05-11T10:27:45.387Z"
   },
   {
    "duration": 10,
    "start_time": "2023-05-11T10:27:56.124Z"
   },
   {
    "duration": 13,
    "start_time": "2023-05-11T10:28:02.895Z"
   },
   {
    "duration": 20,
    "start_time": "2023-05-11T10:28:19.886Z"
   },
   {
    "duration": 2254,
    "start_time": "2023-05-11T12:34:26.303Z"
   },
   {
    "duration": 22,
    "start_time": "2023-05-11T12:34:46.388Z"
   },
   {
    "duration": 27,
    "start_time": "2023-05-11T12:51:37.479Z"
   },
   {
    "duration": 16,
    "start_time": "2023-05-11T12:52:14.388Z"
   },
   {
    "duration": 5,
    "start_time": "2023-05-11T12:52:19.635Z"
   },
   {
    "duration": 5,
    "start_time": "2023-05-11T13:03:18.475Z"
   },
   {
    "duration": 13,
    "start_time": "2023-05-11T13:08:47.581Z"
   },
   {
    "duration": 4,
    "start_time": "2023-05-11T13:10:25.425Z"
   },
   {
    "duration": 4,
    "start_time": "2023-05-11T13:10:29.415Z"
   },
   {
    "duration": 5,
    "start_time": "2023-05-11T13:10:50.178Z"
   },
   {
    "duration": 5,
    "start_time": "2023-05-11T13:11:58.411Z"
   },
   {
    "duration": 1946,
    "start_time": "2023-05-11T13:12:23.079Z"
   },
   {
    "duration": 4,
    "start_time": "2023-05-11T13:12:50.600Z"
   },
   {
    "duration": 6,
    "start_time": "2023-05-11T13:13:03.090Z"
   },
   {
    "duration": 9,
    "start_time": "2023-05-12T08:12:10.720Z"
   },
   {
    "duration": 51,
    "start_time": "2023-05-12T08:12:29.536Z"
   },
   {
    "duration": 1532,
    "start_time": "2023-05-12T08:12:40.216Z"
   },
   {
    "duration": 377,
    "start_time": "2023-05-12T08:12:41.750Z"
   },
   {
    "duration": 7,
    "start_time": "2023-05-12T08:12:42.128Z"
   },
   {
    "duration": 77,
    "start_time": "2023-05-12T08:12:42.137Z"
   },
   {
    "duration": 19,
    "start_time": "2023-05-12T08:12:42.216Z"
   },
   {
    "duration": 15,
    "start_time": "2023-05-12T08:12:42.237Z"
   },
   {
    "duration": 16,
    "start_time": "2023-05-12T08:12:42.253Z"
   },
   {
    "duration": 29,
    "start_time": "2023-05-12T08:12:42.271Z"
   },
   {
    "duration": 48,
    "start_time": "2023-05-12T08:12:42.302Z"
   },
   {
    "duration": 8,
    "start_time": "2023-05-12T08:12:42.353Z"
   },
   {
    "duration": 45,
    "start_time": "2023-05-12T08:12:42.363Z"
   },
   {
    "duration": 29,
    "start_time": "2023-05-12T08:12:42.411Z"
   },
   {
    "duration": 845,
    "start_time": "2023-05-12T08:12:42.442Z"
   },
   {
    "duration": 8,
    "start_time": "2023-05-12T08:12:43.289Z"
   },
   {
    "duration": 20,
    "start_time": "2023-05-12T08:12:43.300Z"
   },
   {
    "duration": 10,
    "start_time": "2023-05-12T08:12:43.322Z"
   },
   {
    "duration": 18,
    "start_time": "2023-05-12T08:12:43.334Z"
   },
   {
    "duration": 5,
    "start_time": "2023-05-12T08:12:43.354Z"
   },
   {
    "duration": 12,
    "start_time": "2023-05-12T08:12:43.360Z"
   },
   {
    "duration": 32,
    "start_time": "2023-05-12T08:12:43.373Z"
   },
   {
    "duration": 17,
    "start_time": "2023-05-12T08:12:43.410Z"
   },
   {
    "duration": 40,
    "start_time": "2023-05-12T08:12:43.429Z"
   },
   {
    "duration": 13,
    "start_time": "2023-05-12T08:12:43.470Z"
   },
   {
    "duration": 7,
    "start_time": "2023-05-12T08:12:43.485Z"
   },
   {
    "duration": 130,
    "start_time": "2023-05-12T08:12:43.494Z"
   },
   {
    "duration": 0,
    "start_time": "2023-05-12T08:12:43.627Z"
   },
   {
    "duration": 0,
    "start_time": "2023-05-12T08:12:43.628Z"
   },
   {
    "duration": 0,
    "start_time": "2023-05-12T08:12:43.630Z"
   },
   {
    "duration": 0,
    "start_time": "2023-05-12T08:12:43.631Z"
   },
   {
    "duration": 0,
    "start_time": "2023-05-12T08:12:43.632Z"
   },
   {
    "duration": 0,
    "start_time": "2023-05-12T08:12:43.633Z"
   },
   {
    "duration": 0,
    "start_time": "2023-05-12T08:12:43.634Z"
   },
   {
    "duration": 0,
    "start_time": "2023-05-12T08:12:43.636Z"
   },
   {
    "duration": 0,
    "start_time": "2023-05-12T08:12:43.637Z"
   },
   {
    "duration": 0,
    "start_time": "2023-05-12T08:12:43.638Z"
   },
   {
    "duration": 0,
    "start_time": "2023-05-12T08:12:43.639Z"
   },
   {
    "duration": 0,
    "start_time": "2023-05-12T08:12:43.640Z"
   },
   {
    "duration": 0,
    "start_time": "2023-05-12T08:12:43.641Z"
   },
   {
    "duration": 0,
    "start_time": "2023-05-12T08:12:43.643Z"
   },
   {
    "duration": 0,
    "start_time": "2023-05-12T08:12:43.644Z"
   },
   {
    "duration": 0,
    "start_time": "2023-05-12T08:12:43.646Z"
   },
   {
    "duration": 0,
    "start_time": "2023-05-12T08:12:43.647Z"
   },
   {
    "duration": 0,
    "start_time": "2023-05-12T08:12:43.649Z"
   },
   {
    "duration": 0,
    "start_time": "2023-05-12T08:12:43.649Z"
   },
   {
    "duration": 0,
    "start_time": "2023-05-12T08:12:43.651Z"
   },
   {
    "duration": 0,
    "start_time": "2023-05-12T08:12:43.652Z"
   },
   {
    "duration": 0,
    "start_time": "2023-05-12T08:12:43.698Z"
   },
   {
    "duration": 0,
    "start_time": "2023-05-12T08:12:43.699Z"
   },
   {
    "duration": 0,
    "start_time": "2023-05-12T08:12:43.701Z"
   },
   {
    "duration": 1,
    "start_time": "2023-05-12T08:12:43.701Z"
   },
   {
    "duration": 0,
    "start_time": "2023-05-12T08:12:43.703Z"
   },
   {
    "duration": 0,
    "start_time": "2023-05-12T08:12:43.704Z"
   },
   {
    "duration": 0,
    "start_time": "2023-05-12T08:12:43.705Z"
   },
   {
    "duration": 0,
    "start_time": "2023-05-12T08:12:43.706Z"
   },
   {
    "duration": 0,
    "start_time": "2023-05-12T08:12:43.707Z"
   },
   {
    "duration": 0,
    "start_time": "2023-05-12T08:12:43.710Z"
   },
   {
    "duration": 0,
    "start_time": "2023-05-12T08:12:43.711Z"
   },
   {
    "duration": 0,
    "start_time": "2023-05-12T08:12:43.713Z"
   },
   {
    "duration": 0,
    "start_time": "2023-05-12T08:12:43.714Z"
   },
   {
    "duration": 0,
    "start_time": "2023-05-12T08:12:43.716Z"
   },
   {
    "duration": 0,
    "start_time": "2023-05-12T08:12:43.718Z"
   },
   {
    "duration": 0,
    "start_time": "2023-05-12T08:12:43.719Z"
   },
   {
    "duration": 0,
    "start_time": "2023-05-12T08:12:43.721Z"
   },
   {
    "duration": 0,
    "start_time": "2023-05-12T08:12:43.722Z"
   },
   {
    "duration": 0,
    "start_time": "2023-05-12T08:12:43.723Z"
   },
   {
    "duration": 0,
    "start_time": "2023-05-12T08:12:43.725Z"
   },
   {
    "duration": 0,
    "start_time": "2023-05-12T08:12:43.726Z"
   },
   {
    "duration": 0,
    "start_time": "2023-05-12T08:12:43.727Z"
   },
   {
    "duration": 0,
    "start_time": "2023-05-12T08:12:43.728Z"
   },
   {
    "duration": 12,
    "start_time": "2023-05-12T08:14:46.278Z"
   },
   {
    "duration": 22,
    "start_time": "2023-05-12T08:15:01.441Z"
   },
   {
    "duration": 199,
    "start_time": "2023-05-12T08:15:11.531Z"
   },
   {
    "duration": 1305,
    "start_time": "2023-05-12T08:16:00.646Z"
   },
   {
    "duration": 121,
    "start_time": "2023-05-12T08:16:01.953Z"
   },
   {
    "duration": 7,
    "start_time": "2023-05-12T08:16:02.076Z"
   },
   {
    "duration": 105,
    "start_time": "2023-05-12T08:16:02.085Z"
   },
   {
    "duration": 20,
    "start_time": "2023-05-12T08:16:02.192Z"
   },
   {
    "duration": 19,
    "start_time": "2023-05-12T08:16:02.214Z"
   },
   {
    "duration": 33,
    "start_time": "2023-05-12T08:16:02.236Z"
   },
   {
    "duration": 35,
    "start_time": "2023-05-12T08:16:02.271Z"
   },
   {
    "duration": 39,
    "start_time": "2023-05-12T08:16:02.309Z"
   },
   {
    "duration": 23,
    "start_time": "2023-05-12T08:16:02.352Z"
   },
   {
    "duration": 37,
    "start_time": "2023-05-12T08:16:02.377Z"
   },
   {
    "duration": 10,
    "start_time": "2023-05-12T08:16:02.416Z"
   },
   {
    "duration": 729,
    "start_time": "2023-05-12T08:16:02.427Z"
   },
   {
    "duration": 9,
    "start_time": "2023-05-12T08:16:03.159Z"
   },
   {
    "duration": 17,
    "start_time": "2023-05-12T08:16:03.170Z"
   },
   {
    "duration": 20,
    "start_time": "2023-05-12T08:16:03.198Z"
   },
   {
    "duration": 25,
    "start_time": "2023-05-12T08:16:03.220Z"
   },
   {
    "duration": 11,
    "start_time": "2023-05-12T08:16:03.247Z"
   },
   {
    "duration": 24,
    "start_time": "2023-05-12T08:16:03.260Z"
   },
   {
    "duration": 34,
    "start_time": "2023-05-12T08:16:03.286Z"
   },
   {
    "duration": 23,
    "start_time": "2023-05-12T08:16:03.322Z"
   },
   {
    "duration": 64,
    "start_time": "2023-05-12T08:16:03.347Z"
   },
   {
    "duration": 35,
    "start_time": "2023-05-12T08:16:03.416Z"
   },
   {
    "duration": 29,
    "start_time": "2023-05-12T08:16:03.453Z"
   },
   {
    "duration": 236,
    "start_time": "2023-05-12T08:16:03.484Z"
   },
   {
    "duration": 8,
    "start_time": "2023-05-12T08:16:03.722Z"
   },
   {
    "duration": 32,
    "start_time": "2023-05-12T08:16:03.732Z"
   },
   {
    "duration": 108,
    "start_time": "2023-05-12T08:16:03.771Z"
   },
   {
    "duration": 6,
    "start_time": "2023-05-12T08:16:03.882Z"
   },
   {
    "duration": 10,
    "start_time": "2023-05-12T08:16:03.898Z"
   },
   {
    "duration": 297,
    "start_time": "2023-05-12T08:16:03.910Z"
   },
   {
    "duration": 138,
    "start_time": "2023-05-12T08:16:04.209Z"
   },
   {
    "duration": 0,
    "start_time": "2023-05-12T08:16:04.350Z"
   },
   {
    "duration": 0,
    "start_time": "2023-05-12T08:16:04.352Z"
   },
   {
    "duration": 0,
    "start_time": "2023-05-12T08:16:04.353Z"
   },
   {
    "duration": 0,
    "start_time": "2023-05-12T08:16:04.355Z"
   },
   {
    "duration": 0,
    "start_time": "2023-05-12T08:16:04.357Z"
   },
   {
    "duration": 0,
    "start_time": "2023-05-12T08:16:04.358Z"
   },
   {
    "duration": 0,
    "start_time": "2023-05-12T08:16:04.359Z"
   },
   {
    "duration": 0,
    "start_time": "2023-05-12T08:16:04.361Z"
   },
   {
    "duration": 0,
    "start_time": "2023-05-12T08:16:04.362Z"
   },
   {
    "duration": 0,
    "start_time": "2023-05-12T08:16:04.363Z"
   },
   {
    "duration": 0,
    "start_time": "2023-05-12T08:16:04.364Z"
   },
   {
    "duration": 0,
    "start_time": "2023-05-12T08:16:04.398Z"
   },
   {
    "duration": 0,
    "start_time": "2023-05-12T08:16:04.400Z"
   },
   {
    "duration": 0,
    "start_time": "2023-05-12T08:16:04.402Z"
   },
   {
    "duration": 0,
    "start_time": "2023-05-12T08:16:04.403Z"
   },
   {
    "duration": 0,
    "start_time": "2023-05-12T08:16:04.405Z"
   },
   {
    "duration": 0,
    "start_time": "2023-05-12T08:16:04.407Z"
   },
   {
    "duration": 0,
    "start_time": "2023-05-12T08:16:04.409Z"
   },
   {
    "duration": 0,
    "start_time": "2023-05-12T08:16:04.410Z"
   },
   {
    "duration": 0,
    "start_time": "2023-05-12T08:16:04.412Z"
   },
   {
    "duration": 0,
    "start_time": "2023-05-12T08:16:04.413Z"
   },
   {
    "duration": 0,
    "start_time": "2023-05-12T08:16:04.415Z"
   },
   {
    "duration": 0,
    "start_time": "2023-05-12T08:16:04.416Z"
   },
   {
    "duration": 0,
    "start_time": "2023-05-12T08:16:04.418Z"
   },
   {
    "duration": 0,
    "start_time": "2023-05-12T08:16:04.419Z"
   },
   {
    "duration": 0,
    "start_time": "2023-05-12T08:16:04.421Z"
   },
   {
    "duration": 0,
    "start_time": "2023-05-12T08:16:04.422Z"
   },
   {
    "duration": 0,
    "start_time": "2023-05-12T08:16:04.424Z"
   },
   {
    "duration": 0,
    "start_time": "2023-05-12T08:16:04.425Z"
   },
   {
    "duration": 0,
    "start_time": "2023-05-12T08:16:04.427Z"
   },
   {
    "duration": 0,
    "start_time": "2023-05-12T08:16:04.428Z"
   },
   {
    "duration": 0,
    "start_time": "2023-05-12T08:16:04.430Z"
   },
   {
    "duration": 0,
    "start_time": "2023-05-12T08:16:04.431Z"
   },
   {
    "duration": 0,
    "start_time": "2023-05-12T08:16:04.432Z"
   },
   {
    "duration": 0,
    "start_time": "2023-05-12T08:16:04.434Z"
   },
   {
    "duration": 0,
    "start_time": "2023-05-12T08:16:04.435Z"
   },
   {
    "duration": 0,
    "start_time": "2023-05-12T08:16:04.498Z"
   },
   {
    "duration": 9,
    "start_time": "2023-05-12T08:20:51.335Z"
   },
   {
    "duration": 245,
    "start_time": "2023-05-12T08:21:17.203Z"
   },
   {
    "duration": 1319,
    "start_time": "2023-05-12T08:21:24.637Z"
   },
   {
    "duration": 117,
    "start_time": "2023-05-12T08:21:25.958Z"
   },
   {
    "duration": 7,
    "start_time": "2023-05-12T08:21:26.077Z"
   },
   {
    "duration": 69,
    "start_time": "2023-05-12T08:21:26.086Z"
   },
   {
    "duration": 21,
    "start_time": "2023-05-12T08:21:26.157Z"
   },
   {
    "duration": 26,
    "start_time": "2023-05-12T08:21:26.180Z"
   },
   {
    "duration": 18,
    "start_time": "2023-05-12T08:21:26.208Z"
   },
   {
    "duration": 32,
    "start_time": "2023-05-12T08:21:26.227Z"
   },
   {
    "duration": 54,
    "start_time": "2023-05-12T08:21:26.261Z"
   },
   {
    "duration": 19,
    "start_time": "2023-05-12T08:21:26.318Z"
   },
   {
    "duration": 21,
    "start_time": "2023-05-12T08:21:26.339Z"
   },
   {
    "duration": 16,
    "start_time": "2023-05-12T08:21:26.362Z"
   },
   {
    "duration": 795,
    "start_time": "2023-05-12T08:21:26.380Z"
   },
   {
    "duration": 9,
    "start_time": "2023-05-12T08:21:27.179Z"
   },
   {
    "duration": 18,
    "start_time": "2023-05-12T08:21:27.190Z"
   },
   {
    "duration": 14,
    "start_time": "2023-05-12T08:21:27.210Z"
   },
   {
    "duration": 9,
    "start_time": "2023-05-12T08:21:27.226Z"
   },
   {
    "duration": 8,
    "start_time": "2023-05-12T08:21:27.237Z"
   },
   {
    "duration": 7,
    "start_time": "2023-05-12T08:21:27.247Z"
   },
   {
    "duration": 10,
    "start_time": "2023-05-12T08:21:27.256Z"
   },
   {
    "duration": 33,
    "start_time": "2023-05-12T08:21:27.268Z"
   },
   {
    "duration": 33,
    "start_time": "2023-05-12T08:21:27.303Z"
   },
   {
    "duration": 15,
    "start_time": "2023-05-12T08:21:27.338Z"
   },
   {
    "duration": 7,
    "start_time": "2023-05-12T08:21:27.355Z"
   },
   {
    "duration": 194,
    "start_time": "2023-05-12T08:21:27.397Z"
   },
   {
    "duration": 7,
    "start_time": "2023-05-12T08:21:27.597Z"
   },
   {
    "duration": 12,
    "start_time": "2023-05-12T08:21:27.606Z"
   },
   {
    "duration": 104,
    "start_time": "2023-05-12T08:21:27.620Z"
   },
   {
    "duration": 5,
    "start_time": "2023-05-12T08:21:27.726Z"
   },
   {
    "duration": 16,
    "start_time": "2023-05-12T08:21:27.732Z"
   },
   {
    "duration": 273,
    "start_time": "2023-05-12T08:21:27.749Z"
   },
   {
    "duration": 237,
    "start_time": "2023-05-12T08:21:28.024Z"
   },
   {
    "duration": 12,
    "start_time": "2023-05-12T08:21:28.263Z"
   },
   {
    "duration": 426,
    "start_time": "2023-05-12T08:21:28.277Z"
   },
   {
    "duration": 6,
    "start_time": "2023-05-12T08:21:28.705Z"
   },
   {
    "duration": 341,
    "start_time": "2023-05-12T08:21:28.713Z"
   },
   {
    "duration": 350,
    "start_time": "2023-05-12T08:21:29.056Z"
   },
   {
    "duration": 27,
    "start_time": "2023-05-12T08:21:29.408Z"
   },
   {
    "duration": 343,
    "start_time": "2023-05-12T08:21:29.437Z"
   },
   {
    "duration": 25,
    "start_time": "2023-05-12T08:21:29.783Z"
   },
   {
    "duration": 21,
    "start_time": "2023-05-12T08:21:29.813Z"
   },
   {
    "duration": 13,
    "start_time": "2023-05-12T08:21:29.836Z"
   },
   {
    "duration": 8,
    "start_time": "2023-05-12T08:21:29.852Z"
   },
   {
    "duration": 68,
    "start_time": "2023-05-12T08:21:29.861Z"
   },
   {
    "duration": 22,
    "start_time": "2023-05-12T08:21:29.931Z"
   },
   {
    "duration": 24,
    "start_time": "2023-05-12T08:21:29.955Z"
   },
   {
    "duration": 348,
    "start_time": "2023-05-12T08:21:29.981Z"
   },
   {
    "duration": 833,
    "start_time": "2023-05-12T08:21:30.330Z"
   },
   {
    "duration": 6,
    "start_time": "2023-05-12T08:21:31.166Z"
   },
   {
    "duration": 57,
    "start_time": "2023-05-12T08:21:31.174Z"
   },
   {
    "duration": 27,
    "start_time": "2023-05-12T08:21:31.233Z"
   },
   {
    "duration": 20,
    "start_time": "2023-05-12T08:21:31.261Z"
   },
   {
    "duration": 61,
    "start_time": "2023-05-12T08:21:31.282Z"
   },
   {
    "duration": 44,
    "start_time": "2023-05-12T08:21:31.345Z"
   },
   {
    "duration": 62,
    "start_time": "2023-05-12T08:21:31.391Z"
   },
   {
    "duration": 28,
    "start_time": "2023-05-12T08:21:31.455Z"
   },
   {
    "duration": 30,
    "start_time": "2023-05-12T08:21:31.485Z"
   },
   {
    "duration": 359,
    "start_time": "2023-05-12T08:21:31.517Z"
   },
   {
    "duration": 24,
    "start_time": "2023-05-12T08:21:31.878Z"
   },
   {
    "duration": 240,
    "start_time": "2023-05-12T08:21:31.904Z"
   },
   {
    "duration": 2503,
    "start_time": "2023-05-12T08:21:32.146Z"
   },
   {
    "duration": 18,
    "start_time": "2023-05-12T08:21:34.651Z"
   },
   {
    "duration": 35,
    "start_time": "2023-05-12T08:21:34.670Z"
   },
   {
    "duration": 3,
    "start_time": "2023-05-12T08:21:34.706Z"
   },
   {
    "duration": 55,
    "start_time": "2023-05-12T08:21:34.711Z"
   },
   {
    "duration": 0,
    "start_time": "2023-05-12T08:21:34.767Z"
   },
   {
    "duration": 0,
    "start_time": "2023-05-12T08:21:34.769Z"
   },
   {
    "duration": 0,
    "start_time": "2023-05-12T08:21:34.770Z"
   },
   {
    "duration": 0,
    "start_time": "2023-05-12T08:21:34.771Z"
   },
   {
    "duration": 3,
    "start_time": "2023-05-12T08:21:48.096Z"
   },
   {
    "duration": 63,
    "start_time": "2023-05-12T08:21:53.047Z"
   },
   {
    "duration": 51,
    "start_time": "2023-05-12T08:22:02.876Z"
   },
   {
    "duration": 63,
    "start_time": "2023-05-12T08:22:05.507Z"
   },
   {
    "duration": 57,
    "start_time": "2023-05-12T08:22:10.117Z"
   },
   {
    "duration": 77,
    "start_time": "2023-05-12T08:22:16.945Z"
   },
   {
    "duration": 158,
    "start_time": "2023-05-12T08:22:24.300Z"
   },
   {
    "duration": 4,
    "start_time": "2023-05-12T08:22:37.845Z"
   },
   {
    "duration": 4,
    "start_time": "2023-05-12T08:22:40.706Z"
   },
   {
    "duration": 10,
    "start_time": "2023-05-12T08:22:47.747Z"
   },
   {
    "duration": 4,
    "start_time": "2023-05-12T08:22:49.631Z"
   },
   {
    "duration": 1968,
    "start_time": "2023-05-12T08:22:53.709Z"
   },
   {
    "duration": 1062,
    "start_time": "2023-05-12T08:35:54.396Z"
   },
   {
    "duration": 6461,
    "start_time": "2023-05-12T08:39:58.407Z"
   },
   {
    "duration": 5900,
    "start_time": "2023-05-12T08:40:12.163Z"
   },
   {
    "duration": 1282,
    "start_time": "2023-05-12T09:07:00.462Z"
   },
   {
    "duration": 5,
    "start_time": "2023-05-12T09:07:20.954Z"
   },
   {
    "duration": 5,
    "start_time": "2023-05-12T09:07:33.514Z"
   },
   {
    "duration": 14,
    "start_time": "2023-05-12T09:07:44.954Z"
   },
   {
    "duration": 13,
    "start_time": "2023-05-12T09:07:47.582Z"
   },
   {
    "duration": 4,
    "start_time": "2023-05-12T09:07:57.863Z"
   },
   {
    "duration": 15,
    "start_time": "2023-05-12T09:08:22.050Z"
   },
   {
    "duration": 17,
    "start_time": "2023-05-12T09:08:36.963Z"
   },
   {
    "duration": 11,
    "start_time": "2023-05-12T09:08:42.658Z"
   },
   {
    "duration": 11,
    "start_time": "2023-05-12T09:09:25.062Z"
   },
   {
    "duration": 12,
    "start_time": "2023-05-12T09:09:32.071Z"
   },
   {
    "duration": 18,
    "start_time": "2023-05-12T09:18:38.105Z"
   },
   {
    "duration": 13,
    "start_time": "2023-05-12T09:19:40.198Z"
   },
   {
    "duration": 15,
    "start_time": "2023-05-12T09:20:15.236Z"
   },
   {
    "duration": 17,
    "start_time": "2023-05-12T09:29:56.271Z"
   },
   {
    "duration": 3463,
    "start_time": "2023-05-12T09:30:47.263Z"
   },
   {
    "duration": 59,
    "start_time": "2023-05-12T09:34:32.283Z"
   },
   {
    "duration": 12,
    "start_time": "2023-05-12T09:34:51.614Z"
   },
   {
    "duration": 6,
    "start_time": "2023-05-12T09:52:48.959Z"
   },
   {
    "duration": 1605,
    "start_time": "2023-05-14T12:56:57.126Z"
   },
   {
    "duration": 379,
    "start_time": "2023-05-14T12:56:58.733Z"
   },
   {
    "duration": 10,
    "start_time": "2023-05-14T12:56:59.115Z"
   },
   {
    "duration": 100,
    "start_time": "2023-05-14T12:56:59.128Z"
   },
   {
    "duration": 38,
    "start_time": "2023-05-14T12:56:59.233Z"
   },
   {
    "duration": 21,
    "start_time": "2023-05-14T12:56:59.273Z"
   },
   {
    "duration": 6,
    "start_time": "2023-05-14T12:56:59.296Z"
   },
   {
    "duration": 54,
    "start_time": "2023-05-14T12:56:59.303Z"
   },
   {
    "duration": 42,
    "start_time": "2023-05-14T12:56:59.359Z"
   },
   {
    "duration": 13,
    "start_time": "2023-05-14T12:56:59.405Z"
   },
   {
    "duration": 48,
    "start_time": "2023-05-14T12:56:59.420Z"
   },
   {
    "duration": 15,
    "start_time": "2023-05-14T12:56:59.469Z"
   },
   {
    "duration": 1104,
    "start_time": "2023-05-14T12:56:59.486Z"
   },
   {
    "duration": 10,
    "start_time": "2023-05-14T12:57:00.593Z"
   },
   {
    "duration": 40,
    "start_time": "2023-05-14T12:57:00.606Z"
   },
   {
    "duration": 54,
    "start_time": "2023-05-14T12:57:00.648Z"
   },
   {
    "duration": 42,
    "start_time": "2023-05-14T12:57:00.704Z"
   },
   {
    "duration": 22,
    "start_time": "2023-05-14T12:57:00.747Z"
   },
   {
    "duration": 58,
    "start_time": "2023-05-14T12:57:00.771Z"
   },
   {
    "duration": 38,
    "start_time": "2023-05-14T12:57:00.831Z"
   },
   {
    "duration": 34,
    "start_time": "2023-05-14T12:57:00.872Z"
   },
   {
    "duration": 45,
    "start_time": "2023-05-14T12:57:00.908Z"
   },
   {
    "duration": 59,
    "start_time": "2023-05-14T12:57:00.955Z"
   },
   {
    "duration": 63,
    "start_time": "2023-05-14T12:57:01.015Z"
   },
   {
    "duration": 322,
    "start_time": "2023-05-14T12:57:01.080Z"
   },
   {
    "duration": 9,
    "start_time": "2023-05-14T12:57:01.404Z"
   },
   {
    "duration": 39,
    "start_time": "2023-05-14T12:57:01.415Z"
   },
   {
    "duration": 104,
    "start_time": "2023-05-14T12:57:01.460Z"
   },
   {
    "duration": 6,
    "start_time": "2023-05-14T12:57:01.566Z"
   },
   {
    "duration": 42,
    "start_time": "2023-05-14T12:57:01.573Z"
   },
   {
    "duration": 300,
    "start_time": "2023-05-14T12:57:01.617Z"
   },
   {
    "duration": 283,
    "start_time": "2023-05-14T12:57:01.920Z"
   },
   {
    "duration": 19,
    "start_time": "2023-05-14T12:57:02.205Z"
   },
   {
    "duration": 521,
    "start_time": "2023-05-14T12:57:02.226Z"
   },
   {
    "duration": 9,
    "start_time": "2023-05-14T12:57:02.759Z"
   },
   {
    "duration": 385,
    "start_time": "2023-05-14T12:57:02.770Z"
   },
   {
    "duration": 549,
    "start_time": "2023-05-14T12:57:03.158Z"
   },
   {
    "duration": 47,
    "start_time": "2023-05-14T12:57:03.710Z"
   },
   {
    "duration": 435,
    "start_time": "2023-05-14T12:57:03.759Z"
   },
   {
    "duration": 24,
    "start_time": "2023-05-14T12:57:04.196Z"
   },
   {
    "duration": 43,
    "start_time": "2023-05-14T12:57:04.222Z"
   },
   {
    "duration": 20,
    "start_time": "2023-05-14T12:57:04.267Z"
   },
   {
    "duration": 31,
    "start_time": "2023-05-14T12:57:04.290Z"
   },
   {
    "duration": 69,
    "start_time": "2023-05-14T12:57:04.323Z"
   },
   {
    "duration": 32,
    "start_time": "2023-05-14T12:57:04.395Z"
   },
   {
    "duration": 26,
    "start_time": "2023-05-14T12:57:04.429Z"
   },
   {
    "duration": 516,
    "start_time": "2023-05-14T12:57:04.457Z"
   },
   {
    "duration": 894,
    "start_time": "2023-05-14T12:57:04.975Z"
   },
   {
    "duration": 9,
    "start_time": "2023-05-14T12:57:05.871Z"
   },
   {
    "duration": 26,
    "start_time": "2023-05-14T12:57:05.881Z"
   },
   {
    "duration": 60,
    "start_time": "2023-05-14T12:57:05.910Z"
   },
   {
    "duration": 29,
    "start_time": "2023-05-14T12:57:05.972Z"
   },
   {
    "duration": 24,
    "start_time": "2023-05-14T12:57:06.004Z"
   },
   {
    "duration": 45,
    "start_time": "2023-05-14T12:57:06.030Z"
   },
   {
    "duration": 21,
    "start_time": "2023-05-14T12:57:06.077Z"
   },
   {
    "duration": 21,
    "start_time": "2023-05-14T12:57:06.100Z"
   },
   {
    "duration": 47,
    "start_time": "2023-05-14T12:57:06.123Z"
   },
   {
    "duration": 330,
    "start_time": "2023-05-14T12:57:06.171Z"
   },
   {
    "duration": 24,
    "start_time": "2023-05-14T12:57:06.503Z"
   },
   {
    "duration": 262,
    "start_time": "2023-05-14T12:57:06.530Z"
   },
   {
    "duration": 2713,
    "start_time": "2023-05-14T12:57:06.794Z"
   },
   {
    "duration": 24,
    "start_time": "2023-05-14T12:57:09.509Z"
   },
   {
    "duration": 40,
    "start_time": "2023-05-14T12:57:09.536Z"
   },
   {
    "duration": 14,
    "start_time": "2023-05-14T12:57:09.578Z"
   },
   {
    "duration": 5,
    "start_time": "2023-05-14T12:57:09.595Z"
   },
   {
    "duration": 17,
    "start_time": "2023-05-14T12:57:09.602Z"
   },
   {
    "duration": 44,
    "start_time": "2023-05-14T12:57:09.621Z"
   },
   {
    "duration": 25,
    "start_time": "2023-05-14T13:16:21.860Z"
   },
   {
    "duration": 54,
    "start_time": "2023-05-16T05:36:00.279Z"
   },
   {
    "duration": 1693,
    "start_time": "2023-05-16T05:36:25.075Z"
   },
   {
    "duration": 254,
    "start_time": "2023-05-16T05:36:26.770Z"
   },
   {
    "duration": 8,
    "start_time": "2023-05-16T05:36:27.027Z"
   },
   {
    "duration": 79,
    "start_time": "2023-05-16T05:36:27.037Z"
   },
   {
    "duration": 30,
    "start_time": "2023-05-16T05:36:27.118Z"
   },
   {
    "duration": 12,
    "start_time": "2023-05-16T05:36:27.150Z"
   },
   {
    "duration": 10,
    "start_time": "2023-05-16T05:36:27.164Z"
   },
   {
    "duration": 20,
    "start_time": "2023-05-16T05:36:27.195Z"
   },
   {
    "duration": 43,
    "start_time": "2023-05-16T05:36:27.217Z"
   },
   {
    "duration": 10,
    "start_time": "2023-05-16T05:36:27.294Z"
   },
   {
    "duration": 26,
    "start_time": "2023-05-16T05:36:27.306Z"
   },
   {
    "duration": 6,
    "start_time": "2023-05-16T05:36:27.334Z"
   },
   {
    "duration": 841,
    "start_time": "2023-05-16T05:36:27.342Z"
   },
   {
    "duration": 10,
    "start_time": "2023-05-16T05:36:28.186Z"
   },
   {
    "duration": 13,
    "start_time": "2023-05-16T05:36:28.197Z"
   },
   {
    "duration": 14,
    "start_time": "2023-05-16T05:36:28.212Z"
   },
   {
    "duration": 10,
    "start_time": "2023-05-16T05:36:28.227Z"
   },
   {
    "duration": 10,
    "start_time": "2023-05-16T05:36:28.238Z"
   },
   {
    "duration": 8,
    "start_time": "2023-05-16T05:36:28.249Z"
   },
   {
    "duration": 13,
    "start_time": "2023-05-16T05:36:28.259Z"
   },
   {
    "duration": 22,
    "start_time": "2023-05-16T05:36:28.274Z"
   },
   {
    "duration": 38,
    "start_time": "2023-05-16T05:36:28.298Z"
   },
   {
    "duration": 12,
    "start_time": "2023-05-16T05:36:28.339Z"
   },
   {
    "duration": 6,
    "start_time": "2023-05-16T05:36:28.353Z"
   },
   {
    "duration": 290,
    "start_time": "2023-05-16T05:36:28.360Z"
   },
   {
    "duration": 9,
    "start_time": "2023-05-16T05:36:28.652Z"
   },
   {
    "duration": 28,
    "start_time": "2023-05-16T05:36:28.664Z"
   },
   {
    "duration": 111,
    "start_time": "2023-05-16T05:36:28.696Z"
   },
   {
    "duration": 10,
    "start_time": "2023-05-16T05:36:28.809Z"
   },
   {
    "duration": 27,
    "start_time": "2023-05-16T05:36:28.820Z"
   },
   {
    "duration": 376,
    "start_time": "2023-05-16T05:36:28.849Z"
   },
   {
    "duration": 329,
    "start_time": "2023-05-16T05:36:29.227Z"
   },
   {
    "duration": 17,
    "start_time": "2023-05-16T05:36:29.558Z"
   },
   {
    "duration": 541,
    "start_time": "2023-05-16T05:36:29.578Z"
   },
   {
    "duration": 6,
    "start_time": "2023-05-16T05:36:30.121Z"
   },
   {
    "duration": 512,
    "start_time": "2023-05-16T05:36:30.129Z"
   },
   {
    "duration": 455,
    "start_time": "2023-05-16T05:36:30.643Z"
   },
   {
    "duration": 32,
    "start_time": "2023-05-16T05:36:31.100Z"
   },
   {
    "duration": 330,
    "start_time": "2023-05-16T05:36:31.135Z"
   },
   {
    "duration": 29,
    "start_time": "2023-05-16T05:36:31.469Z"
   },
   {
    "duration": 25,
    "start_time": "2023-05-16T05:36:31.500Z"
   },
   {
    "duration": 31,
    "start_time": "2023-05-16T05:36:31.527Z"
   },
   {
    "duration": 30,
    "start_time": "2023-05-16T05:36:31.561Z"
   },
   {
    "duration": 70,
    "start_time": "2023-05-16T05:36:31.593Z"
   },
   {
    "duration": 27,
    "start_time": "2023-05-16T05:36:31.665Z"
   },
   {
    "duration": 37,
    "start_time": "2023-05-16T05:36:31.695Z"
   },
   {
    "duration": 472,
    "start_time": "2023-05-16T05:36:31.735Z"
   },
   {
    "duration": 1127,
    "start_time": "2023-05-16T05:36:32.210Z"
   },
   {
    "duration": 8,
    "start_time": "2023-05-16T05:36:33.339Z"
   },
   {
    "duration": 47,
    "start_time": "2023-05-16T05:36:33.349Z"
   },
   {
    "duration": 32,
    "start_time": "2023-05-16T05:36:33.398Z"
   },
   {
    "duration": 21,
    "start_time": "2023-05-16T05:36:33.433Z"
   },
   {
    "duration": 55,
    "start_time": "2023-05-16T05:36:33.456Z"
   },
   {
    "duration": 27,
    "start_time": "2023-05-16T05:36:33.513Z"
   },
   {
    "duration": 27,
    "start_time": "2023-05-16T05:36:33.542Z"
   },
   {
    "duration": 46,
    "start_time": "2023-05-16T05:36:33.571Z"
   },
   {
    "duration": 29,
    "start_time": "2023-05-16T05:36:33.619Z"
   },
   {
    "duration": 58,
    "start_time": "2023-05-16T05:36:33.650Z"
   },
   {
    "duration": 450,
    "start_time": "2023-05-16T05:36:33.711Z"
   },
   {
    "duration": 17,
    "start_time": "2023-05-16T05:36:34.163Z"
   },
   {
    "duration": 315,
    "start_time": "2023-05-16T05:36:34.182Z"
   },
   {
    "duration": 2532,
    "start_time": "2023-05-16T05:36:34.501Z"
   },
   {
    "duration": 23,
    "start_time": "2023-05-16T05:36:37.035Z"
   },
   {
    "duration": 38,
    "start_time": "2023-05-16T05:36:37.059Z"
   },
   {
    "duration": 20,
    "start_time": "2023-05-16T05:36:37.100Z"
   },
   {
    "duration": 20,
    "start_time": "2023-05-16T05:36:37.122Z"
   },
   {
    "duration": 44,
    "start_time": "2023-05-16T05:36:37.144Z"
   },
   {
    "duration": 25,
    "start_time": "2023-05-16T05:36:37.190Z"
   },
   {
    "duration": 25,
    "start_time": "2023-05-16T05:36:37.218Z"
   },
   {
    "duration": 9,
    "start_time": "2023-05-16T05:46:14.319Z"
   },
   {
    "duration": 9,
    "start_time": "2023-05-16T05:57:43.364Z"
   },
   {
    "duration": 16,
    "start_time": "2023-05-16T06:02:03.217Z"
   },
   {
    "duration": 110,
    "start_time": "2023-05-16T06:08:38.789Z"
   },
   {
    "duration": 18,
    "start_time": "2023-05-16T06:10:33.174Z"
   },
   {
    "duration": 24,
    "start_time": "2023-05-16T07:03:27.257Z"
   },
   {
    "duration": 1329,
    "start_time": "2023-05-16T07:14:18.063Z"
   },
   {
    "duration": 132,
    "start_time": "2023-05-16T07:14:19.395Z"
   },
   {
    "duration": 8,
    "start_time": "2023-05-16T07:14:19.530Z"
   },
   {
    "duration": 67,
    "start_time": "2023-05-16T07:14:19.540Z"
   },
   {
    "duration": 20,
    "start_time": "2023-05-16T07:14:19.610Z"
   },
   {
    "duration": 17,
    "start_time": "2023-05-16T07:14:19.632Z"
   },
   {
    "duration": 5,
    "start_time": "2023-05-16T07:14:19.651Z"
   },
   {
    "duration": 44,
    "start_time": "2023-05-16T07:14:19.658Z"
   },
   {
    "duration": 36,
    "start_time": "2023-05-16T07:14:19.703Z"
   },
   {
    "duration": 11,
    "start_time": "2023-05-16T07:14:19.741Z"
   },
   {
    "duration": 43,
    "start_time": "2023-05-16T07:14:19.754Z"
   },
   {
    "duration": 5,
    "start_time": "2023-05-16T07:14:19.801Z"
   },
   {
    "duration": 764,
    "start_time": "2023-05-16T07:14:19.807Z"
   },
   {
    "duration": 9,
    "start_time": "2023-05-16T07:14:20.575Z"
   },
   {
    "duration": 26,
    "start_time": "2023-05-16T07:14:20.586Z"
   },
   {
    "duration": 21,
    "start_time": "2023-05-16T07:14:20.617Z"
   },
   {
    "duration": 11,
    "start_time": "2023-05-16T07:14:20.640Z"
   },
   {
    "duration": 11,
    "start_time": "2023-05-16T07:14:20.652Z"
   },
   {
    "duration": 19,
    "start_time": "2023-05-16T07:14:20.665Z"
   },
   {
    "duration": 47,
    "start_time": "2023-05-16T07:14:20.685Z"
   },
   {
    "duration": 13,
    "start_time": "2023-05-16T07:14:20.734Z"
   },
   {
    "duration": 57,
    "start_time": "2023-05-16T07:14:20.749Z"
   },
   {
    "duration": 18,
    "start_time": "2023-05-16T07:14:20.808Z"
   },
   {
    "duration": 16,
    "start_time": "2023-05-16T07:14:20.828Z"
   },
   {
    "duration": 233,
    "start_time": "2023-05-16T07:14:20.846Z"
   },
   {
    "duration": 17,
    "start_time": "2023-05-16T07:14:21.081Z"
   },
   {
    "duration": 44,
    "start_time": "2023-05-16T07:14:21.100Z"
   },
   {
    "duration": 85,
    "start_time": "2023-05-16T07:14:21.145Z"
   },
   {
    "duration": 5,
    "start_time": "2023-05-16T07:14:21.232Z"
   },
   {
    "duration": 12,
    "start_time": "2023-05-16T07:14:21.239Z"
   },
   {
    "duration": 278,
    "start_time": "2023-05-16T07:14:21.253Z"
   },
   {
    "duration": 235,
    "start_time": "2023-05-16T07:14:21.533Z"
   },
   {
    "duration": 12,
    "start_time": "2023-05-16T07:14:21.770Z"
   },
   {
    "duration": 454,
    "start_time": "2023-05-16T07:14:21.784Z"
   },
   {
    "duration": 7,
    "start_time": "2023-05-16T07:14:22.239Z"
   },
   {
    "duration": 342,
    "start_time": "2023-05-16T07:14:22.247Z"
   },
   {
    "duration": 348,
    "start_time": "2023-05-16T07:14:22.594Z"
   },
   {
    "duration": 23,
    "start_time": "2023-05-16T07:14:22.943Z"
   },
   {
    "duration": 323,
    "start_time": "2023-05-16T07:14:22.968Z"
   },
   {
    "duration": 21,
    "start_time": "2023-05-16T07:14:23.296Z"
   },
   {
    "duration": 27,
    "start_time": "2023-05-16T07:14:23.322Z"
   },
   {
    "duration": 16,
    "start_time": "2023-05-16T07:14:23.351Z"
   },
   {
    "duration": 12,
    "start_time": "2023-05-16T07:14:23.369Z"
   },
   {
    "duration": 48,
    "start_time": "2023-05-16T07:14:23.395Z"
   },
   {
    "duration": 32,
    "start_time": "2023-05-16T07:14:23.445Z"
   },
   {
    "duration": 45,
    "start_time": "2023-05-16T07:14:23.480Z"
   },
   {
    "duration": 409,
    "start_time": "2023-05-16T07:14:23.528Z"
   },
   {
    "duration": 784,
    "start_time": "2023-05-16T07:14:23.939Z"
   },
   {
    "duration": 7,
    "start_time": "2023-05-16T07:14:24.725Z"
   },
   {
    "duration": 33,
    "start_time": "2023-05-16T07:14:24.734Z"
   },
   {
    "duration": 48,
    "start_time": "2023-05-16T07:14:24.769Z"
   },
   {
    "duration": 23,
    "start_time": "2023-05-16T07:14:24.819Z"
   },
   {
    "duration": 26,
    "start_time": "2023-05-16T07:14:24.844Z"
   },
   {
    "duration": 38,
    "start_time": "2023-05-16T07:14:24.871Z"
   },
   {
    "duration": 62,
    "start_time": "2023-05-16T07:14:24.915Z"
   },
   {
    "duration": 32,
    "start_time": "2023-05-16T07:14:24.979Z"
   },
   {
    "duration": 52,
    "start_time": "2023-05-16T07:14:25.013Z"
   },
   {
    "duration": 44,
    "start_time": "2023-05-16T07:14:25.068Z"
   },
   {
    "duration": 363,
    "start_time": "2023-05-16T07:14:25.113Z"
   },
   {
    "duration": 39,
    "start_time": "2023-05-16T07:14:25.478Z"
   },
   {
    "duration": 228,
    "start_time": "2023-05-16T07:14:25.522Z"
   },
   {
    "duration": 2414,
    "start_time": "2023-05-16T07:14:25.752Z"
   },
   {
    "duration": 35,
    "start_time": "2023-05-16T07:14:28.168Z"
   },
   {
    "duration": 21,
    "start_time": "2023-05-16T07:14:28.205Z"
   },
   {
    "duration": 12,
    "start_time": "2023-05-16T07:14:28.228Z"
   },
   {
    "duration": 9,
    "start_time": "2023-05-16T07:14:28.242Z"
   },
   {
    "duration": 20,
    "start_time": "2023-05-16T07:14:28.253Z"
   },
   {
    "duration": 29,
    "start_time": "2023-05-16T07:14:28.275Z"
   },
   {
    "duration": 6,
    "start_time": "2023-05-16T07:15:00.527Z"
   },
   {
    "duration": 1387,
    "start_time": "2023-05-16T07:15:09.616Z"
   },
   {
    "duration": 134,
    "start_time": "2023-05-16T07:15:11.010Z"
   },
   {
    "duration": 5,
    "start_time": "2023-05-16T07:15:11.146Z"
   },
   {
    "duration": 82,
    "start_time": "2023-05-16T07:15:11.154Z"
   },
   {
    "duration": 19,
    "start_time": "2023-05-16T07:15:11.237Z"
   },
   {
    "duration": 11,
    "start_time": "2023-05-16T07:15:11.257Z"
   },
   {
    "duration": 35,
    "start_time": "2023-05-16T07:15:11.270Z"
   },
   {
    "duration": 21,
    "start_time": "2023-05-16T07:15:11.309Z"
   },
   {
    "duration": 37,
    "start_time": "2023-05-16T07:15:11.331Z"
   },
   {
    "duration": 27,
    "start_time": "2023-05-16T07:15:11.371Z"
   },
   {
    "duration": 30,
    "start_time": "2023-05-16T07:15:11.399Z"
   },
   {
    "duration": 3,
    "start_time": "2023-05-16T07:15:11.431Z"
   },
   {
    "duration": 404,
    "start_time": "2023-05-16T07:15:11.436Z"
   },
   {
    "duration": 0,
    "start_time": "2023-05-16T07:15:11.844Z"
   },
   {
    "duration": 0,
    "start_time": "2023-05-16T07:15:11.845Z"
   },
   {
    "duration": 0,
    "start_time": "2023-05-16T07:15:11.846Z"
   },
   {
    "duration": 0,
    "start_time": "2023-05-16T07:15:11.848Z"
   },
   {
    "duration": 0,
    "start_time": "2023-05-16T07:15:11.849Z"
   },
   {
    "duration": 0,
    "start_time": "2023-05-16T07:15:11.851Z"
   },
   {
    "duration": 0,
    "start_time": "2023-05-16T07:15:11.852Z"
   },
   {
    "duration": 0,
    "start_time": "2023-05-16T07:15:11.853Z"
   },
   {
    "duration": 0,
    "start_time": "2023-05-16T07:15:11.854Z"
   },
   {
    "duration": 0,
    "start_time": "2023-05-16T07:15:11.856Z"
   },
   {
    "duration": 0,
    "start_time": "2023-05-16T07:15:11.857Z"
   },
   {
    "duration": 0,
    "start_time": "2023-05-16T07:15:11.858Z"
   },
   {
    "duration": 0,
    "start_time": "2023-05-16T07:15:11.859Z"
   },
   {
    "duration": 0,
    "start_time": "2023-05-16T07:15:11.861Z"
   },
   {
    "duration": 0,
    "start_time": "2023-05-16T07:15:11.862Z"
   },
   {
    "duration": 0,
    "start_time": "2023-05-16T07:15:11.863Z"
   },
   {
    "duration": 0,
    "start_time": "2023-05-16T07:15:11.864Z"
   },
   {
    "duration": 0,
    "start_time": "2023-05-16T07:15:11.866Z"
   },
   {
    "duration": 0,
    "start_time": "2023-05-16T07:15:11.867Z"
   },
   {
    "duration": 0,
    "start_time": "2023-05-16T07:15:11.868Z"
   },
   {
    "duration": 1,
    "start_time": "2023-05-16T07:15:11.869Z"
   },
   {
    "duration": 0,
    "start_time": "2023-05-16T07:15:11.871Z"
   },
   {
    "duration": 0,
    "start_time": "2023-05-16T07:15:11.873Z"
   },
   {
    "duration": 0,
    "start_time": "2023-05-16T07:15:11.875Z"
   },
   {
    "duration": 0,
    "start_time": "2023-05-16T07:15:11.878Z"
   },
   {
    "duration": 0,
    "start_time": "2023-05-16T07:15:11.879Z"
   },
   {
    "duration": 0,
    "start_time": "2023-05-16T07:15:11.880Z"
   },
   {
    "duration": 0,
    "start_time": "2023-05-16T07:15:11.896Z"
   },
   {
    "duration": 0,
    "start_time": "2023-05-16T07:15:11.898Z"
   },
   {
    "duration": 0,
    "start_time": "2023-05-16T07:15:11.898Z"
   },
   {
    "duration": 0,
    "start_time": "2023-05-16T07:15:11.899Z"
   },
   {
    "duration": 0,
    "start_time": "2023-05-16T07:15:11.900Z"
   },
   {
    "duration": 0,
    "start_time": "2023-05-16T07:15:11.901Z"
   },
   {
    "duration": 0,
    "start_time": "2023-05-16T07:15:11.902Z"
   },
   {
    "duration": 0,
    "start_time": "2023-05-16T07:15:11.904Z"
   },
   {
    "duration": 0,
    "start_time": "2023-05-16T07:15:11.905Z"
   },
   {
    "duration": 0,
    "start_time": "2023-05-16T07:15:11.906Z"
   },
   {
    "duration": 0,
    "start_time": "2023-05-16T07:15:11.907Z"
   },
   {
    "duration": 0,
    "start_time": "2023-05-16T07:15:11.908Z"
   },
   {
    "duration": 0,
    "start_time": "2023-05-16T07:15:11.909Z"
   },
   {
    "duration": 0,
    "start_time": "2023-05-16T07:15:11.911Z"
   },
   {
    "duration": 0,
    "start_time": "2023-05-16T07:15:11.912Z"
   },
   {
    "duration": 0,
    "start_time": "2023-05-16T07:15:11.913Z"
   },
   {
    "duration": 0,
    "start_time": "2023-05-16T07:15:11.914Z"
   },
   {
    "duration": 1,
    "start_time": "2023-05-16T07:15:11.915Z"
   },
   {
    "duration": 0,
    "start_time": "2023-05-16T07:15:11.917Z"
   },
   {
    "duration": 0,
    "start_time": "2023-05-16T07:15:11.918Z"
   },
   {
    "duration": 0,
    "start_time": "2023-05-16T07:15:11.919Z"
   },
   {
    "duration": 0,
    "start_time": "2023-05-16T07:15:11.920Z"
   },
   {
    "duration": 0,
    "start_time": "2023-05-16T07:15:11.921Z"
   },
   {
    "duration": 0,
    "start_time": "2023-05-16T07:15:11.922Z"
   },
   {
    "duration": 0,
    "start_time": "2023-05-16T07:15:11.923Z"
   },
   {
    "duration": 0,
    "start_time": "2023-05-16T07:15:11.925Z"
   },
   {
    "duration": 0,
    "start_time": "2023-05-16T07:15:11.926Z"
   },
   {
    "duration": 0,
    "start_time": "2023-05-16T07:15:11.927Z"
   },
   {
    "duration": 1566,
    "start_time": "2023-05-16T07:15:35.687Z"
   },
   {
    "duration": 174,
    "start_time": "2023-05-16T07:15:37.256Z"
   },
   {
    "duration": 10,
    "start_time": "2023-05-16T07:15:37.433Z"
   },
   {
    "duration": 88,
    "start_time": "2023-05-16T07:15:37.446Z"
   },
   {
    "duration": 29,
    "start_time": "2023-05-16T07:15:37.537Z"
   },
   {
    "duration": 52,
    "start_time": "2023-05-16T07:15:37.569Z"
   },
   {
    "duration": 23,
    "start_time": "2023-05-16T07:15:37.630Z"
   },
   {
    "duration": 80,
    "start_time": "2023-05-16T07:15:37.656Z"
   },
   {
    "duration": 52,
    "start_time": "2023-05-16T07:15:37.739Z"
   },
   {
    "duration": 20,
    "start_time": "2023-05-16T07:15:37.793Z"
   },
   {
    "duration": 36,
    "start_time": "2023-05-16T07:15:37.818Z"
   },
   {
    "duration": 3,
    "start_time": "2023-05-16T07:15:37.856Z"
   },
   {
    "duration": 1161,
    "start_time": "2023-05-16T07:15:37.861Z"
   },
   {
    "duration": 10,
    "start_time": "2023-05-16T07:15:39.027Z"
   },
   {
    "duration": 16,
    "start_time": "2023-05-16T07:15:39.039Z"
   },
   {
    "duration": 109,
    "start_time": "2023-05-16T07:15:39.057Z"
   },
   {
    "duration": 24,
    "start_time": "2023-05-16T07:15:39.168Z"
   },
   {
    "duration": 60,
    "start_time": "2023-05-16T07:15:39.194Z"
   },
   {
    "duration": 28,
    "start_time": "2023-05-16T07:15:39.256Z"
   },
   {
    "duration": 141,
    "start_time": "2023-05-16T07:15:39.286Z"
   },
   {
    "duration": 23,
    "start_time": "2023-05-16T07:15:39.429Z"
   },
   {
    "duration": 59,
    "start_time": "2023-05-16T07:15:39.454Z"
   },
   {
    "duration": 27,
    "start_time": "2023-05-16T07:15:39.516Z"
   },
   {
    "duration": 21,
    "start_time": "2023-05-16T07:15:39.545Z"
   },
   {
    "duration": 247,
    "start_time": "2023-05-16T07:15:39.569Z"
   },
   {
    "duration": 9,
    "start_time": "2023-05-16T07:15:39.817Z"
   },
   {
    "duration": 16,
    "start_time": "2023-05-16T07:15:39.828Z"
   },
   {
    "duration": 88,
    "start_time": "2023-05-16T07:15:39.846Z"
   },
   {
    "duration": 6,
    "start_time": "2023-05-16T07:15:39.938Z"
   },
   {
    "duration": 13,
    "start_time": "2023-05-16T07:15:39.946Z"
   },
   {
    "duration": 274,
    "start_time": "2023-05-16T07:15:39.961Z"
   },
   {
    "duration": 256,
    "start_time": "2023-05-16T07:15:40.236Z"
   },
   {
    "duration": 22,
    "start_time": "2023-05-16T07:15:40.496Z"
   },
   {
    "duration": 432,
    "start_time": "2023-05-16T07:15:40.520Z"
   },
   {
    "duration": 5,
    "start_time": "2023-05-16T07:15:40.955Z"
   },
   {
    "duration": 405,
    "start_time": "2023-05-16T07:15:40.962Z"
   },
   {
    "duration": 410,
    "start_time": "2023-05-16T07:15:41.370Z"
   },
   {
    "duration": 39,
    "start_time": "2023-05-16T07:15:41.782Z"
   },
   {
    "duration": 385,
    "start_time": "2023-05-16T07:15:41.823Z"
   },
   {
    "duration": 21,
    "start_time": "2023-05-16T07:15:42.212Z"
   },
   {
    "duration": 36,
    "start_time": "2023-05-16T07:15:42.238Z"
   },
   {
    "duration": 18,
    "start_time": "2023-05-16T07:15:42.276Z"
   },
   {
    "duration": 48,
    "start_time": "2023-05-16T07:15:42.295Z"
   },
   {
    "duration": 59,
    "start_time": "2023-05-16T07:15:42.345Z"
   },
   {
    "duration": 27,
    "start_time": "2023-05-16T07:15:42.406Z"
   },
   {
    "duration": 38,
    "start_time": "2023-05-16T07:15:42.435Z"
   },
   {
    "duration": 442,
    "start_time": "2023-05-16T07:15:42.475Z"
   },
   {
    "duration": 1182,
    "start_time": "2023-05-16T07:15:42.924Z"
   },
   {
    "duration": 10,
    "start_time": "2023-05-16T07:15:44.112Z"
   },
   {
    "duration": 68,
    "start_time": "2023-05-16T07:15:44.125Z"
   },
   {
    "duration": 65,
    "start_time": "2023-05-16T07:15:44.198Z"
   },
   {
    "duration": 24,
    "start_time": "2023-05-16T07:15:44.266Z"
   },
   {
    "duration": 26,
    "start_time": "2023-05-16T07:15:44.292Z"
   },
   {
    "duration": 43,
    "start_time": "2023-05-16T07:15:44.322Z"
   },
   {
    "duration": 27,
    "start_time": "2023-05-16T07:15:44.368Z"
   },
   {
    "duration": 26,
    "start_time": "2023-05-16T07:15:44.399Z"
   },
   {
    "duration": 92,
    "start_time": "2023-05-16T07:15:44.427Z"
   },
   {
    "duration": 61,
    "start_time": "2023-05-16T07:15:44.521Z"
   },
   {
    "duration": 557,
    "start_time": "2023-05-16T07:15:44.587Z"
   },
   {
    "duration": 33,
    "start_time": "2023-05-16T07:15:45.146Z"
   },
   {
    "duration": 403,
    "start_time": "2023-05-16T07:15:45.182Z"
   },
   {
    "duration": 2686,
    "start_time": "2023-05-16T07:15:45.588Z"
   },
   {
    "duration": 26,
    "start_time": "2023-05-16T07:15:48.276Z"
   },
   {
    "duration": 27,
    "start_time": "2023-05-16T07:15:48.308Z"
   },
   {
    "duration": 11,
    "start_time": "2023-05-16T07:15:48.337Z"
   },
   {
    "duration": 9,
    "start_time": "2023-05-16T07:15:48.350Z"
   },
   {
    "duration": 22,
    "start_time": "2023-05-16T07:15:48.360Z"
   },
   {
    "duration": 12,
    "start_time": "2023-05-16T07:15:48.384Z"
   },
   {
    "duration": 1224,
    "start_time": "2023-05-16T07:18:38.658Z"
   },
   {
    "duration": 127,
    "start_time": "2023-05-16T07:18:39.885Z"
   },
   {
    "duration": 7,
    "start_time": "2023-05-16T07:18:40.014Z"
   },
   {
    "duration": 89,
    "start_time": "2023-05-16T07:18:40.023Z"
   },
   {
    "duration": 21,
    "start_time": "2023-05-16T07:18:40.116Z"
   },
   {
    "duration": 14,
    "start_time": "2023-05-16T07:18:40.138Z"
   },
   {
    "duration": 9,
    "start_time": "2023-05-16T07:18:40.154Z"
   },
   {
    "duration": 45,
    "start_time": "2023-05-16T07:18:40.165Z"
   },
   {
    "duration": 51,
    "start_time": "2023-05-16T07:18:40.211Z"
   },
   {
    "duration": 7,
    "start_time": "2023-05-16T07:18:40.265Z"
   },
   {
    "duration": 44,
    "start_time": "2023-05-16T07:18:40.273Z"
   },
   {
    "duration": 7,
    "start_time": "2023-05-16T07:18:40.318Z"
   },
   {
    "duration": 693,
    "start_time": "2023-05-16T07:18:40.327Z"
   },
   {
    "duration": 10,
    "start_time": "2023-05-16T07:18:41.023Z"
   },
   {
    "duration": 16,
    "start_time": "2023-05-16T07:18:41.034Z"
   },
   {
    "duration": 14,
    "start_time": "2023-05-16T07:18:41.052Z"
   },
   {
    "duration": 18,
    "start_time": "2023-05-16T07:18:41.067Z"
   },
   {
    "duration": 8,
    "start_time": "2023-05-16T07:18:41.087Z"
   },
   {
    "duration": 11,
    "start_time": "2023-05-16T07:18:41.099Z"
   },
   {
    "duration": 12,
    "start_time": "2023-05-16T07:18:41.116Z"
   },
   {
    "duration": 9,
    "start_time": "2023-05-16T07:18:41.129Z"
   },
   {
    "duration": 28,
    "start_time": "2023-05-16T07:18:41.140Z"
   },
   {
    "duration": 35,
    "start_time": "2023-05-16T07:18:41.170Z"
   },
   {
    "duration": 9,
    "start_time": "2023-05-16T07:18:41.207Z"
   },
   {
    "duration": 172,
    "start_time": "2023-05-16T07:18:41.217Z"
   },
   {
    "duration": 16,
    "start_time": "2023-05-16T07:18:41.394Z"
   },
   {
    "duration": 16,
    "start_time": "2023-05-16T07:18:41.415Z"
   },
   {
    "duration": 89,
    "start_time": "2023-05-16T07:18:41.436Z"
   },
   {
    "duration": 6,
    "start_time": "2023-05-16T07:18:41.526Z"
   },
   {
    "duration": 21,
    "start_time": "2023-05-16T07:18:41.533Z"
   },
   {
    "duration": 275,
    "start_time": "2023-05-16T07:18:41.556Z"
   },
   {
    "duration": 270,
    "start_time": "2023-05-16T07:18:41.832Z"
   },
   {
    "duration": 19,
    "start_time": "2023-05-16T07:18:42.111Z"
   },
   {
    "duration": 416,
    "start_time": "2023-05-16T07:18:42.132Z"
   },
   {
    "duration": 7,
    "start_time": "2023-05-16T07:18:42.549Z"
   },
   {
    "duration": 345,
    "start_time": "2023-05-16T07:18:42.558Z"
   },
   {
    "duration": 328,
    "start_time": "2023-05-16T07:18:42.904Z"
   },
   {
    "duration": 29,
    "start_time": "2023-05-16T07:18:43.235Z"
   },
   {
    "duration": 386,
    "start_time": "2023-05-16T07:18:43.265Z"
   },
   {
    "duration": 14,
    "start_time": "2023-05-16T07:18:43.653Z"
   },
   {
    "duration": 40,
    "start_time": "2023-05-16T07:18:43.670Z"
   },
   {
    "duration": 20,
    "start_time": "2023-05-16T07:18:43.711Z"
   },
   {
    "duration": 28,
    "start_time": "2023-05-16T07:18:43.733Z"
   },
   {
    "duration": 41,
    "start_time": "2023-05-16T07:18:43.763Z"
   },
   {
    "duration": 38,
    "start_time": "2023-05-16T07:18:43.805Z"
   },
   {
    "duration": 45,
    "start_time": "2023-05-16T07:18:43.845Z"
   },
   {
    "duration": 310,
    "start_time": "2023-05-16T07:18:43.891Z"
   },
   {
    "duration": 858,
    "start_time": "2023-05-16T07:18:44.207Z"
   },
   {
    "duration": 6,
    "start_time": "2023-05-16T07:18:45.067Z"
   },
   {
    "duration": 62,
    "start_time": "2023-05-16T07:18:45.075Z"
   },
   {
    "duration": 24,
    "start_time": "2023-05-16T07:18:45.138Z"
   },
   {
    "duration": 15,
    "start_time": "2023-05-16T07:18:45.164Z"
   },
   {
    "duration": 50,
    "start_time": "2023-05-16T07:18:45.181Z"
   },
   {
    "duration": 39,
    "start_time": "2023-05-16T07:18:45.233Z"
   },
   {
    "duration": 28,
    "start_time": "2023-05-16T07:18:45.274Z"
   },
   {
    "duration": 21,
    "start_time": "2023-05-16T07:18:45.303Z"
   },
   {
    "duration": 23,
    "start_time": "2023-05-16T07:18:45.326Z"
   },
   {
    "duration": 33,
    "start_time": "2023-05-16T07:18:45.351Z"
   },
   {
    "duration": 308,
    "start_time": "2023-05-16T07:18:45.399Z"
   },
   {
    "duration": 21,
    "start_time": "2023-05-16T07:18:45.708Z"
   },
   {
    "duration": 240,
    "start_time": "2023-05-16T07:18:45.730Z"
   },
   {
    "duration": 2246,
    "start_time": "2023-05-16T07:18:45.971Z"
   },
   {
    "duration": 22,
    "start_time": "2023-05-16T07:18:48.219Z"
   },
   {
    "duration": 15,
    "start_time": "2023-05-16T07:18:48.243Z"
   },
   {
    "duration": 9,
    "start_time": "2023-05-16T07:18:48.259Z"
   },
   {
    "duration": 27,
    "start_time": "2023-05-16T07:18:48.269Z"
   },
   {
    "duration": 26,
    "start_time": "2023-05-16T07:18:48.305Z"
   },
   {
    "duration": 35,
    "start_time": "2023-05-16T07:18:48.333Z"
   },
   {
    "duration": 1829,
    "start_time": "2023-05-16T09:16:51.453Z"
   },
   {
    "duration": 341,
    "start_time": "2023-05-16T09:16:53.285Z"
   },
   {
    "duration": 9,
    "start_time": "2023-05-16T09:16:53.629Z"
   },
   {
    "duration": 161,
    "start_time": "2023-05-16T09:16:53.641Z"
   },
   {
    "duration": 22,
    "start_time": "2023-05-16T09:16:53.804Z"
   },
   {
    "duration": 29,
    "start_time": "2023-05-16T09:16:53.837Z"
   },
   {
    "duration": 21,
    "start_time": "2023-05-16T09:16:53.871Z"
   },
   {
    "duration": 50,
    "start_time": "2023-05-16T09:16:53.894Z"
   },
   {
    "duration": 65,
    "start_time": "2023-05-16T09:16:53.946Z"
   },
   {
    "duration": 21,
    "start_time": "2023-05-16T09:16:54.015Z"
   },
   {
    "duration": 82,
    "start_time": "2023-05-16T09:16:54.037Z"
   },
   {
    "duration": 57,
    "start_time": "2023-05-16T09:16:54.121Z"
   },
   {
    "duration": 1606,
    "start_time": "2023-05-16T09:16:54.179Z"
   },
   {
    "duration": 8,
    "start_time": "2023-05-16T09:16:55.787Z"
   },
   {
    "duration": 21,
    "start_time": "2023-05-16T09:16:55.797Z"
   },
   {
    "duration": 70,
    "start_time": "2023-05-16T09:16:55.820Z"
   },
   {
    "duration": 18,
    "start_time": "2023-05-16T09:16:55.893Z"
   },
   {
    "duration": 10,
    "start_time": "2023-05-16T09:16:55.913Z"
   },
   {
    "duration": 73,
    "start_time": "2023-05-16T09:16:55.925Z"
   },
   {
    "duration": 68,
    "start_time": "2023-05-16T09:16:56.000Z"
   },
   {
    "duration": 15,
    "start_time": "2023-05-16T09:16:56.070Z"
   },
   {
    "duration": 44,
    "start_time": "2023-05-16T09:16:56.087Z"
   },
   {
    "duration": 43,
    "start_time": "2023-05-16T09:16:56.133Z"
   },
   {
    "duration": 9,
    "start_time": "2023-05-16T09:16:56.178Z"
   },
   {
    "duration": 230,
    "start_time": "2023-05-16T09:16:56.189Z"
   },
   {
    "duration": 14,
    "start_time": "2023-05-16T09:16:56.424Z"
   },
   {
    "duration": 16,
    "start_time": "2023-05-16T09:16:56.440Z"
   },
   {
    "duration": 130,
    "start_time": "2023-05-16T09:16:56.463Z"
   },
   {
    "duration": 4,
    "start_time": "2023-05-16T09:16:56.595Z"
   },
   {
    "duration": 33,
    "start_time": "2023-05-16T09:16:56.601Z"
   },
   {
    "duration": 373,
    "start_time": "2023-05-16T09:16:56.636Z"
   },
   {
    "duration": 287,
    "start_time": "2023-05-16T09:16:57.011Z"
   },
   {
    "duration": 13,
    "start_time": "2023-05-16T09:16:57.299Z"
   },
   {
    "duration": 517,
    "start_time": "2023-05-16T09:16:57.314Z"
   },
   {
    "duration": 5,
    "start_time": "2023-05-16T09:16:57.833Z"
   },
   {
    "duration": 454,
    "start_time": "2023-05-16T09:16:57.842Z"
   },
   {
    "duration": 390,
    "start_time": "2023-05-16T09:16:58.298Z"
   },
   {
    "duration": 21,
    "start_time": "2023-05-16T09:16:58.690Z"
   },
   {
    "duration": 380,
    "start_time": "2023-05-16T09:16:58.732Z"
   },
   {
    "duration": 42,
    "start_time": "2023-05-16T09:16:59.113Z"
   },
   {
    "duration": 54,
    "start_time": "2023-05-16T09:16:59.167Z"
   },
   {
    "duration": 48,
    "start_time": "2023-05-16T09:16:59.223Z"
   },
   {
    "duration": 10,
    "start_time": "2023-05-16T09:16:59.275Z"
   },
   {
    "duration": 71,
    "start_time": "2023-05-16T09:16:59.287Z"
   },
   {
    "duration": 20,
    "start_time": "2023-05-16T09:16:59.361Z"
   },
   {
    "duration": 58,
    "start_time": "2023-05-16T09:16:59.383Z"
   },
   {
    "duration": 402,
    "start_time": "2023-05-16T09:16:59.443Z"
   },
   {
    "duration": 1515,
    "start_time": "2023-05-16T09:16:59.848Z"
   },
   {
    "duration": 13,
    "start_time": "2023-05-16T09:17:01.366Z"
   },
   {
    "duration": 167,
    "start_time": "2023-05-16T09:17:01.381Z"
   },
   {
    "duration": 131,
    "start_time": "2023-05-16T09:17:01.550Z"
   },
   {
    "duration": 74,
    "start_time": "2023-05-16T09:17:01.684Z"
   },
   {
    "duration": 128,
    "start_time": "2023-05-16T09:17:01.760Z"
   },
   {
    "duration": 192,
    "start_time": "2023-05-16T09:17:01.890Z"
   },
   {
    "duration": 81,
    "start_time": "2023-05-16T09:17:02.085Z"
   },
   {
    "duration": 96,
    "start_time": "2023-05-16T09:17:02.170Z"
   },
   {
    "duration": 97,
    "start_time": "2023-05-16T09:17:02.271Z"
   },
   {
    "duration": 105,
    "start_time": "2023-05-16T09:17:02.370Z"
   },
   {
    "duration": 553,
    "start_time": "2023-05-16T09:17:02.480Z"
   },
   {
    "duration": 29,
    "start_time": "2023-05-16T09:17:03.035Z"
   },
   {
    "duration": 371,
    "start_time": "2023-05-16T09:17:03.065Z"
   },
   {
    "duration": 2998,
    "start_time": "2023-05-16T09:17:03.438Z"
   },
   {
    "duration": 31,
    "start_time": "2023-05-16T09:17:06.438Z"
   },
   {
    "duration": 26,
    "start_time": "2023-05-16T09:17:06.471Z"
   },
   {
    "duration": 8,
    "start_time": "2023-05-16T09:17:06.499Z"
   },
   {
    "duration": 8,
    "start_time": "2023-05-16T09:17:06.508Z"
   },
   {
    "duration": 72,
    "start_time": "2023-05-16T09:17:06.517Z"
   },
   {
    "duration": 30,
    "start_time": "2023-05-16T09:17:06.591Z"
   },
   {
    "duration": 52,
    "start_time": "2023-05-16T20:55:01.874Z"
   },
   {
    "duration": 1268,
    "start_time": "2023-05-16T20:55:12.239Z"
   },
   {
    "duration": 105,
    "start_time": "2023-05-16T20:55:13.508Z"
   },
   {
    "duration": 8,
    "start_time": "2023-05-16T20:55:13.614Z"
   },
   {
    "duration": 69,
    "start_time": "2023-05-16T20:55:13.624Z"
   },
   {
    "duration": 14,
    "start_time": "2023-05-16T20:55:13.695Z"
   },
   {
    "duration": 19,
    "start_time": "2023-05-16T20:55:13.711Z"
   },
   {
    "duration": 24,
    "start_time": "2023-05-16T20:55:13.731Z"
   },
   {
    "duration": 27,
    "start_time": "2023-05-16T20:55:13.757Z"
   },
   {
    "duration": 51,
    "start_time": "2023-05-16T20:55:13.785Z"
   },
   {
    "duration": 8,
    "start_time": "2023-05-16T20:55:13.838Z"
   },
   {
    "duration": 25,
    "start_time": "2023-05-16T20:55:13.848Z"
   },
   {
    "duration": 2,
    "start_time": "2023-05-16T20:55:13.874Z"
   },
   {
    "duration": 815,
    "start_time": "2023-05-16T20:55:13.878Z"
   },
   {
    "duration": 7,
    "start_time": "2023-05-16T20:55:14.695Z"
   },
   {
    "duration": 29,
    "start_time": "2023-05-16T20:55:14.704Z"
   },
   {
    "duration": 44,
    "start_time": "2023-05-16T20:55:14.735Z"
   },
   {
    "duration": 32,
    "start_time": "2023-05-16T20:55:14.781Z"
   },
   {
    "duration": 20,
    "start_time": "2023-05-16T20:55:14.815Z"
   },
   {
    "duration": 12,
    "start_time": "2023-05-16T20:55:14.837Z"
   },
   {
    "duration": 19,
    "start_time": "2023-05-16T20:55:14.850Z"
   },
   {
    "duration": 10,
    "start_time": "2023-05-16T20:55:14.871Z"
   },
   {
    "duration": 11,
    "start_time": "2023-05-16T20:55:14.883Z"
   },
   {
    "duration": 32,
    "start_time": "2023-05-16T20:55:14.896Z"
   },
   {
    "duration": 13,
    "start_time": "2023-05-16T20:55:14.930Z"
   },
   {
    "duration": 6,
    "start_time": "2023-05-16T20:55:14.946Z"
   },
   {
    "duration": 190,
    "start_time": "2023-05-16T20:55:14.953Z"
   },
   {
    "duration": 6,
    "start_time": "2023-05-16T20:55:15.145Z"
   },
   {
    "duration": 16,
    "start_time": "2023-05-16T20:55:15.156Z"
   },
   {
    "duration": 85,
    "start_time": "2023-05-16T20:55:15.173Z"
   },
   {
    "duration": 5,
    "start_time": "2023-05-16T20:55:15.259Z"
   },
   {
    "duration": 12,
    "start_time": "2023-05-16T20:55:15.265Z"
   },
   {
    "duration": 222,
    "start_time": "2023-05-16T20:55:15.279Z"
   },
   {
    "duration": 195,
    "start_time": "2023-05-16T20:55:15.503Z"
   },
   {
    "duration": 18,
    "start_time": "2023-05-16T20:55:15.700Z"
   },
   {
    "duration": 344,
    "start_time": "2023-05-16T20:55:15.719Z"
   },
   {
    "duration": 5,
    "start_time": "2023-05-16T20:55:16.065Z"
   },
   {
    "duration": 290,
    "start_time": "2023-05-16T20:55:16.071Z"
   },
   {
    "duration": 272,
    "start_time": "2023-05-16T20:55:16.362Z"
   },
   {
    "duration": 20,
    "start_time": "2023-05-16T20:55:16.636Z"
   },
   {
    "duration": 272,
    "start_time": "2023-05-16T20:55:16.657Z"
   },
   {
    "duration": 12,
    "start_time": "2023-05-16T20:55:16.931Z"
   },
   {
    "duration": 17,
    "start_time": "2023-05-16T20:55:16.945Z"
   },
   {
    "duration": 14,
    "start_time": "2023-05-16T20:55:16.963Z"
   },
   {
    "duration": 5,
    "start_time": "2023-05-16T20:55:16.979Z"
   },
   {
    "duration": 52,
    "start_time": "2023-05-16T20:55:16.985Z"
   },
   {
    "duration": 19,
    "start_time": "2023-05-16T20:55:17.039Z"
   },
   {
    "duration": 17,
    "start_time": "2023-05-16T20:55:17.060Z"
   },
   {
    "duration": 273,
    "start_time": "2023-05-16T20:55:17.079Z"
   },
   {
    "duration": 684,
    "start_time": "2023-05-16T20:55:17.354Z"
   },
   {
    "duration": 7,
    "start_time": "2023-05-16T20:55:18.040Z"
   },
   {
    "duration": 28,
    "start_time": "2023-05-16T20:55:18.048Z"
   },
   {
    "duration": 40,
    "start_time": "2023-05-16T20:55:18.078Z"
   },
   {
    "duration": 17,
    "start_time": "2023-05-16T20:55:18.119Z"
   },
   {
    "duration": 15,
    "start_time": "2023-05-16T20:55:18.138Z"
   },
   {
    "duration": 16,
    "start_time": "2023-05-16T20:55:18.155Z"
   },
   {
    "duration": 47,
    "start_time": "2023-05-16T20:55:18.172Z"
   },
   {
    "duration": 17,
    "start_time": "2023-05-16T20:55:18.220Z"
   },
   {
    "duration": 17,
    "start_time": "2023-05-16T20:55:18.238Z"
   },
   {
    "duration": 22,
    "start_time": "2023-05-16T20:55:18.257Z"
   },
   {
    "duration": 336,
    "start_time": "2023-05-16T20:55:18.281Z"
   },
   {
    "duration": 16,
    "start_time": "2023-05-16T20:55:18.619Z"
   },
   {
    "duration": 203,
    "start_time": "2023-05-16T20:55:18.637Z"
   },
   {
    "duration": 2056,
    "start_time": "2023-05-16T20:55:18.842Z"
   },
   {
    "duration": 22,
    "start_time": "2023-05-16T20:55:20.899Z"
   },
   {
    "duration": 15,
    "start_time": "2023-05-16T20:55:20.923Z"
   },
   {
    "duration": 8,
    "start_time": "2023-05-16T20:55:20.940Z"
   },
   {
    "duration": 3,
    "start_time": "2023-05-16T20:55:20.949Z"
   },
   {
    "duration": 11,
    "start_time": "2023-05-16T20:55:20.953Z"
   },
   {
    "duration": 9,
    "start_time": "2023-05-16T20:55:20.965Z"
   },
   {
    "duration": 6,
    "start_time": "2023-05-16T21:09:22.003Z"
   },
   {
    "duration": 7,
    "start_time": "2023-05-16T21:09:42.007Z"
   },
   {
    "duration": 6,
    "start_time": "2023-05-16T21:11:17.547Z"
   },
   {
    "duration": 5,
    "start_time": "2023-05-16T21:11:30.603Z"
   },
   {
    "duration": 72,
    "start_time": "2023-05-17T05:50:13.320Z"
   },
   {
    "duration": 4,
    "start_time": "2023-05-17T05:57:02.486Z"
   },
   {
    "duration": 4,
    "start_time": "2023-05-17T06:17:58.800Z"
   },
   {
    "duration": 49,
    "start_time": "2023-05-17T06:18:28.008Z"
   },
   {
    "duration": 1560,
    "start_time": "2023-05-17T06:18:46.428Z"
   },
   {
    "duration": 237,
    "start_time": "2023-05-17T06:18:48.988Z"
   },
   {
    "duration": 3,
    "start_time": "2023-05-17T06:18:52.941Z"
   },
   {
    "duration": 42,
    "start_time": "2023-05-17T06:18:54.713Z"
   },
   {
    "duration": 73,
    "start_time": "2023-05-17T06:19:06.531Z"
   },
   {
    "duration": 5,
    "start_time": "2023-05-17T06:21:05.001Z"
   },
   {
    "duration": 9,
    "start_time": "2023-05-17T06:21:07.284Z"
   },
   {
    "duration": 125,
    "start_time": "2023-05-17T06:21:09.437Z"
   },
   {
    "duration": 107,
    "start_time": "2023-05-17T06:21:19.199Z"
   },
   {
    "duration": 4,
    "start_time": "2023-05-17T06:21:37.659Z"
   },
   {
    "duration": 5,
    "start_time": "2023-05-17T06:21:46.783Z"
   },
   {
    "duration": 206,
    "start_time": "2023-05-17T07:04:33.779Z"
   },
   {
    "duration": 202,
    "start_time": "2023-05-17T07:05:12.423Z"
   },
   {
    "duration": 183,
    "start_time": "2023-05-17T07:06:13.811Z"
   },
   {
    "duration": 221,
    "start_time": "2023-05-17T07:07:03.583Z"
   },
   {
    "duration": 76,
    "start_time": "2023-05-17T09:21:05.712Z"
   },
   {
    "duration": 255,
    "start_time": "2023-05-17T09:21:13.217Z"
   },
   {
    "duration": 333,
    "start_time": "2023-05-17T09:23:26.715Z"
   },
   {
    "duration": 338,
    "start_time": "2023-05-17T09:23:44.722Z"
   },
   {
    "duration": 236,
    "start_time": "2023-05-17T09:28:17.921Z"
   },
   {
    "duration": 233,
    "start_time": "2023-05-17T09:28:23.853Z"
   },
   {
    "duration": 296,
    "start_time": "2023-05-17T09:28:28.810Z"
   },
   {
    "duration": 247,
    "start_time": "2023-05-17T09:28:35.879Z"
   },
   {
    "duration": 243,
    "start_time": "2023-05-17T09:28:43.849Z"
   },
   {
    "duration": 11,
    "start_time": "2023-05-17T09:34:04.679Z"
   },
   {
    "duration": 8,
    "start_time": "2023-05-17T09:34:07.278Z"
   },
   {
    "duration": 9,
    "start_time": "2023-05-17T09:34:21.279Z"
   },
   {
    "duration": 1324,
    "start_time": "2023-05-17T09:34:32.579Z"
   },
   {
    "duration": 69,
    "start_time": "2023-05-17T09:34:33.905Z"
   },
   {
    "duration": 3,
    "start_time": "2023-05-17T09:34:33.975Z"
   },
   {
    "duration": 71,
    "start_time": "2023-05-17T09:34:33.981Z"
   },
   {
    "duration": 4,
    "start_time": "2023-05-17T09:34:34.055Z"
   },
   {
    "duration": 7,
    "start_time": "2023-05-17T09:34:34.061Z"
   },
   {
    "duration": 8,
    "start_time": "2023-05-17T09:34:34.070Z"
   },
   {
    "duration": 52,
    "start_time": "2023-05-17T09:34:34.080Z"
   },
   {
    "duration": 17,
    "start_time": "2023-05-17T09:34:34.134Z"
   },
   {
    "duration": 11,
    "start_time": "2023-05-17T09:34:34.153Z"
   },
   {
    "duration": 33,
    "start_time": "2023-05-17T09:34:34.167Z"
   },
   {
    "duration": 21,
    "start_time": "2023-05-17T09:34:34.202Z"
   },
   {
    "duration": 33,
    "start_time": "2023-05-17T09:34:34.225Z"
   },
   {
    "duration": 39,
    "start_time": "2023-05-17T09:34:34.259Z"
   },
   {
    "duration": 12,
    "start_time": "2023-05-17T09:34:34.300Z"
   },
   {
    "duration": 7,
    "start_time": "2023-05-17T09:34:34.313Z"
   },
   {
    "duration": 725,
    "start_time": "2023-05-17T09:34:34.321Z"
   },
   {
    "duration": 8,
    "start_time": "2023-05-17T09:34:35.049Z"
   },
   {
    "duration": 12,
    "start_time": "2023-05-17T09:34:35.058Z"
   },
   {
    "duration": 19,
    "start_time": "2023-05-17T09:34:35.072Z"
   },
   {
    "duration": 18,
    "start_time": "2023-05-17T09:34:35.092Z"
   },
   {
    "duration": 34,
    "start_time": "2023-05-17T09:34:35.112Z"
   },
   {
    "duration": 8,
    "start_time": "2023-05-17T09:34:35.148Z"
   },
   {
    "duration": 29,
    "start_time": "2023-05-17T09:34:35.157Z"
   },
   {
    "duration": 17,
    "start_time": "2023-05-17T09:34:35.187Z"
   },
   {
    "duration": 30,
    "start_time": "2023-05-17T09:34:35.206Z"
   },
   {
    "duration": 12,
    "start_time": "2023-05-17T09:34:35.237Z"
   },
   {
    "duration": 5,
    "start_time": "2023-05-17T09:34:35.254Z"
   },
   {
    "duration": 251,
    "start_time": "2023-05-17T09:34:35.261Z"
   },
   {
    "duration": 8,
    "start_time": "2023-05-17T09:34:35.513Z"
   },
   {
    "duration": 20,
    "start_time": "2023-05-17T09:34:35.523Z"
   },
   {
    "duration": 97,
    "start_time": "2023-05-17T09:34:35.545Z"
   },
   {
    "duration": 7,
    "start_time": "2023-05-17T09:34:35.643Z"
   },
   {
    "duration": 15,
    "start_time": "2023-05-17T09:34:35.652Z"
   },
   {
    "duration": 306,
    "start_time": "2023-05-17T09:34:35.670Z"
   },
   {
    "duration": 235,
    "start_time": "2023-05-17T09:34:35.977Z"
   },
   {
    "duration": 12,
    "start_time": "2023-05-17T09:34:36.214Z"
   },
   {
    "duration": 444,
    "start_time": "2023-05-17T09:34:36.228Z"
   },
   {
    "duration": 6,
    "start_time": "2023-05-17T09:34:36.675Z"
   },
   {
    "duration": 337,
    "start_time": "2023-05-17T09:34:36.683Z"
   },
   {
    "duration": 309,
    "start_time": "2023-05-17T09:34:37.022Z"
   },
   {
    "duration": 23,
    "start_time": "2023-05-17T09:34:37.333Z"
   },
   {
    "duration": 313,
    "start_time": "2023-05-17T09:34:37.357Z"
   },
   {
    "duration": 26,
    "start_time": "2023-05-17T09:34:37.672Z"
   },
   {
    "duration": 18,
    "start_time": "2023-05-17T09:34:37.700Z"
   },
   {
    "duration": 13,
    "start_time": "2023-05-17T09:34:37.719Z"
   },
   {
    "duration": 6,
    "start_time": "2023-05-17T09:34:37.734Z"
   },
   {
    "duration": 33,
    "start_time": "2023-05-17T09:34:37.742Z"
   },
   {
    "duration": 20,
    "start_time": "2023-05-17T09:34:37.796Z"
   },
   {
    "duration": 20,
    "start_time": "2023-05-17T09:34:37.817Z"
   },
   {
    "duration": 329,
    "start_time": "2023-05-17T09:34:37.839Z"
   },
   {
    "duration": 803,
    "start_time": "2023-05-17T09:34:38.170Z"
   },
   {
    "duration": 6,
    "start_time": "2023-05-17T09:34:38.975Z"
   },
   {
    "duration": 31,
    "start_time": "2023-05-17T09:34:38.983Z"
   },
   {
    "duration": 27,
    "start_time": "2023-05-17T09:34:39.015Z"
   },
   {
    "duration": 18,
    "start_time": "2023-05-17T09:34:39.044Z"
   },
   {
    "duration": 49,
    "start_time": "2023-05-17T09:34:39.064Z"
   },
   {
    "duration": 20,
    "start_time": "2023-05-17T09:34:39.115Z"
   },
   {
    "duration": 20,
    "start_time": "2023-05-17T09:34:39.136Z"
   },
   {
    "duration": 45,
    "start_time": "2023-05-17T09:34:39.158Z"
   },
   {
    "duration": 18,
    "start_time": "2023-05-17T09:34:39.205Z"
   },
   {
    "duration": 36,
    "start_time": "2023-05-17T09:34:39.226Z"
   },
   {
    "duration": 342,
    "start_time": "2023-05-17T09:34:39.264Z"
   },
   {
    "duration": 19,
    "start_time": "2023-05-17T09:34:39.608Z"
   },
   {
    "duration": 235,
    "start_time": "2023-05-17T09:34:39.629Z"
   },
   {
    "duration": 2250,
    "start_time": "2023-05-17T09:34:39.866Z"
   },
   {
    "duration": 17,
    "start_time": "2023-05-17T09:34:42.117Z"
   },
   {
    "duration": 20,
    "start_time": "2023-05-17T09:34:42.135Z"
   },
   {
    "duration": 10,
    "start_time": "2023-05-17T09:34:42.157Z"
   },
   {
    "duration": 30,
    "start_time": "2023-05-17T09:34:42.169Z"
   },
   {
    "duration": 22,
    "start_time": "2023-05-17T09:34:42.201Z"
   },
   {
    "duration": 14,
    "start_time": "2023-05-17T09:34:42.225Z"
   },
   {
    "duration": 357,
    "start_time": "2023-05-17T09:37:56.388Z"
   },
   {
    "duration": 40,
    "start_time": "2023-05-17T11:30:36.684Z"
   },
   {
    "duration": 51,
    "start_time": "2023-05-17T11:32:32.389Z"
   },
   {
    "duration": 44,
    "start_time": "2023-05-17T11:32:49.230Z"
   },
   {
    "duration": 44,
    "start_time": "2023-05-17T11:40:26.024Z"
   },
   {
    "duration": 55,
    "start_time": "2023-05-17T11:40:32.327Z"
   },
   {
    "duration": 41,
    "start_time": "2023-05-17T11:40:39.250Z"
   },
   {
    "duration": 80,
    "start_time": "2023-05-17T11:40:52.210Z"
   },
   {
    "duration": 44,
    "start_time": "2023-05-17T11:41:21.583Z"
   },
   {
    "duration": 35,
    "start_time": "2023-05-17T11:41:30.749Z"
   },
   {
    "duration": 1961,
    "start_time": "2023-05-17T11:41:40.787Z"
   },
   {
    "duration": 121,
    "start_time": "2023-05-17T11:41:42.754Z"
   },
   {
    "duration": 4,
    "start_time": "2023-05-17T11:41:42.878Z"
   },
   {
    "duration": 191,
    "start_time": "2023-05-17T11:41:42.885Z"
   },
   {
    "duration": 101,
    "start_time": "2023-05-17T11:41:43.089Z"
   },
   {
    "duration": 96,
    "start_time": "2023-05-17T11:41:43.192Z"
   },
   {
    "duration": 154,
    "start_time": "2023-05-17T11:41:43.291Z"
   },
   {
    "duration": 204,
    "start_time": "2023-05-17T11:41:43.448Z"
   },
   {
    "duration": 35,
    "start_time": "2023-05-17T11:41:43.654Z"
   },
   {
    "duration": 18,
    "start_time": "2023-05-17T11:41:43.692Z"
   },
   {
    "duration": 61,
    "start_time": "2023-05-17T11:41:43.713Z"
   },
   {
    "duration": 29,
    "start_time": "2023-05-17T11:41:43.779Z"
   },
   {
    "duration": 87,
    "start_time": "2023-05-17T11:41:43.810Z"
   },
   {
    "duration": 33,
    "start_time": "2023-05-17T11:41:43.907Z"
   },
   {
    "duration": 39,
    "start_time": "2023-05-17T11:41:43.943Z"
   },
   {
    "duration": 4,
    "start_time": "2023-05-17T11:41:43.984Z"
   },
   {
    "duration": 1057,
    "start_time": "2023-05-17T11:41:43.990Z"
   },
   {
    "duration": 17,
    "start_time": "2023-05-17T11:41:45.049Z"
   },
   {
    "duration": 60,
    "start_time": "2023-05-17T11:41:45.072Z"
   },
   {
    "duration": 70,
    "start_time": "2023-05-17T11:41:45.137Z"
   },
   {
    "duration": 69,
    "start_time": "2023-05-17T11:41:45.209Z"
   },
   {
    "duration": 93,
    "start_time": "2023-05-17T11:41:45.280Z"
   },
   {
    "duration": 15,
    "start_time": "2023-05-17T11:41:45.376Z"
   },
   {
    "duration": 106,
    "start_time": "2023-05-17T11:41:45.397Z"
   },
   {
    "duration": 79,
    "start_time": "2023-05-17T11:41:45.505Z"
   },
   {
    "duration": 108,
    "start_time": "2023-05-17T11:41:45.586Z"
   },
   {
    "duration": 17,
    "start_time": "2023-05-17T11:41:45.697Z"
   },
   {
    "duration": 57,
    "start_time": "2023-05-17T11:41:45.716Z"
   },
   {
    "duration": 330,
    "start_time": "2023-05-17T11:41:45.775Z"
   },
   {
    "duration": 11,
    "start_time": "2023-05-17T11:41:46.107Z"
   },
   {
    "duration": 47,
    "start_time": "2023-05-17T11:41:46.121Z"
   },
   {
    "duration": 134,
    "start_time": "2023-05-17T11:41:46.170Z"
   },
   {
    "duration": 9,
    "start_time": "2023-05-17T11:41:46.310Z"
   },
   {
    "duration": 50,
    "start_time": "2023-05-17T11:41:46.326Z"
   },
   {
    "duration": 430,
    "start_time": "2023-05-17T11:41:46.378Z"
   },
   {
    "duration": 359,
    "start_time": "2023-05-17T11:41:46.816Z"
   },
   {
    "duration": 16,
    "start_time": "2023-05-17T11:41:47.199Z"
   },
   {
    "duration": 723,
    "start_time": "2023-05-17T11:41:47.217Z"
   },
   {
    "duration": 9,
    "start_time": "2023-05-17T11:41:47.943Z"
   },
   {
    "duration": 570,
    "start_time": "2023-05-17T11:41:47.959Z"
   },
   {
    "duration": 813,
    "start_time": "2023-05-17T11:41:48.536Z"
   },
   {
    "duration": 84,
    "start_time": "2023-05-17T11:41:49.352Z"
   },
   {
    "duration": 559,
    "start_time": "2023-05-17T11:41:49.445Z"
   },
   {
    "duration": 30,
    "start_time": "2023-05-17T11:41:50.006Z"
   },
   {
    "duration": 37,
    "start_time": "2023-05-17T11:41:50.038Z"
   },
   {
    "duration": 13,
    "start_time": "2023-05-17T11:41:50.077Z"
   },
   {
    "duration": 47,
    "start_time": "2023-05-17T11:41:50.092Z"
   },
   {
    "duration": 44,
    "start_time": "2023-05-17T11:41:50.141Z"
   },
   {
    "duration": 38,
    "start_time": "2023-05-17T11:41:50.189Z"
   },
   {
    "duration": 62,
    "start_time": "2023-05-17T11:41:50.229Z"
   },
   {
    "duration": 530,
    "start_time": "2023-05-17T11:41:50.293Z"
   },
   {
    "duration": 1050,
    "start_time": "2023-05-17T11:41:50.825Z"
   },
   {
    "duration": 9,
    "start_time": "2023-05-17T11:41:51.877Z"
   },
   {
    "duration": 85,
    "start_time": "2023-05-17T11:41:51.901Z"
   },
   {
    "duration": 52,
    "start_time": "2023-05-17T11:41:51.988Z"
   },
   {
    "duration": 47,
    "start_time": "2023-05-17T11:41:52.042Z"
   },
   {
    "duration": 114,
    "start_time": "2023-05-17T11:41:52.090Z"
   },
   {
    "duration": 75,
    "start_time": "2023-05-17T11:41:52.207Z"
   },
   {
    "duration": 33,
    "start_time": "2023-05-17T11:41:52.284Z"
   },
   {
    "duration": 65,
    "start_time": "2023-05-17T11:41:52.319Z"
   },
   {
    "duration": 29,
    "start_time": "2023-05-17T11:41:52.386Z"
   },
   {
    "duration": 86,
    "start_time": "2023-05-17T11:41:52.417Z"
   },
   {
    "duration": 560,
    "start_time": "2023-05-17T11:41:52.506Z"
   },
   {
    "duration": 20,
    "start_time": "2023-05-17T11:41:53.069Z"
   },
   {
    "duration": 318,
    "start_time": "2023-05-17T11:41:53.092Z"
   },
   {
    "duration": 3461,
    "start_time": "2023-05-17T11:41:53.412Z"
   },
   {
    "duration": 35,
    "start_time": "2023-05-17T11:41:56.881Z"
   },
   {
    "duration": 67,
    "start_time": "2023-05-17T11:41:56.921Z"
   },
   {
    "duration": 92,
    "start_time": "2023-05-17T11:41:56.995Z"
   },
   {
    "duration": 18,
    "start_time": "2023-05-17T11:41:57.093Z"
   },
   {
    "duration": 68,
    "start_time": "2023-05-17T11:41:57.117Z"
   },
   {
    "duration": 93,
    "start_time": "2023-05-17T11:41:57.191Z"
   },
   {
    "duration": 87,
    "start_time": "2023-05-17T11:41:57.289Z"
   },
   {
    "duration": 76,
    "start_time": "2023-05-17T11:43:47.025Z"
   },
   {
    "duration": 447,
    "start_time": "2023-05-17T11:45:02.233Z"
   },
   {
    "duration": 179,
    "start_time": "2023-05-17T11:47:28.946Z"
   },
   {
    "duration": 26,
    "start_time": "2023-05-17T11:47:56.391Z"
   },
   {
    "duration": 24,
    "start_time": "2023-05-17T11:48:20.891Z"
   },
   {
    "duration": 29,
    "start_time": "2023-05-17T11:48:30.182Z"
   },
   {
    "duration": 29,
    "start_time": "2023-05-17T11:48:41.701Z"
   },
   {
    "duration": 41,
    "start_time": "2023-05-17T11:48:49.387Z"
   },
   {
    "duration": 34,
    "start_time": "2023-05-17T11:49:22.771Z"
   },
   {
    "duration": 1908,
    "start_time": "2023-05-17T11:49:40.185Z"
   },
   {
    "duration": 91,
    "start_time": "2023-05-17T11:49:42.096Z"
   },
   {
    "duration": 3,
    "start_time": "2023-05-17T11:49:42.189Z"
   },
   {
    "duration": 100,
    "start_time": "2023-05-17T11:49:42.194Z"
   },
   {
    "duration": 12,
    "start_time": "2023-05-17T11:49:42.300Z"
   },
   {
    "duration": 35,
    "start_time": "2023-05-17T11:49:42.320Z"
   },
   {
    "duration": 8,
    "start_time": "2023-05-17T11:49:42.357Z"
   },
   {
    "duration": 56,
    "start_time": "2023-05-17T11:49:42.367Z"
   },
   {
    "duration": 31,
    "start_time": "2023-05-17T11:49:42.425Z"
   },
   {
    "duration": 23,
    "start_time": "2023-05-17T11:49:42.459Z"
   },
   {
    "duration": 14,
    "start_time": "2023-05-17T11:49:42.496Z"
   },
   {
    "duration": 55,
    "start_time": "2023-05-17T11:49:42.513Z"
   },
   {
    "duration": 49,
    "start_time": "2023-05-17T11:49:42.570Z"
   },
   {
    "duration": 16,
    "start_time": "2023-05-17T11:49:42.622Z"
   },
   {
    "duration": 31,
    "start_time": "2023-05-17T11:49:42.640Z"
   },
   {
    "duration": 5,
    "start_time": "2023-05-17T11:49:42.673Z"
   },
   {
    "duration": 872,
    "start_time": "2023-05-17T11:49:42.680Z"
   },
   {
    "duration": 10,
    "start_time": "2023-05-17T11:49:43.554Z"
   },
   {
    "duration": 14,
    "start_time": "2023-05-17T11:49:43.566Z"
   },
   {
    "duration": 25,
    "start_time": "2023-05-17T11:49:43.582Z"
   },
   {
    "duration": 49,
    "start_time": "2023-05-17T11:49:43.609Z"
   },
   {
    "duration": 5,
    "start_time": "2023-05-17T11:49:43.660Z"
   },
   {
    "duration": 8,
    "start_time": "2023-05-17T11:49:43.667Z"
   },
   {
    "duration": 16,
    "start_time": "2023-05-17T11:49:43.676Z"
   },
   {
    "duration": 51,
    "start_time": "2023-05-17T11:49:43.693Z"
   },
   {
    "duration": 39,
    "start_time": "2023-05-17T11:49:43.746Z"
   },
   {
    "duration": 16,
    "start_time": "2023-05-17T11:49:43.787Z"
   },
   {
    "duration": 48,
    "start_time": "2023-05-17T11:49:43.808Z"
   },
   {
    "duration": 280,
    "start_time": "2023-05-17T11:49:43.859Z"
   },
   {
    "duration": 7,
    "start_time": "2023-05-17T11:49:44.140Z"
   },
   {
    "duration": 36,
    "start_time": "2023-05-17T11:49:44.149Z"
   },
   {
    "duration": 134,
    "start_time": "2023-05-17T11:49:44.188Z"
   },
   {
    "duration": 10,
    "start_time": "2023-05-17T11:49:44.324Z"
   },
   {
    "duration": 55,
    "start_time": "2023-05-17T11:49:44.336Z"
   },
   {
    "duration": 611,
    "start_time": "2023-05-17T11:49:44.393Z"
   },
   {
    "duration": 713,
    "start_time": "2023-05-17T11:49:45.007Z"
   },
   {
    "duration": 17,
    "start_time": "2023-05-17T11:49:45.722Z"
   },
   {
    "duration": 1404,
    "start_time": "2023-05-17T11:49:45.744Z"
   },
   {
    "duration": 8,
    "start_time": "2023-05-17T11:49:47.150Z"
   },
   {
    "duration": 501,
    "start_time": "2023-05-17T11:49:47.163Z"
   },
   {
    "duration": 385,
    "start_time": "2023-05-17T11:49:47.670Z"
   },
   {
    "duration": 21,
    "start_time": "2023-05-17T11:49:48.057Z"
   },
   {
    "duration": 356,
    "start_time": "2023-05-17T11:49:48.080Z"
   },
   {
    "duration": 21,
    "start_time": "2023-05-17T11:49:48.438Z"
   },
   {
    "duration": 19,
    "start_time": "2023-05-17T11:49:48.460Z"
   },
   {
    "duration": 12,
    "start_time": "2023-05-17T11:49:48.481Z"
   },
   {
    "duration": 38,
    "start_time": "2023-05-17T11:49:48.495Z"
   },
   {
    "duration": 45,
    "start_time": "2023-05-17T11:49:48.534Z"
   },
   {
    "duration": 25,
    "start_time": "2023-05-17T11:49:48.580Z"
   },
   {
    "duration": 35,
    "start_time": "2023-05-17T11:49:48.609Z"
   },
   {
    "duration": 369,
    "start_time": "2023-05-17T11:49:48.646Z"
   },
   {
    "duration": 1182,
    "start_time": "2023-05-17T11:49:49.021Z"
   },
   {
    "duration": 32,
    "start_time": "2023-05-17T11:49:50.205Z"
   },
   {
    "duration": 75,
    "start_time": "2023-05-17T11:49:50.239Z"
   },
   {
    "duration": 48,
    "start_time": "2023-05-17T11:49:50.316Z"
   },
   {
    "duration": 54,
    "start_time": "2023-05-17T11:49:50.366Z"
   },
   {
    "duration": 56,
    "start_time": "2023-05-17T11:49:50.422Z"
   },
   {
    "duration": 74,
    "start_time": "2023-05-17T11:49:50.498Z"
   },
   {
    "duration": 42,
    "start_time": "2023-05-17T11:49:50.574Z"
   },
   {
    "duration": 58,
    "start_time": "2023-05-17T11:49:50.618Z"
   },
   {
    "duration": 45,
    "start_time": "2023-05-17T11:49:50.678Z"
   },
   {
    "duration": 61,
    "start_time": "2023-05-17T11:49:50.725Z"
   },
   {
    "duration": 397,
    "start_time": "2023-05-17T11:49:50.789Z"
   },
   {
    "duration": 37,
    "start_time": "2023-05-17T11:49:51.188Z"
   },
   {
    "duration": 318,
    "start_time": "2023-05-17T11:49:51.232Z"
   },
   {
    "duration": 2795,
    "start_time": "2023-05-17T11:49:51.553Z"
   },
   {
    "duration": 24,
    "start_time": "2023-05-17T11:49:54.350Z"
   },
   {
    "duration": 50,
    "start_time": "2023-05-17T11:49:54.376Z"
   },
   {
    "duration": 189,
    "start_time": "2023-05-17T11:49:54.428Z"
   },
   {
    "duration": 0,
    "start_time": "2023-05-17T11:49:54.624Z"
   },
   {
    "duration": 0,
    "start_time": "2023-05-17T11:49:54.625Z"
   },
   {
    "duration": 0,
    "start_time": "2023-05-17T11:49:54.632Z"
   },
   {
    "duration": 0,
    "start_time": "2023-05-17T11:49:54.633Z"
   },
   {
    "duration": 439,
    "start_time": "2023-05-17T11:52:14.726Z"
   },
   {
    "duration": 84,
    "start_time": "2023-05-17T11:52:30.829Z"
   },
   {
    "duration": 36,
    "start_time": "2023-05-17T11:56:35.984Z"
   },
   {
    "duration": 25,
    "start_time": "2023-05-17T11:56:44.615Z"
   },
   {
    "duration": 23,
    "start_time": "2023-05-17T12:00:28.918Z"
   },
   {
    "duration": 47,
    "start_time": "2023-05-17T12:00:48.198Z"
   },
   {
    "duration": 33,
    "start_time": "2023-05-17T12:01:34.814Z"
   },
   {
    "duration": 28,
    "start_time": "2023-05-17T12:02:09.016Z"
   },
   {
    "duration": 29,
    "start_time": "2023-05-17T12:03:03.381Z"
   },
   {
    "duration": 30,
    "start_time": "2023-05-17T12:09:18.804Z"
   },
   {
    "duration": 29,
    "start_time": "2023-05-17T12:10:10.093Z"
   },
   {
    "duration": 44,
    "start_time": "2023-05-17T12:11:01.813Z"
   },
   {
    "duration": 17,
    "start_time": "2023-05-17T12:11:18.572Z"
   },
   {
    "duration": 27,
    "start_time": "2023-05-17T12:11:50.215Z"
   },
   {
    "duration": 38,
    "start_time": "2023-05-17T12:14:03.731Z"
   },
   {
    "duration": 69,
    "start_time": "2023-05-17T12:14:46.335Z"
   },
   {
    "duration": 29,
    "start_time": "2023-05-17T12:17:29.388Z"
   },
   {
    "duration": 33,
    "start_time": "2023-05-17T12:17:38.108Z"
   },
   {
    "duration": 30,
    "start_time": "2023-05-17T12:18:40.284Z"
   },
   {
    "duration": 27,
    "start_time": "2023-05-17T12:18:58.104Z"
   },
   {
    "duration": 24,
    "start_time": "2023-05-17T12:19:04.920Z"
   },
   {
    "duration": 41,
    "start_time": "2023-05-17T12:19:18.140Z"
   },
   {
    "duration": 23,
    "start_time": "2023-05-17T12:19:24.108Z"
   },
   {
    "duration": 36,
    "start_time": "2023-05-17T12:19:52.030Z"
   },
   {
    "duration": 25,
    "start_time": "2023-05-17T12:20:19.128Z"
   },
   {
    "duration": 36,
    "start_time": "2023-05-17T12:20:28.005Z"
   },
   {
    "duration": 27,
    "start_time": "2023-05-17T12:21:06.021Z"
   },
   {
    "duration": 69,
    "start_time": "2023-05-17T12:21:24.992Z"
   },
   {
    "duration": 3,
    "start_time": "2023-05-17T12:29:19.228Z"
   },
   {
    "duration": 4,
    "start_time": "2023-05-17T12:29:23.291Z"
   },
   {
    "duration": 20,
    "start_time": "2023-05-17T12:29:35.010Z"
   },
   {
    "duration": 5,
    "start_time": "2023-05-17T12:31:13.997Z"
   },
   {
    "duration": 38,
    "start_time": "2023-05-17T12:31:18.284Z"
   },
   {
    "duration": 4,
    "start_time": "2023-05-17T12:31:37.287Z"
   },
   {
    "duration": 29,
    "start_time": "2023-05-17T12:31:40.576Z"
   },
   {
    "duration": 97,
    "start_time": "2023-05-17T12:32:17.842Z"
   },
   {
    "duration": 30,
    "start_time": "2023-05-17T12:33:33.695Z"
   },
   {
    "duration": 94,
    "start_time": "2023-05-17T12:33:39.812Z"
   },
   {
    "duration": 86,
    "start_time": "2023-05-17T12:34:42.908Z"
   },
   {
    "duration": 32,
    "start_time": "2023-05-17T12:35:17.036Z"
   },
   {
    "duration": 29,
    "start_time": "2023-05-17T12:35:28.119Z"
   },
   {
    "duration": 36,
    "start_time": "2023-05-17T12:35:37.692Z"
   },
   {
    "duration": 92,
    "start_time": "2023-05-17T12:35:44.481Z"
   },
   {
    "duration": 52,
    "start_time": "2023-05-17T12:35:56.248Z"
   },
   {
    "duration": 120,
    "start_time": "2023-05-17T12:36:07.922Z"
   },
   {
    "duration": 102,
    "start_time": "2023-05-17T12:36:12.425Z"
   },
   {
    "duration": 17,
    "start_time": "2023-05-17T13:42:27.918Z"
   },
   {
    "duration": 24,
    "start_time": "2023-05-17T13:42:32.649Z"
   },
   {
    "duration": 77,
    "start_time": "2023-05-17T13:42:57.977Z"
   },
   {
    "duration": 20,
    "start_time": "2023-05-17T13:43:45.406Z"
   },
   {
    "duration": 15,
    "start_time": "2023-05-17T13:44:12.687Z"
   },
   {
    "duration": 12,
    "start_time": "2023-05-17T13:44:20.552Z"
   },
   {
    "duration": 47,
    "start_time": "2023-05-17T13:44:28.327Z"
   },
   {
    "duration": 19,
    "start_time": "2023-05-17T13:44:43.876Z"
   },
   {
    "duration": 20,
    "start_time": "2023-05-17T13:44:59.950Z"
   },
   {
    "duration": 42,
    "start_time": "2023-05-17T13:45:11.143Z"
   },
   {
    "duration": 19,
    "start_time": "2023-05-17T13:53:15.576Z"
   },
   {
    "duration": 1396,
    "start_time": "2023-05-17T13:53:24.117Z"
   },
   {
    "duration": 68,
    "start_time": "2023-05-17T13:53:25.515Z"
   },
   {
    "duration": 3,
    "start_time": "2023-05-17T13:53:25.585Z"
   },
   {
    "duration": 68,
    "start_time": "2023-05-17T13:53:25.590Z"
   },
   {
    "duration": 4,
    "start_time": "2023-05-17T13:53:25.660Z"
   },
   {
    "duration": 20,
    "start_time": "2023-05-17T13:53:25.666Z"
   },
   {
    "duration": 27,
    "start_time": "2023-05-17T13:53:25.687Z"
   },
   {
    "duration": 46,
    "start_time": "2023-05-17T13:53:25.716Z"
   },
   {
    "duration": 16,
    "start_time": "2023-05-17T13:53:25.763Z"
   },
   {
    "duration": 10,
    "start_time": "2023-05-17T13:53:25.782Z"
   },
   {
    "duration": 5,
    "start_time": "2023-05-17T13:53:25.793Z"
   },
   {
    "duration": 13,
    "start_time": "2023-05-17T13:53:25.800Z"
   },
   {
    "duration": 34,
    "start_time": "2023-05-17T13:53:25.814Z"
   },
   {
    "duration": 8,
    "start_time": "2023-05-17T13:53:25.849Z"
   },
   {
    "duration": 44,
    "start_time": "2023-05-17T13:53:25.859Z"
   },
   {
    "duration": 3,
    "start_time": "2023-05-17T13:53:25.905Z"
   },
   {
    "duration": 674,
    "start_time": "2023-05-17T13:53:25.909Z"
   },
   {
    "duration": 13,
    "start_time": "2023-05-17T13:53:26.585Z"
   },
   {
    "duration": 27,
    "start_time": "2023-05-17T13:53:26.600Z"
   },
   {
    "duration": 30,
    "start_time": "2023-05-17T13:53:26.629Z"
   },
   {
    "duration": 16,
    "start_time": "2023-05-17T13:53:26.662Z"
   },
   {
    "duration": 32,
    "start_time": "2023-05-17T13:53:26.680Z"
   },
   {
    "duration": 20,
    "start_time": "2023-05-17T13:53:26.714Z"
   },
   {
    "duration": 43,
    "start_time": "2023-05-17T13:53:26.736Z"
   },
   {
    "duration": 27,
    "start_time": "2023-05-17T13:53:26.781Z"
   },
   {
    "duration": 60,
    "start_time": "2023-05-17T13:53:26.809Z"
   },
   {
    "duration": 20,
    "start_time": "2023-05-17T13:53:26.871Z"
   },
   {
    "duration": 14,
    "start_time": "2023-05-17T13:53:26.895Z"
   },
   {
    "duration": 187,
    "start_time": "2023-05-17T13:53:26.911Z"
   },
   {
    "duration": 7,
    "start_time": "2023-05-17T13:53:27.100Z"
   },
   {
    "duration": 26,
    "start_time": "2023-05-17T13:53:27.108Z"
   },
   {
    "duration": 97,
    "start_time": "2023-05-17T13:53:27.136Z"
   },
   {
    "duration": 4,
    "start_time": "2023-05-17T13:53:27.235Z"
   },
   {
    "duration": 12,
    "start_time": "2023-05-17T13:53:27.241Z"
   },
   {
    "duration": 243,
    "start_time": "2023-05-17T13:53:27.255Z"
   },
   {
    "duration": 221,
    "start_time": "2023-05-17T13:53:27.499Z"
   },
   {
    "duration": 12,
    "start_time": "2023-05-17T13:53:27.722Z"
   },
   {
    "duration": 418,
    "start_time": "2023-05-17T13:53:27.736Z"
   },
   {
    "duration": 5,
    "start_time": "2023-05-17T13:53:28.156Z"
   },
   {
    "duration": 293,
    "start_time": "2023-05-17T13:53:28.162Z"
   },
   {
    "duration": 542,
    "start_time": "2023-05-17T13:53:28.457Z"
   },
   {
    "duration": 22,
    "start_time": "2023-05-17T13:53:29.001Z"
   },
   {
    "duration": 672,
    "start_time": "2023-05-17T13:53:29.025Z"
   },
   {
    "duration": 15,
    "start_time": "2023-05-17T13:53:29.699Z"
   },
   {
    "duration": 17,
    "start_time": "2023-05-17T13:53:29.716Z"
   },
   {
    "duration": 70,
    "start_time": "2023-05-17T13:53:29.734Z"
   },
   {
    "duration": 3,
    "start_time": "2023-05-17T13:53:29.805Z"
   },
   {
    "duration": 88,
    "start_time": "2023-05-17T13:53:29.810Z"
   },
   {
    "duration": 19,
    "start_time": "2023-05-17T13:53:29.900Z"
   },
   {
    "duration": 25,
    "start_time": "2023-05-17T13:53:29.921Z"
   },
   {
    "duration": 614,
    "start_time": "2023-05-17T13:53:29.998Z"
   },
   {
    "duration": 1572,
    "start_time": "2023-05-17T13:53:30.613Z"
   },
   {
    "duration": 7,
    "start_time": "2023-05-17T13:53:32.197Z"
   },
   {
    "duration": 36,
    "start_time": "2023-05-17T13:53:32.205Z"
   },
   {
    "duration": 26,
    "start_time": "2023-05-17T13:53:32.243Z"
   },
   {
    "duration": 32,
    "start_time": "2023-05-17T13:53:32.270Z"
   },
   {
    "duration": 19,
    "start_time": "2023-05-17T13:53:32.304Z"
   },
   {
    "duration": 19,
    "start_time": "2023-05-17T13:53:32.325Z"
   },
   {
    "duration": 19,
    "start_time": "2023-05-17T13:53:32.346Z"
   },
   {
    "duration": 46,
    "start_time": "2023-05-17T13:53:32.367Z"
   },
   {
    "duration": 22,
    "start_time": "2023-05-17T13:53:32.414Z"
   },
   {
    "duration": 59,
    "start_time": "2023-05-17T13:53:32.438Z"
   },
   {
    "duration": 320,
    "start_time": "2023-05-17T13:53:32.499Z"
   },
   {
    "duration": 19,
    "start_time": "2023-05-17T13:53:32.820Z"
   },
   {
    "duration": 243,
    "start_time": "2023-05-17T13:53:32.841Z"
   },
   {
    "duration": 2352,
    "start_time": "2023-05-17T13:53:33.086Z"
   },
   {
    "duration": 20,
    "start_time": "2023-05-17T13:53:35.440Z"
   },
   {
    "duration": 37,
    "start_time": "2023-05-17T13:53:35.461Z"
   },
   {
    "duration": 27,
    "start_time": "2023-05-17T13:53:35.500Z"
   },
   {
    "duration": 19,
    "start_time": "2023-05-17T13:53:35.529Z"
   },
   {
    "duration": 3,
    "start_time": "2023-05-17T13:53:35.550Z"
   },
   {
    "duration": 138,
    "start_time": "2023-05-17T13:53:35.555Z"
   },
   {
    "duration": 0,
    "start_time": "2023-05-17T13:53:35.695Z"
   },
   {
    "duration": 0,
    "start_time": "2023-05-17T13:53:35.697Z"
   },
   {
    "duration": 0,
    "start_time": "2023-05-17T13:53:35.698Z"
   },
   {
    "duration": 0,
    "start_time": "2023-05-17T13:53:35.699Z"
   },
   {
    "duration": 0,
    "start_time": "2023-05-17T13:53:35.700Z"
   },
   {
    "duration": 58,
    "start_time": "2023-05-17T13:54:34.144Z"
   },
   {
    "duration": 34,
    "start_time": "2023-05-17T13:55:08.053Z"
   },
   {
    "duration": 36,
    "start_time": "2023-05-17T13:58:19.152Z"
   },
   {
    "duration": 41,
    "start_time": "2023-05-17T13:58:50.541Z"
   },
   {
    "duration": 34,
    "start_time": "2023-05-17T13:59:12.245Z"
   },
   {
    "duration": 37,
    "start_time": "2023-05-17T13:59:22.189Z"
   },
   {
    "duration": 45,
    "start_time": "2023-05-17T14:19:36.787Z"
   },
   {
    "duration": 20,
    "start_time": "2023-05-17T14:19:48.234Z"
   },
   {
    "duration": 20,
    "start_time": "2023-05-17T14:19:55.491Z"
   },
   {
    "duration": 58,
    "start_time": "2023-05-17T14:20:18.979Z"
   },
   {
    "duration": 49,
    "start_time": "2023-05-17T14:21:16.080Z"
   },
   {
    "duration": 191,
    "start_time": "2023-05-17T14:21:51.323Z"
   },
   {
    "duration": 87,
    "start_time": "2023-05-17T14:22:26.406Z"
   },
   {
    "duration": 85,
    "start_time": "2023-05-17T14:22:39.050Z"
   },
   {
    "duration": 63,
    "start_time": "2023-05-17T14:22:59.382Z"
   },
   {
    "duration": 81,
    "start_time": "2023-05-17T14:23:22.914Z"
   },
   {
    "duration": 50,
    "start_time": "2023-05-17T14:23:45.704Z"
   },
   {
    "duration": 53,
    "start_time": "2023-05-17T14:24:39.400Z"
   },
   {
    "duration": 63,
    "start_time": "2023-05-17T14:25:08.603Z"
   },
   {
    "duration": 47,
    "start_time": "2023-05-17T14:25:37.026Z"
   },
   {
    "duration": 52,
    "start_time": "2023-05-17T14:25:49.084Z"
   },
   {
    "duration": 49,
    "start_time": "2023-05-17T14:25:54.839Z"
   },
   {
    "duration": 52,
    "start_time": "2023-05-17T14:26:31.420Z"
   },
   {
    "duration": 53,
    "start_time": "2023-05-17T14:27:30.218Z"
   },
   {
    "duration": 53,
    "start_time": "2023-05-17T14:27:56.388Z"
   },
   {
    "duration": 79,
    "start_time": "2023-05-17T14:28:45.285Z"
   },
   {
    "duration": 54,
    "start_time": "2023-05-17T14:28:52.249Z"
   },
   {
    "duration": 54,
    "start_time": "2023-05-17T14:29:03.184Z"
   },
   {
    "duration": 57,
    "start_time": "2023-05-17T14:29:21.760Z"
   },
   {
    "duration": 47,
    "start_time": "2023-05-17T14:29:52.816Z"
   },
   {
    "duration": 62,
    "start_time": "2023-05-17T14:30:06.830Z"
   },
   {
    "duration": 57,
    "start_time": "2023-05-17T14:30:20.477Z"
   },
   {
    "duration": 10,
    "start_time": "2023-05-17T14:57:06.332Z"
   },
   {
    "duration": 10,
    "start_time": "2023-05-17T14:59:50.210Z"
   },
   {
    "duration": 20,
    "start_time": "2023-05-17T14:59:57.786Z"
   },
   {
    "duration": 18,
    "start_time": "2023-05-17T14:59:59.349Z"
   },
   {
    "duration": 826,
    "start_time": "2023-05-17T15:00:14.014Z"
   },
   {
    "duration": 306,
    "start_time": "2023-05-17T15:00:57.951Z"
   },
   {
    "duration": 25,
    "start_time": "2023-05-17T15:01:14.459Z"
   },
   {
    "duration": 210,
    "start_time": "2023-05-17T15:01:18.035Z"
   },
   {
    "duration": 2492,
    "start_time": "2023-05-17T15:02:27.495Z"
   },
   {
    "duration": 18,
    "start_time": "2023-05-17T15:02:43.295Z"
   },
   {
    "duration": 16,
    "start_time": "2023-05-17T15:02:47.728Z"
   },
   {
    "duration": 47,
    "start_time": "2023-05-17T15:03:24.152Z"
   },
   {
    "duration": 2119,
    "start_time": "2023-05-17T15:03:55.851Z"
   },
   {
    "duration": 14,
    "start_time": "2023-05-17T15:04:30.796Z"
   },
   {
    "duration": 10,
    "start_time": "2023-05-17T15:04:33.099Z"
   },
   {
    "duration": 11,
    "start_time": "2023-05-17T15:06:36.332Z"
   },
   {
    "duration": 4,
    "start_time": "2023-05-17T15:06:40.275Z"
   },
   {
    "duration": 5,
    "start_time": "2023-05-17T15:10:18.445Z"
   },
   {
    "duration": 12,
    "start_time": "2023-05-17T15:10:52.924Z"
   },
   {
    "duration": 18,
    "start_time": "2023-05-17T15:14:39.877Z"
   },
   {
    "duration": 10,
    "start_time": "2023-05-17T15:14:43.901Z"
   },
   {
    "duration": 12,
    "start_time": "2023-05-17T15:21:00.193Z"
   },
   {
    "duration": 11,
    "start_time": "2023-05-17T15:21:12.946Z"
   },
   {
    "duration": 11,
    "start_time": "2023-05-17T15:21:19.064Z"
   },
   {
    "duration": 12,
    "start_time": "2023-05-17T15:48:01.029Z"
   },
   {
    "duration": 1446,
    "start_time": "2023-05-17T16:00:51.362Z"
   },
   {
    "duration": 74,
    "start_time": "2023-05-17T16:00:52.811Z"
   },
   {
    "duration": 3,
    "start_time": "2023-05-17T16:00:52.886Z"
   },
   {
    "duration": 71,
    "start_time": "2023-05-17T16:00:52.891Z"
   },
   {
    "duration": 3,
    "start_time": "2023-05-17T16:00:52.964Z"
   },
   {
    "duration": 16,
    "start_time": "2023-05-17T16:00:52.969Z"
   },
   {
    "duration": 27,
    "start_time": "2023-05-17T16:00:52.987Z"
   },
   {
    "duration": 45,
    "start_time": "2023-05-17T16:00:53.016Z"
   },
   {
    "duration": 18,
    "start_time": "2023-05-17T16:00:53.062Z"
   },
   {
    "duration": 16,
    "start_time": "2023-05-17T16:00:53.082Z"
   },
   {
    "duration": 19,
    "start_time": "2023-05-17T16:00:53.100Z"
   },
   {
    "duration": 23,
    "start_time": "2023-05-17T16:00:53.121Z"
   },
   {
    "duration": 31,
    "start_time": "2023-05-17T16:00:53.146Z"
   },
   {
    "duration": 32,
    "start_time": "2023-05-17T16:00:53.179Z"
   },
   {
    "duration": 22,
    "start_time": "2023-05-17T16:00:53.212Z"
   },
   {
    "duration": 10,
    "start_time": "2023-05-17T16:00:53.236Z"
   },
   {
    "duration": 729,
    "start_time": "2023-05-17T16:00:53.247Z"
   },
   {
    "duration": 11,
    "start_time": "2023-05-17T16:00:53.978Z"
   },
   {
    "duration": 39,
    "start_time": "2023-05-17T16:00:53.991Z"
   },
   {
    "duration": 30,
    "start_time": "2023-05-17T16:00:54.032Z"
   },
   {
    "duration": 17,
    "start_time": "2023-05-17T16:00:54.064Z"
   },
   {
    "duration": 21,
    "start_time": "2023-05-17T16:00:54.082Z"
   },
   {
    "duration": 23,
    "start_time": "2023-05-17T16:00:54.105Z"
   },
   {
    "duration": 21,
    "start_time": "2023-05-17T16:00:54.130Z"
   },
   {
    "duration": 10,
    "start_time": "2023-05-17T16:00:54.154Z"
   },
   {
    "duration": 47,
    "start_time": "2023-05-17T16:00:54.166Z"
   },
   {
    "duration": 18,
    "start_time": "2023-05-17T16:00:54.215Z"
   },
   {
    "duration": 8,
    "start_time": "2023-05-17T16:00:54.237Z"
   },
   {
    "duration": 198,
    "start_time": "2023-05-17T16:00:54.246Z"
   },
   {
    "duration": 7,
    "start_time": "2023-05-17T16:00:54.446Z"
   },
   {
    "duration": 14,
    "start_time": "2023-05-17T16:00:54.455Z"
   },
   {
    "duration": 108,
    "start_time": "2023-05-17T16:00:54.471Z"
   },
   {
    "duration": 4,
    "start_time": "2023-05-17T16:00:54.581Z"
   },
   {
    "duration": 21,
    "start_time": "2023-05-17T16:00:54.587Z"
   },
   {
    "duration": 287,
    "start_time": "2023-05-17T16:00:54.611Z"
   },
   {
    "duration": 258,
    "start_time": "2023-05-17T16:00:54.901Z"
   },
   {
    "duration": 12,
    "start_time": "2023-05-17T16:00:55.160Z"
   },
   {
    "duration": 481,
    "start_time": "2023-05-17T16:00:55.174Z"
   },
   {
    "duration": 5,
    "start_time": "2023-05-17T16:00:55.656Z"
   },
   {
    "duration": 318,
    "start_time": "2023-05-17T16:00:55.663Z"
   },
   {
    "duration": 312,
    "start_time": "2023-05-17T16:00:55.982Z"
   },
   {
    "duration": 26,
    "start_time": "2023-05-17T16:00:56.296Z"
   },
   {
    "duration": 363,
    "start_time": "2023-05-17T16:00:56.324Z"
   },
   {
    "duration": 26,
    "start_time": "2023-05-17T16:00:56.689Z"
   },
   {
    "duration": 31,
    "start_time": "2023-05-17T16:00:56.717Z"
   },
   {
    "duration": 37,
    "start_time": "2023-05-17T16:00:56.750Z"
   },
   {
    "duration": 22,
    "start_time": "2023-05-17T16:00:56.789Z"
   },
   {
    "duration": 74,
    "start_time": "2023-05-17T16:00:56.814Z"
   },
   {
    "duration": 30,
    "start_time": "2023-05-17T16:00:56.890Z"
   },
   {
    "duration": 48,
    "start_time": "2023-05-17T16:00:56.923Z"
   },
   {
    "duration": 356,
    "start_time": "2023-05-17T16:00:56.973Z"
   },
   {
    "duration": 810,
    "start_time": "2023-05-17T16:00:57.331Z"
   },
   {
    "duration": 6,
    "start_time": "2023-05-17T16:00:58.143Z"
   },
   {
    "duration": 49,
    "start_time": "2023-05-17T16:00:58.150Z"
   },
   {
    "duration": 27,
    "start_time": "2023-05-17T16:00:58.202Z"
   },
   {
    "duration": 16,
    "start_time": "2023-05-17T16:00:58.231Z"
   },
   {
    "duration": 16,
    "start_time": "2023-05-17T16:00:58.249Z"
   },
   {
    "duration": 46,
    "start_time": "2023-05-17T16:00:58.267Z"
   },
   {
    "duration": 18,
    "start_time": "2023-05-17T16:00:58.314Z"
   },
   {
    "duration": 18,
    "start_time": "2023-05-17T16:00:58.333Z"
   },
   {
    "duration": 17,
    "start_time": "2023-05-17T16:00:58.353Z"
   },
   {
    "duration": 58,
    "start_time": "2023-05-17T16:00:58.371Z"
   },
   {
    "duration": 299,
    "start_time": "2023-05-17T16:00:58.431Z"
   },
   {
    "duration": 16,
    "start_time": "2023-05-17T16:00:58.732Z"
   },
   {
    "duration": 238,
    "start_time": "2023-05-17T16:00:58.750Z"
   },
   {
    "duration": 2463,
    "start_time": "2023-05-17T16:00:58.990Z"
   },
   {
    "duration": 15,
    "start_time": "2023-05-17T16:01:01.456Z"
   },
   {
    "duration": 75,
    "start_time": "2023-05-17T16:01:01.473Z"
   },
   {
    "duration": 93,
    "start_time": "2023-05-17T16:01:01.550Z"
   },
   {
    "duration": 145,
    "start_time": "2023-05-17T16:01:01.645Z"
   },
   {
    "duration": 149,
    "start_time": "2023-05-17T16:01:01.793Z"
   },
   {
    "duration": 0,
    "start_time": "2023-05-17T16:01:01.945Z"
   },
   {
    "duration": 0,
    "start_time": "2023-05-17T16:01:01.946Z"
   },
   {
    "duration": 0,
    "start_time": "2023-05-17T16:01:01.947Z"
   },
   {
    "duration": 1409,
    "start_time": "2023-05-18T06:05:15.740Z"
   },
   {
    "duration": 290,
    "start_time": "2023-05-18T06:05:17.151Z"
   },
   {
    "duration": 2,
    "start_time": "2023-05-18T06:05:17.443Z"
   },
   {
    "duration": 46,
    "start_time": "2023-05-18T06:05:17.447Z"
   },
   {
    "duration": 4,
    "start_time": "2023-05-18T06:05:17.495Z"
   },
   {
    "duration": 6,
    "start_time": "2023-05-18T06:05:17.501Z"
   },
   {
    "duration": 6,
    "start_time": "2023-05-18T06:05:17.509Z"
   },
   {
    "duration": 58,
    "start_time": "2023-05-18T06:05:17.517Z"
   },
   {
    "duration": 17,
    "start_time": "2023-05-18T06:05:17.576Z"
   },
   {
    "duration": 10,
    "start_time": "2023-05-18T06:05:17.594Z"
   },
   {
    "duration": 4,
    "start_time": "2023-05-18T06:05:17.606Z"
   },
   {
    "duration": 51,
    "start_time": "2023-05-18T06:05:17.611Z"
   },
   {
    "duration": 28,
    "start_time": "2023-05-18T06:05:17.664Z"
   },
   {
    "duration": 9,
    "start_time": "2023-05-18T06:05:17.694Z"
   },
   {
    "duration": 126,
    "start_time": "2023-05-18T06:05:17.704Z"
   },
   {
    "duration": 0,
    "start_time": "2023-05-18T06:05:17.832Z"
   },
   {
    "duration": 0,
    "start_time": "2023-05-18T06:05:17.833Z"
   },
   {
    "duration": 0,
    "start_time": "2023-05-18T06:05:17.834Z"
   },
   {
    "duration": 0,
    "start_time": "2023-05-18T06:05:17.835Z"
   },
   {
    "duration": 0,
    "start_time": "2023-05-18T06:05:17.836Z"
   },
   {
    "duration": 0,
    "start_time": "2023-05-18T06:05:17.837Z"
   },
   {
    "duration": 0,
    "start_time": "2023-05-18T06:05:17.838Z"
   },
   {
    "duration": 0,
    "start_time": "2023-05-18T06:05:17.839Z"
   },
   {
    "duration": 0,
    "start_time": "2023-05-18T06:05:17.840Z"
   },
   {
    "duration": 0,
    "start_time": "2023-05-18T06:05:17.857Z"
   },
   {
    "duration": 0,
    "start_time": "2023-05-18T06:05:17.859Z"
   },
   {
    "duration": 0,
    "start_time": "2023-05-18T06:05:17.860Z"
   },
   {
    "duration": 0,
    "start_time": "2023-05-18T06:05:17.861Z"
   },
   {
    "duration": 0,
    "start_time": "2023-05-18T06:05:17.862Z"
   },
   {
    "duration": 0,
    "start_time": "2023-05-18T06:05:17.863Z"
   },
   {
    "duration": 0,
    "start_time": "2023-05-18T06:05:17.863Z"
   },
   {
    "duration": 0,
    "start_time": "2023-05-18T06:05:17.865Z"
   },
   {
    "duration": 0,
    "start_time": "2023-05-18T06:05:17.866Z"
   },
   {
    "duration": 0,
    "start_time": "2023-05-18T06:05:17.867Z"
   },
   {
    "duration": 0,
    "start_time": "2023-05-18T06:05:17.868Z"
   },
   {
    "duration": 0,
    "start_time": "2023-05-18T06:05:17.869Z"
   },
   {
    "duration": 0,
    "start_time": "2023-05-18T06:05:17.870Z"
   },
   {
    "duration": 0,
    "start_time": "2023-05-18T06:05:17.871Z"
   },
   {
    "duration": 0,
    "start_time": "2023-05-18T06:05:17.872Z"
   },
   {
    "duration": 0,
    "start_time": "2023-05-18T06:05:17.873Z"
   },
   {
    "duration": 0,
    "start_time": "2023-05-18T06:05:17.874Z"
   },
   {
    "duration": 0,
    "start_time": "2023-05-18T06:05:17.875Z"
   },
   {
    "duration": 0,
    "start_time": "2023-05-18T06:05:17.876Z"
   },
   {
    "duration": 0,
    "start_time": "2023-05-18T06:05:17.877Z"
   },
   {
    "duration": 0,
    "start_time": "2023-05-18T06:05:17.879Z"
   },
   {
    "duration": 0,
    "start_time": "2023-05-18T06:05:17.880Z"
   },
   {
    "duration": 0,
    "start_time": "2023-05-18T06:05:17.881Z"
   },
   {
    "duration": 0,
    "start_time": "2023-05-18T06:05:17.882Z"
   },
   {
    "duration": 0,
    "start_time": "2023-05-18T06:05:17.883Z"
   },
   {
    "duration": 0,
    "start_time": "2023-05-18T06:05:17.884Z"
   },
   {
    "duration": 1,
    "start_time": "2023-05-18T06:05:17.885Z"
   },
   {
    "duration": 0,
    "start_time": "2023-05-18T06:05:17.886Z"
   },
   {
    "duration": 0,
    "start_time": "2023-05-18T06:05:17.887Z"
   },
   {
    "duration": 0,
    "start_time": "2023-05-18T06:05:17.889Z"
   },
   {
    "duration": 0,
    "start_time": "2023-05-18T06:05:17.891Z"
   },
   {
    "duration": 0,
    "start_time": "2023-05-18T06:05:17.957Z"
   },
   {
    "duration": 0,
    "start_time": "2023-05-18T06:05:17.959Z"
   },
   {
    "duration": 0,
    "start_time": "2023-05-18T06:05:17.960Z"
   },
   {
    "duration": 0,
    "start_time": "2023-05-18T06:05:17.962Z"
   },
   {
    "duration": 0,
    "start_time": "2023-05-18T06:05:17.963Z"
   },
   {
    "duration": 0,
    "start_time": "2023-05-18T06:05:17.965Z"
   },
   {
    "duration": 0,
    "start_time": "2023-05-18T06:05:17.966Z"
   },
   {
    "duration": 0,
    "start_time": "2023-05-18T06:05:17.968Z"
   },
   {
    "duration": 0,
    "start_time": "2023-05-18T06:05:17.970Z"
   },
   {
    "duration": 0,
    "start_time": "2023-05-18T06:05:17.971Z"
   },
   {
    "duration": 0,
    "start_time": "2023-05-18T06:05:17.973Z"
   },
   {
    "duration": 0,
    "start_time": "2023-05-18T06:05:17.974Z"
   },
   {
    "duration": 0,
    "start_time": "2023-05-18T06:05:17.976Z"
   },
   {
    "duration": 0,
    "start_time": "2023-05-18T06:05:17.977Z"
   },
   {
    "duration": 0,
    "start_time": "2023-05-18T06:05:17.979Z"
   },
   {
    "duration": 0,
    "start_time": "2023-05-18T06:05:17.981Z"
   },
   {
    "duration": 0,
    "start_time": "2023-05-18T06:05:17.982Z"
   },
   {
    "duration": 0,
    "start_time": "2023-05-18T06:05:17.983Z"
   },
   {
    "duration": 0,
    "start_time": "2023-05-18T06:05:17.985Z"
   },
   {
    "duration": 1266,
    "start_time": "2023-05-18T06:05:36.366Z"
   },
   {
    "duration": 66,
    "start_time": "2023-05-18T06:05:37.633Z"
   },
   {
    "duration": 3,
    "start_time": "2023-05-18T06:05:37.701Z"
   },
   {
    "duration": 59,
    "start_time": "2023-05-18T06:05:37.706Z"
   },
   {
    "duration": 4,
    "start_time": "2023-05-18T06:05:37.767Z"
   },
   {
    "duration": 5,
    "start_time": "2023-05-18T06:05:37.773Z"
   },
   {
    "duration": 5,
    "start_time": "2023-05-18T06:05:37.780Z"
   },
   {
    "duration": 46,
    "start_time": "2023-05-18T06:05:37.786Z"
   },
   {
    "duration": 39,
    "start_time": "2023-05-18T06:05:37.833Z"
   },
   {
    "duration": 11,
    "start_time": "2023-05-18T06:05:37.875Z"
   },
   {
    "duration": 6,
    "start_time": "2023-05-18T06:05:37.887Z"
   },
   {
    "duration": 18,
    "start_time": "2023-05-18T06:05:37.894Z"
   },
   {
    "duration": 58,
    "start_time": "2023-05-18T06:05:37.914Z"
   },
   {
    "duration": 9,
    "start_time": "2023-05-18T06:05:37.974Z"
   },
   {
    "duration": 118,
    "start_time": "2023-05-18T06:05:37.984Z"
   },
   {
    "duration": 0,
    "start_time": "2023-05-18T06:05:38.106Z"
   },
   {
    "duration": 0,
    "start_time": "2023-05-18T06:05:38.107Z"
   },
   {
    "duration": 0,
    "start_time": "2023-05-18T06:05:38.108Z"
   },
   {
    "duration": 0,
    "start_time": "2023-05-18T06:05:38.110Z"
   },
   {
    "duration": 0,
    "start_time": "2023-05-18T06:05:38.111Z"
   },
   {
    "duration": 0,
    "start_time": "2023-05-18T06:05:38.112Z"
   },
   {
    "duration": 0,
    "start_time": "2023-05-18T06:05:38.113Z"
   },
   {
    "duration": 0,
    "start_time": "2023-05-18T06:05:38.115Z"
   },
   {
    "duration": 0,
    "start_time": "2023-05-18T06:05:38.116Z"
   },
   {
    "duration": 0,
    "start_time": "2023-05-18T06:05:38.118Z"
   },
   {
    "duration": 0,
    "start_time": "2023-05-18T06:05:38.118Z"
   },
   {
    "duration": 0,
    "start_time": "2023-05-18T06:05:38.120Z"
   },
   {
    "duration": 0,
    "start_time": "2023-05-18T06:05:38.121Z"
   },
   {
    "duration": 0,
    "start_time": "2023-05-18T06:05:38.122Z"
   },
   {
    "duration": 0,
    "start_time": "2023-05-18T06:05:38.123Z"
   },
   {
    "duration": 0,
    "start_time": "2023-05-18T06:05:38.124Z"
   },
   {
    "duration": 0,
    "start_time": "2023-05-18T06:05:38.125Z"
   },
   {
    "duration": 0,
    "start_time": "2023-05-18T06:05:38.158Z"
   },
   {
    "duration": 0,
    "start_time": "2023-05-18T06:05:38.159Z"
   },
   {
    "duration": 0,
    "start_time": "2023-05-18T06:05:38.160Z"
   },
   {
    "duration": 0,
    "start_time": "2023-05-18T06:05:38.161Z"
   },
   {
    "duration": 0,
    "start_time": "2023-05-18T06:05:38.162Z"
   },
   {
    "duration": 0,
    "start_time": "2023-05-18T06:05:38.163Z"
   },
   {
    "duration": 0,
    "start_time": "2023-05-18T06:05:38.164Z"
   },
   {
    "duration": 0,
    "start_time": "2023-05-18T06:05:38.165Z"
   },
   {
    "duration": 0,
    "start_time": "2023-05-18T06:05:38.166Z"
   },
   {
    "duration": 0,
    "start_time": "2023-05-18T06:05:38.167Z"
   },
   {
    "duration": 0,
    "start_time": "2023-05-18T06:05:38.168Z"
   },
   {
    "duration": 0,
    "start_time": "2023-05-18T06:05:38.170Z"
   },
   {
    "duration": 0,
    "start_time": "2023-05-18T06:05:38.171Z"
   },
   {
    "duration": 0,
    "start_time": "2023-05-18T06:05:38.172Z"
   },
   {
    "duration": 0,
    "start_time": "2023-05-18T06:05:38.173Z"
   },
   {
    "duration": 0,
    "start_time": "2023-05-18T06:05:38.174Z"
   },
   {
    "duration": 0,
    "start_time": "2023-05-18T06:05:38.175Z"
   },
   {
    "duration": 0,
    "start_time": "2023-05-18T06:05:38.177Z"
   },
   {
    "duration": 0,
    "start_time": "2023-05-18T06:05:38.177Z"
   },
   {
    "duration": 0,
    "start_time": "2023-05-18T06:05:38.179Z"
   },
   {
    "duration": 0,
    "start_time": "2023-05-18T06:05:38.179Z"
   },
   {
    "duration": 0,
    "start_time": "2023-05-18T06:05:38.180Z"
   },
   {
    "duration": 0,
    "start_time": "2023-05-18T06:05:38.182Z"
   },
   {
    "duration": 0,
    "start_time": "2023-05-18T06:05:38.183Z"
   },
   {
    "duration": 0,
    "start_time": "2023-05-18T06:05:38.184Z"
   },
   {
    "duration": 0,
    "start_time": "2023-05-18T06:05:38.185Z"
   },
   {
    "duration": 0,
    "start_time": "2023-05-18T06:05:38.186Z"
   },
   {
    "duration": 0,
    "start_time": "2023-05-18T06:05:38.187Z"
   },
   {
    "duration": 0,
    "start_time": "2023-05-18T06:05:38.188Z"
   },
   {
    "duration": 0,
    "start_time": "2023-05-18T06:05:38.190Z"
   },
   {
    "duration": 0,
    "start_time": "2023-05-18T06:05:38.190Z"
   },
   {
    "duration": 0,
    "start_time": "2023-05-18T06:05:38.192Z"
   },
   {
    "duration": 0,
    "start_time": "2023-05-18T06:05:38.193Z"
   },
   {
    "duration": 0,
    "start_time": "2023-05-18T06:05:38.194Z"
   },
   {
    "duration": 0,
    "start_time": "2023-05-18T06:05:38.256Z"
   },
   {
    "duration": 0,
    "start_time": "2023-05-18T06:05:38.258Z"
   },
   {
    "duration": 0,
    "start_time": "2023-05-18T06:05:38.259Z"
   },
   {
    "duration": 0,
    "start_time": "2023-05-18T06:05:38.260Z"
   },
   {
    "duration": 0,
    "start_time": "2023-05-18T06:05:38.262Z"
   },
   {
    "duration": 0,
    "start_time": "2023-05-18T06:05:38.262Z"
   },
   {
    "duration": 0,
    "start_time": "2023-05-18T06:05:38.263Z"
   },
   {
    "duration": 0,
    "start_time": "2023-05-18T06:05:38.264Z"
   },
   {
    "duration": 12,
    "start_time": "2023-05-18T06:07:54.475Z"
   },
   {
    "duration": 11,
    "start_time": "2023-05-18T06:08:07.881Z"
   },
   {
    "duration": 11,
    "start_time": "2023-05-18T06:08:21.789Z"
   },
   {
    "duration": 6,
    "start_time": "2023-05-18T06:08:38.737Z"
   },
   {
    "duration": 5,
    "start_time": "2023-05-18T06:09:34.747Z"
   },
   {
    "duration": 1260,
    "start_time": "2023-05-18T06:13:04.447Z"
   },
   {
    "duration": 67,
    "start_time": "2023-05-18T06:13:05.708Z"
   },
   {
    "duration": 3,
    "start_time": "2023-05-18T06:13:05.776Z"
   },
   {
    "duration": 59,
    "start_time": "2023-05-18T06:13:05.781Z"
   },
   {
    "duration": 4,
    "start_time": "2023-05-18T06:13:05.842Z"
   },
   {
    "duration": 13,
    "start_time": "2023-05-18T06:13:05.847Z"
   },
   {
    "duration": 13,
    "start_time": "2023-05-18T06:13:05.861Z"
   },
   {
    "duration": 46,
    "start_time": "2023-05-18T06:13:05.875Z"
   },
   {
    "duration": 18,
    "start_time": "2023-05-18T06:13:05.922Z"
   },
   {
    "duration": 28,
    "start_time": "2023-05-18T06:13:05.942Z"
   },
   {
    "duration": 8,
    "start_time": "2023-05-18T06:13:05.971Z"
   },
   {
    "duration": 23,
    "start_time": "2023-05-18T06:13:05.980Z"
   },
   {
    "duration": 64,
    "start_time": "2023-05-18T06:13:06.005Z"
   },
   {
    "duration": 12,
    "start_time": "2023-05-18T06:13:06.073Z"
   },
   {
    "duration": 4,
    "start_time": "2023-05-18T06:13:06.087Z"
   },
   {
    "duration": 22,
    "start_time": "2023-05-18T06:13:06.093Z"
   },
   {
    "duration": 8,
    "start_time": "2023-05-18T06:13:06.117Z"
   },
   {
    "duration": 10,
    "start_time": "2023-05-18T06:13:06.126Z"
   },
   {
    "duration": 23,
    "start_time": "2023-05-18T06:13:06.137Z"
   },
   {
    "duration": 12,
    "start_time": "2023-05-18T06:13:06.161Z"
   },
   {
    "duration": 11,
    "start_time": "2023-05-18T06:13:06.175Z"
   },
   {
    "duration": 19,
    "start_time": "2023-05-18T06:13:06.188Z"
   },
   {
    "duration": 31,
    "start_time": "2023-05-18T06:13:06.209Z"
   },
   {
    "duration": 31,
    "start_time": "2023-05-18T06:13:06.241Z"
   },
   {
    "duration": 7,
    "start_time": "2023-05-18T06:13:06.274Z"
   },
   {
    "duration": 205,
    "start_time": "2023-05-18T06:13:06.283Z"
   },
   {
    "duration": 7,
    "start_time": "2023-05-18T06:13:06.490Z"
   },
   {
    "duration": 8,
    "start_time": "2023-05-18T06:13:06.501Z"
   },
   {
    "duration": 114,
    "start_time": "2023-05-18T06:13:06.510Z"
   },
   {
    "duration": 4,
    "start_time": "2023-05-18T06:13:06.626Z"
   },
   {
    "duration": 9,
    "start_time": "2023-05-18T06:13:06.631Z"
   },
   {
    "duration": 262,
    "start_time": "2023-05-18T06:13:06.642Z"
   },
   {
    "duration": 244,
    "start_time": "2023-05-18T06:13:06.906Z"
   },
   {
    "duration": 22,
    "start_time": "2023-05-18T06:13:07.151Z"
   },
   {
    "duration": 416,
    "start_time": "2023-05-18T06:13:07.175Z"
   },
   {
    "duration": 4,
    "start_time": "2023-05-18T06:13:07.593Z"
   },
   {
    "duration": 297,
    "start_time": "2023-05-18T06:13:07.598Z"
   },
   {
    "duration": 295,
    "start_time": "2023-05-18T06:13:07.897Z"
   },
   {
    "duration": 21,
    "start_time": "2023-05-18T06:13:08.193Z"
   },
   {
    "duration": 315,
    "start_time": "2023-05-18T06:13:08.216Z"
   },
   {
    "duration": 14,
    "start_time": "2023-05-18T06:13:08.532Z"
   },
   {
    "duration": 25,
    "start_time": "2023-05-18T06:13:08.557Z"
   },
   {
    "duration": 13,
    "start_time": "2023-05-18T06:13:08.584Z"
   },
   {
    "duration": 6,
    "start_time": "2023-05-18T06:13:08.598Z"
   },
   {
    "duration": 42,
    "start_time": "2023-05-18T06:13:08.606Z"
   },
   {
    "duration": 27,
    "start_time": "2023-05-18T06:13:08.659Z"
   },
   {
    "duration": 24,
    "start_time": "2023-05-18T06:13:08.688Z"
   },
   {
    "duration": 357,
    "start_time": "2023-05-18T06:13:08.714Z"
   },
   {
    "duration": 772,
    "start_time": "2023-05-18T06:13:09.073Z"
   },
   {
    "duration": 14,
    "start_time": "2023-05-18T06:13:09.847Z"
   },
   {
    "duration": 28,
    "start_time": "2023-05-18T06:13:09.862Z"
   },
   {
    "duration": 21,
    "start_time": "2023-05-18T06:13:09.891Z"
   },
   {
    "duration": 15,
    "start_time": "2023-05-18T06:13:09.914Z"
   },
   {
    "duration": 37,
    "start_time": "2023-05-18T06:13:09.931Z"
   },
   {
    "duration": 18,
    "start_time": "2023-05-18T06:13:09.972Z"
   },
   {
    "duration": 19,
    "start_time": "2023-05-18T06:13:09.992Z"
   },
   {
    "duration": 18,
    "start_time": "2023-05-18T06:13:10.013Z"
   },
   {
    "duration": 27,
    "start_time": "2023-05-18T06:13:10.057Z"
   },
   {
    "duration": 27,
    "start_time": "2023-05-18T06:13:10.085Z"
   },
   {
    "duration": 343,
    "start_time": "2023-05-18T06:13:10.113Z"
   },
   {
    "duration": 22,
    "start_time": "2023-05-18T06:13:10.461Z"
   },
   {
    "duration": 216,
    "start_time": "2023-05-18T06:13:10.484Z"
   },
   {
    "duration": 2321,
    "start_time": "2023-05-18T06:13:10.701Z"
   },
   {
    "duration": 17,
    "start_time": "2023-05-18T06:13:13.023Z"
   },
   {
    "duration": 29,
    "start_time": "2023-05-18T06:13:13.041Z"
   },
   {
    "duration": 21,
    "start_time": "2023-05-18T06:13:13.072Z"
   },
   {
    "duration": 66,
    "start_time": "2023-05-18T06:13:13.095Z"
   },
   {
    "duration": 127,
    "start_time": "2023-05-18T06:13:13.163Z"
   },
   {
    "duration": 0,
    "start_time": "2023-05-18T06:13:13.291Z"
   },
   {
    "duration": 0,
    "start_time": "2023-05-18T06:13:13.292Z"
   },
   {
    "duration": 0,
    "start_time": "2023-05-18T06:13:13.293Z"
   },
   {
    "duration": 43,
    "start_time": "2023-05-18T06:15:05.584Z"
   },
   {
    "duration": 1302,
    "start_time": "2023-05-18T06:15:28.857Z"
   },
   {
    "duration": 9,
    "start_time": "2023-05-18T06:16:19.900Z"
   },
   {
    "duration": 4,
    "start_time": "2023-05-18T06:16:23.647Z"
   },
   {
    "duration": 13,
    "start_time": "2023-05-18T06:17:54.342Z"
   },
   {
    "duration": 11,
    "start_time": "2023-05-18T06:17:58.731Z"
   },
   {
    "duration": 8,
    "start_time": "2023-05-18T06:18:26.942Z"
   },
   {
    "duration": 8,
    "start_time": "2023-05-18T06:20:50.650Z"
   },
   {
    "duration": 1264,
    "start_time": "2023-05-18T06:24:12.639Z"
   },
   {
    "duration": 74,
    "start_time": "2023-05-18T06:24:13.906Z"
   },
   {
    "duration": 4,
    "start_time": "2023-05-18T06:24:13.982Z"
   },
   {
    "duration": 77,
    "start_time": "2023-05-18T06:24:13.989Z"
   },
   {
    "duration": 6,
    "start_time": "2023-05-18T06:24:14.068Z"
   },
   {
    "duration": 18,
    "start_time": "2023-05-18T06:24:14.077Z"
   },
   {
    "duration": 12,
    "start_time": "2023-05-18T06:24:14.097Z"
   },
   {
    "duration": 68,
    "start_time": "2023-05-18T06:24:14.111Z"
   },
   {
    "duration": 25,
    "start_time": "2023-05-18T06:24:14.181Z"
   },
   {
    "duration": 16,
    "start_time": "2023-05-18T06:24:14.210Z"
   },
   {
    "duration": 34,
    "start_time": "2023-05-18T06:24:14.228Z"
   },
   {
    "duration": 17,
    "start_time": "2023-05-18T06:24:14.264Z"
   },
   {
    "duration": 33,
    "start_time": "2023-05-18T06:24:14.283Z"
   },
   {
    "duration": 47,
    "start_time": "2023-05-18T06:24:14.317Z"
   },
   {
    "duration": 36,
    "start_time": "2023-05-18T06:24:14.366Z"
   },
   {
    "duration": 10,
    "start_time": "2023-05-18T06:24:14.404Z"
   },
   {
    "duration": 13,
    "start_time": "2023-05-18T06:24:14.416Z"
   },
   {
    "duration": 15,
    "start_time": "2023-05-18T06:24:14.430Z"
   },
   {
    "duration": 5,
    "start_time": "2023-05-18T06:24:14.447Z"
   },
   {
    "duration": 8,
    "start_time": "2023-05-18T06:24:14.454Z"
   },
   {
    "duration": 19,
    "start_time": "2023-05-18T06:24:14.463Z"
   },
   {
    "duration": 23,
    "start_time": "2023-05-18T06:24:14.483Z"
   },
   {
    "duration": 33,
    "start_time": "2023-05-18T06:24:14.508Z"
   },
   {
    "duration": 20,
    "start_time": "2023-05-18T06:24:14.543Z"
   },
   {
    "duration": 5,
    "start_time": "2023-05-18T06:24:14.565Z"
   },
   {
    "duration": 192,
    "start_time": "2023-05-18T06:24:14.572Z"
   },
   {
    "duration": 7,
    "start_time": "2023-05-18T06:24:14.766Z"
   },
   {
    "duration": 19,
    "start_time": "2023-05-18T06:24:14.777Z"
   },
   {
    "duration": 88,
    "start_time": "2023-05-18T06:24:14.798Z"
   },
   {
    "duration": 5,
    "start_time": "2023-05-18T06:24:14.887Z"
   },
   {
    "duration": 25,
    "start_time": "2023-05-18T06:24:14.894Z"
   },
   {
    "duration": 233,
    "start_time": "2023-05-18T06:24:14.920Z"
   },
   {
    "duration": 222,
    "start_time": "2023-05-18T06:24:15.157Z"
   },
   {
    "duration": 13,
    "start_time": "2023-05-18T06:24:15.381Z"
   },
   {
    "duration": 377,
    "start_time": "2023-05-18T06:24:15.396Z"
   },
   {
    "duration": 6,
    "start_time": "2023-05-18T06:24:15.775Z"
   },
   {
    "duration": 313,
    "start_time": "2023-05-18T06:24:15.782Z"
   },
   {
    "duration": 286,
    "start_time": "2023-05-18T06:24:16.097Z"
   },
   {
    "duration": 21,
    "start_time": "2023-05-18T06:24:16.384Z"
   },
   {
    "duration": 320,
    "start_time": "2023-05-18T06:24:16.407Z"
   },
   {
    "duration": 15,
    "start_time": "2023-05-18T06:24:16.728Z"
   },
   {
    "duration": 38,
    "start_time": "2023-05-18T06:24:16.745Z"
   },
   {
    "duration": 14,
    "start_time": "2023-05-18T06:24:16.785Z"
   },
   {
    "duration": 5,
    "start_time": "2023-05-18T06:24:16.801Z"
   },
   {
    "duration": 51,
    "start_time": "2023-05-18T06:24:16.808Z"
   },
   {
    "duration": 22,
    "start_time": "2023-05-18T06:24:16.861Z"
   },
   {
    "duration": 36,
    "start_time": "2023-05-18T06:24:16.884Z"
   },
   {
    "duration": 337,
    "start_time": "2023-05-18T06:24:16.922Z"
   },
   {
    "duration": 735,
    "start_time": "2023-05-18T06:24:17.261Z"
   },
   {
    "duration": 6,
    "start_time": "2023-05-18T06:24:17.998Z"
   },
   {
    "duration": 22,
    "start_time": "2023-05-18T06:24:18.006Z"
   },
   {
    "duration": 44,
    "start_time": "2023-05-18T06:24:18.030Z"
   },
   {
    "duration": 23,
    "start_time": "2023-05-18T06:24:18.075Z"
   },
   {
    "duration": 25,
    "start_time": "2023-05-18T06:24:18.100Z"
   },
   {
    "duration": 39,
    "start_time": "2023-05-18T06:24:18.127Z"
   },
   {
    "duration": 19,
    "start_time": "2023-05-18T06:24:18.167Z"
   },
   {
    "duration": 18,
    "start_time": "2023-05-18T06:24:18.188Z"
   },
   {
    "duration": 18,
    "start_time": "2023-05-18T06:24:18.208Z"
   },
   {
    "duration": 53,
    "start_time": "2023-05-18T06:24:18.227Z"
   },
   {
    "duration": 315,
    "start_time": "2023-05-18T06:24:18.281Z"
   },
   {
    "duration": 20,
    "start_time": "2023-05-18T06:24:18.598Z"
   },
   {
    "duration": 244,
    "start_time": "2023-05-18T06:24:18.619Z"
   },
   {
    "duration": 2140,
    "start_time": "2023-05-18T06:24:18.865Z"
   },
   {
    "duration": 17,
    "start_time": "2023-05-18T06:24:21.007Z"
   },
   {
    "duration": 32,
    "start_time": "2023-05-18T06:24:21.026Z"
   },
   {
    "duration": 18,
    "start_time": "2023-05-18T06:24:21.060Z"
   },
   {
    "duration": 53,
    "start_time": "2023-05-18T06:24:21.080Z"
   },
   {
    "duration": 29,
    "start_time": "2023-05-18T06:24:21.134Z"
   },
   {
    "duration": 9,
    "start_time": "2023-05-18T06:24:21.165Z"
   },
   {
    "duration": 17,
    "start_time": "2023-05-18T06:24:21.175Z"
   },
   {
    "duration": 10,
    "start_time": "2023-05-18T06:24:21.194Z"
   },
   {
    "duration": 4,
    "start_time": "2023-05-18T06:25:52.705Z"
   },
   {
    "duration": 244,
    "start_time": "2023-05-18T06:30:02.370Z"
   },
   {
    "duration": 352,
    "start_time": "2023-05-18T06:31:06.487Z"
   },
   {
    "duration": 78,
    "start_time": "2023-05-18T06:35:53.216Z"
   },
   {
    "duration": 76,
    "start_time": "2023-05-18T06:36:30.461Z"
   },
   {
    "duration": 101,
    "start_time": "2023-05-18T06:39:04.467Z"
   },
   {
    "duration": 12,
    "start_time": "2023-05-18T06:40:10.311Z"
   },
   {
    "duration": 9,
    "start_time": "2023-05-18T06:41:04.551Z"
   },
   {
    "duration": 12,
    "start_time": "2023-05-18T06:41:42.449Z"
   },
   {
    "duration": 249,
    "start_time": "2023-05-18T06:41:58.269Z"
   },
   {
    "duration": 287,
    "start_time": "2023-05-18T06:43:15.584Z"
   },
   {
    "duration": 430,
    "start_time": "2023-05-18T06:49:00.969Z"
   },
   {
    "duration": 1183,
    "start_time": "2023-05-18T06:58:27.399Z"
   },
   {
    "duration": 65,
    "start_time": "2023-05-18T06:58:28.584Z"
   },
   {
    "duration": 3,
    "start_time": "2023-05-18T06:58:28.650Z"
   },
   {
    "duration": 52,
    "start_time": "2023-05-18T06:58:28.655Z"
   },
   {
    "duration": 4,
    "start_time": "2023-05-18T06:58:28.709Z"
   },
   {
    "duration": 18,
    "start_time": "2023-05-18T06:58:28.715Z"
   },
   {
    "duration": 7,
    "start_time": "2023-05-18T06:58:28.735Z"
   },
   {
    "duration": 42,
    "start_time": "2023-05-18T06:58:28.744Z"
   },
   {
    "duration": 17,
    "start_time": "2023-05-18T06:58:28.787Z"
   },
   {
    "duration": 11,
    "start_time": "2023-05-18T06:58:28.807Z"
   },
   {
    "duration": 4,
    "start_time": "2023-05-18T06:58:28.819Z"
   },
   {
    "duration": 44,
    "start_time": "2023-05-18T06:58:28.825Z"
   },
   {
    "duration": 32,
    "start_time": "2023-05-18T06:58:28.871Z"
   },
   {
    "duration": 11,
    "start_time": "2023-05-18T06:58:28.905Z"
   },
   {
    "duration": 49,
    "start_time": "2023-05-18T06:58:28.918Z"
   },
   {
    "duration": 12,
    "start_time": "2023-05-18T06:58:28.968Z"
   },
   {
    "duration": 10,
    "start_time": "2023-05-18T06:58:28.982Z"
   },
   {
    "duration": 11,
    "start_time": "2023-05-18T06:58:28.993Z"
   },
   {
    "duration": 6,
    "start_time": "2023-05-18T06:58:29.006Z"
   },
   {
    "duration": 9,
    "start_time": "2023-05-18T06:58:29.014Z"
   },
   {
    "duration": 40,
    "start_time": "2023-05-18T06:58:29.025Z"
   },
   {
    "duration": 6,
    "start_time": "2023-05-18T06:58:29.067Z"
   },
   {
    "duration": 30,
    "start_time": "2023-05-18T06:58:29.075Z"
   },
   {
    "duration": 10,
    "start_time": "2023-05-18T06:58:29.106Z"
   },
   {
    "duration": 40,
    "start_time": "2023-05-18T06:58:29.118Z"
   },
   {
    "duration": 188,
    "start_time": "2023-05-18T06:58:29.160Z"
   },
   {
    "duration": 11,
    "start_time": "2023-05-18T06:58:29.350Z"
   },
   {
    "duration": 7,
    "start_time": "2023-05-18T06:58:29.364Z"
   },
   {
    "duration": 94,
    "start_time": "2023-05-18T06:58:29.373Z"
   },
   {
    "duration": 5,
    "start_time": "2023-05-18T06:58:29.468Z"
   },
   {
    "duration": 16,
    "start_time": "2023-05-18T06:58:29.474Z"
   },
   {
    "duration": 273,
    "start_time": "2023-05-18T06:58:29.492Z"
   },
   {
    "duration": 240,
    "start_time": "2023-05-18T06:58:29.767Z"
   },
   {
    "duration": 12,
    "start_time": "2023-05-18T06:58:30.009Z"
   },
   {
    "duration": 398,
    "start_time": "2023-05-18T06:58:30.022Z"
   },
   {
    "duration": 4,
    "start_time": "2023-05-18T06:58:30.421Z"
   },
   {
    "duration": 294,
    "start_time": "2023-05-18T06:58:30.427Z"
   },
   {
    "duration": 303,
    "start_time": "2023-05-18T06:58:30.723Z"
   },
   {
    "duration": 31,
    "start_time": "2023-05-18T06:58:31.027Z"
   },
   {
    "duration": 305,
    "start_time": "2023-05-18T06:58:31.060Z"
   },
   {
    "duration": 13,
    "start_time": "2023-05-18T06:58:31.367Z"
   },
   {
    "duration": 30,
    "start_time": "2023-05-18T06:58:31.382Z"
   },
   {
    "duration": 25,
    "start_time": "2023-05-18T06:58:31.413Z"
   },
   {
    "duration": 23,
    "start_time": "2023-05-18T06:58:31.439Z"
   },
   {
    "duration": 52,
    "start_time": "2023-05-18T06:58:31.464Z"
   },
   {
    "duration": 20,
    "start_time": "2023-05-18T06:58:31.518Z"
   },
   {
    "duration": 31,
    "start_time": "2023-05-18T06:58:31.540Z"
   },
   {
    "duration": 338,
    "start_time": "2023-05-18T06:58:31.573Z"
   },
   {
    "duration": 737,
    "start_time": "2023-05-18T06:58:31.913Z"
   },
   {
    "duration": 6,
    "start_time": "2023-05-18T06:58:32.656Z"
   },
   {
    "duration": 38,
    "start_time": "2023-05-18T06:58:32.664Z"
   },
   {
    "duration": 23,
    "start_time": "2023-05-18T06:58:32.703Z"
   },
   {
    "duration": 15,
    "start_time": "2023-05-18T06:58:32.728Z"
   },
   {
    "duration": 29,
    "start_time": "2023-05-18T06:58:32.745Z"
   },
   {
    "duration": 19,
    "start_time": "2023-05-18T06:58:32.775Z"
   },
   {
    "duration": 19,
    "start_time": "2023-05-18T06:58:32.795Z"
   },
   {
    "duration": 46,
    "start_time": "2023-05-18T06:58:32.815Z"
   },
   {
    "duration": 18,
    "start_time": "2023-05-18T06:58:32.862Z"
   },
   {
    "duration": 34,
    "start_time": "2023-05-18T06:58:32.881Z"
   },
   {
    "duration": 310,
    "start_time": "2023-05-18T06:58:32.917Z"
   },
   {
    "duration": 18,
    "start_time": "2023-05-18T06:58:33.228Z"
   },
   {
    "duration": 233,
    "start_time": "2023-05-18T06:58:33.256Z"
   },
   {
    "duration": 2411,
    "start_time": "2023-05-18T06:58:33.491Z"
   },
   {
    "duration": 16,
    "start_time": "2023-05-18T06:58:35.904Z"
   },
   {
    "duration": 37,
    "start_time": "2023-05-18T06:58:35.922Z"
   },
   {
    "duration": 19,
    "start_time": "2023-05-18T06:58:35.960Z"
   },
   {
    "duration": 48,
    "start_time": "2023-05-18T06:58:35.980Z"
   },
   {
    "duration": 34,
    "start_time": "2023-05-18T06:58:36.030Z"
   },
   {
    "duration": 4,
    "start_time": "2023-05-18T06:58:36.066Z"
   },
   {
    "duration": 23,
    "start_time": "2023-05-18T06:58:36.072Z"
   },
   {
    "duration": 12,
    "start_time": "2023-05-18T06:58:36.097Z"
   },
   {
    "duration": 1215,
    "start_time": "2023-05-18T07:01:10.138Z"
   },
   {
    "duration": 64,
    "start_time": "2023-05-18T07:01:11.356Z"
   },
   {
    "duration": 3,
    "start_time": "2023-05-18T07:01:11.422Z"
   },
   {
    "duration": 41,
    "start_time": "2023-05-18T07:01:11.427Z"
   },
   {
    "duration": 4,
    "start_time": "2023-05-18T07:01:11.470Z"
   },
   {
    "duration": 5,
    "start_time": "2023-05-18T07:01:11.475Z"
   },
   {
    "duration": 10,
    "start_time": "2023-05-18T07:01:11.482Z"
   },
   {
    "duration": 67,
    "start_time": "2023-05-18T07:01:11.494Z"
   },
   {
    "duration": 20,
    "start_time": "2023-05-18T07:01:11.563Z"
   },
   {
    "duration": 11,
    "start_time": "2023-05-18T07:01:11.586Z"
   },
   {
    "duration": 7,
    "start_time": "2023-05-18T07:01:11.598Z"
   },
   {
    "duration": 24,
    "start_time": "2023-05-18T07:01:11.607Z"
   },
   {
    "duration": 54,
    "start_time": "2023-05-18T07:01:11.633Z"
   },
   {
    "duration": 10,
    "start_time": "2023-05-18T07:01:11.689Z"
   },
   {
    "duration": 7,
    "start_time": "2023-05-18T07:01:11.701Z"
   },
   {
    "duration": 11,
    "start_time": "2023-05-18T07:01:11.710Z"
   },
   {
    "duration": 38,
    "start_time": "2023-05-18T07:01:11.723Z"
   },
   {
    "duration": 8,
    "start_time": "2023-05-18T07:01:11.763Z"
   },
   {
    "duration": 6,
    "start_time": "2023-05-18T07:01:11.772Z"
   },
   {
    "duration": 6,
    "start_time": "2023-05-18T07:01:11.780Z"
   },
   {
    "duration": 10,
    "start_time": "2023-05-18T07:01:11.787Z"
   },
   {
    "duration": 9,
    "start_time": "2023-05-18T07:01:11.799Z"
   },
   {
    "duration": 61,
    "start_time": "2023-05-18T07:01:11.809Z"
   },
   {
    "duration": 10,
    "start_time": "2023-05-18T07:01:11.872Z"
   },
   {
    "duration": 26,
    "start_time": "2023-05-18T07:01:11.884Z"
   },
   {
    "duration": 178,
    "start_time": "2023-05-18T07:01:11.912Z"
   },
   {
    "duration": 7,
    "start_time": "2023-05-18T07:01:12.092Z"
   },
   {
    "duration": 7,
    "start_time": "2023-05-18T07:01:12.104Z"
   },
   {
    "duration": 98,
    "start_time": "2023-05-18T07:01:12.113Z"
   },
   {
    "duration": 4,
    "start_time": "2023-05-18T07:01:12.212Z"
   },
   {
    "duration": 10,
    "start_time": "2023-05-18T07:01:12.218Z"
   },
   {
    "duration": 259,
    "start_time": "2023-05-18T07:01:12.229Z"
   },
   {
    "duration": 236,
    "start_time": "2023-05-18T07:01:12.490Z"
   },
   {
    "duration": 12,
    "start_time": "2023-05-18T07:01:12.727Z"
   },
   {
    "duration": 422,
    "start_time": "2023-05-18T07:01:12.740Z"
   },
   {
    "duration": 5,
    "start_time": "2023-05-18T07:01:13.164Z"
   },
   {
    "duration": 304,
    "start_time": "2023-05-18T07:01:13.171Z"
   },
   {
    "duration": 309,
    "start_time": "2023-05-18T07:01:13.477Z"
   },
   {
    "duration": 23,
    "start_time": "2023-05-18T07:01:13.787Z"
   },
   {
    "duration": 402,
    "start_time": "2023-05-18T07:01:13.812Z"
   },
   {
    "duration": 17,
    "start_time": "2023-05-18T07:01:14.215Z"
   },
   {
    "duration": 35,
    "start_time": "2023-05-18T07:01:14.233Z"
   },
   {
    "duration": 13,
    "start_time": "2023-05-18T07:01:14.270Z"
   },
   {
    "duration": 12,
    "start_time": "2023-05-18T07:01:14.285Z"
   },
   {
    "duration": 40,
    "start_time": "2023-05-18T07:01:14.298Z"
   },
   {
    "duration": 33,
    "start_time": "2023-05-18T07:01:14.339Z"
   },
   {
    "duration": 22,
    "start_time": "2023-05-18T07:01:14.374Z"
   },
   {
    "duration": 335,
    "start_time": "2023-05-18T07:01:14.398Z"
   },
   {
    "duration": 764,
    "start_time": "2023-05-18T07:01:14.734Z"
   },
   {
    "duration": 7,
    "start_time": "2023-05-18T07:01:15.500Z"
   },
   {
    "duration": 34,
    "start_time": "2023-05-18T07:01:15.509Z"
   },
   {
    "duration": 34,
    "start_time": "2023-05-18T07:01:15.544Z"
   },
   {
    "duration": 16,
    "start_time": "2023-05-18T07:01:15.580Z"
   },
   {
    "duration": 17,
    "start_time": "2023-05-18T07:01:15.598Z"
   },
   {
    "duration": 45,
    "start_time": "2023-05-18T07:01:15.617Z"
   },
   {
    "duration": 20,
    "start_time": "2023-05-18T07:01:15.663Z"
   },
   {
    "duration": 18,
    "start_time": "2023-05-18T07:01:15.684Z"
   },
   {
    "duration": 19,
    "start_time": "2023-05-18T07:01:15.703Z"
   },
   {
    "duration": 50,
    "start_time": "2023-05-18T07:01:15.723Z"
   },
   {
    "duration": 287,
    "start_time": "2023-05-18T07:01:15.774Z"
   },
   {
    "duration": 17,
    "start_time": "2023-05-18T07:01:16.063Z"
   },
   {
    "duration": 225,
    "start_time": "2023-05-18T07:01:16.082Z"
   },
   {
    "duration": 2124,
    "start_time": "2023-05-18T07:01:16.309Z"
   },
   {
    "duration": 23,
    "start_time": "2023-05-18T07:01:18.435Z"
   },
   {
    "duration": 15,
    "start_time": "2023-05-18T07:01:18.459Z"
   },
   {
    "duration": 18,
    "start_time": "2023-05-18T07:01:18.475Z"
   },
   {
    "duration": 69,
    "start_time": "2023-05-18T07:01:18.494Z"
   },
   {
    "duration": 8,
    "start_time": "2023-05-18T07:01:18.565Z"
   },
   {
    "duration": 4,
    "start_time": "2023-05-18T07:01:18.574Z"
   },
   {
    "duration": 12,
    "start_time": "2023-05-18T07:01:18.579Z"
   },
   {
    "duration": 9,
    "start_time": "2023-05-18T07:01:18.592Z"
   },
   {
    "duration": 341,
    "start_time": "2023-05-18T14:18:17.557Z"
   },
   {
    "duration": 1105,
    "start_time": "2023-05-18T14:18:37.859Z"
   },
   {
    "duration": 65,
    "start_time": "2023-05-18T14:18:38.966Z"
   },
   {
    "duration": 3,
    "start_time": "2023-05-18T14:18:39.032Z"
   },
   {
    "duration": 47,
    "start_time": "2023-05-18T14:18:39.036Z"
   },
   {
    "duration": 3,
    "start_time": "2023-05-18T14:18:39.085Z"
   },
   {
    "duration": 5,
    "start_time": "2023-05-18T14:18:39.090Z"
   },
   {
    "duration": 4,
    "start_time": "2023-05-18T14:18:39.096Z"
   },
   {
    "duration": 55,
    "start_time": "2023-05-18T14:18:39.101Z"
   },
   {
    "duration": 15,
    "start_time": "2023-05-18T14:18:39.157Z"
   },
   {
    "duration": 9,
    "start_time": "2023-05-18T14:18:39.173Z"
   },
   {
    "duration": 4,
    "start_time": "2023-05-18T14:18:39.183Z"
   },
   {
    "duration": 22,
    "start_time": "2023-05-18T14:18:39.188Z"
   },
   {
    "duration": 25,
    "start_time": "2023-05-18T14:18:39.211Z"
   },
   {
    "duration": 7,
    "start_time": "2023-05-18T14:18:39.239Z"
   },
   {
    "duration": 3,
    "start_time": "2023-05-18T14:18:39.248Z"
   },
   {
    "duration": 6,
    "start_time": "2023-05-18T14:18:39.252Z"
   },
   {
    "duration": 6,
    "start_time": "2023-05-18T14:18:39.260Z"
   },
   {
    "duration": 42,
    "start_time": "2023-05-18T14:18:39.267Z"
   },
   {
    "duration": 4,
    "start_time": "2023-05-18T14:18:39.310Z"
   },
   {
    "duration": 6,
    "start_time": "2023-05-18T14:18:39.316Z"
   },
   {
    "duration": 9,
    "start_time": "2023-05-18T14:18:39.323Z"
   },
   {
    "duration": 16,
    "start_time": "2023-05-18T14:18:39.333Z"
   },
   {
    "duration": 24,
    "start_time": "2023-05-18T14:18:39.351Z"
   },
   {
    "duration": 30,
    "start_time": "2023-05-18T14:18:39.377Z"
   },
   {
    "duration": 5,
    "start_time": "2023-05-18T14:18:39.409Z"
   },
   {
    "duration": 153,
    "start_time": "2023-05-18T14:18:39.416Z"
   },
   {
    "duration": 5,
    "start_time": "2023-05-18T14:18:39.571Z"
   },
   {
    "duration": 5,
    "start_time": "2023-05-18T14:18:39.578Z"
   },
   {
    "duration": 90,
    "start_time": "2023-05-18T14:18:39.585Z"
   },
   {
    "duration": 4,
    "start_time": "2023-05-18T14:18:39.677Z"
   },
   {
    "duration": 23,
    "start_time": "2023-05-18T14:18:39.683Z"
   },
   {
    "duration": 245,
    "start_time": "2023-05-18T14:18:39.708Z"
   },
   {
    "duration": 196,
    "start_time": "2023-05-18T14:18:39.954Z"
   },
   {
    "duration": 11,
    "start_time": "2023-05-18T14:18:40.152Z"
   },
   {
    "duration": 324,
    "start_time": "2023-05-18T14:18:40.164Z"
   },
   {
    "duration": 4,
    "start_time": "2023-05-18T14:18:40.490Z"
   },
   {
    "duration": 263,
    "start_time": "2023-05-18T14:18:40.495Z"
   },
   {
    "duration": 259,
    "start_time": "2023-05-18T14:18:40.760Z"
   },
   {
    "duration": 20,
    "start_time": "2023-05-18T14:18:41.020Z"
   },
   {
    "duration": 268,
    "start_time": "2023-05-18T14:18:41.041Z"
   },
   {
    "duration": 13,
    "start_time": "2023-05-18T14:18:41.313Z"
   },
   {
    "duration": 15,
    "start_time": "2023-05-18T14:18:41.328Z"
   },
   {
    "duration": 11,
    "start_time": "2023-05-18T14:18:41.344Z"
   },
   {
    "duration": 15,
    "start_time": "2023-05-18T14:18:41.356Z"
   },
   {
    "duration": 44,
    "start_time": "2023-05-18T14:18:41.373Z"
   },
   {
    "duration": 18,
    "start_time": "2023-05-18T14:18:41.418Z"
   },
   {
    "duration": 18,
    "start_time": "2023-05-18T14:18:41.438Z"
   },
   {
    "duration": 285,
    "start_time": "2023-05-18T14:18:41.457Z"
   },
   {
    "duration": 629,
    "start_time": "2023-05-18T14:18:41.743Z"
   },
   {
    "duration": 8,
    "start_time": "2023-05-18T14:18:42.373Z"
   },
   {
    "duration": 35,
    "start_time": "2023-05-18T14:18:42.382Z"
   },
   {
    "duration": 27,
    "start_time": "2023-05-18T14:18:42.418Z"
   },
   {
    "duration": 16,
    "start_time": "2023-05-18T14:18:42.447Z"
   },
   {
    "duration": 42,
    "start_time": "2023-05-18T14:18:42.466Z"
   },
   {
    "duration": 20,
    "start_time": "2023-05-18T14:18:42.509Z"
   },
   {
    "duration": 20,
    "start_time": "2023-05-18T14:18:42.531Z"
   },
   {
    "duration": 19,
    "start_time": "2023-05-18T14:18:42.553Z"
   },
   {
    "duration": 47,
    "start_time": "2023-05-18T14:18:42.574Z"
   },
   {
    "duration": 24,
    "start_time": "2023-05-18T14:18:42.622Z"
   },
   {
    "duration": 279,
    "start_time": "2023-05-18T14:18:42.647Z"
   },
   {
    "duration": 15,
    "start_time": "2023-05-18T14:18:42.928Z"
   },
   {
    "duration": 192,
    "start_time": "2023-05-18T14:18:42.944Z"
   },
   {
    "duration": 1938,
    "start_time": "2023-05-18T14:18:43.137Z"
   },
   {
    "duration": 16,
    "start_time": "2023-05-18T14:18:45.076Z"
   },
   {
    "duration": 25,
    "start_time": "2023-05-18T14:18:45.093Z"
   },
   {
    "duration": 18,
    "start_time": "2023-05-18T14:18:45.120Z"
   },
   {
    "duration": 42,
    "start_time": "2023-05-18T14:18:45.139Z"
   },
   {
    "duration": 27,
    "start_time": "2023-05-18T14:18:45.183Z"
   },
   {
    "duration": 3,
    "start_time": "2023-05-18T14:18:45.212Z"
   },
   {
    "duration": 17,
    "start_time": "2023-05-18T14:18:45.217Z"
   },
   {
    "duration": 7,
    "start_time": "2023-05-18T14:18:45.236Z"
   },
   {
    "duration": 15,
    "start_time": "2023-05-18T14:25:41.185Z"
   },
   {
    "duration": 5,
    "start_time": "2023-05-18T14:26:03.251Z"
   },
   {
    "duration": 6,
    "start_time": "2023-05-18T14:26:22.540Z"
   },
   {
    "duration": 4,
    "start_time": "2023-05-18T14:26:49.547Z"
   },
   {
    "duration": 1911,
    "start_time": "2023-05-18T14:32:36.163Z"
   },
   {
    "duration": 8,
    "start_time": "2023-05-18T14:32:44.565Z"
   },
   {
    "duration": 16,
    "start_time": "2023-05-18T14:32:49.157Z"
   },
   {
    "duration": 71,
    "start_time": "2023-05-18T15:37:14.136Z"
   },
   {
    "duration": 1494,
    "start_time": "2023-05-18T15:37:24.459Z"
   },
   {
    "duration": 229,
    "start_time": "2023-05-18T15:37:25.956Z"
   },
   {
    "duration": 3,
    "start_time": "2023-05-18T15:37:26.187Z"
   },
   {
    "duration": 74,
    "start_time": "2023-05-18T15:37:26.192Z"
   },
   {
    "duration": 4,
    "start_time": "2023-05-18T15:37:26.268Z"
   },
   {
    "duration": 7,
    "start_time": "2023-05-18T15:37:26.273Z"
   },
   {
    "duration": 9,
    "start_time": "2023-05-18T15:37:26.281Z"
   },
   {
    "duration": 66,
    "start_time": "2023-05-18T15:37:26.292Z"
   },
   {
    "duration": 18,
    "start_time": "2023-05-18T15:37:26.360Z"
   },
   {
    "duration": 11,
    "start_time": "2023-05-18T15:37:26.380Z"
   },
   {
    "duration": 13,
    "start_time": "2023-05-18T15:37:26.393Z"
   },
   {
    "duration": 32,
    "start_time": "2023-05-18T15:37:26.407Z"
   },
   {
    "duration": 35,
    "start_time": "2023-05-18T15:37:26.440Z"
   },
   {
    "duration": 9,
    "start_time": "2023-05-18T15:37:26.478Z"
   },
   {
    "duration": 10,
    "start_time": "2023-05-18T15:37:26.489Z"
   },
   {
    "duration": 27,
    "start_time": "2023-05-18T15:37:26.500Z"
   },
   {
    "duration": 20,
    "start_time": "2023-05-18T15:37:26.529Z"
   },
   {
    "duration": 12,
    "start_time": "2023-05-18T15:37:26.551Z"
   },
   {
    "duration": 5,
    "start_time": "2023-05-18T15:37:26.565Z"
   },
   {
    "duration": 14,
    "start_time": "2023-05-18T15:37:26.572Z"
   },
   {
    "duration": 12,
    "start_time": "2023-05-18T15:37:26.588Z"
   },
   {
    "duration": 12,
    "start_time": "2023-05-18T15:37:26.601Z"
   },
   {
    "duration": 66,
    "start_time": "2023-05-18T15:37:26.614Z"
   },
   {
    "duration": 11,
    "start_time": "2023-05-18T15:37:26.681Z"
   },
   {
    "duration": 7,
    "start_time": "2023-05-18T15:37:26.694Z"
   },
   {
    "duration": 194,
    "start_time": "2023-05-18T15:37:26.703Z"
   },
   {
    "duration": 8,
    "start_time": "2023-05-18T15:37:26.898Z"
   },
   {
    "duration": 51,
    "start_time": "2023-05-18T15:37:26.907Z"
   },
   {
    "duration": 88,
    "start_time": "2023-05-18T15:37:26.960Z"
   },
   {
    "duration": 5,
    "start_time": "2023-05-18T15:37:27.050Z"
   },
   {
    "duration": 9,
    "start_time": "2023-05-18T15:37:27.056Z"
   },
   {
    "duration": 272,
    "start_time": "2023-05-18T15:37:27.067Z"
   },
   {
    "duration": 249,
    "start_time": "2023-05-18T15:37:27.340Z"
   },
   {
    "duration": 14,
    "start_time": "2023-05-18T15:37:27.591Z"
   },
   {
    "duration": 385,
    "start_time": "2023-05-18T15:37:27.624Z"
   },
   {
    "duration": 24,
    "start_time": "2023-05-18T15:37:28.011Z"
   },
   {
    "duration": 323,
    "start_time": "2023-05-18T15:37:28.036Z"
   },
   {
    "duration": 320,
    "start_time": "2023-05-18T15:37:28.361Z"
   },
   {
    "duration": 42,
    "start_time": "2023-05-18T15:37:28.683Z"
   },
   {
    "duration": 319,
    "start_time": "2023-05-18T15:37:28.728Z"
   },
   {
    "duration": 15,
    "start_time": "2023-05-18T15:37:29.055Z"
   },
   {
    "duration": 22,
    "start_time": "2023-05-18T15:37:29.072Z"
   },
   {
    "duration": 14,
    "start_time": "2023-05-18T15:37:29.096Z"
   },
   {
    "duration": 19,
    "start_time": "2023-05-18T15:37:29.131Z"
   },
   {
    "duration": 47,
    "start_time": "2023-05-18T15:37:29.152Z"
   },
   {
    "duration": 43,
    "start_time": "2023-05-18T15:37:29.201Z"
   },
   {
    "duration": 21,
    "start_time": "2023-05-18T15:37:29.247Z"
   },
   {
    "duration": 317,
    "start_time": "2023-05-18T15:37:29.270Z"
   },
   {
    "duration": 785,
    "start_time": "2023-05-18T15:37:29.588Z"
   },
   {
    "duration": 6,
    "start_time": "2023-05-18T15:37:30.374Z"
   },
   {
    "duration": 62,
    "start_time": "2023-05-18T15:37:30.382Z"
   },
   {
    "duration": 52,
    "start_time": "2023-05-18T15:37:30.449Z"
   },
   {
    "duration": 56,
    "start_time": "2023-05-18T15:37:30.503Z"
   },
   {
    "duration": 88,
    "start_time": "2023-05-18T15:37:30.561Z"
   },
   {
    "duration": 34,
    "start_time": "2023-05-18T15:37:30.651Z"
   },
   {
    "duration": 61,
    "start_time": "2023-05-18T15:37:30.687Z"
   },
   {
    "duration": 39,
    "start_time": "2023-05-18T15:37:30.750Z"
   },
   {
    "duration": 89,
    "start_time": "2023-05-18T15:37:30.792Z"
   },
   {
    "duration": 68,
    "start_time": "2023-05-18T15:37:30.882Z"
   },
   {
    "duration": 440,
    "start_time": "2023-05-18T15:37:30.953Z"
   },
   {
    "duration": 40,
    "start_time": "2023-05-18T15:37:31.395Z"
   },
   {
    "duration": 316,
    "start_time": "2023-05-18T15:37:31.437Z"
   },
   {
    "duration": 2380,
    "start_time": "2023-05-18T15:37:31.755Z"
   },
   {
    "duration": 24,
    "start_time": "2023-05-18T15:37:34.137Z"
   },
   {
    "duration": 17,
    "start_time": "2023-05-18T15:37:34.163Z"
   },
   {
    "duration": 16,
    "start_time": "2023-05-18T15:37:34.182Z"
   },
   {
    "duration": 66,
    "start_time": "2023-05-18T15:37:34.220Z"
   },
   {
    "duration": 8,
    "start_time": "2023-05-18T15:37:34.288Z"
   },
   {
    "duration": 3,
    "start_time": "2023-05-18T15:37:34.298Z"
   },
   {
    "duration": 32,
    "start_time": "2023-05-18T15:37:34.303Z"
   },
   {
    "duration": 9,
    "start_time": "2023-05-18T15:37:34.344Z"
   },
   {
    "duration": 1278,
    "start_time": "2023-05-20T08:46:05.192Z"
   },
   {
    "duration": 200,
    "start_time": "2023-05-20T08:46:06.472Z"
   },
   {
    "duration": 3,
    "start_time": "2023-05-20T08:46:06.674Z"
   },
   {
    "duration": 43,
    "start_time": "2023-05-20T08:46:06.679Z"
   },
   {
    "duration": 4,
    "start_time": "2023-05-20T08:46:06.723Z"
   },
   {
    "duration": 13,
    "start_time": "2023-05-20T08:46:06.729Z"
   },
   {
    "duration": 7,
    "start_time": "2023-05-20T08:46:06.743Z"
   },
   {
    "duration": 47,
    "start_time": "2023-05-20T08:46:06.751Z"
   },
   {
    "duration": 15,
    "start_time": "2023-05-20T08:46:06.800Z"
   },
   {
    "duration": 9,
    "start_time": "2023-05-20T08:46:06.818Z"
   },
   {
    "duration": 4,
    "start_time": "2023-05-20T08:46:06.829Z"
   },
   {
    "duration": 14,
    "start_time": "2023-05-20T08:46:06.835Z"
   },
   {
    "duration": 60,
    "start_time": "2023-05-20T08:46:06.850Z"
   },
   {
    "duration": 8,
    "start_time": "2023-05-20T08:46:06.912Z"
   },
   {
    "duration": 4,
    "start_time": "2023-05-20T08:46:06.921Z"
   },
   {
    "duration": 7,
    "start_time": "2023-05-20T08:46:06.927Z"
   },
   {
    "duration": 9,
    "start_time": "2023-05-20T08:46:06.936Z"
   },
   {
    "duration": 43,
    "start_time": "2023-05-20T08:46:06.946Z"
   },
   {
    "duration": 5,
    "start_time": "2023-05-20T08:46:06.990Z"
   },
   {
    "duration": 8,
    "start_time": "2023-05-20T08:46:06.996Z"
   },
   {
    "duration": 10,
    "start_time": "2023-05-20T08:46:07.006Z"
   },
   {
    "duration": 11,
    "start_time": "2023-05-20T08:46:07.018Z"
   },
   {
    "duration": 23,
    "start_time": "2023-05-20T08:46:07.031Z"
   },
   {
    "duration": 35,
    "start_time": "2023-05-20T08:46:07.055Z"
   },
   {
    "duration": 4,
    "start_time": "2023-05-20T08:46:07.092Z"
   },
   {
    "duration": 153,
    "start_time": "2023-05-20T08:46:07.097Z"
   },
   {
    "duration": 6,
    "start_time": "2023-05-20T08:46:07.251Z"
   },
   {
    "duration": 11,
    "start_time": "2023-05-20T08:46:07.261Z"
   },
   {
    "duration": 68,
    "start_time": "2023-05-20T08:46:07.285Z"
   },
   {
    "duration": 3,
    "start_time": "2023-05-20T08:46:07.355Z"
   },
   {
    "duration": 25,
    "start_time": "2023-05-20T08:46:07.359Z"
   },
   {
    "duration": 206,
    "start_time": "2023-05-20T08:46:07.386Z"
   },
   {
    "duration": 204,
    "start_time": "2023-05-20T08:46:07.594Z"
   },
   {
    "duration": 10,
    "start_time": "2023-05-20T08:46:07.800Z"
   },
   {
    "duration": 310,
    "start_time": "2023-05-20T08:46:07.811Z"
   },
   {
    "duration": 5,
    "start_time": "2023-05-20T08:46:08.123Z"
   },
   {
    "duration": 244,
    "start_time": "2023-05-20T08:46:08.130Z"
   },
   {
    "duration": 254,
    "start_time": "2023-05-20T08:46:08.376Z"
   },
   {
    "duration": 17,
    "start_time": "2023-05-20T08:46:08.632Z"
   },
   {
    "duration": 282,
    "start_time": "2023-05-20T08:46:08.651Z"
   },
   {
    "duration": 13,
    "start_time": "2023-05-20T08:46:08.934Z"
   },
   {
    "duration": 15,
    "start_time": "2023-05-20T08:46:08.948Z"
   },
   {
    "duration": 24,
    "start_time": "2023-05-20T08:46:08.964Z"
   },
   {
    "duration": 9,
    "start_time": "2023-05-20T08:46:08.990Z"
   },
   {
    "duration": 27,
    "start_time": "2023-05-20T08:46:09.001Z"
   },
   {
    "duration": 17,
    "start_time": "2023-05-20T08:46:09.029Z"
   },
   {
    "duration": 32,
    "start_time": "2023-05-20T08:46:09.047Z"
   },
   {
    "duration": 253,
    "start_time": "2023-05-20T08:46:09.080Z"
   },
   {
    "duration": 605,
    "start_time": "2023-05-20T08:46:09.334Z"
   },
   {
    "duration": 5,
    "start_time": "2023-05-20T08:46:09.940Z"
   },
   {
    "duration": 19,
    "start_time": "2023-05-20T08:46:09.946Z"
   },
   {
    "duration": 34,
    "start_time": "2023-05-20T08:46:09.967Z"
   },
   {
    "duration": 14,
    "start_time": "2023-05-20T08:46:10.002Z"
   },
   {
    "duration": 14,
    "start_time": "2023-05-20T08:46:10.018Z"
   },
   {
    "duration": 17,
    "start_time": "2023-05-20T08:46:10.033Z"
   },
   {
    "duration": 44,
    "start_time": "2023-05-20T08:46:10.052Z"
   },
   {
    "duration": 14,
    "start_time": "2023-05-20T08:46:10.098Z"
   },
   {
    "duration": 16,
    "start_time": "2023-05-20T08:46:10.114Z"
   },
   {
    "duration": 26,
    "start_time": "2023-05-20T08:46:10.132Z"
   },
   {
    "duration": 311,
    "start_time": "2023-05-20T08:46:10.160Z"
   },
   {
    "duration": 23,
    "start_time": "2023-05-20T08:46:10.472Z"
   },
   {
    "duration": 180,
    "start_time": "2023-05-20T08:46:10.496Z"
   },
   {
    "duration": 1892,
    "start_time": "2023-05-20T08:46:10.678Z"
   },
   {
    "duration": 22,
    "start_time": "2023-05-20T08:46:12.572Z"
   },
   {
    "duration": 42,
    "start_time": "2023-05-20T08:46:12.596Z"
   },
   {
    "duration": 50,
    "start_time": "2023-05-20T08:46:12.640Z"
   },
   {
    "duration": 56,
    "start_time": "2023-05-20T08:46:12.692Z"
   },
   {
    "duration": 7,
    "start_time": "2023-05-20T08:46:12.749Z"
   },
   {
    "duration": 3,
    "start_time": "2023-05-20T08:46:12.757Z"
   },
   {
    "duration": 14,
    "start_time": "2023-05-20T08:46:12.761Z"
   },
   {
    "duration": 20,
    "start_time": "2023-05-20T08:46:12.776Z"
   },
   {
    "duration": 109,
    "start_time": "2023-05-20T12:12:11.484Z"
   },
   {
    "duration": 13,
    "start_time": "2023-05-20T12:12:30.895Z"
   },
   {
    "duration": 944,
    "start_time": "2023-05-20T12:12:48.185Z"
   },
   {
    "duration": 898,
    "start_time": "2023-05-20T12:13:12.513Z"
   },
   {
    "duration": 927,
    "start_time": "2023-05-20T12:13:41.608Z"
   },
   {
    "duration": 855,
    "start_time": "2023-05-20T12:13:58.904Z"
   },
   {
    "duration": 839,
    "start_time": "2023-05-20T12:14:17.708Z"
   },
   {
    "duration": 849,
    "start_time": "2023-05-20T12:14:29.772Z"
   },
   {
    "duration": 42,
    "start_time": "2023-05-20T12:15:25.758Z"
   },
   {
    "duration": 41,
    "start_time": "2023-05-20T12:15:45.208Z"
   },
   {
    "duration": 279,
    "start_time": "2023-05-20T12:24:07.096Z"
   },
   {
    "duration": 1910,
    "start_time": "2023-05-20T12:24:46.796Z"
   },
   {
    "duration": 42,
    "start_time": "2023-05-20T12:28:15.840Z"
   },
   {
    "duration": 43,
    "start_time": "2023-05-20T12:29:49.713Z"
   },
   {
    "duration": 39,
    "start_time": "2023-05-20T12:30:00.408Z"
   },
   {
    "duration": 10,
    "start_time": "2023-05-20T12:30:36.787Z"
   },
   {
    "duration": 8,
    "start_time": "2023-05-20T12:32:35.712Z"
   },
   {
    "duration": 43,
    "start_time": "2023-05-20T12:46:01.767Z"
   },
   {
    "duration": 7,
    "start_time": "2023-05-20T12:49:15.107Z"
   },
   {
    "duration": 4,
    "start_time": "2023-05-20T12:49:19.131Z"
   },
   {
    "duration": 1234,
    "start_time": "2023-05-20T13:00:28.232Z"
   },
   {
    "duration": 69,
    "start_time": "2023-05-20T13:00:29.467Z"
   },
   {
    "duration": 3,
    "start_time": "2023-05-20T13:00:29.537Z"
   },
   {
    "duration": 52,
    "start_time": "2023-05-20T13:00:29.542Z"
   },
   {
    "duration": 5,
    "start_time": "2023-05-20T13:00:29.596Z"
   },
   {
    "duration": 6,
    "start_time": "2023-05-20T13:00:29.603Z"
   },
   {
    "duration": 5,
    "start_time": "2023-05-20T13:00:29.611Z"
   },
   {
    "duration": 45,
    "start_time": "2023-05-20T13:00:29.617Z"
   },
   {
    "duration": 16,
    "start_time": "2023-05-20T13:00:29.685Z"
   },
   {
    "duration": 12,
    "start_time": "2023-05-20T13:00:29.705Z"
   },
   {
    "duration": 4,
    "start_time": "2023-05-20T13:00:29.719Z"
   },
   {
    "duration": 27,
    "start_time": "2023-05-20T13:00:29.724Z"
   },
   {
    "duration": 50,
    "start_time": "2023-05-20T13:00:29.752Z"
   },
   {
    "duration": 8,
    "start_time": "2023-05-20T13:00:29.803Z"
   },
   {
    "duration": 7,
    "start_time": "2023-05-20T13:00:29.813Z"
   },
   {
    "duration": 12,
    "start_time": "2023-05-20T13:00:29.821Z"
   },
   {
    "duration": 9,
    "start_time": "2023-05-20T13:00:29.834Z"
   },
   {
    "duration": 9,
    "start_time": "2023-05-20T13:00:29.844Z"
   },
   {
    "duration": 5,
    "start_time": "2023-05-20T13:00:29.886Z"
   },
   {
    "duration": 11,
    "start_time": "2023-05-20T13:00:29.893Z"
   },
   {
    "duration": 14,
    "start_time": "2023-05-20T13:00:29.905Z"
   },
   {
    "duration": 14,
    "start_time": "2023-05-20T13:00:29.920Z"
   },
   {
    "duration": 30,
    "start_time": "2023-05-20T13:00:29.935Z"
   },
   {
    "duration": 11,
    "start_time": "2023-05-20T13:00:29.985Z"
   },
   {
    "duration": 7,
    "start_time": "2023-05-20T13:00:29.997Z"
   },
   {
    "duration": 169,
    "start_time": "2023-05-20T13:00:30.005Z"
   },
   {
    "duration": 12,
    "start_time": "2023-05-20T13:00:30.176Z"
   },
   {
    "duration": 36,
    "start_time": "2023-05-20T13:00:30.191Z"
   },
   {
    "duration": 118,
    "start_time": "2023-05-20T13:00:30.229Z"
   },
   {
    "duration": 4,
    "start_time": "2023-05-20T13:00:30.349Z"
   },
   {
    "duration": 51,
    "start_time": "2023-05-20T13:00:30.355Z"
   },
   {
    "duration": 237,
    "start_time": "2023-05-20T13:00:30.408Z"
   },
   {
    "duration": 193,
    "start_time": "2023-05-20T13:00:30.646Z"
   },
   {
    "duration": 11,
    "start_time": "2023-05-20T13:00:30.841Z"
   },
   {
    "duration": 353,
    "start_time": "2023-05-20T13:00:30.853Z"
   },
   {
    "duration": 5,
    "start_time": "2023-05-20T13:00:31.208Z"
   },
   {
    "duration": 285,
    "start_time": "2023-05-20T13:00:31.214Z"
   },
   {
    "duration": 263,
    "start_time": "2023-05-20T13:00:31.500Z"
   },
   {
    "duration": 26,
    "start_time": "2023-05-20T13:00:31.764Z"
   },
   {
    "duration": 275,
    "start_time": "2023-05-20T13:00:31.792Z"
   },
   {
    "duration": 19,
    "start_time": "2023-05-20T13:00:32.068Z"
   },
   {
    "duration": 15,
    "start_time": "2023-05-20T13:00:32.089Z"
   },
   {
    "duration": 12,
    "start_time": "2023-05-20T13:00:32.105Z"
   },
   {
    "duration": 7,
    "start_time": "2023-05-20T13:00:32.118Z"
   },
   {
    "duration": 31,
    "start_time": "2023-05-20T13:00:32.127Z"
   },
   {
    "duration": 38,
    "start_time": "2023-05-20T13:00:32.159Z"
   },
   {
    "duration": 20,
    "start_time": "2023-05-20T13:00:32.198Z"
   },
   {
    "duration": 278,
    "start_time": "2023-05-20T13:00:32.220Z"
   },
   {
    "duration": 623,
    "start_time": "2023-05-20T13:00:32.499Z"
   },
   {
    "duration": 6,
    "start_time": "2023-05-20T13:00:33.124Z"
   },
   {
    "duration": 19,
    "start_time": "2023-05-20T13:00:33.131Z"
   },
   {
    "duration": 37,
    "start_time": "2023-05-20T13:00:33.152Z"
   },
   {
    "duration": 13,
    "start_time": "2023-05-20T13:00:33.191Z"
   },
   {
    "duration": 13,
    "start_time": "2023-05-20T13:00:33.206Z"
   },
   {
    "duration": 14,
    "start_time": "2023-05-20T13:00:33.220Z"
   },
   {
    "duration": 15,
    "start_time": "2023-05-20T13:00:33.235Z"
   },
   {
    "duration": 40,
    "start_time": "2023-05-20T13:00:33.251Z"
   },
   {
    "duration": 15,
    "start_time": "2023-05-20T13:00:33.292Z"
   },
   {
    "duration": 22,
    "start_time": "2023-05-20T13:00:33.308Z"
   },
   {
    "duration": 297,
    "start_time": "2023-05-20T13:00:33.331Z"
   },
   {
    "duration": 18,
    "start_time": "2023-05-20T13:00:33.629Z"
   },
   {
    "duration": 195,
    "start_time": "2023-05-20T13:00:33.648Z"
   },
   {
    "duration": 1838,
    "start_time": "2023-05-20T13:00:33.844Z"
   },
   {
    "duration": 14,
    "start_time": "2023-05-20T13:00:35.684Z"
   },
   {
    "duration": 12,
    "start_time": "2023-05-20T13:00:35.699Z"
   },
   {
    "duration": 14,
    "start_time": "2023-05-20T13:00:35.713Z"
   },
   {
    "duration": 61,
    "start_time": "2023-05-20T13:00:35.729Z"
   },
   {
    "duration": 7,
    "start_time": "2023-05-20T13:00:35.791Z"
   },
   {
    "duration": 3,
    "start_time": "2023-05-20T13:00:35.799Z"
   },
   {
    "duration": 10,
    "start_time": "2023-05-20T13:00:35.803Z"
   },
   {
    "duration": 11,
    "start_time": "2023-05-20T13:00:35.814Z"
   },
   {
    "duration": 1254,
    "start_time": "2023-05-21T09:42:43.564Z"
   },
   {
    "duration": 65,
    "start_time": "2023-05-21T09:42:44.820Z"
   },
   {
    "duration": 3,
    "start_time": "2023-05-21T09:42:44.886Z"
   },
   {
    "duration": 41,
    "start_time": "2023-05-21T09:42:44.892Z"
   },
   {
    "duration": 5,
    "start_time": "2023-05-21T09:42:44.935Z"
   },
   {
    "duration": 5,
    "start_time": "2023-05-21T09:42:44.942Z"
   },
   {
    "duration": 26,
    "start_time": "2023-05-21T09:42:44.949Z"
   },
   {
    "duration": 43,
    "start_time": "2023-05-21T09:42:44.977Z"
   },
   {
    "duration": 17,
    "start_time": "2023-05-21T09:42:45.022Z"
   },
   {
    "duration": 18,
    "start_time": "2023-05-21T09:42:45.042Z"
   },
   {
    "duration": 40,
    "start_time": "2023-05-21T09:42:45.061Z"
   },
   {
    "duration": 16,
    "start_time": "2023-05-21T09:42:45.102Z"
   },
   {
    "duration": 36,
    "start_time": "2023-05-21T09:42:45.120Z"
   },
   {
    "duration": 7,
    "start_time": "2023-05-21T09:42:45.158Z"
   },
   {
    "duration": 5,
    "start_time": "2023-05-21T09:42:45.166Z"
   },
   {
    "duration": 28,
    "start_time": "2023-05-21T09:42:45.173Z"
   },
   {
    "duration": 13,
    "start_time": "2023-05-21T09:42:45.202Z"
   },
   {
    "duration": 23,
    "start_time": "2023-05-21T09:42:45.216Z"
   },
   {
    "duration": 4,
    "start_time": "2023-05-21T09:42:45.241Z"
   },
   {
    "duration": 11,
    "start_time": "2023-05-21T09:42:45.246Z"
   },
   {
    "duration": 12,
    "start_time": "2023-05-21T09:42:45.258Z"
   },
   {
    "duration": 6,
    "start_time": "2023-05-21T09:42:45.271Z"
   },
   {
    "duration": 40,
    "start_time": "2023-05-21T09:42:45.278Z"
   },
   {
    "duration": 9,
    "start_time": "2023-05-21T09:42:45.320Z"
   },
   {
    "duration": 4,
    "start_time": "2023-05-21T09:42:45.331Z"
   },
   {
    "duration": 204,
    "start_time": "2023-05-21T09:42:45.337Z"
   },
   {
    "duration": 6,
    "start_time": "2023-05-21T09:42:45.543Z"
   },
   {
    "duration": 8,
    "start_time": "2023-05-21T09:42:45.552Z"
   },
   {
    "duration": 96,
    "start_time": "2023-05-21T09:42:45.561Z"
   },
   {
    "duration": 4,
    "start_time": "2023-05-21T09:42:45.659Z"
   },
   {
    "duration": 14,
    "start_time": "2023-05-21T09:42:45.664Z"
   },
   {
    "duration": 254,
    "start_time": "2023-05-21T09:42:45.679Z"
   },
   {
    "duration": 225,
    "start_time": "2023-05-21T09:42:45.935Z"
   },
   {
    "duration": 12,
    "start_time": "2023-05-21T09:42:46.161Z"
   },
   {
    "duration": 392,
    "start_time": "2023-05-21T09:42:46.175Z"
   },
   {
    "duration": 6,
    "start_time": "2023-05-21T09:42:46.569Z"
   },
   {
    "duration": 355,
    "start_time": "2023-05-21T09:42:46.577Z"
   },
   {
    "duration": 314,
    "start_time": "2023-05-21T09:42:46.934Z"
   },
   {
    "duration": 22,
    "start_time": "2023-05-21T09:42:47.250Z"
   },
   {
    "duration": 314,
    "start_time": "2023-05-21T09:42:47.273Z"
   },
   {
    "duration": 19,
    "start_time": "2023-05-21T09:42:47.588Z"
   },
   {
    "duration": 18,
    "start_time": "2023-05-21T09:42:47.609Z"
   },
   {
    "duration": 12,
    "start_time": "2023-05-21T09:42:47.629Z"
   },
   {
    "duration": 6,
    "start_time": "2023-05-21T09:42:47.643Z"
   },
   {
    "duration": 62,
    "start_time": "2023-05-21T09:42:47.651Z"
   },
   {
    "duration": 20,
    "start_time": "2023-05-21T09:42:47.715Z"
   },
   {
    "duration": 21,
    "start_time": "2023-05-21T09:42:47.737Z"
   },
   {
    "duration": 313,
    "start_time": "2023-05-21T09:42:47.760Z"
   },
   {
    "duration": 708,
    "start_time": "2023-05-21T09:42:48.075Z"
   },
   {
    "duration": 12,
    "start_time": "2023-05-21T09:42:48.785Z"
   },
   {
    "duration": 25,
    "start_time": "2023-05-21T09:42:48.799Z"
   },
   {
    "duration": 22,
    "start_time": "2023-05-21T09:42:48.826Z"
   },
   {
    "duration": 14,
    "start_time": "2023-05-21T09:42:48.850Z"
   },
   {
    "duration": 40,
    "start_time": "2023-05-21T09:42:48.866Z"
   },
   {
    "duration": 18,
    "start_time": "2023-05-21T09:42:48.907Z"
   },
   {
    "duration": 17,
    "start_time": "2023-05-21T09:42:48.926Z"
   },
   {
    "duration": 16,
    "start_time": "2023-05-21T09:42:48.945Z"
   },
   {
    "duration": 47,
    "start_time": "2023-05-21T09:42:48.962Z"
   },
   {
    "duration": 26,
    "start_time": "2023-05-21T09:42:49.010Z"
   },
   {
    "duration": 298,
    "start_time": "2023-05-21T09:42:49.037Z"
   },
   {
    "duration": 17,
    "start_time": "2023-05-21T09:42:49.337Z"
   },
   {
    "duration": 222,
    "start_time": "2023-05-21T09:42:49.355Z"
   },
   {
    "duration": 2101,
    "start_time": "2023-05-21T09:42:49.580Z"
   },
   {
    "duration": 25,
    "start_time": "2023-05-21T09:42:51.683Z"
   },
   {
    "duration": 15,
    "start_time": "2023-05-21T09:42:51.709Z"
   },
   {
    "duration": 22,
    "start_time": "2023-05-21T09:42:51.726Z"
   },
   {
    "duration": 56,
    "start_time": "2023-05-21T09:42:51.750Z"
   },
   {
    "duration": 8,
    "start_time": "2023-05-21T09:42:51.807Z"
   },
   {
    "duration": 6,
    "start_time": "2023-05-21T09:42:51.817Z"
   },
   {
    "duration": 17,
    "start_time": "2023-05-21T09:42:51.824Z"
   },
   {
    "duration": 26,
    "start_time": "2023-05-21T09:42:51.842Z"
   },
   {
    "duration": 5,
    "start_time": "2023-05-21T09:53:50.596Z"
   },
   {
    "duration": 6,
    "start_time": "2023-05-21T09:54:09.488Z"
   },
   {
    "duration": 27,
    "start_time": "2023-05-21T11:03:34.683Z"
   },
   {
    "duration": 224,
    "start_time": "2023-05-21T11:04:07.376Z"
   },
   {
    "duration": 1329,
    "start_time": "2023-05-21T11:08:06.054Z"
   },
   {
    "duration": 20,
    "start_time": "2023-05-21T11:08:18.004Z"
   },
   {
    "duration": 11,
    "start_time": "2023-05-21T11:08:28.484Z"
   },
   {
    "duration": 46,
    "start_time": "2023-05-22T06:56:17.633Z"
   },
   {
    "duration": 1362,
    "start_time": "2023-05-22T06:56:40.832Z"
   },
   {
    "duration": 195,
    "start_time": "2023-05-22T06:56:42.198Z"
   },
   {
    "duration": 4,
    "start_time": "2023-05-22T06:56:42.394Z"
   },
   {
    "duration": 58,
    "start_time": "2023-05-22T06:56:42.400Z"
   },
   {
    "duration": 3,
    "start_time": "2023-05-22T06:56:42.460Z"
   },
   {
    "duration": 7,
    "start_time": "2023-05-22T06:56:42.465Z"
   },
   {
    "duration": 10,
    "start_time": "2023-05-22T06:56:42.474Z"
   },
   {
    "duration": 48,
    "start_time": "2023-05-22T06:56:42.485Z"
   },
   {
    "duration": 16,
    "start_time": "2023-05-22T06:56:42.535Z"
   },
   {
    "duration": 10,
    "start_time": "2023-05-22T06:56:42.552Z"
   },
   {
    "duration": 33,
    "start_time": "2023-05-22T06:56:42.564Z"
   },
   {
    "duration": 18,
    "start_time": "2023-05-22T06:56:42.598Z"
   },
   {
    "duration": 28,
    "start_time": "2023-05-22T06:56:42.618Z"
   },
   {
    "duration": 8,
    "start_time": "2023-05-22T06:56:42.648Z"
   },
   {
    "duration": 4,
    "start_time": "2023-05-22T06:56:42.657Z"
   },
   {
    "duration": 40,
    "start_time": "2023-05-22T06:56:42.662Z"
   },
   {
    "duration": 22,
    "start_time": "2023-05-22T06:56:42.704Z"
   },
   {
    "duration": 8,
    "start_time": "2023-05-22T06:56:42.727Z"
   },
   {
    "duration": 6,
    "start_time": "2023-05-22T06:56:42.736Z"
   },
   {
    "duration": 15,
    "start_time": "2023-05-22T06:56:42.743Z"
   },
   {
    "duration": 12,
    "start_time": "2023-05-22T06:56:42.759Z"
   },
   {
    "duration": 6,
    "start_time": "2023-05-22T06:56:42.772Z"
   },
   {
    "duration": 53,
    "start_time": "2023-05-22T06:56:42.779Z"
   },
   {
    "duration": 12,
    "start_time": "2023-05-22T06:56:42.834Z"
   },
   {
    "duration": 10,
    "start_time": "2023-05-22T06:56:42.848Z"
   },
   {
    "duration": 193,
    "start_time": "2023-05-22T06:56:42.860Z"
   },
   {
    "duration": 8,
    "start_time": "2023-05-22T06:56:43.055Z"
   },
   {
    "duration": 14,
    "start_time": "2023-05-22T06:56:43.065Z"
   },
   {
    "duration": 87,
    "start_time": "2023-05-22T06:56:43.080Z"
   },
   {
    "duration": 4,
    "start_time": "2023-05-22T06:56:43.168Z"
   },
   {
    "duration": 25,
    "start_time": "2023-05-22T06:56:43.173Z"
   },
   {
    "duration": 282,
    "start_time": "2023-05-22T06:56:43.201Z"
   },
   {
    "duration": 223,
    "start_time": "2023-05-22T06:56:43.485Z"
   },
   {
    "duration": 16,
    "start_time": "2023-05-22T06:56:43.710Z"
   },
   {
    "duration": 405,
    "start_time": "2023-05-22T06:56:43.728Z"
   },
   {
    "duration": 4,
    "start_time": "2023-05-22T06:56:44.135Z"
   },
   {
    "duration": 282,
    "start_time": "2023-05-22T06:56:44.141Z"
   },
   {
    "duration": 309,
    "start_time": "2023-05-22T06:56:44.425Z"
   },
   {
    "duration": 20,
    "start_time": "2023-05-22T06:56:44.735Z"
   },
   {
    "duration": 310,
    "start_time": "2023-05-22T06:56:44.757Z"
   },
   {
    "duration": 14,
    "start_time": "2023-05-22T06:56:45.071Z"
   },
   {
    "duration": 21,
    "start_time": "2023-05-22T06:56:45.097Z"
   },
   {
    "duration": 11,
    "start_time": "2023-05-22T06:56:45.119Z"
   },
   {
    "duration": 7,
    "start_time": "2023-05-22T06:56:45.132Z"
   },
   {
    "duration": 36,
    "start_time": "2023-05-22T06:56:45.140Z"
   },
   {
    "duration": 40,
    "start_time": "2023-05-22T06:56:45.178Z"
   },
   {
    "duration": 20,
    "start_time": "2023-05-22T06:56:45.219Z"
   },
   {
    "duration": 346,
    "start_time": "2023-05-22T06:56:45.241Z"
   },
   {
    "duration": 1111,
    "start_time": "2023-05-22T06:56:45.598Z"
   },
   {
    "duration": 15,
    "start_time": "2023-05-22T06:56:46.713Z"
   },
   {
    "duration": 88,
    "start_time": "2023-05-22T06:56:46.731Z"
   },
   {
    "duration": 93,
    "start_time": "2023-05-22T06:56:46.823Z"
   },
   {
    "duration": 26,
    "start_time": "2023-05-22T06:56:46.919Z"
   },
   {
    "duration": 31,
    "start_time": "2023-05-22T06:56:46.996Z"
   },
   {
    "duration": 81,
    "start_time": "2023-05-22T06:56:47.031Z"
   },
   {
    "duration": 30,
    "start_time": "2023-05-22T06:56:47.115Z"
   },
   {
    "duration": 27,
    "start_time": "2023-05-22T06:56:47.198Z"
   },
   {
    "duration": 74,
    "start_time": "2023-05-22T06:56:47.226Z"
   },
   {
    "duration": 34,
    "start_time": "2023-05-22T06:56:47.302Z"
   },
   {
    "duration": 890,
    "start_time": "2023-05-22T06:56:47.337Z"
   },
   {
    "duration": 75,
    "start_time": "2023-05-22T06:56:48.229Z"
   },
   {
    "duration": 393,
    "start_time": "2023-05-22T06:56:48.306Z"
   },
   {
    "duration": 2775,
    "start_time": "2023-05-22T06:56:48.701Z"
   },
   {
    "duration": 30,
    "start_time": "2023-05-22T06:56:51.478Z"
   },
   {
    "duration": 22,
    "start_time": "2023-05-22T06:56:51.511Z"
   },
   {
    "duration": 21,
    "start_time": "2023-05-22T06:56:51.535Z"
   },
   {
    "duration": 80,
    "start_time": "2023-05-22T06:56:51.558Z"
   },
   {
    "duration": 1670,
    "start_time": "2023-05-22T06:56:51.640Z"
   },
   {
    "duration": 0,
    "start_time": "2023-05-22T06:56:53.312Z"
   },
   {
    "duration": 0,
    "start_time": "2023-05-22T06:56:53.314Z"
   },
   {
    "duration": 0,
    "start_time": "2023-05-22T06:56:53.318Z"
   },
   {
    "duration": 25,
    "start_time": "2023-05-22T06:57:15.992Z"
   },
   {
    "duration": 4,
    "start_time": "2023-05-22T06:57:25.274Z"
   },
   {
    "duration": 11,
    "start_time": "2023-05-22T07:22:42.627Z"
   },
   {
    "duration": 1140,
    "start_time": "2023-05-22T07:35:55.914Z"
   },
   {
    "duration": 853,
    "start_time": "2023-05-22T07:37:08.989Z"
   },
   {
    "duration": 52,
    "start_time": "2023-05-22T07:37:46.251Z"
   },
   {
    "duration": 987,
    "start_time": "2023-05-22T07:37:52.607Z"
   },
   {
    "duration": 64,
    "start_time": "2023-05-22T11:27:03.111Z"
   },
   {
    "duration": 1644,
    "start_time": "2023-05-22T11:27:06.548Z"
   },
   {
    "duration": 1831,
    "start_time": "2023-05-22T11:27:17.563Z"
   },
   {
    "duration": 99,
    "start_time": "2023-05-22T11:27:36.167Z"
   },
   {
    "duration": 103,
    "start_time": "2023-05-22T11:28:29.751Z"
   },
   {
    "duration": 286,
    "start_time": "2023-05-22T11:29:08.186Z"
   },
   {
    "duration": 250,
    "start_time": "2023-05-22T11:30:10.542Z"
   },
   {
    "duration": 247,
    "start_time": "2023-05-22T11:30:40.134Z"
   },
   {
    "duration": 1627,
    "start_time": "2023-05-22T11:32:10.162Z"
   },
   {
    "duration": 173,
    "start_time": "2023-05-22T11:32:11.791Z"
   },
   {
    "duration": 3,
    "start_time": "2023-05-22T11:32:11.966Z"
   },
   {
    "duration": 67,
    "start_time": "2023-05-22T11:32:11.971Z"
   },
   {
    "duration": 5,
    "start_time": "2023-05-22T11:32:12.040Z"
   },
   {
    "duration": 9,
    "start_time": "2023-05-22T11:32:12.047Z"
   },
   {
    "duration": 5,
    "start_time": "2023-05-22T11:32:12.058Z"
   },
   {
    "duration": 84,
    "start_time": "2023-05-22T11:32:12.065Z"
   },
   {
    "duration": 21,
    "start_time": "2023-05-22T11:32:12.151Z"
   },
   {
    "duration": 47,
    "start_time": "2023-05-22T11:32:12.174Z"
   },
   {
    "duration": 13,
    "start_time": "2023-05-22T11:32:12.224Z"
   },
   {
    "duration": 18,
    "start_time": "2023-05-22T11:32:12.239Z"
   },
   {
    "duration": 66,
    "start_time": "2023-05-22T11:32:12.259Z"
   },
   {
    "duration": 11,
    "start_time": "2023-05-22T11:32:12.329Z"
   },
   {
    "duration": 5,
    "start_time": "2023-05-22T11:32:12.342Z"
   },
   {
    "duration": 8,
    "start_time": "2023-05-22T11:32:12.349Z"
   },
   {
    "duration": 48,
    "start_time": "2023-05-22T11:32:12.358Z"
   },
   {
    "duration": 25,
    "start_time": "2023-05-22T11:32:12.407Z"
   },
   {
    "duration": 6,
    "start_time": "2023-05-22T11:32:12.434Z"
   },
   {
    "duration": 11,
    "start_time": "2023-05-22T11:32:12.441Z"
   },
   {
    "duration": 13,
    "start_time": "2023-05-22T11:32:12.454Z"
   },
   {
    "duration": 9,
    "start_time": "2023-05-22T11:32:12.469Z"
   },
   {
    "duration": 43,
    "start_time": "2023-05-22T11:32:12.499Z"
   },
   {
    "duration": 13,
    "start_time": "2023-05-22T11:32:12.544Z"
   },
   {
    "duration": 6,
    "start_time": "2023-05-22T11:32:12.559Z"
   },
   {
    "duration": 261,
    "start_time": "2023-05-22T11:32:12.566Z"
   },
   {
    "duration": 9,
    "start_time": "2023-05-22T11:32:12.829Z"
   },
   {
    "duration": 8,
    "start_time": "2023-05-22T11:32:12.840Z"
   },
   {
    "duration": 127,
    "start_time": "2023-05-22T11:32:12.850Z"
   },
   {
    "duration": 5,
    "start_time": "2023-05-22T11:32:12.979Z"
   },
   {
    "duration": 49,
    "start_time": "2023-05-22T11:32:12.998Z"
   },
   {
    "duration": 325,
    "start_time": "2023-05-22T11:32:13.049Z"
   },
   {
    "duration": 299,
    "start_time": "2023-05-22T11:32:13.376Z"
   },
   {
    "duration": 36,
    "start_time": "2023-05-22T11:32:13.677Z"
   },
   {
    "duration": 529,
    "start_time": "2023-05-22T11:32:13.715Z"
   },
   {
    "duration": 6,
    "start_time": "2023-05-22T11:32:14.246Z"
   },
   {
    "duration": 410,
    "start_time": "2023-05-22T11:32:14.254Z"
   },
   {
    "duration": 385,
    "start_time": "2023-05-22T11:32:14.666Z"
   },
   {
    "duration": 25,
    "start_time": "2023-05-22T11:32:15.053Z"
   },
   {
    "duration": 421,
    "start_time": "2023-05-22T11:32:15.080Z"
   },
   {
    "duration": 23,
    "start_time": "2023-05-22T11:32:15.510Z"
   },
   {
    "duration": 28,
    "start_time": "2023-05-22T11:32:15.535Z"
   },
   {
    "duration": 14,
    "start_time": "2023-05-22T11:32:15.565Z"
   },
   {
    "duration": 45,
    "start_time": "2023-05-22T11:32:15.580Z"
   },
   {
    "duration": 46,
    "start_time": "2023-05-22T11:32:15.627Z"
   },
   {
    "duration": 24,
    "start_time": "2023-05-22T11:32:15.675Z"
   },
   {
    "duration": 45,
    "start_time": "2023-05-22T11:32:15.702Z"
   },
   {
    "duration": 428,
    "start_time": "2023-05-22T11:32:15.750Z"
   },
   {
    "duration": 1117,
    "start_time": "2023-05-22T11:32:16.182Z"
   },
   {
    "duration": 18,
    "start_time": "2023-05-22T11:32:17.302Z"
   },
   {
    "duration": 39,
    "start_time": "2023-05-22T11:32:17.323Z"
   },
   {
    "duration": 37,
    "start_time": "2023-05-22T11:32:17.364Z"
   },
   {
    "duration": 35,
    "start_time": "2023-05-22T11:32:17.406Z"
   },
   {
    "duration": 21,
    "start_time": "2023-05-22T11:32:17.443Z"
   },
   {
    "duration": 41,
    "start_time": "2023-05-22T11:32:17.465Z"
   },
   {
    "duration": 29,
    "start_time": "2023-05-22T11:32:17.508Z"
   },
   {
    "duration": 21,
    "start_time": "2023-05-22T11:32:17.539Z"
   },
   {
    "duration": 55,
    "start_time": "2023-05-22T11:32:17.561Z"
   },
   {
    "duration": 35,
    "start_time": "2023-05-22T11:32:17.619Z"
   },
   {
    "duration": 146,
    "start_time": "2023-05-22T11:32:17.656Z"
   },
   {
    "duration": 0,
    "start_time": "2023-05-22T11:32:17.804Z"
   },
   {
    "duration": 0,
    "start_time": "2023-05-22T11:32:17.805Z"
   },
   {
    "duration": 0,
    "start_time": "2023-05-22T11:32:17.807Z"
   },
   {
    "duration": 0,
    "start_time": "2023-05-22T11:32:17.808Z"
   },
   {
    "duration": 0,
    "start_time": "2023-05-22T11:32:17.812Z"
   },
   {
    "duration": 0,
    "start_time": "2023-05-22T11:32:17.813Z"
   },
   {
    "duration": 0,
    "start_time": "2023-05-22T11:32:17.815Z"
   },
   {
    "duration": 0,
    "start_time": "2023-05-22T11:32:17.816Z"
   },
   {
    "duration": 0,
    "start_time": "2023-05-22T11:32:17.817Z"
   },
   {
    "duration": 0,
    "start_time": "2023-05-22T11:32:17.819Z"
   },
   {
    "duration": 0,
    "start_time": "2023-05-22T11:32:17.820Z"
   },
   {
    "duration": 0,
    "start_time": "2023-05-22T11:32:17.821Z"
   },
   {
    "duration": 17,
    "start_time": "2023-05-22T11:34:39.268Z"
   },
   {
    "duration": 67,
    "start_time": "2023-05-22T11:35:12.887Z"
   },
   {
    "duration": 261,
    "start_time": "2023-05-22T11:35:17.751Z"
   },
   {
    "duration": 1585,
    "start_time": "2023-05-22T11:36:03.986Z"
   },
   {
    "duration": 89,
    "start_time": "2023-05-22T11:36:05.573Z"
   },
   {
    "duration": 4,
    "start_time": "2023-05-22T11:36:05.664Z"
   },
   {
    "duration": 93,
    "start_time": "2023-05-22T11:36:05.671Z"
   },
   {
    "duration": 4,
    "start_time": "2023-05-22T11:36:05.766Z"
   },
   {
    "duration": 69,
    "start_time": "2023-05-22T11:36:05.772Z"
   },
   {
    "duration": 31,
    "start_time": "2023-05-22T11:36:05.843Z"
   },
   {
    "duration": 78,
    "start_time": "2023-05-22T11:36:05.876Z"
   },
   {
    "duration": 28,
    "start_time": "2023-05-22T11:36:05.956Z"
   },
   {
    "duration": 21,
    "start_time": "2023-05-22T11:36:06.000Z"
   },
   {
    "duration": 32,
    "start_time": "2023-05-22T11:36:06.023Z"
   },
   {
    "duration": 22,
    "start_time": "2023-05-22T11:36:06.057Z"
   },
   {
    "duration": 104,
    "start_time": "2023-05-22T11:36:06.081Z"
   },
   {
    "duration": 11,
    "start_time": "2023-05-22T11:36:06.187Z"
   },
   {
    "duration": 43,
    "start_time": "2023-05-22T11:36:06.200Z"
   },
   {
    "duration": 22,
    "start_time": "2023-05-22T11:36:06.244Z"
   },
   {
    "duration": 27,
    "start_time": "2023-05-22T11:36:06.268Z"
   },
   {
    "duration": 52,
    "start_time": "2023-05-22T11:36:06.297Z"
   },
   {
    "duration": 17,
    "start_time": "2023-05-22T11:36:06.351Z"
   },
   {
    "duration": 14,
    "start_time": "2023-05-22T11:36:06.370Z"
   },
   {
    "duration": 26,
    "start_time": "2023-05-22T11:36:06.386Z"
   },
   {
    "duration": 54,
    "start_time": "2023-05-22T11:36:06.413Z"
   },
   {
    "duration": 41,
    "start_time": "2023-05-22T11:36:06.469Z"
   },
   {
    "duration": 19,
    "start_time": "2023-05-22T11:36:06.514Z"
   },
   {
    "duration": 11,
    "start_time": "2023-05-22T11:36:06.534Z"
   },
   {
    "duration": 236,
    "start_time": "2023-05-22T11:36:06.547Z"
   },
   {
    "duration": 21,
    "start_time": "2023-05-22T11:36:06.785Z"
   },
   {
    "duration": 45,
    "start_time": "2023-05-22T11:36:06.815Z"
   },
   {
    "duration": 136,
    "start_time": "2023-05-22T11:36:06.862Z"
   },
   {
    "duration": 13,
    "start_time": "2023-05-22T11:36:07.009Z"
   },
   {
    "duration": 40,
    "start_time": "2023-05-22T11:36:07.025Z"
   },
   {
    "duration": 384,
    "start_time": "2023-05-22T11:36:07.068Z"
   },
   {
    "duration": 311,
    "start_time": "2023-05-22T11:36:07.454Z"
   },
   {
    "duration": 15,
    "start_time": "2023-05-22T11:36:07.766Z"
   },
   {
    "duration": 508,
    "start_time": "2023-05-22T11:36:07.783Z"
   },
   {
    "duration": 18,
    "start_time": "2023-05-22T11:36:08.293Z"
   },
   {
    "duration": 406,
    "start_time": "2023-05-22T11:36:08.321Z"
   },
   {
    "duration": 364,
    "start_time": "2023-05-22T11:36:08.729Z"
   },
   {
    "duration": 39,
    "start_time": "2023-05-22T11:36:09.095Z"
   },
   {
    "duration": 389,
    "start_time": "2023-05-22T11:36:09.136Z"
   },
   {
    "duration": 19,
    "start_time": "2023-05-22T11:36:09.531Z"
   },
   {
    "duration": 19,
    "start_time": "2023-05-22T11:36:09.552Z"
   },
   {
    "duration": 35,
    "start_time": "2023-05-22T11:36:09.572Z"
   },
   {
    "duration": 29,
    "start_time": "2023-05-22T11:36:09.610Z"
   },
   {
    "duration": 41,
    "start_time": "2023-05-22T11:36:09.641Z"
   },
   {
    "duration": 28,
    "start_time": "2023-05-22T11:36:09.684Z"
   },
   {
    "duration": 29,
    "start_time": "2023-05-22T11:36:09.714Z"
   },
   {
    "duration": 562,
    "start_time": "2023-05-22T11:36:09.744Z"
   },
   {
    "duration": 2606,
    "start_time": "2023-05-22T11:36:10.310Z"
   },
   {
    "duration": 11,
    "start_time": "2023-05-22T11:36:12.921Z"
   },
   {
    "duration": 107,
    "start_time": "2023-05-22T11:36:12.934Z"
   },
   {
    "duration": 83,
    "start_time": "2023-05-22T11:36:13.045Z"
   },
   {
    "duration": 42,
    "start_time": "2023-05-22T11:36:13.130Z"
   },
   {
    "duration": 43,
    "start_time": "2023-05-22T11:36:13.174Z"
   },
   {
    "duration": 27,
    "start_time": "2023-05-22T11:36:13.219Z"
   },
   {
    "duration": 25,
    "start_time": "2023-05-22T11:36:13.248Z"
   },
   {
    "duration": 58,
    "start_time": "2023-05-22T11:36:13.276Z"
   },
   {
    "duration": 21,
    "start_time": "2023-05-22T11:36:13.340Z"
   },
   {
    "duration": 31,
    "start_time": "2023-05-22T11:36:13.363Z"
   },
   {
    "duration": 82,
    "start_time": "2023-05-22T11:36:13.398Z"
   },
   {
    "duration": 291,
    "start_time": "2023-05-22T11:36:13.483Z"
   },
   {
    "duration": 41,
    "start_time": "2023-05-22T11:36:13.776Z"
   },
   {
    "duration": 318,
    "start_time": "2023-05-22T11:36:13.819Z"
   },
   {
    "duration": 2360,
    "start_time": "2023-05-22T11:36:14.139Z"
   },
   {
    "duration": 0,
    "start_time": "2023-05-22T11:36:16.501Z"
   },
   {
    "duration": 0,
    "start_time": "2023-05-22T11:36:16.508Z"
   },
   {
    "duration": 0,
    "start_time": "2023-05-22T11:36:16.509Z"
   },
   {
    "duration": 0,
    "start_time": "2023-05-22T11:36:16.510Z"
   },
   {
    "duration": 0,
    "start_time": "2023-05-22T11:36:16.511Z"
   },
   {
    "duration": 0,
    "start_time": "2023-05-22T11:36:16.512Z"
   },
   {
    "duration": 0,
    "start_time": "2023-05-22T11:36:16.513Z"
   },
   {
    "duration": 16,
    "start_time": "2023-05-22T11:37:11.257Z"
   },
   {
    "duration": 19,
    "start_time": "2023-05-22T11:38:52.533Z"
   },
   {
    "duration": 14,
    "start_time": "2023-05-22T11:40:22.644Z"
   },
   {
    "duration": 248,
    "start_time": "2023-05-22T11:41:12.233Z"
   },
   {
    "duration": 270,
    "start_time": "2023-05-22T11:41:20.630Z"
   },
   {
    "duration": 18,
    "start_time": "2023-05-22T11:41:30.837Z"
   },
   {
    "duration": 18,
    "start_time": "2023-05-22T11:41:37.672Z"
   },
   {
    "duration": 35,
    "start_time": "2023-05-22T11:41:41.977Z"
   },
   {
    "duration": 6,
    "start_time": "2023-05-22T11:42:12.722Z"
   },
   {
    "duration": 256,
    "start_time": "2023-05-22T11:44:22.335Z"
   },
   {
    "duration": 2273,
    "start_time": "2023-05-22T11:44:56.684Z"
   },
   {
    "duration": 1574,
    "start_time": "2023-05-22T11:45:33.715Z"
   },
   {
    "duration": 99,
    "start_time": "2023-05-22T11:45:35.291Z"
   },
   {
    "duration": 5,
    "start_time": "2023-05-22T11:45:35.392Z"
   },
   {
    "duration": 168,
    "start_time": "2023-05-22T11:45:35.415Z"
   },
   {
    "duration": 52,
    "start_time": "2023-05-22T11:45:35.588Z"
   },
   {
    "duration": 25,
    "start_time": "2023-05-22T11:45:35.643Z"
   },
   {
    "duration": 22,
    "start_time": "2023-05-22T11:45:35.671Z"
   },
   {
    "duration": 126,
    "start_time": "2023-05-22T11:45:35.695Z"
   },
   {
    "duration": 27,
    "start_time": "2023-05-22T11:45:35.823Z"
   },
   {
    "duration": 39,
    "start_time": "2023-05-22T11:45:35.852Z"
   },
   {
    "duration": 13,
    "start_time": "2023-05-22T11:45:35.893Z"
   },
   {
    "duration": 79,
    "start_time": "2023-05-22T11:45:35.908Z"
   },
   {
    "duration": 62,
    "start_time": "2023-05-22T11:45:35.989Z"
   },
   {
    "duration": 24,
    "start_time": "2023-05-22T11:45:36.056Z"
   },
   {
    "duration": 6,
    "start_time": "2023-05-22T11:45:36.081Z"
   },
   {
    "duration": 24,
    "start_time": "2023-05-22T11:45:36.089Z"
   },
   {
    "duration": 53,
    "start_time": "2023-05-22T11:45:36.115Z"
   },
   {
    "duration": 15,
    "start_time": "2023-05-22T11:45:36.170Z"
   },
   {
    "duration": 6,
    "start_time": "2023-05-22T11:45:36.187Z"
   },
   {
    "duration": 71,
    "start_time": "2023-05-22T11:45:36.195Z"
   },
   {
    "duration": 16,
    "start_time": "2023-05-22T11:45:36.269Z"
   },
   {
    "duration": 51,
    "start_time": "2023-05-22T11:45:36.287Z"
   },
   {
    "duration": 41,
    "start_time": "2023-05-22T11:45:36.342Z"
   },
   {
    "duration": 16,
    "start_time": "2023-05-22T11:45:36.385Z"
   },
   {
    "duration": 44,
    "start_time": "2023-05-22T11:45:36.403Z"
   },
   {
    "duration": 307,
    "start_time": "2023-05-22T11:45:36.450Z"
   },
   {
    "duration": 22,
    "start_time": "2023-05-22T11:45:36.762Z"
   },
   {
    "duration": 67,
    "start_time": "2023-05-22T11:45:36.807Z"
   },
   {
    "duration": 127,
    "start_time": "2023-05-22T11:45:36.876Z"
   },
   {
    "duration": 16,
    "start_time": "2023-05-22T11:45:37.010Z"
   },
   {
    "duration": 40,
    "start_time": "2023-05-22T11:45:37.028Z"
   },
   {
    "duration": 449,
    "start_time": "2023-05-22T11:45:37.072Z"
   },
   {
    "duration": 337,
    "start_time": "2023-05-22T11:45:37.528Z"
   },
   {
    "duration": 15,
    "start_time": "2023-05-22T11:45:37.868Z"
   },
   {
    "duration": 541,
    "start_time": "2023-05-22T11:45:37.914Z"
   },
   {
    "duration": 5,
    "start_time": "2023-05-22T11:45:38.458Z"
   },
   {
    "duration": 413,
    "start_time": "2023-05-22T11:45:38.464Z"
   },
   {
    "duration": 408,
    "start_time": "2023-05-22T11:45:38.880Z"
   },
   {
    "duration": 50,
    "start_time": "2023-05-22T11:45:39.290Z"
   },
   {
    "duration": 414,
    "start_time": "2023-05-22T11:45:39.347Z"
   },
   {
    "duration": 17,
    "start_time": "2023-05-22T11:45:39.766Z"
   },
   {
    "duration": 58,
    "start_time": "2023-05-22T11:45:39.786Z"
   },
   {
    "duration": 21,
    "start_time": "2023-05-22T11:45:39.847Z"
   },
   {
    "duration": 8,
    "start_time": "2023-05-22T11:45:39.870Z"
   },
   {
    "duration": 77,
    "start_time": "2023-05-22T11:45:39.880Z"
   },
   {
    "duration": 22,
    "start_time": "2023-05-22T11:45:39.959Z"
   },
   {
    "duration": 41,
    "start_time": "2023-05-22T11:45:39.983Z"
   },
   {
    "duration": 451,
    "start_time": "2023-05-22T11:45:40.026Z"
   },
   {
    "duration": 1089,
    "start_time": "2023-05-22T11:45:40.479Z"
   },
   {
    "duration": 8,
    "start_time": "2023-05-22T11:45:41.571Z"
   },
   {
    "duration": 58,
    "start_time": "2023-05-22T11:45:41.580Z"
   },
   {
    "duration": 46,
    "start_time": "2023-05-22T11:45:41.644Z"
   },
   {
    "duration": 46,
    "start_time": "2023-05-22T11:45:41.700Z"
   },
   {
    "duration": 53,
    "start_time": "2023-05-22T11:45:41.750Z"
   },
   {
    "duration": 37,
    "start_time": "2023-05-22T11:45:41.806Z"
   },
   {
    "duration": 28,
    "start_time": "2023-05-22T11:45:41.852Z"
   },
   {
    "duration": 66,
    "start_time": "2023-05-22T11:45:41.881Z"
   },
   {
    "duration": 21,
    "start_time": "2023-05-22T11:45:41.951Z"
   },
   {
    "duration": 38,
    "start_time": "2023-05-22T11:45:41.974Z"
   },
   {
    "duration": 72,
    "start_time": "2023-05-22T11:45:42.022Z"
   },
   {
    "duration": 427,
    "start_time": "2023-05-22T11:45:42.096Z"
   },
   {
    "duration": 0,
    "start_time": "2023-05-22T11:45:42.525Z"
   },
   {
    "duration": 0,
    "start_time": "2023-05-22T11:45:42.527Z"
   },
   {
    "duration": 0,
    "start_time": "2023-05-22T11:45:42.529Z"
   },
   {
    "duration": 0,
    "start_time": "2023-05-22T11:45:42.530Z"
   },
   {
    "duration": 0,
    "start_time": "2023-05-22T11:45:42.532Z"
   },
   {
    "duration": 0,
    "start_time": "2023-05-22T11:45:42.533Z"
   },
   {
    "duration": 0,
    "start_time": "2023-05-22T11:45:42.534Z"
   },
   {
    "duration": 0,
    "start_time": "2023-05-22T11:45:42.536Z"
   },
   {
    "duration": 0,
    "start_time": "2023-05-22T11:45:42.537Z"
   },
   {
    "duration": 0,
    "start_time": "2023-05-22T11:45:42.539Z"
   },
   {
    "duration": 299,
    "start_time": "2023-05-22T11:46:10.081Z"
   },
   {
    "duration": 1889,
    "start_time": "2023-05-22T11:46:24.078Z"
   },
   {
    "duration": 107,
    "start_time": "2023-05-22T11:46:25.970Z"
   },
   {
    "duration": 4,
    "start_time": "2023-05-22T11:46:26.079Z"
   },
   {
    "duration": 92,
    "start_time": "2023-05-22T11:46:26.086Z"
   },
   {
    "duration": 4,
    "start_time": "2023-05-22T11:46:26.180Z"
   },
   {
    "duration": 14,
    "start_time": "2023-05-22T11:46:26.186Z"
   },
   {
    "duration": 69,
    "start_time": "2023-05-22T11:46:26.202Z"
   },
   {
    "duration": 96,
    "start_time": "2023-05-22T11:46:26.273Z"
   },
   {
    "duration": 62,
    "start_time": "2023-05-22T11:46:26.372Z"
   },
   {
    "duration": 20,
    "start_time": "2023-05-22T11:46:26.443Z"
   },
   {
    "duration": 8,
    "start_time": "2023-05-22T11:46:26.466Z"
   },
   {
    "duration": 50,
    "start_time": "2023-05-22T11:46:26.477Z"
   },
   {
    "duration": 116,
    "start_time": "2023-05-22T11:46:26.534Z"
   },
   {
    "duration": 45,
    "start_time": "2023-05-22T11:46:26.652Z"
   },
   {
    "duration": 73,
    "start_time": "2023-05-22T11:46:26.699Z"
   },
   {
    "duration": 25,
    "start_time": "2023-05-22T11:46:26.775Z"
   },
   {
    "duration": 74,
    "start_time": "2023-05-22T11:46:26.802Z"
   },
   {
    "duration": 25,
    "start_time": "2023-05-22T11:46:26.879Z"
   },
   {
    "duration": 53,
    "start_time": "2023-05-22T11:46:26.913Z"
   },
   {
    "duration": 14,
    "start_time": "2023-05-22T11:46:26.969Z"
   },
   {
    "duration": 22,
    "start_time": "2023-05-22T11:46:26.985Z"
   },
   {
    "duration": 84,
    "start_time": "2023-05-22T11:46:27.009Z"
   },
   {
    "duration": 110,
    "start_time": "2023-05-22T11:46:27.096Z"
   },
   {
    "duration": 35,
    "start_time": "2023-05-22T11:46:27.215Z"
   },
   {
    "duration": 75,
    "start_time": "2023-05-22T11:46:27.251Z"
   },
   {
    "duration": 323,
    "start_time": "2023-05-22T11:46:27.328Z"
   },
   {
    "duration": 10,
    "start_time": "2023-05-22T11:46:27.653Z"
   },
   {
    "duration": 17,
    "start_time": "2023-05-22T11:46:27.668Z"
   },
   {
    "duration": 182,
    "start_time": "2023-05-22T11:46:27.687Z"
   },
   {
    "duration": 6,
    "start_time": "2023-05-22T11:46:27.871Z"
   },
   {
    "duration": 26,
    "start_time": "2023-05-22T11:46:27.879Z"
   },
   {
    "duration": 394,
    "start_time": "2023-05-22T11:46:27.907Z"
   },
   {
    "duration": 329,
    "start_time": "2023-05-22T11:46:28.303Z"
   },
   {
    "duration": 23,
    "start_time": "2023-05-22T11:46:28.638Z"
   },
   {
    "duration": 1190,
    "start_time": "2023-05-22T11:46:28.663Z"
   },
   {
    "duration": 9,
    "start_time": "2023-05-22T11:46:29.860Z"
   },
   {
    "duration": 1139,
    "start_time": "2023-05-22T11:46:29.900Z"
   },
   {
    "duration": 801,
    "start_time": "2023-05-22T11:46:31.042Z"
   },
   {
    "duration": 39,
    "start_time": "2023-05-22T11:46:31.846Z"
   },
   {
    "duration": 489,
    "start_time": "2023-05-22T11:46:31.887Z"
   },
   {
    "duration": 28,
    "start_time": "2023-05-22T11:46:32.378Z"
   },
   {
    "duration": 58,
    "start_time": "2023-05-22T11:46:32.408Z"
   },
   {
    "duration": 14,
    "start_time": "2023-05-22T11:46:32.468Z"
   },
   {
    "duration": 40,
    "start_time": "2023-05-22T11:46:32.483Z"
   },
   {
    "duration": 153,
    "start_time": "2023-05-22T11:46:32.527Z"
   },
   {
    "duration": 42,
    "start_time": "2023-05-22T11:46:32.682Z"
   },
   {
    "duration": 42,
    "start_time": "2023-05-22T11:46:32.733Z"
   },
   {
    "duration": 462,
    "start_time": "2023-05-22T11:46:32.776Z"
   },
   {
    "duration": 1034,
    "start_time": "2023-05-22T11:46:33.240Z"
   },
   {
    "duration": 6,
    "start_time": "2023-05-22T11:46:34.276Z"
   },
   {
    "duration": 83,
    "start_time": "2023-05-22T11:46:34.284Z"
   },
   {
    "duration": 30,
    "start_time": "2023-05-22T11:46:34.369Z"
   },
   {
    "duration": 37,
    "start_time": "2023-05-22T11:46:34.407Z"
   },
   {
    "duration": 29,
    "start_time": "2023-05-22T11:46:34.445Z"
   },
   {
    "duration": 42,
    "start_time": "2023-05-22T11:46:34.476Z"
   },
   {
    "duration": 45,
    "start_time": "2023-05-22T11:46:34.521Z"
   },
   {
    "duration": 25,
    "start_time": "2023-05-22T11:46:34.568Z"
   },
   {
    "duration": 58,
    "start_time": "2023-05-22T11:46:34.596Z"
   },
   {
    "duration": 42,
    "start_time": "2023-05-22T11:46:34.665Z"
   },
   {
    "duration": 116,
    "start_time": "2023-05-22T11:46:34.709Z"
   },
   {
    "duration": 280,
    "start_time": "2023-05-22T11:46:34.827Z"
   },
   {
    "duration": 32,
    "start_time": "2023-05-22T11:46:35.110Z"
   },
   {
    "duration": 314,
    "start_time": "2023-05-22T11:46:35.143Z"
   },
   {
    "duration": 4301,
    "start_time": "2023-05-22T11:46:35.470Z"
   },
   {
    "duration": 0,
    "start_time": "2023-05-22T11:46:39.773Z"
   },
   {
    "duration": 0,
    "start_time": "2023-05-22T11:46:39.774Z"
   },
   {
    "duration": 0,
    "start_time": "2023-05-22T11:46:39.775Z"
   },
   {
    "duration": 0,
    "start_time": "2023-05-22T11:46:39.777Z"
   },
   {
    "duration": 0,
    "start_time": "2023-05-22T11:46:39.777Z"
   },
   {
    "duration": 0,
    "start_time": "2023-05-22T11:46:39.779Z"
   },
   {
    "duration": 0,
    "start_time": "2023-05-22T11:46:39.780Z"
   },
   {
    "duration": 13,
    "start_time": "2023-05-22T11:50:14.442Z"
   },
   {
    "duration": 23,
    "start_time": "2023-05-22T11:53:18.695Z"
   },
   {
    "duration": 15,
    "start_time": "2023-05-22T11:53:37.658Z"
   },
   {
    "duration": 15,
    "start_time": "2023-05-22T11:54:11.440Z"
   },
   {
    "duration": 17,
    "start_time": "2023-05-22T11:54:36.078Z"
   },
   {
    "duration": 2720,
    "start_time": "2023-05-22T11:55:24.058Z"
   },
   {
    "duration": 1481,
    "start_time": "2023-05-22T11:56:24.868Z"
   },
   {
    "duration": 86,
    "start_time": "2023-05-22T11:56:26.351Z"
   },
   {
    "duration": 3,
    "start_time": "2023-05-22T11:56:26.440Z"
   },
   {
    "duration": 74,
    "start_time": "2023-05-22T11:56:26.446Z"
   },
   {
    "duration": 6,
    "start_time": "2023-05-22T11:56:26.530Z"
   },
   {
    "duration": 7,
    "start_time": "2023-05-22T11:56:26.541Z"
   },
   {
    "duration": 15,
    "start_time": "2023-05-22T11:56:26.550Z"
   },
   {
    "duration": 62,
    "start_time": "2023-05-22T11:56:26.567Z"
   },
   {
    "duration": 26,
    "start_time": "2023-05-22T11:56:26.631Z"
   },
   {
    "duration": 13,
    "start_time": "2023-05-22T11:56:26.659Z"
   },
   {
    "duration": 8,
    "start_time": "2023-05-22T11:56:26.700Z"
   },
   {
    "duration": 52,
    "start_time": "2023-05-22T11:56:26.711Z"
   },
   {
    "duration": 48,
    "start_time": "2023-05-22T11:56:26.765Z"
   },
   {
    "duration": 17,
    "start_time": "2023-05-22T11:56:26.818Z"
   },
   {
    "duration": 18,
    "start_time": "2023-05-22T11:56:26.838Z"
   },
   {
    "duration": 15,
    "start_time": "2023-05-22T11:56:26.858Z"
   },
   {
    "duration": 12,
    "start_time": "2023-05-22T11:56:26.874Z"
   },
   {
    "duration": 29,
    "start_time": "2023-05-22T11:56:26.888Z"
   },
   {
    "duration": 30,
    "start_time": "2023-05-22T11:56:26.919Z"
   },
   {
    "duration": 16,
    "start_time": "2023-05-22T11:56:26.950Z"
   },
   {
    "duration": 22,
    "start_time": "2023-05-22T11:56:26.968Z"
   },
   {
    "duration": 70,
    "start_time": "2023-05-22T11:56:26.993Z"
   },
   {
    "duration": 44,
    "start_time": "2023-05-22T11:56:27.065Z"
   },
   {
    "duration": 14,
    "start_time": "2023-05-22T11:56:27.111Z"
   },
   {
    "duration": 25,
    "start_time": "2023-05-22T11:56:27.127Z"
   },
   {
    "duration": 334,
    "start_time": "2023-05-22T11:56:27.154Z"
   },
   {
    "duration": 15,
    "start_time": "2023-05-22T11:56:27.490Z"
   },
   {
    "duration": 60,
    "start_time": "2023-05-22T11:56:27.507Z"
   },
   {
    "duration": 143,
    "start_time": "2023-05-22T11:56:27.569Z"
   },
   {
    "duration": 22,
    "start_time": "2023-05-22T11:56:27.716Z"
   },
   {
    "duration": 23,
    "start_time": "2023-05-22T11:56:27.741Z"
   },
   {
    "duration": 383,
    "start_time": "2023-05-22T11:56:27.766Z"
   },
   {
    "duration": 311,
    "start_time": "2023-05-22T11:56:28.151Z"
   },
   {
    "duration": 17,
    "start_time": "2023-05-22T11:56:28.464Z"
   },
   {
    "duration": 643,
    "start_time": "2023-05-22T11:56:28.483Z"
   },
   {
    "duration": 11,
    "start_time": "2023-05-22T11:56:29.128Z"
   },
   {
    "duration": 456,
    "start_time": "2023-05-22T11:56:29.151Z"
   },
   {
    "duration": 517,
    "start_time": "2023-05-22T11:56:29.615Z"
   },
   {
    "duration": 37,
    "start_time": "2023-05-22T11:56:30.134Z"
   },
   {
    "duration": 419,
    "start_time": "2023-05-22T11:56:30.173Z"
   },
   {
    "duration": 27,
    "start_time": "2023-05-22T11:56:30.597Z"
   },
   {
    "duration": 85,
    "start_time": "2023-05-22T11:56:30.627Z"
   },
   {
    "duration": 72,
    "start_time": "2023-05-22T11:56:30.714Z"
   },
   {
    "duration": 93,
    "start_time": "2023-05-22T11:56:30.788Z"
   },
   {
    "duration": 149,
    "start_time": "2023-05-22T11:56:30.883Z"
   },
   {
    "duration": 74,
    "start_time": "2023-05-22T11:56:31.034Z"
   },
   {
    "duration": 80,
    "start_time": "2023-05-22T11:56:31.110Z"
   },
   {
    "duration": 581,
    "start_time": "2023-05-22T11:56:31.192Z"
   },
   {
    "duration": 1012,
    "start_time": "2023-05-22T11:56:31.776Z"
   },
   {
    "duration": 18,
    "start_time": "2023-05-22T11:56:32.790Z"
   },
   {
    "duration": 56,
    "start_time": "2023-05-22T11:56:32.812Z"
   },
   {
    "duration": 24,
    "start_time": "2023-05-22T11:56:32.870Z"
   },
   {
    "duration": 21,
    "start_time": "2023-05-22T11:56:32.895Z"
   },
   {
    "duration": 43,
    "start_time": "2023-05-22T11:56:32.920Z"
   },
   {
    "duration": 21,
    "start_time": "2023-05-22T11:56:32.965Z"
   },
   {
    "duration": 23,
    "start_time": "2023-05-22T11:56:32.988Z"
   },
   {
    "duration": 41,
    "start_time": "2023-05-22T11:56:33.013Z"
   },
   {
    "duration": 20,
    "start_time": "2023-05-22T11:56:33.056Z"
   },
   {
    "duration": 37,
    "start_time": "2023-05-22T11:56:33.077Z"
   },
   {
    "duration": 60,
    "start_time": "2023-05-22T11:56:33.116Z"
   },
   {
    "duration": 288,
    "start_time": "2023-05-22T11:56:33.178Z"
   },
   {
    "duration": 19,
    "start_time": "2023-05-22T11:56:33.467Z"
   },
   {
    "duration": 287,
    "start_time": "2023-05-22T11:56:33.487Z"
   },
   {
    "duration": 2592,
    "start_time": "2023-05-22T11:56:33.776Z"
   },
   {
    "duration": 31,
    "start_time": "2023-05-22T11:56:36.370Z"
   },
   {
    "duration": 21,
    "start_time": "2023-05-22T11:56:36.402Z"
   },
   {
    "duration": 39,
    "start_time": "2023-05-22T11:56:36.425Z"
   },
   {
    "duration": 9,
    "start_time": "2023-05-22T11:56:36.466Z"
   },
   {
    "duration": 4,
    "start_time": "2023-05-22T11:56:36.477Z"
   },
   {
    "duration": 33,
    "start_time": "2023-05-22T11:56:36.483Z"
   },
   {
    "duration": 26,
    "start_time": "2023-05-22T11:56:36.522Z"
   },
   {
    "duration": 366,
    "start_time": "2023-05-22T12:00:38.449Z"
   },
   {
    "duration": 279,
    "start_time": "2023-05-22T12:00:50.570Z"
   },
   {
    "duration": 290,
    "start_time": "2023-05-22T12:00:58.560Z"
   },
   {
    "duration": 1314,
    "start_time": "2023-05-23T09:12:16.924Z"
   },
   {
    "duration": 73,
    "start_time": "2023-05-23T09:12:18.241Z"
   },
   {
    "duration": 3,
    "start_time": "2023-05-23T09:12:18.316Z"
   },
   {
    "duration": 59,
    "start_time": "2023-05-23T09:12:18.321Z"
   },
   {
    "duration": 4,
    "start_time": "2023-05-23T09:12:18.381Z"
   },
   {
    "duration": 7,
    "start_time": "2023-05-23T09:12:18.387Z"
   },
   {
    "duration": 10,
    "start_time": "2023-05-23T09:12:18.396Z"
   },
   {
    "duration": 78,
    "start_time": "2023-05-23T09:12:18.408Z"
   },
   {
    "duration": 21,
    "start_time": "2023-05-23T09:12:18.488Z"
   },
   {
    "duration": 13,
    "start_time": "2023-05-23T09:12:18.512Z"
   },
   {
    "duration": 9,
    "start_time": "2023-05-23T09:12:18.526Z"
   },
   {
    "duration": 46,
    "start_time": "2023-05-23T09:12:18.537Z"
   },
   {
    "duration": 41,
    "start_time": "2023-05-23T09:12:18.585Z"
   },
   {
    "duration": 45,
    "start_time": "2023-05-23T09:12:18.628Z"
   },
   {
    "duration": 6,
    "start_time": "2023-05-23T09:12:18.675Z"
   },
   {
    "duration": 15,
    "start_time": "2023-05-23T09:12:18.683Z"
   },
   {
    "duration": 33,
    "start_time": "2023-05-23T09:12:18.700Z"
   },
   {
    "duration": 17,
    "start_time": "2023-05-23T09:12:18.735Z"
   },
   {
    "duration": 6,
    "start_time": "2023-05-23T09:12:18.754Z"
   },
   {
    "duration": 11,
    "start_time": "2023-05-23T09:12:18.762Z"
   },
   {
    "duration": 24,
    "start_time": "2023-05-23T09:12:18.775Z"
   },
   {
    "duration": 15,
    "start_time": "2023-05-23T09:12:18.801Z"
   },
   {
    "duration": 37,
    "start_time": "2023-05-23T09:12:18.818Z"
   },
   {
    "duration": 13,
    "start_time": "2023-05-23T09:12:18.871Z"
   },
   {
    "duration": 6,
    "start_time": "2023-05-23T09:12:18.886Z"
   },
   {
    "duration": 228,
    "start_time": "2023-05-23T09:12:18.893Z"
   },
   {
    "duration": 8,
    "start_time": "2023-05-23T09:12:19.123Z"
   },
   {
    "duration": 12,
    "start_time": "2023-05-23T09:12:19.135Z"
   },
   {
    "duration": 107,
    "start_time": "2023-05-23T09:12:19.149Z"
   },
   {
    "duration": 14,
    "start_time": "2023-05-23T09:12:19.257Z"
   },
   {
    "duration": 26,
    "start_time": "2023-05-23T09:12:19.273Z"
   },
   {
    "duration": 277,
    "start_time": "2023-05-23T09:12:19.301Z"
   },
   {
    "duration": 266,
    "start_time": "2023-05-23T09:12:19.580Z"
   },
   {
    "duration": 25,
    "start_time": "2023-05-23T09:12:19.848Z"
   },
   {
    "duration": 454,
    "start_time": "2023-05-23T09:12:19.874Z"
   },
   {
    "duration": 6,
    "start_time": "2023-05-23T09:12:20.330Z"
   },
   {
    "duration": 369,
    "start_time": "2023-05-23T09:12:20.338Z"
   },
   {
    "duration": 386,
    "start_time": "2023-05-23T09:12:20.709Z"
   },
   {
    "duration": 28,
    "start_time": "2023-05-23T09:12:21.098Z"
   },
   {
    "duration": 374,
    "start_time": "2023-05-23T09:12:21.129Z"
   },
   {
    "duration": 16,
    "start_time": "2023-05-23T09:12:21.505Z"
   },
   {
    "duration": 21,
    "start_time": "2023-05-23T09:12:21.524Z"
   },
   {
    "duration": 41,
    "start_time": "2023-05-23T09:12:21.547Z"
   },
   {
    "duration": 27,
    "start_time": "2023-05-23T09:12:21.590Z"
   },
   {
    "duration": 84,
    "start_time": "2023-05-23T09:12:21.619Z"
   },
   {
    "duration": 42,
    "start_time": "2023-05-23T09:12:21.705Z"
   },
   {
    "duration": 46,
    "start_time": "2023-05-23T09:12:21.748Z"
   },
   {
    "duration": 359,
    "start_time": "2023-05-23T09:12:21.797Z"
   },
   {
    "duration": 884,
    "start_time": "2023-05-23T09:12:22.158Z"
   },
   {
    "duration": 7,
    "start_time": "2023-05-23T09:12:23.045Z"
   },
   {
    "duration": 41,
    "start_time": "2023-05-23T09:12:23.054Z"
   },
   {
    "duration": 26,
    "start_time": "2023-05-23T09:12:23.097Z"
   },
   {
    "duration": 19,
    "start_time": "2023-05-23T09:12:23.125Z"
   },
   {
    "duration": 44,
    "start_time": "2023-05-23T09:12:23.146Z"
   },
   {
    "duration": 22,
    "start_time": "2023-05-23T09:12:23.191Z"
   },
   {
    "duration": 22,
    "start_time": "2023-05-23T09:12:23.216Z"
   },
   {
    "duration": 49,
    "start_time": "2023-05-23T09:12:23.240Z"
   },
   {
    "duration": 23,
    "start_time": "2023-05-23T09:12:23.290Z"
   },
   {
    "duration": 58,
    "start_time": "2023-05-23T09:12:23.315Z"
   },
   {
    "duration": 47,
    "start_time": "2023-05-23T09:12:23.375Z"
   },
   {
    "duration": 227,
    "start_time": "2023-05-23T09:12:23.424Z"
   },
   {
    "duration": 28,
    "start_time": "2023-05-23T09:12:23.653Z"
   },
   {
    "duration": 256,
    "start_time": "2023-05-23T09:12:23.683Z"
   },
   {
    "duration": 2436,
    "start_time": "2023-05-23T09:12:23.941Z"
   },
   {
    "duration": 18,
    "start_time": "2023-05-23T09:12:26.379Z"
   },
   {
    "duration": 17,
    "start_time": "2023-05-23T09:12:26.398Z"
   },
   {
    "duration": 25,
    "start_time": "2023-05-23T09:12:26.417Z"
   },
   {
    "duration": 14,
    "start_time": "2023-05-23T09:12:26.470Z"
   },
   {
    "duration": 22,
    "start_time": "2023-05-23T09:12:26.487Z"
   },
   {
    "duration": 17,
    "start_time": "2023-05-23T09:12:26.510Z"
   },
   {
    "duration": 13,
    "start_time": "2023-05-23T09:12:26.529Z"
   }
  ],
  "celltoolbar": "Raw Cell Format",
  "kernelspec": {
   "display_name": "Python 3 (ipykernel)",
   "language": "python",
   "name": "python3"
  },
  "language_info": {
   "codemirror_mode": {
    "name": "ipython",
    "version": 3
   },
   "file_extension": ".py",
   "mimetype": "text/x-python",
   "name": "python",
   "nbconvert_exporter": "python",
   "pygments_lexer": "ipython3",
   "version": "3.11.4"
  },
  "toc": {
   "base_numbering": 1,
   "nav_menu": {},
   "number_sections": true,
   "sideBar": true,
   "skip_h1_title": true,
   "title_cell": "Table of Contents",
   "title_sidebar": "Contents",
   "toc_cell": false,
   "toc_position": {
    "height": "calc(100% - 180px)",
    "left": "10px",
    "top": "150px",
    "width": "319.875px"
   },
   "toc_section_display": true,
   "toc_window_display": true
  }
 },
 "nbformat": 4,
 "nbformat_minor": 5
}
